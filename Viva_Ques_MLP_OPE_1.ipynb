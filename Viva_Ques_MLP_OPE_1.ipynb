{
  "cells": [
    {
      "cell_type": "markdown",
      "metadata": {
        "id": "bSHa4Qp9XOl5"
      },
      "source": [
        "<!-- Q1- Q7: Anamika\n",
        "\n",
        "Q9-Q15: DJ\n",
        "\n",
        "Q16-Q24: Nitin\n",
        "\n",
        "Q25-Q29: Jimmi -->\n",
        "\n",
        "The datasets cn"
      ]
    },
    {
      "cell_type": "markdown",
      "source": [
        "# [0 Marks] Q1. Which dataset have you received:\n",
        "\n",
        "A) v1.csv\n",
        "\n",
        "B) v2.csv\n",
        "\n",
        "C) v3.csv\n",
        "\n",
        "D) v4.csv"
      ],
      "metadata": {
        "id": "yJi2MaoNhUG5"
      }
    },
    {
      "cell_type": "markdown",
      "metadata": {
        "id": "0pn3oum77nx_"
      },
      "source": [
        "There are four sets of this question set, as per each of the four datasets (v1, v2, v3, v4) that are input and hence there will be different answers for many questions depending on the datset input. "
      ]
    },
    {
      "cell_type": "code",
      "source": [],
      "metadata": {
        "id": "oPp-yj-yg__M"
      },
      "execution_count": null,
      "outputs": []
    },
    {
      "cell_type": "code",
      "execution_count": null,
      "metadata": {
        "id": "sMfPkkJ48rmx"
      },
      "outputs": [],
      "source": [
        "import numpy as np\n",
        "import pandas as pd\n",
        "import matplotlib.pyplot as plt\n",
        "import seaborn as sns"
      ]
    },
    {
      "cell_type": "markdown",
      "metadata": {
        "id": "nj5qp_iZ9fy6"
      },
      "source": [
        "#Preamble: Load the cars' dataset into your colab and explore it."
      ]
    },
    {
      "cell_type": "code",
      "execution_count": null,
      "metadata": {
        "colab": {
          "base_uri": "https://localhost:8080/",
          "height": 266,
          "resources": {
            "http://localhost:8080/nbextensions/google.colab/files.js": {
              "data": "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",
              "headers": [
                [
                  "content-type",
                  "application/javascript"
                ]
              ],
              "ok": true,
              "status": 200,
              "status_text": ""
            }
          }
        },
        "id": "Xf2LHIMt87Te",
        "outputId": "39d3fb3d-0f42-4280-da2e-ce15c33db3ff"
      },
      "outputs": [
        {
          "data": {
            "text/html": [
              "\n",
              "     <input type=\"file\" id=\"files-9309da02-4ea8-47c2-949a-6897478b7db9\" name=\"files[]\" multiple disabled\n",
              "        style=\"border:none\" />\n",
              "     <output id=\"result-9309da02-4ea8-47c2-949a-6897478b7db9\">\n",
              "      Upload widget is only available when the cell has been executed in the\n",
              "      current browser session. Please rerun this cell to enable.\n",
              "      </output>\n",
              "      <script src=\"/nbextensions/google.colab/files.js\"></script> "
            ],
            "text/plain": [
              "<IPython.core.display.HTML object>"
            ]
          },
          "metadata": {},
          "output_type": "display_data"
        },
        {
          "name": "stdout",
          "output_type": "stream",
          "text": [
            "Saving v1.csv to v1.csv\n",
            "Saving v2.csv to v2.csv\n",
            "Saving v3.csv to v3.csv\n",
            "Saving v4.csv to v4.csv\n"
          ]
        },
        {
          "data": {
            "text/plain": [
              "{'v1.csv': b'name,year,selling_price,km_driven,fuel,seller_type,transmission,owner,mileage,engine,max_power,seats\\nMaruti,2014,450000,145500,Diesel,Individual,Manual,First Owner,23.4,1248,74,5\\nSkoda,2014,370000,120000,Diesel,Individual,Manual,Second Owner,21.14,1498,103.52,5\\nHonda,2006,158000,140000,Petrol,Individual,Manual,Third Owner,17.7,1497,78,5\\nHyundai,2010,225000,127000,Diesel,Individual,Manual,First Owner,23,1396,90,5\\nMaruti,2007,130000,120000,Petrol,Individual,Manual,First Owner,16.1,1298,88.2,5\\nHyundai,2017,440000,45000,Petrol,Individual,Manual,First Owner,20.14,1197,81.86,5\\nMaruti,2007,96000,175000,LPG,Individual,Manual,First Owner,17.3,1061,57.5,5\\nMaruti,2001,45000,5000,Petrol,Individual,Manual,Second Owner,16.1,796,37,4\\nToyota,2011,350000,90000,Diesel,Individual,Manual,First Owner,23.59,1364,67.1,5\\nFord,2013,200000,169000,Diesel,Individual,Manual,First Owner,20,1399,68.1,5\\nRenault,2014,500000,68000,Diesel,Individual,Manual,Second Owner,19.01,1461,108.45,5\\nMaruti,2005,92000,100000,Petrol,Individual,Manual,Second Owner,17.3,993,60,5\\nMaruti,2009,280000,140000,Diesel,Individual,Manual,Second Owner,19.3,1248,73.9,5\\nMaruti,2007,200000,80000,Petrol,Individual,Manual,Second Owner,,,,\\nMaruti,2009,180000,90000,Petrol,Individual,Manual,Second Owner,18.9,1061,67,5\\nMahindra,2016,400000,40000,Petrol,Individual,Manual,First Owner,18.15,1198,82,5\\nMaruti,2016,778000,70000,Diesel,Individual,Manual,Second Owner,24.52,1248,88.5,7\\nHyundai,2012,500000,53000,Diesel,Individual,Manual,Second Owner,23,1396,90,5\\nMaruti,2002,150000,80000,Petrol,Individual,Manual,Second Owner,19.7,796,46.3,5\\nHyundai,2016,680000,100000,Diesel,Individual,Manual,First Owner,22.54,1396,88.73,5\\nMahindra,2011,174000,100000,Diesel,Individual,Manual,Second Owner,21,1461,64.1,5\\nHonda,2017,950000,50000,Diesel,Individual,Manual,First Owner,25.5,1498,98.6,5\\nMaruti,2015,525000,40000,Diesel,Individual,Manual,First Owner,26.59,1248,74,5\\nMaruti,2012,600000,72000,Diesel,Individual,Manual,First Owner,21.5,1248,88.8,5\\nTata,2018,500000,35000,Petrol,Individual,Manual,First Owner,20.3,1199,83.81,5\\nMaruti,2016,575000,45000,Petrol,Individual,Manual,First Owner,21.4,1197,83.1,5\\nMaruti,2017,275000,28000,Petrol,Individual,Manual,First Owner,24.7,796,47.3,5\\nChevrolet,2013,300000,70000,Diesel,Individual,Manual,First Owner,18.2,1248,73.8,7\\nMaruti,2009,220000,120000,Petrol,Individual,Manual,First Owner,18.9,1061,67,5\\nMaruti,2018,254999,25000,Petrol,Individual,Manual,First Owner,16.8,796,34.2,8\\nMaruti,2017,670000,70000,Diesel,Individual,Manual,First Owner,24.3,1248,88.5,5\\nFiat,2003,70000,50000,Petrol,Individual,Manual,Second Owner,,,,\\nMaruti,2012,150000,35000,Petrol,Individual,Manual,Second Owner,14,796,35,5\\nHyundai,2018,730000,2388,Petrol,Individual,Manual,First Owner,18.6,1197,81.83,5\\nMaruti,2017,650000,16200,Diesel,Individual,Manual,First Owner,24.3,1248,88.5,5\\nMaruti,2019,330000,10000,CNG,Individual,Manual,Second Owner,33.44,796,40.3,4\\nMaruti,2019,366000,15000,Petrol,Individual,Manual,First Owner,23.95,998,67.1,5\\nHyundai,2019,1149000,5000,Petrol,Individual,Manual,First Owner,17,1591,121.3,5\\nDatsun,2016,150000,42000,Petrol,Individual,Manual,First Owner,20.63,1198,67,5\\nTata,2011,425000,60000,Diesel,Individual,Manual,Second Owner,13.93,2179,138.03,7\\nMaruti,2012,150000,76000,Petrol,Individual,Manual,First Owner,16.1,796,37,4\\nJeep,2019,2100000,5000,Petrol,Individual,Automatic,First Owner,16,1368,160.77,5\\nHonda,2018,925000,28900,Petrol,Dealer,Manual,First Owner,17.8,1497,117.3,5\\nHonda,2013,425000,86300,Petrol,Dealer,Manual,First Owner,16.8,1497,116.3,5\\nMaruti,2018,675000,23300,Petrol,Dealer,Automatic,First Owner,18.5,1197,83.14,5\\nMaruti,2018,819999,32600,Diesel,Dealer,Manual,First Owner,24.3,1248,88.5,5\\nMaruti,2018,390000,10300,Petrol,Dealer,Manual,First Owner,23.95,998,67.05,5\\nToyota,2014,1500000,77000,Diesel,Dealer,Manual,First Owner,12.55,2982,168.5,7\\nToyota,2013,700000,99000,Diesel,Dealer,Manual,First Owner,12.99,2494,100,7\\nMercedes-Benz,2014,1450000,27800,Diesel,Dealer,Automatic,Second Owner,14.8,2143,120.7,5\\nHonda,2015,425000,49800,Diesel,Dealer,Manual,First Owner,24.7,1498,98.63,5\\nMitsubishi,2013,1090000,151000,Diesel,Dealer,Manual,First Owner,13.5,2477,175.56,7\\nHonda,2015,600000,54700,Diesel,Dealer,Manual,First Owner,26,1498,98.6,5\\nMaruti,2018,850000,64000,Petrol,Dealer,Manual,First Owner,20.65,1462,103.25,5\\nHonda,2015,525000,63000,Diesel,Dealer,Manual,First Owner,27.3,1498,98.6,5\\nToyota,2016,1650000,127700,Diesel,Dealer,Automatic,Second Owner,11.36,2755,171.5,7\\nToyota,2016,950000,99000,Diesel,Dealer,Manual,First Owner,12.99,2494,100.6,7\\nAudi,2013,1750000,33900,Diesel,Dealer,Automatic,Second Owner,17.68,1968,174.33,5\\nToyota,2018,1590000,25000,Petrol,Dealer,Automatic,First Owner,14.28,1798,138.03,5\\nAudi,2013,1689999,50000,Diesel,Dealer,Automatic,First Owner,18.53,1968,187.74,5\\nMercedes-Benz,2013,1425000,59000,Diesel,Dealer,Automatic,First Owner,14.84,2143,170,5\\nTata,2011,265000,120000,Diesel,Individual,Manual,First Owner,21.12,1248,88.8,5\\nHyundai,2011,190000,110000,Petrol,Individual,Manual,Third Owner,20.36,1197,78.9,5\\nHyundai,2013,425000,60000,Diesel,Individual,Manual,First Owner,21.27,1396,88.76,5\\nMaruti,2015,630000,147000,Diesel,Individual,Manual,Second Owner,26.59,1248,74,5\\nFord,2017,600000,25000,Petrol,Individual,Manual,Third Owner,18.16,1196,86.8,5\\nMaruti,2019,650000,30000,Petrol,Individual,Manual,First Owner,21.4,1197,83.1,5\\nVolkswagen,2016,540000,40000,Diesel,Individual,Manual,First Owner,22,1498,108.495,5\\nHonda,2015,630000,135000,Diesel,Individual,Manual,First Owner,25.1,1498,98.6,5\\nMaruti,2018,448000,30000,Petrol,Individual,Automatic,First Owner,20.51,998,67,5\\nVolkswagen,2017,500000,80000,Diesel,Individual,Manual,First Owner,21.66,1498,108.62,5\\nMaruti,2016,745000,70000,Diesel,Individual,Manual,First Owner,24.3,1248,88.5,5\\nMaruti,2019,1025000,9850,Diesel,Individual,Automatic,First Owner,24.3,1248,88.5,5\\nHyundai,2011,235000,60000,Petrol,Individual,Manual,Second Owner,20.36,1197,78.9,5\\nMaruti,2016,630000,70000,Diesel,Individual,Manual,First Owner,25.2,1248,74,5\\nToyota,2015,1700000,78000,Diesel,Individual,Manual,Second Owner,12.55,2982,168.5,7\\nMaruti,2013,450000,120000,Diesel,Individual,Manual,Second Owner,22.9,1248,74,5\\nMaruti,2012,450000,120000,Petrol,Individual,Manual,Second Owner,16.02,1373,93.7,7\\nTata,2003,50000,70000,Diesel,Individual,Manual,First Owner,,,,\\nVolkswagen,2013,450000,170000,Diesel,Individual,Manual,First Owner,20.54,1598,103.6,5\\nToyota,2016,1200000,140000,Diesel,Individual,Manual,First Owner,12.99,2494,100.6,8\\nFord,2015,610000,90000,Diesel,Individual,Manual,First Owner,22.77,1498,98.59,5\\nBMW,2016,2500000,30000,Petrol,Individual,Automatic,Second Owner,15.71,1998,189,5\\nMaruti,2017,484999,10000,Petrol,Dealer,Manual,First Owner,23.1,998,67.04,5\\nDatsun,2016,275000,49000,Petrol,Dealer,Manual,First Owner,19.02,1198,67.05,5\\nMaruti,2016,315000,32000,Petrol,Dealer,Manual,First Owner,24.7,796,47.3,5\\nMaruti,2016,275000,38000,Petrol,Dealer,Manual,First Owner,24.7,796,47.3,5\\nMaruti,2015,475000,78000,Diesel,Dealer,Manual,First Owner,,,,\\nHyundai,2012,290000,28000,Petrol,Dealer,Manual,First Owner,19.81,1086,68.05,5\\nMaruti,2017,280000,32000,Petrol,Dealer,Manual,First Owner,14,796,35,5\\nMaruti,2010,225000,44000,LPG,Dealer,Manual,First Owner,26.2,998,58.2,5\\nVolkswagen,2015,455000,42000,Petrol,Dealer,Manual,First Owner,16.47,1198,74,5\\nHyundai,2015,351000,45000,Petrol,Dealer,Manual,Second Owner,19.81,1086,68.05,5\\nVolkswagen,2012,535000,12000,Petrol,Dealer,Manual,Second Owner,15.04,1598,103.6,5\\nMaruti,2009,175000,55500,Petrol,Dealer,Manual,First Owner,18.2,998,67.1,5\\nHyundai,2013,525000,61500,Petrol,Dealer,Manual,First Owner,18.5,1197,82.85,5\\nMaruti,2016,600000,150000,Diesel,Individual,Manual,First Owner,26.59,1248,74,5\\nHyundai,2016,565000,72000,Petrol,Dealer,Automatic,First Owner,19.1,1197,82,5\\nMaruti,2008,120000,68000,Petrol,Dealer,Manual,Third Owner,19.7,796,46.3,5\\nHyundai,2017,725000,110000,Diesel,Individual,Manual,First Owner,22.54,1396,88.73,5\\nMaruti,2009,185000,77000,Petrol,Dealer,Manual,Second Owner,21.79,998,67.05,5\\nTata,2010,200000,100000,Diesel,Individual,Manual,Second Owner,18.8,1248,90,5\\nMaruti,2019,615000,10000,Petrol,Individual,Manual,First Owner,21.21,1197,81.8,5\\nMaruti,2016,270000,100000,Petrol,Individual,Manual,Third Owner,15.37,1196,73,7\\nMaruti,2018,610000,35000,Petrol,Individual,Manual,First Owner,21.4,1197,83.1,5\\nMahindra,2014,625000,70000,Diesel,Individual,Automatic,Second Owner,11.79,2179,120,8\\nFord,2020,400000,5000,Petrol,Individual,Manual,Second Owner,19,1194,94.68,5\\nHyundai,2017,866000,37800,Petrol,Individual,Manual,First Owner,17,1591,121.3,5\\nVolkswagen,2010,700000,114000,Petrol,Individual,Manual,First Owner,14.3,1798,160,5\\nTata,2010,300000,48000,Petrol,Individual,Manual,First Owner,15.8,1172,65,5\\nMahindra,2019,1700000,32000,Diesel,Individual,Manual,First Owner,15.1,2179,155,7\\nTata,2016,375000,100000,Diesel,Individual,Manual,First Owner,19.09,1405,69.01,5\\nHyundai,2013,522000,150000,Diesel,Individual,Manual,Second Owner,22.32,1582,126.32,5\\nHyundai,2013,451999,69000,Diesel,Individual,Manual,First Owner,21.9,1396,88.76,5\\nToyota,2009,300000,100000,Petrol,Individual,Manual,Second Owner,14.53,1798,138.1,5\\nMaruti,2020,475000,13000,Petrol,Individual,Manual,First Owner,21.63,998,67.04,5\\nMaruti,2016,780000,60000,Diesel,Individual,Manual,First Owner,24.3,1248,88.5,5\\nMaruti,2017,595000,40000,Petrol,Individual,Manual,First Owner,20.85,1197,83.14,5\\nMaruti,2017,440000,35000,Petrol,Individual,Manual,First Owner,20.51,998,67.04,5\\nMaruti,2010,300000,120000,Diesel,Individual,Manual,Second Owner,,,,\\nNissan,2014,400000,70000,Diesel,Individual,Manual,Third Owner,20.45,1461,83.8,5\\nHyundai,2016,1140000,50000,Diesel,Individual,Manual,First Owner,19.67,1582,126.2,5\\nFord,2017,850000,76139,Diesel,Individual,Manual,First Owner,23,1498,98.96,5\\nMaruti,2012,370000,175000,Diesel,Individual,Manual,Fourth & Above Owner,19.3,1248,73.9,5\\nRenault,2018,350000,25000,Petrol,Individual,Manual,First Owner,23.01,999,67,5\\nMaruti,2015,360000,40000,Petrol,Individual,Manual,Second Owner,23.1,998,67.04,5\\nMaruti,2008,105000,65000,Petrol,Individual,Manual,Fourth & Above Owner,19.7,796,46.3,5\\nMaruti,2013,625000,90000,Diesel,Individual,Manual,Second Owner,20.77,1248,88.76,7\\nHyundai,2009,135000,80000,Petrol,Individual,Manual,Second Owner,17.92,1086,62.1,5\\nMaruti,2015,700000,110000,Diesel,Individual,Manual,Second Owner,20.77,1248,88.76,7\\nHonda,2019,690000,1303,Petrol,Dealer,Manual,First Owner,17.8,1198,86.7,5\\nAudi,2018,3975000,31800,Diesel,Dealer,Automatic,First Owner,17.01,1968,188,5\\nLexus,2019,5150000,20000,Petrol,Dealer,Automatic,First Owner,22.37,2487,214.56,5\\nJaguar,2017,3200000,45000,Diesel,Dealer,Automatic,First Owner,19.33,1999,177,5\\nJeep,2017,4100000,17000,Petrol,Individual,Automatic,First Owner,9.5,3604,280,5\\nLand,2019,4500000,21000,Diesel,Dealer,Automatic,First Owner,12.83,1999,148.31,7\\nMercedes-Benz,2017,6000000,37000,Diesel,Dealer,Automatic,First Owner,13.5,2987,254.79,5\\nBMW,2018,3790000,29500,Diesel,Dealer,Automatic,First Owner,22.48,1995,187.74,5\\nBMW,2017,2150000,27000,Diesel,Dealer,Automatic,First Owner,,,,\\nBMW,2019,5800000,7500,Diesel,Dealer,Automatic,First Owner,16.78,1995,190,5\\nSkoda,2018,1864999,50000,Petrol,Dealer,Automatic,First Owner,14.67,1798,177.46,5\\nMercedes-Benz,2016,2700000,35000,Diesel,Dealer,Automatic,First Owner,15,2143,204,5\\nMG,2019,1750000,19000,Petrol,Dealer,Automatic,First Owner,13.96,1451,141,5\\nHonda,2017,795000,41000,Petrol,Dealer,Automatic,First Owner,18,1497,117.6,5\\nToyota,2013,625000,39000,Petrol,Dealer,Automatic,First Owner,14.28,1798,138.03,5\\nVolvo,2018,3400000,22000,Diesel,Dealer,Automatic,First Owner,18,1969,190,5\\nAudi,2015,2650000,53000,Diesel,Dealer,Automatic,First Owner,12.07,2967,241.4,7\\nMaruti,2015,535000,40000,Diesel,Dealer,Manual,First Owner,26.21,1248,88.5,5\\nMercedes-Benz,2017,5850000,47000,Diesel,Dealer,Automatic,First Owner,13.5,2987,282,5\\nBMW,2010,975000,72200,Petrol,Dealer,Automatic,Second Owner,10.8,2497,150,5\\nHyundai,2016,805000,49900,Petrol,Dealer,Manual,First Owner,16.3,1797,147.5,5\\nJaguar,2017,2625000,9000,Diesel,Dealer,Automatic,First Owner,13.6,1999,177,5\\nTata,2018,811000,11000,Petrol,Dealer,Manual,First Owner,17,1198,108.5,5\\nVolkswagen,2011,375000,49000,Petrol,Individual,Manual,First Owner,15.04,1598,103.6,5\\nHyundai,2012,550000,95000,Petrol,Individual,Manual,First Owner,16.3,1797,147.5,5\\nSkoda,2016,645000,11000,Petrol,Dealer,Automatic,First Owner,14.3,1598,103.5,5\\nMercedes-Benz,2018,2550000,18000,Petrol,Dealer,Automatic,First Owner,15.04,1991,183,5\\nMaruti,2014,599000,46100,Petrol,Dealer,Manual,First Owner,16.02,1373,93.7,7\\nMercedes-Benz,2017,2700000,16000,Petrol,Dealer,Automatic,First Owner,14.74,1991,181.04,5\\nHonda,2017,875000,18000,Petrol,Dealer,Automatic,First Owner,15.6,1497,116.3,5\\nToyota,2019,894999,9654,Petrol,Dealer,Automatic,First Owner,19.56,1197,81.8,5\\nMaruti,2011,175000,11000,Petrol,Dealer,Manual,First Owner,23.95,998,67.05,5\\nMaruti,2012,340000,24300,Petrol,Dealer,Manual,First Owner,21.21,1197,81.8,5\\nToyota,2016,1525000,42163,Diesel,Dealer,Automatic,Second Owner,11.36,2755,171.5,7\\nTata,2018,1025000,8000,Diesel,Dealer,Automatic,First Owner,21.5,1497,108.5,5\\nBMW,2016,2150000,30000,Diesel,Dealer,Automatic,First Owner,22.69,1995,190,5\\nToyota,2016,1900000,41000,Petrol,Dealer,Automatic,First Owner,19.16,2494,157.7,5\\nBMW,2016,2900000,12000,Diesel,Dealer,Automatic,First Owner,18.12,1995,190,5\\nToyota,2009,450000,71000,Petrol,Dealer,Automatic,First Owner,12.1,2362,164.7,5\\nMaruti,2016,850000,20000,Petrol,Individual,Manual,First Owner,17.5,1373,91.1,7\\nVolvo,2017,10000000,30000,Petrol,Individual,Automatic,First Owner,42,1969,400,4\\nVolkswagen,2011,300000,100000,Diesel,Individual,Manual,Second Owner,20.54,1598,103.6,5\\nFord,2018,575000,9500,Petrol,Individual,Manual,First Owner,18.16,1196,86.8,5\\nFord,2011,160000,120000,Diesel,Individual,Manual,First Owner,20,1399,68,5\\nMaruti,2015,515000,36600,Petrol,Individual,Manual,First Owner,20.4,1197,81.8,5\\nMaruti,2015,390000,50000,Petrol,Individual,Automatic,Second Owner,20.51,998,67,5\\nHyundai,2016,550000,14000,Petrol,Individual,Manual,Second Owner,18.6,1197,81.83,5\\nMaruti,1999,40000,40000,Petrol,Individual,Manual,Second Owner,16.1,796,37,4\\nMaruti,2010,220000,120000,Diesel,Individual,Manual,First Owner,21.1,1248,73.9,5\\nHyundai,2015,425000,70000,Petrol,Individual,Manual,First Owner,18.9,1197,82,5\\nVolkswagen,2019,480000,13000,Petrol,Individual,Manual,First Owner,19.44,999,75,5\\nHyundai,2014,400000,60000,Petrol,Individual,Manual,Second Owner,18.9,1197,82,5\\nMaruti,2014,487000,35000,Petrol,Individual,Manual,First Owner,19.1,1197,85.8,5\\nHyundai,2016,386000,44000,Petrol,Individual,Manual,Second Owner,19.1,1197,82,5\\nHonda,2005,100000,120000,Petrol,Individual,Manual,Second Owner,13,1493,100,5\\nToyota,2010,300000,60000,Diesel,Individual,Manual,First Owner,21.43,1364,87.2,5\\nDaewoo,2000,100000,60000,Petrol,Individual,Manual,First Owner,18.5,796,53,5\\nToyota,2014,1750000,30000,Diesel,Individual,Manual,Second Owner,13,2982,168.5,7\\nMahindra,2016,450000,15000,Petrol,Individual,Manual,Second Owner,18.15,1198,82,6\\nTata,2017,490000,90000,Diesel,Individual,Manual,First Owner,22.95,1248,74,5\\nHonda,2009,345000,47000,Petrol,Individual,Manual,Second Owner,17,1497,118,5\\nMaruti,2005,85000,90000,Petrol,Individual,Manual,First Owner,17.3,993,60,5\\nMaruti,2010,215000,120600,Petrol,Individual,Manual,Second Owner,18.9,998,67.1,5\\nHyundai,2010,320000,100000,Petrol,Individual,Manual,Third Owner,16.2,1599,103.2,5\\nMaruti,2016,459999,60000,Petrol,Individual,Manual,Second Owner,20.85,1197,83.14,5\\nHyundai,2005,65000,86000,Petrol,Individual,Manual,First Owner,15.3,1341,83,5\\nHyundai,2020,720000,5000,Petrol,Individual,Manual,First Owner,18.6,1197,81.86,5\\nMaruti,2017,800000,37000,Diesel,Individual,Manual,First Owner,28.09,1248,88.5,5\\nTata,2019,520000,14000,Petrol,Individual,Manual,First Owner,20.3,1199,84,5\\nMaruti,2015,580000,70000,Diesel,Individual,Manual,First Owner,20.77,1248,88.76,7\\nToyota,2012,235000,120000,Diesel,Individual,Manual,First Owner,,,,\\nHonda,2015,600000,50000,Petrol,Individual,Manual,First Owner,17.4,1497,117.3,5\\nHonda,2014,290000,60000,Petrol,Individual,Manual,Second Owner,19.4,1198,86.8,5\\nMaruti,2016,360000,50000,CNG,Individual,Manual,First Owner,26.6,998,58.16,5\\nMaruti,2017,550000,50000,Petrol,Individual,Manual,First Owner,20.85,1197,83.14,5\\nHyundai,2013,375000,70000,Petrol,Individual,Manual,First Owner,18.5,1197,82.85,5\\nMaruti,2003,40000,90000,Petrol,Individual,Manual,Second Owner,,,,\\nMaruti,2018,420000,35000,Petrol,Individual,Automatic,First Owner,20.51,998,67,5\\nMaruti,2017,550000,20000,Petrol,Individual,Manual,First Owner,21.21,1197,81.8,5\\nMaruti,2018,270000,20000,Petrol,Individual,Manual,First Owner,24.7,796,47.3,5\\nMaruti,2018,700000,7800,Petrol,Individual,Automatic,First Owner,22,1197,81.8,5\\nMaruti,2017,500000,20000,Petrol,Individual,Manual,First Owner,20.4,1197,81.8,5\\nTata,2019,1250000,15000,Diesel,Individual,Manual,First Owner,17.6,2179,147.94,7\\nHyundai,2013,320000,31377,Petrol,Individual,Manual,Second Owner,18.5,1197,82.85,5\\nMaruti,2018,700000,50000,Diesel,Individual,Manual,First Owner,28.4,1248,74.02,5\\nMaruti,2015,290000,60000,Petrol,Individual,Manual,First Owner,20.51,998,67.04,5\\nToyota,2012,550000,100000,Petrol,Individual,Automatic,First Owner,14.53,1794,138.1,5\\nHonda,2012,265000,60000,Petrol,Individual,Manual,First Owner,19.4,1198,86.8,5\\nMaruti,2018,830000,5000,Petrol,Individual,Automatic,First Owner,21.4,1197,83.1,5\\nTata,2017,800000,60000,Diesel,Individual,Manual,First Owner,14.1,2179,147.94,7\\nMaruti,2011,160000,25000,Petrol,Individual,Manual,Second Owner,19.7,796,46.3,5\\nRenault,2018,335000,30000,Petrol,Individual,Manual,First Owner,25.17,799,53.3,5\\nDatsun,2017,329000,80000,Petrol,Individual,Manual,Second Owner,20.63,1198,67,5\\nMaruti,2017,775000,75000,Diesel,Individual,Manual,First Owner,24.3,1248,88.5,5\\nHyundai,2020,524000,32000,Petrol,Individual,Manual,First Owner,20.14,1197,81.86,5\\nMaruti,2015,245000,40000,Petrol,Individual,Manual,First Owner,22.74,796,47.3,5\\nHyundai,2012,275000,93000,Petrol,Individual,Manual,Second Owner,17,1197,80,5\\nTata,2018,520000,60000,Petrol,Individual,Manual,First Owner,17.57,1193,88.7,5\\nMaruti,2008,130000,120000,Petrol,Individual,Manual,Second Owner,,,,\\nNissan,2014,550000,37000,Petrol,Individual,Manual,First Owner,16.95,1498,97.7,5\\nFord,2018,910000,15000,Petrol,Individual,Manual,First Owner,17,1497,121.36,5\\nNissan,2015,300000,80000,Petrol,Individual,Manual,First Owner,19.49,1198,67.04,5\\nMaruti,2016,350000,140000,Petrol,Individual,Manual,First Owner,20.51,998,67.04,5\\nMahindra,2013,900000,70000,Diesel,Individual,Manual,First Owner,12.83,2696,162,7\\nMahindra,2013,300000,120000,Diesel,Individual,Manual,Second Owner,17.21,1493,100,7\\nMaruti,2010,250000,110000,Diesel,Individual,Manual,Second Owner,21.1,1248,73.9,5\\nHyundai,2017,1100000,37000,Diesel,Individual,Manual,First Owner,19.67,1582,126.2,5\\nRenault,2016,270000,44000,Petrol,Individual,Manual,First Owner,25.17,799,53.3,5\\nMaruti,2015,640000,80000,Diesel,Individual,Manual,First Owner,20.77,1248,88.76,7\\nMahindra,2015,650000,125000,Diesel,Individual,Manual,First Owner,15.1,2179,140,7\\nMaruti,2017,409999,13500,Petrol,Individual,Manual,First Owner,15.37,1196,73,5\\nHyundai,2011,165000,75000,Petrol,Individual,Manual,First Owner,17.92,1086,62.1,5\\nHyundai,2007,80000,120000,Petrol,Individual,Manual,Second Owner,13.2,1495,94,5\\nMahindra,2012,535000,120000,Diesel,Individual,Manual,First Owner,15.1,2179,140,7\\nToyota,2013,700000,70000,Diesel,Individual,Manual,First Owner,12.99,2494,100.57,7\\nMaruti,2013,550000,70000,Diesel,Individual,Manual,First Owner,23.4,1248,74,5\\nHonda,2019,680000,15000,Petrol,Individual,Automatic,First Owner,19,1199,88.76,5\\nHyundai,2009,200000,53000,Petrol,Individual,Manual,Second Owner,20.36,1197,78.9,5\\nMaruti,2014,500000,120000,Diesel,Individual,Manual,Second Owner,23.4,1248,74,5\\nMaruti,2016,1000000,70000,Diesel,Individual,Manual,First Owner,24.52,1248,88.5,7\\nHyundai,2008,110000,120000,Petrol,Individual,Manual,Second Owner,14.2,1341,82.9,5\\nHyundai,2012,320000,100000,Petrol,Individual,Manual,Second Owner,18.5,1197,80,5\\nTata,2005,75000,110000,Diesel,Individual,Manual,Second Owner,,,,\\nMaruti,2015,350000,100000,Petrol,Individual,Manual,First Owner,20.4,1197,83.11,5\\nTata,2013,170000,162500,Diesel,Individual,Manual,First Owner,19.4,1405,70,5\\nHyundai,2017,800000,39000,Diesel,Individual,Manual,First Owner,22.54,1396,88.73,5\\nMaruti,2017,500000,75000,Diesel,Individual,Manual,First Owner,26.8,1248,74,5\\nTata,2017,1380000,50000,Diesel,Individual,Automatic,First Owner,17.6,2179,153.86,7\\nMahindra,2019,1300000,40000,Diesel,Individual,Manual,First Owner,17.3,1497,121,8\\nHyundai,2013,530000,92500,Diesel,Individual,Manual,First Owner,22.32,1582,126.3,5\\nMaruti,2012,360000,158000,Diesel,Individual,Manual,First Owner,23.4,1248,74,5\\nMaruti,2012,310000,120000,Diesel,Individual,Manual,First Owner,19.3,1248,73.9,5\\nHonda,2015,725000,50000,Diesel,Individual,Manual,Second Owner,26,1498,98.6,5\\nMaruti,2012,340000,110000,Diesel,Individual,Manual,First Owner,19.3,1248,73.9,5\\nHyundai,2017,550000,2000,Diesel,Individual,Manual,Second Owner,25.4,1186,73.97,5\\nToyota,2011,1150000,181000,Diesel,Individual,Manual,Second Owner,11.5,2982,171,7\\nTata,2016,380000,70000,Diesel,Individual,Manual,First Owner,27.28,1047,69,5\\nNissan,2013,350000,90000,Petrol,Individual,Automatic,Second Owner,17.97,1498,99.6,5\\nHyundai,2019,610000,2000,Petrol,Individual,Manual,First Owner,18.6,1197,81.86,5\\nMaruti,2015,525000,20000,Petrol,Individual,Manual,First Owner,20.85,1197,83.14,5\\nToyota,2011,480000,120000,Diesel,Individual,Manual,First Owner,12.8,2494,102,7\\nMahindra,2017,780000,35000,Diesel,Individual,Manual,First Owner,16.55,2498,105,6\\nMaruti,2012,320000,193000,Diesel,Individual,Manual,First Owner,19.3,1248,73.9,5\\nMaruti,2014,375000,80000,Petrol,Individual,Manual,First Owner,20.4,1197,81.8,5\\nDatsun,2019,300000,40000,Petrol,Individual,Manual,First Owner,19.02,1198,67.05,5\\nHyundai,2015,500000,70000,Diesel,Individual,Manual,Fourth & Above Owner,22.54,1396,88.73,5\\nMahindra,2011,404000,122358,Diesel,Individual,Manual,First Owner,12.05,2179,120,9\\nTata,2015,500000,75000,Diesel,Individual,Manual,First Owner,14.07,2956,69.01,7\\nTata,2017,350000,120000,Diesel,Individual,Manual,First Owner,27.28,1047,69,5\\nTata,2015,380000,40000,Petrol,Individual,Manual,First Owner,17.57,1193,88.7,5\\nHyundai,2008,114999,95200,Petrol,Individual,Manual,Third Owner,13.2,1495,94,5\\nHonda,2014,335000,33033,Petrol,Dealer,Manual,First Owner,19.4,1198,86.8,5\\nHyundai,2015,465000,63063,Petrol,Dealer,Automatic,First Owner,18.9,1197,82,5\\nTata,2012,290000,60000,Diesel,Individual,Manual,First Owner,21.02,1248,88.76,5\\nMaruti,2005,110000,45000,Petrol,Individual,Manual,Second Owner,19.7,796,46.3,5\\nTata,2011,450000,80000,Diesel,Individual,Manual,Third Owner,11.57,2179,138.1,7\\nMahindra,2009,400000,170000,Diesel,Individual,Manual,Second Owner,13.6,2523,63,7\\nMahindra,2007,210000,207890,Diesel,Individual,Manual,Second Owner,13.6,2523,63,7\\nMercedes-Benz,2018,4600000,7976,Diesel,Individual,Automatic,First Owner,17.9,2143,170,5\\nMaruti,2016,220000,35000,Petrol,Individual,Manual,First Owner,16.8,796,34.2,8\\nHyundai,2017,450000,35000,Petrol,Individual,Manual,First Owner,18.9,1197,82,5\\nHyundai,2017,450000,35000,Petrol,Individual,Manual,First Owner,18.9,1197,82,5\\nHyundai,2013,290000,50000,Petrol,Individual,Automatic,First Owner,16.95,1197,78.9,5\\nMaruti,2016,520000,20000,Petrol,Individual,Manual,First Owner,20.4,1197,81.8,5\\nHyundai,2011,265000,20000,Petrol,Individual,Automatic,First Owner,16.95,1197,78.9,5\\nMaruti,2012,330000,50000,Petrol,Individual,Manual,Second Owner,18.6,1197,85.8,5\\nMaruti,2012,330000,50000,Petrol,Individual,Manual,Second Owner,18.6,1197,85.8,5\\nMahindra,2014,509999,120000,Diesel,Individual,Manual,First Owner,15.96,2523,62.1,7\\nHyundai,2014,500000,70000,Petrol,Individual,Manual,First Owner,17.1,1591,121.3,5\\nHyundai,2015,525000,50000,Petrol,Individual,Manual,First Owner,17.19,1197,81.86,5\\nMaruti,2019,675000,16500,Petrol,Individual,Manual,First Owner,21.01,1197,81.8,5\\nHyundai,2010,300000,70000,Petrol,Individual,Manual,First Owner,17,1197,80,5\\nMaruti,2005,90000,99361,Petrol,Individual,Manual,Second Owner,19.7,796,46.3,5\\nMaruti,2017,650000,25000,Diesel,Individual,Manual,First Owner,26.59,1248,74,5\\nMaruti,2014,409000,70000,Petrol,Individual,Manual,Second Owner,19.1,1197,85.8,5\\nHyundai,2015,395000,80000,Diesel,Individual,Manual,Second Owner,24,1120,70,5\\nMaruti,2010,215000,70000,Petrol,Individual,Manual,Second Owner,,,,\\nMaruti,2014,400000,70000,Petrol,Individual,Manual,Second Owner,19.1,1197,85.8,5\\nChevrolet,2012,120000,60000,Petrol,Individual,Manual,Third Owner,18.6,1199,79.4,5\\nTata,2018,645000,10000,Petrol,Individual,Automatic,First Owner,20.3,1199,84,5\\nMaruti,2006,81000,80000,Petrol,Individual,Manual,First Owner,16.1,796,37,4\\nHonda,2017,1300000,30000,Diesel,Individual,Manual,First Owner,25.6,1498,97.9,5\\nHonda,2017,1250000,33000,Diesel,Individual,Manual,First Owner,25.6,1498,97.9,5\\nMaruti,2013,535000,90000,Petrol,Individual,Manual,Third Owner,16.02,1373,93.7,7\\nNissan,2014,555000,80100,Diesel,Individual,Manual,Second Owner,19.01,1461,108.5,5\\nHonda,2014,725000,120000,Petrol,Individual,Manual,First Owner,17.4,1497,117.3,5\\nMahindra,1983,300000,10000,Diesel,Individual,Manual,Third Owner,,,,\\nRenault,2016,229999,40000,Petrol,Individual,Manual,First Owner,25.17,799,53.3,5\\nToyota,2013,800000,160000,Diesel,Individual,Manual,Second Owner,12.99,2494,100.6,8\\nMaruti,2017,409999,47000,Petrol,Individual,Manual,First Owner,20.51,998,67.04,5\\nHyundai,2018,1210000,25000,Diesel,Individual,Manual,First Owner,21.38,1396,88.7,5\\nTata,2017,400000,26000,Petrol,Individual,Manual,First Owner,23.84,1199,84,5\\nHyundai,2018,520000,29000,Diesel,Individual,Manual,First Owner,24,1186,73.97,5\\nMaruti,2016,650000,50000,Petrol,Individual,Automatic,First Owner,21.4,1197,83.1,5\\nMaruti,2011,325000,58000,Petrol,Individual,Manual,Third Owner,16.1,1298,88.2,5\\nMaruti,2012,420000,120000,Petrol,Individual,Automatic,First Owner,17.4,1197,85.8,5\\nMaruti,2014,400000,50000,Petrol,Individual,Manual,First Owner,20.4,1197,81.8,5\\nHyundai,2010,254999,80000,Petrol,Individual,Manual,Fourth & Above Owner,17,1197,80,5\\nMaruti,2003,65000,60000,Petrol,Individual,Manual,Fourth & Above Owner,17.3,993,60,5\\nMaruti,2017,351000,36000,Petrol,Individual,Manual,First Owner,23.1,998,67.04,5\\nToyota,2007,404000,120000,Diesel,Individual,Manual,Third Owner,12.8,2494,102,8\\nMaruti,2011,185000,185000,Diesel,Individual,Manual,Third Owner,21.1,1248,73.9,5\\nNissan,2011,250000,50000,Diesel,Individual,Manual,First Owner,23.08,1461,63.1,5\\nMaruti,2002,60000,100000,Petrol,Individual,Manual,Fourth & Above Owner,17.3,993,60,5\\nHyundai,2013,500000,50000,Petrol,Individual,Manual,Second Owner,17.1,1591,121.3,5\\nMaruti,2007,85000,80000,Petrol,Individual,Manual,Second Owner,18.2,998,67.1,5\\nHyundai,2005,85000,60000,Petrol,Individual,Manual,Second Owner,,,,\\nMaruti,2005,85000,80000,Petrol,Individual,Manual,Fourth & Above Owner,19.7,796,46.3,5\\nMaruti,2011,265000,90000,Diesel,Individual,Manual,Fourth & Above Owner,19.3,1248,73.9,5\\nMaruti,2010,130000,162000,Petrol,Individual,Manual,Second Owner,19,998,66.1,5\\nMaruti,2013,480000,110000,Diesel,Individual,Manual,Third Owner,20.77,1248,88.76,7\\nMaruti,2008,170000,120000,Diesel,Individual,Manual,Third Owner,17.8,1248,75,5\\nNissan,2011,275000,45000,Diesel,Individual,Manual,First Owner,23.08,1461,63.1,5\\nMaruti,2005,89000,90000,Petrol,Individual,Manual,Second Owner,18.9,998,67.1,5\\nFord,2010,170000,90000,Diesel,Individual,Manual,Second Owner,20,1399,68,5\\nMahindra,2019,1090000,16500,Petrol,Dealer,Manual,First Owner,17,1197,110,5\\nHyundai,2017,1100000,67000,Diesel,Individual,Automatic,First Owner,17.01,1582,126.2,5\\nMaruti,2018,610000,52000,Petrol,Dealer,Manual,First Owner,22,1197,81.8,5\\nDatsun,2016,335000,40000,Petrol,Dealer,Manual,First Owner,20.63,1198,67,5\\nHyundai,2015,434999,40000,Petrol,Dealer,Manual,First Owner,18.9,1197,82,5\\nToyota,2018,3000000,35000,Diesel,Individual,Manual,First Owner,14.24,2755,174.5,7\\nRenault,2018,390000,13000,Petrol,Dealer,Manual,First Owner,20.71,799,53.26,5\\nHonda,2012,325000,40000,Petrol,Dealer,Manual,First Owner,18.5,1198,86.8,5\\nVolkswagen,2019,640000,10000,Petrol,Dealer,Manual,First Owner,17,1198,73.75,5\\nNissan,2012,450000,9000,Petrol,Dealer,Manual,First Owner,16.95,1498,97.7,5\\nToyota,2013,400000,70000,Diesel,Dealer,Manual,Second Owner,23.59,1364,67.06,5\\nHyundai,2009,215000,60000,Petrol,Dealer,Manual,First Owner,20.36,1197,78.9,5\\nRenault,2014,570000,40000,Diesel,Dealer,Manual,First Owner,20.45,1461,83.8,5\\nMahindra,2012,680000,93000,Diesel,Dealer,Manual,First Owner,15.1,2179,140,7\\nToyota,2008,325000,80000,Diesel,Individual,Manual,Fourth & Above Owner,12.8,2494,102,7\\nTata,2011,150000,50000,Petrol,Individual,Manual,Second Owner,15.64,1193,64.08,5\\nHyundai,2013,690000,68000,Petrol,Dealer,Automatic,First Owner,14.5,1797,147.5,5\\nMercedes-Benz,2013,1550000,25000,Diesel,Individual,Automatic,First Owner,14.84,2143,170,5\\nTata,2012,64000,18000,Petrol,Dealer,Manual,First Owner,25.4,624,37.5,4\\nNissan,2013,250000,120000,Diesel,Individual,Manual,First Owner,23.08,1461,63.1,5\\nMaruti,2005,65000,35000,Petrol,Individual,Manual,First Owner,18.9,998,67.1,5\\nMaruti,2016,550000,60000,Diesel,Individual,Manual,Second Owner,26.59,1248,74,5\\nHyundai,2010,140000,70000,Petrol,Individual,Manual,Fourth & Above Owner,20.36,1197,78.9,5\\nRenault,2016,300000,30000,Petrol,Individual,Manual,First Owner,25.17,799,53.3,5\\nVolkswagen,2016,800000,70000,Petrol,Individual,Automatic,First Owner,16.34,1798,189.3,5\\nJaguar,2017,2625000,9000,Diesel,Dealer,Automatic,First Owner,13.6,1999,177,5\\nLexus,2019,5150000,20000,Petrol,Dealer,Automatic,First Owner,22.37,2487,214.56,5\\nJaguar,2017,3200000,45000,Diesel,Dealer,Automatic,First Owner,19.33,1999,177,5\\nTata,2015,503000,110000,Diesel,Individual,Manual,First Owner,14.1,2179,147.94,7\\nVolvo,2019,3800000,20000,Diesel,Individual,Automatic,First Owner,18,1969,190,5\\nToyota,2016,2000000,68089,Petrol,Trustmark Dealer,Automatic,First Owner,19.16,2494,157.7,5\\nMaruti,2013,225000,58343,Petrol,Trustmark Dealer,Manual,First Owner,21.79,998,67.05,5\\nMaruti,2018,740000,38817,Diesel,Dealer,Manual,First Owner,27.39,1248,74,5\\nHonda,2016,550000,56494,Petrol,Trustmark Dealer,Manual,First Owner,18.2,1199,88.7,5\\nToyota,2013,750000,79328,Diesel,Trustmark Dealer,Manual,Second Owner,12.99,2494,100.6,7\\nMaruti,2019,650000,5621,Petrol,Trustmark Dealer,Automatic,First Owner,22,1197,81.8,5\\nToyota,2017,625000,25538,Petrol,Trustmark Dealer,Manual,First Owner,16.78,1496,88.73,5\\nMaruti,2018,600000,69779,Petrol,Dealer,Automatic,First Owner,22,1197,81.8,5\\nHyundai,2017,450000,56290,Diesel,Dealer,Manual,First Owner,24,1186,73.97,5\\nBMW,2019,5400000,7500,Diesel,Dealer,Automatic,First Owner,16.78,1995,190,5\\nBMW,2019,5500000,8500,Diesel,Dealer,Automatic,First Owner,16.78,1995,190,5\\nHonda,2019,779000,7032,Petrol,Trustmark Dealer,Automatic,First Owner,19,1199,88.76,5\\nSkoda,2016,645000,11000,Petrol,Dealer,Automatic,First Owner,14.3,1598,103.5,5\\nVolvo,2018,2475000,2000,Diesel,Dealer,Automatic,First Owner,16.8,1984,150,5\\nHyundai,2010,150000,106000,Petrol,Individual,Manual,Third Owner,20.36,1197,78.9,5\\nToyota,2012,265000,162000,Diesel,Individual,Manual,Third Owner,,,,\\nHonda,2009,500000,120000,Petrol,Individual,Automatic,Second Owner,11.1,2354,158.8,5\\nMaruti,2015,480000,90000,Diesel,Individual,Manual,First Owner,26.59,1248,74,5\\nHyundai,2014,535000,70000,Diesel,Individual,Manual,Third Owner,22.32,1582,126.32,5\\nToyota,2005,250000,240000,Diesel,Individual,Manual,Third Owner,12.8,2494,102,8\\nMaruti,2012,300000,100000,Diesel,Individual,Manual,Second Owner,21.5,1248,88.8,5\\nHyundai,2009,340000,214000,Petrol,Individual,Manual,Second Owner,13.9,1599,103.2,5\\nHyundai,2009,340000,214000,Diesel,Individual,Manual,Second Owner,16.8,1493,110,5\\nMaruti,2016,240000,50000,Petrol,Individual,Manual,First Owner,22.74,796,47.3,5\\nHonda,2018,1085000,1000,Petrol,Individual,Automatic,First Owner,18,1497,117.6,5\\nMaruti,2017,750000,19000,Diesel,Individual,Automatic,First Owner,28.4,1248,74.02,5\\nTata,2012,95000,265000,Diesel,Individual,Manual,Second Owner,17,1405,70,5\\nMaruti,2020,409999,35000,CNG,Individual,Manual,First Owner,20.88,1196,61.7,5\\nMaruti,2014,215000,80000,Petrol,Individual,Manual,Second Owner,23.95,998,67.05,5\\nMahindra,2016,1290000,50000,Diesel,Individual,Automatic,First Owner,16,2179,140,7\\nMaruti,2010,150000,80000,Petrol,Individual,Manual,First Owner,20.92,998,67.1,5\\nHyundai,2013,219000,50000,Petrol,Individual,Manual,Second Owner,21.1,814,55.2,5\\nTata,2018,325000,100000,Petrol,Individual,Manual,First Owner,23.84,1199,84,5\\nMaruti,2013,260000,120000,Petrol,Individual,Manual,Second Owner,15.1,1196,73,5\\nJaguar,2017,2625000,9000,Diesel,Dealer,Automatic,First Owner,13.6,1999,177,5\\nLexus,2019,5150000,20000,Petrol,Dealer,Automatic,First Owner,22.37,2487,214.56,5\\nJaguar,2017,3200000,45000,Diesel,Dealer,Automatic,First Owner,19.33,1999,177,5\\nTata,2015,503000,110000,Diesel,Individual,Manual,First Owner,14.1,2179,147.94,7\\nVolvo,2019,3800000,20000,Diesel,Individual,Automatic,First Owner,18,1969,190,5\\nToyota,2016,2000000,68089,Petrol,Trustmark Dealer,Automatic,First Owner,19.16,2494,157.7,5\\nMaruti,2013,225000,58343,Petrol,Trustmark Dealer,Manual,First Owner,21.79,998,67.05,5\\nMaruti,2018,740000,38817,Diesel,Dealer,Manual,First Owner,27.39,1248,74,5\\nHonda,2016,550000,56494,Petrol,Trustmark Dealer,Manual,First Owner,18.2,1199,88.7,5\\nToyota,2013,750000,79328,Diesel,Trustmark Dealer,Manual,Second Owner,12.99,2494,100.6,7\\nMaruti,2019,650000,5621,Petrol,Trustmark Dealer,Automatic,First Owner,22,1197,81.8,5\\nToyota,2017,625000,25538,Petrol,Trustmark Dealer,Manual,First Owner,16.78,1496,88.73,5\\nMaruti,2018,600000,69779,Petrol,Dealer,Automatic,First Owner,22,1197,81.8,5\\nHyundai,2017,450000,56290,Diesel,Dealer,Manual,First Owner,24,1186,73.97,5\\nBMW,2019,5400000,7500,Diesel,Dealer,Automatic,First Owner,16.78,1995,190,5\\nBMW,2019,5500000,8500,Diesel,Dealer,Automatic,First Owner,16.78,1995,190,5\\nHonda,2019,779000,7032,Petrol,Trustmark Dealer,Automatic,First Owner,19,1199,88.76,5\\nSkoda,2016,645000,11000,Petrol,Dealer,Automatic,First Owner,14.3,1598,103.5,5\\nVolvo,2018,2475000,2000,Diesel,Dealer,Automatic,First Owner,16.8,1984,150,5\\nHonda,2019,700000,40000,Diesel,Individual,Automatic,First Owner,23.8,1498,78.9,5\\nHyundai,2017,950000,45000,Diesel,Individual,Manual,First Owner,21.38,1396,88.7,5\\nMaruti,2010,160000,80000,Petrol,Individual,Manual,Second Owner,19.7,796,46.3,5\\nHyundai,2015,409999,135000,Diesel,Individual,Manual,Second Owner,24.4,1120,71.01,5\\nToyota,2015,840000,120000,Diesel,Individual,Manual,Second Owner,12.99,2494,100.6,7\\nToyota,2013,450000,67000,Diesel,Individual,Manual,First Owner,23.59,1364,67.1,5\\nMaruti,2017,900000,50000,Diesel,Individual,Manual,First Owner,28.4,1248,74.02,5\\nToyota,2008,570000,134000,Diesel,Individual,Manual,Second Owner,12.8,2494,102,7\\nNissan,2011,254999,110000,Diesel,Individual,Manual,Second Owner,23.08,1461,63.1,5\\nMaruti,2009,130000,40000,Petrol,Individual,Manual,First Owner,16.1,796,37,4\\nMaruti,2013,530000,120000,Diesel,Individual,Manual,Second Owner,23.4,1248,74,5\\nVolkswagen,2015,520000,110000,Diesel,Individual,Manual,Second Owner,20.14,1498,88.8,5\\nMahindra,2011,229999,170000,Diesel,Individual,Manual,Second Owner,21,1461,64.1,5\\nMaruti,2004,81000,80000,Petrol,Individual,Manual,Second Owner,16.1,796,37,4\\nMaruti,2016,600000,47000,Diesel,Individual,Manual,First Owner,25.2,1248,74,5\\nHyundai,2015,409999,93000,Petrol,Individual,Manual,First Owner,19.1,1197,81.86,5\\nMaruti,2010,120000,70000,Petrol,Individual,Manual,Second Owner,16.1,796,37,4\\nMaruti,2014,320000,50000,Petrol,Individual,Manual,First Owner,23.1,998,67.04,5\\nFord,2015,292000,70000,Diesel,Individual,Manual,First Owner,20,1399,68.05,5\\nTata,2012,390000,80000,Diesel,Individual,Manual,First Owner,13.93,2179,138.03,7\\nFord,2016,550000,44000,Petrol,Individual,Manual,First Owner,18.16,1196,86.8,5\\nMaruti,2014,385000,25000,Petrol,Individual,Manual,First Owner,23.1,998,67.04,5\\nHyundai,2016,800000,25000,Petrol,Individual,Manual,First Owner,15.29,1591,121.3,5\\nMaruti,2019,675000,10000,Petrol,Individual,Manual,First Owner,21.21,1197,81.8,5\\nTata,2018,1525000,50000,Diesel,Individual,Manual,First Owner,17.6,2179,153.86,7\\nFord,2018,950000,30000,Diesel,Individual,Manual,First Owner,23,1498,98.96,5\\nHyundai,2015,610000,50000,Diesel,Individual,Manual,Second Owner,21.19,1396,88.73,5\\nHyundai,2012,525000,120000,Diesel,Individual,Manual,First Owner,22.54,1396,88.73,5\\nHonda,2019,700000,40000,Diesel,Individual,Automatic,First Owner,23.8,1498,78.9,5\\nMahindra,2015,375000,80000,Diesel,Individual,Manual,First Owner,15.96,2523,62.1,7\\nNissan,2015,580000,90000,Diesel,Individual,Manual,First Owner,20.45,1461,83.8,5\\nMaruti,2015,434999,50000,Petrol,Individual,Manual,Second Owner,20.4,1197,83.11,5\\nDatsun,2020,350000,2136,Petrol,Individual,Manual,First Owner,22.5,999,67,5\\nToyota,2012,730000,250000,Diesel,Individual,Manual,First Owner,12.99,2494,100,7\\nHyundai,2015,600000,35000,Petrol,Individual,Manual,First Owner,18.6,1197,81.83,5\\nToyota,2015,1050000,120000,Diesel,Individual,Manual,First Owner,12.99,2494,100.6,7\\nMaruti,2017,735000,70000,Diesel,Individual,Manual,First Owner,27.39,1248,74,5\\nRenault,2018,1050000,18000,Diesel,Dealer,Manual,First Owner,19.6,1461,108.45,5\\nChevrolet,2016,420000,110000,Diesel,Individual,Manual,Second Owner,18.2,1248,73.74,7\\nMaruti,2017,800000,60000,Diesel,Individual,Manual,First Owner,23.65,1248,88.5,5\\nToyota,2015,2000000,60000,Diesel,Individual,Automatic,First Owner,12.55,2982,168.5,7\\nMaruti,2016,600000,147000,Diesel,Individual,Manual,Second Owner,26.59,1248,74,5\\nToyota,2015,1900000,130000,Diesel,Individual,Automatic,First Owner,12.55,2982,168.5,7\\nChevrolet,2011,500000,99500,Diesel,Individual,Manual,Third Owner,11.5,1991,147.9,7\\nTata,2011,200000,110000,Diesel,Individual,Manual,Second Owner,17,1405,71,5\\nNissan,2016,370000,35000,Petrol,Individual,Manual,First Owner,19.49,1198,67.04,5\\nHyundai,2010,260000,110000,Diesel,Individual,Manual,Second Owner,16.2,1493,110,5\\nMahindra,2016,280000,100000,Diesel,Individual,Manual,First Owner,25.32,1198,77,6\\nMaruti,2014,610000,21000,Petrol,Individual,Manual,First Owner,16.02,1373,93.7,7\\nFord,2013,300000,60000,Diesel,Individual,Manual,Second Owner,23.5,1498,90,5\\nTata,2010,140000,40000,Diesel,Individual,Manual,First Owner,16.6,1405,70,5\\nHyundai,2008,229999,50000,Petrol,Individual,Manual,First Owner,19.81,1086,68.05,5\\nMaruti,2010,200000,65000,Petrol,Individual,Manual,Second Owner,19,998,66.1,5\\nMaruti,2011,200000,80000,Petrol,Individual,Manual,First Owner,18.9,998,67.1,5\\nHyundai,2015,560000,119000,Diesel,Individual,Manual,First Owner,23.9,1582,126.2,5\\nMaruti,2016,750000,80000,Diesel,Individual,Manual,First Owner,24.52,1248,88.5,7\\nMaruti,2017,585000,90000,Diesel,Individual,Manual,First Owner,25.2,1248,74,5\\nHyundai,2016,760000,20000,Petrol,Individual,Manual,First Owner,17.01,1591,121.4,5\\nMaruti,2014,430000,80000,Diesel,Individual,Manual,Second Owner,25.2,1248,74,5\\nMahindra,2020,480000,44665,Diesel,Individual,Manual,First Owner,25.32,1198,77,6\\nKia,2019,643000,10000,Diesel,Individual,Manual,First Owner,20.8,1493,113.4,5\\nHyundai,2018,500000,60000,Petrol,Individual,Manual,First Owner,20.14,1197,81.86,5\\nHonda,2016,425000,22000,Petrol,Individual,Manual,First Owner,18.5,1198,86.8,5\\nMaruti,2014,250000,25000,Petrol,Individual,Manual,First Owner,22.74,796,47.3,5\\nMaruti,2016,285000,70000,Diesel,Individual,Manual,First Owner,27.62,793,47,5\\nMaruti,2008,160000,123000,Petrol,Individual,Manual,Third Owner,17.5,1298,85.8,5\\nVolkswagen,2011,250000,70000,Diesel,Individual,Manual,Second Owner,20.54,1598,103.6,5\\nChevrolet,2013,170000,70000,Petrol,Individual,Manual,Second Owner,18.6,1199,79.4,5\\nToyota,2013,409999,45000,Diesel,Individual,Manual,First Owner,23.59,1364,67.06,5\\nHyundai,2015,400000,40000,Petrol,Individual,Automatic,First Owner,18.9,1197,82,5\\nMaruti,2019,700000,30000,Diesel,Individual,Manual,First Owner,28.4,1248,74.02,5\\nHonda,2007,350000,90000,Petrol,Individual,Automatic,First Owner,12.9,1799,130,5\\nMaruti,2016,660000,34000,Petrol,Individual,Manual,Second Owner,17.5,1373,91.1,7\\nMaruti,2017,268000,25000,Petrol,Individual,Manual,First Owner,24.7,796,47.3,5\\nMaruti,2016,270000,50000,Petrol,Individual,Manual,First Owner,22.74,796,47.3,5\\nChevrolet,2013,300000,50000,Diesel,Individual,Manual,First Owner,25.44,936,57.6,5\\nTata,2017,450000,90000,Petrol,Individual,Manual,First Owner,23.84,1199,84,5\\nChevrolet,2012,220000,70000,Diesel,Individual,Manual,Second Owner,25.44,936,57.6,5\\nTata,2009,250000,146000,Diesel,Individual,Manual,Second Owner,13.93,2179,138,7\\nFord,2012,300000,85000,Petrol,Individual,Manual,Second Owner,15.6,1196,70,5\\nTata,2009,88000,201850,Diesel,Individual,Manual,Second Owner,17.88,1396,52.8,5\\nMaruti,2016,561000,30000,Diesel,Individual,Manual,First Owner,26.59,1248,74,5\\nMaruti,2018,755000,15000,Diesel,Individual,Manual,First Owner,28.4,1248,74.02,5\\nDatsun,2017,235000,25000,Petrol,Individual,Manual,First Owner,22.7,799,53.64,5\\nMaruti,2011,165000,90000,Petrol,Individual,Manual,First Owner,20.92,998,67.1,5\\nMaruti,2008,190000,80000,Diesel,Individual,Manual,Second Owner,19.3,1248,73.9,5\\nTata,2011,110000,50000,Diesel,Individual,Manual,First Owner,17.2,1396,53.5,5\\nMahindra,2012,320000,80000,Diesel,Individual,Manual,Second Owner,13.6,2523,63,8\\nMaruti,2010,330000,110000,Diesel,Individual,Manual,Second Owner,,,,\\nHyundai,2016,540000,38000,Petrol,Individual,Manual,First Owner,18.6,1197,81.83,5\\nHyundai,2013,180000,60000,Petrol,Individual,Manual,First Owner,21.1,814,55.2,5\\nMaruti,2016,270000,100000,Petrol,Individual,Manual,Third Owner,15.37,1196,73,7\\nMaruti,2012,450000,30000,Petrol,Individual,Manual,First Owner,17.5,1197,85.8,5\\nMaruti,2014,450000,30000,Petrol,Individual,Manual,First Owner,19.1,1197,85.8,5\\nChevrolet,2015,200000,50000,Petrol,Individual,Manual,First Owner,18.6,1199,76.8,5\\nTata,2017,425000,42000,Petrol,Individual,Manual,First Owner,23.84,1199,84,5\\nChevrolet,2016,400000,30000,Petrol,Individual,Manual,First Owner,18.2,1199,82.4,5\\nMaruti,2009,125000,60000,Petrol,Individual,Manual,Third Owner,19.7,796,46.3,5\\nJeep,2018,1600000,14000,Diesel,Individual,Manual,First Owner,17.1,1956,170,5\\nHonda,2015,900000,22000,Petrol,Individual,Manual,First Owner,17.4,1497,117.3,5\\nVolkswagen,2012,450000,90000,Diesel,Individual,Manual,First Owner,20.54,1598,103.6,5\\nMaruti,2011,210000,46000,Petrol,Individual,Manual,First Owner,20.92,998,67.1,5\\nHyundai,2018,801000,20000,Petrol,Individual,Manual,First Owner,18.6,1197,81.83,5\\nTata,2014,317000,15000,Diesel,Individual,Manual,First Owner,15.42,1405,70,7\\nMaruti,2015,600000,40000,Petrol,Individual,Manual,Second Owner,16.02,1373,93.7,7\\nHyundai,2014,330000,30000,Petrol,Individual,Manual,Second Owner,18.5,1197,82.85,5\\nHyundai,2017,320000,15000,Petrol,Individual,Manual,Second Owner,21.1,814,55.2,5\\nMaruti,2010,160000,50000,Petrol,Individual,Manual,First Owner,,,,\\nHyundai,2007,120000,110000,Petrol,Individual,Manual,Second Owner,15.3,1341,83,5\\nMaruti,2009,130000,70000,Petrol,Individual,Manual,Second Owner,19.7,796,46.3,5\\nChevrolet,2015,220000,80000,Petrol,Individual,Manual,First Owner,18.2,1199,82.4,5\\nMaruti,2008,229999,50000,Diesel,Individual,Manual,Third Owner,,,,\\nTata,2015,340000,110000,Petrol,Individual,Manual,First Owner,17.57,1193,88.7,5\\nFord,2013,200000,70000,Diesel,Individual,Manual,Second Owner,19.68,1399,67,5\\nMaruti,2002,140000,50000,Petrol,Individual,Manual,Second Owner,19.7,796,46.3,5\\nToyota,2013,1000000,190000,Diesel,Individual,Manual,First Owner,12.99,2494,100.6,8\\nMahindra,2010,495000,100000,Diesel,Individual,Manual,Second Owner,13.6,2523,63,7\\nMaruti,2015,236000,60000,Petrol,Individual,Manual,First Owner,22.74,796,47.3,5\\nMaruti,2015,390000,40000,Petrol,Individual,Manual,First Owner,20.51,998,67.04,5\\nMaruti,2009,275000,90000,Diesel,Individual,Manual,Second Owner,19.3,1248,73.9,5\\nTata,2015,503000,110000,Diesel,Individual,Manual,First Owner,14.1,2179,147.94,7\\nMaruti,2017,775000,32000,Diesel,Dealer,Manual,First Owner,24.3,1248,88.5,5\\nToyota,2016,1800000,30000,Diesel,Individual,Automatic,First Owner,11.36,2755,171.5,7\\nHyundai,2016,850000,58000,Diesel,Individual,Manual,First Owner,19.67,1582,126.2,5\\nMaruti,2018,750000,5000,Diesel,Individual,Manual,First Owner,24.3,1248,88.5,5\\nHyundai,2018,570000,25000,Petrol,Individual,Manual,First Owner,18.6,1197,81.83,5\\nHyundai,2018,580000,32000,Petrol,Individual,Manual,First Owner,18.9,1197,81.86,5\\nHonda,2016,484999,30000,Petrol,Individual,Manual,First Owner,18.7,1199,88.7,5\\nHonda,2017,700000,43000,Petrol,Dealer,Manual,First Owner,15.4,1497,117.3,7\\nHyundai,2012,415000,60000,Petrol,Dealer,Manual,First Owner,17.7,1497,113.42,5\\nNissan,2015,325000,50000,Petrol,Individual,Automatic,First Owner,19.34,1198,76,5\\nFord,2018,550000,14200,Petrol,Individual,Manual,First Owner,18.16,1196,86.8,5\\nHyundai,2017,300000,10000,Petrol,Individual,Manual,First Owner,21.1,814,55.2,5\\nDatsun,2018,217000,25000,Petrol,Individual,Manual,First Owner,22.7,799,53.64,5\\nFord,2018,700000,19100,Petrol,Individual,Manual,First Owner,19,1194,94.68,5\\nHyundai,2019,466000,25000,Petrol,Individual,Automatic,Fourth & Above Owner,20.3,1086,68,5\\nFord,2014,484999,54000,Diesel,Dealer,Manual,First Owner,23,1498,98.96,5\\nNissan,2018,670000,35000,Diesel,Individual,Manual,First Owner,22.71,1461,84.8,5\\nHyundai,2018,500000,20000,Petrol,Individual,Manual,Second Owner,18.9,1197,81.86,5\\nMaruti,2016,675000,52000,Diesel,Individual,Manual,First Owner,23.65,1248,88.5,5\\nHyundai,2011,220000,120000,Diesel,Individual,Manual,Second Owner,23,1396,90,5\\nJeep,2017,1650000,50000,Diesel,Individual,Manual,First Owner,17.1,1956,170,5\\nMaruti,2013,630000,120000,Diesel,Individual,Manual,Second Owner,20.77,1248,88.8,7\\nTata,2010,250000,90000,Diesel,Individual,Manual,Second Owner,18.8,1248,90,5\\nMaruti,2004,120000,120000,Petrol,Individual,Manual,Third Owner,18.9,998,67.1,5\\nSkoda,2015,300000,101500,Diesel,Individual,Manual,Second Owner,21.14,1498,103.52,5\\nHyundai,2013,525000,75000,Diesel,Individual,Automatic,First Owner,22.32,1582,126.3,5\\nMaruti,2011,204999,97500,Petrol,Individual,Manual,First Owner,,,0,\\nMaruti,2011,204999,97500,Petrol,Individual,Manual,First Owner,,,0,\\nMahindra,2016,1100000,100000,Diesel,Individual,Manual,First Owner,15.4,1997,120,7\\nRenault,2012,480000,55735,Diesel,Individual,Manual,Second Owner,19.01,1461,108.45,5\\nMahindra,2014,605000,80000,Diesel,Individual,Manual,Second Owner,15.1,2179,140,7\\nMaruti,2016,250000,50000,Petrol,Individual,Manual,Second Owner,24.7,796,47.3,5\\nFord,2013,245000,70000,Diesel,Individual,Manual,Second Owner,20,1399,68.1,5\\nHyundai,2012,210000,76000,Petrol,Individual,Manual,Fourth & Above Owner,20.36,1197,78.9,5\\nMaruti,2020,730000,1500,Petrol,Individual,Manual,First Owner,21.21,1197,81.8,5\\nMahindra,2012,500000,76000,Diesel,Individual,Manual,First Owner,15.96,2523,62.1,7\\nMaruti,2015,400000,40000,Petrol,Individual,Manual,First Owner,20.51,998,67.04,5\\nHyundai,2015,280000,60000,Petrol,Individual,Manual,Second Owner,21.1,814,55.2,5\\nToyota,2009,561000,170000,Diesel,Individual,Manual,Third Owner,12.8,2494,102,8\\nMitsubishi,2013,950000,181491,Diesel,Dealer,Manual,First Owner,13.5,2477,175.56,7\\nChevrolet,2016,375000,53319,Diesel,Dealer,Manual,First Owner,25.44,936,56.3,5\\nVolkswagen,2017,700000,40906,Diesel,Dealer,Manual,First Owner,21.66,1498,108.62,5\\nToyota,2012,375000,31711,Petrol,Dealer,Manual,Second Owner,17.6,1496,88.7,5\\nHyundai,2012,270000,43755,Petrol,Dealer,Manual,Second Owner,21.1,814,55.2,5\\nRenault,2016,300000,66693,Petrol,Dealer,Manual,First Owner,25.17,799,53.3,5\\nMaruti,2010,225000,59549,Petrol,Dealer,Manual,First Owner,19,998,67.1,5\\nToyota,2015,1350000,94385,Diesel,Dealer,Manual,First Owner,12.99,2494,100.6,8\\nMaruti,2010,200000,73730,Petrol,Dealer,Manual,First Owner,18.2,998,67.1,5\\nHyundai,2011,400000,221889,Diesel,Dealer,Manual,First Owner,22.32,1582,126.32,5\\nHonda,2013,500000,116104,Diesel,Dealer,Manual,First Owner,25.8,1498,98.6,5\\nMaruti,2015,500000,150546,Petrol,Dealer,Manual,First Owner,22,1197,81.8,5\\nToyota,2013,1500000,148120,Diesel,Dealer,Manual,First Owner,14.24,2755,174.5,7\\nFord,2015,555000,20000,Petrol,Individual,Manual,Second Owner,15.8,1499,110,5\\nHyundai,2018,580000,30000,Petrol,Individual,Automatic,First Owner,18.9,1197,81.86,5\\nTata,2011,337000,142000,Diesel,Individual,Manual,Third Owner,13.7,2179,138.1,7\\nTata,2011,175000,20000,Diesel,Individual,Manual,First Owner,12.2,1948,68,10\\nTata,2009,180000,120000,Diesel,Individual,Manual,Second Owner,18.8,1248,90,5\\nHyundai,2011,200000,80000,Petrol,Individual,Manual,First Owner,19.81,1086,68.05,5\\nTata,2016,260000,60000,Diesel,Individual,Manual,First Owner,19.09,1405,69.01,5\\nRenault,2016,350000,25000,Petrol,Individual,Manual,First Owner,23.01,999,67,5\\nMahindra,2011,409999,50000,Diesel,Individual,Manual,Second Owner,13.6,2523,63,7\\nMahindra,2017,655000,126000,Diesel,Individual,Manual,First Owner,18.49,1493,100,7\\nMaruti,2015,370000,170000,Diesel,Individual,Manual,First Owner,26.59,1248,74,5\\nMaruti,2013,200000,24000,Petrol,Individual,Manual,First Owner,22.74,796,47.3,5\\nMaruti,2017,800000,100000,Diesel,Individual,Manual,Second Owner,24.52,1248,88.5,7\\nTata,2019,550000,10000,Petrol,Individual,Manual,First Owner,24,1199,83.81,5\\nFord,2012,300000,70000,Diesel,Individual,Manual,Second Owner,20,1399,68,5\\nMaruti,2017,220000,40000,Petrol,Individual,Manual,First Owner,16.8,796,34.2,8\\nMaruti,2011,196000,110000,Petrol,Individual,Manual,First Owner,18.9,998,67.1,5\\nHyundai,2008,135000,80000,Petrol,Individual,Manual,Second Owner,19.81,1086,68.05,5\\nTata,2015,299000,16500,Petrol,Individual,Manual,First Owner,17.57,1193,88.7,5\\nMaruti,2017,300000,30000,Petrol,Individual,Manual,First Owner,23.95,998,67.05,5\\nMaruti,2017,720000,80000,Diesel,Individual,Manual,First Owner,24.52,1248,88.5,7\\nTata,2016,650000,50000,Diesel,Individual,Manual,Third Owner,14.1,2179,147.94,7\\nMaruti,2016,300000,25000,Petrol,Individual,Manual,First Owner,23.95,998,67.05,5\\nHyundai,2019,750000,20000,Diesel,Individual,Manual,First Owner,24,1186,73.97,5\\nRenault,2016,260000,60000,Petrol,Individual,Manual,First Owner,25.17,799,53.3,5\\nMaruti,2011,300000,70000,Diesel,Individual,Manual,Second Owner,22.9,1248,74,5\\nMahindra,2014,600000,50000,Diesel,Individual,Manual,Second Owner,15.96,2523,62.1,7\\nHonda,2004,275000,100000,Petrol,Individual,Automatic,Second Owner,9,2997,218,5\\nMaruti,2015,250000,52000,Petrol,Individual,Manual,First Owner,23.95,998,67.05,5\\nMaruti,2014,420000,80000,Diesel,Individual,Manual,First Owner,23.4,1248,74,5\\nHyundai,2015,235000,50000,Petrol,Individual,Manual,First Owner,21.1,814,55.2,5\\nMahindra,2016,1100000,60000,Diesel,Individual,Manual,First Owner,15.4,2179,120,7\\nMaruti,2019,360000,25000,Petrol,Individual,Manual,First Owner,23.95,998,67.05,5\\nHyundai,2014,380000,50000,Diesel,Individual,Manual,Second Owner,24,1120,70,5\\nFord,2016,650000,125000,Diesel,Individual,Manual,First Owner,22.77,1498,98.59,5\\nMaruti,2016,350000,80000,Petrol,Individual,Manual,First Owner,20.51,998,67.04,5\\nMahindra,2017,700000,70000,Diesel,Individual,Manual,First Owner,15.96,2523,63,9\\nHyundai,2010,270000,90000,Diesel,Individual,Manual,Third Owner,23,1396,90,5\\nTata,2017,450000,50000,Diesel,Individual,Manual,First Owner,22.95,1248,74,5\\nMahindra,2016,630000,101000,Diesel,Individual,Manual,First Owner,16.55,2498,105,6\\nMahindra,2010,229999,168000,Diesel,Individual,Manual,First Owner,14,2498,112,7\\nMahindra,2010,229999,168000,Diesel,Individual,Manual,First Owner,14,2498,112,7\\nMaruti,2011,270000,40000,Petrol,Individual,Manual,First Owner,18.9,998,67.1,5\\nTata,2009,135000,28900,Petrol,Individual,Manual,Second Owner,0,1172,65,5\\nMaruti,2012,275000,20000,Petrol,Individual,Manual,First Owner,18.9,998,67.1,5\\nJaguar,2017,2625000,9000,Diesel,Dealer,Automatic,First Owner,13.6,1999,177,5\\nLexus,2019,5150000,20000,Petrol,Dealer,Automatic,First Owner,22.37,2487,214.56,5\\nJaguar,2017,3200000,45000,Diesel,Dealer,Automatic,First Owner,19.33,1999,177,5\\nTata,2015,503000,110000,Diesel,Individual,Manual,First Owner,14.1,2179,147.94,7\\nVolvo,2019,3800000,20000,Diesel,Individual,Automatic,First Owner,18,1969,190,5\\nToyota,2016,2000000,68089,Petrol,Trustmark Dealer,Automatic,First Owner,19.16,2494,157.7,5\\nMaruti,2013,225000,58343,Petrol,Trustmark Dealer,Manual,First Owner,21.79,998,67.05,5\\nMaruti,2018,740000,38817,Diesel,Dealer,Manual,First Owner,27.39,1248,74,5\\nHonda,2016,550000,56494,Petrol,Trustmark Dealer,Manual,First Owner,18.2,1199,88.7,5\\nToyota,2013,750000,79328,Diesel,Trustmark Dealer,Manual,Second Owner,12.99,2494,100.6,7\\nMaruti,2019,650000,5621,Petrol,Trustmark Dealer,Automatic,First Owner,22,1197,81.8,5\\nToyota,2017,625000,25538,Petrol,Trustmark Dealer,Manual,First Owner,16.78,1496,88.73,5\\nMaruti,2018,600000,69779,Petrol,Dealer,Automatic,First Owner,22,1197,81.8,5\\nHyundai,2017,450000,56290,Diesel,Dealer,Manual,First Owner,24,1186,73.97,5\\nBMW,2019,5400000,7500,Diesel,Dealer,Automatic,First Owner,16.78,1995,190,5\\nBMW,2019,5500000,8500,Diesel,Dealer,Automatic,First Owner,16.78,1995,190,5\\nHonda,2019,779000,7032,Petrol,Trustmark Dealer,Automatic,First Owner,19,1199,88.76,5\\nSkoda,2016,645000,11000,Petrol,Dealer,Automatic,First Owner,14.3,1598,103.5,5\\nVolvo,2018,2475000,2000,Diesel,Dealer,Automatic,First Owner,16.8,1984,150,5\\nMahindra,2015,634000,165000,Diesel,Individual,Manual,First Owner,18.49,1493,100,7\\nMaruti,2012,235000,98500,Petrol,Individual,Manual,Second Owner,19,998,66.1,5\\nHyundai,2008,275000,98000,Petrol,Individual,Manual,Third Owner,20.36,1197,78.9,5\\nMahindra,2014,700000,40000,Diesel,Individual,Manual,Second Owner,16.55,2498,105,6\\nFiat,2013,400000,90000,Diesel,Individual,Manual,First Owner,20.3,1248,92,5\\nMaruti,2012,215000,90000,Petrol,Individual,Manual,Third Owner,19.7,796,46.3,5\\nHyundai,2009,150000,110000,Diesel,Individual,Manual,Second Owner,17.1,1493,110,5\\nMaruti,2018,950000,77800,Diesel,Individual,Manual,First Owner,25.1,1248,88.5,5\\nMahindra,2015,730000,100000,Diesel,Individual,Manual,First Owner,18.49,1493,100,7\\nTata,2012,135000,120000,Diesel,Individual,Manual,Second Owner,19,1405,71,5\\nHyundai,2016,350000,80000,Petrol,Individual,Manual,Second Owner,19.1,1197,82,5\\nMahindra,2018,535000,21000,Petrol,Individual,Manual,Second Owner,18.15,1198,82,6\\nMaruti,2018,455000,100000,Petrol,Individual,Manual,Second Owner,19,1197,85.8,5\\nMaruti,2019,655000,25000,Petrol,Individual,Manual,First Owner,21.21,1197,81.8,5\\nFord,2019,800000,30000,Diesel,Individual,Manual,Third Owner,23,1498,98.96,5\\nToyota,2018,1100000,25000,Petrol,Individual,Automatic,First Owner,17.8,1496,105.5,5\\nMercedes-Benz,2016,3000000,40000,Diesel,Individual,Automatic,First Owner,13,2143,204,5\\nToyota,2012,1225000,160000,Diesel,Individual,Automatic,First Owner,11.5,2982,169,7\\nMahindra,2018,340000,51492,Petrol,Individual,Manual,First Owner,18.15,1198,82,6\\nVolkswagen,2011,300000,72000,Diesel,Individual,Manual,Second Owner,20.54,1598,103.6,5\\nFord,2016,370000,60000,Petrol,Individual,Manual,First Owner,18.16,1196,86.8,5\\nMahindra,2013,330000,136000,Diesel,Individual,Manual,Second Owner,15.96,2523,62.1,7\\nHyundai,2014,238000,60000,Petrol,Individual,Manual,First Owner,17.92,1086,62.1,5\\nHyundai,2006,72000,110000,Petrol,Individual,Manual,Second Owner,,,,\\nHyundai,2013,200000,90000,Petrol,Individual,Manual,First Owner,17.92,1086,62.1,5\\nNissan,2014,320000,91000,Diesel,Individual,Manual,Fourth & Above Owner,22.71,1461,84.8,5\\nHyundai,2009,114999,90000,Petrol,Individual,Manual,Fourth & Above Owner,17.92,1086,62.1,5\\nMaruti,2015,320000,50000,Petrol,Individual,Manual,Second Owner,20.51,998,67.04,5\\nHyundai,2010,210000,20000,Petrol,Individual,Manual,First Owner,19.81,1086,68.05,5\\nMahindra,2011,200000,120000,Diesel,Individual,Manual,First Owner,14,2489,95,8\\nMaruti,2009,135000,150000,Petrol,Individual,Manual,Second Owner,18.9,1061,67,5\\nTata,2015,350000,52000,Diesel,Individual,Manual,First Owner,19.09,1405,69.01,5\\nMahindra,2014,350000,167000,Diesel,Individual,Manual,Second Owner,13.6,2523,63,8\\nMaruti,2017,680000,40000,Diesel,Individual,Manual,First Owner,28.4,1248,74.02,5\\nMaruti,2010,200000,190000,Diesel,Individual,Manual,Second Owner,17.8,1248,75,5\\nRenault,2016,300000,50000,Petrol,Individual,Manual,First Owner,23.01,999,67,5\\nMahindra,2011,270000,70000,Diesel,Individual,Manual,Second Owner,14,2498,112,7\\nMaruti,2012,225000,80000,Petrol,Individual,Manual,Second Owner,18.9,998,67.1,5\\nMahindra,2008,250000,120000,Diesel,Individual,Manual,First Owner,13.6,2523,63,8\\nMahindra,2015,590000,40000,Diesel,Individual,Manual,Second Owner,18.49,1493,100,7\\nHyundai,2015,290000,17000,Petrol,Individual,Manual,First Owner,21.1,814,55.2,5\\nMaruti,2010,100000,180000,Petrol,Individual,Manual,Second Owner,19,998,67.1,5\\nMaruti,2016,395000,50000,Petrol,Individual,Manual,First Owner,23.1,998,67.04,5\\nHyundai,2014,195000,65000,Petrol,Individual,Manual,Second Owner,21.1,814,55.2,5\\nTata,2011,45000,10000,Petrol,Individual,Manual,Third Owner,26,624,35,4\\nMahindra,2009,270000,70000,Diesel,Individual,Manual,Second Owner,13.6,2523,63,8\\nChevrolet,2014,600000,90000,Diesel,Individual,Manual,Second Owner,13.58,2499,72.4,9\\nHyundai,2015,715000,50000,Diesel,Individual,Manual,First Owner,22.54,1396,88.73,5\\nHyundai,2019,600000,10000,Petrol,Individual,Manual,First Owner,18.6,1197,81.86,5\\nMahindra,2019,875000,25000,Diesel,Individual,Manual,First Owner,18.49,1493,100,7\\nMahindra,2011,420000,100000,Diesel,Individual,Manual,Second Owner,13.5,2179,115,5\\nHonda,2007,325000,70000,Petrol,Individual,Automatic,Second Owner,10.1,2354,152,5\\nDatsun,2017,385000,30000,Petrol,Individual,Manual,First Owner,20.63,1198,67.06,5\\nMahindra,2016,300000,40000,Petrol,Individual,Manual,First Owner,18.15,1198,82,6\\nHyundai,2012,335000,135000,Diesel,Individual,Manual,First Owner,21.9,1396,88.76,5\\nMaruti,2014,300000,35000,Petrol,Individual,Manual,First Owner,23.1,998,67.04,5\\nHyundai,2004,80000,120000,Petrol,Individual,Manual,Second Owner,13.2,1495,94,5\\nMahindra,2012,400000,120000,Diesel,Individual,Manual,First Owner,15.96,2523,62.1,7\\nTata,2012,168000,190000,Diesel,Individual,Manual,Second Owner,19.09,1396,69,5\\nMahindra,2016,550000,120000,Diesel,Individual,Manual,First Owner,15.96,2523,62.1,9\\nToyota,2012,300000,120000,Diesel,Individual,Manual,Second Owner,,,,\\nMahindra,2011,320000,175000,Diesel,Individual,Manual,Third Owner,13.6,2523,63,7\\nMahindra,2011,320000,175000,Diesel,Individual,Manual,Third Owner,15.96,2523,63,9\\nNissan,2011,350000,25000,Petrol,Individual,Manual,Second Owner,16.95,1498,97.7,5\\nTata,2013,280000,80000,Diesel,Individual,Manual,First Owner,21.02,1248,88.76,5\\nHyundai,2017,550000,70000,Diesel,Individual,Manual,Second Owner,24.4,1120,71,5\\nHyundai,2018,500000,10000,Petrol,Individual,Manual,First Owner,20.14,1197,81.86,5\\nFord,2019,700000,6000,Petrol,Individual,Manual,First Owner,19,1194,94.68,5\\nSkoda,2013,380000,90000,Diesel,Individual,Manual,Second Owner,20.5,1598,103.5,5\\nMahindra,2012,340000,110000,Diesel,Individual,Manual,Second Owner,15.96,2523,63,9\\nMahindra,2007,160000,120000,Diesel,Individual,Manual,Third Owner,13.6,2523,63,9\\nToyota,2014,750000,50000,Diesel,Individual,Manual,First Owner,12.99,2494,100.6,7\\nHyundai,2018,531000,20000,Petrol,Individual,Automatic,First Owner,18.9,1197,81.86,5\\nRenault,2017,300000,35000,Petrol,Individual,Manual,First Owner,23.01,999,67,5\\nVolkswagen,2014,350000,60000,Diesel,Individual,Manual,Second Owner,20.14,1498,88.8,5\\nChevrolet,2010,150000,68000,Petrol,Individual,Manual,Fourth & Above Owner,18.6,1199,79.4,5\\nMaruti,2015,450000,30000,Petrol,Individual,Manual,First Owner,20.4,1197,81.8,5\\nMahindra,2017,1625000,54000,Diesel,Individual,Manual,First Owner,16,2179,140,7\\nMaruti,2006,140000,65000,Petrol,Individual,Manual,Third Owner,,,,\\nMahindra,2004,250000,80000,Diesel,Individual,Manual,Third Owner,,,,\\nTata,2006,85000,120000,Diesel,Individual,Manual,Third Owner,16.8,1405,68,5\\nHyundai,2018,450000,30000,Petrol,Individual,Manual,First Owner,18.9,1197,81.86,5\\nMaruti,2011,170000,55113,Petrol,Individual,Manual,First Owner,,,,\\nTata,2017,360000,50000,Diesel,Individual,Manual,First Owner,27.28,1047,69,5\\nMaruti,2020,390000,6000,Petrol,Individual,Manual,First Owner,23.95,998,67.05,5\\nMaruti,2011,145000,50000,Petrol,Individual,Manual,Second Owner,15.37,1196,73,7\\nMahindra,2012,540000,90000,Diesel,Individual,Manual,Third Owner,12.05,2179,120,8\\nToyota,2008,290000,126000,Diesel,Individual,Manual,Third Owner,12.8,2494,102,8\\nTata,2013,300000,90000,Diesel,Individual,Manual,First Owner,25,1396,69,5\\nFord,2017,565000,80000,Petrol,Individual,Manual,First Owner,18.16,1196,86.8,5\\nMahindra,2011,441000,70000,Diesel,Individual,Manual,Second Owner,10.5,2609,120,7\\nHyundai,2003,50000,80000,Petrol,Individual,Manual,Second Owner,,,,\\nHyundai,2011,180000,80000,Petrol,Individual,Manual,Second Owner,21.1,814,55.2,5\\nHyundai,2013,200000,80000,Petrol,Individual,Manual,Second Owner,21.1,814,55.2,5\\nMaruti,2005,85000,150000,Petrol,Individual,Manual,Second Owner,19.7,796,46.3,5\\nTata,2006,67500,110000,Diesel,Individual,Manual,Fourth & Above Owner,17.88,1396,52.8,5\\nMaruti,2016,700000,110000,Diesel,Individual,Manual,Second Owner,24.3,1248,88.5,5\\nVolkswagen,2010,275000,80000,Diesel,Individual,Manual,Fourth & Above Owner,22.07,1199,73.9,5\\nHyundai,2019,600000,20000,Petrol,Individual,Manual,First Owner,18.9,1197,81.86,5\\nMahindra,2011,250000,120000,Diesel,Individual,Manual,First Owner,13,2489,95,8\\nMahindra,2016,600000,120000,Diesel,Individual,Manual,First Owner,15.96,2523,63,9\\nFiat,2010,200000,80000,Diesel,Individual,Manual,Second Owner,20.4,1248,91.2,5\\nHyundai,2015,425000,91500,Diesel,Individual,Manual,Second Owner,24,1120,70,5\\nMaruti,2012,420000,120000,Diesel,Individual,Manual,Second Owner,19.3,1248,73.9,5\\nHyundai,2012,321000,100000,Diesel,Individual,Manual,Second Owner,23,1396,90,5\\nMahindra,2012,350000,120000,Diesel,Individual,Manual,Fourth & Above Owner,14,2498,112,8\\nHonda,2017,490000,80000,Petrol,Individual,Manual,First Owner,17.8,1198,86.7,5\\nMahindra,2015,680000,90000,Diesel,Individual,Manual,First Owner,15.4,2523,75,7\\nMaruti,2016,298000,70000,Petrol,Individual,Manual,First Owner,23.95,998,67.05,5\\nHyundai,1999,80000,110000,Petrol,Individual,Manual,Second Owner,,,,\\nMahindra,2011,450000,150000,Diesel,Individual,Manual,Fourth & Above Owner,13.5,2179,115,5\\nSkoda,2010,400000,60000,Petrol,Individual,Automatic,Second Owner,,,,\\nTata,2012,250000,40000,Diesel,Individual,Manual,First Owner,22.3,1248,74,5\\nFord,2013,1075000,110000,Diesel,Individual,Automatic,Third Owner,12.8,2953,156,7\\nHyundai,2017,500000,20000,Petrol,Individual,Manual,First Owner,18.9,1197,82,5\\nFord,2019,681000,10000,Petrol,Individual,Manual,First Owner,19,1194,94.68,5\\nMahindra,2014,650000,90000,Diesel,Individual,Manual,Second Owner,15.1,2179,140,7\\nChevrolet,2008,80000,70000,Petrol,Individual,Manual,Second Owner,15.26,1150,74.9,5\\nMahindra,2009,290000,120000,Diesel,Individual,Manual,First Owner,13.6,2523,63,7\\nMahindra,2006,220000,120000,Diesel,Individual,Manual,Second Owner,10.5,2179,120,8\\nHyundai,2009,120000,90000,Petrol,Individual,Manual,Second Owner,0,1086,62,5\\nDatsun,2017,229999,80000,Petrol,Individual,Manual,First Owner,22.7,799,53,5\\nMahindra,2003,150000,132478,Diesel,Individual,Manual,Second Owner,13.6,2523,63,7\\nMaruti,2014,500000,45000,Petrol,Individual,Manual,First Owner,19.1,1197,85.8,5\\nTata,2013,175000,120000,Diesel,Individual,Manual,First Owner,19.09,1396,69,5\\nFord,2019,720000,10000,Petrol,Individual,Manual,First Owner,19,1194,94.68,5\\nMaruti,2012,100000,51000,Petrol,Individual,Manual,First Owner,16.1,796,37,4\\nHonda,2009,250000,105000,Petrol,Individual,Automatic,Second Owner,12.9,1799,130,5\\nMahindra,2014,810000,100000,Diesel,Individual,Manual,First Owner,15.1,2179,140,7\\nMaruti,2010,165000,30000,Petrol,Individual,Manual,Third Owner,19.7,796,46.3,5\\nChevrolet,2016,409999,60000,Diesel,Individual,Manual,Second Owner,12.2,1994,105.3,10\\nMaruti,2013,430000,86000,Diesel,Individual,Manual,Second Owner,22.9,1248,74,5\\nDatsun,2015,300000,15000,Petrol,Individual,Manual,First Owner,20.62,1198,67,7\\nMaruti,2011,350000,137500,Diesel,Individual,Manual,Third Owner,19.3,1248,73.9,5\\nRenault,2018,400000,60000,Petrol,Individual,Manual,First Owner,23.01,999,67,5\\nChevrolet,2016,420000,70000,Diesel,Individual,Manual,First Owner,18.2,1248,73.74,7\\nMaruti,2015,430000,5000,Petrol,Individual,Manual,First Owner,20.51,998,67.04,5\\nMaruti,2017,573000,30000,Petrol,Individual,Manual,First Owner,20.4,1197,81.8,5\\nHyundai,2015,210000,40000,Petrol,Individual,Manual,First Owner,21.1,814,55.2,5\\nRenault,2015,600000,60000,Diesel,Individual,Manual,First Owner,19.01,1461,108.45,5\\nHonda,2008,150000,70000,Petrol,Individual,Manual,Third Owner,17.7,1497,78,5\\nTata,2019,550000,15000,Petrol,Individual,Manual,First Owner,20.3,1199,84,5\\nMaruti,2011,320000,110000,Diesel,Individual,Manual,Second Owner,19.3,1248,73.9,5\\nMaruti,2000,80000,70000,Petrol,Individual,Manual,Fourth & Above Owner,16.1,796,37,4\\nHonda,2019,800000,10000,Diesel,Individual,Manual,First Owner,27.4,1498,98.63,5\\nMaruti,2013,500000,60000,Petrol,Individual,Manual,First Owner,16.02,1373,93.7,7\\nTata,2011,229999,110000,Diesel,Individual,Manual,Second Owner,18.8,1248,90,5\\nMaruti,2013,500000,60000,Petrol,Individual,Manual,First Owner,16.02,1373,93.7,7\\nHyundai,2015,630000,35000,Petrol,Individual,Manual,First Owner,18.6,1197,81.83,5\\nMaruti,2016,190000,70000,Petrol,Individual,Manual,Second Owner,16.8,796,34.2,8\\nTata,2011,229999,110000,Diesel,Individual,Manual,Second Owner,18.8,1248,90,5\\nMahindra,2011,450000,100000,Diesel,Individual,Manual,Second Owner,13.6,2523,63,7\\nMaruti,2008,95000,120000,Petrol,Individual,Manual,First Owner,19.7,796,46.3,5\\nMaruti,2009,101000,90000,Petrol,Individual,Manual,Fourth & Above Owner,19.7,796,35,8\\nHonda,2016,500000,70000,Diesel,Individual,Manual,Second Owner,25.8,1498,98.6,5\\nToyota,2014,1019999,88000,Diesel,Individual,Manual,Second Owner,12.99,2494,100.6,7\\nHyundai,2012,244000,38000,Petrol,Individual,Manual,First Owner,21.1,814,55.2,5\\nMaruti,2013,250000,90000,Petrol,Individual,Manual,Second Owner,20.51,998,67.04,5\\nMaruti,2016,660000,60000,Petrol,Individual,Manual,First Owner,21.4,1197,83.1,5\\nHyundai,2010,270000,60000,Petrol,Individual,Manual,First Owner,18.5,1197,80,5\\nMaruti,2012,280000,156060,Diesel,Individual,Manual,First Owner,23.2,1248,73.94,5\\nHyundai,2017,1050000,60000,Diesel,Individual,Manual,First Owner,19.67,1582,126.2,5\\nMaruti,2017,525000,70000,Petrol,Individual,Manual,First Owner,20.85,1197,83.14,5\\nHyundai,2017,850000,35000,Diesel,Individual,Manual,First Owner,23.9,1582,126.2,5\\nMahindra,2016,1165000,50000,Diesel,Individual,Manual,First Owner,16,1997,140,7\\nMaruti,2012,345000,50000,Petrol,Individual,Manual,Second Owner,18.6,1197,85.8,5\\nHyundai,2007,95000,100000,Petrol,Individual,Manual,Second Owner,17.8,1086,63,5\\nMaruti,2015,241000,15000,Petrol,Individual,Manual,First Owner,22.74,796,47.3,5\\nMaruti,2015,235000,20000,Petrol,Individual,Manual,First Owner,22.74,796,47.3,5\\nFord,2015,615000,80000,Diesel,Individual,Manual,First Owner,22.77,1498,98.59,5\\nMahindra,2014,350000,110000,Diesel,Individual,Manual,Second Owner,20.8,1461,64.1,5\\nMaruti,2014,350000,35000,Petrol,Individual,Manual,First Owner,20.51,998,67.04,5\\nMaruti,2014,380000,35000,Petrol,Individual,Manual,First Owner,20.51,998,67.04,5\\nTata,2017,400000,140000,Diesel,Individual,Manual,First Owner,14.07,2956,69.01,7\\nMaruti,2010,220000,40000,Petrol,Individual,Manual,First Owner,19,998,67.1,5\\nTata,2008,270000,110000,Diesel,Individual,Manual,Third Owner,14.4,2179,120,7\\nMaruti,2012,275000,70000,Petrol,Individual,Manual,Second Owner,18.5,1197,85.8,5\\nTata,2009,125000,100000,Diesel,Individual,Manual,Second Owner,17,1405,71,5\\nHyundai,2015,360000,20000,Petrol,Individual,Manual,First Owner,19.81,1086,68.05,5\\nHyundai,2019,550000,15000,Petrol,Individual,Manual,First Owner,18.9,1197,81.86,5\\nFord,2011,200000,70000,Petrol,Individual,Manual,Second Owner,16.6,1388,68,5\\nMahindra,2016,327000,20000,Petrol,Individual,Manual,First Owner,18.15,1198,82,6\\nHyundai,2016,425000,15000,Petrol,Individual,Manual,First Owner,19.81,1086,68.05,5\\nMaruti,2017,620000,107000,Diesel,Individual,Manual,First Owner,28.4,1248,74.02,5\\nTata,2011,130000,54000,Diesel,Individual,Manual,Second Owner,18.4,1248,75,5\\nMaruti,2009,120000,58000,Petrol,Individual,Manual,First Owner,19.7,796,46.3,5\\nMahindra,2011,400000,110000,Diesel,Individual,Manual,Second Owner,12.05,2179,120,8\\nHyundai,2007,185000,90000,Diesel,Individual,Manual,Fourth & Above Owner,16.8,1493,110,5\\nHyundai,2015,204999,43000,Petrol,Individual,Manual,Second Owner,20.3,998,68.05,5\\nMaruti,2017,625000,43000,Diesel,Individual,Manual,First Owner,28.4,1248,74.02,5\\nMaruti,2013,600000,60000,Diesel,Individual,Manual,First Owner,20.77,1248,88.8,7\\nTata,2011,150000,150000,Petrol,Individual,Manual,First Owner,12.8,1396,85,5\\nRenault,2017,300000,35000,Petrol,Individual,Manual,First Owner,23.01,999,67,5\\nChevrolet,2013,229999,46000,Petrol,Individual,Manual,First Owner,18.2,1199,84.8,5\\nMaruti,2018,220000,10000,Petrol,Individual,Manual,First Owner,16.8,796,34.2,8\\nHyundai,2016,576000,35000,Petrol,Individual,Manual,First Owner,18.6,1197,81.83,5\\nRenault,2016,265000,50000,Petrol,Individual,Manual,First Owner,25.17,799,53.3,5\\nMaruti,2005,50000,60000,Petrol,Individual,Manual,Third Owner,,,,\\nHyundai,2011,300000,80000,Diesel,Individual,Manual,First Owner,22.32,1582,126.32,5\\nTata,2017,420000,110000,Diesel,Individual,Manual,First Owner,24.7,1047,69,5\\nMaruti,2015,750000,14000,Diesel,Individual,Manual,First Owner,20.77,1248,88.76,7\\nMaruti,2012,165000,60000,CNG,Individual,Manual,Second Owner,30.46,796,47.3,5\\nRenault,2017,290000,28000,Petrol,Individual,Manual,First Owner,25.17,799,53.3,5\\nHyundai,2011,160000,57000,Petrol,Individual,Manual,First Owner,21.1,814,55.2,5\\nMaruti,2017,695000,50000,Diesel,Individual,Manual,First Owner,26.59,1248,74,5\\nMaruti,2012,231000,70000,LPG,Individual,Manual,First Owner,26.2,998,58.2,5\\nToyota,2015,1050000,60000,Diesel,Individual,Manual,First Owner,21.43,1364,87.2,5\\nHyundai,2013,400000,70000,Petrol,Individual,Manual,First Owner,18.5,1197,82.85,5\\nHyundai,2016,500000,40000,Petrol,Individual,Manual,First Owner,18.6,1197,81.83,5\\nTata,2010,150000,120000,Diesel,Individual,Manual,Second Owner,21.12,1248,88.8,5\\nMahindra,2016,400000,140000,Diesel,Individual,Manual,Second Owner,14.02,2179,118.3,7\\nTata,2010,120000,100000,Diesel,Individual,Manual,Second Owner,17,1405,70,5\\nMahindra,2014,480000,120000,Diesel,Individual,Manual,Second Owner,14.02,2179,118.3,7\\nTata,2013,200000,120000,Diesel,Individual,Manual,Second Owner,19.09,1405,69.01,5\\nFord,2012,300000,64000,Diesel,Individual,Manual,Second Owner,17.8,1399,67,5\\nMaruti,2015,350000,25000,Petrol,Individual,Manual,First Owner,23.1,998,67.04,5\\nRenault,2019,580000,12000,Petrol,Individual,Manual,First Owner,20,999,72,7\\nChevrolet,2012,200000,70000,Diesel,Individual,Manual,Second Owner,25.44,936,57.6,5\\nMahindra,2016,750000,120000,Diesel,Individual,Manual,First Owner,11,2179,120,5\\nRenault,2016,261000,90000,Petrol,Individual,Manual,First Owner,25.17,799,53.3,5\\nChevrolet,2015,371000,40000,Petrol,Individual,Manual,First Owner,18.2,1199,82.4,5\\nMahindra,2010,320000,300000,Diesel,Individual,Manual,Third Owner,13.6,2523,63,7\\nTata,2012,204999,120000,Diesel,Individual,Manual,Second Owner,19.09,1396,69,5\\nHyundai,2003,110000,90000,Petrol,Individual,Manual,Second Owner,13.2,1495,94,5\\nFord,2009,150000,100000,Diesel,Individual,Manual,Fourth & Above Owner,17.7,1399,68,5\\nMahindra,2016,625000,90000,Diesel,Individual,Manual,Second Owner,15.96,2523,62.1,7\\nMahindra,2017,1300000,50000,Diesel,Individual,Manual,Second Owner,15.4,1997,120,7\\nSkoda,2015,900000,168000,Diesel,Individual,Manual,First Owner,20.6,1968,141,5\\nFord,2010,180000,110000,Diesel,Individual,Manual,Second Owner,20,1399,68,5\\nMahindra,2010,421000,120000,Diesel,Individual,Manual,Second Owner,13.6,2523,63,7\\nTata,2012,204999,120000,Diesel,Individual,Manual,Second Owner,19.09,1396,69,5\\nHonda,2017,900000,40000,Diesel,Individual,Manual,First Owner,25.5,1498,98.6,5\\nHonda,2006,165000,110000,Petrol,Individual,Manual,Second Owner,17.7,1497,78,5\\nHyundai,2010,270000,100000,Diesel,Individual,Manual,Fourth & Above Owner,21.9,1396,90,5\\nMaruti,2017,750000,40000,Diesel,Individual,Manual,First Owner,24.3,1248,88.5,5\\nHyundai,2019,750000,30000,Petrol,Individual,Manual,First Owner,18.6,1197,81.86,5\\nMaruti,2002,40000,80000,Petrol,Individual,Manual,Third Owner,16.1,796,37,4\\nFord,2011,190000,90000,Diesel,Individual,Manual,Second Owner,20,1399,68,5\\nToyota,2009,395000,200000,Diesel,Individual,Manual,Third Owner,12.8,2494,102,7\\nToyota,2010,800000,125000,Diesel,Individual,Manual,Second Owner,11.5,2982,171,7\\nHyundai,2011,315000,80000,Petrol,Individual,Manual,First Owner,17,1197,80,5\\nAudi,2014,1600000,44000,Diesel,Individual,Automatic,Second Owner,16.55,1968,147.51,5\\nToyota,2013,409999,90000,Diesel,Individual,Manual,First Owner,23.59,1364,67.04,5\\nHyundai,2018,580000,32000,Petrol,Individual,Manual,First Owner,18.9,1197,81.86,5\\nHyundai,2013,340000,70000,Petrol,Individual,Manual,First Owner,18.5,1197,82.85,5\\nHyundai,2015,270000,43000,Petrol,Individual,Manual,First Owner,21.1,814,55.2,5\\nTata,2017,280000,80000,Diesel,Individual,Manual,First Owner,22.95,1248,74,5\\nTata,2012,130000,60000,Diesel,Individual,Manual,First Owner,22.3,1248,74,5\\nHyundai,2014,260000,18945,Petrol,Individual,Manual,First Owner,21.1,814,55.2,5\\nHyundai,2018,710000,70000,Diesel,Individual,Manual,First Owner,24,1186,73.97,5\\nMaruti,2013,204999,100000,Petrol,Individual,Manual,Third Owner,15.1,1196,73,7\\nDatsun,2017,300000,60000,Petrol,Individual,Manual,First Owner,20.62,1198,67,7\\nMaruti,2009,180000,144000,Diesel,Individual,Manual,Second Owner,19.3,1248,73.9,5\\nMahindra,2016,700000,120000,Diesel,Individual,Manual,First Owner,18.49,1493,100,7\\nHyundai,2012,320000,107825,Diesel,Individual,Manual,Second Owner,21.9,1396,90,5\\nMaruti,2020,370000,15000,Petrol,Individual,Manual,First Owner,22.05,796,47.3,5\\nRenault,2018,340000,10000,Petrol,Individual,Manual,First Owner,25.17,799,53.3,5\\nMaruti,2019,1040000,1620,Petrol,Individual,Manual,First Owner,19.01,1462,103.2,6\\nHyundai,2018,750000,30000,Diesel,Individual,Manual,First Owner,21.19,1396,88.76,5\\nMahindra,2018,600000,70000,Diesel,Individual,Manual,First Owner,18.49,2179,120,9\\nMahindra,2016,550000,70000,Diesel,Individual,Manual,First Owner,15.96,2523,63,9\\nToyota,2013,600000,95000,Diesel,Individual,Manual,Second Owner,12.99,2494,100.57,7\\nTata,2017,550000,50000,Diesel,Individual,Manual,First Owner,24.7,1047,69,5\\nHonda,2015,750000,160000,Diesel,Individual,Manual,First Owner,25.1,1498,98.6,5\\nHyundai,2019,450000,10000,Petrol,Individual,Manual,First Owner,20.3,1086,68,5\\nMaruti,2012,400000,100000,Diesel,Individual,Manual,Third Owner,20.77,1248,88.76,7\\nMaruti,2016,520000,50000,Diesel,Individual,Manual,Second Owner,25.2,1248,74,5\\nMaruti,2013,199000,60000,Petrol,Individual,Manual,Second Owner,20.2,998,67.1,5\\nChevrolet,2012,150000,110000,Diesel,Individual,Manual,First Owner,25.44,936,57.6,5\\nHyundai,2016,540000,80000,Diesel,Individual,Manual,Third Owner,21.19,1396,88.73,5\\nMaruti,2011,250000,85000,Diesel,Individual,Manual,Second Owner,21.5,1248,88.8,5\\nMaruti,2010,200000,90000,Petrol,Individual,Manual,Second Owner,18.9,1061,67,5\\nTata,2011,130000,90000,Diesel,Individual,Manual,Second Owner,25,1396,69,5\\nMaruti,2007,90000,90000,Petrol,Individual,Manual,First Owner,16.1,796,37,4\\nHyundai,2012,450000,120000,Diesel,Individual,Manual,Second Owner,22.32,1582,126.32,5\\nHyundai,2009,280000,120000,Diesel,Individual,Manual,First Owner,18.1,1493,110,5\\nTata,2007,280000,160000,Diesel,Individual,Manual,Second Owner,13.93,2956,138.1,7\\nMaruti,2006,120000,141000,Petrol,Individual,Manual,Second Owner,17.3,993,60,5\\nMaruti,2008,290000,100000,Diesel,Individual,Manual,Second Owner,17.8,1248,75,5\\nHyundai,2019,1000000,15000,Diesel,Individual,Manual,First Owner,22.1,1396,88.7,5\\nMaruti,2012,415000,108000,Diesel,Individual,Manual,First Owner,19.3,1248,73.9,5\\nMaruti,2012,415000,108000,Diesel,Individual,Manual,First Owner,23.4,1248,74,5\\nChevrolet,2015,240000,55000,Diesel,Individual,Manual,First Owner,25.44,936,56.3,5\\nTata,2010,250000,37944,Diesel,Individual,Manual,First Owner,18.4,1248,75,5\\nFord,2011,175000,90400,Diesel,Individual,Manual,First Owner,20,1399,68,5\\nHyundai,2008,220000,85000,Diesel,Individual,Manual,Second Owner,16.8,1493,110,5\\nMaruti,2003,85000,120000,Diesel,Individual,Manual,Third Owner,20.8,1527,58,5\\nMaruti,2019,675000,5000,Petrol,Individual,Manual,First Owner,21.21,1197,81.8,5\\nRenault,2016,535000,50000,Diesel,Individual,Manual,First Owner,19.87,1461,83.8,5\\nRenault,2019,675000,5000,Petrol,Individual,Manual,First Owner,20,999,72,7\\nMaruti,2016,800000,90000,Diesel,Individual,Manual,First Owner,24.3,1248,88.5,5\\nMaruti,2012,425000,96000,Diesel,Individual,Manual,Second Owner,20.77,1248,88.8,7\\nMaruti,2011,150000,80000,Petrol,Individual,Manual,Third Owner,15.37,1196,73,5\\nMaruti,2007,90000,60000,Petrol,Individual,Manual,Second Owner,18.2,1061,64,5\\nMahindra,2015,850000,90000,Diesel,Individual,Manual,First Owner,15.1,2179,140,7\\nToyota,2008,330000,193623,Diesel,Individual,Manual,Second Owner,12.8,2494,102,8\\nHyundai,2017,850000,63186,Diesel,Individual,Manual,First Owner,22.54,1396,88.73,5\\nMahindra,2008,305000,219000,Diesel,Individual,Manual,Second Owner,13.6,2523,63,7\\nToyota,2013,910000,110000,Diesel,Individual,Manual,Second Owner,12.99,2494,100,7\\nToyota,2012,1100000,151000,Diesel,Individual,Manual,First Owner,12.8,2494,102,8\\nMaruti,2019,675000,5000,Petrol,Individual,Automatic,First Owner,21.4,1197,83.1,5\\nMaruti,2010,150000,91500,Petrol,Individual,Manual,First Owner,19.7,796,46.3,5\\nMaruti,2015,550000,23000,Diesel,Individual,Manual,First Owner,25.2,1248,74,5\\nVolkswagen,2012,350000,40000,Diesel,Individual,Manual,First Owner,20.54,1598,103.6,5\\nMaruti,2012,300000,70000,Diesel,Individual,Manual,First Owner,23.2,1248,73.94,5\\nToyota,2018,1745000,10000,Diesel,Individual,Automatic,First Owner,11.36,2755,171.5,7\\nMahindra,2014,611000,90000,Diesel,Individual,Manual,Second Owner,14,2523,75,7\\nHonda,2016,400000,68000,Petrol,Individual,Manual,First Owner,19.4,1198,86.8,5\\nHyundai,2013,700000,120000,Diesel,Individual,Manual,First Owner,22.7,1582,126.24,5\\nChevrolet,2013,300000,65000,Diesel,Individual,Manual,First Owner,22.1,1248,76.9,5\\nHyundai,2005,65000,85000,Petrol,Individual,Manual,First Owner,15.3,1341,83,5\\nMaruti,2011,200000,94000,Petrol,Individual,Manual,Third Owner,18.9,998,67.1,5\\nHyundai,2015,650000,100000,Diesel,Individual,Manual,First Owner,22.54,1396,88.73,5\\nHyundai,2015,650000,80000,Diesel,Individual,Manual,First Owner,22.54,1396,88.73,5\\nVolkswagen,2013,350000,80000,Diesel,Individual,Manual,Third Owner,22.07,1199,73.9,5\\nTata,2011,75000,140500,Diesel,Individual,Manual,Third Owner,17.88,1396,52.8,5\\nMaruti,2010,240000,143000,Petrol,Individual,Manual,First Owner,17.5,1298,85.8,5\\nMaruti,2013,240000,60000,Petrol,Individual,Manual,First Owner,20.92,998,67.1,5\\nTata,2011,180000,120000,Diesel,Individual,Manual,Second Owner,18.4,1248,75,5\\nHyundai,2014,900000,80000,Diesel,Individual,Automatic,Second Owner,13.01,2199,194.3,7\\nMahindra,2014,425000,63000,Diesel,Individual,Manual,Second Owner,18.06,2523,63,7\\nChevrolet,2009,95000,120000,Petrol,Individual,Manual,Third Owner,18,995,62,5\\nMaruti,2018,811000,100000,Diesel,Individual,Manual,First Owner,28.4,1248,74.02,5\\nHyundai,2018,1100000,60000,Petrol,Individual,Manual,First Owner,17,1591,121.3,5\\nChevrolet,2013,600000,90000,Diesel,Individual,Manual,First Owner,13.58,2499,72.4,9\\nMaruti,2014,550000,50000,Diesel,Individual,Manual,Second Owner,20.77,1248,88.76,7\\nMahindra,2015,715000,70000,Diesel,Individual,Manual,First Owner,15.4,2179,120,7\\nMahindra,2010,300000,40000,Diesel,Individual,Manual,First Owner,,,,\\nTata,2006,100000,120000,Diesel,Individual,Manual,Third Owner,16.1,1405,70,5\\nMahindra,2013,500000,195000,Diesel,Individual,Manual,First Owner,14,2523,75,8\\nMaruti,2013,350000,40000,Petrol,Individual,Manual,First Owner,20.51,998,67.04,5\\nTata,2008,100000,40000,Diesel,Individual,Manual,First Owner,16.8,1405,62,5\\nTata,2012,325000,120000,Diesel,Individual,Manual,First Owner,13.93,2179,138.03,7\\nMaruti,2012,220000,360003,Petrol,Individual,Manual,Second Owner,18.9,998,67.1,5\\nMaruti,1999,55000,60000,Petrol,Individual,Manual,Second Owner,16.1,796,37,4\\nRenault,2016,330000,20000,Petrol,Individual,Manual,First Owner,25.17,799,53.3,5\\nMahindra,2014,480000,37000,Diesel,Individual,Manual,First Owner,15.96,2523,62.1,7\\nMaruti,2018,950000,57000,Diesel,Individual,Manual,Second Owner,25.1,1248,88.5,5\\nHyundai,2011,300000,110000,Diesel,Individual,Manual,Second Owner,16.2,1493,110,5\\nHyundai,2006,170000,110000,Petrol,Individual,Manual,Fourth & Above Owner,13.9,1599,103.2,5\\nToyota,2013,850000,120000,Diesel,Individual,Manual,Second Owner,12.99,2494,100.57,8\\nTata,2019,900000,8079,Diesel,Dealer,Manual,First Owner,24.7,1047,69,5\\nToyota,2015,1325000,114368,Diesel,Dealer,Manual,Second Owner,12.99,2494,100.6,7\\nFord,2012,350000,79990,Diesel,Dealer,Manual,Second Owner,17.8,1399,67,5\\nFord,2012,425000,81632,Diesel,Dealer,Manual,First Owner,20,1399,68,5\\nFord,2016,600000,155201,Diesel,Dealer,Manual,First Owner,26.1,1498,99.23,5\\nFord,2014,750000,101504,Diesel,Dealer,Manual,First Owner,22.7,1498,89.84,5\\nFord,2012,450000,90165,Diesel,Dealer,Manual,First Owner,17.8,1399,67,5\\nFord,2010,325000,86017,Diesel,Dealer,Manual,Second Owner,25.5,1498,99.23,5\\nMahindra,2013,900000,85036,Diesel,Dealer,Manual,Second Owner,15.1,2179,140,7\\nFiat,2013,350000,160254,Diesel,Dealer,Manual,Second Owner,,,,\\nFord,2013,600000,125531,Diesel,Dealer,Manual,Second Owner,22.77,1498,98.59,5\\nHyundai,2019,1100000,10000,Petrol,Individual,Manual,First Owner,17,1591,121.3,5\\nTata,2017,520000,20000,Petrol,Individual,Manual,First Owner,23.84,1199,84,5\\nMahindra,2015,885000,170000,Diesel,Individual,Manual,First Owner,15.4,2179,120,7\\nTata,2018,950000,40000,Diesel,Individual,Automatic,First Owner,21.5,1497,108.5,5\\nHonda,2008,229999,120000,Petrol,Individual,Manual,Second Owner,17,1497,118,5\\nMaruti,2013,409999,100000,Diesel,Individual,Manual,Third Owner,23.2,1248,73.94,5\\nFord,2011,300000,110000,Diesel,Individual,Manual,Third Owner,17.8,1399,68,5\\nTata,2008,175000,120000,Diesel,Individual,Manual,Third Owner,16.8,1405,68,5\\nMaruti,2000,108000,206000,Petrol,Individual,Manual,Fourth & Above Owner,19.7,796,46.3,5\\nMaruti,2017,425000,40000,Petrol,Individual,Manual,Second Owner,23.1,998,67.04,5\\nChevrolet,2011,272000,170000,Diesel,Individual,Manual,Fourth & Above Owner,16.52,1991,123.7,5\\nHyundai,2013,310000,70000,Petrol,Individual,Manual,First Owner,19.81,1086,68.05,5\\nHyundai,2017,1125000,105000,Diesel,Individual,Manual,First Owner,21.38,1396,88.7,5\\nHyundai,2014,450000,46000,Petrol,Individual,Manual,Second Owner,19.1,1197,81.86,5\\nVolkswagen,2011,388000,80000,Diesel,Individual,Manual,Second Owner,22.07,1199,73.9,5\\nHyundai,2011,400000,60000,Petrol,Individual,Manual,First Owner,16.2,1599,103.2,5\\nHonda,2015,760000,70000,Diesel,Individual,Manual,Third Owner,25.1,1498,98.6,5\\nMaruti,2009,120000,90000,Petrol,Individual,Manual,First Owner,19.7,796,46.3,5\\nMaruti,2019,757000,25000,Diesel,Individual,Manual,First Owner,28.4,1248,74.02,5\\nMaruti,2015,270000,53000,Petrol,Individual,Manual,Second Owner,22.74,796,47.3,5\\nTata,2011,250000,90000,Diesel,Individual,Manual,Second Owner,13.55,2179,118.35,7\\nToyota,2011,800000,60000,Diesel,Individual,Manual,First Owner,12.8,2494,102,7\\nToyota,2014,1380000,150000,Diesel,Individual,Manual,First Owner,13,2982,168.5,7\\nMahindra,2014,700000,24000,Diesel,Individual,Manual,First Owner,16.55,2498,105,6\\nHonda,2016,450000,100000,Diesel,Individual,Manual,Second Owner,24.2,1498,98.6,7\\nMahindra,2018,650000,6000,Petrol,Individual,Manual,First Owner,18.15,1198,82,6\\nMahindra,2013,950000,49700,Diesel,Individual,Manual,First Owner,15.1,2179,140,7\\nToyota,2007,626000,80000,Diesel,Individual,Manual,Second Owner,12.8,2494,102,7\\nToyota,2000,200000,100000,Diesel,Individual,Manual,First Owner,,,,\\nMaruti,2019,600000,10000,Petrol,Individual,Automatic,First Owner,21.21,1197,81.8,5\\nRenault,2019,290000,21000,Petrol,Individual,Manual,First Owner,25.17,799,53.3,5\\nMaruti,2013,215000,25000,Petrol,Individual,Manual,First Owner,20.92,998,67.1,5\\nRenault,2016,250000,22000,Petrol,Individual,Manual,First Owner,25.17,799,53.3,5\\nMaruti,2017,750000,50000,Diesel,Individual,Manual,First Owner,24.52,1248,88.5,7\\nMaruti,2016,250000,20000,Petrol,Individual,Manual,Second Owner,23.95,998,67.05,5\\nHonda,2017,950000,15000,Petrol,Individual,Automatic,First Owner,15.4,1497,117.3,7\\nFord,2018,793000,30000,Diesel,Individual,Manual,First Owner,25.83,1498,99,5\\nHyundai,2015,750000,74000,Diesel,Individual,Manual,First Owner,19.67,1582,126.2,5\\nHonda,2017,725000,6550,Petrol,Individual,Automatic,First Owner,18.2,1199,88.7,5\\nHyundai,2016,480000,30000,Diesel,Individual,Manual,First Owner,24,1120,70,5\\nBMW,2013,3750000,56000,Diesel,Dealer,Automatic,First Owner,11.2,2993,241,4\\nMaruti,2018,795000,41779,Petrol,Dealer,Manual,First Owner,21.21,1197,81.8,5\\nHonda,2016,625000,54000,Petrol,Dealer,Manual,First Owner,18.7,1199,88.7,5\\nMercedes-Benz,2016,2900000,31000,Diesel,Dealer,Automatic,First Owner,13,2143,204,5\\nMaruti,2017,625000,37000,Diesel,Individual,Automatic,First Owner,26.8,1248,74,5\\nChevrolet,2011,440000,90000,Diesel,Individual,Automatic,Second Owner,18.1,1991,147.9,4\\nToyota,2018,1400000,13534,Petrol,Dealer,Manual,First Owner,14.28,1798,138.03,5\\nToyota,2017,1450000,7000,Petrol,Dealer,Automatic,Second Owner,14.53,1794,138.1,5\\nMercedes-Benz,2017,2700000,23000,Diesel,Dealer,Automatic,First Owner,17.9,2143,136,5\\nToyota,2019,1925000,43000,Diesel,Dealer,Automatic,First Owner,11.36,2755,171.5,8\\nKia,2020,1900000,5000,Diesel,Dealer,Automatic,First Owner,17.8,1493,113.4,5\\nMaruti,2017,844999,70000,Diesel,Dealer,Manual,First Owner,28.09,1248,88.5,5\\nSkoda,2016,650000,99000,Diesel,Dealer,Automatic,First Owner,21.66,1498,103.52,5\\nMaruti,2018,750000,15000,Petrol,Dealer,Manual,First Owner,22,1197,81.8,5\\nBMW,2018,6000000,28156,Diesel,Dealer,Automatic,First Owner,17.09,2993,261.4,4\\nHonda,2015,610000,30000,Petrol,Dealer,Manual,First Owner,18.7,1199,88.7,5\\nToyota,2018,2940000,100000,Diesel,Dealer,Automatic,First Owner,12.9,2755,174.5,7\\nHyundai,2017,1150000,63309,Diesel,Dealer,Manual,First Owner,19.67,1582,126.2,5\\nToyota,2016,1825000,94000,Diesel,Dealer,Automatic,First Owner,11.36,2755,171.5,7\\nHyundai,2018,890000,29000,Petrol,Dealer,Automatic,First Owner,17.4,1197,81.86,5\\nJaguar,2017,2625000,9000,Diesel,Dealer,Automatic,First Owner,13.6,1999,177,5\\nLexus,2019,5150000,20000,Petrol,Dealer,Automatic,First Owner,22.37,2487,214.56,5\\nJaguar,2017,3200000,45000,Diesel,Dealer,Automatic,First Owner,19.33,1999,177,5\\nTata,2015,503000,110000,Diesel,Individual,Manual,First Owner,14.1,2179,147.94,7\\nVolvo,2019,3800000,20000,Diesel,Individual,Automatic,First Owner,18,1969,190,5\\nToyota,2016,2000000,68089,Petrol,Trustmark Dealer,Automatic,First Owner,19.16,2494,157.7,5\\nMaruti,2013,225000,58343,Petrol,Trustmark Dealer,Manual,First Owner,21.79,998,67.05,5\\nMaruti,2018,740000,38817,Diesel,Dealer,Manual,First Owner,27.39,1248,74,5\\nHonda,2016,550000,56494,Petrol,Trustmark Dealer,Manual,First Owner,18.2,1199,88.7,5\\nToyota,2013,750000,79328,Diesel,Trustmark Dealer,Manual,Second Owner,12.99,2494,100.6,7\\nMaruti,2019,650000,5621,Petrol,Trustmark Dealer,Automatic,First Owner,22,1197,81.8,5\\nToyota,2017,625000,25538,Petrol,Trustmark Dealer,Manual,First Owner,16.78,1496,88.73,5\\nMaruti,2018,600000,69779,Petrol,Dealer,Automatic,First Owner,22,1197,81.8,5\\nHyundai,2017,450000,56290,Diesel,Dealer,Manual,First Owner,24,1186,73.97,5\\nBMW,2019,5400000,7500,Diesel,Dealer,Automatic,First Owner,16.78,1995,190,5\\nBMW,2019,5500000,8500,Diesel,Dealer,Automatic,First Owner,16.78,1995,190,5\\nHonda,2019,779000,7032,Petrol,Trustmark Dealer,Automatic,First Owner,19,1199,88.76,5\\nSkoda,2016,645000,11000,Petrol,Dealer,Automatic,First Owner,14.3,1598,103.5,5\\nVolvo,2018,2475000,2000,Diesel,Dealer,Automatic,First Owner,16.8,1984,150,5\\nJaguar,2017,2625000,9000,Diesel,Dealer,Automatic,First Owner,13.6,1999,177,5\\nLexus,2019,5150000,20000,Petrol,Dealer,Automatic,First Owner,22.37,2487,214.56,5\\nJaguar,2017,3200000,45000,Diesel,Dealer,Automatic,First Owner,19.33,1999,177,5\\nTata,2015,503000,110000,Diesel,Individual,Manual,First Owner,14.1,2179,147.94,7\\nVolvo,2019,3800000,20000,Diesel,Individual,Automatic,First Owner,18,1969,190,5\\nToyota,2016,2000000,68089,Petrol,Trustmark Dealer,Automatic,First Owner,19.16,2494,157.7,5\\nMaruti,2013,225000,58343,Petrol,Trustmark Dealer,Manual,First Owner,21.79,998,67.05,5\\nMaruti,2018,740000,38817,Diesel,Dealer,Manual,First Owner,27.39,1248,74,5\\nHonda,2016,550000,56494,Petrol,Trustmark Dealer,Manual,First Owner,18.2,1199,88.7,5\\nToyota,2013,750000,79328,Diesel,Trustmark Dealer,Manual,Second Owner,12.99,2494,100.6,7\\nMaruti,2019,650000,5621,Petrol,Trustmark Dealer,Automatic,First Owner,22,1197,81.8,5\\nToyota,2017,625000,25538,Petrol,Trustmark Dealer,Manual,First Owner,16.78,1496,88.73,5\\nMaruti,2018,600000,69779,Petrol,Dealer,Automatic,First Owner,22,1197,81.8,5\\nHyundai,2017,450000,56290,Diesel,Dealer,Manual,First Owner,24,1186,73.97,5\\nBMW,2019,5400000,7500,Diesel,Dealer,Automatic,First Owner,16.78,1995,190,5\\nBMW,2019,5500000,8500,Diesel,Dealer,Automatic,First Owner,16.78,1995,190,5\\nHonda,2019,779000,7032,Petrol,Trustmark Dealer,Automatic,First Owner,19,1199,88.76,5\\nSkoda,2016,645000,11000,Petrol,Dealer,Automatic,First Owner,14.3,1598,103.5,5\\nVolvo,2018,2475000,2000,Diesel,Dealer,Automatic,First Owner,16.8,1984,150,5\\nJaguar,2017,2625000,9000,Diesel,Dealer,Automatic,First Owner,13.6,1999,177,5\\nLexus,2019,5150000,20000,Petrol,Dealer,Automatic,First Owner,22.37,2487,214.56,5\\nJaguar,2017,3200000,45000,Diesel,Dealer,Automatic,First Owner,19.33,1999,177,5\\nTata,2015,503000,110000,Diesel,Individual,Manual,First Owner,14.1,2179,147.94,7\\nVolvo,2019,3800000,20000,Diesel,Individual,Automatic,First Owner,18,1969,190,5\\nToyota,2016,2000000,68089,Petrol,Trustmark Dealer,Automatic,First Owner,19.16,2494,157.7,5\\nMaruti,2013,225000,58343,Petrol,Trustmark Dealer,Manual,First Owner,21.79,998,67.05,5\\nMaruti,2018,740000,38817,Diesel,Dealer,Manual,First Owner,27.39,1248,74,5\\nHonda,2016,550000,56494,Petrol,Trustmark Dealer,Manual,First Owner,18.2,1199,88.7,5\\nToyota,2013,750000,79328,Diesel,Trustmark Dealer,Manual,Second Owner,12.99,2494,100.6,7\\nMaruti,2019,650000,5621,Petrol,Trustmark Dealer,Automatic,First Owner,22,1197,81.8,5\\nToyota,2017,625000,25538,Petrol,Trustmark Dealer,Manual,First Owner,16.78,1496,88.73,5\\nMaruti,2018,600000,69779,Petrol,Dealer,Automatic,First Owner,22,1197,81.8,5\\nHyundai,2017,450000,56290,Diesel,Dealer,Manual,First Owner,24,1186,73.97,5\\nBMW,2019,5400000,7500,Diesel,Dealer,Automatic,First Owner,16.78,1995,190,5\\nBMW,2019,5500000,8500,Diesel,Dealer,Automatic,First Owner,16.78,1995,190,5\\nHonda,2019,779000,7032,Petrol,Trustmark Dealer,Automatic,First Owner,19,1199,88.76,5\\nSkoda,2016,645000,11000,Petrol,Dealer,Automatic,First Owner,14.3,1598,103.5,5\\nVolvo,2018,2475000,2000,Diesel,Dealer,Automatic,First Owner,16.8,1984,150,5\\nJaguar,2017,2625000,9000,Diesel,Dealer,Automatic,First Owner,13.6,1999,177,5\\nLexus,2019,5150000,20000,Petrol,Dealer,Automatic,First Owner,22.37,2487,214.56,5\\nJaguar,2017,3200000,45000,Diesel,Dealer,Automatic,First Owner,19.33,1999,177,5\\nTata,2015,503000,110000,Diesel,Individual,Manual,First Owner,14.1,2179,147.94,7\\nVolvo,2019,3800000,20000,Diesel,Individual,Automatic,First Owner,18,1969,190,5\\nToyota,2016,2000000,68089,Petrol,Trustmark Dealer,Automatic,First Owner,19.16,2494,157.7,5\\nMaruti,2013,225000,58343,Petrol,Trustmark Dealer,Manual,First Owner,21.79,998,67.05,5\\nMaruti,2018,740000,38817,Diesel,Dealer,Manual,First Owner,27.39,1248,74,5\\nHonda,2016,550000,56494,Petrol,Trustmark Dealer,Manual,First Owner,18.2,1199,88.7,5\\nToyota,2013,750000,79328,Diesel,Trustmark Dealer,Manual,Second Owner,12.99,2494,100.6,7\\nMaruti,2019,650000,5621,Petrol,Trustmark Dealer,Automatic,First Owner,22,1197,81.8,5\\nToyota,2017,625000,25538,Petrol,Trustmark Dealer,Manual,First Owner,16.78,1496,88.73,5\\nMaruti,2018,600000,69779,Petrol,Dealer,Automatic,First Owner,22,1197,81.8,5\\nHyundai,2017,450000,56290,Diesel,Dealer,Manual,First Owner,24,1186,73.97,5\\nBMW,2019,5400000,7500,Diesel,Dealer,Automatic,First Owner,16.78,1995,190,5\\nBMW,2019,5500000,8500,Diesel,Dealer,Automatic,First Owner,16.78,1995,190,5\\nHonda,2019,779000,7032,Petrol,Trustmark Dealer,Automatic,First Owner,19,1199,88.76,5\\nSkoda,2016,645000,11000,Petrol,Dealer,Automatic,First Owner,14.3,1598,103.5,5\\nVolvo,2018,2475000,2000,Diesel,Dealer,Automatic,First Owner,16.8,1984,150,5\\nTata,2017,385000,155000,Diesel,Individual,Manual,First Owner,25,1396,69.01,5\\nMaruti,2016,400000,35000,Petrol,Individual,Automatic,First Owner,23.1,998,67.04,5\\nHyundai,2018,550000,50000,Diesel,Individual,Manual,First Owner,24,1186,73.97,5\\nChevrolet,2010,270000,185000,Diesel,Individual,Manual,First Owner,14.8,2499,80,7\\nTata,2013,200000,175000,Diesel,Individual,Manual,Second Owner,19.09,1396,69,5\\nRenault,2016,310000,11500,Petrol,Individual,Manual,First Owner,25.17,799,53.3,5\\nHyundai,2019,700000,3000,Diesel,Individual,Manual,First Owner,25.4,1186,73.97,5\\nChevrolet,2015,480000,80000,Diesel,Individual,Manual,Second Owner,22.1,1248,74,5\\nMaruti,2005,90000,40000,Petrol,Individual,Manual,Second Owner,19.7,796,46.3,5\\nMaruti,2005,80000,40000,Petrol,Individual,Manual,Second Owner,19.7,796,46.3,5\\nMaruti,2015,350000,90000,Diesel,Individual,Manual,First Owner,23.2,1248,73.94,5\\nMaruti,2017,600000,100000,Diesel,Individual,Manual,First Owner,23.65,1248,88.5,5\\nMahindra,2011,350000,120000,Diesel,Individual,Manual,Third Owner,13.5,2179,115,5\\nMaruti,2018,770000,50000,Diesel,Individual,Manual,First Owner,24.3,1248,88.5,5\\nMahindra,2012,350000,25000,Diesel,Individual,Manual,First Owner,21.03,1461,65,5\\nMahindra,2011,600000,50000,Diesel,Individual,Manual,Third Owner,12.05,2179,120,8\\nMahindra,2016,750000,71000,Diesel,Individual,Manual,First Owner,18.49,1493,100,7\\nMaruti,2016,340000,40000,Petrol,Individual,Manual,First Owner,20.51,998,67.04,5\\nHyundai,2018,650000,31800,Petrol,Individual,Manual,First Owner,18.6,1197,81.86,5\\nHyundai,2014,300000,65000,Petrol,Individual,Manual,First Owner,20.36,1197,78.9,5\\nMaruti,2014,204999,15000,Petrol,Individual,Manual,Second Owner,22.74,796,47.3,5\\nMahindra,2012,254999,70000,Diesel,Individual,Manual,Second Owner,20.8,1461,65,5\\nFord,2017,650000,5000,Petrol,Individual,Manual,First Owner,18.16,1196,86.8,5\\nHyundai,2017,280000,50000,Petrol,Individual,Manual,Second Owner,21.1,814,55.2,5\\nTata,2011,100000,80000,Diesel,Individual,Manual,First Owner,17.2,1396,53.5,5\\nChevrolet,2014,575000,70000,Diesel,Individual,Manual,Second Owner,13.58,2499,72.4,9\\nMaruti,2017,780000,40000,Diesel,Individual,Manual,First Owner,24.3,1248,88.5,5\\nMahindra,2013,467000,157000,Diesel,Individual,Manual,First Owner,15.96,2523,62.1,7\\nMahindra,2015,1050000,90000,Diesel,Individual,Manual,First Owner,15.4,2179,120,7\\nHyundai,2011,225000,80000,Petrol,Individual,Manual,Second Owner,19.81,1086,68.05,5\\nHyundai,2004,90000,90000,Petrol,Individual,Manual,Third Owner,,,,\\nHyundai,2004,80000,80000,Petrol,Individual,Automatic,Third Owner,,,,\\nToyota,2012,300000,80000,Diesel,Individual,Manual,First Owner,,,,\\nMahindra,2012,260000,70000,Diesel,Individual,Manual,Second Owner,21.03,1461,65,5\\nChevrolet,2009,90000,50000,Petrol,Individual,Manual,Second Owner,16,995,63,5\\nFord,2012,280000,60000,Diesel,Individual,Manual,First Owner,20,1399,68,5\\nMahindra,2014,350000,106000,Diesel,Individual,Manual,Second Owner,20.8,1461,65,5\\nMahindra,2006,229999,80000,Diesel,Individual,Manual,Second Owner,10.5,2179,120,7\\nMahindra,2016,550000,80000,Diesel,Individual,Manual,Second Owner,15.96,2523,63,9\\nToyota,2013,850000,110000,Diesel,Individual,Manual,Second Owner,12.99,2494,100,8\\nMahindra,2011,370000,120000,Diesel,Individual,Manual,Third Owner,13.6,2523,63,7\\nMaruti,2013,250000,27000,Petrol,Individual,Manual,First Owner,20.92,998,67.1,5\\nMaruti,2007,95000,70000,Petrol,Individual,Manual,Second Owner,19.7,796,46.3,5\\nMaruti,2010,180000,70000,Petrol,Individual,Manual,Second Owner,18.9,1061,67,5\\nMahindra,2016,650000,50000,Diesel,Individual,Automatic,First Owner,17.45,1493,100,7\\nHyundai,2018,530000,60000,Diesel,Individual,Manual,First Owner,25.4,1186,73.97,5\\nMaruti,2017,610000,15000,Petrol,Individual,Manual,First Owner,22,1197,81.8,5\\nMaruti,2011,200000,40000,Petrol,Individual,Manual,First Owner,,,,\\nMahindra,2010,265000,135000,Diesel,Individual,Manual,First Owner,14,2498,112,8\\nTata,2018,560000,26300,Petrol,Individual,Manual,First Owner,23.84,1199,84,5\\nMahindra,2014,430000,120000,Diesel,Individual,Manual,First Owner,15.96,2523,62.1,7\\nMaruti,2017,711000,35000,Diesel,Individual,Manual,First Owner,28.4,1248,74.02,5\\nMaruti,2015,511000,30000,Petrol,Individual,Manual,First Owner,20.85,1197,83.14,5\\nMahindra,2012,450000,165000,Diesel,Individual,Manual,First Owner,15.96,2523,62.1,7\\nTata,2015,325000,50000,Petrol,Individual,Manual,First Owner,17.57,1193,88.7,5\\nRenault,2013,434999,120000,Diesel,Individual,Manual,First Owner,21.64,1461,84.8,5\\nFord,2010,210000,100000,Diesel,Individual,Manual,Second Owner,20,1399,68,5\\nMaruti,2009,140000,90000,Petrol,Individual,Manual,Third Owner,,,,\\nMaruti,2007,160000,120000,Petrol,Individual,Manual,Second Owner,15,1586,104.68,5\\nMaruti,2017,650000,70000,Petrol,Individual,Manual,Second Owner,17.5,1373,91.1,7\\nMaruti,2008,250000,90000,Diesel,Individual,Manual,Second Owner,,,,\\nHyundai,2014,320000,72000,Petrol,Individual,Manual,First Owner,18.6,1197,81.83,5\\nRenault,2017,290000,50000,Petrol,Individual,Manual,First Owner,23.01,999,67,5\\nMahindra,1996,163000,5000,Diesel,Individual,Manual,Second Owner,,,,\\nTata,2013,80000,30000,Petrol,Individual,Manual,First Owner,25.4,624,37.48,4\\nTata,2017,1100000,20000,Diesel,Individual,Manual,First Owner,14.1,2179,147.94,7\\nMaruti,2015,600000,110000,Diesel,Individual,Manual,First Owner,26.21,1248,88.5,5\\nRenault,2017,340000,25000,Petrol,Individual,Manual,First Owner,25.17,799,53.3,5\\nToyota,2014,750000,120000,Diesel,Individual,Manual,First Owner,12.99,2494,100.6,7\\nMaruti,2006,100000,40000,Petrol,Individual,Manual,First Owner,19.7,796,46.3,5\\nRenault,2019,395000,10000,Petrol,Individual,Manual,First Owner,25.17,799,53.3,5\\nMaruti,2010,200000,65000,Petrol,Individual,Manual,First Owner,18.9,1061,67,5\\nMaruti,2019,450000,10000,CNG,Individual,Manual,First Owner,21.94,1196,61.7,5\\nMahindra,2012,180000,110000,Petrol,Individual,Manual,Second Owner,13.87,1390,75,5\\nMahindra,2008,190000,120000,Diesel,Individual,Manual,Second Owner,13.6,2523,63,7\\nMaruti,2015,310000,72000,Petrol,Individual,Manual,First Owner,15.37,1196,73,5\\nMaruti,2014,351000,89100,Diesel,Individual,Manual,Second Owner,23.2,1248,73.94,5\\nChevrolet,2006,190000,94000,Petrol,Individual,Manual,Second Owner,17.4,1599,104,5\\nHyundai,2015,225000,120000,Petrol,Individual,Manual,Second Owner,21.1,814,55.2,5\\nChevrolet,2012,130000,110000,Petrol,Individual,Manual,First Owner,16.2,995,62.1,5\\nMaruti,2018,1000000,50000,Diesel,Individual,Manual,First Owner,28.09,1248,88.5,5\\nTata,2004,55000,90000,Diesel,Individual,Manual,Third Owner,16.8,1405,62,5\\nChevrolet,2014,330000,23000,Petrol,Individual,Manual,First Owner,18.2,1199,82.4,5\\nMaruti,2013,166000,50000,Petrol,Individual,Manual,First Owner,16.8,796,34.2,5\\nMahindra,2013,200000,300000,Diesel,Individual,Manual,First Owner,14,2498,112,8\\nMaruti,2011,140000,50000,Petrol,Individual,Manual,Third Owner,20.92,998,67.1,5\\nMaruti,2017,370000,140000,CNG,Individual,Manual,First Owner,21.94,1196,61.7,5\\nHyundai,2019,720000,16000,Petrol,Individual,Automatic,First Owner,17.4,1197,81.86,5\\nHyundai,2015,500000,126000,Diesel,Individual,Manual,First Owner,21.19,1396,88.73,5\\nHyundai,2019,570000,15000,Petrol,Individual,Manual,First Owner,20.14,1197,81.86,5\\nMaruti,2010,210000,200000,Petrol,Individual,Manual,First Owner,17.5,1197,85.8,5\\nMaruti,2009,120000,120000,Petrol,Individual,Manual,First Owner,19.7,796,46.3,5\\nHyundai,2005,95000,120000,Petrol,Individual,Manual,Fourth & Above Owner,15.3,1341,83,5\\nHyundai,2010,196000,110000,Petrol,Individual,Automatic,Third Owner,16.95,1197,78.9,5\\nMaruti,2016,392000,38000,Petrol,Individual,Manual,First Owner,15.37,1196,73,5\\nTata,2010,150000,104000,Petrol,Individual,Manual,First Owner,15,1368,90,5\\nHonda,2017,595000,120000,Petrol,Individual,Manual,First Owner,15.4,1497,117.3,7\\nMaruti,2018,833000,35000,Diesel,Individual,Automatic,First Owner,24.3,1248,88.5,5\\nMaruti,2011,280000,210000,Diesel,Individual,Manual,First Owner,22.9,1248,74,5\\nMaruti,2003,35000,35000,Petrol,Individual,Manual,Second Owner,16.1,796,37,4\\nMaruti,2009,180000,85000,Diesel,Individual,Manual,Third Owner,21.1,1248,73.9,5\\nMaruti,2012,225000,80000,Petrol,Individual,Manual,First Owner,18.9,998,67.1,5\\nMercedes-Benz,2012,1400000,50000,Diesel,Individual,Automatic,First Owner,14.84,2143,170,5\\nHyundai,2009,340000,40000,Diesel,Individual,Manual,First Owner,23,1396,90,5\\nToyota,2010,550000,216000,Diesel,Individual,Manual,First Owner,12.8,2494,102,8\\nMaruti,2017,400000,65000,Petrol,Individual,Manual,Second Owner,20.51,998,67.04,5\\nHyundai,2006,90000,100000,Petrol,Individual,Manual,Third Owner,15.3,1341,83,5\\nMaruti,2015,650000,84000,Diesel,Individual,Manual,First Owner,28.09,1248,88.5,5\\nToyota,2012,730000,210000,Diesel,Individual,Manual,First Owner,12.99,2494,100,7\\nChevrolet,2010,125000,60000,Petrol,Individual,Manual,First Owner,15.26,1150,74.9,5\\nHyundai,2006,81000,100000,Petrol,Individual,Manual,Fourth & Above Owner,15.3,1341,83,5\\nMaruti,2007,170000,78000,Petrol,Individual,Manual,Second Owner,16.1,1298,88.2,5\\nHonda,2002,81000,161000,Petrol,Individual,Manual,Fourth & Above Owner,13,1493,100,5\\nMaruti,2005,95000,70000,Petrol,Individual,Manual,Third Owner,19.7,796,46.3,5\\nTata,2010,55000,50000,Petrol,Individual,Manual,Third Owner,26,624,35,4\\nRenault,2017,880000,65000,Diesel,Individual,Manual,First Owner,19.98,1461,108.5,8\\nRenault,2015,200000,50000,Petrol,Individual,Manual,First Owner,25.17,799,53.3,5\\nMaruti,2019,480000,25000,Petrol,Individual,Manual,First Owner,20.52,1197,81.8,5\\nMahindra,2013,480000,100000,Diesel,Individual,Manual,First Owner,15.96,2523,62.1,9\\nHyundai,2018,700000,6000,Petrol,Individual,Manual,First Owner,18.6,1197,81.83,5\\nHonda,2016,850000,72113,Diesel,Individual,Manual,First Owner,21.9,1498,98.6,7\\nTata,2012,300000,40000,Diesel,Individual,Manual,First Owner,23.57,1396,70,5\\nHyundai,2017,650000,8000,Petrol,Individual,Manual,First Owner,18.6,1197,81.83,5\\nMaruti,2010,220000,20000,Petrol,Individual,Manual,First Owner,21.1,1197,85.8,5\\nTata,2014,300000,45000,Diesel,Individual,Manual,First Owner,19.09,1405,69.01,5\\nMaruti,2014,450000,80000,Diesel,Individual,Manual,First Owner,23.4,1248,74,5\\nMaruti,2014,400000,90000,Diesel,Individual,Manual,First Owner,25.2,1248,74,5\\nMaruti,2018,1030000,25000,Diesel,Individual,Manual,First Owner,25.1,1248,88.5,5\\nTata,2010,190000,100000,Diesel,Individual,Manual,Second Owner,18.8,1248,90,5\\nFord,2006,140000,60000,Petrol,Individual,Manual,Second Owner,16.6,1388,68,5\\nHyundai,2018,800000,30000,Diesel,Individual,Manual,First Owner,21.19,1396,88.76,5\\nMahindra,2007,229999,120000,Diesel,Individual,Manual,Third Owner,10.5,2609,120,7\\nTata,2011,300000,80000,Diesel,Individual,Manual,Second Owner,13.93,2179,138.03,7\\nVolkswagen,2011,375000,69000,Diesel,Individual,Manual,Second Owner,20.54,1598,103.6,5\\nChevrolet,2010,140000,75000,Petrol,Individual,Manual,First Owner,18.6,1199,79.4,5\\nMaruti,2004,60000,113000,Petrol,Individual,Manual,Second Owner,19.7,796,46.3,5\\nHyundai,2014,420000,90000,Diesel,Individual,Manual,Second Owner,24.4,1120,71.01,5\\nRenault,2012,300000,100000,Diesel,Individual,Manual,Third Owner,23.08,1461,63.12,5\\nTata,2012,150000,110000,Diesel,Individual,Manual,First Owner,22.3,1248,74,5\\nFord,2015,600000,90000,Diesel,Individual,Manual,First Owner,22.77,1498,98.59,5\\nFord,2011,204999,100000,Diesel,Individual,Manual,Second Owner,20,1399,68,5\\nHyundai,2017,625000,50000,Diesel,Individual,Manual,First Owner,25.4,1186,73.97,5\\nFiat,2011,280000,200000,Diesel,Individual,Manual,First Owner,20.5,1248,91.7,5\\nHyundai,2014,1050000,146000,Diesel,Individual,Automatic,Second Owner,13.01,2199,194.3,7\\nChevrolet,2009,250000,80000,Petrol,Individual,Manual,Second Owner,12.9,1598,102.5,5\\nTata,2010,535000,96443,Diesel,Individual,Manual,Second Owner,11.57,2179,138.1,7\\nHonda,2009,400000,100000,Petrol,Individual,Automatic,Second Owner,11.7,2354,177.6,5\\nMaruti,2019,610000,10000,Petrol,Individual,Automatic,First Owner,21.21,1197,81.8,5\\nMaruti,2014,509999,110000,Diesel,Individual,Manual,First Owner,23.4,1248,74,5\\nTata,2014,521000,86000,Diesel,Individual,Manual,Second Owner,14,2179,138.1,7\\nMaruti,2014,511000,100000,Diesel,Individual,Manual,First Owner,23.4,1248,74,5\\nHyundai,2014,451000,91000,Diesel,Individual,Manual,First Owner,22.54,1396,88.73,5\\nHyundai,2009,170000,100000,Petrol,Individual,Manual,First Owner,20.36,1197,78.9,5\\nMaruti,2013,450000,120000,Diesel,Individual,Manual,Second Owner,23.4,1248,74,5\\nHonda,2011,375000,90000,Petrol,Individual,Manual,Second Owner,17,1497,118,5\\nMaruti,2016,305000,60000,Petrol,Individual,Manual,Second Owner,22.74,796,47.3,5\\nRenault,2016,315000,51500,Petrol,Individual,Manual,First Owner,25.17,799,53.3,5\\nChevrolet,2016,250000,60000,Diesel,Individual,Manual,Second Owner,22.1,1248,74,5\\nFord,2012,200000,104500,Diesel,Individual,Manual,Second Owner,20,1399,68,5\\nFord,2018,950000,30000,Diesel,Individual,Manual,First Owner,23,1498,98.96,5\\nRenault,2012,400000,120000,Diesel,Individual,Manual,Third Owner,19.01,1461,108.45,5\\nMaruti,2014,509999,100000,Diesel,Individual,Manual,Second Owner,22.9,1248,74,5\\nHonda,2008,375000,90000,Petrol,Individual,Manual,Third Owner,13.5,1799,130,5\\nMaruti,2005,150000,150000,Petrol,Individual,Manual,Third Owner,18.9,998,67.1,5\\nMaruti,2006,75000,60000,Petrol,Individual,Automatic,First Owner,18.9,998,67.1,5\\nHyundai,2015,465000,50000,Petrol,Individual,Manual,Second Owner,17.43,1396,105.5,5\\nHyundai,2019,700000,10000,Diesel,Individual,Manual,First Owner,24,1186,73.97,5\\nMahindra,2015,950000,120000,Diesel,Individual,Manual,Third Owner,15.4,1997,120,7\\nHyundai,2017,610000,40000,Petrol,Individual,Manual,First Owner,18.6,1197,81.83,5\\nHyundai,2004,60000,120000,Petrol,Individual,Manual,Second Owner,,,,\\nMaruti,2014,235000,50000,Petrol,Individual,Manual,First Owner,22.74,796,47.3,5\\nMaruti,2017,330000,90000,Petrol,Individual,Manual,First Owner,15.37,1196,73,5\\nNissan,2014,472000,90000,Diesel,Individual,Manual,First Owner,20.45,1461,83.8,5\\nMaruti,2019,585000,10000,Petrol,Individual,Manual,First Owner,21.21,1197,81.8,5\\nMahindra,2018,500000,10000,Diesel,Individual,Manual,First Owner,23.5,909,45,8\\nMaruti,2019,360000,27000,Petrol,Individual,Manual,First Owner,23.95,998,67.05,5\\nMaruti,2016,649000,70000,Diesel,Individual,Manual,First Owner,26.59,1248,74,5\\nMaruti,2017,200000,50000,Petrol,Individual,Manual,First Owner,16.8,796,34.2,5\\nMaruti,2008,240000,60000,Petrol,Individual,Manual,First Owner,,,,\\nHyundai,2014,400000,110000,Diesel,Individual,Manual,First Owner,24,1120,70,5\\nMaruti,2015,250000,100000,Diesel,Individual,Manual,Second Owner,27.62,793,47,5\\nMahindra,2018,1200000,50000,Diesel,Individual,Manual,First Owner,17.3,1497,121,7\\nMaruti,2009,250000,105000,Diesel,Individual,Manual,Second Owner,17.8,1248,75,5\\nToyota,2013,819999,110000,Diesel,Individual,Manual,First Owner,12.99,2494,100.6,8\\nMahindra,2014,800000,60000,Diesel,Individual,Manual,Second Owner,15.1,2179,140,7\\nFord,2013,429000,49102,Petrol,Dealer,Manual,Second Owner,18.88,999,123.37,5\\nHyundai,2010,150000,60000,Petrol,Individual,Manual,Third Owner,17.92,1086,62.1,5\\nMaruti,2010,315000,120000,Diesel,Individual,Manual,Second Owner,,,,\\nChevrolet,2012,170000,90000,Diesel,Individual,Manual,First Owner,25.44,936,57.6,5\\nHonda,2014,335000,33033,Petrol,Dealer,Manual,First Owner,19.4,1198,86.8,5\\nHyundai,2015,465000,63063,Petrol,Dealer,Automatic,First Owner,18.9,1197,82,5\\nRenault,2013,360000,81000,Diesel,Individual,Manual,Second Owner,19.01,1461,108.45,5\\nHyundai,2018,570000,80000,Diesel,Individual,Manual,First Owner,25.4,1186,73.97,5\\nRenault,2012,350000,105000,Diesel,Individual,Manual,Second Owner,19.01,1461,108.45,5\\nMahindra,2017,600000,60000,Diesel,Individual,Manual,First Owner,,,,\\nMaruti,2017,700000,227000,Petrol,Individual,Manual,First Owner,17.5,1373,91.1,7\\nRenault,2012,375000,100000,Diesel,Individual,Manual,Second Owner,19.01,1461,108.45,5\\nMaruti,2019,450000,60000,CNG,Individual,Manual,First Owner,21.94,1196,61.7,5\\nHyundai,2013,325000,70000,Diesel,Individual,Manual,Third Owner,21.9,1396,88.76,5\\nVolkswagen,2011,260000,120000,Diesel,Individual,Manual,Third Owner,20.54,1598,103.6,5\\nMaruti,2009,130000,80000,Petrol,Individual,Manual,Third Owner,19.7,796,46.3,5\\nTata,2008,150000,120000,Diesel,Individual,Manual,Fourth & Above Owner,11.57,2179,138.1,7\\nHyundai,2014,220000,40000,Petrol,Individual,Manual,First Owner,17.92,1086,62.1,5\\nHyundai,2014,275000,53000,Petrol,Individual,Manual,First Owner,20.36,1197,78.9,5\\nMaruti,2017,455000,60000,Diesel,Individual,Manual,First Owner,25.2,1248,74,5\\nHyundai,2017,570000,30000,Petrol,Individual,Manual,First Owner,18.6,1197,81.83,5\\nVolkswagen,2013,330000,100000,Diesel,Individual,Manual,Third Owner,20.54,1598,103.6,5\\nToyota,2018,1576000,70000,Diesel,Individual,Manual,First Owner,13.68,2393,147.8,7\\nMaruti,2012,450000,98000,Diesel,Individual,Manual,Fourth & Above Owner,20.77,1248,88.8,7\\nHyundai,2014,250000,60000,Petrol,Individual,Manual,First Owner,21.1,814,55.2,5\\nHyundai,2010,165000,80000,Petrol,Individual,Manual,Third Owner,20.36,1197,78.9,5\\nMahindra,2013,800000,117000,Diesel,Dealer,Automatic,First Owner,11.18,2696,184,7\\nHonda,2018,680000,8576,Petrol,Dealer,Manual,First Owner,18.7,1199,88.7,5\\nTata,2017,525000,19723,Petrol,Dealer,Automatic,First Owner,20.3,1199,84,5\\nHonda,2016,825000,21446,Petrol,Dealer,Manual,First Owner,16.8,1497,116.3,5\\nMaruti,2017,750000,52289,Diesel,Dealer,Manual,First Owner,25.1,1248,88.5,5\\nMahindra,2017,950000,52236,Diesel,Dealer,Manual,First Owner,15.4,2179,120,7\\nMahindra,2017,950000,54470,Diesel,Dealer,Manual,First Owner,15.4,2179,120,7\\nHyundai,2017,675000,25471,Diesel,Dealer,Manual,First Owner,21.9,1396,90,5\\nTata,2019,490000,33928,Petrol,Dealer,Manual,First Owner,23.84,1199,84.48,5\\nMahindra,2018,775000,59736,Diesel,Dealer,Manual,First Owner,18.49,1493,100,7\\nHonda,2009,350000,54290,Petrol,Dealer,Manual,First Owner,17,1497,118,5\\nHonda,2016,475000,2118,Petrol,Dealer,Manual,First Owner,19.4,1198,86.8,5\\nMahindra,2017,950000,61379,Diesel,Dealer,Manual,First Owner,15.4,2179,120,7\\nHonda,2010,350000,58544,Petrol,Dealer,Manual,Second Owner,17.4,1497,117.3,5\\nMaruti,2016,400000,74381,Petrol,Dealer,Manual,First Owner,21.79,998,67.05,5\\nMaruti,2001,75000,35000,Petrol,Individual,Manual,Third Owner,16.1,796,37,4\\nFord,2017,850000,63982,Diesel,Dealer,Manual,First Owner,22.7,1498,89.84,5\\nMaruti,2008,175000,65000,Petrol,Dealer,Manual,Second Owner,18.9,998,67.1,5\\nMahindra,2014,570000,74000,Diesel,Dealer,Manual,First Owner,15.96,2523,62.1,7\\nRenault,2013,525000,56429,Diesel,Dealer,Manual,Second Owner,19.01,1461,108.45,5\\nHyundai,2012,270000,56000,Petrol,Individual,Manual,First Owner,20.36,1197,78.9,5\\nHyundai,2019,434999,19500,Petrol,Dealer,Manual,First Owner,20.3,1086,68.07,5\\nHyundai,2015,495000,30000,Petrol,Dealer,Manual,First Owner,18.6,1197,81.83,5\\nHyundai,2016,575000,53000,Diesel,Dealer,Manual,First Owner,22.54,1396,88.73,5\\nHyundai,2017,600000,5000,Petrol,Individual,Manual,First Owner,20.14,1197,81.86,5\\nHyundai,2015,700000,25000,Petrol,Individual,Manual,First Owner,17.01,1591,121.4,5\\nHonda,2014,560000,72000,Diesel,Dealer,Manual,First Owner,26,1498,98.6,5\\nMaruti,2016,565000,72000,Diesel,Dealer,Manual,First Owner,,,,\\nMahindra,2005,250000,80000,Diesel,Individual,Manual,First Owner,13.6,2523,63,7\\nSkoda,2013,409999,29000,Petrol,Individual,Manual,Second Owner,15,1598,103.5,5\\nNissan,2016,495000,56832,Diesel,Dealer,Manual,First Owner,19.87,1461,83.14,5\\nHyundai,2014,470000,30528,Petrol,Dealer,Manual,First Owner,18.6,1197,81.86,5\\nHonda,2013,350000,65285,Diesel,Dealer,Manual,First Owner,24.7,1498,98.63,5\\nToyota,2020,1560000,20102,Diesel,Dealer,Manual,First Owner,13.68,2393,147.51,8\\nHonda,2015,480000,43000,Petrol,Dealer,Manual,First Owner,18.7,1199,88.7,5\\nToyota,2013,270000,52380,Diesel,Dealer,Manual,First Owner,23.59,1364,67.04,5\\nMahindra,2018,660000,74250,Diesel,Dealer,Manual,First Owner,21,1498,74.96,7\\nMaruti,2017,490000,57247,Petrol,Dealer,Automatic,First Owner,20.89,1197,81.8,5\\nMaruti,2017,800000,52000,Diesel,Individual,Manual,First Owner,24.3,1248,88.5,5\\nNissan,2011,350000,47000,Petrol,Individual,Manual,Second Owner,16.95,1498,97.7,5\\nFord,2011,170000,80000,Diesel,Individual,Manual,Third Owner,17.8,1399,68,5\\nTata,2011,125000,85000,Diesel,Individual,Manual,Second Owner,18,1248,75,5\\nMaruti,2012,400000,100000,Diesel,Individual,Manual,First Owner,19.3,1248,73.9,5\\nNissan,2011,250000,110000,Petrol,Individual,Manual,First Owner,16.95,1498,97.7,5\\nFiat,2010,190000,178000,Diesel,Individual,Manual,Second Owner,20.4,1248,91.7,5\\nMaruti,2010,125000,120000,Petrol,Individual,Manual,Third Owner,19.7,796,46.3,5\\nJeep,2017,1950000,70000,Diesel,Individual,Manual,First Owner,16.3,1956,170,5\\nAudi,2011,1300000,120000,Diesel,Individual,Automatic,First Owner,12.8,1968,167.6,5\\nToyota,2010,786000,155000,Diesel,Individual,Manual,Third Owner,12.8,2494,102,8\\nMaruti,2015,335000,30000,Petrol,Individual,Manual,First Owner,20.51,998,67.04,5\\nMaruti,2009,114999,60000,Petrol,Individual,Manual,Third Owner,18.9,1061,67,5\\nVolkswagen,2012,229999,70000,Diesel,Individual,Manual,Fourth & Above Owner,22.07,1199,73.9,5\\nHyundai,2017,731000,40000,Diesel,Individual,Manual,First Owner,22.54,1396,88.73,5\\nHyundai,2012,395000,120000,Diesel,Individual,Manual,First Owner,22.32,1582,126.32,5\\nMaruti,2015,500000,120000,Diesel,Individual,Manual,First Owner,26.59,1248,74,5\\nHyundai,2014,220000,50000,Petrol,Individual,Manual,Third Owner,21.1,814,55.2,5\\nFord,2013,240000,100000,Diesel,Individual,Manual,First Owner,20,1399,68.1,5\\nHyundai,2010,215000,120000,Diesel,Individual,Manual,Third Owner,23,1396,90,5\\nMaruti,2012,400000,90000,Diesel,Individual,Manual,Second Owner,22.9,1248,74,5\\nMaruti,2012,191000,90000,Petrol,Individual,Manual,First Owner,19,998,67.1,5\\nMahindra,2013,351000,100000,Diesel,Individual,Manual,Second Owner,14,2498,112,8\\nTata,2015,250000,20000,Petrol,Individual,Automatic,First Owner,21.9,624,37.48,4\\nHyundai,2009,210000,90000,Diesel,Individual,Manual,Second Owner,18.1,1493,110,5\\nToyota,2011,300000,120000,Petrol,Individual,Manual,Third Owner,17.6,1496,88.7,5\\nFord,2017,700000,35000,Diesel,Individual,Manual,First Owner,25.83,1498,99,5\\nHyundai,2010,500000,120000,Diesel,Individual,Manual,Second Owner,11.8,1991,150,5\\nMaruti,2002,120000,120000,Petrol,Individual,Manual,First Owner,16.1,796,37,4\\nHyundai,2019,850000,10000,Diesel,Individual,Manual,First Owner,22.54,1396,88.76,5\\nMahindra,1994,120000,100000,Diesel,Individual,Manual,Second Owner,,,,\\nHonda,2017,770000,65000,Diesel,Individual,Manual,Second Owner,25.5,1498,98.6,5\\nHonda,2007,245000,90000,Petrol,Individual,Manual,Third Owner,13.5,1799,130,5\\nMaruti,2012,250000,90000,Petrol,Individual,Manual,First Owner,20.92,998,67.1,5\\nHyundai,2016,651000,42323,Diesel,Dealer,Manual,First Owner,21.19,1396,88.76,5\\nHonda,2013,480000,42462,Petrol,Dealer,Manual,First Owner,16.8,1497,116.3,5\\nMaruti,2015,470000,54723,Diesel,Dealer,Manual,First Owner,25.2,1248,74,5\\nHonda,2016,500000,30000,Diesel,Individual,Manual,First Owner,27.3,1498,98.6,5\\nBMW,2011,1075000,42545,Diesel,Dealer,Automatic,First Owner,19.62,1998,190,5\\nMaruti,2016,690000,32000,Diesel,Dealer,Manual,First Owner,25.1,1248,88.5,5\\nMaruti,2017,589000,41232,Diesel,Dealer,Manual,First Owner,,,0,\\nMaruti,2017,589000,41232,Diesel,Dealer,Manual,First Owner,,,0,\\nMaruti,2018,480000,20375,Petrol,Dealer,Manual,First Owner,20.89,1197,81.8,5\\nMaruti,2013,450000,43978,Diesel,Dealer,Manual,Second Owner,28.4,1248,74,5\\nMaruti,2018,770000,50000,Diesel,Individual,Manual,First Owner,24.3,1248,88.5,5\\nMahindra,2015,445000,40200,Diesel,Dealer,Manual,First Owner,21,1498,74.96,7\\nHyundai,2018,700000,30000,Petrol,Individual,Manual,First Owner,18.6,1197,81.83,5\\nMaruti,2014,560000,90000,Diesel,Individual,Manual,First Owner,20.77,1248,88.8,7\\nFord,2013,475000,48000,Diesel,Dealer,Manual,Second Owner,21.7,1498,98.96,5\\nHonda,2014,465000,27233,Diesel,Dealer,Manual,First Owner,27.4,1498,98.63,5\\nMaruti,2017,520000,28832,Diesel,Dealer,Manual,First Owner,23.4,1248,74,5\\nTata,2011,225000,35000,Petrol,Individual,Manual,First Owner,15,1368,90,5\\nMaruti,2015,700000,35000,Petrol,Individual,Manual,First Owner,16.02,1373,93.7,7\\nMaruti,2017,780000,40000,Diesel,Individual,Manual,First Owner,24.3,1248,88.5,5\\nHonda,2006,93150,80000,Petrol,Individual,Manual,Second Owner,17.7,1497,78,5\\nMahindra,2016,403000,30000,Diesel,Individual,Manual,Second Owner,17.21,1493,100,7\\nHyundai,2009,229999,50000,Petrol,Individual,Manual,Second Owner,19.81,1086,68.05,5\\nMaruti,2016,525000,40000,Diesel,Individual,Manual,Second Owner,26.59,1248,74,5\\nMaruti,2014,560000,25000,Petrol,Individual,Manual,First Owner,16.02,1373,93.7,7\\nMahindra,2020,830000,120000,Diesel,Individual,Manual,First Owner,15.1,2179,152.87,7\\nMaruti,2011,250000,60000,Diesel,Individual,Manual,Second Owner,21.1,1248,73.9,5\\nMahindra,2014,450000,110000,Diesel,Individual,Manual,First Owner,15.96,2523,63,9\\nMahindra,2016,745000,67000,Diesel,Individual,Manual,First Owner,15.4,1997,120,7\\nFord,2010,144000,50000,Diesel,Individual,Manual,Second Owner,20,1399,68,5\\nMaruti,2008,120000,40000,Petrol,Individual,Manual,First Owner,18.2,1061,64,5\\nTata,2008,300000,120000,Diesel,Individual,Manual,Second Owner,11.57,2179,138.1,7\\nMaruti,1999,52000,100000,Petrol,Individual,Manual,First Owner,16.1,796,37,4\\nMahindra,2003,300000,98000,Diesel,Individual,Manual,First Owner,10.5,2179,120,8\\nMahindra,2009,270000,150000,Diesel,Individual,Manual,Second Owner,13.6,2523,63,7\\nChevrolet,2014,260000,38000,Diesel,Individual,Manual,First Owner,22.1,1248,74,5\\nToyota,2015,475000,120000,Diesel,Individual,Manual,First Owner,23.59,1364,67.05,5\\nFord,2011,302000,103000,Diesel,Individual,Manual,Third Owner,20,1399,68,5\\nMaruti,1994,45000,60000,Petrol,Individual,Manual,First Owner,16.1,796,37,4\\nMaruti,2017,775000,80000,Diesel,Individual,Manual,First Owner,24.3,1248,88.5,5\\nMaruti,2015,700000,50000,Diesel,Individual,Manual,First Owner,20.77,1248,88.76,7\\nMaruti,2014,530000,90000,Diesel,Individual,Manual,First Owner,25.2,1248,74,5\\nTata,2017,869999,70000,Diesel,Individual,Manual,First Owner,21.5,1497,108.5,5\\nHyundai,2006,155000,110000,Diesel,Individual,Manual,Fourth & Above Owner,14.9,1991,112.2,5\\nTata,2019,550000,30000,Petrol,Individual,Automatic,First Owner,23.84,1199,83.83,5\\nMaruti,2016,600000,80000,Diesel,Individual,Manual,Second Owner,26.59,1248,74,5\\nMaruti,2012,430000,110000,Diesel,Individual,Manual,Second Owner,19.3,1248,73.9,5\\nTata,2010,246000,120000,Diesel,Individual,Manual,First Owner,18.8,1248,90,5\\nMaruti,2003,120000,120000,Petrol,Individual,Manual,Third Owner,17.3,993,60,5\\nHyundai,2014,565000,70000,Petrol,Individual,Manual,Second Owner,18.6,1197,81.83,5\\nHyundai,2018,850000,60000,Diesel,Individual,Manual,First Owner,22.54,1396,88.76,5\\nMaruti,2006,160000,90000,Petrol,Individual,Manual,First Owner,19.7,796,46.3,5\\nFiat,2014,325000,142500,Diesel,Individual,Manual,First Owner,19.5,1248,75,5\\nMahindra,2011,450000,90000,Diesel,Individual,Manual,Third Owner,12.05,2179,120,8\\nHyundai,2015,310000,50000,Petrol,Individual,Manual,First Owner,19.81,1086,68.05,5\\nHonda,2013,250000,90000,Diesel,Individual,Manual,Third Owner,25.8,1498,98.6,5\\nMaruti,2015,420000,115000,Diesel,Individual,Manual,Second Owner,26.59,1248,74,5\\nHyundai,2013,330000,150000,Petrol,Individual,Automatic,Second Owner,15,1396,98.6,5\\nMaruti,2015,405000,68000,Petrol,Individual,Manual,Second Owner,20.4,1197,81.8,5\\nMahindra,2013,400000,90000,Diesel,Individual,Manual,Second Owner,15.96,2523,62.1,7\\nHonda,2010,409999,110000,Petrol,Individual,Automatic,Third Owner,15.6,1497,116.3,5\\nMahindra,2013,500000,70000,Diesel,Individual,Manual,Second Owner,15.96,2523,62.1,7\\nMahindra,2011,590000,80000,Diesel,Individual,Manual,Third Owner,15.1,2179,140,7\\nHyundai,2006,80000,118000,Petrol,Individual,Manual,First Owner,,,,\\nHyundai,2007,135000,100000,Petrol,Individual,Manual,Second Owner,19.81,1086,68.05,5\\nMaruti,2004,70000,70000,Petrol,Individual,Manual,Second Owner,18.9,998,67.1,5\\nMaruti,2004,45000,77000,Petrol,Individual,Manual,Third Owner,16.1,796,37,4\\nMaruti,2018,650000,35500,Diesel,Individual,Manual,First Owner,28.4,1248,74.02,5\\nMaruti,2018,400000,17500,Petrol,Individual,Manual,First Owner,20.51,998,67.04,5\\nMaruti,2017,350000,27000,Petrol,Individual,Manual,First Owner,23.95,998,67.05,5\\nHyundai,2017,550000,60000,Diesel,Individual,Manual,First Owner,24,1186,73.97,5\\nMaruti,2016,350000,25000,Petrol,Individual,Manual,First Owner,20.51,998,67.04,5\\nMaruti,2015,459999,80000,Diesel,Individual,Manual,First Owner,26.59,1248,74,5\\nMaruti,2012,185000,60000,Petrol,Individual,Manual,Second Owner,19.7,796,46.3,5\\nVolkswagen,2013,550000,38000,Diesel,Individual,Manual,First Owner,22.07,1199,73.9,5\\nMaruti,2012,300000,100000,LPG,Individual,Manual,Second Owner,26.2,998,58.2,5\\nMaruti,2012,175000,60000,Petrol,Individual,Manual,Third Owner,,,,\\nToyota,2011,900000,110000,Diesel,Individual,Manual,First Owner,12.8,2494,102,8\\nHonda,2016,900000,92000,Diesel,Individual,Manual,First Owner,21.9,1498,98.6,7\\nMahindra,2012,550000,180000,Diesel,Individual,Manual,Third Owner,15.96,2523,62.1,9\\nMaruti,2018,625000,10000,Petrol,Individual,Manual,First Owner,21.4,1197,83.1,5\\nMaruti,2017,310000,35000,Petrol,Individual,Manual,Second Owner,24.7,796,47.3,5\\nMaruti,2017,500000,35000,Diesel,Individual,Manual,First Owner,28.4,1248,74,5\\nHyundai,2016,610000,23000,Diesel,Individual,Manual,First Owner,24,1120,70,5\\nTata,2012,150000,150000,Diesel,Individual,Manual,Third Owner,19.09,1396,69,5\\nHyundai,2015,480000,70000,Diesel,Individual,Manual,First Owner,24.4,1120,71,5\\nHyundai,2017,650000,40000,Petrol,Individual,Manual,First Owner,18.6,1197,81.83,5\\nHyundai,2012,290000,100000,Diesel,Individual,Manual,Second Owner,21.9,1396,90,5\\nMaruti,2017,300000,50000,Petrol,Individual,Manual,Second Owner,24.7,796,47.3,5\\nMaruti,2010,270000,120000,Diesel,Individual,Manual,Fourth & Above Owner,19.3,1248,73.9,5\\nHyundai,2015,400000,60000,Diesel,Individual,Manual,Second Owner,24.4,1120,71,5\\nMaruti,2015,280000,28000,Petrol,Individual,Manual,Second Owner,22.74,796,47.3,5\\nMaruti,2009,250000,60000,Petrol,Individual,Manual,Third Owner,17.5,1298,85.8,5\\nMaruti,2012,495000,80000,Diesel,Individual,Manual,Second Owner,19.3,1248,73.9,5\\nFord,2018,3250000,12000,Diesel,Individual,Automatic,First Owner,10.91,3198,197,7\\nHonda,2019,700000,4500,Petrol,Individual,Manual,First Owner,19.5,1199,88.76,5\\nTata,2013,310000,70000,Diesel,Individual,Manual,First Owner,25,1396,69,5\\nRenault,2017,650000,120000,Diesel,Individual,Manual,First Owner,19.87,1461,83.8,5\\nHonda,2015,600000,80000,Petrol,Individual,Automatic,First Owner,19,1199,88.7,5\\nTata,2009,150000,150000,Diesel,Individual,Manual,Fourth & Above Owner,11.57,2179,138.1,7\\nMahindra,2009,135000,120000,Petrol,Individual,Manual,First Owner,15.7,1390,75,5\\nMaruti,2014,650000,50000,Diesel,Individual,Manual,First Owner,23.4,1248,74,5\\nHonda,2012,550000,83000,Petrol,Individual,Manual,First Owner,16.8,1497,116.3,5\\nMaruti,2017,650000,20000,Diesel,Individual,Manual,First Owner,28.4,1248,74.02,5\\nToyota,2018,2900000,49000,Diesel,Individual,Automatic,First Owner,12.9,2755,174.5,7\\nHonda,2017,450000,6750,Petrol,Individual,Manual,First Owner,18.5,1198,86.8,5\\nMaruti,2015,650000,26000,Petrol,Individual,Manual,First Owner,20.73,1373,91.1,5\\nHyundai,2017,430000,52000,Petrol,Individual,Manual,First Owner,17,1197,81.86,5\\nHyundai,2017,1143000,51000,Diesel,Individual,Automatic,First Owner,17.01,1582,126.2,5\\nMaruti,2019,700000,20000,Petrol,Individual,Automatic,First Owner,22,1197,81.8,5\\nMaruti,2011,229999,18500,Petrol,Individual,Manual,First Owner,18.5,1197,85.8,5\\nMahindra,2017,509999,142000,Diesel,Individual,Manual,First Owner,18.49,1493,100,7\\nFord,2016,670000,50478,Petrol,Individual,Manual,First Owner,15.85,1499,110.4,5\\nTata,2019,525000,9200,Petrol,Individual,Automatic,First Owner,23.84,1199,83.83,5\\nRenault,2016,515000,40000,Diesel,Individual,Manual,First Owner,19.87,1461,83.8,5\\nMaruti,2020,630000,5000,Petrol,Individual,Manual,First Owner,21.01,1197,81.8,5\\nDatsun,2019,270000,2300,Petrol,Individual,Manual,First Owner,22.7,799,53.64,5\\nMaruti,2016,300000,40000,Petrol,Individual,Manual,First Owner,22.74,796,47.3,5\\nMahindra,2012,250000,119000,Diesel,Individual,Manual,First Owner,14,2489,95,8\\nMaruti,2005,90000,100000,Petrol,Individual,Manual,Fourth & Above Owner,19.7,796,46.3,5\\nMaruti,2017,750000,100000,Diesel,Individual,Manual,First Owner,24.52,1248,88.5,7\\nMaruti,2009,135000,50000,Petrol,Individual,Manual,Second Owner,18.9,1061,67,5\\nMaruti,2013,275000,80000,Petrol,Individual,Manual,Second Owner,15.1,1196,73,5\\nTata,2018,740000,15000,Petrol,Individual,Manual,First Owner,17,1198,108.5,5\\nHonda,2019,690000,1303,Petrol,Dealer,Manual,First Owner,17.8,1198,86.7,5\\nAudi,2018,3975000,31800,Diesel,Dealer,Automatic,First Owner,17.01,1968,188,5\\nLexus,2019,5150000,20000,Petrol,Dealer,Automatic,First Owner,22.37,2487,214.56,5\\nJaguar,2017,3200000,45000,Diesel,Dealer,Automatic,First Owner,19.33,1999,177,5\\nJeep,2017,4100000,17000,Petrol,Individual,Automatic,First Owner,9.5,3604,280,5\\nToyota,2018,1000000,4295,Petrol,Trustmark Dealer,Manual,First Owner,17.1,1496,105.5,5\\nToyota,2018,1000000,5229,Petrol,Trustmark Dealer,Manual,First Owner,17.1,1496,105.5,5\\nHyundai,2019,550000,4701,Petrol,Trustmark Dealer,Manual,First Owner,20.7,1197,81.86,5\\nMaruti,2016,600000,6757,Petrol,Trustmark Dealer,Manual,First Owner,21.01,1197,81.8,5\\nSkoda,2016,675000,28182,Petrol,Trustmark Dealer,Automatic,First Owner,14.3,1598,103.52,5\\nNissan,2019,950000,11533,Petrol,Trustmark Dealer,Manual,First Owner,14.23,1498,104.55,5\\nHonda,2017,850000,11688,Petrol,Trustmark Dealer,Manual,First Owner,17.8,1497,117.3,5\\nToyota,2016,2000000,68089,Petrol,Trustmark Dealer,Automatic,First Owner,19.16,2494,157.7,5\\nToyota,2012,550000,57728,Petrol,Trustmark Dealer,Automatic,First Owner,14.53,1794,138.1,5\\nMaruti,2018,925000,23712,Diesel,Trustmark Dealer,Manual,First Owner,28.09,1248,88.5,5\\nFord,2015,625000,70670,Petrol,Trustmark Dealer,Automatic,First Owner,16.5,1499,110,5\\nMaruti,2014,200000,43381,Petrol,Dealer,Manual,Second Owner,22.74,796,47.3,5\\nHonda,2014,635000,79011,Petrol,Trustmark Dealer,Automatic,First Owner,18,1497,117.3,5\\nHonda,2016,550000,56494,Petrol,Trustmark Dealer,Manual,First Owner,18.2,1199,88.7,5\\nMaruti,2014,425000,50000,Diesel,Individual,Manual,Second Owner,21.79,1248,88.73,5\\nMaruti,2011,220000,40000,Petrol,Individual,Manual,First Owner,18.9,998,67.1,5\\nHyundai,2018,590000,10000,Petrol,Individual,Manual,First Owner,18.9,1197,81.86,5\\nMahindra,2017,775000,35000,Diesel,Individual,Manual,First Owner,16.55,2498,105,6\\nMaruti,2015,350000,58500,Petrol,Individual,Manual,First Owner,18.5,1197,85.8,5\\nMaruti,2018,575000,20000,Petrol,Individual,Manual,First Owner,21.4,1197,83.1,5\\nNissan,2011,200000,43500,Petrol,Individual,Manual,Second Owner,18.06,1198,75,5\\nTata,2018,1575000,30000,Diesel,Individual,Manual,First Owner,17.6,2179,153.86,7\\nFord,2015,600000,63000,Diesel,Individual,Manual,First Owner,22.77,1498,98.59,5\\nMahindra,2016,720000,35000,Diesel,Individual,Manual,First Owner,15.96,2523,62.1,7\\nTata,2012,158000,110000,Diesel,Individual,Manual,Second Owner,19.09,1396,69,5\\nTata,2018,1575000,25000,Diesel,Individual,Manual,First Owner,17.6,2179,153.86,7\\nHyundai,2017,580000,30000,Petrol,Individual,Automatic,First Owner,17.36,1197,81.86,5\\nMahindra,2012,420000,50000,Diesel,Individual,Manual,First Owner,15.96,2523,62.1,7\\nMahindra,2018,1200000,35000,Diesel,Individual,Manual,First Owner,17.3,1497,121,8\\nRenault,2018,350000,30000,Petrol,Individual,Manual,First Owner,23.01,999,67,5\\nHonda,2014,650000,56000,Petrol,Individual,Manual,First Owner,17.4,1497,117.3,5\\nMaruti,2017,400000,12700,Petrol,Individual,Manual,First Owner,20.51,998,67.04,5\\nTata,2018,700000,35000,Diesel,Individual,Manual,First Owner,21.5,1497,108.5,5\\nHyundai,2017,520000,30000,Petrol,Individual,Manual,First Owner,19.1,1197,82,5\\nMahindra,2012,450000,120000,Diesel,Individual,Manual,First Owner,12.05,2179,120,9\\nTata,2017,850000,100000,Diesel,Individual,Manual,First Owner,14.1,2179,147.94,7\\nRenault,2017,350000,34000,Petrol,Individual,Manual,First Owner,25.17,799,53.3,5\\nMahindra,2011,450000,56000,Diesel,Individual,Manual,First Owner,13,2489,95,8\\nHyundai,2008,165000,90000,Petrol,Individual,Manual,First Owner,19.81,1086,68.05,5\\nHyundai,2010,160000,65000,Petrol,Individual,Manual,Second Owner,17.92,1086,62.1,5\\nTata,2011,300000,80000,Diesel,Individual,Manual,First Owner,13.93,2179,138,7\\nMahindra,2012,550000,90000,Diesel,Individual,Manual,Third Owner,12.05,2179,120,8\\nMaruti,2015,285000,40000,Petrol,Individual,Manual,First Owner,23.95,998,67.05,5\\nHyundai,2016,850000,58000,Diesel,Individual,Manual,First Owner,19.67,1582,126.2,5\\nFord,2018,700000,19100,Petrol,Individual,Manual,First Owner,19,1194,94.68,5\\nMaruti,2018,900000,25000,Petrol,Individual,Manual,First Owner,19.34,1462,103,7\\nMaruti,2005,180000,49455,Petrol,Individual,Manual,First Owner,19.7,796,46.3,5\\nHyundai,2016,220000,100000,Petrol,Individual,Manual,First Owner,21.1,814,55.2,5\\nTata,2013,120000,120000,Diesel,Individual,Manual,First Owner,22.3,1248,74,5\\nHyundai,2010,220000,90000,Petrol,Individual,Manual,Fourth & Above Owner,17,1197,80,5\\nChevrolet,2013,420000,46815,Diesel,Individual,Manual,Second Owner,22.1,1248,76.9,5\\nTata,2013,160000,110000,Diesel,Individual,Manual,First Owner,19.4,1405,70,5\\nHyundai,2015,250000,80000,Petrol,Individual,Manual,First Owner,21.1,814,55.2,5\\nMaruti,2013,385000,100000,Diesel,Individual,Manual,Third Owner,20.77,1248,88.8,7\\nMaruti,2014,318000,80000,Petrol,Individual,Manual,First Owner,20.51,998,67.06,5\\nHyundai,2018,480000,40000,Petrol,Individual,Manual,First Owner,20.14,1197,81.86,5\\nMaruti,2015,330000,70000,Petrol,Individual,Manual,Third Owner,23.1,998,67.04,5\\nTata,2011,152000,80000,Diesel,Individual,Manual,First Owner,17,1405,71,5\\nMaruti,2014,250000,40000,Petrol,Individual,Manual,First Owner,22.74,796,47.3,5\\nTata,2011,248000,80000,Diesel,Individual,Manual,First Owner,17,1405,71,5\\nNissan,2011,300000,60000,Petrol,Individual,Manual,Second Owner,18.06,1198,75,5\\nHyundai,2017,550000,50000,Petrol,Individual,Manual,First Owner,18.6,1197,81.83,5\\nHyundai,2016,650000,30000,Diesel,Individual,Manual,First Owner,22.54,1396,88.73,5\\nHyundai,2017,445000,25000,Petrol,Individual,Manual,First Owner,18.9,1197,82,5\\nToyota,2010,450000,334000,Diesel,Individual,Manual,First Owner,12.8,2494,102,7\\nMahindra,2016,600000,100000,Diesel,Individual,Manual,First Owner,17.45,1493,100,7\\nRenault,2014,495000,175000,Diesel,Individual,Manual,First Owner,19.01,1461,108.45,5\\nMaruti,2011,220000,65000,Petrol,Individual,Automatic,Third Owner,12.6,1586,103.3,5\\nMaruti,2011,260000,65000,Petrol,Individual,Automatic,Third Owner,12.6,1586,103.3,5\\nHyundai,2009,150000,90000,Petrol,Individual,Manual,First Owner,17.92,1086,62.1,5\\nFord,2011,200000,80000,Diesel,Individual,Manual,Second Owner,20,1399,68,5\\nMahindra,2018,1465000,110000,Diesel,Individual,Manual,First Owner,16.36,2179,140,7\\nToyota,2012,285000,80000,Diesel,Individual,Manual,Second Owner,,,,\\nHonda,2008,250000,60000,Petrol,Individual,Automatic,Third Owner,20,1339,108.5,5\\nMahindra,2014,310000,160000,Diesel,Individual,Manual,First Owner,14.95,2489,93.7,7\\nMahindra,2010,600000,100875,Diesel,Individual,Automatic,First Owner,11.79,2179,120,8\\nMaruti,2018,560000,20000,Petrol,Individual,Manual,First Owner,21.4,1197,83.1,5\\nMaruti,2016,500000,30000,Petrol,Individual,Manual,First Owner,20.85,1197,83.14,5\\nHyundai,2013,270000,118000,Diesel,Individual,Manual,First Owner,24,1120,70,5\\nHyundai,2013,420000,69000,Diesel,Individual,Manual,Third Owner,22.32,1582,126.32,5\\nMaruti,2015,434999,25000,Petrol,Individual,Manual,Second Owner,20.85,1197,83.14,5\\nHyundai,2015,400000,100000,Petrol,Individual,Automatic,First Owner,16.9,1197,81.86,5\\nMaruti,2015,470000,110000,Diesel,Individual,Manual,First Owner,26.59,1248,74,5\\nNissan,2015,480000,60000,Diesel,Individual,Manual,Third Owner,20.45,1461,83.8,5\\nHyundai,2008,105000,128000,Petrol,Individual,Manual,First Owner,0,1086,62,5\\nTata,2017,325000,120000,Diesel,Individual,Manual,First Owner,27.28,1047,69,5\\nToyota,2012,280000,80000,Diesel,Individual,Manual,Second Owner,,,,\\nHyundai,2020,675000,5000,Petrol,Individual,Automatic,First Owner,20.7,1197,81.86,5\\nHyundai,2009,170000,90000,Petrol,Individual,Manual,Second Owner,20.36,1197,78.9,5\\nHyundai,2017,1250000,90000,Diesel,Individual,Manual,First Owner,19.67,1582,126.2,5\\nHonda,2012,600000,144030,Petrol,Individual,Manual,First Owner,12.8,2354,177.6,5\\nHonda,2014,819999,200000,Diesel,Individual,Manual,First Owner,25.1,1498,98.6,5\\nHyundai,2016,650000,29000,Petrol,Individual,Manual,First Owner,18.6,1197,81.83,5\\nMaruti,2007,105000,90000,LPG,Individual,Manual,Second Owner,17.3,1061,57.5,5\\nMahindra,2009,200000,176000,Diesel,Individual,Manual,Second Owner,17,1461,66,5\\nTata,2013,200000,150000,Diesel,Individual,Manual,First Owner,19.09,1396,69,5\\nMaruti,2016,220000,90000,Petrol,Individual,Manual,First Owner,16.8,796,34.2,8\\nVolkswagen,2014,500000,70000,Petrol,Individual,Manual,Second Owner,15.04,1598,103.2,5\\nMahindra,2007,175000,99000,Diesel,Individual,Manual,Second Owner,19.2,1461,65,5\\nTata,2018,450000,5000,Petrol,Individual,Manual,First Owner,23.84,1199,84,5\\nChevrolet,2008,210000,90000,Diesel,Individual,Manual,Fourth & Above Owner,16.52,1991,123.7,5\\nMaruti,2011,270000,89000,Diesel,Individual,Manual,Second Owner,21.1,1248,73.9,5\\nTata,2006,110000,88000,Diesel,Individual,Manual,Second Owner,16.8,1405,62,5\\nMaruti,2015,480000,30000,Diesel,Individual,Manual,First Owner,26.59,1248,74,5\\nMaruti,2016,650000,50000,Diesel,Individual,Automatic,Second Owner,26.59,1248,74,5\\nMaruti,2013,480000,80000,Diesel,Individual,Manual,First Owner,23.4,1248,74,5\\nHyundai,2016,700000,40000,Diesel,Individual,Manual,First Owner,22.54,1396,88.73,5\\nMaruti,2015,650000,110000,Diesel,Individual,Manual,Third Owner,20.77,1248,88.76,7\\nHyundai,2015,1300000,48000,Diesel,Individual,Manual,Second Owner,19.67,1582,126.2,5\\nVolkswagen,2016,1350000,97000,Diesel,Individual,Automatic,First Owner,16.96,1968,138.03,5\\nVolkswagen,2016,1000000,60000,Diesel,Individual,Automatic,First Owner,22.15,1498,108.6,5\\nMercedes-Benz,2011,1700000,110000,Diesel,Individual,Automatic,Third Owner,0,2987,165,5\\nToyota,2018,1080000,12800,Petrol,Individual,Automatic,First Owner,17.8,1496,105.5,5\\nHyundai,2012,170000,40000,Petrol,Individual,Manual,First Owner,21.1,814,55.2,5\\nMaruti,2017,610000,49000,Diesel,Individual,Manual,First Owner,28.4,1248,74,5\\nMaruti,2014,350000,25000,Petrol,Individual,Manual,First Owner,18.5,1197,85.8,5\\nMaruti,2016,260000,65000,Petrol,Individual,Manual,Second Owner,22.74,796,47.3,5\\nFiat,2015,700000,20000,Diesel,Individual,Manual,First Owner,20.4,1248,91.7,5\\nVolkswagen,2018,678000,17000,Petrol,Individual,Manual,First Owner,18.78,999,75,5\\nMaruti,2015,800000,15000,Diesel,Individual,Manual,First Owner,23.65,1248,88.5,5\\nToyota,2014,400000,120000,Diesel,Individual,Manual,Second Owner,23.59,1364,67.04,5\\nHyundai,2010,300000,49000,Petrol,Individual,Manual,First Owner,18.5,1197,80,5\\nHyundai,2016,520000,29000,Petrol,Individual,Manual,First Owner,18.6,1197,81.83,5\\nNissan,2017,850000,55000,Diesel,Individual,Automatic,First Owner,19.61,1461,108.5,5\\nMahindra,2019,1460000,5000,Diesel,Individual,Manual,First Owner,17.3,1497,121,7\\nTata,2017,830000,35000,Diesel,Individual,Manual,First Owner,21.5,1497,108.5,5\\nDatsun,2018,430000,5000,Petrol,Individual,Manual,Second Owner,20.63,1198,67,5\\nFord,2017,850000,60000,Diesel,Individual,Manual,First Owner,22.77,1498,98.59,5\\nMaruti,2017,650000,70000,Petrol,Individual,Manual,First Owner,20.85,1197,83.14,5\\nHyundai,2008,120000,120000,Diesel,Individual,Manual,Second Owner,16.8,1493,110,5\\nMahindra,2016,730000,65100,Diesel,Individual,Manual,Second Owner,18.49,1493,100,7\\nMaruti,2019,525000,20000,Petrol,Individual,Automatic,First Owner,20.89,1197,81.8,5\\nHyundai,2015,600000,108000,Diesel,Individual,Manual,First Owner,21.19,1396,88.73,5\\nMaruti,2019,500000,15000,Petrol,Individual,Manual,First Owner,21.21,1197,81.8,5\\nHyundai,2009,150000,77000,Petrol,Individual,Manual,First Owner,17.92,1086,62.1,5\\nMaruti,2015,409999,18500,Petrol,Individual,Manual,First Owner,20.51,998,67.04,5\\nMahindra,2016,625000,120000,Diesel,Individual,Manual,First Owner,18.49,1493,100,7\\nRenault,2015,290000,15200,Petrol,Individual,Manual,First Owner,25.17,799,53.3,5\\nHonda,2015,500000,35000,Petrol,Individual,Manual,First Owner,17.3,1497,117.3,7\\nHyundai,2011,475000,80000,Diesel,Individual,Manual,First Owner,22.32,1582,126.32,5\\nHyundai,2013,190000,70000,Petrol,Individual,Manual,First Owner,21.1,814,55.2,5\\nMahindra,2014,750000,80000,Diesel,Individual,Manual,Second Owner,15.1,2179,140,7\\nNissan,2014,525000,120000,Diesel,Individual,Manual,Second Owner,19.01,1461,108.5,5\\nChevrolet,2012,495000,82000,Diesel,Individual,Manual,Third Owner,17.3,1998,163.7,5\\nJaguar,2017,2625000,9000,Diesel,Dealer,Automatic,First Owner,13.6,1999,177,5\\nLexus,2019,5150000,20000,Petrol,Dealer,Automatic,First Owner,22.37,2487,214.56,5\\nJaguar,2017,3200000,45000,Diesel,Dealer,Automatic,First Owner,19.33,1999,177,5\\nTata,2015,503000,110000,Diesel,Individual,Manual,First Owner,14.1,2179,147.94,7\\nVolvo,2019,3800000,20000,Diesel,Individual,Automatic,First Owner,18,1969,190,5\\nToyota,2016,2000000,68089,Petrol,Trustmark Dealer,Automatic,First Owner,19.16,2494,157.7,5\\nMaruti,2013,225000,58343,Petrol,Trustmark Dealer,Manual,First Owner,21.79,998,67.05,5\\nMaruti,2018,740000,38817,Diesel,Dealer,Manual,First Owner,27.39,1248,74,5\\nHonda,2016,550000,56494,Petrol,Trustmark Dealer,Manual,First Owner,18.2,1199,88.7,5\\nToyota,2013,750000,79328,Diesel,Trustmark Dealer,Manual,Second Owner,12.99,2494,100.6,7\\nMaruti,2019,650000,5621,Petrol,Trustmark Dealer,Automatic,First Owner,22,1197,81.8,5\\nToyota,2017,625000,25538,Petrol,Trustmark Dealer,Manual,First Owner,16.78,1496,88.73,5\\nMaruti,2018,600000,69779,Petrol,Dealer,Automatic,First Owner,22,1197,81.8,5\\nHyundai,2017,450000,56290,Diesel,Dealer,Manual,First Owner,24,1186,73.97,5\\nBMW,2019,5400000,7500,Diesel,Dealer,Automatic,First Owner,16.78,1995,190,5\\nBMW,2019,5500000,8500,Diesel,Dealer,Automatic,First Owner,16.78,1995,190,5\\nHonda,2019,779000,7032,Petrol,Trustmark Dealer,Automatic,First Owner,19,1199,88.76,5\\nSkoda,2016,645000,11000,Petrol,Dealer,Automatic,First Owner,14.3,1598,103.5,5\\nVolvo,2018,2475000,2000,Diesel,Dealer,Automatic,First Owner,16.8,1984,150,5\\nHonda,2010,321000,60000,Petrol,Individual,Automatic,Second Owner,16.8,1497,118,5\\nToyota,2017,585000,50000,Petrol,Individual,Manual,First Owner,17.71,1197,78.9,5\\nFord,2011,225000,70000,Diesel,Individual,Manual,First Owner,20,1399,68,5\\nHonda,2017,500000,70000,Diesel,Individual,Manual,First Owner,25.8,1498,98.6,5\\nHyundai,2011,350000,90000,Diesel,Individual,Manual,Third Owner,23,1396,90,5\\nMaruti,2016,756000,70000,Diesel,Individual,Manual,Second Owner,24.52,1248,88.5,7\\nMaruti,2014,240000,50000,Petrol,Individual,Manual,First Owner,22.74,796,47.3,5\\nMaruti,2012,80000,120000,Petrol,Individual,Manual,Second Owner,19.7,796,35,8\\nHyundai,2019,800000,5000,Petrol,Individual,Manual,First Owner,17.19,1197,81.86,5\\nTata,2018,1250000,25000,Diesel,Individual,Manual,First Owner,17.6,2179,147.94,7\\nMahindra,2009,320000,80000,Diesel,Individual,Manual,Third Owner,12.05,2179,120,7\\nHyundai,2017,509999,25000,Petrol,Individual,Manual,First Owner,18.9,1197,82,5\\nTata,2019,650000,15000,Diesel,Individual,Manual,First Owner,22.95,1248,74,5\\nMaruti,2011,210000,35000,Petrol,Individual,Manual,Second Owner,20.92,998,67.1,5\\nMaruti,2008,110000,80000,Petrol,Individual,Manual,Second Owner,19.7,796,46.3,5\\nTata,2017,665000,25000,Diesel,Individual,Manual,First Owner,21.5,1497,108.5,5\\nVolkswagen,2017,555000,52000,Diesel,Individual,Manual,First Owner,21.66,1498,108.62,5\\nVolkswagen,2017,560000,52000,Diesel,Individual,Manual,First Owner,21.66,1498,108.62,5\\nMahindra,2016,375000,80000,Diesel,Individual,Manual,First Owner,25.32,1198,77,6\\nMaruti,2011,290000,77000,Diesel,Individual,Manual,Second Owner,,,,\\nToyota,2017,2950000,50000,Diesel,Individual,Automatic,First Owner,15.04,2755,174.5,7\\nMaruti,2017,605000,127000,Diesel,Individual,Manual,First Owner,28.4,1248,74.02,5\\nHonda,2017,720000,30000,Petrol,Individual,Manual,First Owner,17.5,1199,88.7,5\\nMaruti,2017,800000,70000,Diesel,Individual,Manual,First Owner,24.52,1248,88.5,7\\nMahindra,2017,1325000,54000,Diesel,Individual,Manual,First Owner,16,2179,140,7\\nMitsubishi,2011,625000,120000,Diesel,Individual,Manual,Second Owner,10.5,2835,116.9,6\\nHyundai,2011,350000,116500,Diesel,Individual,Manual,First Owner,23,1396,90,5\\nToyota,2012,600000,145000,Diesel,Individual,Manual,Second Owner,12.99,2494,100,8\\nHyundai,2012,300000,120000,Petrol,Individual,Manual,First Owner,18.5,1197,82.85,5\\nTata,2011,240000,120000,Diesel,Individual,Manual,First Owner,13.93,2179,138.1,7\\nFord,2016,377000,80000,Diesel,Individual,Manual,First Owner,25.83,1498,99,5\\nMaruti,2013,450000,140000,Petrol,Individual,Manual,First Owner,16.02,1373,93.7,7\\nHyundai,2008,160000,100000,Petrol,Individual,Manual,Fourth & Above Owner,13.9,1599,103.2,5\\nHyundai,2019,525000,100000,Petrol,Individual,Manual,First Owner,20.14,1197,81.86,5\\nToyota,2011,550000,168000,Diesel,Individual,Manual,Second Owner,12.8,2494,102,8\\nChevrolet,2010,270000,120000,Diesel,Individual,Manual,Third Owner,18.3,1991,147.9,5\\nToyota,2016,570000,145000,Diesel,Individual,Manual,Second Owner,23.59,1364,67.05,5\\nFord,2011,225000,90000,Diesel,Individual,Manual,Second Owner,20,1399,68,5\\nHyundai,2019,590000,90000,Petrol,Individual,Manual,First Owner,20.14,1197,81.86,5\\nJeep,2018,1675000,80000,Diesel,Individual,Manual,First Owner,17.1,1956,170,5\\nFord,2019,800000,33000,Petrol,Dealer,Manual,First Owner,19.4,1194,94.93,5\\nChevrolet,2014,450000,13500,Petrol,Individual,Manual,First Owner,18.2,1199,82.4,5\\nTata,2012,300000,80000,Diesel,Individual,Manual,First Owner,17,1405,70,5\\nHyundai,2017,645000,20000,Petrol,Individual,Manual,First Owner,18.6,1197,81.83,5\\nMaruti,2013,520000,58000,Diesel,Individual,Manual,First Owner,23.4,1248,74,5\\nHyundai,2013,200000,40000,Petrol,Individual,Manual,First Owner,21.1,814,55.2,5\\nHonda,2015,700000,30000,Petrol,Individual,Manual,First Owner,17.4,1497,117.3,5\\nMaruti,2000,45000,50000,Petrol,Individual,Manual,Second Owner,16.1,796,37,4\\nFord,2016,459999,73000,Diesel,Individual,Manual,First Owner,25.83,1498,99,5\\nMaruti,2014,325000,90000,Diesel,Individual,Manual,Second Owner,23.2,1248,73.94,5\\nMaruti,2015,350000,50000,Petrol,Individual,Manual,Second Owner,20.51,998,67.04,5\\nHyundai,2011,440000,80000,Diesel,Individual,Manual,Third Owner,22.32,1582,126.3,5\\nHyundai,2011,320000,70000,Diesel,Individual,Manual,Second Owner,21.9,1396,90,5\\nChevrolet,2011,169000,41000,Petrol,Individual,Manual,First Owner,18,995,62,5\\nVolkswagen,2013,350000,50000,Petrol,Individual,Manual,Fourth & Above Owner,16.47,1198,73.9,5\\nFord,2014,350000,113226,Diesel,Dealer,Manual,First Owner,19.68,1399,67,5\\nFord,2013,310000,90000,Diesel,Individual,Manual,Second Owner,20,1399,68.1,5\\nMaruti,2007,150000,70000,Petrol,Individual,Manual,Third Owner,,,,\\nMahindra,2010,420000,160500,Diesel,Individual,Manual,Fourth & Above Owner,13.5,2179,115,5\\nMaruti,2015,685000,30000,Petrol,Individual,Automatic,First Owner,19.12,1373,91.1,5\\nRenault,2014,560000,132000,Diesel,Individual,Manual,Second Owner,19.72,1461,108.45,5\\nMaruti,2013,470000,120000,Diesel,Individual,Manual,Third Owner,22.9,1248,74,5\\nHyundai,2011,380000,80000,Petrol,Individual,Manual,Second Owner,16.2,1599,103.2,5\\nMahindra,2015,670000,57000,Diesel,Individual,Manual,Second Owner,15.4,1997,120,7\\nMaruti,2018,550000,5000,Petrol,Individual,Manual,First Owner,22,1197,81.8,5\\nHyundai,2016,749000,25000,Petrol,Individual,Manual,First Owner,17.01,1591,121.3,5\\nHyundai,2015,899000,80000,Diesel,Individual,Manual,Second Owner,19.67,1582,126.2,5\\nChevrolet,2011,290000,88000,Diesel,Individual,Manual,Third Owner,16.52,1991,123.7,5\\nToyota,2014,869999,217000,Diesel,Individual,Manual,Second Owner,12.99,2494,100.6,7\\nDatsun,2015,350000,60000,Petrol,Individual,Manual,First Owner,20.62,1198,67,7\\nMaruti,2017,500000,43000,Petrol,Individual,Manual,First Owner,20.85,1197,83.14,5\\nSkoda,2014,400000,77000,Diesel,Individual,Automatic,Second Owner,21.66,1498,103.6,5\\nRenault,2016,260000,30000,Petrol,Individual,Manual,First Owner,25.17,799,53.3,5\\nMaruti,2015,220000,40000,Petrol,Individual,Manual,Second Owner,22.74,796,47.3,5\\nChevrolet,2014,190000,139000,Diesel,Individual,Manual,Second Owner,18.2,1248,73.8,8\\nHyundai,2016,400000,80000,Petrol,Individual,Manual,First Owner,18.9,1197,82,5\\nChevrolet,2014,170000,76000,Diesel,Individual,Manual,Second Owner,25.44,936,56.3,5\\nHyundai,2019,650000,3500,Petrol,Individual,Manual,First Owner,18.6,1197,81.86,5\\nMaruti,2007,60000,62000,Petrol,Individual,Manual,Second Owner,16.1,796,37,4\\nTata,2007,300000,110000,Petrol,Individual,Manual,Second Owner,12,2092,127,7\\nChevrolet,2012,125000,40000,Petrol,Individual,Manual,Second Owner,16.2,995,62.1,5\\nTata,2013,130000,120000,Diesel,Individual,Manual,Second Owner,,,,\\nMahindra,2012,500000,1500000,Diesel,Individual,Manual,First Owner,15.1,2179,140,7\\nMaruti,2011,170000,70000,Petrol,Individual,Manual,Third Owner,19.7,796,46.3,5\\nMaruti,2012,310000,77000,Diesel,Individual,Manual,Second Owner,19.3,1248,73.9,5\\nChevrolet,2011,130000,110000,Petrol,Individual,Manual,Second Owner,18,995,62,5\\nMaruti,2016,465000,20000,Petrol,Individual,Manual,First Owner,20.51,998,67.04,5\\nMahindra,1995,160000,90000,Diesel,Individual,Manual,Third Owner,,,,\\nMercedes-Benz,2005,800000,120005,Diesel,Individual,Automatic,Second Owner,11,2987,198.5,5\\nMaruti,2012,260000,16830,Petrol,Individual,Manual,First Owner,20.2,998,67.1,5\\nMahindra,2013,500000,70000,Diesel,Individual,Manual,First Owner,15.96,2523,63,9\\nRenault,2017,325000,38000,Petrol,Individual,Manual,First Owner,23.01,999,67,5\\nMahindra,2013,400000,80000,Diesel,Individual,Manual,First Owner,15.96,2523,63,9\\nToyota,2018,3200000,50000,Diesel,Individual,Manual,First Owner,14.24,2755,174.5,7\\nTata,2007,200000,50000,Diesel,Individual,Manual,First Owner,17.88,1396,52.8,5\\nMahindra,2013,450000,52000,Diesel,Individual,Manual,First Owner,17.21,1493,100,7\\nTata,2012,229999,50000,Diesel,Individual,Manual,First Owner,17,1405,70,5\\nHyundai,2016,340000,30000,Petrol,Individual,Manual,First Owner,21.1,814,55.2,5\\nMahindra,2014,550000,103000,Diesel,Individual,Manual,First Owner,15.96,2523,62.1,7\\nFord,2011,975000,93468,Diesel,Individual,Automatic,Second Owner,11.4,2953,153.86,7\\nVolvo,2019,3800000,20000,Diesel,Individual,Automatic,First Owner,18,1969,190,5\\nVolkswagen,2010,225000,80000,Petrol,Individual,Manual,Second Owner,14,1595,102,5\\nFord,2018,3250000,12000,Diesel,Individual,Automatic,First Owner,10.91,3198,197,7\\nTata,2013,280000,70000,Diesel,Individual,Manual,First Owner,25,1396,69,5\\nHonda,2019,700000,4500,Petrol,Individual,Manual,First Owner,19.5,1199,88.76,5\\nTata,2012,259000,35000,Diesel,Individual,Manual,First Owner,23.03,1396,69,5\\nToyota,2018,3200000,60000,Diesel,Individual,Automatic,First Owner,15.04,2755,174.5,7\\nMahindra,2018,1400000,30000,Diesel,Individual,Manual,First Owner,16,1997,140,7\\nFord,2015,416000,40000,Petrol,Individual,Automatic,First Owner,17.01,1499,110.4,5\\nTata,2011,250000,70000,Diesel,Individual,Manual,First Owner,19,1248,90,5\\nTata,2010,210000,120000,Diesel,Individual,Manual,First Owner,21.12,1248,88.8,5\\nMahindra,2008,290000,120000,Diesel,Individual,Manual,Second Owner,12.05,2179,120,8\\nTata,2012,220000,90000,Diesel,Individual,Manual,First Owner,23.03,1396,69,5\\nTata,2012,246000,35000,Diesel,Individual,Manual,Second Owner,23.03,1396,69,5\\nMaruti,2018,260000,30000,Petrol,Individual,Manual,First Owner,16.8,796,34.2,8\\nHyundai,2018,1050000,70000,Diesel,Individual,Manual,First Owner,21.38,1396,88.7,5\\nTata,2012,290000,60000,Diesel,Individual,Manual,First Owner,21.02,1248,88.76,5\\nTata,2013,310000,70000,Diesel,Individual,Manual,First Owner,25,1396,69,5\\nHyundai,2018,700000,6000,Petrol,Individual,Manual,First Owner,18.6,1197,81.83,5\\nMaruti,2016,550000,20000,Petrol,Individual,Manual,First Owner,20.4,1197,81.8,5\\nTata,2017,450000,70000,Diesel,Individual,Manual,First Owner,19.09,1405,69.01,5\\nHonda,2016,773000,65000,Petrol,Individual,Manual,First Owner,17.8,1497,117.3,5\\nTata,2017,450000,25000,Petrol,Individual,Manual,First Owner,23.84,1199,84,5\\nMaruti,2019,409999,10000,Petrol,Individual,Manual,First Owner,15.37,1196,73,5\\nMaruti,2003,45000,35000,Petrol,Individual,Manual,Fourth & Above Owner,16.1,796,37,4\\nNissan,2014,600000,80000,Petrol,Individual,Automatic,Second Owner,11.07,2496,179.5,5\\nChevrolet,2010,250000,63000,Petrol,Individual,Manual,First Owner,18.6,1199,79.4,5\\nTata,2008,70000,100000,Diesel,Individual,Manual,First Owner,16.8,1405,62,5\\nHonda,2019,690000,1303,Petrol,Dealer,Manual,First Owner,17.8,1198,86.7,5\\nAudi,2018,3975000,31800,Diesel,Dealer,Automatic,First Owner,17.01,1968,188,5\\nLexus,2019,5150000,20000,Petrol,Dealer,Automatic,First Owner,22.37,2487,214.56,5\\nJaguar,2017,3200000,45000,Diesel,Dealer,Automatic,First Owner,19.33,1999,177,5\\nJeep,2017,4100000,17000,Petrol,Individual,Automatic,First Owner,9.5,3604,280,5\\nToyota,2018,1000000,4295,Petrol,Trustmark Dealer,Manual,First Owner,17.1,1496,105.5,5\\nToyota,2018,1000000,5229,Petrol,Trustmark Dealer,Manual,First Owner,17.1,1496,105.5,5\\nToyota,2016,2000000,68089,Petrol,Trustmark Dealer,Automatic,First Owner,19.16,2494,157.7,5\\nMaruti,2018,925000,23712,Diesel,Trustmark Dealer,Manual,First Owner,28.09,1248,88.5,5\\nHonda,2016,550000,56494,Petrol,Trustmark Dealer,Manual,First Owner,18.2,1199,88.7,5\\nMaruti,2018,430000,16589,Petrol,Trustmark Dealer,Manual,First Owner,20.51,998,67.04,5\\nToyota,2013,750000,79328,Diesel,Trustmark Dealer,Manual,Second Owner,12.99,2494,100.6,7\\nHonda,2016,675000,53201,Petrol,Trustmark Dealer,Manual,Second Owner,17.8,1497,117.3,5\\nMaruti,2017,570000,25272,Petrol,Trustmark Dealer,Manual,First Owner,21.01,1197,81.8,5\\nMaruti,2017,850000,53619,Diesel,Trustmark Dealer,Manual,First Owner,24.3,1248,88.5,5\\nBMW,2019,5400000,7500,Diesel,Dealer,Automatic,First Owner,16.78,1995,190,5\\nBMW,2019,5500000,8500,Diesel,Dealer,Automatic,First Owner,16.78,1995,190,5\\nHonda,2019,779000,7032,Petrol,Trustmark Dealer,Automatic,First Owner,19,1199,88.76,5\\nFord,2018,640000,6001,Petrol,Dealer,Manual,First Owner,15.9,1496,120.69,5\\nTata,2013,250000,80000,Diesel,Individual,Manual,First Owner,19.09,1405,69.01,5\\nRenault,2018,1250000,12000,Diesel,Individual,Manual,First Owner,19.6,1461,108.45,5\\nFord,2017,889000,25000,Petrol,Individual,Manual,First Owner,17,1497,121.31,5\\nHyundai,2017,750000,40000,Diesel,Individual,Manual,Second Owner,22.54,1396,88.73,5\\nMaruti,2010,320000,130000,Diesel,Individual,Manual,Third Owner,17.8,1248,75,5\\nSkoda,2011,600000,202000,Diesel,Individual,Manual,First Owner,17.67,1968,138.08,5\\nMaruti,2018,1000000,40000,Diesel,Individual,Manual,First Owner,28.09,1248,88.5,5\\nMaruti,2000,110000,70000,Petrol,Individual,Manual,Fourth & Above Owner,17.3,993,60,5\\nHonda,2008,250000,120000,Petrol,Individual,Manual,Second Owner,17.7,1497,78,5\\nMaruti,2015,600000,60000,Diesel,Individual,Manual,First Owner,26.59,1248,74,5\\nMaruti,2009,165000,60000,Petrol,Individual,Manual,First Owner,19,998,67.1,5\\nMaruti,2004,118000,60000,Petrol,Individual,Manual,Second Owner,19.7,796,46.3,5\\nMaruti,2016,700000,78000,Diesel,Individual,Manual,First Owner,27.39,1248,74,5\\nRenault,2013,585000,80000,Diesel,Individual,Manual,Second Owner,20.46,1461,83.8,5\\nMaruti,2006,120000,120000,Petrol,Individual,Manual,Fourth & Above Owner,19.7,796,46.3,5\\nMaruti,2003,65000,90000,Petrol,Individual,Manual,Fourth & Above Owner,16.1,796,37,4\\nMaruti,2006,150000,100000,Petrol,Individual,Manual,Second Owner,19.7,796,46.3,5\\nMaruti,2009,150000,70000,Petrol,Individual,Manual,Fourth & Above Owner,19.7,796,46.3,5\\nHyundai,2004,170000,160000,Diesel,Individual,Manual,Third Owner,13.1,1493,82,5\\nMahindra,2006,250000,120000,Diesel,Individual,Manual,Third Owner,10.5,2179,120,8\\nHyundai,2005,100000,100000,Diesel,Individual,Manual,Third Owner,13.1,1493,82,5\\nMaruti,2013,599000,60000,Diesel,Individual,Manual,Second Owner,20.77,1248,88.76,7\\nChevrolet,2010,250000,135000,Diesel,Individual,Manual,Third Owner,18.3,1991,147.9,5\\nMaruti,2016,570000,90000,Petrol,Individual,Manual,First Owner,20.4,1197,81.8,5\\nVolkswagen,2013,440000,75000,Diesel,Individual,Manual,Second Owner,22.07,1199,73.9,5\\nToyota,2005,300000,185000,Diesel,Individual,Manual,Second Owner,11.4,2494,100.6,7\\nNissan,2015,300000,71717,Petrol,Individual,Automatic,Second Owner,19.34,1198,76,5\\nMahindra,2011,500000,150000,Diesel,Individual,Automatic,Second Owner,11.79,2179,120,8\\nMaruti,2016,660000,55000,Diesel,Individual,Manual,First Owner,26.59,1248,74,5\\nFord,2012,256000,90000,Petrol,Individual,Manual,Second Owner,15.3,1596,99.6,5\\nRenault,2018,409999,35000,Petrol,Individual,Manual,First Owner,23.01,999,67,5\\nToyota,2015,1888000,120000,Diesel,Individual,Manual,Second Owner,12.55,2982,168.5,7\\nHyundai,2011,250000,100000,LPG,Individual,Manual,Second Owner,13.45,1086,62.1,5\\nHonda,2009,280000,40000,Petrol,Individual,Automatic,Third Owner,12.9,1799,130,5\\nMahindra,2010,300000,100000,Diesel,Individual,Manual,First Owner,13,2489,95,8\\nTata,2016,900000,120000,Diesel,Individual,Manual,First Owner,14.1,2179,147.94,5\\nMaruti,2014,190000,60000,Petrol,Individual,Manual,First Owner,19,998,67.1,5\\nMahindra,2019,800000,2000,Diesel,Individual,Manual,First Owner,15.96,2523,63,9\\nMahindra,2012,450000,100000,Diesel,Individual,Manual,First Owner,14,2523,75,8\\nMahindra,2015,400000,110000,Diesel,Individual,Manual,First Owner,14.95,2489,93.7,7\\nTata,2009,150000,90000,Diesel,Individual,Manual,Second Owner,13.93,2179,138.1,7\\nTata,2011,200000,84321,Diesel,Individual,Manual,First Owner,23.57,1396,70,5\\nMahindra,2013,600000,177000,Diesel,Individual,Manual,First Owner,15.1,2179,140,7\\nTata,2010,175000,60000,Diesel,Individual,Manual,First Owner,18,1248,75,5\\nTata,2008,99000,205000,Diesel,Individual,Manual,Second Owner,19.09,1396,69,5\\nHyundai,2008,215000,70000,Petrol,Individual,Manual,Second Owner,20.36,1197,78.9,5\\nMaruti,2011,190000,70000,Petrol,Individual,Manual,Third Owner,,,,\\nRenault,2013,520000,126000,Diesel,Individual,Manual,Second Owner,19.01,1461,108.45,5\\nFord,2016,2280000,120000,Diesel,Individual,Automatic,Second Owner,10.91,3198,197,7\\nTata,2015,285000,70000,Diesel,Individual,Manual,First Owner,19.1,1405,70,5\\nMahindra,2017,660000,82000,Diesel,Individual,Manual,First Owner,18.49,1493,100,7\\nMaruti,2004,31504,110000,Petrol,Individual,Manual,Third Owner,16.1,796,37,4\\nMaruti,2015,515000,45000,Petrol,Individual,Manual,Second Owner,20.85,1197,83.14,5\\nNissan,2012,295000,70000,Diesel,Individual,Manual,Second Owner,21.64,1461,84.8,5\\nNissan,2015,700000,80000,Diesel,Individual,Manual,Second Owner,20.45,1461,83.8,5\\nMahindra,2017,1100000,45000,Diesel,Individual,Manual,First Owner,15.4,2179,120,7\\nHyundai,2017,300000,60000,Petrol,Individual,Manual,First Owner,20.3,998,68.05,5\\nMaruti,2013,450000,41800,Petrol,Individual,Manual,First Owner,18.6,1197,85.8,5\\nMaruti,2010,135000,132000,Petrol,Individual,Manual,Second Owner,,,,\\nMaruti,2017,700000,50000,Diesel,Individual,Manual,Second Owner,28.4,1248,74.02,5\\nFord,2012,250000,40000,Diesel,Individual,Manual,First Owner,20,1399,68,5\\nMaruti,2009,140000,96000,Petrol,Individual,Manual,Second Owner,18.9,1061,67,5\\nMahindra,2012,250000,117000,Diesel,Individual,Manual,First Owner,14,2498,112,8\\nHyundai,2011,210000,110000,Petrol,Individual,Manual,Second Owner,19.81,1086,68.05,5\\nHonda,2014,420000,100000,Diesel,Individual,Manual,Second Owner,25.8,1498,98.6,5\\nMaruti,2007,130000,88700,Petrol,Individual,Manual,Third Owner,19.7,796,46.3,5\\nNissan,2012,320000,70000,Petrol,Individual,Manual,Second Owner,16.95,1498,97.7,5\\nMaruti,2010,200000,110000,Petrol,Individual,Manual,Second Owner,17.3,1061,64,5\\nMaruti,2016,310000,15000,Petrol,Individual,Manual,First Owner,22.74,796,47.3,5\\nMahindra,2012,200000,80000,Diesel,Individual,Manual,Second Owner,20.8,1461,65,5\\nMaruti,2014,350000,50000,Petrol,Individual,Manual,First Owner,18.5,1197,85.8,5\\nHyundai,2018,444000,15000,Petrol,Individual,Manual,First Owner,21.1,814,55.2,5\\nDatsun,2017,300000,25000,Petrol,Individual,Manual,First Owner,22.7,799,53.64,5\\nMahindra,2011,225000,57000,Diesel,Individual,Manual,Second Owner,21,1461,64.1,5\\nMahindra,2012,600000,75000,Diesel,Individual,Manual,First Owner,15.96,2523,62.1,7\\nMaruti,2013,260000,26000,Petrol,Individual,Manual,First Owner,15.37,1196,73,5\\nHyundai,2015,375000,160000,Diesel,Individual,Manual,First Owner,24.4,1120,71.01,5\\nMaruti,2013,260000,26000,Petrol,Individual,Manual,First Owner,15.37,1196,73,5\\nMaruti,2010,150000,120000,Petrol,Individual,Manual,Second Owner,19.7,796,46.3,5\\nMaruti,2014,110000,50000,Petrol,Individual,Manual,Second Owner,19.7,796,46.3,5\\nMaruti,2012,225000,40000,Petrol,Individual,Manual,First Owner,19.7,796,46.3,5\\nToyota,2011,400000,90000,Diesel,Individual,Manual,Third Owner,,,,\\nMaruti,2005,93000,120000,Petrol,Individual,Manual,Third Owner,,,,\\nHonda,2017,860000,28000,Petrol,Individual,Manual,First Owner,17.8,1497,117.3,5\\nMaruti,2018,650000,50000,Diesel,Individual,Manual,First Owner,28.4,1248,74.02,5\\nMaruti,2014,650000,90000,Diesel,Individual,Manual,First Owner,20.77,1248,88.8,7\\nHyundai,2016,710000,40000,Diesel,Individual,Manual,First Owner,24.8,1396,88.7,5\\nFord,2017,430000,113000,Diesel,Individual,Manual,First Owner,25.83,1498,99,5\\nMaruti,2011,305000,188000,Diesel,Individual,Manual,Second Owner,17.8,1248,75,5\\nFord,2011,220000,100000,Diesel,Individual,Manual,First Owner,20,1399,68,5\\nTata,2010,150000,225000,Diesel,Individual,Manual,Third Owner,14,1948,90,9\\nMahindra,2017,660000,67000,Diesel,Individual,Manual,Second Owner,18.49,1493,100,7\\nChevrolet,2011,140000,70000,Diesel,Individual,Manual,Fourth & Above Owner,25.44,936,57.6,5\\nToyota,2015,1100000,50000,Petrol,Individual,Manual,First Owner,14.28,1798,138.03,5\\nJaguar,2013,2450000,60000,Diesel,Individual,Automatic,First Owner,16.36,2179,187.7,5\\nVolkswagen,2017,625000,34000,Diesel,Individual,Automatic,First Owner,22,1498,108.495,5\\nHonda,2004,198000,110000,Petrol,Individual,Manual,Third Owner,12.8,1493,100,5\\nHyundai,2001,60000,71000,Petrol,Individual,Manual,Second Owner,,,,\\nMaruti,2005,130000,140000,Petrol,Individual,Manual,Second Owner,18.9,998,67.1,5\\nHonda,2012,540000,100000,Petrol,Individual,Manual,Second Owner,16.8,1497,116.3,5\\nHyundai,2017,550000,10000,Petrol,Individual,Automatic,First Owner,18.9,1197,81.86,5\\nMaruti,2018,475000,30000,Petrol,Individual,Manual,First Owner,21.63,998,67.04,5\\nAudi,2017,2825000,22000,Diesel,Dealer,Automatic,First Owner,15.73,1968,174.33,5\\nHonda,2020,2125000,5500,Diesel,Dealer,Manual,First Owner,26.8,1597,118,5\\nBMW,2018,3350000,18000,Diesel,Dealer,Automatic,First Owner,19.62,1998,190,5\\nToyota,2018,1800000,20000,Diesel,Dealer,Automatic,First Owner,11.36,2755,171.5,8\\nHyundai,2018,540000,7000,Petrol,Dealer,Manual,First Owner,20.3,1086,68,5\\nForce,2018,910000,20000,Diesel,Dealer,Manual,First Owner,17,2596,80.8,5\\nMaruti,2019,484999,4875,Petrol,Dealer,Manual,First Owner,21.63,998,67.04,5\\nHyundai,2020,1950000,2700,Diesel,Dealer,Automatic,First Owner,17.01,1582,126.2,5\\nMaruti,2018,950000,58511,Diesel,Dealer,Manual,First Owner,24.3,1248,88.5,5\\nFord,2015,365000,105000,Diesel,Dealer,Manual,First Owner,25.83,1498,99,5\\nMahindra,2018,900000,26235,Diesel,Dealer,Manual,First Owner,16.55,2498,105,6\\nTata,2017,919999,26766,Diesel,Dealer,Manual,First Owner,21.5,1497,108.5,5\\nMG,2020,1900000,1600,Petrol,Dealer,Automatic,First Owner,13.96,1451,141,5\\nMercedes-Benz,2018,2950000,46000,Diesel,Dealer,Manual,First Owner,15.8,2148,170,5\\nMahindra,2019,1075000,23000,Diesel,Dealer,Manual,First Owner,17.3,1497,121,7\\nMaruti,2017,600000,24522,Petrol,Dealer,Manual,First Owner,20.4,1197,81.8,5\\nBMW,2017,3200000,13663,Diesel,Dealer,Automatic,First Owner,22.69,1995,190,5\\nSkoda,2019,2600000,11000,Diesel,Dealer,Automatic,First Owner,19.3,1968,141,5\\nMaruti,2016,839000,63000,Diesel,Dealer,Manual,First Owner,24.3,1248,88.5,5\\nVolkswagen,2019,635000,2000,Petrol,Dealer,Manual,First Owner,16.2,1199,74,5\\nMahindra,2014,550000,300000,Diesel,Individual,Manual,Third Owner,12.05,2179,120,8\\nMahindra,2011,180000,190000,Diesel,Individual,Manual,Third Owner,19.2,1461,65,5\\nHonda,2015,650000,80000,Diesel,Individual,Manual,First Owner,26,1498,98.6,5\\n',\n",
              " 'v2.csv': b'name,year,selling_price,km_driven,fuel,seller_type,transmission,owner,mileage,engine,max_power,seats\\nHonda,2011,350000,80000,Petrol,Individual,Manual,Second Owner,16,1198,90,5\\nMaruti,2015,265000,54000,Petrol,Individual,Manual,First Owner,23.95,998,67.05,5\\nRenault,2018,330000,30000,Petrol,Individual,Manual,First Owner,23.01,999,67,5\\nMaruti,2019,395000,5000,Petrol,Individual,Manual,First Owner,15.37,1196,73,7\\nMahindra,2015,700000,58945,Diesel,Individual,Manual,First Owner,18.49,1493,100,7\\nFord,2012,300000,90000,Diesel,Individual,Manual,First Owner,20,1399,68,5\\nToyota,2011,650000,375000,Diesel,Individual,Manual,First Owner,12.8,2494,102,8\\nMaruti,2013,625000,160000,Diesel,Individual,Manual,Third Owner,20.77,1248,88.76,7\\nVolkswagen,2014,425000,80000,Diesel,Individual,Manual,Second Owner,15.11,1598,103.6,5\\nMaruti,2004,55000,50000,Petrol,Individual,Manual,Third Owner,16.1,796,37,4\\nTata,2015,250000,80000,Diesel,Individual,Manual,Second Owner,19.09,1405,69.01,5\\nMahindra,2015,459999,156975,Diesel,Individual,Manual,First Owner,15.96,2523,62.1,9\\nToyota,2017,1594000,5000,Diesel,Individual,Manual,First Owner,21.43,1364,86.79,5\\nChevrolet,2014,300000,50000,Petrol,Individual,Manual,First Owner,18.2,1199,82.4,5\\nFord,2018,950000,27620,Diesel,Dealer,Manual,First Owner,22.77,1498,98.59,5\\nMahindra,2013,484999,120000,Diesel,Individual,Manual,First Owner,12.05,2179,120,9\\nMahindra,2009,161000,120000,Diesel,Individual,Manual,Third Owner,14,2498,112,8\\nHyundai,2015,500000,58000,Petrol,Individual,Manual,First Owner,17.19,1197,81.86,5\\nNissan,2012,350000,50000,Petrol,Individual,Manual,First Owner,16.95,1498,97.7,5\\nMaruti,2017,550000,40000,Petrol,Individual,Automatic,First Owner,20.89,1197,81.8,5\\nHonda,2018,850000,7800,Petrol,Individual,Manual,First Owner,17.5,1199,88.7,5\\nMaruti,2016,240000,50000,Petrol,Individual,Manual,First Owner,22.74,796,47.3,5\\nFord,2011,950000,68000,Diesel,Individual,Manual,First Owner,13.1,2499,141,7\\nMaruti,2015,423000,60000,Petrol,Individual,Manual,Second Owner,16.02,1373,93.7,7\\nTata,2005,90000,74000,Petrol,Individual,Manual,Second Owner,12.8,1396,85,5\\nTata,2011,350000,58000,Diesel,Individual,Manual,Second Owner,13.93,2179,138.1,7\\nMaruti,2011,170000,70000,Petrol,Individual,Manual,Third Owner,19,998,66.1,5\\nFord,2015,450000,70000,Petrol,Individual,Manual,First Owner,18.16,1196,86.8,5\\nHyundai,2009,150000,110000,Petrol,Individual,Manual,Second Owner,20.36,1197,78.9,5\\nHyundai,2002,75000,80000,Petrol,Individual,Manual,Third Owner,,,,\\nHyundai,2016,511000,80000,Diesel,Individual,Manual,First Owner,22.54,1396,88.73,5\\nMaruti,2018,850000,59000,Diesel,Individual,Manual,First Owner,24.2,1498,93.87,7\\nTata,2018,250000,110000,Diesel,Individual,Manual,First Owner,25,1396,69,5\\nMaruti,2020,420000,25000,Petrol,Individual,Manual,First Owner,21.63,998,67.04,5\\nMaruti,2014,180000,55000,Petrol,Individual,Manual,First Owner,22.74,796,47.3,5\\nMaruti,2015,400000,25000,Diesel,Individual,Manual,First Owner,27.62,793,47,5\\nMahindra,2009,150000,300000,Diesel,Individual,Manual,First Owner,14,2498,112,7\\nFord,2016,500000,143200,Diesel,Individual,Manual,First Owner,25.83,1498,99,5\\nJeep,2017,1689999,60000,Diesel,Individual,Manual,First Owner,17.1,1956,170,5\\nNissan,2012,204999,120000,Diesel,Individual,Manual,First Owner,23.08,1461,63.1,5\\nMaruti,2014,459999,145000,Diesel,Individual,Manual,Second Owner,26.21,1248,88.5,5\\nHyundai,2017,600000,30000,Petrol,Individual,Manual,First Owner,18.6,1197,81.83,5\\nHyundai,2019,585000,8000,Petrol,Individual,Manual,First Owner,18.9,1197,81.86,5\\nFord,2012,551000,170000,Diesel,Individual,Manual,First Owner,13.1,2499,141,7\\nMaruti,2013,525000,100000,Diesel,Individual,Manual,First Owner,23.4,1248,74,5\\nMaruti,2012,160000,62000,Petrol,Individual,Manual,First Owner,14,796,35,5\\nMahindra,2014,825000,110000,Diesel,Individual,Manual,First Owner,15.1,2179,140,7\\nHyundai,2007,127000,137000,CNG,Individual,Manual,First Owner,,,,\\nChevrolet,2015,600000,80000,Diesel,Individual,Manual,Second Owner,13.58,2499,72.4,9\\nMaruti,2002,65000,80000,Petrol,Individual,Manual,Second Owner,17.3,993,60,5\\nMaruti,2013,550000,100000,Diesel,Individual,Manual,First Owner,23.4,1248,74,5\\nMahindra,2015,650000,120000,Diesel,Individual,Manual,First Owner,15.96,2523,63,9\\nMaruti,2019,750000,24000,Diesel,Individual,Manual,First Owner,28.4,1248,74.02,5\\nMahindra,2017,380000,80000,Diesel,Individual,Manual,First Owner,25.32,1198,77,6\\nHyundai,2012,400000,138000,Diesel,Individual,Manual,First Owner,22.32,1582,126.32,5\\nMaruti,2003,50000,147000,Petrol,Individual,Manual,Fourth & Above Owner,18.9,998,67.1,5\\nMahindra,2017,750000,60000,Diesel,Individual,Manual,First Owner,18.49,1493,100,7\\nChevrolet,2011,150000,80000,Petrol,Individual,Manual,First Owner,18,995,62,5\\nMaruti,2016,245000,50000,Petrol,Individual,Manual,First Owner,22.74,796,47.3,5\\nTata,2013,260000,189000,Diesel,Individual,Manual,First Owner,21.02,1248,88.76,5\\nVolkswagen,2014,411000,90000,Diesel,Individual,Automatic,Second Owner,21.21,1498,103.2,5\\nHyundai,2014,450000,56000,Diesel,Individual,Manual,First Owner,21.9,1396,88.76,5\\nBMW,2012,1300000,140000,Diesel,Individual,Automatic,Second Owner,18.88,1995,184,5\\nMaruti,2016,351000,60000,Petrol,Individual,Manual,First Owner,23.1,998,67.04,5\\nMahindra,2012,550000,130000,Diesel,Individual,Manual,First Owner,15.1,2179,140,7\\nBMW,2013,1300000,140000,Diesel,Individual,Automatic,Second Owner,18.88,1995,184,5\\nTata,2013,260000,189000,Diesel,Individual,Manual,First Owner,21.02,1248,88.76,5\\nVolkswagen,2014,411000,90000,Diesel,Individual,Automatic,Second Owner,21.21,1498,103.2,5\\nHyundai,2014,450000,56000,Diesel,Individual,Manual,First Owner,21.9,1396,88.76,5\\nBMW,2012,1300000,140000,Diesel,Individual,Automatic,Second Owner,18.88,1995,184,5\\nMaruti,2016,351000,60000,Petrol,Individual,Manual,First Owner,23.1,998,67.04,5\\nMahindra,2012,550000,130000,Diesel,Individual,Manual,First Owner,15.1,2179,140,7\\nBMW,2013,1300000,140000,Diesel,Individual,Automatic,Second Owner,18.88,1995,184,5\\nNissan,2016,750000,35000,Diesel,Individual,Manual,First Owner,20.45,1461,83.8,5\\nNissan,2015,800000,35000,Diesel,Individual,Manual,First Owner,20.45,1461,83.8,5\\nTata,2011,350000,156000,Diesel,Individual,Manual,First Owner,11.57,2179,138.1,7\\nMaruti,2013,200000,90000,Petrol,Individual,Manual,First Owner,22.74,796,47.3,5\\nTata,2008,150000,60000,Diesel,Individual,Manual,Third Owner,17,1405,70,5\\nNissan,2016,800000,36000,Diesel,Individual,Manual,First Owner,19.01,1461,108.5,5\\nHyundai,2017,350000,20000,Petrol,Individual,Manual,Second Owner,21.1,814,55.2,5\\nTata,2011,350000,160000,Diesel,Individual,Manual,First Owner,13.93,2179,138,7\\nMahindra,2006,250000,185000,Diesel,Individual,Manual,First Owner,12.7,2609,116.6,9\\nTata,2010,170000,110000,Diesel,Individual,Manual,Second Owner,17,1405,71,5\\nRenault,2018,395000,10800,Petrol,Individual,Manual,First Owner,25.17,799,53.3,5\\nMahindra,2012,450000,120000,Diesel,Individual,Manual,First Owner,15.96,2523,62.1,7\\nMaruti,2019,500000,15000,Petrol,Individual,Manual,First Owner,20.89,1197,81.8,5\\nTata,2012,200000,67500,Diesel,Individual,Manual,First Owner,12.2,1948,68,10\\nTata,2017,1200000,30000,Diesel,Individual,Manual,First Owner,17.6,2179,153.86,7\\nMahindra,2016,400000,50000,Diesel,Individual,Manual,First Owner,25.32,1198,77,6\\nMahindra,2016,650000,100000,Diesel,Individual,Manual,First Owner,18.49,1493,100,7\\nMahindra,2016,550000,150000,Diesel,Individual,Manual,First Owner,15.96,2523,63,9\\nMahindra,2015,1100000,110000,Diesel,Individual,Manual,First Owner,16,2179,140,7\\nMaruti,2012,254999,30000,Petrol,Individual,Manual,First Owner,22.74,796,47.3,5\\nMaruti,2011,180000,60000,Petrol,Individual,Manual,First Owner,19.7,796,46.3,5\\nMahindra,2010,160000,255000,Diesel,Individual,Manual,Second Owner,13,2489,95,8\\nChevrolet,2008,225000,120000,Diesel,Individual,Manual,Second Owner,16.52,1991,123.7,5\\nMaruti,2015,270000,49900,Petrol,Individual,Manual,Second Owner,22.74,796,47.3,5\\nTata,2012,310000,86000,Diesel,Individual,Manual,First Owner,21.12,1248,88.8,5\\nDatsun,2015,225000,71850,Petrol,Individual,Manual,First Owner,20.63,1198,67,5\\nFiat,2015,300000,95000,Diesel,Individual,Manual,Third Owner,21.2,1248,75,5\\nMaruti,2008,250000,70000,Petrol,Individual,Manual,Fourth & Above Owner,17.5,1298,85.8,5\\nHyundai,2011,180000,35000,Petrol,Individual,Manual,First Owner,21.1,814,55.2,5\\nMaruti,2015,550000,50000,Petrol,Individual,Manual,First Owner,20.85,1197,83.14,5\\nMahindra,2007,300000,120000,Diesel,Individual,Manual,Third Owner,13.6,2523,63,7\\nHyundai,2015,900000,145000,Diesel,Individual,Manual,First Owner,22.7,1582,126.2,5\\nTata,2012,254999,190000,Diesel,Individual,Manual,Third Owner,,,,\\nMahindra,2018,1530000,40000,Diesel,Individual,Manual,First Owner,16,2179,138,7\\nMaruti,2015,590000,110000,Diesel,Individual,Manual,First Owner,27.39,1248,74,5\\nMaruti,2008,170000,112000,LPG,Individual,Manual,Second Owner,17.3,1061,57.5,5\\nAudi,2017,2600000,70000,Diesel,Individual,Automatic,First Owner,20.38,1968,143,5\\nMaruti,2016,475000,110000,Diesel,Individual,Manual,First Owner,23.2,1248,73.94,5\\nHyundai,2018,700000,29000,Diesel,Individual,Manual,First Owner,24,1186,73.97,5\\nMaruti,2011,376000,60000,Petrol,Individual,Manual,First Owner,18.9,998,67.1,5\\nHyundai,2002,100000,120000,Petrol,Individual,Manual,Fourth & Above Owner,,,,\\nMaruti,2004,75000,46000,Petrol,Individual,Manual,Fourth & Above Owner,16.1,796,37,4\\nMahindra,2012,440000,120000,Diesel,Individual,Automatic,Third Owner,11.79,2179,120,8\\nMaruti,2016,390000,80000,Petrol,Individual,Manual,First Owner,20.51,998,67.04,5\\nToyota,2012,725000,159000,Diesel,Individual,Manual,Second Owner,12.8,2494,102,7\\nMahindra,2012,325000,110000,Diesel,Individual,Manual,Second Owner,15.96,2523,62.1,7\\nMaruti,2010,170000,75000,Petrol,Individual,Manual,Second Owner,19.7,796,46.3,5\\nMaruti,2010,215000,120000,Diesel,Individual,Manual,Third Owner,19.3,1248,73.9,5\\nHonda,2010,350000,110000,Petrol,Individual,Manual,Third Owner,17,1497,118,5\\nChevrolet,2009,80000,80000,Petrol,Individual,Manual,Fourth & Above Owner,18,995,62,5\\nHyundai,2012,195000,80000,Petrol,Individual,Manual,Second Owner,21.1,814,55.2,5\\nMaruti,2011,280000,85000,Diesel,Individual,Manual,First Owner,,,,\\nNissan,2014,335000,71000,Diesel,Dealer,Manual,First Owner,21.64,1461,84.8,5\\nMahindra,2011,475000,108000,Diesel,Dealer,Manual,First Owner,16,2179,140,7\\nRenault,2015,484999,75000,Diesel,Dealer,Manual,First Owner,19.87,1461,83.8,5\\nMaruti,2018,650000,22000,Petrol,Individual,Manual,Second Owner,21.56,1462,103.25,5\\nAudi,2014,1850000,76131,Diesel,Individual,Automatic,First Owner,13.22,2967,241.4,5\\nHyundai,2018,700000,30000,Petrol,Individual,Manual,Second Owner,18.6,1197,81.83,5\\nAudi,2014,3000000,65000,Diesel,Individual,Automatic,First Owner,12.07,2967,241.4,7\\nMahindra,2018,900000,60000,Diesel,Individual,Manual,First Owner,15.4,2523,75,7\\nVolkswagen,2013,350000,80000,Diesel,Individual,Manual,First Owner,22.07,1199,73.9,5\\nHonda,2005,285000,80000,Petrol,Individual,Automatic,Second Owner,9,2997,218,5\\nAudi,2012,1850000,70000,Diesel,Individual,Automatic,First Owner,12.07,2967,241.4,7\\nMaruti,2017,750000,51777,Diesel,Dealer,Manual,First Owner,24.3,1248,88.5,5\\nLand,2013,1650000,64788,Diesel,Dealer,Automatic,First Owner,0,2179,115,5\\nHonda,2018,600000,20000,Petrol,Individual,Manual,First Owner,19.5,1199,88.76,5\\nVolkswagen,2018,565000,19000,Petrol,Individual,Manual,First Owner,18.78,999,75,5\\nDaewoo,2000,86000,46951,Petrol,Individual,Manual,First Owner,18.5,796,53,5\\nDatsun,2016,329000,19000,Petrol,Individual,Manual,First Owner,20.63,1198,67,5\\nFord,2016,650000,50000,Diesel,Individual,Manual,First Owner,22.77,1498,98.59,5\\nHyundai,2015,822000,60000,Diesel,Individual,Manual,First Owner,19.67,1582,126.2,5\\nRenault,2013,345000,100000,Diesel,Individual,Manual,Second Owner,19.01,1461,108.45,5\\nMaruti,2001,30000,10000,Petrol,Individual,Manual,First Owner,17.3,993,60,5\\nMaruti,2012,330000,50000,Diesel,Individual,Manual,Second Owner,22.9,1248,74,5\\nMaruti,2014,300000,74537,Petrol,Individual,Manual,Second Owner,20.51,998,67.04,5\\nMaruti,2009,200000,90000,Petrol,Individual,Automatic,Second Owner,12.6,1586,103.3,5\\nTata,2012,200000,80000,Diesel,Individual,Manual,Second Owner,,,,\\nChevrolet,2010,90000,70000,Petrol,Individual,Manual,Second Owner,18,995,62,5\\nMaruti,2010,200000,80000,Petrol,Individual,Manual,Second Owner,18.9,1061,67,5\\nHyundai,2016,550000,35000,Diesel,Individual,Manual,First Owner,24.4,1120,71,5\\nChevrolet,2015,250000,23500,Petrol,Individual,Manual,First Owner,18.6,1199,76.8,5\\nHonda,2017,975000,82000,Diesel,Individual,Manual,First Owner,25.6,1498,97.9,5\\nToyota,2014,900000,100000,Diesel,Individual,Manual,Second Owner,12.99,2494,100.6,8\\nHyundai,2018,610000,15000,Petrol,Individual,Manual,First Owner,18.6,1197,81.83,5\\nMaruti,2017,620000,30000,Diesel,Individual,Manual,First Owner,27.39,1248,74,5\\nHyundai,2016,400000,30000,Petrol,Individual,Manual,First Owner,18.9,1197,82,5\\nMaruti,2019,500000,11000,Petrol,Individual,Manual,First Owner,21.63,998,67,5\\nDatsun,2017,200000,140000,Petrol,Individual,Manual,First Owner,19.02,1198,67.05,7\\nTata,2016,360000,110000,Diesel,Individual,Manual,First Owner,23,1248,88.7,5\\nMaruti,2012,252000,48000,Petrol,Individual,Manual,First Owner,20.92,998,67.1,5\\nMaruti,2012,280000,70000,Diesel,Individual,Manual,Second Owner,22.9,1248,74,5\\nMaruti,2018,509999,70000,Petrol,Individual,Manual,Second Owner,22,1197,81.8,5\\nMahindra,2016,1050000,58000,Diesel,Individual,Manual,First Owner,15.4,1997,120,7\\nMaruti,2010,200000,40000,LPG,Individual,Manual,Fourth & Above Owner,17.3,1061,57.5,5\\nMaruti,2005,60000,90000,Petrol,Individual,Manual,Second Owner,17.3,993,60,5\\nMahindra,2010,320000,40000,Diesel,Individual,Manual,Second Owner,14,2498,112,7\\nMahindra,2013,520000,110000,Diesel,Individual,Manual,First Owner,12.05,2179,120,9\\nTata,2007,250000,80000,Diesel,Individual,Manual,Second Owner,11.57,2179,138.1,7\\nMaruti,2017,725000,60000,Diesel,Individual,Manual,First Owner,24.3,1248,88.5,5\\nMahindra,2015,585000,50000,Diesel,Individual,Manual,First Owner,15.96,2523,62.1,7\\nTata,2017,430000,25000,Petrol,Individual,Manual,First Owner,23.84,1199,84,5\\nMaruti,2011,235000,100000,Diesel,Individual,Manual,Second Owner,22.9,1248,74,5\\nMaruti,2012,350000,52000,Diesel,Individual,Manual,Third Owner,19.3,1248,73.9,5\\nHyundai,2010,131000,80000,Petrol,Individual,Manual,Third Owner,19.81,1086,68.05,5\\nHonda,2016,450000,85000,Diesel,Individual,Manual,First Owner,25.8,1498,98.6,5\\nMaruti,2016,750000,83000,Diesel,Individual,Manual,First Owner,24.3,1248,88.5,5\\nMaruti,2013,200000,50000,Petrol,Individual,Manual,First Owner,22.74,796,47.3,5\\nMaruti,2009,125000,120000,Petrol,Individual,Manual,Fourth & Above Owner,18.9,1061,67,5\\nMahindra,2014,500000,100000,Diesel,Individual,Manual,First Owner,15.96,2523,62.1,7\\nMaruti,2012,380000,70000,Diesel,Individual,Manual,Third Owner,22.9,1248,74,5\\nMaruti,2008,128000,19000,Petrol,Individual,Manual,First Owner,19.7,796,46.3,5\\nHonda,2009,250000,68600,Petrol,Individual,Manual,Third Owner,17,1497,118,5\\nMahindra,2017,690000,60000,Diesel,Individual,Manual,First Owner,16.5,1493,70,7\\nMahindra,2014,650000,65000,Diesel,Individual,Manual,Second Owner,15.96,2523,62.1,7\\nHonda,2012,560000,40000,Petrol,Individual,Manual,Second Owner,16.8,1497,116.3,5\\nTata,2012,120000,160000,Diesel,Individual,Manual,Second Owner,,,,\\nMaruti,2016,400000,25000,Petrol,Individual,Manual,First Owner,23.1,998,67.04,5\\nMaruti,2012,200000,29500,Petrol,Individual,Manual,First Owner,20.92,998,67.1,5\\nHyundai,2018,950000,13887,Petrol,Individual,Manual,First Owner,17,1591,121.3,5\\nMaruti,2016,300000,50000,Petrol,Individual,Manual,Second Owner,22.74,796,47.3,5\\nRenault,2016,315000,30000,Petrol,Individual,Manual,Second Owner,25.17,799,53.3,5\\nMaruti,2012,220000,100000,Petrol,Individual,Manual,First Owner,22.74,796,47.3,5\\nChevrolet,2011,130000,60000,Petrol,Individual,Manual,Second Owner,14.49,1399,92.7,5\\nHyundai,2016,595000,60000,Diesel,Individual,Manual,Second Owner,22.54,1396,88.73,5\\nTata,2011,110000,120000,Diesel,Individual,Manual,First Owner,19.4,1405,70,5\\nFord,2017,680000,13500,Petrol,Individual,Manual,First Owner,17,1497,121.36,5\\nFiat,2013,280000,52000,Diesel,Individual,Manual,First Owner,20.3,1248,75,5\\nMaruti,2017,530000,30000,Petrol,Individual,Manual,Second Owner,21.4,1197,83.1,5\\nHyundai,2017,610000,14000,Petrol,Individual,Manual,First Owner,19.1,1197,82,5\\nTata,2014,500000,90000,Diesel,Individual,Manual,Second Owner,15.05,2179,147.9,7\\nTata,2018,500000,50000,Diesel,Individual,Manual,First Owner,24.7,1047,69,5\\nMahindra,2010,250000,120000,Diesel,Individual,Manual,Second Owner,13,2489,95,8\\nHyundai,2018,325000,10000,Petrol,Individual,Manual,First Owner,21.1,814,55.2,5\\nMaruti,2018,550000,10000,Petrol,Individual,Manual,First Owner,21.4,1197,83.1,5\\nMaruti,2018,720000,25000,Petrol,Individual,Manual,First Owner,20.73,1373,91.1,5\\nHyundai,2017,950000,20000,Petrol,Individual,Manual,First Owner,17,1591,121.3,5\\nMaruti,2013,350000,60000,Diesel,Individual,Manual,First Owner,22.9,1248,74,5\\nHyundai,2018,500000,40000,Petrol,Individual,Manual,First Owner,18.9,1197,81.86,5\\nMaruti,2012,380000,60000,Diesel,Individual,Manual,First Owner,19.3,1248,73.9,5\\nHyundai,2015,380000,50000,Petrol,Individual,Automatic,First Owner,16.9,1197,82,5\\nHyundai,2017,900000,20000,Petrol,Individual,Manual,First Owner,17,1591,121.3,5\\nMaruti,2017,295000,35000,Petrol,Individual,Manual,First Owner,24.7,796,47.3,5\\nMaruti,2016,640000,40000,Diesel,Individual,Manual,First Owner,28.09,1248,88.5,5\\nTata,2018,790000,60000,Diesel,Individual,Manual,First Owner,21.5,1497,108.5,5\\nHyundai,2015,625000,20000,Petrol,Individual,Manual,First Owner,17.01,1591,121.4,5\\nFord,2017,604000,30000,Petrol,Individual,Manual,Second Owner,17,1497,121.36,5\\nMaruti,2015,315000,29000,Petrol,Individual,Manual,First Owner,23.95,998,67.05,5\\nMahindra,2019,950000,17000,Diesel,Individual,Manual,First Owner,20,1497,115,5\\nMaruti,2017,400000,50000,Petrol,Individual,Manual,First Owner,20.51,998,67.04,5\\nHyundai,2018,700000,42000,Petrol,Individual,Automatic,First Owner,18.6,1368,98.63,5\\nToyota,2011,700000,120000,Diesel,Individual,Manual,Second Owner,12.8,2494,102,8\\nMahindra,2012,260000,110000,Diesel,Individual,Manual,First Owner,21.03,1461,65,5\\nTata,2012,200000,90000,Diesel,Individual,Manual,First Owner,23.57,1396,70,5\\nMaruti,2020,580000,70000,Petrol,Individual,Manual,First Owner,23.26,1197,88.5,5\\nVolkswagen,2011,330000,66000,Diesel,Individual,Manual,Second Owner,20.5,1598,105,5\\nHyundai,2011,400000,70000,Diesel,Individual,Manual,Third Owner,16.2,1493,110,5\\nHyundai,2018,1350000,5000,Petrol,Individual,Automatic,First Owner,14.8,1591,121.3,5\\nMahindra,2014,250000,50000,Diesel,Individual,Manual,Second Owner,21.03,1461,65,5\\nSkoda,2019,725000,25000,Petrol,Individual,Manual,First Owner,15.41,1598,103.2,5\\nMaruti,2013,300000,70000,Diesel,Individual,Manual,First Owner,23.4,1248,74,5\\nMaruti,2006,120000,40000,Petrol,Individual,Manual,Second Owner,16.1,796,37,4\\nMahindra,2016,1175000,110000,Diesel,Individual,Manual,First Owner,16,2179,140,7\\nTata,2009,380000,150000,Diesel,Individual,Manual,First Owner,13.93,2179,138,7\\nTata,2014,400000,45000,Diesel,Individual,Manual,First Owner,19.1,1405,70,5\\nTata,2005,140000,90000,Diesel,Individual,Manual,Third Owner,16.1,1405,70,5\\nTata,2011,229999,140000,Diesel,Individual,Manual,Second Owner,11.57,2179,138.1,7\\nFord,2003,110000,83000,Petrol,Individual,Manual,Second Owner,13.8,1299,70,5\\nVolkswagen,2011,550000,106000,Diesel,Individual,Automatic,Second Owner,16.96,1968,138.1,5\\nChevrolet,2008,150000,60000,Petrol,Individual,Manual,Fourth & Above Owner,15.26,1150,74.9,5\\nMaruti,2017,265000,40000,Petrol,Individual,Manual,Second Owner,16.8,796,34.2,8\\nHyundai,2011,300000,138000,Petrol,Individual,Manual,Third Owner,17,1197,80,5\\nMaruti,2015,280000,80000,Petrol,Individual,Manual,First Owner,22.74,796,47.3,5\\nHyundai,2005,130000,50000,Petrol,Individual,Manual,Second Owner,15.3,1341,83,5\\nChevrolet,2015,350000,50000,Petrol,Individual,Manual,First Owner,18.2,1199,82.4,5\\nMaruti,2009,200000,120000,Petrol,Individual,Manual,First Owner,18.5,1197,85.8,5\\nMaruti,2018,550000,24400,Petrol,Individual,Manual,First Owner,22,1197,81.8,5\\nMahindra,2013,400000,60000,Diesel,Individual,Manual,Second Owner,15.96,2523,62.1,7\\nMaruti,2010,170000,120000,Petrol,Individual,Manual,Second Owner,18.5,1197,85.8,5\\nHyundai,2015,600000,60000,Diesel,Individual,Manual,Second Owner,24.8,1396,88.7,5\\nMaruti,2011,130000,100000,Petrol,Individual,Manual,Second Owner,19.7,796,46.3,5\\nHyundai,2007,120000,60000,CNG,Individual,Manual,Second Owner,,,,\\nMaruti,2011,100000,120000,Petrol,Individual,Manual,Second Owner,16.1,796,37,4\\nRenault,2016,310000,27500,Petrol,Individual,Manual,First Owner,25.17,799,53.3,5\\nMaruti,2007,35000,10000,Petrol,Individual,Manual,First Owner,16.1,796,37,4\\nHyundai,2010,200000,120000,Petrol,Individual,Manual,Third Owner,18.5,1197,80,5\\nMaruti,2009,270000,70000,Diesel,Individual,Manual,Second Owner,,,,\\nHyundai,2015,650000,80000,Diesel,Individual,Manual,First Owner,22.54,1396,88.73,5\\nTata,2013,210000,120000,Petrol,Individual,Manual,First Owner,15.64,1193,64.1,5\\nHyundai,2015,509999,90000,Diesel,Individual,Manual,First Owner,24.4,1120,71.01,5\\nFord,2013,229999,70000,Diesel,Individual,Manual,First Owner,20,1399,68.1,5\\nRenault,2014,409999,188000,Diesel,Individual,Manual,Second Owner,19.01,1461,108.45,5\\nChevrolet,2011,130000,67840,Petrol,Individual,Manual,First Owner,18,995,62,5\\nTata,2013,95000,30000,Petrol,Individual,Manual,First Owner,25.4,624,37.48,4\\nMaruti,2016,225000,35000,Petrol,Individual,Manual,Second Owner,22.74,796,47.3,5\\nMaruti,2010,256999,150000,Diesel,Individual,Manual,Second Owner,,,,\\nMaruti,2017,775000,100000,Diesel,Individual,Manual,First Owner,24.3,1248,88.5,5\\nMaruti,2017,420000,30000,Petrol,Individual,Manual,First Owner,20.51,998,67.04,5\\nHyundai,2016,480000,70000,Petrol,Individual,Manual,First Owner,18.9,1197,82,5\\nToyota,2003,200000,149032,Diesel,Individual,Manual,First Owner,,,,\\nMahindra,2010,260000,380000,Diesel,Individual,Manual,Second Owner,13.6,2523,63,7\\nToyota,2011,210000,84050,Petrol,Individual,Manual,First Owner,,,,\\nVolkswagen,2018,600000,15000,Petrol,Individual,Manual,First Owner,16.2,1199,74,5\\nFord,2009,140000,140000,Diesel,Individual,Manual,Second Owner,13.8,1399,68,5\\nMaruti,2010,130000,120000,Petrol,Individual,Manual,Third Owner,19.7,796,35,8\\nMaruti,2007,195000,112880,Diesel,Dealer,Manual,First Owner,25.2,1248,74,5\\nTata,2013,210000,135000,Diesel,Dealer,Manual,Second Owner,19.4,1405,70,5\\nMaruti,2006,130000,80000,Petrol,Individual,Manual,Third Owner,18.9,998,67.1,5\\nChevrolet,2012,141000,128000,Petrol,Individual,Manual,Third Owner,18.6,1199,79.4,5\\nMahindra,2011,280000,120000,Diesel,Individual,Manual,First Owner,13.6,2523,63,7\\nMaruti,2010,350000,30000,Petrol,Individual,Automatic,First Owner,12.6,1586,103.2,5\\nTata,2018,575000,70000,Petrol,Individual,Manual,First Owner,17,1198,108.5,5\\nHyundai,2015,550000,41000,Petrol,Individual,Manual,First Owner,18.6,1197,81.83,5\\nToyota,2011,420000,28100,Petrol,Individual,Manual,First Owner,,,,\\nMaruti,2006,120000,30000,Petrol,Individual,Manual,Second Owner,19.7,796,46.3,5\\nMaruti,2015,320000,30000,Petrol,Individual,Manual,First Owner,23.95,998,67.05,5\\nHyundai,2011,250000,35000,Petrol,Individual,Manual,First Owner,16.36,1495,93.7,5\\nMaruti,2010,300000,22000,Petrol,Individual,Manual,First Owner,15,1586,104.68,5\\nMaruti,2006,250000,70000,Petrol,Individual,Manual,First Owner,18.9,998,67.1,5\\nMaruti,2005,120000,100000,Petrol,Individual,Manual,Second Owner,,,,\\nMahindra,2018,750000,70000,Diesel,Individual,Manual,First Owner,16.5,1493,70,7\\nMahindra,2005,151000,200000,Diesel,Individual,Manual,Second Owner,10.5,2179,120,8\\nTata,2011,300000,120000,Diesel,Individual,Manual,First Owner,13.93,2179,138.03,7\\nMaruti,2019,577000,3000,Petrol,Individual,Manual,First Owner,20.89,1197,81.8,5\\nMaruti,2012,229999,50000,Petrol,Individual,Manual,First Owner,20.92,998,67.1,5\\nMahindra,2013,500000,50000,Diesel,Individual,Manual,First Owner,15.96,2523,62.1,7\\nHonda,2019,840000,1500,Petrol,Individual,Automatic,First Owner,18.2,1199,88.7,5\\nVolkswagen,2017,900000,74000,Diesel,Individual,Manual,First Owner,22.27,1498,108.6,5\\nHonda,2017,650000,25000,Petrol,Individual,Manual,First Owner,18.7,1199,88.7,5\\nHonda,2016,650000,61915,Diesel,Individual,Manual,First Owner,27.3,1498,98.6,5\\nHyundai,2016,250000,110000,Petrol,Individual,Manual,First Owner,21.1,814,55.2,5\\nVolkswagen,2016,550000,70000,Diesel,Individual,Manual,First Owner,20.14,1498,88,5\\nMaruti,2007,250000,150000,Diesel,Individual,Manual,Fourth & Above Owner,17.8,1248,75,5\\nMahindra,2013,350000,110000,Diesel,Individual,Manual,Second Owner,17.21,1493,100,7\\nChevrolet,2014,185000,90000,Diesel,Individual,Manual,Second Owner,25.44,936,56.3,5\\nFord,2010,229999,120000,Petrol,Individual,Manual,Third Owner,15.6,1196,70,5\\nToyota,2016,1000000,65000,Diesel,Individual,Manual,First Owner,12.99,2494,100.6,8\\nMaruti,2019,490000,10000,Petrol,Individual,Manual,First Owner,20.52,1197,81.8,5\\nHyundai,2009,150000,80000,Petrol,Individual,Manual,Second Owner,20.36,1197,78.9,5\\nMaruti,2013,600000,184000,Diesel,Individual,Manual,First Owner,20.77,1248,88.76,7\\nMaruti,2013,270000,80000,CNG,Individual,Manual,Second Owner,32.52,998,58.33,5\\nMaruti,2005,60000,70000,Petrol,Individual,Manual,Second Owner,17.3,993,60,5\\nMaruti,2008,150000,89000,Petrol,Individual,Manual,Second Owner,15.6,1586,104.68,5\\nHonda,2014,335000,33033,Petrol,Dealer,Manual,First Owner,19.4,1198,86.8,5\\nMaruti,2013,525000,69000,Diesel,Individual,Manual,Second Owner,22.9,1248,74,5\\nHyundai,2015,465000,63063,Petrol,Dealer,Automatic,First Owner,18.9,1197,82,5\\nTata,2012,83000,90000,Diesel,Individual,Manual,Second Owner,25,1396,69,5\\nHyundai,2017,300000,8000,Petrol,Individual,Manual,First Owner,21.1,814,55.2,5\\nHyundai,2012,350000,35000,Petrol,Individual,Manual,First Owner,17,1197,80,5\\nHyundai,2011,300000,45000,Petrol,Individual,Manual,First Owner,17,1197,80,5\\nFiat,2011,250000,30000,Diesel,Individual,Manual,First Owner,20.4,1248,91.2,5\\nMaruti,2006,114999,59000,Petrol,Individual,Manual,Second Owner,16.1,796,37,4\\nMaruti,2018,700000,6200,Petrol,Individual,Manual,First Owner,19.34,1462,103,7\\nMaruti,2020,250000,120000,Petrol,Individual,Manual,Second Owner,21.63,998,67,5\\nMaruti,2016,350000,70000,Petrol,Individual,Manual,First Owner,20.51,998,67.04,5\\nMaruti,1998,80000,70000,Petrol,Individual,Manual,First Owner,14,796,35,5\\nMahindra,2017,850000,110000,Diesel,Individual,Manual,First Owner,15.4,2523,75,7\\nHyundai,2004,70000,158000,Petrol,Individual,Manual,First Owner,,,,\\nChevrolet,2007,90000,93000,Petrol,Individual,Manual,Third Owner,18,995,62,5\\nChevrolet,2014,600000,110000,Diesel,Individual,Manual,First Owner,13.58,2499,72.4,10\\nMaruti,2007,135000,57000,Petrol,Individual,Manual,First Owner,19.7,796,46.3,5\\nHyundai,2005,150000,120000,Petrol,Individual,Manual,First Owner,13.2,1495,94,5\\nTata,2012,259000,35000,Diesel,Individual,Manual,First Owner,23.03,1396,69,5\\nTata,2012,220000,90000,Diesel,Individual,Manual,First Owner,23.03,1396,69,5\\nTata,2012,246000,35000,Diesel,Individual,Manual,Second Owner,23.03,1396,69,5\\nMaruti,2009,240000,120000,Petrol,Individual,Manual,First Owner,17.5,1298,85.8,5\\nHyundai,2018,946000,60000,Diesel,Individual,Manual,First Owner,22.1,1396,88.7,5\\nTata,2011,215000,70000,Diesel,Individual,Manual,First Owner,23.03,1396,69,5\\nMaruti,1999,50000,60000,Petrol,Individual,Manual,Fourth & Above Owner,17.3,993,60,5\\nHonda,2013,310000,100000,Diesel,Individual,Manual,First Owner,25.8,1498,98.6,5\\nHyundai,2008,220000,35000,Petrol,Individual,Manual,First Owner,20.36,1197,78.9,5\\nMaruti,2008,195000,90000,Diesel,Individual,Manual,Third Owner,17.8,1248,75,5\\nHyundai,2015,650000,50000,Petrol,Individual,Manual,First Owner,17.19,1197,81.86,5\\nHyundai,2011,350000,98000,Petrol,Individual,Manual,First Owner,18.5,1197,80,5\\nHyundai,2013,360000,30000,Petrol,Individual,Manual,First Owner,18.5,1197,82.85,5\\nHyundai,2013,550000,50000,Petrol,Individual,Manual,Second Owner,16.3,1797,147.5,5\\nHyundai,2016,490000,26000,Petrol,Individual,Manual,First Owner,18.9,1197,82,5\\nMaruti,2011,195000,46000,Petrol,Individual,Manual,Second Owner,19.7,796,46.3,5\\nMaruti,2010,125000,80000,Petrol,Individual,Manual,Fourth & Above Owner,19.7,796,46.3,5\\nTata,2019,459999,10000,Petrol,Individual,Manual,First Owner,23.84,1199,84,5\\nMaruti,2015,275000,16700,Petrol,Individual,Manual,First Owner,22.74,796,47.3,5\\nMaruti,2018,680000,70000,Diesel,Individual,Manual,First Owner,28.4,1248,74.02,5\\nMaruti,2015,600000,7967,Petrol,Individual,Manual,First Owner,20.85,1197,83.14,5\\nMaruti,2018,720000,20000,Petrol,Individual,Manual,First Owner,22,1197,81.8,5\\nMaruti,2011,295000,50000,Diesel,Individual,Manual,First Owner,,,,\\nRenault,2016,356000,9656,Petrol,Individual,Manual,First Owner,25.17,799,53.3,5\\nHyundai,2011,225000,50000,Petrol,Individual,Manual,First Owner,19.81,1086,68.05,5\\nFord,2019,725000,17000,Diesel,Individual,Manual,First Owner,24.4,1498,98.63,5\\nChevrolet,2010,130000,50000,Petrol,Individual,Manual,First Owner,18,995,62,5\\nRenault,2015,300000,10000,Petrol,Individual,Manual,First Owner,25.17,799,53.3,5\\nHyundai,2013,400000,43000,Petrol,Individual,Manual,Second Owner,18.5,1197,82.85,5\\nHyundai,2013,550000,50000,Diesel,Individual,Manual,First Owner,23.5,1396,88.7,5\\nMaruti,2006,120000,90000,Petrol,Individual,Manual,Second Owner,18.9,998,67,5\\nMahindra,2012,409999,100000,Diesel,Individual,Manual,Second Owner,14,2498,112,8\\nHyundai,2010,110000,80000,Petrol,Individual,Manual,Second Owner,0,1086,62.1,5\\nMahindra,2012,450000,120000,Diesel,Individual,Manual,First Owner,15.96,2523,62.1,7\\nMaruti,2019,610000,5000,Petrol,Individual,Manual,First Owner,21.21,1197,81.8,5\\nFord,2016,515000,68609,Diesel,Dealer,Manual,First Owner,22.7,1498,89.84,5\\nFord,2018,925000,33360,Diesel,Dealer,Manual,First Owner,22.77,1498,98.59,5\\nNissan,2019,860000,14317,Petrol,Dealer,Manual,First Owner,14.23,1498,104.55,5\\nFord,2012,225000,87237,Diesel,Dealer,Manual,Second Owner,20,1399,68.05,5\\nFord,2017,500000,62960,Diesel,Dealer,Manual,First Owner,25.83,1498,99,5\\nMaruti,2017,600000,26634,Petrol,Dealer,Automatic,First Owner,21.21,1197,81.8,5\\nFord,2012,195000,163720,Diesel,Dealer,Manual,First Owner,18.5,1399,68,5\\nMaruti,2012,265000,67998,Petrol,Dealer,Manual,First Owner,18.9,998,67.1,5\\nFord,2018,650000,20706,Diesel,Dealer,Manual,First Owner,23.8,1499,98.63,5\\nFord,2015,415000,100581,Diesel,Dealer,Manual,First Owner,25.83,1498,99,5\\nRenault,2015,600000,67303,Diesel,Dealer,Manual,First Owner,20.45,1461,83.8,5\\nMaruti,2013,340000,79139,Petrol,Dealer,Manual,First Owner,18.5,1197,85.8,5\\nHyundai,2014,350000,84784,Diesel,Dealer,Manual,First Owner,24,1120,70,5\\nMaruti,2012,265000,130376,Diesel,Dealer,Manual,Second Owner,23.2,1248,73.94,5\\nTata,2017,625000,72000,Diesel,Individual,Manual,First Owner,13.93,2179,138.03,7\\nHyundai,2008,245000,127000,Diesel,Individual,Manual,Second Owner,16.8,1493,110,5\\nMaruti,2014,395000,120000,Diesel,Individual,Manual,First Owner,25.2,1248,74,5\\nFiat,2010,190000,120000,Diesel,Individual,Manual,Second Owner,,,,\\nHyundai,2014,490000,100000,Diesel,Individual,Manual,First Owner,24.4,1120,71,5\\nToyota,2012,450000,148000,Diesel,Individual,Manual,Second Owner,,,,\\nMaruti,2018,955000,40000,Diesel,Individual,Manual,First Owner,24.52,1248,88.5,7\\nMaruti,2013,525000,110000,Diesel,Individual,Manual,First Owner,23.4,1248,74,5\\nTata,2017,550000,30000,Petrol,Individual,Manual,First Owner,20.3,1199,84,5\\nTata,2014,200000,120000,Diesel,Individual,Manual,Second Owner,19.1,1405,70,5\\nFord,2017,500000,15000,Petrol,Individual,Manual,First Owner,18.16,1196,86.8,5\\nMaruti,2016,825000,33500,Diesel,Individual,Manual,First Owner,23.65,1248,88.5,5\\nMahindra,2012,250000,70000,Diesel,Individual,Manual,First Owner,17.21,1493,100,7\\nToyota,2015,600000,10000,Petrol,Individual,Manual,First Owner,18.16,1197,78.8,5\\nMahindra,2018,1325000,22053,Diesel,Individual,Manual,First Owner,16.36,2179,120,7\\nMahindra,2016,770000,50000,Diesel,Individual,Manual,First Owner,18.49,1493,100,7\\nChevrolet,2011,415000,78432,Diesel,Individual,Manual,First Owner,16.52,1991,123.7,5\\nHyundai,2011,825000,125000,Diesel,Individual,Manual,Second Owner,14.66,2199,194.3,7\\nFord,2018,530000,80000,Diesel,Individual,Manual,First Owner,26.1,1498,99.23,5\\nToyota,2006,425000,270000,Diesel,Individual,Manual,Third Owner,12.8,2494,102,8\\nHonda,2012,310000,50000,Petrol,Individual,Manual,Second Owner,19.4,1198,86.8,5\\nTata,2017,390000,20000,Petrol,Individual,Manual,First Owner,23.84,1199,84,5\\nHyundai,2016,700000,30000,Petrol,Individual,Manual,First Owner,15.29,1591,121.3,5\\nHyundai,2010,200000,70000,Petrol,Individual,Manual,Second Owner,19.81,1086,68.05,5\\nToyota,2013,1050000,7200,Diesel,Individual,Manual,First Owner,12.99,2494,100.6,8\\nHonda,2014,580000,97000,Diesel,Individual,Manual,First Owner,26,1498,98.6,5\\nHyundai,2014,200000,60000,Petrol,Individual,Manual,Second Owner,21.1,814,55.2,5\\nChevrolet,2013,245000,25000,Petrol,Individual,Manual,First Owner,18.2,1199,84.8,5\\nHyundai,2010,210000,94000,Petrol,Individual,Manual,Second Owner,20.36,1197,78.9,5\\nMaruti,2005,50000,90000,Petrol,Individual,Manual,Second Owner,15.4,1590,94,5\\nChevrolet,2012,700000,50000,Diesel,Individual,Automatic,Second Owner,12.12,2231,184,7\\nTata,2019,660000,35000,Diesel,Individual,Manual,First Owner,22.95,1248,74,5\\nHonda,2015,630000,117500,Petrol,Individual,Manual,Second Owner,17.4,1497,117.3,5\\nMahindra,2012,950000,78500,Diesel,Individual,Manual,First Owner,15.1,2179,140,7\\nHyundai,2018,740000,8000,Petrol,Individual,Manual,First Owner,18.6,1197,81.83,5\\nFord,2017,570000,25000,Petrol,Individual,Manual,First Owner,18.12,1196,86.8,5\\nHyundai,2012,450000,60000,Diesel,Individual,Manual,Third Owner,22.32,1582,126.32,5\\nDatsun,2019,390000,10000,Petrol,Individual,Manual,First Owner,22.5,999,67,5\\nFord,2009,180000,70000,Petrol,Individual,Manual,Second Owner,14.2,1597,92,5\\nTata,2015,130000,60000,Petrol,Individual,Manual,First Owner,25.4,624,37.48,4\\nHonda,2006,270000,70000,Petrol,Individual,Manual,Second Owner,17.7,1497,78,5\\nMaruti,1997,60000,25000,Petrol,Individual,Manual,Third Owner,16.1,796,37,4\\nHyundai,2006,170000,90000,Petrol,Individual,Manual,Third Owner,13.9,1599,103.2,5\\nHyundai,2015,978999,90000,Diesel,Individual,Manual,First Owner,19.67,1582,126.2,5\\nTata,2018,490000,25000,Petrol,Individual,Manual,First Owner,23.84,1199,84,5\\nFord,2012,280000,60000,Diesel,Individual,Manual,Second Owner,23.5,1498,88.7,5\\nTata,2018,390000,25000,Petrol,Individual,Manual,First Owner,23.84,1199,84,5\\nMaruti,2013,170000,60000,Petrol,Individual,Manual,Fourth & Above Owner,22.74,796,47.3,5\\nChevrolet,2008,45000,70000,Petrol,Individual,Manual,First Owner,18,995,62,5\\nMaruti,2016,640000,80000,Diesel,Individual,Manual,Second Owner,24.52,1248,88.5,7\\nMahindra,2015,650000,110000,Diesel,Individual,Manual,Second Owner,15.4,2523,75,9\\nMahindra,2013,500000,115717,Diesel,Individual,Manual,First Owner,12.05,2179,120,9\\nFord,2008,90000,110000,Diesel,Individual,Manual,Second Owner,17.7,1399,68,5\\nTata,2014,480000,70000,Diesel,Individual,Manual,Second Owner,15.05,2179,147.9,7\\nMaruti,2019,630000,4000,Petrol,Individual,Manual,First Owner,21.21,1197,81.8,5\\nHyundai,2011,250000,50000,Petrol,Individual,Manual,First Owner,20.36,1197,78.9,5\\nHyundai,2016,330000,70000,Petrol,Individual,Manual,Fourth & Above Owner,18.9,1197,82,5\\nHyundai,2009,180000,70000,Petrol,Individual,Manual,Second Owner,20.36,1197,78.9,5\\nHyundai,2010,210000,50000,Petrol,Individual,Manual,Second Owner,18.5,1197,80,5\\nMaruti,2016,550000,55000,Diesel,Individual,Manual,First Owner,26.59,1248,74,5\\nTata,2020,950000,5000,Petrol,Individual,Automatic,First Owner,17,1198,108.5,5\\nMahindra,2013,430000,100000,Diesel,Individual,Manual,Second Owner,15.96,2523,62.1,7\\nHyundai,2014,348000,23000,Petrol,Individual,Manual,Second Owner,20.36,1197,78.9,5\\nMaruti,2014,196000,60000,Petrol,Individual,Manual,Second Owner,22.74,796,47.3,5\\nMaruti,2010,150000,70000,Petrol,Individual,Manual,Second Owner,18.9,1061,67,5\\nHyundai,2005,90000,82000,Petrol,Individual,Manual,Fourth & Above Owner,,,,\\nMaruti,2009,150000,60000,Petrol,Individual,Manual,Second Owner,18.9,1061,67,5\\nTata,2019,1250000,100000,Diesel,Individual,Manual,First Owner,14.1,2179,153.86,7\\nMaruti,2015,600000,90000,Diesel,Individual,Manual,Third Owner,20.77,1248,88.76,7\\nTata,2010,65000,26432,Petrol,Dealer,Manual,First Owner,25.4,624,37.48,4\\nMaruti,2016,220000,46702,Petrol,Dealer,Manual,First Owner,16.8,796,34.2,8\\nMaruti,2016,220000,46706,Petrol,Dealer,Manual,First Owner,16.8,796,34.2,8\\nTata,2006,110000,53523,Petrol,Dealer,Manual,First Owner,16.84,1193,64.4,5\\nChevrolet,2012,175000,56365,Diesel,Dealer,Manual,First Owner,25.44,936,56.3,5\\nChevrolet,2011,160000,49563,Petrol,Dealer,Manual,First Owner,16.2,995,62.1,5\\nMaruti,2004,65000,56432,Petrol,Dealer,Manual,First Owner,16.1,796,37,4\\nMaruti,2002,60000,52365,Petrol,Dealer,Manual,Second Owner,16.1,796,37,4\\nMaruti,2007,120000,53512,Petrol,Dealer,Manual,Second Owner,19.7,796,46.3,5\\nHyundai,2005,110000,53563,Petrol,Dealer,Manual,Second Owner,,,,\\nMahindra,2013,1000000,40000,Diesel,Individual,Automatic,First Owner,11.18,2696,184,7\\nMaruti,2010,220000,46533,Petrol,Dealer,Manual,First Owner,18.9,998,67.1,5\\nMaruti,2005,105000,59635,Petrol,Dealer,Manual,Second Owner,,,,\\nMaruti,2008,114999,58632,Petrol,Dealer,Manual,Second Owner,14,796,35,5\\nMaruti,2008,110000,58632,LPG,Dealer,Manual,Second Owner,,,,\\nMahindra,2016,850000,80000,Diesel,Individual,Automatic,Second Owner,16,2179,140,7\\nMaruti,2016,750000,70000,Diesel,Individual,Manual,First Owner,24.52,1248,88.5,7\\nRenault,2017,265000,90000,Petrol,Individual,Manual,First Owner,23.01,999,67,5\\nFord,2014,450000,110000,Petrol,Individual,Manual,Second Owner,14.09,1596,99.6,5\\nMahindra,2013,225000,90000,Diesel,Individual,Manual,First Owner,17.21,1493,100,7\\nMahindra,2015,1125000,70000,Diesel,Individual,Manual,First Owner,15.4,2179,120,7\\nMaruti,2009,270000,80000,Petrol,Individual,Manual,First Owner,16.6,1197,85,5\\nMaruti,2007,130000,78000,Petrol,Individual,Manual,First Owner,19.7,796,46.3,5\\nMahindra,2017,660000,45000,Diesel,Individual,Manual,First Owner,16.5,1493,70,7\\nMaruti,2015,240000,50000,Petrol,Individual,Manual,Second Owner,23.95,998,67.05,5\\nMaruti,2017,275000,58000,Petrol,Individual,Manual,First Owner,24.7,796,47.3,5\\nToyota,2012,750000,120000,Diesel,Individual,Manual,First Owner,12.8,2494,102,8\\nChevrolet,2007,65000,30000,Petrol,Individual,Manual,Second Owner,14.7,1150,76,5\\nTata,2017,850000,162000,Diesel,Individual,Manual,First Owner,14.1,2179,147.94,7\\nMaruti,2016,300000,50000,CNG,Individual,Manual,Second Owner,26.6,998,58.16,5\\nHyundai,2018,555000,25000,Petrol,Individual,Manual,Second Owner,18.6,1197,81.83,5\\nMahindra,2015,825000,60000,Diesel,Individual,Manual,First Owner,15.4,1997,120,7\\nHyundai,2010,150000,70000,LPG,Individual,Manual,Third Owner,13.45,1086,62.1,5\\nMaruti,2009,185000,138000,Diesel,Individual,Manual,Second Owner,19.3,1248,73.9,5\\nHyundai,2010,180000,70000,Petrol,Individual,Manual,Second Owner,20.36,1197,78.9,5\\nMaruti,2010,160000,48000,Petrol,Individual,Manual,Second Owner,19.7,796,46.3,5\\nFord,2012,500000,110000,Diesel,Individual,Automatic,First Owner,11.4,2953,153.86,7\\nMaruti,2014,375000,88000,Diesel,Individual,Manual,Second Owner,25.2,1248,74,5\\nToyota,2015,900000,68000,Diesel,Individual,Manual,First Owner,12.99,2494,100.6,7\\nHyundai,2017,459999,70000,Petrol,Individual,Manual,First Owner,18.9,1197,82,5\\nRenault,2014,480000,80000,Diesel,Individual,Manual,First Owner,20.45,1461,83.8,5\\nMaruti,2013,320000,100000,Diesel,Individual,Manual,Third Owner,22.9,1248,74,5\\nMaruti,2013,370000,96000,Diesel,Individual,Manual,Second Owner,22.9,1248,74,5\\nHyundai,2005,80000,123219,Petrol,Individual,Manual,Third Owner,,,,\\nMaruti,2002,75000,30000,Petrol,Individual,Manual,Third Owner,17.3,993,60,5\\nMaruti,2016,400000,60000,Diesel,Individual,Manual,Third Owner,23.2,1248,73.94,5\\nHonda,2005,250000,90000,Petrol,Individual,Automatic,Second Owner,,,,\\nMaruti,2014,425000,65000,Diesel,Individual,Manual,First Owner,25.2,1248,74,5\\nMaruti,2014,325000,48000,Petrol,Individual,Manual,First Owner,23.1,998,67.04,5\\nHyundai,2016,350000,65300,Petrol,Individual,Manual,Second Owner,18.9,1197,82,5\\nHyundai,2018,600000,40000,Petrol,Individual,Manual,First Owner,18.6,1197,81.83,5\\nChevrolet,2012,120000,60000,Diesel,Individual,Manual,Second Owner,25.44,936,57.6,5\\nMaruti,2012,200000,70000,Petrol,Individual,Manual,Second Owner,20.92,998,67.1,5\\nMaruti,2008,100000,70000,Petrol,Individual,Manual,Third Owner,19.7,796,46.3,5\\nHyundai,2014,350000,70000,Diesel,Individual,Manual,Second Owner,24,1120,70,5\\nMaruti,2006,85000,150000,Petrol,Individual,Manual,Second Owner,19.7,796,46.3,5\\nMaruti,2019,399000,10000,Petrol,Individual,Manual,First Owner,23.95,998,67.05,5\\nHyundai,2014,580000,56000,Diesel,Individual,Manual,First Owner,22.32,1582,126.3,5\\nDatsun,2017,290000,30000,Petrol,Individual,Manual,First Owner,22.7,799,53.64,5\\nHyundai,2014,380000,50000,Petrol,Individual,Manual,Second Owner,18.9,1197,82,5\\nFord,2010,200000,120000,Diesel,Individual,Manual,First Owner,20,1399,68,5\\nMaruti,2018,390000,40000,CNG,Individual,Manual,First Owner,26.6,998,58.16,5\\nHyundai,2017,500000,27500,Petrol,Individual,Manual,First Owner,18.9,1197,81.86,5\\nMaruti,2012,520000,73000,Diesel,Individual,Manual,First Owner,20.77,1248,88.76,7\\nMaruti,2017,650000,75000,Diesel,Individual,Manual,First Owner,26.59,1248,74,5\\nRenault,2018,380000,5000,Petrol,Individual,Manual,First Owner,23.01,999,67,5\\nMaruti,2010,275000,50000,LPG,Individual,Manual,First Owner,26.2,998,58.2,5\\nMaruti,2015,520000,70000,Diesel,Individual,Manual,First Owner,26.59,1248,74,5\\nMaruti,2015,610000,60000,Diesel,Individual,Manual,First Owner,26.59,1248,74,5\\nMaruti,2004,85000,110000,Petrol,Individual,Manual,First Owner,18.9,998,67.1,5\\nRenault,2013,490000,95000,Diesel,Individual,Manual,First Owner,20.46,1461,83.8,5\\nHyundai,2015,229999,34000,Petrol,Individual,Manual,Second Owner,21.1,814,55.2,5\\nHyundai,2015,411000,25000,Petrol,Individual,Manual,First Owner,18.9,1197,82,5\\nMaruti,2019,362000,120000,CNG,Individual,Manual,Second Owner,21.94,1196,61.7,5\\nToyota,2014,550000,31000,Diesel,Individual,Manual,First Owner,23.59,1364,67.06,5\\nMaruti,2018,459999,70000,CNG,Individual,Manual,First Owner,26.6,998,58.16,5\\nMaruti,2011,190000,47000,Petrol,Individual,Manual,First Owner,18.5,1197,85.8,5\\nHyundai,2019,499000,5000,Petrol,Individual,Automatic,First Owner,20.3,1086,68,5\\nMaruti,2018,358000,44000,Petrol,Individual,Manual,First Owner,15.37,1196,73,7\\nToyota,2012,278000,120000,Diesel,Individual,Manual,Second Owner,23.59,1364,67.1,5\\nFiat,2014,320000,39395,Diesel,Individual,Manual,First Owner,21.2,1248,75,5\\nRenault,2013,580000,67000,Diesel,Individual,Manual,Second Owner,20.4,1461,108.5,5\\nHonda,2019,1300000,20000,Petrol,Individual,Automatic,First Owner,17.4,1497,117.6,5\\nHonda,2018,825000,40000,Diesel,Individual,Manual,First Owner,25.8,1498,98.6,5\\nToyota,2004,170000,120000,Petrol,Individual,Manual,Second Owner,13.4,1794,125,5\\nToyota,2014,1700000,80000,Diesel,Individual,Manual,Second Owner,12.55,2982,168.5,7\\nHyundai,2018,490000,7000,Petrol,Individual,Manual,First Owner,20.3,1086,68,5\\nMahindra,2018,1050000,15000,Diesel,Individual,Manual,First Owner,16,2179,140,7\\nChevrolet,2016,210000,50000,Petrol,Individual,Manual,First Owner,18.6,1199,76.8,5\\nMahindra,2016,1250000,30000,Diesel,Individual,Manual,First Owner,15.4,2179,120,7\\nMaruti,2012,320000,120000,Diesel,Individual,Manual,Second Owner,22.9,1248,74,5\\nChevrolet,2012,400000,64000,Diesel,Individual,Manual,First Owner,16.52,1991,123.7,5\\nMaruti,2013,320000,120000,Diesel,Individual,Manual,First Owner,23.2,1248,73.94,5\\nToyota,2012,600000,85000,Diesel,Individual,Manual,First Owner,21.43,1364,87.2,5\\nMaruti,2012,275000,50000,Petrol,Individual,Manual,First Owner,20.92,998,67.1,5\\nMaruti,2009,170000,59000,Petrol,Individual,Manual,Second Owner,19.7,796,46.3,5\\nChevrolet,2012,155000,98000,Diesel,Individual,Manual,First Owner,25.44,936,57.6,5\\nTata,2012,240000,70000,Diesel,Individual,Manual,First Owner,,,0,\\nTata,2012,240000,70000,Diesel,Individual,Manual,First Owner,,,0,\\nMaruti,2011,320000,120000,Diesel,Individual,Manual,Second Owner,,,,\\nRenault,2015,620000,140000,Diesel,Individual,Manual,Second Owner,20.45,1461,83.8,5\\nHyundai,2017,530000,50000,Petrol,Individual,Manual,First Owner,18.9,1197,81.86,5\\nToyota,2015,550000,40000,Diesel,Individual,Manual,First Owner,23.59,1364,67.04,5\\nHonda,2014,600000,90000,Diesel,Individual,Manual,First Owner,26,1498,98.6,5\\nMahindra,2014,649000,117000,Diesel,Individual,Manual,Third Owner,15.1,2179,140,7\\nHonda,2014,625000,90000,Diesel,Individual,Manual,First Owner,26,1498,98.6,5\\nChevrolet,2010,125000,70000,Petrol,Individual,Manual,First Owner,16,995,63,5\\nChevrolet,2009,305000,230000,Diesel,Individual,Manual,Second Owner,13.58,2499,72.4,9\\nMaruti,2010,285000,155000,Petrol,Individual,Manual,Second Owner,15.5,1586,103.3,5\\nTata,2015,600000,60000,Diesel,Individual,Manual,Second Owner,13.49,2179,138.03,5\\nMahindra,2016,426000,110000,Petrol,Individual,Manual,First Owner,18.15,1198,82,6\\nTata,2010,180000,120000,Diesel,Individual,Manual,First Owner,17,1405,71,5\\nHyundai,2011,400000,100000,Diesel,Individual,Manual,Second Owner,22.32,1582,126.32,5\\nChevrolet,2010,120000,40000,Petrol,Individual,Manual,Second Owner,18.6,1199,79.4,5\\nTata,2012,300000,110000,Diesel,Individual,Manual,Second Owner,21.12,1248,88.8,5\\nMaruti,2011,190000,92500,Petrol,Individual,Manual,Second Owner,20.92,998,67.1,5\\nMaruti,2017,310000,20000,Petrol,Individual,Manual,First Owner,24.7,796,47.3,5\\nRenault,2019,380000,15000,Petrol,Individual,Manual,First Owner,25.17,799,53.3,5\\nMahindra,2019,740000,14000,Diesel,Individual,Manual,First Owner,16.5,1493,70,7\\nDatsun,2016,260000,35000,Petrol,Individual,Manual,First Owner,22.7,799,53.64,5\\nMaruti,2017,320000,32000,Petrol,Individual,Manual,Second Owner,23.95,998,67.05,5\\nMaruti,2013,211000,90000,CNG,Individual,Manual,First Owner,26.6,998,58.16,5\\nMaruti,2018,650000,35000,Petrol,Individual,Manual,First Owner,22,1197,81.8,5\\nMaruti,2017,651000,32500,Diesel,Individual,Manual,Second Owner,28.4,1248,74.02,5\\nMaruti,2019,380000,14000,Petrol,Individual,Automatic,First Owner,23.95,998,67.05,5\\nChevrolet,2014,160000,70000,Diesel,Individual,Manual,Third Owner,25.44,936,56.3,5\\nHyundai,2019,1270000,20000,Petrol,Individual,Automatic,First Owner,17,1591,121.3,5\\nMaruti,2011,300000,300000,LPG,Individual,Manual,First Owner,26.2,998,58.2,5\\nMaruti,2015,405000,100000,Diesel,Individual,Manual,First Owner,25.2,1248,74,5\\nMahindra,2015,850000,64800,Diesel,Individual,Manual,First Owner,15.1,2179,140,7\\nMahindra,2017,680000,90000,Diesel,Individual,Manual,First Owner,16.5,1493,70,7\\nHyundai,2014,426999,80000,Petrol,Individual,Manual,First Owner,19.1,1197,82,5\\nHyundai,2015,525000,248000,Diesel,Individual,Manual,First Owner,24.8,1396,88.7,5\\nToyota,2014,1019999,60000,Diesel,Individual,Manual,Second Owner,12.99,2494,100.6,7\\nToyota,2005,245000,120000,Diesel,Individual,Manual,First Owner,12.8,2494,102,8\\nHyundai,2015,869999,120000,Diesel,Individual,Manual,First Owner,22.7,1582,126.2,5\\nMaruti,2010,160000,66444,LPG,Individual,Manual,First Owner,26.2,998,58.2,5\\nMaruti,2016,700000,86000,Diesel,Individual,Manual,First Owner,24.3,1248,88.5,5\\nNissan,2012,300000,90000,Diesel,Individual,Manual,First Owner,21.64,1461,84.8,5\\nHonda,2007,175000,218463,Petrol,Individual,Automatic,First Owner,12.9,1799,130,5\\nToyota,2012,960000,153000,Diesel,Individual,Manual,First Owner,12.8,2494,102,8\\nMahindra,2014,525000,70000,Diesel,Individual,Manual,Second Owner,16.55,2498,105,6\\nHyundai,2015,345000,60000,Diesel,Individual,Manual,First Owner,24,1120,70,5\\nHonda,2015,390000,50000,Petrol,Individual,Manual,First Owner,18,1198,86.7,5\\nDatsun,2015,275000,20000,Petrol,Individual,Manual,First Owner,20.63,1198,67,5\\nChevrolet,2014,310000,35000,Petrol,Individual,Manual,First Owner,18.2,1199,82.4,5\\nHyundai,2017,500000,20000,Petrol,Individual,Manual,First Owner,18.9,1197,81.86,5\\nChevrolet,2013,200000,70000,Diesel,Individual,Manual,First Owner,22.1,1248,76.9,5\\nVolkswagen,2018,650000,53000,Diesel,Individual,Manual,First Owner,20.14,1498,88,5\\nHonda,2018,1031000,60000,Diesel,Individual,Manual,First Owner,25.6,1498,97.9,5\\nHyundai,2018,330000,70000,Petrol,Individual,Manual,First Owner,20.3,998,68.05,5\\nHyundai,2019,399000,4000,Petrol,Individual,Manual,First Owner,20.3,1086,68,5\\nHyundai,2012,250000,103000,Petrol,Individual,Manual,First Owner,20.36,1197,78.9,5\\nHyundai,2017,600000,20000,Diesel,Individual,Manual,First Owner,24,1186,73.97,5\\nMaruti,2013,375000,77000,Diesel,Individual,Manual,First Owner,22.9,1248,74,5\\nVolkswagen,2012,375000,90000,Diesel,Individual,Manual,First Owner,20.54,1598,103.6,5\\nHyundai,2013,445000,87185,Diesel,Individual,Manual,Second Owner,22.32,1582,126.3,5\\nMaruti,2003,55000,167000,Petrol,Individual,Manual,Second Owner,18.9,998,67.1,5\\nHyundai,2016,611000,77000,Diesel,Individual,Manual,First Owner,22.54,1396,88.73,5\\nHyundai,2014,459999,110000,Diesel,Individual,Manual,Second Owner,24.8,1396,88.7,5\\nFord,2011,275000,120000,Diesel,Individual,Manual,Second Owner,17.8,1399,68,5\\nHyundai,2011,185000,170000,CNG,Individual,Manual,First Owner,11.88,1086,62.1,5\\nHyundai,2012,390000,100000,Diesel,Individual,Manual,Second Owner,22.32,1582,126.32,5\\nChevrolet,2007,72000,40000,Petrol,Individual,Manual,Second Owner,18,995,62,5\\nTata,2007,90000,50000,Diesel,Individual,Manual,First Owner,17.88,1396,52.8,5\\nToyota,2015,500000,125000,Diesel,Individual,Manual,First Owner,23.59,1364,67.05,5\\nMaruti,2011,200000,137000,CNG,Individual,Manual,First Owner,26.2,998,58.2,5\\nMahindra,2019,1575000,18000,Diesel,Individual,Manual,First Owner,15.1,2179,152.87,7\\nHyundai,2015,511000,30000,Petrol,Individual,Manual,First Owner,18.9,1197,82,5\\nFiat,2009,150000,55000,Petrol,Individual,Manual,First Owner,14.6,1368,88.7,5\\nToyota,2020,1500000,40000,Petrol,Individual,Automatic,First Owner,10.75,2694,163.7,8\\nMaruti,2013,185000,80000,Petrol,Individual,Manual,Second Owner,22.74,796,47.3,5\\nMaruti,2018,550000,30000,Petrol,Individual,Manual,First Owner,21.4,1197,83.1,5\\nMaruti,2017,325000,3564,Petrol,Individual,Manual,First Owner,23.95,998,67.05,5\\nMaruti,2015,525000,80000,Diesel,Individual,Manual,First Owner,26.59,1248,74,5\\nForce,2018,1050000,13000,Diesel,Individual,Manual,First Owner,17,2200,139.01,7\\nTata,2012,300000,120000,Diesel,Individual,Manual,First Owner,25,1396,69,5\\nChevrolet,2011,120000,90000,Petrol,Individual,Manual,First Owner,18.6,1199,79.4,5\\nJaguar,2017,2625000,9000,Diesel,Dealer,Automatic,First Owner,13.6,1999,177,5\\nLexus,2019,5150000,20000,Petrol,Dealer,Automatic,First Owner,22.37,2487,214.56,5\\nJaguar,2017,3200000,45000,Diesel,Dealer,Automatic,First Owner,19.33,1999,177,5\\nTata,2015,503000,110000,Diesel,Individual,Manual,First Owner,14.1,2179,147.94,7\\nVolvo,2019,3800000,20000,Diesel,Individual,Automatic,First Owner,18,1969,190,5\\nToyota,2016,2000000,68089,Petrol,Trustmark Dealer,Automatic,First Owner,19.16,2494,157.7,5\\nMaruti,2013,225000,58343,Petrol,Trustmark Dealer,Manual,First Owner,21.79,998,67.05,5\\nMaruti,2018,740000,38817,Diesel,Dealer,Manual,First Owner,27.39,1248,74,5\\nHonda,2016,550000,56494,Petrol,Trustmark Dealer,Manual,First Owner,18.2,1199,88.7,5\\nToyota,2013,750000,79328,Diesel,Trustmark Dealer,Manual,Second Owner,12.99,2494,100.6,7\\nMaruti,2019,650000,5621,Petrol,Trustmark Dealer,Automatic,First Owner,22,1197,81.8,5\\nToyota,2017,625000,25538,Petrol,Trustmark Dealer,Manual,First Owner,16.78,1496,88.73,5\\nMaruti,2018,600000,69779,Petrol,Dealer,Automatic,First Owner,22,1197,81.8,5\\nHyundai,2017,450000,56290,Diesel,Dealer,Manual,First Owner,24,1186,73.97,5\\nBMW,2019,5400000,7500,Diesel,Dealer,Automatic,First Owner,16.78,1995,190,5\\nBMW,2019,5500000,8500,Diesel,Dealer,Automatic,First Owner,16.78,1995,190,5\\nHonda,2019,779000,7032,Petrol,Trustmark Dealer,Automatic,First Owner,19,1199,88.76,5\\nSkoda,2016,645000,11000,Petrol,Dealer,Automatic,First Owner,14.3,1598,103.5,5\\nVolvo,2018,2475000,2000,Diesel,Dealer,Automatic,First Owner,16.8,1984,150,5\\nHyundai,2011,170000,50000,Petrol,Individual,Manual,Third Owner,17.92,1086,62.1,5\\nTata,2010,320000,42000,Diesel,Individual,Manual,First Owner,23.03,1396,69,5\\nMaruti,2016,350000,17000,Petrol,Individual,Automatic,First Owner,23.1,998,67.04,5\\nMaruti,2018,500000,40000,Petrol,Individual,Automatic,First Owner,22,1197,81.8,5\\nTata,2009,135000,137000,Diesel,Individual,Manual,Second Owner,17,1405,70,5\\nRenault,2018,340000,20000,Petrol,Individual,Manual,First Owner,25.17,799,53.3,5\\nHyundai,2020,330000,70000,Petrol,Individual,Manual,Second Owner,18.9,1197,81.86,5\\nMaruti,2011,350000,48756,Petrol,Individual,Manual,Second Owner,15.5,1586,103.3,5\\nToyota,2015,1850000,30000,Diesel,Individual,Automatic,Second Owner,12.55,2982,168.5,7\\nHyundai,2016,400000,110000,Diesel,Individual,Manual,First Owner,24.4,1120,71,5\\nFord,2014,325000,80322,Diesel,Dealer,Manual,First Owner,17.8,1399,67,5\\nMahindra,2015,1000000,35000,Diesel,Individual,Manual,First Owner,15.4,1997,120,7\\nMahindra,2017,850000,110000,Diesel,Individual,Manual,First Owner,15.4,2523,75,7\\nMaruti,2012,350000,70000,Diesel,Individual,Manual,Second Owner,21.5,1248,88.8,5\\nJaguar,2017,2625000,9000,Diesel,Dealer,Automatic,First Owner,13.6,1999,177,5\\nLexus,2019,5150000,20000,Petrol,Dealer,Automatic,First Owner,22.37,2487,214.56,5\\nJaguar,2017,3200000,45000,Diesel,Dealer,Automatic,First Owner,19.33,1999,177,5\\nTata,2015,503000,110000,Diesel,Individual,Manual,First Owner,14.1,2179,147.94,7\\nVolvo,2019,3800000,20000,Diesel,Individual,Automatic,First Owner,18,1969,190,5\\nToyota,2016,2000000,68089,Petrol,Trustmark Dealer,Automatic,First Owner,19.16,2494,157.7,5\\nMaruti,2013,225000,58343,Petrol,Trustmark Dealer,Manual,First Owner,21.79,998,67.05,5\\nMaruti,2018,740000,38817,Diesel,Dealer,Manual,First Owner,27.39,1248,74,5\\nHonda,2016,550000,56494,Petrol,Trustmark Dealer,Manual,First Owner,18.2,1199,88.7,5\\nToyota,2013,750000,79328,Diesel,Trustmark Dealer,Manual,Second Owner,12.99,2494,100.6,7\\nMaruti,2019,650000,5621,Petrol,Trustmark Dealer,Automatic,First Owner,22,1197,81.8,5\\nToyota,2017,625000,25538,Petrol,Trustmark Dealer,Manual,First Owner,16.78,1496,88.73,5\\nMaruti,2018,600000,69779,Petrol,Dealer,Automatic,First Owner,22,1197,81.8,5\\nHyundai,2017,450000,56290,Diesel,Dealer,Manual,First Owner,24,1186,73.97,5\\nBMW,2019,5400000,7500,Diesel,Dealer,Automatic,First Owner,16.78,1995,190,5\\nBMW,2019,5500000,8500,Diesel,Dealer,Automatic,First Owner,16.78,1995,190,5\\nHonda,2019,779000,7032,Petrol,Trustmark Dealer,Automatic,First Owner,19,1199,88.76,5\\nSkoda,2016,645000,11000,Petrol,Dealer,Automatic,First Owner,14.3,1598,103.5,5\\nVolvo,2018,2475000,2000,Diesel,Dealer,Automatic,First Owner,16.8,1984,150,5\\nToyota,2012,500000,90000,Diesel,Individual,Manual,First Owner,,,,\\nHonda,2015,550000,120000,Diesel,Individual,Manual,Second Owner,24.5,1498,98.6,7\\nTata,2015,925000,60000,Diesel,Individual,Manual,First Owner,14,2179,138.1,7\\nMahindra,2010,509999,97000,Diesel,Individual,Automatic,Second Owner,11.79,2179,120,8\\nMahindra,2011,250000,100000,Diesel,Individual,Manual,Second Owner,13,2489,95,8\\nHyundai,2015,500000,36000,Petrol,Individual,Manual,First Owner,17.19,1197,81.86,5\\nHyundai,2019,1050000,27000,Diesel,Individual,Manual,First Owner,21.38,1396,88.7,5\\nMaruti,2014,490000,50000,Diesel,Individual,Manual,First Owner,23.4,1248,74,5\\nMaruti,2020,415000,15000,Petrol,Individual,Manual,First Owner,15.37,1196,73,5\\nMaruti,2013,190000,60000,Petrol,Individual,Manual,Second Owner,22.74,796,47.3,5\\nMaruti,2018,680000,120000,Diesel,Individual,Manual,First Owner,28.4,1248,74.02,5\\nMaruti,2013,190000,60000,Petrol,Individual,Manual,Second Owner,22.74,796,47.3,5\\nMahindra,2013,479000,173000,Diesel,Individual,Manual,First Owner,12.05,2179,120,7\\nMaruti,2016,270000,60000,Petrol,Individual,Manual,Second Owner,22.74,796,47.3,5\\nHyundai,2008,170000,70000,Petrol,Individual,Manual,Third Owner,19.81,1086,68.05,5\\nMaruti,2018,764000,25000,Petrol,Individual,Manual,First Owner,20.73,1373,91.1,5\\nMahindra,2019,710000,30000,Diesel,Individual,Manual,First Owner,15.96,2523,62.1,7\\nMaruti,2017,310000,35000,Petrol,Individual,Manual,First Owner,24.7,796,47.3,5\\nMahindra,2017,620000,100000,Diesel,Individual,Manual,Second Owner,16.5,1493,70,7\\nHyundai,2017,280000,31000,Petrol,Individual,Manual,Second Owner,21.1,814,55.2,5\\nToyota,2015,1500000,80000,Diesel,Individual,Automatic,Second Owner,12.55,2982,168.5,7\\nHyundai,2016,450000,40000,Petrol,Individual,Manual,First Owner,18.9,1197,82,5\\nMercedes-Benz,2017,2199000,10000,Diesel,Individual,Automatic,Second Owner,17.9,2143,136,5\\nMercedes-Benz,2013,3600000,50000,Diesel,Individual,Automatic,First Owner,11.74,2987,254.8,5\\nFord,2008,285000,60000,Petrol,Individual,Manual,Second Owner,15.3,1596,99.6,5\\nToyota,2007,465000,210000,Diesel,Individual,Manual,Second Owner,12.8,2494,102,8\\nBMW,2009,1100000,60000,Diesel,Individual,Automatic,Second Owner,16.07,1995,181,5\\nVolkswagen,2011,350000,110000,Diesel,Individual,Manual,Second Owner,20.54,1598,103.6,5\\nMaruti,2017,600000,35000,Petrol,Individual,Manual,First Owner,17.5,1373,91.1,7\\nMaruti,2017,570000,35000,Petrol,Individual,Manual,First Owner,21.4,1197,83.1,5\\nMaruti,2016,325000,20000,Petrol,Individual,Manual,First Owner,23.95,998,67.05,5\\nMahindra,2016,975000,54000,Diesel,Individual,Automatic,First Owner,16,1997,140,7\\nHyundai,2015,480000,60000,Petrol,Individual,Manual,First Owner,18.6,1197,81.83,5\\nMaruti,2014,185000,10300,Petrol,Individual,Manual,First Owner,22.74,796,47.3,5\\nHyundai,2015,1050000,50000,Diesel,Individual,Automatic,First Owner,17.01,1582,126.2,5\\nMaruti,2019,760000,3000,Petrol,Individual,Manual,First Owner,21.01,1197,81.8,5\\nVolkswagen,2019,570000,5000,Petrol,Individual,Manual,First Owner,18.78,999,75,5\\nFord,2006,130000,145000,Petrol,Individual,Manual,First Owner,,,,\\nMaruti,2018,700000,13000,Petrol,Individual,Manual,First Owner,21.4,1197,83.1,5\\nFord,2015,775000,30000,Petrol,Individual,Automatic,First Owner,15.63,1499,110.4,5\\nBMW,2007,750000,60000,Diesel,Individual,Automatic,Second Owner,14.49,2993,258,5\\nChevrolet,2010,140000,100000,Petrol,Individual,Manual,Second Owner,18,995,62,5\\nMaruti,2016,220000,40000,Petrol,Individual,Manual,First Owner,22.74,796,47.3,5\\nHyundai,2013,184000,15000,Petrol,Individual,Manual,First Owner,0,1086,62.1,5\\nToyota,2002,210000,275000,Diesel,Individual,Manual,Fourth & Above Owner,,,,\\nHyundai,2017,440000,50000,Petrol,Individual,Manual,Second Owner,18.6,1197,81.83,5\\nHyundai,2017,650000,80000,Diesel,Individual,Manual,First Owner,21.19,1396,88.73,5\\nMahindra,2017,660000,50000,Diesel,Individual,Automatic,First Owner,18.49,1493,100,7\\nMaruti,2017,380000,30000,CNG,Individual,Manual,First Owner,21.94,1196,61.7,5\\nToyota,2012,415000,125000,Diesel,Individual,Manual,Second Owner,21.43,1364,87.2,5\\nHyundai,2012,225000,110000,Petrol,Individual,Manual,First Owner,19.81,1086,68.05,5\\nMaruti,2013,600000,30000,Diesel,Individual,Manual,Second Owner,20.77,1248,88.76,7\\nMaruti,2014,620000,148000,Diesel,Individual,Manual,Second Owner,20.77,1248,88.8,7\\nMahindra,2016,750000,35000,Diesel,Individual,Manual,First Owner,18.49,1493,100,7\\nHyundai,2016,400000,80000,Petrol,Individual,Manual,Second Owner,18.9,1197,82,5\\nMaruti,2005,110000,110000,Petrol,Individual,Manual,First Owner,18.9,998,67.1,5\\nTata,2012,119000,95000,Diesel,Individual,Manual,Second Owner,19.4,1405,70,5\\nHonda,2015,600000,25000,Diesel,Individual,Manual,First Owner,25.8,1498,98.6,5\\nMaruti,2011,200000,80000,CNG,Individual,Manual,First Owner,26.3,998,67.1,5\\nTata,2014,280000,60000,Diesel,Individual,Manual,Second Owner,23,1248,88.7,5\\nSkoda,2013,375000,100000,Petrol,Individual,Manual,First Owner,15,1598,105,5\\nDatsun,2016,350000,50000,Petrol,Individual,Manual,First Owner,19.44,1198,67,7\\nHyundai,2017,620000,31000,Diesel,Individual,Manual,First Owner,25.4,1186,73.97,5\\nMaruti,2017,570000,120000,Diesel,Individual,Manual,First Owner,26.59,1248,74,5\\nMaruti,2012,290000,105000,Diesel,Individual,Manual,Second Owner,19.3,1248,73.9,5\\nMaruti,2016,711000,120000,Diesel,Individual,Manual,First Owner,24.52,1248,88.5,7\\nMaruti,2012,370000,60000,Diesel,Individual,Manual,First Owner,22.9,1248,74,5\\nMaruti,2020,550000,15000,Petrol,Individual,Manual,First Owner,23.26,1197,88.5,5\\nMaruti,2013,325000,150000,Petrol,Individual,Manual,Second Owner,18.6,1197,85.8,5\\nHonda,2018,670000,93000,Diesel,Individual,Manual,First Owner,27.4,1498,98.63,5\\nHyundai,2017,385000,42000,Petrol,Individual,Manual,Second Owner,19.81,1086,68.05,5\\nHyundai,2008,114999,80000,Petrol,Individual,Manual,Second Owner,17.92,1086,62.1,5\\nHyundai,2010,200000,90000,Petrol,Individual,Manual,First Owner,17.92,1086,62.1,5\\nMaruti,2019,860000,6500,Diesel,Individual,Automatic,First Owner,24.3,1248,88.5,5\\nMaruti,2018,600000,60000,Diesel,Individual,Manual,First Owner,27.39,1248,74,5\\nMaruti,2016,265000,110000,Petrol,Individual,Manual,First Owner,23.95,998,67.05,5\\nTata,2015,155000,60000,CNG,Individual,Manual,Second Owner,23.7,1193,55.23,5\\nMaruti,2019,900000,60000,Diesel,Individual,Manual,First Owner,25.1,1248,88.5,5\\nMaruti,2013,650000,170000,Diesel,Individual,Manual,Third Owner,20.77,1248,88.76,7\\nMaruti,2004,70000,220000,Petrol,Individual,Manual,Second Owner,16.1,796,37,4\\nMaruti,2012,180000,80000,Petrol,Individual,Manual,First Owner,22.74,796,47.3,5\\nHyundai,2013,200000,57000,Petrol,Individual,Manual,First Owner,21.1,814,55.2,5\\nHyundai,2014,300000,100000,Petrol,Individual,Manual,First Owner,19.81,1086,68.05,5\\nHyundai,2015,650000,40000,Petrol,Individual,Manual,First Owner,17.01,1591,121.3,5\\nMaruti,2014,267000,40000,Petrol,Individual,Manual,First Owner,22.74,796,47.3,5\\nMaruti,2018,450000,50000,CNG,Individual,Manual,First Owner,26.6,998,58.16,5\\nHyundai,2014,400000,90000,Petrol,Individual,Manual,Second Owner,18.9,1197,82,5\\nMahindra,2012,310000,86000,Diesel,Individual,Manual,First Owner,14,2498,112,8\\nTata,2009,70000,15000,Petrol,Individual,Manual,First Owner,26,624,35,4\\nMahindra,2017,675000,70000,Diesel,Individual,Manual,Second Owner,15.96,2523,62.1,7\\nFord,2013,350000,120000,Petrol,Individual,Manual,First Owner,14.09,1596,99.6,5\\nMaruti,2014,240000,80000,Petrol,Individual,Manual,Second Owner,23.95,998,67.05,5\\nTata,2014,185000,80000,Diesel,Individual,Manual,Second Owner,19.09,1405,69.01,5\\nHyundai,2017,250000,50000,Petrol,Individual,Manual,First Owner,21.1,814,55.2,5\\nMaruti,2009,135000,100000,Petrol,Individual,Manual,First Owner,19.7,796,46.3,5\\nHyundai,2011,500000,80000,Diesel,Individual,Manual,First Owner,22.32,1582,126.32,5\\nTata,2010,300000,108957,Diesel,Individual,Manual,First Owner,13.93,2179,138,7\\nTata,2017,328000,68000,Petrol,Individual,Manual,Second Owner,23.84,1199,84,5\\nMahindra,2015,509999,65000,Diesel,Individual,Manual,First Owner,15.96,2523,62.1,7\\nMahindra,2015,575000,110000,Diesel,Individual,Manual,Second Owner,14.02,2179,118.3,8\\nMahindra,2012,700000,50000,Diesel,Individual,Manual,First Owner,12.2,2498,112,8\\nMaruti,2008,105000,100000,Petrol,Individual,Manual,Third Owner,18.9,1061,67,5\\nMaruti,2008,60000,80000,Petrol,Individual,Manual,Second Owner,16.1,796,37,4\\nMaruti,2008,112999,80000,Petrol,Individual,Manual,Third Owner,19.7,796,46.3,5\\nTata,2015,229999,120000,Diesel,Individual,Manual,Second Owner,19.1,1405,70,5\\nFord,2012,325000,150000,Diesel,Individual,Manual,First Owner,20,1399,68,5\\nHyundai,2017,650000,20000,Petrol,Individual,Manual,First Owner,18.6,1197,81.83,5\\nTata,2009,85000,80000,Diesel,Individual,Manual,Second Owner,17,1405,70,5\\nHonda,2015,570000,93000,Diesel,Individual,Manual,Second Owner,24.5,1498,98.6,7\\nMaruti,2015,525000,134000,Diesel,Individual,Manual,First Owner,25.2,1248,74,5\\nHyundai,2013,350000,90000,Petrol,Individual,Manual,Second Owner,18.5,1197,82.85,5\\nMaruti,2007,250000,60000,Petrol,Individual,Manual,First Owner,16.6,1197,85,5\\nMahindra,2010,300000,120000,Diesel,Individual,Manual,Second Owner,14,2489,95,8\\nJeep,2017,1325000,30000,Diesel,Individual,Manual,First Owner,17.1,1956,170,5\\nHyundai,2017,650000,22200,Diesel,Individual,Manual,First Owner,22.54,1396,88.73,5\\nHyundai,2018,520000,6000,Petrol,Individual,Manual,First Owner,18.9,1197,81.86,5\\nMaruti,2016,500000,32000,Petrol,Individual,Manual,First Owner,20.4,1197,81.8,5\\nRenault,2016,220000,90000,Petrol,Individual,Manual,First Owner,25.17,799,53.3,5\\nMaruti,2017,650000,78000,Diesel,Individual,Manual,Third Owner,28.09,1248,88.5,5\\nHonda,2017,819999,12000,Petrol,Individual,Manual,First Owner,17.5,1199,88.7,5\\nRenault,2016,645000,120000,Diesel,Individual,Manual,First Owner,19.87,1461,83.8,5\\nMaruti,2015,780000,40000,Diesel,Individual,Manual,First Owner,24.52,1248,88.5,7\\nHonda,2008,215000,110000,Petrol,Individual,Manual,Second Owner,17.7,1497,78,5\\nToyota,2007,600000,260000,Diesel,Individual,Manual,Third Owner,12.8,2494,102,7\\nMaruti,2011,114999,10000,Petrol,Individual,Manual,First Owner,19.7,796,46.3,5\\nTata,2012,75000,12000,Petrol,Individual,Manual,First Owner,16.84,1193,64.4,5\\nChevrolet,2011,120000,60000,Petrol,Individual,Manual,First Owner,18.6,1199,79.4,5\\nRenault,2016,250000,41000,Petrol,Individual,Manual,First Owner,25.17,799,53.3,5\\nMaruti,2018,200000,25000,Petrol,Individual,Manual,First Owner,16.8,796,34.2,8\\nHyundai,2015,380000,30000,Petrol,Individual,Manual,First Owner,19.1,1197,82,5\\nHonda,2018,560000,50000,Diesel,Individual,Manual,First Owner,25.8,1498,98.6,5\\nMaruti,2018,575000,10000,Petrol,Individual,Manual,First Owner,20.89,1197,81.8,5\\nMahindra,2017,620000,40000,Diesel,Individual,Manual,First Owner,16.5,1493,70,7\\nMahindra,2012,525000,120000,Diesel,Individual,Manual,First Owner,12.05,2179,120,8\\nMaruti,2017,635000,40000,Diesel,Individual,Manual,First Owner,26.59,1248,74,5\\nRenault,2016,650000,80000,Diesel,Individual,Manual,First Owner,19.72,1461,108.45,5\\nMaruti,2001,39000,42108,Petrol,Individual,Manual,First Owner,16.1,796,37,4\\nFord,2017,550000,70000,Diesel,Individual,Manual,Second Owner,25.83,1498,99,5\\nMaruti,2009,145000,150000,Diesel,Individual,Manual,Third Owner,21.1,1248,73.9,5\\nTata,2007,130000,100000,Diesel,Individual,Manual,Third Owner,16.1,1405,70,5\\nMaruti,2017,825000,79000,Diesel,Dealer,Manual,First Owner,25.47,1248,88.5,7\\nToyota,2015,1650000,91000,Diesel,Dealer,Automatic,Second Owner,12.55,2982,168.5,7\\nMaruti,2018,875000,50000,Diesel,Dealer,Manual,First Owner,24.3,1248,88.5,5\\nMaruti,2016,650000,81000,Diesel,Dealer,Manual,Second Owner,28.09,1248,88.5,5\\nJaguar,2014,2000000,51000,Diesel,Individual,Automatic,First Owner,14.74,2993,270.9,5\\nBMW,2018,2850000,27000,Diesel,Dealer,Automatic,First Owner,17.05,1995,184,5\\nAudi,2018,2800000,26000,Diesel,Dealer,Automatic,First Owner,15.73,1968,174.33,5\\nBMW,2018,3900000,17100,Diesel,Dealer,Automatic,First Owner,22.48,1995,187.74,5\\nChevrolet,2013,246000,56000,Diesel,Dealer,Manual,First Owner,22.1,1248,74,5\\nHonda,2013,325000,60000,Diesel,Dealer,Manual,Second Owner,24.7,1498,98.63,5\\nJeep,2019,1450000,22000,Petrol,Dealer,Automatic,First Owner,16,1368,160,5\\nHonda,2017,850000,30000,Petrol,Dealer,Automatic,First Owner,15.4,1497,117.3,7\\nVolkswagen,2015,560000,43001,Diesel,Dealer,Manual,First Owner,22.27,1498,108.6,5\\nMaruti,2015,575000,60000,Diesel,Dealer,Manual,First Owner,25.47,1248,88.5,7\\nMaruti,2019,470000,9000,Petrol,Dealer,Automatic,First Owner,21.63,998,67.04,5\\nTata,2014,221000,65000,Diesel,Dealer,Manual,First Owner,19.09,1405,69.01,5\\nToyota,2014,680000,95000,Diesel,Dealer,Manual,First Owner,12.99,2494,100.6,8\\nFord,2013,700000,62000,Diesel,Dealer,Manual,First Owner,13.1,2499,141,7\\nVolvo,2016,1950000,48000,Diesel,Dealer,Automatic,First Owner,9,1984,181,5\\nHyundai,2015,875000,72000,Diesel,Dealer,Automatic,First Owner,17.01,1582,126.2,5\\nHyundai,2017,850000,35000,Diesel,Individual,Manual,Third Owner,22,1582,126.2,5\\nRenault,2013,550000,100600,Diesel,Individual,Manual,Third Owner,20.46,1461,83.8,5\\nMaruti,2013,480000,105000,Diesel,Individual,Manual,Third Owner,23.4,1248,74,5\\nMahindra,2017,1050000,90000,Diesel,Individual,Manual,First Owner,15.4,2179,120,7\\nMahindra,2016,631000,92385,Diesel,Individual,Manual,First Owner,15.96,2523,62.1,7\\nTata,2015,165000,25000,Petrol,Individual,Manual,First Owner,25.4,624,37.5,4\\nMaruti,2010,320000,60000,Petrol,Individual,Manual,Second Owner,21.1,1197,85.8,5\\nMaruti,2012,360000,100000,Petrol,Individual,Manual,Second Owner,18.5,1197,85.8,5\\nHyundai,2004,130000,100000,Petrol,Individual,Automatic,Second Owner,,,,\\nHyundai,2006,175000,25000,Petrol,Individual,Manual,Third Owner,13,1795,127,5\\nHyundai,2016,725000,120000,Diesel,Individual,Manual,First Owner,22.54,1396,88.73,5\\nFiat,2014,280000,185000,Diesel,Individual,Manual,Third Owner,19.5,1248,75,5\\nVolkswagen,2011,325000,134000,Diesel,Individual,Manual,Second Owner,22.07,1199,73.9,5\\nFord,2014,320000,120000,Diesel,Individual,Manual,Third Owner,20,1399,68.05,5\\nHyundai,2018,500000,120000,Petrol,Individual,Manual,First Owner,18.9,1197,81.86,5\\nMahindra,2014,825000,165000,Diesel,Individual,Manual,Second Owner,15.1,2179,140,7\\nMaruti,2016,350000,120000,Diesel,Individual,Manual,Third Owner,23.2,1248,73.94,5\\nHyundai,2011,470000,89000,Diesel,Individual,Manual,First Owner,23,1396,90,5\\nMahindra,2009,125000,120000,Diesel,Individual,Manual,Third Owner,19.2,1461,65,5\\nHyundai,2006,140000,120000,Petrol,Individual,Automatic,First Owner,13.1,1795,127,5\\nHonda,2013,484999,50000,Diesel,Individual,Manual,First Owner,25.8,1498,98.6,5\\nMaruti,2018,308000,15000,Petrol,Individual,Manual,First Owner,24.7,796,47.3,5\\nHyundai,2019,570000,13000,Petrol,Individual,Manual,First Owner,18.9,1197,81.86,5\\nToyota,2010,900000,240000,Diesel,Individual,Manual,First Owner,11.5,2982,171,7\\nJeep,2017,1800000,45000,Diesel,Individual,Manual,First Owner,16.3,1956,170,5\\nMahindra,2005,400000,30000,Diesel,Individual,Manual,Second Owner,,,,\\nMaruti,2018,680000,28000,Petrol,Individual,Automatic,First Owner,21.21,1197,81.8,5\\nMaruti,2017,700000,70000,Diesel,Individual,Manual,First Owner,28.4,1248,74.02,5\\nMahindra,2011,240000,116000,Diesel,Individual,Manual,First Owner,14,2498,112,7\\nHyundai,2014,280000,90000,Petrol,Individual,Manual,First Owner,21.1,814,55.2,5\\nTata,2010,125000,120000,Diesel,Individual,Manual,Second Owner,17,1405,71,5\\nFord,2009,130000,100000,Diesel,Individual,Manual,Third Owner,,,,\\nMaruti,2015,434999,50000,Petrol,Individual,Manual,Second Owner,20.4,1197,83.11,5\\nToyota,2015,1050000,120000,Diesel,Individual,Manual,First Owner,12.99,2494,100.6,7\\nVolvo,2013,1200000,72500,Diesel,Individual,Automatic,Second Owner,23.3,1984,150,5\\nVolkswagen,2013,400000,120000,Diesel,Individual,Manual,Second Owner,20.54,1598,103.6,5\\nMahindra,2014,850000,120000,Diesel,Individual,Manual,First Owner,15.1,2179,140,7\\nHyundai,2014,475000,83000,Diesel,Individual,Manual,Second Owner,22.54,1396,88.73,5\\nFord,2003,150000,40000,Petrol,Individual,Manual,Third Owner,14.2,1597,92,5\\nToyota,2018,2900000,46000,Diesel,Individual,Manual,First Owner,14.24,2755,174.5,7\\nToyota,2015,1100000,137000,Diesel,Individual,Manual,First Owner,12.99,2494,100.6,7\\nMaruti,2017,285000,25000,Petrol,Individual,Manual,Second Owner,24.7,796,47.3,5\\nHyundai,2018,650000,50000,Diesel,Individual,Manual,First Owner,24,1186,73.97,5\\nMaruti,2012,275000,60000,Petrol,Individual,Manual,First Owner,19,998,66.1,5\\nMaruti,2000,60000,100000,Petrol,Individual,Manual,Second Owner,16.1,796,37,4\\nMahindra,2011,229999,105000,Diesel,Individual,Manual,Second Owner,19.2,1461,65,5\\nMaruti,2015,300000,20000,Petrol,Individual,Manual,First Owner,23.95,998,67.05,5\\nMaruti,2016,940000,50000,Diesel,Individual,Manual,First Owner,24.52,1248,88.5,7\\nMaruti,2015,600000,120000,Diesel,Individual,Manual,Second Owner,26.21,1248,88.5,5\\nMaruti,2017,800000,70000,Diesel,Individual,Manual,First Owner,27.39,1248,74,5\\nNissan,2017,580000,90000,Diesel,Individual,Manual,Second Owner,22.71,1461,84.8,5\\nTata,2018,450000,75000,Petrol,Individual,Manual,First Owner,20.3,1199,84,5\\nChevrolet,2011,290000,82500,Diesel,Individual,Manual,Second Owner,16.52,1991,123.7,5\\nHonda,2014,530000,110000,Diesel,Individual,Manual,First Owner,25.8,1498,98.6,5\\nHyundai,2019,960000,20000,Diesel,Individual,Manual,First Owner,24,1396,88.76,5\\nHonda,2009,290000,110000,Petrol,Individual,Manual,Third Owner,17,1497,118,5\\nMitsubishi,2008,160000,100000,Diesel,Individual,Manual,First Owner,14.8,1998,68,5\\nMaruti,2017,400000,52000,Petrol,Individual,Manual,First Owner,21.63,998,67,5\\nMaruti,2017,700000,90000,Diesel,Individual,Manual,First Owner,24.3,1248,88.5,5\\nVolkswagen,2012,361000,90000,Diesel,Individual,Manual,First Owner,20.54,1598,103.6,5\\nHyundai,2013,390000,53000,Diesel,Individual,Manual,Second Owner,21.9,1396,88.76,5\\nTata,2012,200000,180000,Diesel,Individual,Manual,First Owner,18.4,1248,75,5\\nHyundai,2013,390000,53000,Diesel,Individual,Manual,Second Owner,21.9,1396,88.76,5\\nMaruti,2013,500000,53000,Diesel,Individual,Manual,First Owner,22.9,1248,74,5\\nMaruti,2011,200000,50600,Petrol,Individual,Manual,First Owner,19.7,796,46.3,5\\nTata,2015,503000,110000,Diesel,Individual,Manual,First Owner,14.1,2179,147.94,7\\nMaruti,2017,775000,32000,Diesel,Dealer,Manual,First Owner,24.3,1248,88.5,5\\nMaruti,2018,750000,5000,Diesel,Individual,Manual,First Owner,24.3,1248,88.5,5\\nHyundai,2018,570000,25000,Petrol,Individual,Manual,First Owner,18.6,1197,81.83,5\\nHonda,2016,484999,30000,Petrol,Individual,Manual,First Owner,18.7,1199,88.7,5\\nHonda,2017,700000,43000,Petrol,Dealer,Manual,First Owner,15.4,1497,117.3,7\\nHyundai,2012,415000,60000,Petrol,Dealer,Manual,First Owner,17.7,1497,113.42,5\\nFord,2014,484999,54000,Diesel,Dealer,Manual,First Owner,23,1498,98.96,5\\nMaruti,2016,675000,52000,Diesel,Individual,Manual,First Owner,23.65,1248,88.5,5\\nFord,2015,680000,50000,Petrol,Individual,Manual,First Owner,15.85,1499,110.4,5\\nMaruti,2013,235000,52000,Petrol,Dealer,Manual,First Owner,24.7,796,47.3,5\\nMahindra,2018,1700000,15000,Diesel,Individual,Manual,First Owner,15.1,2179,152.87,7\\nMahindra,2015,1200000,50000,Diesel,Individual,Automatic,Second Owner,16,2179,140,7\\nHonda,2014,630000,56000,Diesel,Individual,Manual,Second Owner,25.1,1498,98.6,5\\nFord,2018,640000,82000,Diesel,Individual,Manual,First Owner,25.83,1498,99,5\\nHyundai,2014,355000,121000,Petrol,Dealer,Manual,First Owner,19.1,1197,82,5\\nMahindra,2012,560000,101903,Diesel,Individual,Manual,Second Owner,12.05,2179,120,8\\nMaruti,2018,580000,120000,Diesel,Individual,Manual,First Owner,23.4,1248,74,5\\nFord,2010,185000,85568,Diesel,Dealer,Manual,First Owner,18.5,1399,68,5\\nMaruti,2019,660000,10000,Petrol,Individual,Automatic,First Owner,21.4,1197,83.1,5\\nHyundai,2014,220000,10000,Petrol,Individual,Manual,First Owner,20.3,998,68.05,5\\nHyundai,2007,150000,60000,Petrol,Individual,Manual,Fourth & Above Owner,17.92,1086,62.1,5\\nMahindra,2011,484999,80000,Diesel,Individual,Manual,Second Owner,13.5,2179,115,5\\nMaruti,2019,509999,10000,Petrol,Individual,Manual,First Owner,21.21,1197,81.8,5\\nMahindra,2014,515000,60000,Diesel,Individual,Manual,First Owner,15.96,2523,62.1,7\\nMercedes-Benz,2014,1250000,42000,Petrol,Individual,Automatic,First Owner,11.9,1595,120.7,5\\nChevrolet,2014,350000,50000,Diesel,Individual,Manual,Fourth & Above Owner,18.2,1248,73.8,8\\nMaruti,2018,375000,11500,Petrol,Individual,Manual,First Owner,23.95,998,67.05,5\\nHyundai,2019,950000,15000,Diesel,Individual,Manual,First Owner,22.1,1396,88.7,5\\nMaruti,2015,615000,32000,Diesel,Individual,Manual,First Owner,26.59,1248,74,5\\nMaruti,2011,275000,50000,Petrol,Individual,Manual,First Owner,18.6,1197,85.8,5\\nBMW,2020,7200000,5000,Diesel,Individual,Automatic,First Owner,13.38,2993,265,7\\nMaruti,2017,400000,10000,Petrol,Individual,Manual,First Owner,15.37,1196,73,5\\nMaruti,2019,930000,15000,Diesel,Individual,Manual,First Owner,25.1,1248,88.5,5\\nMaruti,2012,310000,100000,Petrol,Individual,Manual,First Owner,19.1,1197,85.8,5\\nToyota,2012,320000,120000,Diesel,Individual,Manual,First Owner,,,,\\nToyota,2016,1670000,25000,Diesel,Individual,Manual,Second Owner,13.68,2393,147.8,7\\nMaruti,2013,356000,70000,Diesel,Individual,Manual,Second Owner,23.4,1248,74,5\\nHonda,2013,500000,32000,Petrol,Individual,Manual,First Owner,16.8,1497,116.3,5\\nTata,2018,409999,35000,Petrol,Individual,Manual,Second Owner,23.84,1199,84,5\\nMaruti,2019,980000,50000,Diesel,Individual,Manual,First Owner,24.3,1248,88.5,5\\nMahindra,2005,150000,100000,Diesel,Individual,Manual,Second Owner,13.6,2523,63,7\\nHonda,2019,750000,3100,Petrol,Individual,Automatic,First Owner,18.2,1199,88.7,5\\nSkoda,2013,500000,60000,Petrol,Individual,Automatic,First Owner,13.7,1798,157.75,5\\nMaruti,2013,355000,170000,Diesel,Individual,Manual,First Owner,22.9,1248,74,5\\nTata,2011,200000,50000,Diesel,Individual,Manual,Second Owner,17,1405,71,5\\nToyota,2008,370000,120000,Diesel,Individual,Manual,Second Owner,12.8,2494,102,8\\nHyundai,2015,450000,20000,Petrol,Individual,Manual,First Owner,19.1,1197,82,5\\nHyundai,2015,486000,10000,Petrol,Individual,Manual,First Owner,18.9,1197,82,5\\nMaruti,2011,242000,120000,Diesel,Individual,Manual,First Owner,21.5,1248,88.8,5\\nHyundai,2018,580000,25000,Petrol,Individual,Manual,First Owner,18.9,1197,81.86,5\\nFord,2014,500000,130000,Diesel,Individual,Manual,Second Owner,22.77,1498,98.59,5\\nToyota,2004,170000,120000,Petrol,Individual,Manual,Second Owner,,,,\\nMahindra,2013,300000,40000,Diesel,Individual,Manual,First Owner,17.21,1493,100,7\\nMahindra,2016,710000,60000,Diesel,Individual,Manual,First Owner,18.06,2523,63,7\\nSkoda,2012,220000,70000,Diesel,Individual,Manual,Third Owner,20.86,1199,75,5\\nMaruti,2020,654000,1000,Petrol,Individual,Automatic,First Owner,21.21,1197,81.8,5\\nSkoda,2019,835000,10000,Petrol,Individual,Automatic,First Owner,14.84,1598,103.2,5\\nFord,2010,250000,47000,Petrol,Individual,Manual,First Owner,15.3,1596,101,5\\nMaruti,2019,600000,18000,Petrol,Individual,Manual,First Owner,21.21,1197,81.8,5\\nMaruti,2016,459999,60000,Petrol,Individual,Manual,First Owner,20.85,1197,83.14,5\\nRenault,2018,275000,20000,Petrol,Individual,Manual,First Owner,23.01,999,67,5\\nFord,2017,408000,60000,Petrol,Individual,Manual,First Owner,18.16,1196,86.8,5\\nMahindra,2018,1200000,25000,Diesel,Individual,Manual,First Owner,15.1,2179,152.87,7\\nHyundai,2014,375000,52000,Petrol,Individual,Manual,First Owner,19.1,1197,81.86,5\\nMaruti,2006,94500,44000,Petrol,Individual,Manual,First Owner,19.7,796,46.3,5\\nVolkswagen,2011,300000,17000,Petrol,Individual,Manual,First Owner,16.47,1198,73.9,5\\nHonda,2009,350000,35000,Petrol,Individual,Manual,First Owner,17,1497,118,5\\nToyota,2011,975000,120000,Diesel,Individual,Manual,Third Owner,11.5,2982,171,7\\nHyundai,2015,600000,100000,Petrol,Individual,Manual,First Owner,18.6,1197,81.83,5\\nToyota,2014,700000,300000,Diesel,Individual,Manual,Second Owner,12.99,2494,100.6,7\\nMahindra,2017,640000,90000,Diesel,Individual,Manual,First Owner,16.5,1493,70,7\\nHyundai,2017,1110000,186000,Diesel,Individual,Manual,First Owner,19.67,1582,126.2,5\\nMaruti,2014,570000,79000,Diesel,Individual,Manual,Second Owner,20.77,1248,88.76,7\\nToyota,2010,451999,120000,Diesel,Individual,Manual,First Owner,12.8,2494,102,7\\nRenault,2016,240000,59300,Petrol,Individual,Manual,First Owner,25.17,799,53.3,5\\nMahindra,2014,680000,120000,Diesel,Individual,Manual,First Owner,15.4,2523,75,7\\nTata,2015,350000,60000,Diesel,Individual,Manual,First Owner,22.95,1248,74,5\\nVolkswagen,2012,360000,60000,Petrol,Individual,Manual,Third Owner,15.04,1598,103.6,5\\nFord,2010,250000,80000,Petrol,Individual,Manual,Second Owner,15.6,1196,70,5\\nMaruti,2019,550000,11500,Petrol,Individual,Manual,First Owner,21.21,1197,81.8,5\\nHyundai,2012,180000,56000,Petrol,Individual,Manual,First Owner,21.1,814,55.2,5\\nHonda,2016,425000,68000,Diesel,Individual,Manual,First Owner,27.3,1498,98.6,5\\nTata,2019,409999,25000,Petrol,Individual,Manual,First Owner,23.84,1199,84,5\\nTata,2018,438999,25000,Petrol,Individual,Manual,First Owner,23.84,1199,84,5\\nNissan,2014,225000,100000,Petrol,Individual,Manual,First Owner,19.49,1198,67.04,5\\nMahindra,2017,580000,95000,Diesel,Individual,Manual,First Owner,15.96,2523,63,9\\nMaruti,2008,200000,100000,Petrol,Individual,Manual,First Owner,17.5,1298,85.8,5\\nHyundai,2006,75000,90000,Petrol,Individual,Manual,Second Owner,,,,\\nFiat,2013,250000,47000,Diesel,Individual,Manual,First Owner,20.3,1248,75,5\\nMaruti,2011,170000,175000,Diesel,Individual,Manual,Second Owner,21.1,1248,73.9,5\\nMaruti,2010,300000,60000,Petrol,Individual,Manual,Second Owner,17.5,1197,85.8,5\\nMahindra,2005,160000,300000,Diesel,Individual,Manual,Third Owner,13.6,2523,63,7\\nMaruti,2014,409999,150000,Diesel,Individual,Manual,Third Owner,23.4,1248,74,5\\nHyundai,2012,350000,110000,Diesel,Individual,Manual,Third Owner,23,1396,90,5\\nRenault,2019,310000,25000,Petrol,Individual,Manual,First Owner,25.17,799,53.3,5\\nMaruti,2010,135000,95000,Petrol,Individual,Manual,Third Owner,19.7,796,46.3,5\\nMaruti,2010,220000,100000,Diesel,Individual,Manual,First Owner,21.1,1248,73.9,5\\nHyundai,2017,570000,20000,Petrol,Individual,Manual,First Owner,18.9,1197,81.86,5\\nMaruti,2014,500000,84000,Diesel,Individual,Manual,First Owner,23.4,1248,74,5\\nHyundai,2016,875000,40000,Diesel,Individual,Manual,First Owner,22.54,1396,88.73,5\\nTata,2011,210000,100000,Diesel,Individual,Manual,First Owner,19.1,1405,70,5\\nTata,2011,210000,120000,Diesel,Individual,Manual,First Owner,19.4,1405,70,5\\nHyundai,2010,200000,80000,LPG,Individual,Manual,Second Owner,13.45,1086,62.1,5\\nMaruti,2011,175000,175000,Petrol,Individual,Manual,Second Owner,19.7,796,46.3,5\\nHyundai,2017,700000,30000,Petrol,Individual,Manual,First Owner,18.6,1197,81.83,5\\nHyundai,2017,700000,30000,Petrol,Individual,Manual,First Owner,18.6,1197,81.83,5\\nHyundai,2019,550000,28000,Petrol,Individual,Automatic,First Owner,18.9,1197,81.86,5\\nHyundai,2019,420000,20000,Petrol,Individual,Manual,Second Owner,20.3,1086,68,5\\nHyundai,2009,210000,89322,Petrol,Individual,Manual,Second Owner,17,1197,80,5\\nChevrolet,2013,175000,76000,Diesel,Individual,Manual,First Owner,25.44,936,57.6,5\\nMaruti,2012,180000,70000,Petrol,Individual,Manual,Second Owner,19.7,796,46.3,5\\nMaruti,2007,118000,110000,Petrol,Individual,Manual,Second Owner,19.7,796,46.3,5\\nHyundai,2007,170000,120000,Diesel,Individual,Manual,Second Owner,16.8,1493,110,5\\nMaruti,2009,120000,110000,Petrol,Individual,Manual,Second Owner,18.2,1061,64,5\\nMaruti,2009,170000,90000,Petrol,Individual,Manual,Third Owner,19.7,796,46.3,5\\nMaruti,2018,700000,60000,Diesel,Individual,Manual,First Owner,28.4,1248,74,5\\nMahindra,2014,500000,48300,Diesel,Individual,Manual,Second Owner,15.96,2523,62.1,7\\nMaruti,2007,80000,63000,Petrol,Individual,Automatic,Third Owner,18.9,1061,67,5\\nHonda,2008,105000,110000,Petrol,Individual,Manual,Second Owner,17.7,1497,78,5\\nMaruti,2016,425000,120000,Diesel,Individual,Manual,Third Owner,26.59,1248,74,5\\nHyundai,2017,625000,23511,Petrol,Individual,Manual,First Owner,18.6,1197,81.83,5\\nHyundai,2017,640000,22512,Petrol,Individual,Manual,First Owner,18.6,1197,81.83,5\\nHyundai,2010,180000,120000,Petrol,Individual,Manual,First Owner,20.36,1197,78.9,5\\nMaruti,2009,155000,120000,Diesel,Individual,Manual,First Owner,21.1,1248,73.9,5\\nMaruti,2007,85000,100000,Petrol,Individual,Manual,Third Owner,18.9,1061,67,5\\nHyundai,2011,250000,70000,Petrol,Individual,Manual,First Owner,20.36,1197,78.9,5\\nHyundai,2017,1000000,15000,Petrol,Individual,Automatic,First Owner,17.01,1591,121.3,5\\nDatsun,2016,350000,16500,Petrol,Individual,Manual,First Owner,20.63,1198,67,5\\nMaruti,2018,740000,50000,Diesel,Individual,Manual,First Owner,28.4,1248,74.02,5\\nDatsun,2018,300000,19000,Petrol,Individual,Manual,First Owner,22.5,999,67,5\\nVolkswagen,2017,550000,50000,Diesel,Individual,Manual,First Owner,21.66,1498,108.62,5\\nMahindra,2017,710000,70000,Diesel,Individual,Manual,First Owner,15.96,2523,62.1,7\\nMahindra,2017,700000,70000,Diesel,Individual,Manual,First Owner,15.96,2523,62.1,7\\nMahindra,2016,550000,120000,Diesel,Individual,Manual,First Owner,15.96,2523,62.1,7\\nHyundai,2015,375000,60000,LPG,Individual,Manual,First Owner,19.2,1086,68.05,5\\nTata,2015,600000,60000,Diesel,Individual,Manual,First Owner,13.93,2179,138.03,7\\nMaruti,2013,380000,76000,Diesel,Individual,Manual,Second Owner,22.9,1248,74,5\\nMaruti,2012,300000,70000,Diesel,Individual,Manual,First Owner,23.2,1248,73.94,5\\nMaruti,1998,45000,80000,Petrol,Individual,Manual,Fourth & Above Owner,16.1,796,37,4\\nToyota,2010,450000,210000,Diesel,Individual,Manual,Second Owner,12.8,2494,102,8\\nMahindra,2015,475000,128000,Diesel,Individual,Manual,Third Owner,15.96,2523,63,9\\nRenault,2019,650000,5000,Petrol,Individual,Manual,First Owner,20,999,72,7\\nMaruti,2011,200000,70000,LPG,Individual,Manual,First Owner,26.2,998,58.2,5\\nMaruti,2013,350000,85000,Diesel,Individual,Manual,First Owner,22.9,1248,74,5\\nMaruti,2018,911999,25000,Diesel,Individual,Automatic,First Owner,24.3,1248,88.5,5\\nMaruti,2018,650000,15000,Petrol,Individual,Manual,First Owner,21.21,1197,81.8,5\\nMaruti,2012,350000,30000,Petrol,Individual,Manual,First Owner,17.5,1298,85.8,5\\nMaruti,2016,190000,80000,Petrol,Individual,Manual,Second Owner,16.8,796,34.2,8\\nHyundai,2019,1200000,40000,Diesel,Individual,Manual,First Owner,22,1582,126.2,5\\nMahindra,2013,305000,160000,Diesel,Individual,Manual,First Owner,15.96,2523,62.1,7\\nHyundai,2015,850000,108000,Diesel,Individual,Manual,First Owner,19.67,1582,126.2,5\\nVolkswagen,2011,350000,120000,Diesel,Individual,Manual,Second Owner,15,1896,105,5\\nHyundai,2010,180000,55000,Petrol,Individual,Manual,Fourth & Above Owner,17.92,1086,62.1,5\\nTata,2008,200000,110000,Diesel,Individual,Manual,First Owner,13.93,2179,138.1,7\\nToyota,2011,375000,80000,Diesel,Individual,Manual,First Owner,,,,\\nHonda,2012,229999,110000,Petrol,Individual,Manual,First Owner,19.4,1198,86.8,5\\nMaruti,2006,135000,62900,Petrol,Individual,Manual,First Owner,18.9,998,67.1,5\\nVolkswagen,2011,425000,120000,Diesel,Individual,Manual,Second Owner,19.33,1968,138.1,5\\nMahindra,2016,1350000,70000,Diesel,Individual,Manual,First Owner,16,2179,140,7\\nFord,2009,480000,70000,Diesel,Individual,Manual,Third Owner,10.9,2499,143,7\\nMaruti,2017,455000,60000,Diesel,Individual,Manual,First Owner,28.4,1248,74.02,5\\nMaruti,2015,320000,60000,Petrol,Individual,Manual,First Owner,20.51,998,67.04,5\\nHyundai,2019,693000,4000,Petrol,Individual,Manual,First Owner,18.6,1197,81.86,5\\nMaruti,2017,830000,35000,Diesel,Individual,Manual,First Owner,24.3,1248,88.5,5\\nHyundai,2016,470000,13500,Petrol,Individual,Manual,First Owner,18.9,1197,82,5\\nHonda,2017,1100000,26000,Petrol,Individual,Automatic,First Owner,18,1497,117.3,5\\nTata,2016,325000,50000,Diesel,Individual,Manual,First Owner,23,1248,88.7,5\\nHyundai,2014,215000,50000,Petrol,Individual,Manual,First Owner,21.1,814,55.2,5\\nMaruti,2018,560000,25000,Petrol,Individual,Manual,First Owner,22,1197,81.8,5\\nMaruti,2017,400000,30000,Petrol,Individual,Automatic,Second Owner,23.1,998,67.04,5\\nJaguar,2017,2625000,9000,Diesel,Dealer,Automatic,First Owner,13.6,1999,177,5\\nLexus,2019,5150000,20000,Petrol,Dealer,Automatic,First Owner,22.37,2487,214.56,5\\nJaguar,2017,3200000,45000,Diesel,Dealer,Automatic,First Owner,19.33,1999,177,5\\nTata,2015,503000,110000,Diesel,Individual,Manual,First Owner,14.1,2179,147.94,7\\nVolvo,2019,3800000,20000,Diesel,Individual,Automatic,First Owner,18,1969,190,5\\nToyota,2016,2000000,68089,Petrol,Trustmark Dealer,Automatic,First Owner,19.16,2494,157.7,5\\nMaruti,2013,225000,58343,Petrol,Trustmark Dealer,Manual,First Owner,21.79,998,67.05,5\\nMaruti,2018,740000,38817,Diesel,Dealer,Manual,First Owner,27.39,1248,74,5\\nHonda,2016,550000,56494,Petrol,Trustmark Dealer,Manual,First Owner,18.2,1199,88.7,5\\nToyota,2013,750000,79328,Diesel,Trustmark Dealer,Manual,Second Owner,12.99,2494,100.6,7\\nMaruti,2019,650000,5621,Petrol,Trustmark Dealer,Automatic,First Owner,22,1197,81.8,5\\nToyota,2017,625000,25538,Petrol,Trustmark Dealer,Manual,First Owner,16.78,1496,88.73,5\\nMaruti,2018,600000,69779,Petrol,Dealer,Automatic,First Owner,22,1197,81.8,5\\nHyundai,2017,450000,56290,Diesel,Dealer,Manual,First Owner,24,1186,73.97,5\\nBMW,2019,5400000,7500,Diesel,Dealer,Automatic,First Owner,16.78,1995,190,5\\nBMW,2019,5500000,8500,Diesel,Dealer,Automatic,First Owner,16.78,1995,190,5\\nHonda,2019,779000,7032,Petrol,Trustmark Dealer,Automatic,First Owner,19,1199,88.76,5\\nSkoda,2016,645000,11000,Petrol,Dealer,Automatic,First Owner,14.3,1598,103.5,5\\nVolvo,2018,2475000,2000,Diesel,Dealer,Automatic,First Owner,16.8,1984,150,5\\nHyundai,1999,60000,140000,Petrol,Individual,Manual,Third Owner,,,,\\nFord,2017,725000,45000,Diesel,Individual,Manual,First Owner,23,1498,98.96,5\\nMaruti,2013,225000,58343,Petrol,Trustmark Dealer,Manual,First Owner,21.79,998,67.05,5\\nMaruti,2018,740000,38817,Diesel,Dealer,Manual,First Owner,27.39,1248,74,5\\nMaruti,2019,650000,5621,Petrol,Trustmark Dealer,Automatic,First Owner,22,1197,81.8,5\\nToyota,2017,625000,25538,Petrol,Trustmark Dealer,Manual,First Owner,16.78,1496,88.73,5\\nMaruti,2018,600000,69779,Petrol,Dealer,Automatic,First Owner,22,1197,81.8,5\\nHyundai,2017,450000,56290,Diesel,Dealer,Manual,First Owner,24,1186,73.97,5\\nHonda,2014,325000,52442,Petrol,Trustmark Dealer,Manual,Second Owner,18.5,1198,86.8,5\\nHyundai,2013,229999,39000,Petrol,Dealer,Manual,First Owner,20.36,1197,78.9,5\\nMercedes-Benz,2007,400000,42000,Petrol,Dealer,Automatic,First Owner,11.74,1796,186,5\\nVolkswagen,2015,449000,34156,Petrol,Dealer,Manual,First Owner,16.47,1198,74,5\\nHyundai,2017,455000,34152,Petrol,Dealer,Manual,First Owner,18.9,1197,81.86,5\\nAudi,2015,1750000,37000,Diesel,Dealer,Automatic,First Owner,18.25,1968,187.74,5\\nToyota,2017,1390000,98000,Diesel,Dealer,Automatic,First Owner,11.36,2755,171.5,7\\nHyundai,2019,1150000,31000,Petrol,Dealer,Manual,First Owner,15.8,1591,121.3,5\\nHyundai,2018,650000,62841,Petrol,Trustmark Dealer,Manual,First Owner,18.6,1197,81.83,5\\nHyundai,2016,950000,38600,Diesel,Dealer,Manual,First Owner,19.67,1582,126.2,5\\nMaruti,2018,698000,27654,Diesel,Dealer,Automatic,First Owner,28.4,1248,74.02,5\\nHyundai,2017,975000,48698,Diesel,Dealer,Manual,First Owner,19.67,1582,126.2,5\\nMaruti,2018,445000,32995,Petrol,Dealer,Automatic,First Owner,20.52,1197,81.8,5\\nTata,2018,539000,60000,Diesel,Individual,Manual,First Owner,22.95,1248,74,5\\nMaruti,2010,350000,110000,Diesel,Individual,Manual,Fourth & Above Owner,17.8,1248,75,5\\nMahindra,2011,550000,260000,Diesel,Individual,Manual,Fourth & Above Owner,12.05,2179,120,8\\nRenault,2015,550000,130000,Diesel,Individual,Manual,Second Owner,20.45,1461,83.8,5\\nVolkswagen,2011,330000,120000,Diesel,Individual,Manual,First Owner,22.07,1199,73.9,5\\nHyundai,2014,220000,80000,Petrol,Individual,Manual,Third Owner,21.1,814,55.2,5\\nMaruti,2013,415000,60000,Petrol,Individual,Manual,Second Owner,18.5,1197,85.8,5\\nMaruti,2007,150000,75000,Petrol,Individual,Manual,First Owner,19.7,796,46.3,5\\nHyundai,2005,150000,89000,Petrol,Individual,Manual,Second Owner,15.3,1341,83,5\\nHyundai,2007,240000,110000,Diesel,Individual,Manual,First Owner,18.1,1493,110,5\\nMaruti,2009,170000,90000,Petrol,Individual,Manual,Second Owner,19.7,796,46.3,5\\nMaruti,2015,550000,40000,Diesel,Individual,Manual,Third Owner,28.09,1248,88.5,5\\nNissan,2017,500000,26000,Petrol,Individual,Automatic,First Owner,19.34,1198,76,5\\nMahindra,2011,180000,120000,Diesel,Individual,Manual,Second Owner,13,2489,95,8\\nMahindra,2017,360000,29000,Petrol,Individual,Manual,First Owner,18.15,1198,82,6\\nMaruti,2014,400000,120000,Petrol,Individual,Manual,First Owner,19.1,1197,85.8,5\\nHyundai,2009,120000,70000,Petrol,Individual,Manual,Second Owner,13.2,1495,94,5\\nMaruti,2016,765000,100000,Diesel,Individual,Manual,Second Owner,24.3,1248,88.5,5\\nMaruti,2016,919999,90150,Diesel,Individual,Manual,First Owner,24.3,1248,88.5,5\\nToyota,2018,730000,90000,Diesel,Individual,Manual,First Owner,23.59,1364,67.05,5\\nTata,2016,320000,120000,Diesel,Individual,Manual,First Owner,22.95,1248,74,5\\nHonda,2015,455000,90000,Diesel,Individual,Manual,Second Owner,25.8,1498,98.6,5\\nDatsun,2015,350000,50000,Petrol,Individual,Manual,First Owner,20.63,1198,67,5\\nMahindra,2016,509999,110000,Diesel,Individual,Manual,First Owner,18.49,1493,100,7\\nTata,2011,175000,85700,Diesel,Individual,Manual,Second Owner,17,1405,70,5\\nMahindra,2013,325000,178000,Diesel,Individual,Manual,First Owner,15.96,2523,63,9\\nTata,2011,120000,70000,Petrol,Individual,Manual,Second Owner,15.2,1193,65,5\\nHyundai,2014,300000,30000,Petrol,Individual,Manual,Second Owner,20.36,1197,78.9,5\\nHonda,2015,500000,100000,Diesel,Individual,Manual,First Owner,26,1498,98.6,5\\nMaruti,2016,562000,25339,Petrol,Individual,Manual,First Owner,21.4,1197,83.1,5\\nHyundai,2014,250000,10000,Petrol,Individual,Manual,First Owner,21.1,814,55.2,5\\nTata,2017,484999,35000,Diesel,Individual,Manual,First Owner,20.65,1248,88.7,5\\nHyundai,2013,280000,35000,Petrol,Individual,Manual,Second Owner,20.36,1197,78.9,5\\nMaruti,2015,571000,68000,Diesel,Individual,Manual,Second Owner,20.77,1248,88.76,7\\nMaruti,2013,400000,40000,Petrol,Individual,Manual,First Owner,18.6,1197,85.8,5\\nTata,2015,295000,120000,Diesel,Individual,Manual,Second Owner,19.09,1405,69.01,5\\nMahindra,2006,210000,120000,Diesel,Individual,Manual,First Owner,,,,\\nFord,2011,250000,25000,Petrol,Individual,Manual,First Owner,15.6,1196,70,5\\nMahindra,2015,610000,40000,Diesel,Individual,Manual,Second Owner,15.96,2523,62.1,7\\nTata,2012,175000,60000,Diesel,Individual,Manual,First Owner,22.3,1248,74,5\\nFord,2011,204999,70000,Diesel,Individual,Manual,Second Owner,20,1399,68,5\\nMahindra,2013,750000,80000,Diesel,Individual,Manual,Second Owner,15.1,2179,140,7\\nHyundai,2016,651000,42323,Diesel,Dealer,Manual,First Owner,21.19,1396,88.76,5\\nBMW,2011,1075000,42545,Diesel,Dealer,Automatic,First Owner,19.62,1998,190,5\\nMaruti,2016,690000,32000,Diesel,Dealer,Manual,First Owner,25.1,1248,88.5,5\\nMaruti,2017,589000,41232,Diesel,Dealer,Manual,First Owner,26.59,1248,74,5\\nMahindra,2015,445000,40200,Diesel,Dealer,Manual,First Owner,21,1498,74.96,7\\nFord,2013,475000,48000,Diesel,Dealer,Manual,Second Owner,21.7,1498,98.96,5\\nHonda,2014,465000,27233,Diesel,Dealer,Manual,First Owner,27.4,1498,98.63,5\\nTata,2011,225000,35000,Petrol,Individual,Manual,First Owner,15,1368,90,5\\nToyota,2005,310000,200000,Diesel,Individual,Manual,Second Owner,12.8,2494,102,8\\nTata,2016,445000,63000,Diesel,Dealer,Manual,First Owner,15.3,2956,83.8,9\\nMahindra,2015,445000,62000,Diesel,Dealer,Manual,First Owner,21,1498,74.96,7\\nTata,2012,450000,68240,Diesel,Dealer,Manual,First Owner,13.93,2956,138.1,7\\nMahindra,2008,450000,78000,Diesel,Dealer,Manual,First Owner,15.4,1997,120,7\\nMaruti,2017,525000,38000,Diesel,Dealer,Manual,Second Owner,,,,\\nMaruti,2010,200000,35000,Petrol,Dealer,Manual,First Owner,18.9,998,67.1,5\\nMaruti,2018,611000,9000,Petrol,Dealer,Manual,First Owner,19.1,1197,85.8,5\\nHyundai,2016,819999,39000,Diesel,Dealer,Manual,First Owner,19.67,1582,126.2,5\\nHyundai,2016,825000,39000,Diesel,Dealer,Manual,First Owner,21.38,1396,88.7,5\\nFord,2015,599000,92651,Diesel,Dealer,Manual,First Owner,21.7,1498,98.96,5\\nMaruti,2018,490000,28000,Petrol,Dealer,Manual,First Owner,16.1,1197,85,5\\nTata,2020,500000,40000,Petrol,Individual,Manual,First Owner,17.57,1193,88.7,5\\nTata,2020,500000,40000,Petrol,Individual,Manual,First Owner,17.57,1193,88.7,5\\nMahindra,2017,1100000,88754,Diesel,Dealer,Manual,First Owner,16,2179,140,7\\nFord,2019,675000,7000,Petrol,Individual,Manual,First Owner,19.4,1194,94.93,5\\nMahindra,2018,1350000,40000,Diesel,Individual,Manual,First Owner,16,2179,138,7\\nHyundai,2018,570000,20000,Petrol,Individual,Manual,First Owner,18.9,1197,81.86,5\\nHyundai,2017,455000,50000,Diesel,Individual,Manual,First Owner,24,1186,73.97,5\\nHyundai,2013,165000,45000,Petrol,Individual,Manual,Second Owner,21.1,814,55.2,5\\nHonda,2016,925000,22000,Petrol,Individual,Manual,First Owner,17.8,1497,117.3,5\\nTata,2014,215000,100000,Diesel,Individual,Manual,Second Owner,25,1396,69.01,5\\nMaruti,2016,470000,23700,Petrol,Individual,Manual,First Owner,20.4,1197,81.8,5\\nMaruti,2016,470000,23700,Petrol,Individual,Manual,First Owner,20.4,1197,81.8,5\\nMaruti,2017,650000,60000,Diesel,Individual,Manual,First Owner,28.09,1248,88.5,5\\nRenault,2017,900000,50000,Diesel,Individual,Manual,First Owner,20.37,1461,108.45,5\\nFord,2011,325000,53287,Petrol,Dealer,Manual,First Owner,,,,\\nFord,2009,190000,100000,Diesel,Individual,Manual,Second Owner,17.8,1399,67,5\\nHyundai,2017,715000,60000,Diesel,Individual,Manual,First Owner,21.19,1396,88.73,5\\nTata,2013,227999,60000,Diesel,Individual,Manual,Second Owner,25,1396,69.01,5\\nTata,2017,450000,50000,Diesel,Individual,Manual,First Owner,22.95,1248,74,5\\nChevrolet,2015,200000,40000,Diesel,Individual,Manual,First Owner,25.44,936,56.3,5\\nMaruti,2017,400000,110000,CNG,Individual,Manual,First Owner,26.6,998,58.16,5\\nMaruti,2016,725000,110000,Diesel,Individual,Manual,First Owner,24.52,1248,88.5,7\\nFord,2014,300000,80000,Diesel,Individual,Manual,First Owner,20,1399,68.05,5\\nToyota,2016,1151000,69500,Diesel,Individual,Manual,Second Owner,12.99,2494,100.6,8\\nDatsun,2014,225000,33000,Petrol,Individual,Manual,First Owner,20.63,1198,67,5\\nHyundai,2016,380000,80000,Petrol,Individual,Manual,First Owner,19.81,1086,68.05,5\\nHyundai,2019,630000,5000,Petrol,Individual,Manual,First Owner,18.6,1197,81.86,5\\nHyundai,2014,351000,25000,Petrol,Individual,Manual,First Owner,20.36,1197,78.9,5\\nSkoda,2012,199000,50000,Diesel,Individual,Manual,Second Owner,20.86,1199,75,5\\nTata,2017,850000,50000,Diesel,Individual,Manual,First Owner,17.6,2179,147.94,7\\nTata,2010,105000,120000,Diesel,Individual,Manual,Second Owner,18,1248,75,5\\nTata,2010,300000,120000,Diesel,Individual,Manual,Third Owner,18.8,1248,90,5\\nToyota,2016,950000,80000,Diesel,Individual,Manual,First Owner,12.99,2494,100.6,7\\nMahindra,2015,430000,110000,Diesel,Individual,Manual,Second Owner,18.49,1493,100,7\\nFord,2016,2100000,80000,Diesel,Individual,Automatic,First Owner,10.91,3198,197,7\\nHyundai,2018,540000,30000,Diesel,Individual,Manual,First Owner,24,1186,73.97,5\\nHyundai,2012,175000,60000,LPG,Individual,Manual,Second Owner,17.8,1086,63,5\\nHyundai,2018,1150000,44000,Diesel,Individual,Automatic,First Owner,17.01,1582,126.2,5\\nMaruti,2020,350000,5000,Petrol,Individual,Manual,First Owner,22.05,796,47.3,5\\nHyundai,2019,690000,18000,Petrol,Individual,Manual,First Owner,18.6,1197,81.86,5\\nHyundai,2015,535000,80000,Diesel,Individual,Manual,First Owner,22.54,1396,88.73,5\\nMaruti,2016,730000,100000,Diesel,Individual,Manual,First Owner,24.3,1248,88.5,5\\nHyundai,2016,280000,19000,Petrol,Individual,Manual,First Owner,21.1,814,55.2,5\\nMaruti,2019,650000,33000,Petrol,Individual,Automatic,First Owner,21.21,1197,81.8,5\\nToyota,2012,520000,162000,Diesel,Individual,Manual,Fourth & Above Owner,12.8,2494,102,7\\nHyundai,2020,360000,65000,Petrol,Individual,Manual,Second Owner,20.14,1197,81.86,5\\nMaruti,2011,250000,170000,Diesel,Individual,Manual,First Owner,19.3,1248,73.9,5\\nVolkswagen,2017,575000,40000,Diesel,Individual,Manual,First Owner,21.66,1498,108.62,5\\nTata,2012,170000,120000,Diesel,Individual,Manual,Third Owner,19.09,1396,69,5\\nMaruti,2017,711000,53000,Diesel,Individual,Manual,First Owner,24.3,1248,88.5,5\\nMaruti,2013,250000,90000,Petrol,Individual,Manual,First Owner,18.9,998,67.1,5\\nMaruti,2017,675000,35000,Diesel,Individual,Manual,First Owner,26.59,1248,74,5\\nMaruti,2016,325000,50000,Petrol,Individual,Manual,First Owner,20.51,998,67.04,5\\nMaruti,2016,250000,20000,Petrol,Individual,Manual,First Owner,22.74,796,47.3,5\\nMaruti,2019,740000,38000,Diesel,Individual,Automatic,First Owner,28.4,1248,74,5\\nHonda,2019,690000,1303,Petrol,Dealer,Manual,First Owner,17.8,1198,86.7,5\\nAudi,2018,3975000,31800,Diesel,Dealer,Automatic,First Owner,17.01,1968,188,5\\nLexus,2019,5150000,20000,Petrol,Dealer,Automatic,First Owner,22.37,2487,214.56,5\\nJaguar,2017,3200000,45000,Diesel,Dealer,Automatic,First Owner,19.33,1999,177,5\\nJeep,2017,4100000,17000,Petrol,Individual,Automatic,First Owner,9.5,3604,280,5\\nLand,2019,4500000,21000,Diesel,Dealer,Automatic,First Owner,12.83,1999,148.31,7\\nBMW,2018,3790000,29500,Diesel,Dealer,Automatic,First Owner,22.48,1995,187.74,5\\nHonda,2017,1750000,73000,Petrol,Dealer,Automatic,First Owner,12,2354,187.4,5\\nSkoda,2018,1864999,50000,Petrol,Dealer,Automatic,First Owner,14.67,1798,177.46,5\\nMaruti,2017,800000,28050,Diesel,Dealer,Manual,First Owner,28.09,1248,88.5,5\\nHonda,2017,1825000,58000,Petrol,Dealer,Automatic,First Owner,12,2354,187.4,5\\nTata,2017,1295000,58000,Diesel,Dealer,Automatic,First Owner,17.6,2179,153.86,7\\nRenault,2014,425000,69000,Diesel,Dealer,Manual,First Owner,19.87,1461,83.8,5\\nMercedes-Benz,2016,4090000,70000,Diesel,Dealer,Automatic,First Owner,12,2987,224,7\\nHyundai,2015,910000,40000,Diesel,Dealer,Automatic,First Owner,17.6,1582,126.2,5\\nToyota,2013,625000,39000,Petrol,Dealer,Automatic,First Owner,14.28,1798,138.03,5\\nVolvo,2018,3400000,22000,Diesel,Dealer,Automatic,First Owner,18,1969,190,5\\nMaruti,2015,535000,40000,Diesel,Dealer,Manual,First Owner,26.21,1248,88.5,5\\nMahindra,2011,325000,142000,Diesel,Individual,Manual,First Owner,15.96,2523,62.1,7\\nMaruti,2016,500000,22947,Petrol,Individual,Manual,First Owner,20.4,1197,81.8,5\\nHyundai,2013,300000,30000,Petrol,Individual,Manual,Second Owner,20.36,1197,78.9,5\\nHyundai,2016,270000,7672,Petrol,Individual,Manual,First Owner,21.1,814,55.2,5\\nMaruti,2010,160000,36659,Petrol,Individual,Manual,First Owner,19.7,796,46.3,5\\nMaruti,2016,210000,60000,Petrol,Individual,Manual,First Owner,16.8,796,34.2,8\\nMahindra,2014,850000,120000,Diesel,Individual,Manual,First Owner,15.1,2179,140,7\\nMahindra,2014,880000,120000,Diesel,Individual,Manual,First Owner,15.1,2179,140,7\\nMaruti,2010,150000,39000,Petrol,Individual,Manual,First Owner,16.9,1061,64.9,5\\nMahindra,2015,775000,45000,Diesel,Individual,Automatic,First Owner,18.49,1493,100,7\\nMaruti,2009,160000,70000,Petrol,Individual,Manual,Third Owner,19.7,796,46.3,5\\nFord,2012,220000,100000,Diesel,Individual,Manual,Second Owner,20,1399,68,5\\nHyundai,2017,670000,48000,Diesel,Individual,Manual,First Owner,22.54,1396,88.73,5\\nHyundai,2018,780000,35000,Diesel,Individual,Manual,First Owner,22.54,1396,88.73,5\\nMaruti,2017,515000,23000,Petrol,Individual,Manual,First Owner,21.4,1197,83.1,5\\nHyundai,2017,800000,14000,Diesel,Individual,Manual,First Owner,22.54,1396,88.73,5\\nHyundai,2017,800000,14000,Diesel,Individual,Manual,First Owner,22.54,1396,88.73,5\\nMahindra,2014,850000,60000,Diesel,Individual,Manual,First Owner,15.1,2179,140,7\\nHyundai,2013,200000,60000,Petrol,Individual,Manual,Second Owner,21.1,814,55.2,5\\nSkoda,2008,140000,150000,Diesel,Individual,Manual,Third Owner,19.4,1422,70,5\\nHyundai,2016,800000,80000,Petrol,Individual,Automatic,Second Owner,17.01,1591,121.3,5\\nMaruti,2013,250000,35000,Petrol,Individual,Manual,First Owner,20.92,998,67.1,5\\nMaruti,2017,800000,44500,Diesel,Individual,Manual,First Owner,25.1,1248,88.5,5\\nMaruti,2015,600000,60000,Diesel,Individual,Manual,Third Owner,26.21,1248,88.5,5\\nRenault,2012,250000,120000,Diesel,Individual,Manual,Third Owner,21.8,1461,78,5\\nHonda,2016,500000,80000,Diesel,Individual,Manual,Second Owner,25.8,1498,98.6,5\\nMaruti,2019,750000,9900,Petrol,Individual,Manual,First Owner,11.96,1298,80,8\\nMaruti,2014,650000,68000,Diesel,Individual,Manual,First Owner,22.9,1248,74,5\\nToyota,2012,350000,40000,Petrol,Individual,Manual,Third Owner,,,,\\nHonda,2016,950000,60000,Diesel,Individual,Manual,First Owner,21.9,1498,98.6,7\\nChevrolet,2015,580000,110000,Diesel,Individual,Manual,Second Owner,13.58,2499,72.4,10\\nHyundai,2019,640000,10000,Petrol,Individual,Manual,First Owner,18.9,1197,81.86,5\\nMahindra,2014,800000,80000,Diesel,Individual,Automatic,First Owner,11.79,2179,120,8\\nMaruti,2011,347000,30000,Petrol,Individual,Manual,First Owner,19,998,66.1,5\\nMahindra,2014,1000000,120000,Diesel,Individual,Manual,Third Owner,15.1,2179,140,7\\nHyundai,2016,300000,35000,Petrol,Individual,Manual,First Owner,21.1,814,55.2,5\\nTata,2017,493000,40000,Petrol,Individual,Manual,First Owner,20.3,1199,84,5\\nHyundai,2014,370000,60000,Petrol,Individual,Manual,First Owner,18.9,1197,82,5\\nMaruti,2008,250000,90000,Diesel,Individual,Manual,Fourth & Above Owner,19.3,1248,73.9,5\\nDatsun,2017,300000,20000,Petrol,Individual,Manual,First Owner,22.5,999,67,5\\nRenault,2017,450000,40000,Petrol,Individual,Automatic,First Owner,24.04,999,67,5\\nFord,2010,185000,124316,Diesel,Dealer,Manual,Second Owner,20,1399,68,5\\nMahindra,2019,1225000,6544,Diesel,Individual,Manual,First Owner,20,1497,115,5\\nToyota,2015,1000000,50000,Diesel,Individual,Manual,First Owner,12.99,2494,100.6,8\\nHyundai,2016,600000,10000,Petrol,Individual,Manual,First Owner,18.6,1197,81.83,5\\nMahindra,2018,1100000,50000,Diesel,Individual,Manual,First Owner,15.1,2179,152.87,7\\nHyundai,2015,360000,30000,Petrol,Individual,Manual,Second Owner,18.9,1197,81.86,5\\nMaruti,2012,285000,69000,Petrol,Individual,Manual,First Owner,17.5,1298,85.8,5\\nMahindra,2016,350000,49600,Diesel,Individual,Manual,Second Owner,25.32,1198,77,6\\nHyundai,2008,130000,30000,Petrol,Individual,Manual,Second Owner,19.81,1086,68.05,5\\nChevrolet,2016,500000,198000,Diesel,Individual,Manual,First Owner,18.2,1248,73.74,8\\nHyundai,2010,350000,80000,Petrol,Individual,Manual,First Owner,17,1197,80,5\\nMaruti,2019,685000,19000,Petrol,Individual,Automatic,First Owner,21.4,1197,83.1,5\\nMaruti,2020,399000,5000,CNG,Individual,Manual,First Owner,21.94,1196,61.7,5\\nHyundai,2017,525000,10000,Petrol,Individual,Manual,First Owner,18.9,1197,81.86,5\\nMaruti,2017,765000,40000,Petrol,Individual,Manual,First Owner,17.5,1373,91.1,7\\nMaruti,2012,450000,97000,Diesel,Individual,Manual,Third Owner,22.9,1248,74,5\\nTata,1999,78000,80000,Diesel,Individual,Manual,Third Owner,,,,\\nNissan,2014,390000,30000,Petrol,Individual,Manual,First Owner,19.69,1198,67.04,5\\nMaruti,2017,940000,120000,Diesel,Individual,Manual,First Owner,24.52,1248,88.5,7\\nRenault,2013,650000,120000,Diesel,Individual,Manual,Second Owner,19.01,1461,108.45,5\\nFord,2012,320000,103994,Diesel,Individual,Manual,Fourth & Above Owner,20,1399,68,5\\nToyota,2003,145000,70000,Petrol,Individual,Manual,Second Owner,13.4,1794,125,5\\nFord,2017,670000,70000,Diesel,Individual,Manual,First Owner,25.83,1498,99,5\\nMaruti,2011,350000,115000,Diesel,Individual,Manual,Fourth & Above Owner,21.5,1248,88.8,5\\nTata,2012,285000,178000,Diesel,Individual,Manual,Second Owner,22.3,1248,74,5\\nMaruti,2011,300000,40000,Petrol,Individual,Manual,Third Owner,19,998,67.1,5\\nFord,2011,300000,80000,Diesel,Individual,Manual,First Owner,20,1399,68,5\\nAudi,2009,810000,98000,Diesel,Individual,Automatic,Fourth & Above Owner,12.07,2967,241.4,7\\nTata,2009,90000,118000,Diesel,Individual,Manual,Second Owner,16.8,1405,62,5\\nMaruti,2004,100000,100000,Petrol,Individual,Manual,Second Owner,19.7,796,46.3,5\\nTata,2009,90000,120000,Diesel,Individual,Manual,Second Owner,17.88,1396,52.8,5\\nMahindra,2013,459999,120000,Diesel,Individual,Manual,Second Owner,13.5,2609,115,5\\nToyota,2009,525000,217000,Diesel,Individual,Manual,Fourth & Above Owner,12.8,2494,102,8\\nMaruti,2011,250000,65000,Petrol,Individual,Manual,Second Owner,18.9,998,67.1,5\\nHyundai,2012,300000,41000,Petrol,Individual,Manual,Second Owner,20.36,1197,78.9,5\\nMaruti,2005,130000,120000,Petrol,Individual,Manual,Second Owner,16.1,1298,88.2,5\\nMaruti,2011,199000,70000,Petrol,Individual,Manual,Third Owner,20.92,998,67.1,5\\nRenault,2012,545000,90000,Diesel,Individual,Manual,Second Owner,20.46,1461,83.8,5\\nMaruti,2014,570000,80000,Diesel,Individual,Manual,Second Owner,20.77,1248,88.8,7\\nHonda,2006,150000,120000,Petrol,Individual,Manual,Second Owner,16.9,1497,100,5\\nMaruti,2009,114999,100000,Petrol,Individual,Manual,First Owner,19.7,796,46.3,5\\nTata,2018,450000,35000,Petrol,Individual,Manual,First Owner,20.3,1199,84,5\\nRenault,2019,600000,5000,Petrol,Individual,Manual,First Owner,20,999,72,7\\nMaruti,2016,610000,110000,Diesel,Individual,Manual,First Owner,24.3,1248,88.5,5\\nHyundai,2017,690000,20000,Petrol,Individual,Manual,First Owner,18.6,1197,81.83,5\\nTata,2018,790000,15000,Petrol,Individual,Manual,First Owner,17,1198,108.5,5\\nMaruti,2014,254999,40000,Petrol,Individual,Manual,Second Owner,20.92,998,67.1,5\\nHonda,2016,500000,41000,Petrol,Individual,Manual,First Owner,18.7,1199,88.7,5\\nMahindra,2011,340000,100000,Diesel,Individual,Manual,Second Owner,13.6,2523,63,7\\nMahindra,2007,245000,110000,Diesel,Individual,Manual,Third Owner,13.6,2523,63,7\\nFord,2012,340000,120000,Diesel,Individual,Manual,Third Owner,17.8,1399,67,5\\nMaruti,2008,221000,35008,Petrol,Dealer,Manual,First Owner,21.79,998,67.05,5\\nDatsun,2017,270000,31100,Petrol,Dealer,Manual,First Owner,22.7,799,53.64,5\\nHyundai,2014,455000,42312,Diesel,Dealer,Manual,First Owner,24.4,1120,71,5\\nToyota,2011,300000,72000,Petrol,Dealer,Manual,First Owner,17.6,1496,88.7,5\\nToyota,2014,480000,54891,Diesel,Dealer,Manual,First Owner,23.59,1364,67.04,5\\nHyundai,2018,1000000,30000,Diesel,Individual,Automatic,First Owner,22,1582,126.2,5\\nBMW,2017,2600000,44000,Diesel,Dealer,Automatic,First Owner,22.69,1995,190,5\\nToyota,2017,1850000,18890,Diesel,Dealer,Automatic,First Owner,11.36,2755,171.5,7\\nRenault,2013,1000000,75010,Diesel,Dealer,Automatic,First Owner,13.73,1995,148,5\\nRenault,2012,245000,100000,Diesel,Dealer,Manual,First Owner,23.08,1461,63.1,5\\nHyundai,2019,625000,4337,Petrol,Dealer,Automatic,First Owner,18.9,1197,82,5\\nVolkswagen,2018,560000,14495,Petrol,Dealer,Manual,First Owner,18.78,999,75,5\\nMahindra,2018,1475000,24000,Diesel,Dealer,Manual,First Owner,15.1,2179,152.87,7\\nToyota,2010,425000,83585,Diesel,Dealer,Manual,First Owner,21.43,1364,87.2,5\\nVolkswagen,2014,550000,31000,Petrol,Dealer,Automatic,Second Owner,17.21,1197,103.6,5\\nToyota,2016,1475000,100000,Diesel,Dealer,Manual,First Owner,13.68,2393,147.8,7\\nRenault,2017,750000,48406,Diesel,Dealer,Manual,First Owner,19.87,1461,83.8,5\\nHyundai,2016,570000,56239,Diesel,Dealer,Manual,First Owner,22.54,1396,88.73,5\\nMaruti,2015,585000,33243,Petrol,Dealer,Manual,First Owner,21.4,1197,83.1,5\\nHonda,2016,600000,26000,Petrol,Dealer,Automatic,First Owner,19,1199,88.7,5\\nToyota,2012,415000,90000,Diesel,Individual,Manual,First Owner,,,,\\nHyundai,2016,530000,120000,Petrol,Individual,Manual,Second Owner,17.19,1197,81.86,5\\nHyundai,2016,540000,38000,Petrol,Individual,Manual,First Owner,18.6,1197,81.83,5\\nHyundai,2013,180000,60000,Petrol,Individual,Manual,First Owner,21.1,814,55.2,5\\nMaruti,2014,450000,30000,Petrol,Individual,Manual,First Owner,19.1,1197,85.8,5\\nChevrolet,2015,200000,50000,Petrol,Individual,Manual,First Owner,18.6,1199,76.8,5\\nTata,2017,425000,42000,Petrol,Individual,Manual,First Owner,23.84,1199,84,5\\nChevrolet,2016,400000,30000,Petrol,Individual,Manual,First Owner,18.2,1199,82.4,5\\nFord,2005,150000,15858,Petrol,Individual,Manual,First Owner,13.8,1299,70,5\\nMaruti,2017,310000,15000,Petrol,Individual,Manual,First Owner,24.7,796,47.3,5\\nChevrolet,2014,500000,50000,Diesel,Individual,Manual,First Owner,13.58,2499,72.4,9\\nChevrolet,2013,200000,60000,Diesel,Individual,Manual,Second Owner,25.44,936,57.6,5\\nRenault,2018,900000,35000,Diesel,Individual,Manual,First Owner,21.04,1461,83.8,7\\nAmbassador,2000,75000,90000,Diesel,Individual,Manual,Second Owner,12.8,1489,35.5,5\\nMaruti,2015,400000,50000,Petrol,Individual,Manual,First Owner,20.4,1197,83.11,5\\nHonda,2015,650000,110000,Diesel,Individual,Manual,First Owner,24.5,1498,98.6,7\\nMaruti,2015,480000,87847,Diesel,Dealer,Manual,First Owner,28.4,1248,74,5\\nMaruti,2009,140000,35000,Petrol,Individual,Manual,First Owner,19.7,796,46.3,5\\nMaruti,2018,550000,5000,Petrol,Individual,Manual,First Owner,22,1197,81.8,5\\nMaruti,2017,380000,29000,Petrol,Individual,Automatic,First Owner,20.51,998,67,5\\nTata,2016,440000,20000,Diesel,Individual,Manual,First Owner,19.09,1405,69.01,5\\nMaruti,2018,630000,15000,Petrol,Individual,Manual,First Owner,21.21,1197,81.8,5\\nRenault,2017,250000,40000,Petrol,Individual,Manual,First Owner,25.17,799,53.3,5\\nMaruti,2009,120000,17000,Petrol,Individual,Manual,First Owner,19.7,796,46.3,5\\nTata,2012,287000,120000,Diesel,Individual,Manual,First Owner,21.12,1248,88.8,5\\nMaruti,2016,550000,45000,Petrol,Individual,Manual,First Owner,21.4,1197,83.1,5\\nMahindra,2016,950000,60000,Diesel,Individual,Manual,Third Owner,15.4,1997,120,7\\nTata,2019,1630000,25000,Diesel,Individual,Manual,First Owner,17,1956,138.1,5\\nFord,2015,501000,80000,Diesel,Individual,Manual,Second Owner,25.01,1498,89.75,5\\nMahindra,2014,550000,70000,Diesel,Individual,Manual,First Owner,15.96,2523,62.1,7\\nMaruti,2016,300000,25000,Petrol,Individual,Manual,First Owner,22.74,796,47.3,5\\nMaruti,2015,300000,50000,Petrol,Individual,Manual,Third Owner,20.51,998,67.04,5\\nToyota,2012,280000,100000,Diesel,Individual,Manual,Second Owner,,,,\\nFord,2015,416000,40000,Petrol,Individual,Automatic,First Owner,17.01,1499,110.4,5\\nMaruti,2018,260000,30000,Petrol,Individual,Manual,First Owner,16.8,796,34.2,8\\nChevrolet,2016,550000,15000,Petrol,Individual,Manual,First Owner,18.2,1199,82.4,5\\nMahindra,2012,700000,100000,Diesel,Individual,Manual,Second Owner,15.1,2179,140,7\\nTata,2011,181000,70000,Petrol,Individual,Manual,First Owner,15.64,1193,64.1,5\\nMahindra,2009,365000,110000,Diesel,Individual,Automatic,Second Owner,11.79,2179,120,8\\nHyundai,2006,150000,9558,Petrol,Individual,Manual,First Owner,,,,\\nMaruti,2017,400000,10000,Petrol,Individual,Automatic,First Owner,23.95,998,67.1,5\\nHyundai,2010,210000,110000,Petrol,Individual,Manual,First Owner,20.36,1197,78.9,5\\nHyundai,2013,500000,87000,Diesel,Individual,Manual,Second Owner,22.32,1582,126.32,5\\nJaguar,2017,2711000,9000,Diesel,Dealer,Automatic,First Owner,13.6,1999,177,5\\nLexus,2019,5150000,20000,Petrol,Dealer,Automatic,First Owner,22.37,2487,214.56,5\\nJaguar,2017,3200000,45000,Diesel,Dealer,Automatic,First Owner,19.33,1999,177,5\\nTata,2015,503000,110000,Diesel,Individual,Manual,First Owner,14.1,2179,147.94,7\\nVolvo,2019,3800000,20000,Diesel,Individual,Automatic,First Owner,18,1969,190,5\\nToyota,2016,2000000,68089,Petrol,Trustmark Dealer,Automatic,First Owner,19.16,2494,157.7,5\\nMaruti,2013,225000,58343,Petrol,Trustmark Dealer,Manual,First Owner,21.79,998,67.05,5\\nMaruti,2018,740000,38817,Diesel,Dealer,Manual,First Owner,27.39,1248,74,5\\nHonda,2016,550000,56494,Petrol,Trustmark Dealer,Manual,First Owner,18.2,1199,88.7,5\\nToyota,2013,750000,79328,Diesel,Trustmark Dealer,Manual,Second Owner,12.99,2494,100.6,7\\nMaruti,2019,650000,5621,Petrol,Trustmark Dealer,Automatic,First Owner,22,1197,81.8,5\\nToyota,2017,625000,25538,Petrol,Trustmark Dealer,Manual,First Owner,16.78,1496,88.73,5\\nMaruti,2018,600000,69779,Petrol,Dealer,Automatic,First Owner,22,1197,81.8,5\\nHyundai,2017,450000,56290,Diesel,Dealer,Manual,First Owner,24,1186,73.97,5\\nBMW,2019,5400000,7500,Diesel,Dealer,Automatic,First Owner,16.78,1995,190,5\\nBMW,2019,5500000,8500,Diesel,Dealer,Automatic,First Owner,16.78,1995,190,5\\nHonda,2019,779000,7032,Petrol,Trustmark Dealer,Automatic,First Owner,19,1199,88.76,5\\nSkoda,2016,645000,11000,Petrol,Dealer,Automatic,First Owner,14.3,1598,103.5,5\\nVolvo,2018,2475000,2000,Diesel,Dealer,Automatic,First Owner,16.8,1984,150,5\\nMaruti,2017,735000,70000,Diesel,Individual,Manual,First Owner,27.39,1248,74,5\\nTata,2017,550000,120000,Petrol,Individual,Manual,First Owner,17.57,1193,88.7,5\\nMaruti,2013,509999,148000,Diesel,Individual,Manual,First Owner,20.77,1248,88.8,7\\nHyundai,2013,459999,60000,Diesel,Individual,Manual,Second Owner,21.27,1396,88.76,5\\nMaruti,2015,310000,18000,Petrol,Individual,Manual,First Owner,22.74,796,47.3,5\\nTata,2018,775000,80000,Diesel,Individual,Manual,First Owner,22.95,1248,74,5\\nMaruti,2004,105000,96000,Petrol,Individual,Manual,Third Owner,19.7,796,46.3,5\\nHonda,2015,430000,97000,Diesel,Individual,Manual,Second Owner,25.8,1498,98.6,5\\nHyundai,2013,360000,210000,Diesel,Individual,Manual,Third Owner,21.9,1396,88.76,5\\nVolkswagen,2012,400000,60000,Diesel,Individual,Manual,Third Owner,20.5,1598,105,5\\nMaruti,2014,600000,90000,Diesel,Individual,Manual,First Owner,23.4,1248,74,5\\nHonda,2019,580000,35000,Petrol,Individual,Manual,First Owner,17.5,1199,88.7,5\\nMahindra,2012,140000,120000,Diesel,Individual,Manual,Second Owner,21.03,1461,65,5\\nTata,2008,210000,100000,Diesel,Individual,Manual,First Owner,19.61,1405,70,5\\nHyundai,2017,550000,20000,Petrol,Individual,Manual,First Owner,18.9,1197,82,5\\nChevrolet,2013,120000,110000,Petrol,Individual,Manual,Second Owner,18.2,1199,84.8,5\\nToyota,2013,400000,35000,Diesel,Individual,Manual,First Owner,12.99,2494,100.6,7\\nHonda,2018,1035000,15000,Diesel,Individual,Manual,First Owner,25.5,1498,98.6,5\\nMaruti,2015,625000,90000,Diesel,Individual,Manual,First Owner,26.21,1248,88.5,5\\nHyundai,2008,200000,40000,Petrol,Individual,Manual,First Owner,20.36,1197,78.9,5\\nTata,2013,316000,140000,Diesel,Individual,Manual,First Owner,21.02,1248,88.76,5\\nMaruti,2017,813000,110000,Diesel,Individual,Manual,First Owner,24.3,1248,88.5,5\\nToyota,2016,1575000,55000,Diesel,Individual,Automatic,First Owner,11.36,2755,171.5,7\\nToyota,2013,900000,73000,Diesel,Individual,Manual,First Owner,12.99,2494,100,8\\nMaruti,2015,650000,100000,Diesel,Individual,Manual,First Owner,20.77,1248,88.76,7\\nFord,2015,459999,32000,Diesel,Individual,Manual,Second Owner,25.83,1498,99,5\\nNissan,2012,290000,112072,Diesel,Individual,Manual,First Owner,21.64,1461,84.8,5\\nFord,2014,400000,30000,Diesel,Individual,Manual,First Owner,20,1399,68.05,5\\nMaruti,2016,565000,70000,Diesel,Individual,Manual,Second Owner,25.2,1248,74,5\\nVolkswagen,2011,2150000,50000,Diesel,Individual,Manual,Second Owner,,,,\\nChevrolet,2009,150000,80000,Petrol,Individual,Manual,Second Owner,18,995,62,5\\nBMW,2007,480000,110000,Diesel,Individual,Automatic,Fourth & Above Owner,16.07,1995,181,5\\nMaruti,2007,70000,80000,Petrol,Individual,Manual,Second Owner,18.2,1061,64,5\\nMaruti,2007,70000,80000,Petrol,Individual,Manual,Second Owner,18.2,1061,64,5\\nMercedes-Benz,2011,1190000,80000,Petrol,Individual,Automatic,Second Owner,10.93,2497,204,5\\nHyundai,2006,140000,100000,Petrol,Individual,Manual,Second Owner,,,,\\nFord,2018,900000,19000,Diesel,Individual,Manual,First Owner,23,1498,98.96,5\\nHyundai,2015,600000,40000,Diesel,Individual,Manual,First Owner,22.54,1396,88.73,5\\nMahindra,2015,1100000,52269,Diesel,Individual,Manual,First Owner,15.4,2179,120,7\\nMaruti,2010,120000,170000,LPG,Individual,Manual,Second Owner,10.9,796,32.8,5\\nMaruti,2009,120000,140000,Petrol,Individual,Manual,First Owner,,,,\\nMaruti,2010,120000,170000,Petrol,Individual,Manual,Second Owner,,,,\\nHyundai,2009,229999,60000,Petrol,Individual,Manual,Third Owner,18.5,1197,80,5\\nHonda,2017,570000,15780,Petrol,Individual,Manual,First Owner,17.8,1198,86.7,5\\nHyundai,2014,575000,106000,Diesel,Individual,Manual,First Owner,22.32,1582,126.32,5\\nVolkswagen,2012,280000,80000,Diesel,Individual,Manual,Third Owner,20.54,1598,103.6,5\\nHyundai,2015,580000,74000,Diesel,Individual,Manual,Second Owner,21.19,1396,88.73,5\\nMaruti,2018,875000,35000,Diesel,Individual,Manual,Second Owner,25.47,1248,88.5,7\\nHyundai,2013,500000,70000,Diesel,Individual,Manual,Third Owner,22.32,1582,126.32,5\\nMaruti,2015,700000,60000,Diesel,Individual,Manual,First Owner,26.21,1248,88.5,5\\nFord,2016,388000,50000,Petrol,Individual,Manual,Second Owner,18.16,1196,86.8,5\\nHyundai,2011,225000,80000,Petrol,Individual,Manual,Second Owner,20.36,1197,78.9,5\\nTata,2011,90000,90000,Petrol,Individual,Manual,Second Owner,15.64,1193,64.08,5\\nRenault,2014,600000,114000,Diesel,Individual,Manual,First Owner,19.01,1461,108.45,5\\nHyundai,2009,235000,100000,Petrol,Individual,Manual,First Owner,18.5,1197,80,5\\nHyundai,2011,350000,100000,Diesel,Individual,Manual,Second Owner,23,1396,90,5\\nHyundai,2011,235000,80000,Petrol,Individual,Manual,Second Owner,20.36,1197,78.9,5\\nMaruti,2010,190000,35000,Petrol,Individual,Manual,First Owner,19.7,796,46.3,5\\nTata,2011,325000,79000,Diesel,Individual,Manual,First Owner,21.12,1248,88.8,5\\nHyundai,2007,550000,2360457,Petrol,Individual,Manual,Second Owner,18.6,1197,81.83,5\\nVolkswagen,2011,300000,120000,Diesel,Individual,Manual,Third Owner,20.54,1598,103.6,5\\nTata,2017,550000,10000,Petrol,Individual,Manual,First Owner,20.3,1199,84,5\\nMahindra,2013,720000,150000,Diesel,Individual,Manual,Second Owner,15.1,2179,140,7\\nNissan,2011,110000,110000,Petrol,Individual,Manual,First Owner,18.06,1198,75,5\\nMaruti,2018,310000,10000,Petrol,Individual,Manual,First Owner,24.7,796,47.3,5\\nMaruti,2010,150000,70000,LPG,Individual,Manual,Second Owner,26.2,998,58.2,5\\nTata,2012,260000,46000,Diesel,Individual,Manual,First Owner,19.4,1405,70,5\\nHyundai,2002,55000,120000,Petrol,Individual,Manual,Fourth & Above Owner,13.2,1495,94,5\\nMaruti,2013,450000,108800,Diesel,Individual,Manual,Third Owner,22.9,1248,74,5\\nHyundai,2009,199000,70000,Petrol,Individual,Manual,Second Owner,20.36,1197,78.9,5\\nMahindra,2018,1000000,35000,Diesel,Individual,Manual,First Owner,15.4,2523,75,7\\nFord,2011,240000,72000,Diesel,Individual,Manual,First Owner,20,1399,68,5\\nRenault,2018,350000,40000,Petrol,Individual,Manual,First Owner,25.17,799,53.3,5\\nMahindra,2014,530000,120000,Diesel,Individual,Manual,Third Owner,15.96,2523,62.1,7\\nChevrolet,2011,150000,35000,Petrol,Individual,Manual,First Owner,18,995,62,5\\nHyundai,2019,625000,12500,Petrol,Individual,Manual,First Owner,18.6,1197,81.86,5\\nHyundai,2014,378000,80000,Petrol,Individual,Manual,First Owner,18.9,1197,82,5\\nRenault,2015,210000,210000,Petrol,Individual,Manual,Second Owner,25.17,799,53.3,5\\nMaruti,2018,700000,100000,Diesel,Individual,Manual,Second Owner,28.4,1248,74.02,5\\nHyundai,2011,156000,110000,Petrol,Individual,Manual,Second Owner,17.92,1086,62.1,5\\nMahindra,2016,700000,103000,Diesel,Individual,Manual,First Owner,16.5,1493,70,7\\nMaruti,2010,194000,577414,Petrol,Individual,Manual,Second Owner,18.9,1061,67,5\\nMaruti,2006,120000,100000,Petrol,Individual,Manual,Second Owner,19.7,796,46.3,5\\nHonda,2015,415000,45000,Petrol,Individual,Automatic,First Owner,15.5,1198,86.7,5\\nHonda,2015,450000,45000,Petrol,Individual,Automatic,First Owner,15.5,1198,86.7,5\\nHonda,2014,325000,40000,Petrol,Individual,Manual,Third Owner,19.4,1198,86.8,5\\nMahindra,2014,525000,200000,Diesel,Individual,Manual,First Owner,15.96,2523,62.1,9\\nHyundai,2017,265000,100000,Petrol,Individual,Manual,First Owner,21.1,814,55.2,5\\nMaruti,2008,100000,120000,Petrol,Individual,Manual,Second Owner,19.7,796,35,8\\nJaguar,2017,2711000,9000,Diesel,Dealer,Automatic,First Owner,13.6,1999,177,5\\nLexus,2019,5150000,20000,Petrol,Dealer,Automatic,First Owner,22.37,2487,214.56,5\\nJaguar,2017,3200000,45000,Diesel,Dealer,Automatic,First Owner,19.33,1999,177,5\\nTata,2015,503000,110000,Diesel,Individual,Manual,First Owner,14.1,2179,147.94,7\\nVolvo,2019,3800000,20000,Diesel,Individual,Automatic,First Owner,18,1969,190,5\\nToyota,2016,2000000,68089,Petrol,Trustmark Dealer,Automatic,First Owner,19.16,2494,157.7,5\\nMaruti,2013,225000,58343,Petrol,Trustmark Dealer,Manual,First Owner,21.79,998,67.05,5\\nMaruti,2018,740000,38817,Diesel,Dealer,Manual,First Owner,27.39,1248,74,5\\nHonda,2016,550000,56494,Petrol,Trustmark Dealer,Manual,First Owner,18.2,1199,88.7,5\\nToyota,2013,750000,79328,Diesel,Trustmark Dealer,Manual,Second Owner,12.99,2494,100.6,7\\nMaruti,2019,650000,5621,Petrol,Trustmark Dealer,Automatic,First Owner,22,1197,81.8,5\\nToyota,2017,625000,25538,Petrol,Trustmark Dealer,Manual,First Owner,16.78,1496,88.73,5\\nMaruti,2018,600000,69779,Petrol,Dealer,Automatic,First Owner,22,1197,81.8,5\\nHyundai,2017,450000,56290,Diesel,Dealer,Manual,First Owner,24,1186,73.97,5\\nBMW,2019,5400000,7500,Diesel,Dealer,Automatic,First Owner,16.78,1995,190,5\\nBMW,2019,5500000,8500,Diesel,Dealer,Automatic,First Owner,16.78,1995,190,5\\nHonda,2019,779000,7032,Petrol,Trustmark Dealer,Automatic,First Owner,19,1199,88.76,5\\nSkoda,2016,645000,11000,Petrol,Dealer,Automatic,First Owner,14.3,1598,103.5,5\\nVolvo,2018,2475000,2000,Diesel,Dealer,Automatic,First Owner,16.8,1984,150,5\\nTata,2015,400000,100000,Diesel,Individual,Manual,First Owner,23,1248,88.7,5\\nHyundai,2013,345000,40000,Diesel,Individual,Manual,First Owner,21.9,1396,88.8,5\\nMahindra,2018,850000,15000,Diesel,Individual,Manual,Second Owner,16.55,2498,105,6\\nMaruti,2018,620000,15000,Petrol,Individual,Automatic,First Owner,20.89,1197,81.8,5\\nMaruti,2018,700000,10000,Petrol,Individual,Manual,Second Owner,21.4,1197,83.1,5\\nTata,2012,200000,90000,Diesel,Individual,Manual,First Owner,22.3,1248,74,5\\nMahindra,2017,660000,80000,Diesel,Individual,Manual,First Owner,16.5,1493,70,7\\nMitsubishi,2015,1700000,39000,Diesel,Individual,Manual,First Owner,13.5,2477,175.56,7\\nTata,2009,90000,60000,Diesel,Individual,Manual,Second Owner,17.88,1396,52.8,5\\nMahindra,2015,1050000,28000,Diesel,Individual,Manual,Second Owner,15.1,2179,140,7\\nFord,2010,160000,90000,Petrol,Individual,Manual,Second Owner,15.6,1196,70,5\\nHonda,2006,150000,80000,Petrol,Individual,Manual,Third Owner,13.5,1799,130,5\\nMaruti,2010,200000,35000,Petrol,Individual,Manual,First Owner,19,998,67.1,5\\nToyota,2011,365000,185000,Diesel,Individual,Manual,Second Owner,21.43,1364,87.2,5\\nFiat,2009,140000,110000,Petrol,Individual,Manual,Second Owner,15.7,1172,67,5\\nFiat,2016,360000,100000,Diesel,Individual,Manual,First Owner,20.5,1248,91.72,5\\nHonda,2008,200000,110000,Petrol,Individual,Manual,Second Owner,17.7,1497,78,5\\nSkoda,2010,250000,100000,Diesel,Individual,Manual,Second Owner,17.5,1896,106,5\\nSkoda,2008,229999,110000,Diesel,Individual,Manual,Second Owner,17.5,1896,106,5\\nFord,2011,320000,130000,Diesel,Individual,Manual,Second Owner,17.8,1399,68,5\\nHyundai,2003,85000,68300,Petrol,Individual,Manual,Third Owner,,,,\\nHyundai,2018,1200000,27000,Petrol,Individual,Manual,First Owner,15.8,1591,121.3,5\\nMaruti,2018,740000,9000,Petrol,Individual,Automatic,First Owner,21.4,1197,83.1,5\\nHyundai,2013,345000,40000,Diesel,Individual,Manual,First Owner,21.9,1396,88.8,5\\nMaruti,2019,570000,19000,Petrol,Individual,Automatic,Second Owner,20.89,1197,81.8,5\\nMaruti,2019,490000,10000,Petrol,Individual,Manual,First Owner,20.52,1197,81.8,5\\nTata,2013,250000,100000,Diesel,Individual,Manual,First Owner,23.57,1396,70,5\\nMaruti,2017,430000,20000,Petrol,Individual,Automatic,First Owner,20.51,998,67,5\\nHyundai,2014,225000,35000,Petrol,Individual,Manual,First Owner,21.1,814,55.2,5\\nMahindra,2018,850000,15000,Diesel,Individual,Manual,Second Owner,16.55,2498,105,6\\nMaruti,2018,620000,15000,Petrol,Individual,Automatic,First Owner,20.89,1197,81.8,5\\nHyundai,2014,440000,70000,Diesel,Individual,Manual,Second Owner,22.54,1396,88.73,5\\nMaruti,2016,800000,70000,Diesel,Individual,Manual,First Owner,24.3,1248,88.5,5\\nMaruti,2018,700000,10000,Petrol,Individual,Manual,Second Owner,21.4,1197,83.1,5\\nMaruti,2016,600000,47000,Diesel,Individual,Manual,First Owner,25.2,1248,74,5\\nTata,2012,200000,90000,Diesel,Individual,Manual,First Owner,22.3,1248,74,5\\nMahindra,2017,660000,80000,Diesel,Individual,Manual,First Owner,16.5,1493,70,7\\nMitsubishi,2015,1700000,39000,Diesel,Individual,Manual,First Owner,13.5,2477,175.56,7\\nHyundai,2015,450000,53000,Diesel,Individual,Manual,First Owner,24,1120,70,5\\nMaruti,2013,420000,105000,Diesel,Individual,Manual,Second Owner,23.4,1248,74,5\\nToyota,2011,500000,121941,Diesel,Dealer,Manual,First Owner,12.8,2494,102,8\\nTata,2016,350000,15000,Petrol,Individual,Manual,First Owner,23.84,1199,84,5\\nMahindra,2014,280000,100000,Diesel,Individual,Manual,First Owner,14,2489,95,8\\nRenault,2013,425000,152186,Diesel,Dealer,Manual,Second Owner,20.45,1461,83.8,5\\nHyundai,2013,295000,82246,Petrol,Dealer,Manual,First Owner,20.36,1197,78.9,5\\nMaruti,2016,540000,20000,Petrol,Individual,Manual,First Owner,20.4,1197,81.8,5\\nMaruti,2017,754000,40000,Diesel,Individual,Manual,First Owner,28.4,1248,74.02,5\\nToyota,2011,650000,89580,Diesel,Dealer,Manual,Second Owner,12.8,2494,102,8\\nToyota,2011,550000,250000,Diesel,Individual,Manual,Second Owner,12.8,2494,102,7\\nToyota,2011,550000,250000,Diesel,Individual,Manual,Second Owner,12.8,2494,102,7\\nFord,2019,675000,2789,Petrol,Dealer,Manual,First Owner,18.16,1196,86.8,5\\nFord,2018,700000,35278,Diesel,Dealer,Manual,First Owner,23.8,1499,98.97,5\\nFord,2018,795000,2860,Diesel,Dealer,Manual,First Owner,23.8,1499,98.97,5\\nToyota,2010,515000,200000,Diesel,Individual,Manual,First Owner,12.8,2494,102,7\\nMahindra,2018,450000,20000,Petrol,Individual,Manual,First Owner,18.15,1198,82,6\\nHyundai,2008,155000,60000,Petrol,Individual,Manual,Third Owner,15,1086,66.6,5\\nToyota,2011,350000,100000,Diesel,Individual,Manual,Second Owner,23.59,1364,67.1,5\\nFord,2011,250000,78562,Diesel,Dealer,Manual,First Owner,20,1399,68,5\\nHyundai,2011,450000,96000,Diesel,Individual,Manual,Fourth & Above Owner,22.32,1582,126.32,5\\nHyundai,2011,450000,96000,Diesel,Individual,Manual,Fourth & Above Owner,22.32,1582,126.32,5\\nMaruti,2003,55599,36088,Petrol,Individual,Manual,First Owner,16.1,796,37,4\\nHyundai,2014,420000,50000,Diesel,Individual,Manual,First Owner,22.54,1396,88.73,5\\nToyota,2012,315000,100000,Diesel,Individual,Manual,First Owner,,,,\\nMaruti,2018,750000,40000,Diesel,Individual,Manual,First Owner,25.1,1248,88.5,5\\nDatsun,2020,450000,10000,Petrol,Individual,Manual,First Owner,19.02,1198,67.05,5\\nMaruti,2008,175000,60000,Diesel,Individual,Manual,Second Owner,17.8,1248,75,5\\nHyundai,2019,650000,10000,Petrol,Individual,Manual,First Owner,17.19,1197,81.86,5\\nMaruti,2018,1050000,10000,Diesel,Individual,Manual,First Owner,25.47,1248,88.5,7\\nHyundai,2011,375000,35000,Diesel,Individual,Manual,Second Owner,22.32,1582,126.32,5\\nHyundai,2014,1100000,80000,Diesel,Individual,Manual,First Owner,14.74,2199,194.3,7\\nMahindra,2019,1550000,28000,Diesel,Individual,Manual,First Owner,15.1,2179,152.87,7\\nFord,2017,620000,35000,Diesel,Individual,Manual,First Owner,24.29,1498,99,5\\nJeep,2017,1511000,32000,Diesel,Individual,Manual,First Owner,16.3,1956,170,5\\nMaruti,2003,135000,40000,Petrol,Individual,Manual,First Owner,18.9,998,67.1,5\\nHyundai,2011,375000,35000,Diesel,Individual,Manual,Second Owner,22.32,1582,126.32,5\\nRenault,2019,320000,10000,Petrol,Individual,Manual,First Owner,25.17,799,53.3,5\\nMahindra,2019,1650000,25000,Diesel,Individual,Automatic,Second Owner,15.1,2179,152.87,7\\nMaruti,2016,320000,50000,Petrol,Individual,Manual,First Owner,23.95,998,67.05,5\\nMaruti,2012,400000,129000,Diesel,Individual,Manual,First Owner,19.3,1248,73.9,5\\nMahindra,2015,900000,100000,Diesel,Individual,Automatic,Second Owner,16,2179,140,7\\nMaruti,2018,310000,30000,Petrol,Individual,Manual,First Owner,24.7,796,47.3,5\\nTata,2018,595000,28000,Petrol,Individual,Manual,Second Owner,17,1198,108.5,5\\nMaruti,2017,800000,60000,Diesel,Individual,Manual,First Owner,23.65,1248,88.5,5\\nMahindra,2013,350000,70000,Petrol,Individual,Manual,First Owner,13.87,1598,86,5\\nTata,2013,275000,110000,Diesel,Individual,Manual,First Owner,19.1,1405,70,5\\nMaruti,2019,420000,10000,Petrol,Individual,Manual,First Owner,15.37,1196,73,5\\nHyundai,2008,250000,110000,Diesel,Individual,Manual,Second Owner,18.1,1493,110,5\\nMaruti,2007,250000,100000,Diesel,Individual,Manual,Second Owner,17.8,1248,75,5\\nMahindra,2008,290000,120000,Diesel,Individual,Manual,Second Owner,12.05,2179,120,8\\nHyundai,2016,525000,60000,Petrol,Individual,Automatic,First Owner,16.9,1197,82,5\\nMahindra,2008,250000,110000,Diesel,Individual,Manual,Third Owner,10.5,2609,120,7\\nHyundai,2007,90000,64000,Petrol,Individual,Manual,First Owner,,,,\\nMaruti,2017,430000,10000,Petrol,Individual,Manual,First Owner,23.1,998,67.04,5\\nMaruti,2017,630000,35000,Petrol,Individual,Manual,First Owner,21.4,1197,83.1,5\\nTata,2018,550000,23000,Petrol,Individual,Manual,First Owner,20.3,1199,84,5\\nMaruti,2019,630000,15000,Diesel,Individual,Manual,Second Owner,28.4,1248,74,5\\nMahindra,2018,850000,20000,Diesel,Individual,Manual,First Owner,18.49,2179,120,9\\nMahindra,2011,455000,90000,Diesel,Individual,Manual,First Owner,13.6,2523,63,7\\nMahindra,2011,445000,90000,Diesel,Individual,Manual,First Owner,13.6,2523,63,7\\nHyundai,2013,370000,80000,Diesel,Individual,Manual,First Owner,21.9,1396,88.76,5\\nHyundai,2016,500000,50000,Petrol,Individual,Manual,First Owner,18.9,1197,82,5\\nTata,2005,95000,50000,Diesel,Individual,Manual,Second Owner,,,,\\nTata,2012,140000,185000,Diesel,Individual,Manual,Second Owner,19.4,1405,70,5\\nMaruti,2019,550000,40000,Petrol,Individual,Manual,First Owner,21.21,1197,81.8,5\\nRenault,2017,300000,30000,Petrol,Individual,Manual,First Owner,23.01,999,67,5\\nTata,2011,150000,120000,Diesel,Individual,Manual,First Owner,23.03,1396,69,5\\nMaruti,2011,229999,500000,Petrol,Individual,Manual,Second Owner,18.9,998,67.1,5\\nMahindra,2017,880000,46000,Diesel,Individual,Manual,First Owner,15.4,2179,120,7\\nToyota,2011,900000,120000,Diesel,Individual,Manual,First Owner,11.5,2982,171,7\\nMahindra,2015,720000,80000,Diesel,Individual,Manual,First Owner,15.4,2523,75,9\\nHyundai,2016,550000,90000,Diesel,Individual,Manual,Second Owner,22.54,1396,88.73,5\\nMahindra,2015,720000,90000,Diesel,Individual,Manual,First Owner,15.4,2523,75,9\\nHyundai,2006,70000,80000,Petrol,Individual,Manual,Second Owner,,,,\\nMaruti,2016,535000,70000,Diesel,Individual,Manual,First Owner,25.2,1248,74,5\\nHyundai,2015,320000,91000,Diesel,Individual,Manual,Third Owner,24.4,1120,71,5\\nHyundai,2015,500000,90000,Diesel,Individual,Manual,First Owner,22.54,1396,88.73,5\\nMaruti,2014,525000,110000,Diesel,Individual,Manual,Second Owner,20.77,1248,88.76,7\\nRenault,2019,220000,90000,Petrol,Individual,Manual,First Owner,23.01,999,67,5\\nTata,2018,350000,50000,Petrol,Individual,Manual,First Owner,23.84,1199,84,5\\nMahindra,2016,530000,60000,Diesel,Individual,Manual,First Owner,18.49,1493,100,7\\nMaruti,2013,215000,35000,Petrol,Individual,Manual,First Owner,22.74,796,47.3,5\\nVolkswagen,2012,335000,100000,Diesel,Individual,Manual,First Owner,20.54,1598,103.6,5\\nHyundai,2015,320000,90000,Diesel,Individual,Manual,Second Owner,24.4,1120,71,5\\nFord,2011,135000,120000,Diesel,Individual,Manual,Second Owner,20,1399,68,5\\nMaruti,2009,175000,95000,Petrol,Individual,Manual,Second Owner,19,998,66.1,5\\nMahindra,2017,800000,35000,Diesel,Individual,Manual,First Owner,15.96,2523,62.1,7\\nTata,2007,78000,38000,Petrol,Individual,Manual,Second Owner,15.3,1193,65.3,5\\nHonda,2014,565000,56000,Petrol,Individual,Manual,Second Owner,17.4,1497,117.3,5\\nHyundai,2017,575000,50000,Diesel,Individual,Manual,First Owner,22.54,1396,88.73,5\\nHyundai,2014,170000,70000,Petrol,Individual,Manual,Second Owner,21.1,814,55.2,5\\nMaruti,2014,250999,30000,Petrol,Individual,Manual,First Owner,22.74,796,47.3,5\\nMahindra,2015,950000,188000,Diesel,Individual,Manual,First Owner,16,2179,140,7\\nHonda,2014,650000,60000,Petrol,Individual,Manual,First Owner,17.8,1497,117.3,5\\nTata,2013,550000,133000,Diesel,Individual,Manual,First Owner,14,2179,138.1,7\\nToyota,2010,650000,160000,Diesel,Individual,Manual,First Owner,12.8,2494,102,7\\nMahindra,2013,800000,150000,Diesel,Individual,Manual,Second Owner,15.1,2179,140,7\\nMaruti,2020,250999,30000,Petrol,Individual,Manual,First Owner,22.05,796,47.3,5\\nMaruti,2013,170000,60000,Petrol,Individual,Manual,Second Owner,22.74,796,47.3,5\\nTata,2013,250000,30000,Diesel,Individual,Manual,First Owner,19.09,1396,69,5\\nChevrolet,2014,312000,80000,Petrol,Individual,Manual,First Owner,13.7,1399,98.82,7\\nMaruti,2014,250000,20000,Petrol,Individual,Manual,First Owner,22.74,796,47.3,5\\nHyundai,2013,200000,80000,Petrol,Individual,Manual,First Owner,21.1,814,55.2,5\\nMahindra,2016,670000,73000,Diesel,Individual,Manual,First Owner,15.4,2523,75,7\\nHyundai,2017,270000,50000,Petrol,Individual,Manual,First Owner,21.1,814,55.2,5\\nMahindra,2012,360000,200000,Diesel,Individual,Manual,First Owner,15.96,2523,62.1,7\\nMaruti,2018,630000,46000,Diesel,Individual,Manual,First Owner,28.4,1248,74,5\\nMaruti,2003,55599,36088,Petrol,Individual,Manual,First Owner,16.1,796,37,4\\nMahindra,2018,400000,50000,Diesel,Individual,Manual,First Owner,23.5,909,45,8\\nHyundai,2014,420000,50000,Diesel,Individual,Manual,First Owner,22.54,1396,88.73,5\\nMaruti,2018,764000,25000,Petrol,Individual,Manual,First Owner,20.73,1373,91.1,5\\nMahindra,2019,710000,30000,Diesel,Individual,Manual,First Owner,15.96,2523,62.1,7\\nTata,2018,1575000,30000,Diesel,Individual,Manual,First Owner,17.6,2179,153.86,7\\nForce,2018,1050000,13000,Diesel,Individual,Manual,First Owner,17,2200,139.01,7\\nMaruti,2019,1000000,15000,Petrol,Individual,Manual,First Owner,19.01,1462,103.2,6\\nMaruti,2017,650000,44000,Diesel,Dealer,Manual,First Owner,23.65,1248,88.5,5\\nFord,2015,600000,63000,Diesel,Individual,Manual,First Owner,22.77,1498,98.59,5\\nMahindra,2016,509999,110000,Diesel,Individual,Manual,First Owner,18.49,1493,100,7\\nHyundai,2017,610000,14000,Petrol,Individual,Manual,First Owner,19.1,1197,82,5\\nMaruti,2017,310000,35000,Petrol,Individual,Manual,First Owner,24.7,796,47.3,5\\nMahindra,2016,720000,35000,Diesel,Individual,Manual,First Owner,15.96,2523,62.1,7\\nTata,2012,158000,110000,Diesel,Individual,Manual,Second Owner,19.09,1396,69,5\\nTata,2011,175000,85700,Diesel,Individual,Manual,Second Owner,17,1405,70,5\\nMaruti,2010,217000,120000,Diesel,Individual,Manual,First Owner,21.1,1248,73.9,5\\nHonda,2013,484999,50000,Diesel,Individual,Manual,First Owner,25.8,1498,98.6,5\\nToyota,2012,315000,100000,Diesel,Individual,Manual,First Owner,,,,\\nHyundai,2016,550000,35000,Diesel,Individual,Manual,First Owner,24.4,1120,71,5\\nMaruti,2012,280000,70000,Petrol,Individual,Manual,Second Owner,18.6,1197,85.8,5\\nFord,2013,350000,90000,Petrol,Individual,Manual,First Owner,14.09,1596,99.6,5\\nMahindra,2017,1150000,42000,Diesel,Individual,Manual,Second Owner,16,2179,140,7\\nHyundai,2016,420000,30000,Petrol,Individual,Manual,Second Owner,18.9,1197,82,5\\nMaruti,2017,810000,80000,Petrol,Individual,Manual,First Owner,20.73,1373,91.1,5\\nHyundai,2011,290000,90000,Petrol,Individual,Manual,Third Owner,17,1197,80,5\\nChevrolet,2012,180000,60000,Petrol,Individual,Manual,First Owner,18.6,1199,79.4,5\\nMaruti,2010,160000,162000,Petrol,Individual,Manual,First Owner,15.37,1196,73,5\\nTata,2017,66000,70000,Petrol,Individual,Manual,Third Owner,23.9,624,37.48,4\\nMaruti,2015,369000,20000,Petrol,Individual,Manual,Second Owner,20.51,998,67.04,5\\nTata,2012,300000,80000,Diesel,Individual,Manual,Second Owner,13.93,2179,138.1,7\\nMahindra,2008,350000,90000,Diesel,Individual,Manual,First Owner,13.6,2523,63,7\\nHyundai,2008,220000,120000,Petrol,Individual,Automatic,Second Owner,19.2,1197,80,5\\nChevrolet,2005,160000,220000,Diesel,Individual,Manual,First Owner,14.8,2499,80,10\\nMaruti,2009,221000,100000,Diesel,Individual,Manual,Second Owner,17.8,1248,75,5\\nTata,2017,400000,35000,Petrol,Individual,Manual,First Owner,17.57,1193,88.7,5\\nToyota,2004,250000,120000,Petrol,Individual,Manual,Second Owner,13.4,2362,164.7,5\\nMahindra,2011,390000,120000,Diesel,Individual,Manual,Fourth & Above Owner,13.6,2523,63,7\\nMaruti,2012,190000,110000,Petrol,Individual,Manual,First Owner,15.37,1196,73,5\\nRenault,2017,300000,60000,Petrol,Individual,Manual,First Owner,25.17,799,53.3,5\\nHyundai,2017,750000,27000,Diesel,Individual,Manual,First Owner,22.54,1396,88.73,5\\nMaruti,2016,650000,50000,Diesel,Individual,Manual,First Owner,26.59,1248,74,5\\nHonda,2018,635000,40000,Petrol,Individual,Manual,First Owner,17.8,1198,86.7,5\\nHyundai,2013,520000,88000,Diesel,Individual,Manual,Second Owner,22.32,1582,126.32,5\\nMahindra,2020,1500000,50000,Diesel,Individual,Manual,First Owner,16.36,2179,140,7\\nHyundai,2012,415000,80000,Diesel,Individual,Manual,Second Owner,22.32,1582,126.32,5\\nHyundai,2019,700000,60000,Diesel,Individual,Manual,First Owner,22.54,1396,88.76,5\\nMaruti,2017,484999,26000,Petrol,Individual,Manual,Second Owner,21.21,1197,81.8,5\\nFord,2007,120000,80000,Petrol,Individual,Manual,Second Owner,16.6,1388,68,5\\nHyundai,2014,220000,60000,Petrol,Individual,Manual,Second Owner,21.1,814,55.2,5\\nHyundai,2014,320000,80000,Petrol,Individual,Manual,Second Owner,20.36,1197,78.9,5\\nMaruti,2011,375000,90000,Diesel,Individual,Manual,Second Owner,22.9,1248,74,5\\nHyundai,2012,440000,80000,Diesel,Individual,Manual,Second Owner,22.32,1582,126.32,5\\nHyundai,2019,550000,15000,Petrol,Individual,Automatic,First Owner,18.9,1197,81.86,5\\nMaruti,2017,640000,35000,Diesel,Individual,Manual,Second Owner,25.2,1248,74,5\\nToyota,2014,420000,120000,Diesel,Individual,Manual,First Owner,23.59,1364,67.04,5\\nHyundai,2016,330000,63000,Diesel,Individual,Manual,Third Owner,24,1120,70,5\\nVolkswagen,2019,800000,25000,Diesel,Individual,Manual,First Owner,21.66,1498,108.62,5\\nMaruti,2011,240000,64500,Petrol,Individual,Manual,First Owner,18.9,998,67.1,5\\nMahindra,2016,360000,100000,Diesel,Individual,Manual,Second Owner,25.32,1198,77,6\\nHyundai,2017,750000,40000,Diesel,Individual,Manual,First Owner,23.9,1582,126.2,5\\nHyundai,2017,570000,15000,Petrol,Individual,Manual,Second Owner,18.6,1197,81.83,5\\nToyota,2015,450000,25000,Diesel,Individual,Manual,First Owner,23.59,1364,67.04,5\\nMaruti,2016,270000,82000,Petrol,Individual,Manual,Third Owner,18.5,1197,85.8,5\\nMaruti,2012,459999,87000,Diesel,Individual,Manual,First Owner,20.77,1248,88.76,7\\nMaruti,2015,240000,80000,Petrol,Individual,Manual,Second Owner,23.95,998,67.05,5\\nRenault,2012,320000,110000,Diesel,Individual,Manual,Third Owner,19.01,1461,108.45,5\\nTata,2011,149000,148000,Diesel,Individual,Manual,Second Owner,21.12,1248,88.8,5\\nMahindra,2018,1500000,40000,Diesel,Individual,Manual,First Owner,16.36,2179,140,7\\nHyundai,2011,180000,70000,Petrol,Individual,Manual,First Owner,16.36,1495,93.7,5\\nHyundai,2012,185000,70000,LPG,Individual,Manual,Second Owner,13.45,1086,62.1,5\\nMaruti,2008,65000,40000,Petrol,Individual,Manual,Second Owner,16.1,796,37,4\\nTata,2010,130000,120000,Diesel,Individual,Manual,First Owner,17,1405,70,5\\nFord,2012,330000,60000,Diesel,Individual,Manual,First Owner,17.8,1399,67,5\\nTata,2011,190000,90000,Diesel,Dealer,Manual,First Owner,18.8,1248,90,5\\nMaruti,2014,501000,68000,Diesel,Dealer,Manual,First Owner,22.9,1248,74,5\\nHonda,2017,600000,24500,Diesel,Dealer,Manual,First Owner,25.8,1498,98.6,5\\nMahindra,2012,570000,77000,Diesel,Dealer,Manual,Second Owner,15.1,2179,140,7\\nHonda,2015,450000,85000,Diesel,Dealer,Manual,First Owner,25.8,1498,98.6,5\\nToyota,2011,285000,45500,Petrol,Dealer,Manual,First Owner,16.78,1496,88.73,5\\nMaruti,2014,490000,67000,Diesel,Dealer,Manual,First Owner,28.4,1248,74,5\\nMaruti,2014,500000,77000,Diesel,Dealer,Manual,First Owner,28.4,1248,74,5\\nHyundai,2016,275000,47000,Petrol,Dealer,Manual,First Owner,21.1,814,55.2,5\\nTata,2017,440000,57000,Petrol,Dealer,Manual,First Owner,23.84,1199,84.48,5\\nHyundai,2018,825000,71500,Diesel,Dealer,Manual,First Owner,22.54,1396,88.73,5\\nToyota,2012,411000,110000,Diesel,Dealer,Manual,First Owner,23.59,1364,67.04,5\\nMaruti,2013,470000,82000,Diesel,Dealer,Manual,Second Owner,26.59,1248,74,5\\nMaruti,2013,445000,70000,Diesel,Dealer,Manual,Second Owner,28.4,1248,74,5\\nMaruti,2017,752000,28000,Diesel,Dealer,Manual,First Owner,27.39,1248,74,5\\nSkoda,2016,650000,125000,Diesel,Dealer,Manual,Second Owner,21.14,1498,103.52,5\\nMaruti,2013,450000,67000,Diesel,Dealer,Manual,Second Owner,28.4,1248,74,5\\nHonda,2011,350000,93500,Petrol,Dealer,Manual,Third Owner,17,1497,118,5\\nMaruti,2012,511000,8500,Petrol,Dealer,Manual,First Owner,22,1197,81.8,5\\nMaruti,2016,700000,80000,Diesel,Dealer,Manual,First Owner,27.39,1248,74,5\\nToyota,2016,1800000,30000,Diesel,Individual,Automatic,First Owner,11.36,2755,171.5,7\\nFord,2018,550000,14200,Petrol,Individual,Manual,First Owner,18.16,1196,86.8,5\\nFord,2007,142000,97000,Petrol,Individual,Manual,First Owner,16.6,1388,68,5\\nTata,2012,725000,90000,Diesel,Individual,Manual,First Owner,13.93,2179,138,7\\nHyundai,2017,630000,30000,Petrol,Individual,Manual,First Owner,18.6,1197,81.83,5\\nHyundai,2015,480000,50000,Petrol,Individual,Manual,First Owner,18.6,1197,81.83,5\\nMaruti,2016,330000,30000,Petrol,Individual,Manual,First Owner,23.95,998,67.05,5\\nMaruti,2017,500000,20000,Petrol,Individual,Manual,First Owner,11.96,1298,80,8\\nVolkswagen,2012,300000,60300,Diesel,Individual,Manual,First Owner,22.07,1199,73.9,5\\nTata,2015,400000,35000,Diesel,Individual,Manual,First Owner,23,1248,88.7,5\\nTata,2011,320000,80000,Diesel,Individual,Manual,First Owner,13.93,2179,138.03,7\\nHyundai,2008,180000,44391,Petrol,Individual,Manual,Second Owner,19.81,1086,68.05,5\\nMaruti,2016,530000,58000,Diesel,Individual,Manual,First Owner,27.39,1248,74,5\\nMahindra,2015,600000,40000,Diesel,Individual,Manual,First Owner,15.96,2523,62.1,7\\nMaruti,2017,780000,66000,Diesel,Individual,Manual,Second Owner,24.52,1248,88.5,7\\nHonda,2016,700000,110000,Diesel,Individual,Manual,First Owner,26,1498,98.6,5\\nChevrolet,2013,175000,56315,Diesel,Individual,Manual,First Owner,25.44,936,57.6,5\\nMahindra,2017,735000,70000,Diesel,Individual,Manual,First Owner,16.5,1493,70,7\\nToyota,2013,325000,120000,Diesel,Individual,Manual,First Owner,23.59,1364,67.06,5\\nChevrolet,2006,225000,100000,Diesel,Individual,Manual,First Owner,14.8,2499,80,10\\nTata,2015,350000,90000,Diesel,Individual,Manual,Second Owner,23,1248,88.7,5\\nMaruti,2006,110000,120000,LPG,Individual,Manual,Third Owner,17.3,1061,57.5,5\\nMaruti,2007,85000,160000,Petrol,Individual,Manual,Fourth & Above Owner,18.2,998,67.1,5\\nToyota,2006,150000,100000,Petrol,Individual,Manual,Fourth & Above Owner,13.4,1794,125,5\\nMaruti,2009,225000,120000,Diesel,Individual,Manual,Third Owner,19.3,1248,73.9,5\\nTata,2010,111000,100000,Diesel,Individual,Manual,Second Owner,18,1248,75,5\\nMaruti,2007,150000,70000,Petrol,Individual,Manual,Third Owner,18.9,1061,67,5\\nHyundai,2017,300000,15151,Petrol,Individual,Manual,Second Owner,21.1,814,55.2,5\\nMahindra,2015,630000,60000,Diesel,Individual,Manual,First Owner,15.4,1997,120,7\\nHyundai,2011,206000,100000,Petrol,Individual,Manual,First Owner,19.81,1086,68.05,5\\nMaruti,2006,70000,110000,Petrol,Individual,Manual,Fourth & Above Owner,18.9,998,67.1,5\\nHyundai,2019,567000,7000,Petrol,Individual,Automatic,First Owner,18.9,1197,81.86,5\\nMaruti,2005,65000,35000,Petrol,Individual,Manual,First Owner,18.9,998,67.1,5\\nMaruti,2016,550000,60000,Diesel,Individual,Manual,Second Owner,26.59,1248,74,5\\nHyundai,2010,140000,70000,Petrol,Individual,Manual,Fourth & Above Owner,20.36,1197,78.9,5\\nRenault,2016,300000,30000,Petrol,Individual,Manual,First Owner,25.17,799,53.3,5\\nFord,2013,500000,70000,Petrol,Individual,Manual,Second Owner,15.85,1499,110.4,5\\nHyundai,2015,400000,128000,Petrol,Individual,Manual,First Owner,18.9,1197,82,5\\nMaruti,2011,340000,160000,Diesel,Individual,Manual,Second Owner,,,,\\nToyota,2012,850000,120000,Diesel,Individual,Manual,Second Owner,12.8,2494,102,8\\nMaruti,2014,570000,15000,Diesel,Individual,Manual,First Owner,25.2,1248,74,5\\nMaruti,2017,699000,60000,Diesel,Individual,Manual,First Owner,28.4,1248,74.02,5\\nHonda,2013,355000,80000,Petrol,Individual,Manual,First Owner,19.4,1198,86.8,5\\nMaruti,2016,690000,80000,Diesel,Individual,Manual,First Owner,26.59,1248,74,5\\nFord,2006,180000,114321,Diesel,Individual,Manual,Second Owner,17.8,1399,68,5\\nTata,2013,200000,120000,Diesel,Individual,Manual,First Owner,19.4,1405,70,5\\nMahindra,2012,575000,120000,Diesel,Individual,Manual,Second Owner,12.05,2179,120,8\\nToyota,2014,415000,146000,Diesel,Individual,Manual,First Owner,23.59,1364,67.06,5\\nHyundai,2012,350000,30000,LPG,Individual,Manual,First Owner,19.2,1086,68.05,5\\nHyundai,2017,350000,20000,Petrol,Individual,Manual,First Owner,21.1,814,55.2,5\\nToyota,2017,632000,150000,Diesel,Individual,Manual,First Owner,23.59,1364,67.05,5\\nMaruti,2014,325000,70000,CNG,Individual,Manual,Second Owner,21.94,1196,61.7,5\\nHyundai,2013,511000,90000,Petrol,Individual,Manual,Second Owner,16.3,1797,147.5,5\\nHonda,2010,300000,100000,Petrol,Individual,Manual,Third Owner,17,1497,118,5\\nMaruti,2005,70000,188000,Petrol,Individual,Manual,Fourth & Above Owner,18.9,998,67.1,5\\nHyundai,2008,180000,100000,Petrol,Individual,Manual,Third Owner,19.81,1086,68.05,5\\nJaguar,2017,2711000,9000,Diesel,Dealer,Automatic,First Owner,13.6,1999,177,5\\nLexus,2019,5150000,20000,Petrol,Dealer,Automatic,First Owner,22.37,2487,214.56,5\\nJaguar,2017,3200000,45000,Diesel,Dealer,Automatic,First Owner,19.33,1999,177,5\\nTata,2015,503000,110000,Diesel,Individual,Manual,First Owner,14.1,2179,147.94,7\\nVolvo,2019,3800000,20000,Diesel,Individual,Automatic,First Owner,18,1969,190,5\\nToyota,2016,2000000,68089,Petrol,Trustmark Dealer,Automatic,First Owner,19.16,2494,157.7,5\\nMaruti,2013,225000,58343,Petrol,Trustmark Dealer,Manual,First Owner,21.79,998,67.05,5\\nMaruti,2018,740000,38817,Diesel,Dealer,Manual,First Owner,27.39,1248,74,5\\nHonda,2016,550000,56494,Petrol,Trustmark Dealer,Manual,First Owner,18.2,1199,88.7,5\\nToyota,2013,750000,79328,Diesel,Trustmark Dealer,Manual,Second Owner,12.99,2494,100.6,7\\nMaruti,2019,650000,5621,Petrol,Trustmark Dealer,Automatic,First Owner,22,1197,81.8,5\\nToyota,2017,625000,25538,Petrol,Trustmark Dealer,Manual,First Owner,16.78,1496,88.73,5\\nMaruti,2018,600000,69779,Petrol,Dealer,Automatic,First Owner,22,1197,81.8,5\\nHyundai,2017,450000,56290,Diesel,Dealer,Manual,First Owner,24,1186,73.97,5\\nBMW,2019,5400000,7500,Diesel,Dealer,Automatic,First Owner,16.78,1995,190,5\\nBMW,2019,5500000,8500,Diesel,Dealer,Automatic,First Owner,16.78,1995,190,5\\nHonda,2019,779000,7032,Petrol,Trustmark Dealer,Automatic,First Owner,19,1199,88.76,5\\nSkoda,2016,645000,11000,Petrol,Dealer,Automatic,First Owner,14.3,1598,103.5,5\\nVolvo,2018,2475000,2000,Diesel,Dealer,Automatic,First Owner,16.8,1984,150,5\\nHyundai,2017,730000,37333,Petrol,Individual,Manual,First Owner,18.6,1197,81.83,5\\nMaruti,2014,450000,15000,Diesel,Individual,Manual,Second Owner,20.77,1248,88.76,7\\nHyundai,2012,550000,330000,Petrol,Individual,Manual,Second Owner,13.44,2359,198.25,5\\nMaruti,2017,420000,60000,CNG,Individual,Manual,First Owner,26.6,998,58.16,5\\nToyota,2016,509999,80000,Diesel,Individual,Manual,Second Owner,23.59,1364,67.05,5\\nToyota,2015,905000,110000,Diesel,Individual,Manual,First Owner,12.99,2494,100.6,7\\nMaruti,2010,240000,134000,Diesel,Individual,Manual,Second Owner,,,,\\nMaruti,2011,140000,72000,Petrol,Individual,Manual,Second Owner,19.7,796,46.3,5\\nToyota,2006,300000,140000,Diesel,Individual,Manual,Second Owner,12.8,2494,102,8\\nMaruti,2015,300000,80000,Petrol,Individual,Manual,Second Owner,18.5,1197,85.8,5\\nMaruti,2010,225000,120000,Diesel,Individual,Manual,Second Owner,19.3,1248,73.9,5\\nToyota,2015,860000,90000,Diesel,Individual,Manual,Second Owner,12.99,2494,100.6,8\\nRenault,2012,400000,100000,Diesel,Individual,Manual,Second Owner,20.46,1461,83.8,5\\nMaruti,2009,190000,90000,Petrol,Individual,Manual,Third Owner,17.5,1298,85.8,5\\nHonda,2013,350000,140000,Diesel,Individual,Manual,Third Owner,25.8,1498,98.6,5\\nChevrolet,2010,75000,120000,Petrol,Individual,Manual,First Owner,18,995,62,5\\nMaruti,2019,860000,35000,Diesel,Individual,Automatic,First Owner,24.3,1248,88.5,5\\nMaruti,2014,250000,50000,Petrol,Individual,Manual,Second Owner,23.95,998,67.05,5\\nHyundai,2017,700000,82000,Diesel,Individual,Manual,First Owner,24.8,1396,88.7,5\\nMaruti,2014,399000,70000,Diesel,Individual,Manual,Third Owner,25.2,1248,74,5\\nMaruti,2016,320000,90000,Petrol,Individual,Manual,First Owner,18.5,1197,85.8,5\\nToyota,2015,2000000,60000,Diesel,Individual,Automatic,First Owner,12.55,2982,168.5,7\\nSkoda,2014,1100000,79000,Diesel,Individual,Manual,Second Owner,20.6,1968,141,5\\nToyota,2011,750000,291000,Diesel,Individual,Manual,Second Owner,12.8,2494,102,7\\nToyota,2010,750000,250000,Diesel,Individual,Manual,Second Owner,12.8,2494,102,7\\nMahindra,2018,530000,20000,Diesel,Individual,Manual,First Owner,15.96,2523,63,9\\nMaruti,2017,750000,53000,Diesel,Individual,Manual,First Owner,28.09,1248,88.5,5\\nNissan,2017,560000,21500,Petrol,Individual,Automatic,First Owner,19.34,1198,76,5\\nTata,2017,450000,89000,Diesel,Individual,Manual,First Owner,27.28,1047,69,5\\nMaruti,2013,459999,35000,Petrol,Individual,Manual,Second Owner,19.1,1197,85.8,5\\nMaruti,2013,235000,43000,Petrol,Individual,Manual,Second Owner,19,998,67.1,5\\nHyundai,2009,180000,80000,Petrol,Individual,Manual,Second Owner,17.92,1086,62.1,5\\nHyundai,2007,140000,80000,Petrol,Individual,Manual,Second Owner,17.8,1086,63,5\\nHyundai,2014,620000,110000,Diesel,Individual,Manual,First Owner,22.54,1396,88.73,5\\nHyundai,2012,190000,100000,Petrol,Individual,Manual,First Owner,21.1,814,55.2,5\\nHyundai,2018,380000,25000,Petrol,Individual,Manual,First Owner,21.1,814,55.2,5\\nFord,2019,1145000,20000,Diesel,Individual,Manual,First Owner,23,1498,98.96,5\\nTata,2017,540000,70000,Diesel,Individual,Manual,First Owner,22.95,1248,74,5\\nToyota,2011,800000,197000,Diesel,Individual,Manual,First Owner,12.8,2494,102,7\\nMaruti,2006,150000,100000,Petrol,Individual,Manual,Second Owner,14,1061,64,5\\nMaruti,1995,55000,70000,Petrol,Individual,Manual,First Owner,16.1,796,37,4\\nMahindra,2015,919999,140000,Diesel,Individual,Manual,First Owner,16,2179,140,7\\nMaruti,2008,75000,86000,Petrol,Individual,Manual,Second Owner,,,,\\nMaruti,2009,135000,50000,Petrol,Individual,Manual,First Owner,19.7,796,46.3,5\\nTata,2017,340000,40300,Petrol,Individual,Manual,First Owner,23.84,1199,84,5\\nToyota,2010,525000,120000,Diesel,Individual,Manual,Second Owner,12.8,2494,102,8\\nMaruti,2016,411000,25000,Petrol,Individual,Manual,Second Owner,23.1,998,67.04,5\\nMaruti,2010,150000,155000,Petrol,Individual,Manual,Third Owner,18.9,998,67.1,5\\nHonda,2015,575000,50000,Petrol,Individual,Automatic,First Owner,19,1199,88.7,5\\nHyundai,2017,595000,30030,Petrol,Dealer,Manual,First Owner,18.6,1197,81.83,5\\nHyundai,2017,525000,29029,Petrol,Dealer,Manual,First Owner,19.1,1197,82,5\\nMaruti,2012,335000,72072,Diesel,Dealer,Manual,First Owner,21.1,1248,73.9,5\\nFord,2012,300000,54000,Diesel,Individual,Manual,First Owner,20,1399,68,5\\nHyundai,2012,415000,82082,Diesel,Dealer,Manual,First Owner,22.54,1396,88.73,5\\nMahindra,2016,925000,48000,Diesel,Individual,Manual,Second Owner,16,2179,140,7\\nMaruti,2016,750000,20000,Petrol,Individual,Manual,First Owner,17.5,1373,91.1,7\\nHyundai,2018,1150000,49000,Diesel,Individual,Automatic,First Owner,22,1582,126.2,5\\nDatsun,2015,260000,35000,Petrol,Individual,Manual,Third Owner,19.44,1198,67,7\\nMaruti,2017,260000,67000,CNG,Individual,Manual,First Owner,33.44,796,40.3,4\\nMaruti,2011,347000,80600,Diesel,Individual,Manual,First Owner,19.3,1248,73.9,5\\nHyundai,2013,195000,58609,Petrol,Individual,Manual,Second Owner,21.1,814,55.2,5\\nFiat,2016,265000,33003,Petrol,Individual,Manual,First Owner,15.7,1172,67,5\\nMaruti,2016,320000,43000,CNG,Individual,Manual,Second Owner,26.6,998,58.16,5\\nHyundai,2016,590000,16500,Petrol,Individual,Manual,First Owner,18.6,1197,81.83,5\\nToyota,2012,650000,138000,Diesel,Individual,Manual,Second Owner,12.8,2494,102,8\\nMahindra,2013,509999,165500,Diesel,Individual,Manual,Second Owner,14,2523,75,9\\nMaruti,2011,350000,120000,Diesel,Individual,Manual,Second Owner,19.3,1248,73.9,5\\nTata,2018,749000,30000,Diesel,Individual,Manual,First Owner,21.5,1497,108.5,5\\nTata,2010,150000,70000,Diesel,Individual,Manual,Second Owner,19.09,1396,69,5\\nHyundai,2001,33983,80000,Petrol,Individual,Manual,Second Owner,,,,\\nMaruti,2003,58000,170000,Petrol,Individual,Manual,Third Owner,17.3,993,60,5\\nMahindra,2011,200000,120000,Diesel,Individual,Manual,Third Owner,21,1461,64.1,5\\nMahindra,1998,210000,47990,Diesel,Individual,Manual,Second Owner,,,,\\nTata,2014,240000,168000,Diesel,Individual,Manual,Second Owner,22.3,1248,74,5\\nHonda,2017,515000,60000,Diesel,Individual,Manual,Second Owner,25.8,1498,98.6,5\\nMaruti,2008,145000,120000,Petrol,Individual,Manual,Second Owner,19.7,796,46.3,5\\nMaruti,2016,450000,5800,Petrol,Individual,Manual,Second Owner,20.51,998,67.04,5\\nMaruti,2010,179000,68700,Petrol,Individual,Manual,Third Owner,19,998,66.1,5\\nHyundai,2007,220000,108000,Petrol,Individual,Manual,Third Owner,13.9,1599,103.2,5\\nTata,2020,500000,40000,Petrol,Individual,Manual,First Owner,17.57,1193,88.7,5\\nFord,2009,190000,100000,Diesel,Individual,Manual,Second Owner,17.8,1399,67,5\\nChevrolet,2015,200000,40000,Diesel,Individual,Manual,First Owner,25.44,936,56.3,5\\nFord,2018,850000,90000,Petrol,Individual,Manual,First Owner,17,1497,121.36,5\\nVolkswagen,2011,270000,60000,Petrol,Individual,Manual,Second Owner,16.47,1198,73.9,5\\nHyundai,2016,335000,17000,Petrol,Individual,Manual,First Owner,21.1,814,55.2,5\\nMaruti,2018,459999,5000,Petrol,Individual,Manual,First Owner,20.51,998,67.04,5\\nMaruti,2017,710000,60000,Diesel,Individual,Manual,First Owner,24.3,1248,88.5,5\\nMaruti,2015,330000,140000,Diesel,Individual,Manual,Second Owner,26.59,1248,74,5\\nJeep,2017,1515000,15000,Diesel,Individual,Manual,First Owner,17.1,1956,170,5\\nTata,2018,750000,25000,Petrol,Individual,Manual,First Owner,17,1198,108.5,5\\nChevrolet,2016,160000,50000,Petrol,Individual,Manual,Second Owner,16.2,995,62.1,5\\nChevrolet,2016,215000,60000,Diesel,Individual,Manual,Second Owner,25.44,936,56.3,5\\nTata,2012,60000,40000,Petrol,Individual,Manual,Second Owner,25.4,624,38,4\\nMaruti,2014,480000,72000,Petrol,Individual,Manual,First Owner,19.1,1197,85.8,5\\nTata,2012,140000,195000,Diesel,Individual,Manual,Second Owner,21.12,1248,88.8,5\\nHyundai,2012,200000,70000,Petrol,Individual,Manual,First Owner,21.1,814,55.2,5\\nNissan,2013,400000,83000,Diesel,Individual,Manual,First Owner,23.08,1461,63.1,5\\nHyundai,2012,180000,100000,Petrol,Individual,Manual,Second Owner,21.1,814,55.2,5\\nMaruti,2015,550000,25000,Petrol,Individual,Manual,First Owner,20.4,1197,81.8,5\\nMaruti,2016,550000,50000,Diesel,Individual,Manual,First Owner,25.2,1248,74,5\\nMaruti,2012,550000,67000,Diesel,Individual,Manual,First Owner,20.77,1248,88.76,7\\nMaruti,2011,270000,30000,Petrol,Individual,Manual,First Owner,19,998,67.1,5\\nRenault,2013,315000,85000,Diesel,Individual,Manual,First Owner,23.08,1461,63.12,5\\nMahindra,2018,875000,25000,Diesel,Individual,Manual,First Owner,16.55,2498,105,6\\nToyota,2007,400000,170000,Diesel,Individual,Manual,First Owner,12.8,2494,102,8\\nMahindra,2014,540000,110000,Diesel,Individual,Manual,First Owner,14,2523,75,8\\nMaruti,2017,350000,60000,CNG,Individual,Manual,First Owner,26.6,998,58.16,5\\nHyundai,2011,360000,80000,Diesel,Individual,Manual,Second Owner,22.32,1582,126.32,5\\nMaruti,2014,300000,31000,Petrol,Individual,Manual,First Owner,20.51,998,67.04,5\\nHyundai,2014,350000,100000,Diesel,Individual,Manual,First Owner,24,1120,70,5\\nMahindra,2016,650000,130000,Diesel,Individual,Manual,First Owner,17.45,1493,100,7\\nMaruti,2016,350000,20000,Petrol,Individual,Manual,First Owner,20.51,998,67.04,5\\nFord,2017,700000,60000,Diesel,Individual,Manual,First Owner,22.77,1498,98.59,5\\nMaruti,2013,415000,102996,Diesel,Individual,Manual,Second Owner,23.4,1248,74,5\\nMahindra,2019,1460000,5000,Diesel,Individual,Manual,First Owner,17.3,1497,121,7\\nTata,2017,830000,35000,Diesel,Individual,Manual,First Owner,21.5,1497,108.5,5\\nDatsun,2018,430000,5000,Petrol,Individual,Manual,Second Owner,20.63,1198,67,5\\nFord,2017,850000,60000,Diesel,Individual,Manual,First Owner,22.77,1498,98.59,5\\nMaruti,2017,650000,70000,Petrol,Individual,Manual,First Owner,20.85,1197,83.14,5\\nHyundai,2008,120000,120000,Diesel,Individual,Manual,Second Owner,16.8,1493,110,5\\nMahindra,2016,730000,65100,Diesel,Individual,Manual,Second Owner,18.49,1493,100,7\\nMaruti,2019,525000,20000,Petrol,Individual,Automatic,First Owner,20.89,1197,81.8,5\\nHyundai,2015,600000,108000,Diesel,Individual,Manual,First Owner,21.19,1396,88.73,5\\nMaruti,2019,500000,15000,Petrol,Individual,Manual,First Owner,21.21,1197,81.8,5\\nHyundai,2009,150000,77000,Petrol,Individual,Manual,First Owner,17.92,1086,62.1,5\\nMaruti,2015,409999,18500,Petrol,Individual,Manual,First Owner,20.51,998,67.04,5\\nMahindra,2016,625000,120000,Diesel,Individual,Manual,First Owner,18.49,1493,100,7\\nRenault,2015,290000,15200,Petrol,Individual,Manual,First Owner,25.17,799,53.3,5\\nHonda,2015,500000,35000,Petrol,Individual,Manual,First Owner,17.3,1497,117.3,7\\nHyundai,2011,475000,80000,Diesel,Individual,Manual,First Owner,22.32,1582,126.32,5\\nHyundai,2013,190000,70000,Petrol,Individual,Manual,First Owner,21.1,814,55.2,5\\nMahindra,2014,750000,80000,Diesel,Individual,Manual,Second Owner,15.1,2179,140,7\\nNissan,2014,525000,120000,Diesel,Individual,Manual,Second Owner,19.01,1461,108.5,5\\nChevrolet,2012,495000,82000,Diesel,Individual,Manual,Third Owner,17.3,1998,163.7,5\\nHyundai,2015,550000,60000,Diesel,Individual,Manual,First Owner,22.54,1396,88.73,5\\nMahindra,2012,595000,129000,Diesel,Individual,Manual,Third Owner,15.1,2179,140,7\\nFiat,2015,550000,67000,Diesel,Individual,Manual,First Owner,21.2,1248,75,5\\nToyota,2015,2000000,120000,Diesel,Individual,Manual,First Owner,13,2494,142,7\\nTata,2010,400000,120000,Diesel,Individual,Manual,Fourth & Above Owner,13.93,2179,138.03,7\\nFiat,2015,500000,96500,Diesel,Individual,Manual,First Owner,20.5,1248,91.72,5\\nMaruti,2017,340000,52412,Petrol,Dealer,Manual,First Owner,18.9,998,67.1,5\\nMahindra,2012,480000,85472,Diesel,Dealer,Manual,First Owner,12.05,2179,120,8\\nFord,2013,480000,87452,Diesel,Dealer,Manual,Second Owner,22.77,1498,98.59,5\\nFord,2018,750000,17000,Diesel,Individual,Manual,First Owner,23,1498,98.96,5\\nMaruti,2008,100000,66530,Petrol,Individual,Manual,Second Owner,18.9,1061,67,5\\nHyundai,2013,290000,40000,Petrol,Individual,Manual,First Owner,18.5,1197,82.85,5\\nFiat,2015,425000,96500,Diesel,Individual,Manual,First Owner,20.5,1248,91.72,5\\nHonda,2010,285000,79000,Petrol,Individual,Manual,First Owner,16.8,1497,116.3,5\\nMahindra,2016,625000,50000,Diesel,Individual,Manual,First Owner,18.49,1493,100,7\\nFiat,2012,170000,60000,Diesel,Individual,Manual,Second Owner,20.3,1248,75,5\\n',\n",
              " 'v3.csv': b'name,year,selling_price,km_driven,fuel,seller_type,transmission,owner,mileage,engine,max_power,seats\\nTata,2018,459999,35000,Petrol,Individual,Manual,First Owner,17.57,1193,88.7,5\\nFiat,2015,450000,120000,Diesel,Individual,Manual,First Owner,20.5,1248,91.72,5\\nMaruti,2019,650000,10000,Petrol,Individual,Automatic,First Owner,21.21,1197,81.8,5\\nHyundai,2017,600000,15000,Petrol,Individual,Manual,First Owner,17.19,1197,81.86,5\\nMaruti,2013,178000,70000,CNG,Individual,Manual,Second Owner,30.46,796,47.3,5\\nMaruti,2016,300000,5000,Petrol,Individual,Manual,First Owner,22.74,796,47.3,5\\nMaruti,2009,150000,40000,Petrol,Individual,Manual,First Owner,19.7,796,46.3,5\\nHyundai,2019,590000,10000,Petrol,Individual,Manual,First Owner,18.6,1197,81.86,5\\nHyundai,2016,310000,25000,Petrol,Individual,Manual,First Owner,21.1,814,55.2,5\\nTata,2017,400000,53000,Petrol,Individual,Manual,First Owner,17.57,1193,88.7,5\\nMahindra,2014,520000,110000,Diesel,Individual,Manual,Second Owner,12.05,2179,120,9\\nAshok,2013,300000,200000,Diesel,Individual,Manual,Second Owner,20.07,1461,75,8\\nMahindra,2019,1000000,22000,Petrol,Individual,Manual,First Owner,17,1197,110,5\\nMaruti,2003,65000,70000,Petrol,Individual,Manual,Fourth & Above Owner,18.9,998,67.1,5\\nHonda,2015,509999,75000,Diesel,Individual,Manual,Second Owner,25.8,1498,98.6,5\\nMaruti,2012,221000,70000,Petrol,Individual,Manual,First Owner,18.9,998,67.1,5\\nVolkswagen,2014,390000,64000,Petrol,Individual,Manual,Third Owner,15.04,1598,103.2,5\\nMaruti,2002,350000,60000,Petrol,Individual,Manual,First Owner,11.96,1298,80,8\\nMaruti,2009,195000,40000,Petrol,Individual,Manual,First Owner,19.7,796,46.3,5\\nAudi,2010,1750000,110000,Diesel,Individual,Automatic,Second Owner,12.07,2967,241.4,7\\nMahindra,2013,600000,60000,Diesel,Individual,Manual,First Owner,12.05,2179,120,8\\nHyundai,2015,615000,72000,Diesel,Individual,Manual,First Owner,22.54,1396,88.73,5\\nHyundai,2013,350000,70000,Diesel,Individual,Manual,Second Owner,21.9,1396,88.76,5\\nChevrolet,2012,140000,75000,Diesel,Individual,Manual,First Owner,25.44,936,57.6,5\\nHyundai,2017,650000,32331,Diesel,Individual,Manual,Second Owner,22.54,1396,88.73,5\\nHyundai,2016,1100000,70000,Diesel,Individual,Manual,First Owner,19.67,1582,126.2,5\\nHyundai,2010,285000,80000,Diesel,Individual,Manual,Second Owner,23,1396,90,5\\nChevrolet,2011,190000,20000,Petrol,Individual,Manual,Second Owner,18,995,62,5\\nNissan,2012,350000,110000,Petrol,Individual,Manual,First Owner,16.95,1498,97.7,5\\nHyundai,2014,400000,40000,Petrol,Individual,Manual,Second Owner,18.9,1197,82,5\\nToyota,2016,2100000,40000,Petrol,Individual,Automatic,First Owner,10.75,2694,163.7,7\\nHyundai,2015,434999,90000,Petrol,Individual,Manual,Second Owner,18.6,1197,81.83,5\\nMaruti,2014,450000,50000,Petrol,Individual,Manual,Second Owner,19.1,1197,85.8,5\\nDaewoo,2001,45000,137000,Petrol,Individual,Manual,First Owner,18.5,796,53,5\\nHyundai,2015,450000,60000,Petrol,Individual,Manual,First Owner,18.6,1197,81.83,5\\nMaruti,2017,580000,30000,Diesel,Individual,Manual,First Owner,25.2,1248,74,5\\nHyundai,2016,900000,98000,Diesel,Individual,Manual,First Owner,19.67,1582,126.2,5\\nMaruti,2016,750000,50000,Diesel,Individual,Manual,First Owner,24.52,1248,88.5,7\\nTata,2009,140000,120000,Diesel,Individual,Manual,Third Owner,19.09,1396,69,5\\nHyundai,2017,525000,30000,Petrol,Individual,Manual,First Owner,18.9,1197,81.86,5\\nTata,2009,114999,120000,Diesel,Individual,Manual,Third Owner,19.09,1396,69,5\\nTata,2016,399000,40000,Petrol,Individual,Manual,First Owner,23.84,1199,84,5\\nHyundai,2006,150000,100000,Petrol,Individual,Manual,Second Owner,,,,\\nTata,2012,275000,90000,Diesel,Individual,Manual,Second Owner,19,1405,71,5\\nHyundai,2011,340000,80000,Diesel,Individual,Manual,Second Owner,21.9,1396,90,5\\nHyundai,2012,222000,120000,LPG,Individual,Manual,First Owner,21.1,814,55.2,5\\nMahindra,2013,850000,200000,Diesel,Individual,Automatic,First Owner,11.18,2696,184,7\\nTata,2007,70000,110000,Diesel,Individual,Manual,Second Owner,17.2,1396,53.5,5\\nTata,2017,430000,38000,Petrol,Individual,Manual,Second Owner,23.84,1199,84,5\\nTata,2017,430000,35000,Petrol,Individual,Manual,Second Owner,23.84,1199,84,5\\nMaruti,2014,320000,70000,Petrol,Individual,Manual,First Owner,20.51,998,67.04,5\\nHyundai,2005,95000,125000,Petrol,Individual,Manual,Fourth & Above Owner,,,,\\nRenault,2012,500000,120000,Diesel,Individual,Manual,Second Owner,21.8,1461,78,5\\nRenault,2012,500000,110000,Diesel,Individual,Manual,Second Owner,19.01,1461,108.45,5\\nTata,2010,229999,140000,Diesel,Individual,Manual,First Owner,18.4,1248,75,5\\nMahindra,2009,600000,155000,Diesel,Individual,Automatic,Second Owner,11.79,2179,120,8\\nHyundai,2007,200000,120000,Petrol,Individual,Manual,Second Owner,,,,\\nRenault,2017,500000,80000,Diesel,Individual,Manual,Second Owner,23.08,1461,63.1,5\\nMahindra,2010,315000,120000,Diesel,Individual,Manual,Second Owner,13.6,2523,63,7\\nMaruti,2011,265000,80000,Petrol,Individual,Manual,First Owner,18.9,998,67.1,5\\nFord,2015,350000,110000,Diesel,Individual,Manual,Second Owner,25.83,1498,99,5\\nTata,2012,200000,230000,Diesel,Individual,Manual,First Owner,23.57,1396,70,5\\nTata,2011,114999,172000,Diesel,Individual,Manual,Second Owner,17.88,1396,52.8,5\\nHyundai,2014,425000,25000,Petrol,Individual,Manual,First Owner,18.6,1197,81.83,5\\nFord,2019,900000,35000,Diesel,Individual,Manual,First Owner,23,1498,98.96,5\\nMahindra,2014,550000,126000,Diesel,Individual,Manual,First Owner,12.05,2179,120,7\\nHonda,2018,900000,30000,Diesel,Individual,Manual,First Owner,25.5,1498,98.6,5\\nHyundai,2011,165000,97000,Petrol,Individual,Manual,Third Owner,19.81,1086,68.05,5\\nHyundai,2016,850000,120000,Diesel,Individual,Automatic,First Owner,19.08,1582,126.2,5\\nHyundai,2016,850000,120000,Diesel,Individual,Manual,First Owner,23.9,1582,126.32,5\\nMahindra,2014,550000,80000,Diesel,Individual,Manual,Second Owner,16.55,2498,105,6\\nMaruti,2011,500000,60000,Diesel,Individual,Manual,Second Owner,19.3,1248,73.9,5\\nMaruti,2018,630000,15000,Petrol,Individual,Manual,First Owner,21.21,1197,81.8,5\\nHyundai,2011,160000,60000,Petrol,Individual,Manual,First Owner,19.81,1086,68.05,5\\nHonda,2015,670000,60000,Diesel,Individual,Manual,First Owner,25.1,1498,98.6,5\\nMaruti,2014,430000,90000,Diesel,Individual,Manual,First Owner,22.9,1248,74,5\\nHyundai,2015,375000,30000,Petrol,Individual,Manual,First Owner,19.1,1197,82,5\\nHyundai,2016,650000,35000,Petrol,Individual,Manual,First Owner,18.6,1197,81.83,5\\nMaruti,2016,500000,35000,Diesel,Individual,Manual,First Owner,26.59,1248,74,5\\nMaruti,2016,500000,35000,Diesel,Individual,Manual,First Owner,26.59,1248,74,5\\nMahindra,2017,1350000,25000,Diesel,Individual,Manual,First Owner,16,2179,140,7\\nVolkswagen,2018,600000,40000,Diesel,Individual,Manual,First Owner,21.66,1498,108.62,5\\nHyundai,2017,1200000,25000,Diesel,Individual,Manual,First Owner,19.67,1582,126.2,5\\nBMW,2013,3750000,56000,Diesel,Dealer,Automatic,First Owner,11.2,2993,241,4\\nMaruti,2018,795000,41779,Petrol,Dealer,Manual,First Owner,21.21,1197,81.8,5\\nHonda,2016,625000,54000,Petrol,Dealer,Manual,First Owner,18.7,1199,88.7,5\\nMercedes-Benz,2016,2900000,31000,Diesel,Dealer,Automatic,First Owner,13,2143,204,5\\nMaruti,2017,625000,37000,Diesel,Individual,Automatic,First Owner,26.8,1248,74,5\\nChevrolet,2011,440000,90000,Diesel,Individual,Automatic,Second Owner,18.1,1991,147.9,4\\nToyota,2018,1400000,13534,Petrol,Dealer,Manual,First Owner,14.28,1798,138.03,5\\nToyota,2017,1450000,7000,Petrol,Dealer,Automatic,Second Owner,14.53,1794,138.1,5\\nMercedes-Benz,2017,2700000,23000,Diesel,Dealer,Automatic,First Owner,17.9,2143,136,5\\nHyundai,2017,550000,23456,Petrol,Dealer,Manual,First Owner,18.9,1197,82,5\\nToyota,2019,1925000,43000,Diesel,Dealer,Automatic,First Owner,11.36,2755,171.5,8\\nMahindra,2015,1225000,39000,Diesel,Dealer,Manual,First Owner,16,2179,140,7\\nHonda,2017,700000,15000,Petrol,Individual,Manual,First Owner,17.5,1199,88.7,5\\nMaruti,2013,530000,40000,Diesel,Individual,Manual,First Owner,23.4,1248,74,5\\nKia,2020,1900000,5000,Diesel,Dealer,Automatic,First Owner,17.8,1493,113.4,5\\nMaruti,2017,844999,70000,Diesel,Dealer,Manual,First Owner,28.09,1248,88.5,5\\nSkoda,2016,650000,99000,Diesel,Dealer,Automatic,First Owner,21.66,1498,103.52,5\\nMaruti,2018,750000,15000,Petrol,Dealer,Manual,First Owner,22,1197,81.8,5\\nBMW,2018,6000000,28156,Diesel,Dealer,Automatic,First Owner,17.09,2993,261.4,4\\nHonda,2015,610000,30000,Petrol,Dealer,Manual,First Owner,18.7,1199,88.7,5\\nChevrolet,2010,150000,70000,Petrol,Individual,Manual,First Owner,18.6,1199,79.4,5\\nMaruti,2014,475000,40000,Petrol,Individual,Manual,First Owner,19.1,1197,85.8,5\\nMahindra,2008,375000,136500,Diesel,Individual,Manual,Fourth & Above Owner,12.7,2609,120,8\\nMahindra,2016,425000,70000,Diesel,Individual,Manual,Second Owner,25.32,1198,77,6\\nHonda,2015,800000,90000,Diesel,Individual,Manual,Second Owner,25.1,1498,98.6,5\\nMaruti,1996,40000,32000,Petrol,Individual,Manual,Second Owner,16.1,796,37,4\\nMaruti,2018,509999,8000,Petrol,Individual,Automatic,Second Owner,20.51,998,67,5\\nToyota,2015,387000,170000,Diesel,Individual,Manual,First Owner,23.59,1364,67.04,5\\nMaruti,2014,235000,25000,Petrol,Individual,Manual,First Owner,22.74,796,47.3,5\\nTata,2000,95000,120000,Diesel,Individual,Manual,Fourth & Above Owner,12.2,1948,68,10\\nMaruti,2010,340000,110000,Diesel,Individual,Manual,Third Owner,17.8,1248,75,5\\nMahindra,2016,1000000,100000,Diesel,Individual,Manual,First Owner,16,2179,140,7\\nFord,2009,160000,115000,Diesel,Individual,Manual,Second Owner,13.8,1399,68,5\\nMahindra,2008,365000,120000,Diesel,Individual,Manual,Fourth & Above Owner,12.7,2609,120,8\\nSkoda,2011,300000,265000,Diesel,Individual,Manual,Second Owner,20.86,1199,75,5\\nMaruti,2008,260000,90000,Diesel,Individual,Manual,Second Owner,17.8,1248,75,5\\nHonda,2018,860000,40000,Petrol,Individual,Automatic,First Owner,18.2,1199,88.7,5\\nHyundai,2008,114999,55000,Petrol,Individual,Manual,Second Owner,13.9,1599,103.2,5\\nMaruti,2007,100000,90000,Petrol,Individual,Manual,Second Owner,19.7,796,46.3,5\\nVolkswagen,2014,565000,111000,Diesel,Individual,Manual,First Owner,20.34,1498,103.2,5\\nMahindra,2013,450000,120000,Diesel,Individual,Manual,Second Owner,11.68,2498,112,7\\nMaruti,2017,625000,15000,Petrol,Individual,Manual,First Owner,21.4,1197,83.1,5\\nMaruti,2016,280000,30000,Petrol,Individual,Manual,Second Owner,22.74,796,47.3,5\\nMaruti,2017,330000,50000,Petrol,Individual,Manual,First Owner,23.95,998,67.05,5\\nHyundai,2015,1300000,40000,Diesel,Individual,Manual,First Owner,19.67,1582,126.2,5\\nTata,2008,65000,50000,Petrol,Individual,Manual,Second Owner,15.3,1396,70,5\\nTata,2018,480000,45000,Petrol,Individual,Manual,Second Owner,23.84,1199,84,5\\nTata,2016,400000,35000,Diesel,Individual,Manual,Second Owner,27.28,1047,69,5\\nTata,2009,500000,80000,Diesel,Individual,Manual,First Owner,13.93,2179,138,7\\nMahindra,2012,320000,120000,Diesel,Individual,Manual,First Owner,11.68,2498,112,7\\nMahindra,2014,750000,90000,Diesel,Individual,Manual,Second Owner,15.1,2179,140,7\\nMahindra,2017,620000,100000,Diesel,Individual,Manual,First Owner,16.5,1493,70,7\\nMaruti,2011,300000,120000,Diesel,Individual,Manual,Third Owner,19.3,1248,73.9,5\\nHyundai,2018,1405000,15000,Petrol,Individual,Manual,First Owner,15.8,1591,121.3,5\\nMaruti,2017,282000,15000,Petrol,Individual,Manual,First Owner,24.7,796,47.3,5\\nMaruti,2017,700000,15000,Petrol,Individual,Automatic,First Owner,21.21,1197,81.8,5\\nFord,2017,700000,70000,Diesel,Individual,Manual,First Owner,25.83,1498,99,5\\nFord,2015,600000,135000,Diesel,Individual,Manual,First Owner,22.77,1498,98.59,5\\nSkoda,2012,290000,80000,Diesel,Individual,Manual,Second Owner,20.5,1598,103.5,5\\nChevrolet,2011,430000,80000,Diesel,Individual,Automatic,Second Owner,18.1,1991,147.9,4\\nHyundai,2017,575000,19000,Petrol,Individual,Manual,First Owner,18.6,1197,81.83,5\\nHyundai,2017,875000,42000,Petrol,Individual,Manual,First Owner,15.29,1591,121.3,5\\nMaruti,2010,180000,77000,Petrol,Individual,Manual,First Owner,18.9,998,67.1,5\\nMaruti,2012,229999,120000,Diesel,Individual,Manual,First Owner,23.2,1248,73.94,5\\nToyota,2019,800000,10000,Petrol,Individual,Automatic,First Owner,19.56,1197,81.8,5\\nChevrolet,2009,60000,110000,Petrol,Individual,Manual,Third Owner,16.5,995,63,5\\nMaruti,2009,150000,110000,Petrol,Individual,Manual,First Owner,15,1586,104.68,5\\nTata,2007,100000,90000,Diesel,Individual,Manual,Third Owner,23.57,1396,70,5\\nHyundai,2015,900000,90000,Petrol,Individual,Manual,First Owner,15.29,1591,121.3,5\\nHyundai,2018,850000,50000,Diesel,Individual,Manual,First Owner,22.54,1396,88.73,5\\nChevrolet,2014,220000,50000,Diesel,Individual,Manual,First Owner,25.44,936,56.3,5\\nMaruti,2014,250000,40000,Petrol,Individual,Manual,Second Owner,22.74,796,47.3,5\\nTata,2012,125000,120000,Diesel,Individual,Manual,First Owner,22.3,1248,74,5\\nHyundai,2018,1200000,27000,Petrol,Individual,Manual,First Owner,15.8,1591,121.3,5\\nTata,2013,250000,100000,Diesel,Individual,Manual,First Owner,23.57,1396,70,5\\nHyundai,2014,440000,70000,Diesel,Individual,Manual,Second Owner,22.54,1396,88.73,5\\nTata,2017,400000,40000,Petrol,Individual,Manual,First Owner,23.84,1199,84,5\\nMaruti,2002,50000,62000,Petrol,Individual,Manual,First Owner,16.1,796,37,4\\nHyundai,2018,1000000,10000,Petrol,Individual,Manual,First Owner,17,1591,121.3,5\\nHonda,2014,600000,160000,Diesel,Individual,Manual,First Owner,25.1,1498,98.6,5\\nHyundai,2010,250000,60000,Petrol,Individual,Manual,First Owner,17,1197,80,5\\nMahindra,2009,310000,110000,Diesel,Individual,Manual,First Owner,13.6,2523,63,7\\nMaruti,2005,120000,60000,Petrol,Individual,Manual,Fourth & Above Owner,18.9,998,67.1,5\\nMahindra,2014,390000,78000,Diesel,Individual,Manual,First Owner,11.68,2498,112,7\\nHyundai,2019,458000,30000,Petrol,Individual,Manual,First Owner,20.3,1086,68,5\\nFord,2018,950000,20000,Diesel,Individual,Manual,First Owner,23,1498,98.96,5\\nMaruti,2017,650000,21000,Petrol,Individual,Manual,First Owner,22,1197,81.8,5\\nMaruti,2013,400000,70000,Diesel,Individual,Manual,First Owner,22.9,1248,74,5\\nHyundai,2015,400000,70000,Petrol,Individual,Automatic,Second Owner,18.9,1197,82,5\\nMaruti,2006,100000,42500,Petrol,Individual,Manual,First Owner,19.7,796,46.3,5\\nHyundai,2012,350000,25000,Petrol,Individual,Manual,First Owner,20.36,1197,78.9,5\\nTata,2013,450000,80000,Diesel,Individual,Manual,Second Owner,13.7,2197,138.1,7\\nMahindra,2006,350000,90000,Diesel,Individual,Manual,First Owner,12.7,2609,116.6,8\\nVolkswagen,2010,250000,80000,Diesel,Individual,Manual,Fourth & Above Owner,22.07,1199,73.9,5\\nMahindra,2013,450000,146000,Diesel,Individual,Manual,Second Owner,15.96,2523,62.1,7\\nMaruti,2013,157000,47200,Petrol,Individual,Manual,Third Owner,16.1,796,37,4\\nMahindra,2018,1500000,60000,Diesel,Individual,Manual,First Owner,15.1,2179,152.87,7\\nMahindra,2018,1500000,60000,Diesel,Individual,Manual,First Owner,15.1,2179,152.87,7\\nTata,2007,75000,100000,Petrol,Individual,Manual,Second Owner,15.3,1193,65.3,5\\nChevrolet,2010,280000,100000,Diesel,Individual,Manual,Second Owner,14.8,2499,80,10\\nHyundai,2015,600000,35000,Petrol,Individual,Manual,First Owner,18.6,1197,81.83,5\\nTata,2012,250999,120000,Diesel,Individual,Manual,Fourth & Above Owner,15.3,2956,83.8,7\\nToyota,2010,350000,80000,Petrol,Individual,Manual,Second Owner,12.5,1794,132,5\\nRenault,2016,300000,34000,Petrol,Individual,Manual,First Owner,23.01,999,67,5\\nRenault,2017,819999,50000,Diesel,Individual,Manual,First Owner,19.87,1461,83.8,5\\nTata,2010,409999,100000,Diesel,Individual,Manual,Second Owner,19.61,1405,70,5\\nHyundai,2008,275000,52000,Petrol,Individual,Manual,Second Owner,13.9,1599,103.2,5\\nMaruti,2013,497000,110000,Diesel,Individual,Manual,First Owner,20.77,1248,88.76,7\\nHyundai,2015,500000,70000,Petrol,Individual,Manual,First Owner,18.6,1197,81.83,5\\nMahindra,2006,170000,120000,Diesel,Individual,Manual,Second Owner,14,2523,83,7\\nFord,2016,515000,68609,Diesel,Dealer,Manual,First Owner,22.7,1498,89.84,5\\nFord,2018,925000,33360,Diesel,Dealer,Manual,First Owner,22.77,1498,98.59,5\\nMahindra,2019,1460000,5000,Diesel,Individual,Manual,First Owner,17.3,1497,121,7\\nIsuzu,2019,2700000,10000,Diesel,Individual,Automatic,First Owner,13.8,2999,174.57,7\\nTata,2017,830000,35000,Diesel,Individual,Manual,First Owner,21.5,1497,108.5,5\\nFord,2019,975000,30000,Diesel,Individual,Manual,First Owner,23,1498,98.96,5\\nFord,2018,620000,15000,Petrol,Individual,Manual,First Owner,20.4,1194,94.93,5\\nNissan,2019,860000,14317,Petrol,Dealer,Manual,First Owner,14.23,1498,104.55,5\\nDatsun,2018,430000,5000,Petrol,Individual,Manual,Second Owner,20.63,1198,67,5\\nHonda,2019,1227000,5000,Petrol,Individual,Automatic,First Owner,18,1497,117.6,5\\nHonda,2017,860000,28000,Petrol,Individual,Manual,First Owner,17.8,1497,117.3,5\\nFord,2018,950000,40000,Diesel,Individual,Manual,First Owner,23,1498,98.96,5\\nFord,2012,225000,87237,Diesel,Dealer,Manual,Second Owner,20,1399,68.05,5\\nChevrolet,2011,500000,99500,Diesel,Individual,Manual,Third Owner,11.5,1991,147.9,7\\nFord,2017,500000,62960,Diesel,Dealer,Manual,First Owner,25.83,1498,99,5\\nMG,2019,1700000,16500,Petrol,Dealer,Automatic,First Owner,13.96,1451,141,5\\nMaruti,2014,545000,110000,Diesel,Individual,Manual,First Owner,20.77,1248,88.76,7\\nMaruti,2011,400000,72000,Diesel,Individual,Manual,First Owner,22.9,1248,74,5\\nMaruti,2018,650000,50000,Diesel,Individual,Manual,First Owner,28.4,1248,74.02,5\\nHyundai,2008,114999,55000,Petrol,Individual,Manual,Second Owner,13.9,1599,103.2,5\\nMaruti,2015,562000,60000,Diesel,Individual,Manual,First Owner,27.39,1248,74,5\\nTata,2002,96000,120000,Diesel,Individual,Manual,First Owner,14.07,2956,83.1,7\\nJaguar,2017,2711000,9000,Diesel,Dealer,Automatic,First Owner,13.6,1999,177,5\\nLexus,2019,5150000,20000,Petrol,Dealer,Automatic,First Owner,22.37,2487,214.56,5\\nJaguar,2017,3200000,45000,Diesel,Dealer,Automatic,First Owner,19.33,1999,177,5\\nTata,2015,503000,110000,Diesel,Individual,Manual,First Owner,14.1,2179,147.94,7\\nVolvo,2019,3800000,20000,Diesel,Individual,Automatic,First Owner,18,1969,190,5\\nToyota,2016,2000000,68089,Petrol,Trustmark Dealer,Automatic,First Owner,19.16,2494,157.7,5\\nMaruti,2013,225000,58343,Petrol,Trustmark Dealer,Manual,First Owner,21.79,998,67.05,5\\nMaruti,2018,740000,38817,Diesel,Dealer,Manual,First Owner,27.39,1248,74,5\\nHonda,2016,550000,56494,Petrol,Trustmark Dealer,Manual,First Owner,18.2,1199,88.7,5\\nToyota,2013,750000,79328,Diesel,Trustmark Dealer,Manual,Second Owner,12.99,2494,100.6,7\\nMaruti,2019,650000,5621,Petrol,Trustmark Dealer,Automatic,First Owner,22,1197,81.8,5\\nToyota,2017,625000,25538,Petrol,Trustmark Dealer,Manual,First Owner,16.78,1496,88.73,5\\nMaruti,2018,600000,69779,Petrol,Dealer,Automatic,First Owner,22,1197,81.8,5\\nHyundai,2017,450000,56290,Diesel,Dealer,Manual,First Owner,24,1186,73.97,5\\nBMW,2019,5400000,7500,Diesel,Dealer,Automatic,First Owner,16.78,1995,190,5\\nBMW,2019,5500000,8500,Diesel,Dealer,Automatic,First Owner,16.78,1995,190,5\\nHonda,2019,779000,7032,Petrol,Trustmark Dealer,Automatic,First Owner,19,1199,88.76,5\\nSkoda,2016,645000,11000,Petrol,Dealer,Automatic,First Owner,14.3,1598,103.5,5\\nVolvo,2018,2475000,2000,Diesel,Dealer,Automatic,First Owner,16.8,1984,150,5\\nJaguar,2017,2711000,9000,Diesel,Dealer,Automatic,First Owner,13.6,1999,177,5\\nLexus,2019,5150000,20000,Petrol,Dealer,Automatic,First Owner,22.37,2487,214.56,5\\nJaguar,2017,3200000,45000,Diesel,Dealer,Automatic,First Owner,19.33,1999,177,5\\nTata,2015,503000,110000,Diesel,Individual,Manual,First Owner,14.1,2179,147.94,7\\nVolvo,2019,3800000,20000,Diesel,Individual,Automatic,First Owner,18,1969,190,5\\nToyota,2016,2000000,68089,Petrol,Trustmark Dealer,Automatic,First Owner,19.16,2494,157.7,5\\nMaruti,2013,225000,58343,Petrol,Trustmark Dealer,Manual,First Owner,21.79,998,67.05,5\\nMaruti,2018,740000,38817,Diesel,Dealer,Manual,First Owner,27.39,1248,74,5\\nHonda,2016,550000,56494,Petrol,Trustmark Dealer,Manual,First Owner,18.2,1199,88.7,5\\nToyota,2013,750000,79328,Diesel,Trustmark Dealer,Manual,Second Owner,12.99,2494,100.6,7\\nMaruti,2019,650000,5621,Petrol,Trustmark Dealer,Automatic,First Owner,22,1197,81.8,5\\nToyota,2017,625000,25538,Petrol,Trustmark Dealer,Manual,First Owner,16.78,1496,88.73,5\\nMaruti,2018,600000,69779,Petrol,Dealer,Automatic,First Owner,22,1197,81.8,5\\nHyundai,2017,450000,56290,Diesel,Dealer,Manual,First Owner,24,1186,73.97,5\\nBMW,2019,5400000,7500,Diesel,Dealer,Automatic,First Owner,16.78,1995,190,5\\nBMW,2019,5500000,8500,Diesel,Dealer,Automatic,First Owner,16.78,1995,190,5\\nHonda,2019,779000,7032,Petrol,Trustmark Dealer,Automatic,First Owner,19,1199,88.76,5\\nSkoda,2016,645000,11000,Petrol,Dealer,Automatic,First Owner,14.3,1598,103.5,5\\nVolvo,2018,2475000,2000,Diesel,Dealer,Automatic,First Owner,16.8,1984,150,5\\nMitsubishi,1999,155000,100000,Diesel,Individual,Manual,Third Owner,14.8,1998,68,5\\nMaruti,2009,210000,120000,Diesel,Individual,Manual,Fourth & Above Owner,,,,\\nJaguar,2017,2711000,9000,Diesel,Dealer,Automatic,First Owner,13.6,1999,177,5\\nLexus,2019,5150000,20000,Petrol,Dealer,Automatic,First Owner,22.37,2487,214.56,5\\nJaguar,2017,3200000,45000,Diesel,Dealer,Automatic,First Owner,19.33,1999,177,5\\nTata,2015,503000,110000,Diesel,Individual,Manual,First Owner,14.1,2179,147.94,7\\nVolvo,2019,3800000,20000,Diesel,Individual,Automatic,First Owner,18,1969,190,5\\nToyota,2016,2000000,68089,Petrol,Trustmark Dealer,Automatic,First Owner,19.16,2494,157.7,5\\nMaruti,2013,225000,58343,Petrol,Trustmark Dealer,Manual,First Owner,21.79,998,67.05,5\\nMaruti,2018,740000,38817,Diesel,Dealer,Manual,First Owner,27.39,1248,74,5\\nHonda,2016,550000,56494,Petrol,Trustmark Dealer,Manual,First Owner,18.2,1199,88.7,5\\nToyota,2013,750000,79328,Diesel,Trustmark Dealer,Manual,Second Owner,12.99,2494,100.6,7\\nMaruti,2019,650000,5621,Petrol,Trustmark Dealer,Automatic,First Owner,22,1197,81.8,5\\nToyota,2017,625000,25538,Petrol,Trustmark Dealer,Manual,First Owner,16.78,1496,88.73,5\\nMaruti,2018,600000,69779,Petrol,Dealer,Automatic,First Owner,22,1197,81.8,5\\nHyundai,2017,450000,56290,Diesel,Dealer,Manual,First Owner,24,1186,73.97,5\\nBMW,2019,5400000,7500,Diesel,Dealer,Automatic,First Owner,16.78,1995,190,5\\nBMW,2019,5500000,8500,Diesel,Dealer,Automatic,First Owner,16.78,1995,190,5\\nHonda,2019,779000,7032,Petrol,Trustmark Dealer,Automatic,First Owner,19,1199,88.76,5\\nSkoda,2016,645000,11000,Petrol,Dealer,Automatic,First Owner,14.3,1598,103.5,5\\nVolvo,2018,2475000,2000,Diesel,Dealer,Automatic,First Owner,16.8,1984,150,5\\nFord,2015,590000,80000,Diesel,Individual,Manual,First Owner,25.01,1498,89.75,5\\nHyundai,2016,350000,120000,Diesel,Individual,Manual,Second Owner,24.4,1120,71,5\\nMaruti,2017,484999,30000,Petrol,Individual,Manual,First Owner,20.89,1197,81.8,5\\nTata,2015,240000,110000,Diesel,Individual,Manual,Second Owner,19.1,1405,70,5\\nToyota,2008,500000,219000,Diesel,Individual,Manual,Second Owner,12.8,2494,102,8\\nMaruti,2017,300000,80000,Petrol,Individual,Manual,First Owner,24.7,796,47.3,5\\nMaruti,2016,750000,80000,Diesel,Individual,Manual,First Owner,28.09,1248,88.5,5\\nMaruti,2016,574000,35000,Petrol,Individual,Manual,Second Owner,20.85,1197,83.14,5\\nTata,2013,200000,167000,Diesel,Individual,Manual,First Owner,22.3,1248,88.8,5\\nHyundai,2016,1100000,94000,Diesel,Individual,Manual,First Owner,19.67,1582,126.2,5\\nHyundai,2012,350000,80000,Petrol,Individual,Manual,First Owner,17.92,1086,62.1,5\\nMaruti,1998,70000,100000,Petrol,Individual,Manual,Second Owner,16.1,796,37,4\\nFord,2005,120000,90000,Petrol,Individual,Manual,Second Owner,13.8,1299,70,5\\nToyota,2012,700000,246000,Diesel,Individual,Manual,Second Owner,12.99,2494,100,7\\nMaruti,2019,500000,10000,Petrol,Individual,Manual,First Owner,21.4,1197,83.1,5\\nTata,2016,370000,90000,Diesel,Individual,Manual,First Owner,19.09,1405,69.01,5\\nTata,2019,600000,5200,Petrol,Individual,Manual,First Owner,20.3,1199,83.81,5\\nMaruti,2006,100000,120000,Petrol,Individual,Manual,Second Owner,17.3,993,60,5\\nMaruti,2013,409999,90000,Diesel,Individual,Manual,Second Owner,22.9,1248,74,5\\nHonda,2016,750000,50000,Petrol,Individual,Automatic,First Owner,18,1497,117.3,5\\nHyundai,2017,600000,5000,Petrol,Individual,Manual,First Owner,18.9,1197,81.86,5\\nMahindra,2018,550000,10500,Petrol,Individual,Manual,First Owner,18.15,1198,82,6\\nRenault,2018,950000,26000,Diesel,Individual,Manual,First Owner,19.6,1461,108.45,5\\nMahindra,2014,645000,139000,Diesel,Individual,Automatic,First Owner,11.79,2179,120,8\\nMahindra,2014,750000,60000,Diesel,Individual,Manual,Second Owner,15.1,2179,140,7\\nMercedes-Benz,2006,650000,40000,Petrol,Individual,Manual,First Owner,11.7,1796,178,5\\nFord,2015,800000,25000,Petrol,Individual,Manual,First Owner,15.85,1499,110.4,5\\nToyota,2010,350000,60000,Petrol,Individual,Manual,Second Owner,14.53,1798,138,5\\nFord,2015,700000,25000,Petrol,Individual,Manual,First Owner,15.85,1499,110.4,5\\nMaruti,2011,335000,15000,Petrol,Individual,Manual,First Owner,17.5,1298,85.8,5\\nMaruti,2012,270000,110000,Diesel,Individual,Manual,First Owner,19.3,1248,73.9,5\\nHyundai,2001,52000,70000,Petrol,Individual,Manual,Second Owner,,,,\\nMaruti,2010,320000,100000,Diesel,Individual,Manual,Second Owner,19.3,1248,73.9,5\\nHyundai,2007,120000,120000,Petrol,Individual,Manual,First Owner,17.8,1086,63,5\\nAudi,2010,730000,55000,Petrol,Individual,Automatic,Second Owner,12.3,1781,163.2,5\\nMaruti,2007,125000,120000,Petrol,Individual,Manual,Third Owner,15,1586,104.68,5\\nMaruti,2007,150000,35000,Petrol,Individual,Manual,First Owner,18.2,1061,64,5\\nMaruti,2018,310000,13000,Petrol,Individual,Manual,First Owner,24.7,796,47.3,5\\nMaruti,2015,625000,50000,Diesel,Individual,Manual,First Owner,26.59,1248,74,5\\nHyundai,2012,267000,40000,Petrol,Individual,Manual,First Owner,20.36,1197,78.9,5\\nHyundai,2016,600000,25000,Petrol,Individual,Manual,First Owner,17.19,1197,81.86,5\\nMaruti,2011,180000,110000,Petrol,Individual,Manual,Second Owner,15.37,1196,73,7\\nToyota,2019,700000,5000,Petrol,Individual,Manual,First Owner,23.87,1197,88.5,5\\nMaruti,2013,121000,50000,Petrol,Individual,Manual,Second Owner,16.1,796,37,4\\nHyundai,2014,350000,80000,Petrol,Individual,Manual,Third Owner,18.9,1197,82,5\\nToyota,2012,869999,225000,Diesel,Individual,Manual,Second Owner,12.99,2494,100,8\\nJaguar,2017,2711000,9000,Diesel,Dealer,Automatic,First Owner,13.6,1999,177,5\\nLexus,2019,5150000,20000,Petrol,Dealer,Automatic,First Owner,22.37,2487,214.56,5\\nJaguar,2017,3200000,45000,Diesel,Dealer,Automatic,First Owner,19.33,1999,177,5\\nTata,2015,503000,110000,Diesel,Individual,Manual,First Owner,14.1,2179,147.94,7\\nVolvo,2019,3800000,20000,Diesel,Individual,Automatic,First Owner,18,1969,190,5\\nToyota,2016,2000000,68089,Petrol,Trustmark Dealer,Automatic,First Owner,19.16,2494,157.7,5\\nMaruti,2013,225000,58343,Petrol,Trustmark Dealer,Manual,First Owner,21.79,998,67.05,5\\nMaruti,2018,740000,38817,Diesel,Dealer,Manual,First Owner,27.39,1248,74,5\\nHonda,2016,550000,56494,Petrol,Trustmark Dealer,Manual,First Owner,18.2,1199,88.7,5\\nToyota,2013,750000,79328,Diesel,Trustmark Dealer,Manual,Second Owner,12.99,2494,100.6,7\\nMaruti,2019,650000,5621,Petrol,Trustmark Dealer,Automatic,First Owner,22,1197,81.8,5\\nToyota,2017,625000,25538,Petrol,Trustmark Dealer,Manual,First Owner,16.78,1496,88.73,5\\nMaruti,2018,600000,69779,Petrol,Dealer,Automatic,First Owner,22,1197,81.8,5\\nHyundai,2017,450000,56290,Diesel,Dealer,Manual,First Owner,24,1186,73.97,5\\nBMW,2019,5400000,7500,Diesel,Dealer,Automatic,First Owner,16.78,1995,190,5\\nBMW,2019,5500000,8500,Diesel,Dealer,Automatic,First Owner,16.78,1995,190,5\\nHonda,2019,779000,7032,Petrol,Trustmark Dealer,Automatic,First Owner,19,1199,88.76,5\\nSkoda,2016,645000,11000,Petrol,Dealer,Automatic,First Owner,14.3,1598,103.5,5\\nVolvo,2018,2475000,2000,Diesel,Dealer,Automatic,First Owner,16.8,1984,150,5\\nMaruti,2008,80000,100000,Petrol,Individual,Manual,Third Owner,17.3,1061,64,5\\nHyundai,2008,120000,93331,Petrol,Individual,Manual,Second Owner,19.81,1086,68.05,5\\nMahindra,2012,370000,120000,Diesel,Individual,Manual,Second Owner,13.5,2179,115,5\\nNissan,2015,750000,70000,Diesel,Individual,Manual,First Owner,19.01,1461,108.5,5\\nMahindra,2015,484999,100000,Diesel,Individual,Manual,First Owner,15.96,2523,63,9\\nHyundai,2006,120000,90000,Diesel,Individual,Manual,Second Owner,13.1,1493,82,5\\nHonda,2017,860000,28000,Petrol,Individual,Manual,First Owner,17.8,1497,117.3,5\\nMaruti,2018,650000,50000,Diesel,Individual,Manual,First Owner,28.4,1248,74.02,5\\nMaruti,2014,650000,90000,Diesel,Individual,Manual,First Owner,20.77,1248,88.8,7\\nHyundai,2016,710000,40000,Diesel,Individual,Manual,First Owner,24.8,1396,88.7,5\\nFord,2017,430000,113000,Diesel,Individual,Manual,First Owner,25.83,1498,99,5\\nMaruti,2011,305000,188000,Diesel,Individual,Manual,Second Owner,17.8,1248,75,5\\nFord,2011,220000,100000,Diesel,Individual,Manual,First Owner,20,1399,68,5\\nTata,2010,150000,225000,Diesel,Individual,Manual,Third Owner,14,1948,90,9\\nMahindra,2017,660000,67000,Diesel,Individual,Manual,Second Owner,18.49,1493,100,7\\nChevrolet,2011,140000,70000,Diesel,Individual,Manual,Fourth & Above Owner,25.44,936,57.6,5\\nToyota,2015,1100000,50000,Petrol,Individual,Manual,First Owner,14.28,1798,138.03,5\\nJaguar,2013,2450000,60000,Diesel,Individual,Automatic,First Owner,16.36,2179,187.7,5\\nVolkswagen,2017,625000,34000,Diesel,Individual,Automatic,First Owner,22,1498,108.495,5\\nHonda,2004,198000,110000,Petrol,Individual,Manual,Third Owner,12.8,1493,100,5\\nHyundai,2001,60000,71000,Petrol,Individual,Manual,Second Owner,,,,\\nMaruti,2005,130000,140000,Petrol,Individual,Manual,Second Owner,18.9,998,67.1,5\\nHonda,2012,540000,100000,Petrol,Individual,Manual,Second Owner,16.8,1497,116.3,5\\nHyundai,2017,550000,10000,Petrol,Individual,Automatic,First Owner,18.9,1197,81.86,5\\nMaruti,2018,475000,30000,Petrol,Individual,Manual,First Owner,21.63,998,67.04,5\\nToyota,2016,3100000,90000,Diesel,Individual,Automatic,First Owner,15.04,2755,174.5,7\\nMaruti,2010,217000,120000,Diesel,Individual,Manual,First Owner,21.1,1248,73.9,5\\nHyundai,2002,35000,184000,Petrol,Individual,Manual,Second Owner,,,,\\nMaruti,2019,750000,6500,Petrol,Individual,Automatic,First Owner,21.21,1197,81.8,5\\nMaruti,2010,350000,80000,Petrol,Individual,Manual,First Owner,11.96,1298,80,8\\nMahindra,2008,400000,100000,Diesel,Individual,Manual,Third Owner,12.05,2179,120,7\\nToyota,2015,570000,120000,Diesel,Individual,Manual,Second Owner,23.59,1364,67.05,5\\nHyundai,2012,180000,120000,Petrol,Individual,Manual,Second Owner,21.1,814,55.2,5\\nOpel,1998,68000,110000,Petrol,Individual,Manual,Third Owner,13.1,1598,77,5\\nSkoda,2006,280000,150000,Diesel,Individual,Manual,Third Owner,18.7,1896,66,5\\nTata,2005,90000,120000,Diesel,Individual,Manual,Fourth & Above Owner,16.1,1405,70,5\\nMercedes-Benz,2015,2600000,100000,Diesel,Individual,Automatic,Second Owner,15.26,2143,203.2,5\\nTata,2018,700000,63000,Diesel,Individual,Manual,First Owner,15.3,2956,83.83,7\\nMercedes-Benz,2016,1850000,40000,Diesel,Individual,Automatic,Second Owner,17.9,2143,136,5\\nFord,2015,685000,109000,Diesel,Dealer,Manual,First Owner,22.7,1498,89.84,5\\nMaruti,2015,565000,114000,Diesel,Dealer,Manual,First Owner,25.2,1248,73.94,5\\nSkoda,2017,1600000,33000,Petrol,Dealer,Automatic,Second Owner,14.7,1798,177.5,5\\nHyundai,2014,395000,160000,Diesel,Dealer,Manual,Third Owner,24,1120,70,5\\nHyundai,2013,425000,101000,Diesel,Dealer,Manual,First Owner,21.9,1396,88.76,5\\nVolkswagen,2019,1350000,5400,Diesel,Dealer,Manual,Test Drive Car,22.27,1498,108.6,5\\nHyundai,2016,1950000,45000,Diesel,Dealer,Automatic,Second Owner,16.38,1995,183,5\\nRenault,2018,535000,31000,Petrol,Dealer,Automatic,First Owner,24.04,999,67,5\\nRenault,2018,500000,31000,Petrol,Dealer,Manual,First Owner,23.01,999,67,5\\nMaruti,2016,434999,55000,Petrol,Dealer,Manual,First Owner,20.52,1197,81.8,5\\nTata,2018,250000,55000,Petrol,Dealer,Automatic,First Owner,21.9,624,37.48,4\\nHyundai,2014,700000,117000,Diesel,Dealer,Manual,First Owner,22.32,1582,126.32,5\\nBMW,2010,1100000,102000,Diesel,Dealer,Automatic,First Owner,19.62,1995,187.74,5\\nVolkswagen,2012,900000,108000,Diesel,Dealer,Automatic,First Owner,17.42,1968,175,5\\nMaruti,2015,425000,75000,Petrol,Dealer,Manual,First Owner,20.52,1197,81.8,5\\nMercedes-Benz,2011,1600000,74000,Diesel,Dealer,Automatic,First Owner,10,2148,170,5\\nFord,2013,325000,158000,Diesel,Dealer,Manual,First Owner,24.4,1499,98.96,5\\nIsuzu,2019,2700000,10000,Diesel,Individual,Automatic,First Owner,13.8,2999,174.57,7\\nFord,2018,950000,40000,Diesel,Individual,Manual,First Owner,23,1498,98.96,5\\nTata,2019,1140000,10000,Diesel,Individual,Automatic,First Owner,21.5,1497,108.5,5\\nTata,2017,980000,53000,Diesel,Individual,Manual,First Owner,17.6,2179,147.94,7\\nJeep,2017,1920000,20000,Diesel,Individual,Manual,Second Owner,16.3,1956,170,5\\nVolkswagen,2020,808000,5000,Petrol,Individual,Manual,First Owner,18.24,999,108.6,5\\nMaruti,2014,550000,30000,Petrol,Individual,Manual,First Owner,19.1,1197,85.8,5\\nMaruti,2010,215000,64000,Petrol,Individual,Manual,First Owner,19.7,796,46.3,5\\nFord,2016,512000,10500,Petrol,Individual,Manual,First Owner,18.16,1196,86.8,5\\nMaruti,2011,215000,50000,Petrol,Individual,Manual,Second Owner,19.7,796,46.3,5\\nSkoda,2012,500000,60000,Diesel,Individual,Manual,First Owner,20.5,1598,103.5,5\\nSkoda,2015,700000,35000,Diesel,Individual,Manual,First Owner,21.14,1498,103.52,5\\nTata,2012,525000,135000,Diesel,Individual,Manual,First Owner,13.93,2179,138.03,7\\nMahindra,2011,550000,70000,Diesel,Individual,Manual,Second Owner,12.05,2179,120,9\\nMaruti,2016,750000,80000,Diesel,Individual,Manual,First Owner,24.3,1248,88.5,5\\nMaruti,2017,395000,25000,Petrol,Individual,Manual,First Owner,21.63,998,67,5\\nHyundai,2017,675000,5000,Petrol,Individual,Manual,First Owner,18.6,1197,81.83,5\\nHyundai,2008,140000,80000,Petrol,Individual,Manual,Third Owner,17.92,1086,62.1,5\\nMahindra,2011,430000,120000,Diesel,Individual,Manual,Second Owner,12.05,2179,120,8\\nJaguar,2017,2711000,9000,Diesel,Dealer,Automatic,First Owner,13.6,1999,177,5\\nLexus,2019,5150000,20000,Petrol,Dealer,Automatic,First Owner,22.37,2487,214.56,5\\nJaguar,2017,3200000,45000,Diesel,Dealer,Automatic,First Owner,19.33,1999,177,5\\nTata,2015,503000,110000,Diesel,Individual,Manual,First Owner,14.1,2179,147.94,7\\nVolvo,2019,3800000,20000,Diesel,Individual,Automatic,First Owner,18,1969,190,5\\nToyota,2016,2000000,68089,Petrol,Trustmark Dealer,Automatic,First Owner,19.16,2494,157.7,5\\nMaruti,2013,225000,58343,Petrol,Trustmark Dealer,Manual,First Owner,21.79,998,67.05,5\\nMaruti,2018,740000,38817,Diesel,Dealer,Manual,First Owner,27.39,1248,74,5\\nHonda,2016,550000,56494,Petrol,Trustmark Dealer,Manual,First Owner,18.2,1199,88.7,5\\nToyota,2013,750000,79328,Diesel,Trustmark Dealer,Manual,Second Owner,12.99,2494,100.6,7\\nMaruti,2019,650000,5621,Petrol,Trustmark Dealer,Automatic,First Owner,22,1197,81.8,5\\nToyota,2017,625000,25538,Petrol,Trustmark Dealer,Manual,First Owner,16.78,1496,88.73,5\\nMaruti,2018,600000,69779,Petrol,Dealer,Automatic,First Owner,22,1197,81.8,5\\nHyundai,2017,450000,56290,Diesel,Dealer,Manual,First Owner,24,1186,73.97,5\\nBMW,2019,5400000,7500,Diesel,Dealer,Automatic,First Owner,16.78,1995,190,5\\nBMW,2019,5500000,8500,Diesel,Dealer,Automatic,First Owner,16.78,1995,190,5\\nHonda,2019,779000,7032,Petrol,Trustmark Dealer,Automatic,First Owner,19,1199,88.76,5\\nSkoda,2016,645000,11000,Petrol,Dealer,Automatic,First Owner,14.3,1598,103.5,5\\nVolvo,2018,2475000,2000,Diesel,Dealer,Automatic,First Owner,16.8,1984,150,5\\nToyota,2011,270000,167000,Petrol,Individual,Manual,First Owner,,,,\\nToyota,2011,270000,167000,Petrol,Individual,Manual,First Owner,,,,\\nMaruti,2014,300000,10000,Petrol,Individual,Manual,First Owner,20.51,998,67.04,5\\nChevrolet,2013,355000,68000,Diesel,Individual,Manual,First Owner,22.1,1248,76.9,5\\nMaruti,2015,180000,35000,Petrol,Individual,Manual,Second Owner,22.74,796,47.3,5\\nTata,2013,280000,70000,Diesel,Individual,Manual,First Owner,25,1396,69,5\\nTata,2011,250000,70000,Diesel,Individual,Manual,First Owner,19,1248,90,5\\nTata,2007,125000,50000,Petrol,Individual,Manual,First Owner,15.3,1193,65.3,5\\nMaruti,2006,150000,80000,Diesel,Individual,Manual,First Owner,,,,\\nHyundai,2006,95000,60898,Petrol,Individual,Manual,First Owner,,,,\\nMaruti,2018,810000,29700,Diesel,Individual,Manual,First Owner,25.1,1248,88.5,5\\nHyundai,2018,671000,20000,Petrol,Individual,Automatic,First Owner,18.6,1368,98.63,5\\nMaruti,2018,295000,20000,Petrol,Individual,Manual,First Owner,24.7,796,47.3,5\\nMaruti,2017,850000,40000,Diesel,Individual,Manual,First Owner,24.52,1248,88.5,7\\nMaruti,2013,409999,90000,Diesel,Individual,Manual,First Owner,22.9,1248,74,5\\nMaruti,2015,600000,90000,Petrol,Individual,Manual,First Owner,16.02,1373,93.7,7\\nMahindra,2015,600000,80000,Diesel,Individual,Manual,First Owner,15.96,2523,62.1,7\\nMaruti,2012,220000,60000,Petrol,Individual,Manual,Third Owner,18.9,998,67.1,5\\nMaruti,2013,550000,56000,Diesel,Individual,Manual,First Owner,23.4,1248,74,5\\nMahindra,2014,650000,50000,Diesel,Individual,Manual,First Owner,14,2523,75,8\\nMahindra,2014,655000,50000,Diesel,Individual,Manual,Second Owner,14,2523,75,9\\nTata,2006,130000,74000,Diesel,Individual,Manual,First Owner,13.7,1948,68,7\\nRenault,2014,400000,123000,Diesel,Individual,Manual,First Owner,19.01,1461,108.45,5\\nMaruti,2007,250000,60000,Petrol,Individual,Manual,Third Owner,,,,\\nMaruti,2009,155000,54000,Petrol,Individual,Manual,First Owner,19.7,796,46.3,5\\nTata,2013,250000,50000,Petrol,Individual,Manual,First Owner,15.64,1193,64.1,5\\nHyundai,2014,400000,80000,Petrol,Individual,Manual,Second Owner,18.9,1197,82,5\\nDatsun,2019,500000,10000,Petrol,Individual,Manual,First Owner,19.02,1198,67.05,5\\nHyundai,2018,565000,10000,Petrol,Individual,Automatic,First Owner,20.3,1086,68,5\\nFord,2018,900000,40000,Diesel,Individual,Manual,First Owner,23,1498,98.96,5\\nMahindra,2017,650000,120000,Diesel,Individual,Manual,First Owner,16.5,1493,70,7\\nMahindra,2013,600000,45000,Diesel,Individual,Manual,First Owner,15.96,2523,62.1,7\\nMaruti,2018,800000,35000,Diesel,Individual,Manual,First Owner,28.4,1248,74.02,5\\nHyundai,2015,575000,60000,Diesel,Individual,Manual,First Owner,22.54,1396,88.73,5\\nFord,2016,550000,40000,Petrol,Individual,Automatic,First Owner,17.01,1499,110.4,5\\nMaruti,2011,190000,80000,Petrol,Individual,Manual,Third Owner,15.5,1586,103.3,5\\nFord,2017,750000,37000,Diesel,Individual,Manual,First Owner,23,1498,98.96,5\\nMaruti,2018,625000,22000,Petrol,Individual,Manual,First Owner,21.4,1197,83.1,5\\nHyundai,2018,799000,60000,Diesel,Individual,Manual,Second Owner,22.54,1396,88.73,5\\nMaruti,2013,300000,57000,Petrol,Individual,Manual,Second Owner,20.51,998,67.04,5\\nMaruti,2017,850000,27000,Petrol,Individual,Manual,First Owner,20.73,1373,91.1,5\\nChevrolet,2012,130000,70000,Petrol,Individual,Manual,First Owner,18,995,62,5\\nMaruti,2011,229999,40000,Petrol,Individual,Manual,Second Owner,20.92,998,67.1,5\\nMaruti,2015,400000,60000,Petrol,Individual,Manual,First Owner,23.1,998,67.04,5\\nMahindra,2018,900000,35000,Diesel,Individual,Manual,First Owner,16.55,2498,105,6\\nMahindra,2015,800000,70000,Diesel,Individual,Manual,First Owner,15.4,1997,120,7\\nHyundai,2015,250999,43000,Petrol,Individual,Manual,Second Owner,21.1,814,55.2,5\\nTata,2011,250000,110000,Petrol,Individual,Manual,Second Owner,15,1368,90,5\\nFiat,2009,100000,100000,Petrol,Individual,Manual,Second Owner,15.7,1172,67,5\\nMaruti,2016,450000,64000,Petrol,Individual,Manual,First Owner,20.4,1197,81.8,5\\nRenault,2017,575000,96000,Diesel,Individual,Manual,First Owner,19.87,1461,83.8,5\\nRenault,2013,400000,96000,Diesel,Individual,Manual,First Owner,20.46,1461,83.8,5\\nMaruti,2019,480000,7600,Petrol,Individual,Manual,First Owner,21.63,998,67,5\\nMaruti,2019,490000,7000,Petrol,Individual,Manual,First Owner,21.63,998,67,5\\nTata,2007,150000,120000,Diesel,Individual,Manual,Second Owner,17,1405,70,5\\nTata,2017,600000,50000,Diesel,Individual,Manual,First Owner,22.95,1248,74,5\\nHyundai,2015,500000,50000,Diesel,Individual,Manual,Second Owner,24.4,1120,71,5\\nTata,2015,425000,80000,Diesel,Individual,Manual,First Owner,23,1248,88.7,5\\nHyundai,2003,108000,200000,Diesel,Individual,Manual,Second Owner,13.1,1493,82,5\\nToyota,2015,1030000,190000,Diesel,Individual,Manual,First Owner,12.99,2494,100.6,7\\nMaruti,2015,360000,34000,Petrol,Individual,Manual,First Owner,20.51,998,67.04,5\\nVolkswagen,2012,290000,80000,Petrol,Individual,Manual,Second Owner,16.47,1198,73.9,5\\nMaruti,2011,400000,72000,Diesel,Individual,Manual,First Owner,22.9,1248,74,5\\nMaruti,2003,70000,20000,Diesel,Individual,Manual,First Owner,15.9,1527,57,5\\nTata,2012,320000,70000,Diesel,Individual,Manual,Second Owner,15.3,2956,83.8,7\\nFord,2019,975000,30000,Diesel,Individual,Manual,First Owner,23,1498,98.96,5\\nHonda,2019,1227000,5000,Petrol,Individual,Automatic,First Owner,18,1497,117.6,5\\nHyundai,2014,755000,29340,Diesel,Individual,Manual,First Owner,22.32,1582,126.32,5\\nFord,2011,215000,120000,Diesel,Individual,Manual,First Owner,20,1399,68,5\\nToyota,2011,735000,200000,Diesel,Individual,Manual,Second Owner,12.8,2494,102,7\\nHyundai,2007,190000,70000,Petrol,Individual,Manual,Second Owner,19.81,1086,68.05,5\\nToyota,2014,1365000,80800,Diesel,Individual,Manual,Second Owner,12.99,2494,100.6,8\\nHonda,2018,675000,24265,Petrol,Dealer,Manual,First Owner,18.7,1199,88.7,5\\nMaruti,2014,438999,81000,Diesel,Dealer,Manual,First Owner,23.4,1248,74,5\\nRenault,2015,550000,240000,Diesel,Individual,Manual,First Owner,19.98,1461,108.5,7\\nMaruti,2013,409999,35000,Petrol,Individual,Manual,First Owner,19.1,1197,85.8,5\\nRenault,2019,350000,15000,Petrol,Individual,Manual,First Owner,25.17,799,53.3,5\\nChevrolet,2012,135000,49000,Diesel,Individual,Manual,Third Owner,25.44,936,57.6,5\\nToyota,2016,1490000,56900,Diesel,Individual,Manual,Second Owner,13.68,2393,147.8,8\\nMaruti,2014,520000,70000,Diesel,Individual,Manual,Second Owner,25.2,1248,74,5\\nMaruti,2010,315000,180000,Diesel,Individual,Manual,First Owner,19.3,1248,73.9,5\\nMaruti,2010,235000,50000,Petrol,Individual,Manual,First Owner,19,998,66.1,5\\nHyundai,2005,80500,50000,Petrol,Individual,Manual,Third Owner,13.2,1495,94,5\\nMaruti,2013,375000,88200,Diesel,Individual,Manual,First Owner,23.2,1248,73.94,5\\nMaruti,2006,189000,93000,Petrol,Individual,Manual,Second Owner,16.1,1197,85,5\\nHonda,2017,550000,120000,Diesel,Individual,Manual,First Owner,25.8,1498,98.6,5\\nFord,2011,260000,110000,Diesel,Individual,Manual,Second Owner,17.8,1399,68,5\\nMaruti,2016,650000,50000,Diesel,Individual,Automatic,Second Owner,26.59,1248,74,5\\nMaruti,2013,480000,80000,Diesel,Individual,Manual,First Owner,23.4,1248,74,5\\nHyundai,2016,700000,40000,Diesel,Individual,Manual,First Owner,22.54,1396,88.73,5\\nMaruti,2015,650000,110000,Diesel,Individual,Manual,Third Owner,20.77,1248,88.76,7\\nHyundai,2015,1300000,48000,Diesel,Individual,Manual,Second Owner,19.67,1582,126.2,5\\nVolkswagen,2016,1350000,97000,Diesel,Individual,Automatic,First Owner,16.96,1968,138.03,5\\nVolkswagen,2016,1000000,60000,Diesel,Individual,Automatic,First Owner,22.15,1498,108.6,5\\nMercedes-Benz,2011,1700000,110000,Diesel,Individual,Automatic,Third Owner,0,2987,165,5\\nToyota,2018,1080000,12800,Petrol,Individual,Automatic,First Owner,17.8,1496,105.5,5\\nHyundai,2012,170000,40000,Petrol,Individual,Manual,First Owner,21.1,814,55.2,5\\nMaruti,2017,610000,49000,Diesel,Individual,Manual,First Owner,28.4,1248,74,5\\nMaruti,2014,350000,25000,Petrol,Individual,Manual,First Owner,18.5,1197,85.8,5\\nMaruti,2016,260000,65000,Petrol,Individual,Manual,Second Owner,22.74,796,47.3,5\\nFiat,2015,700000,20000,Diesel,Individual,Manual,First Owner,20.4,1248,91.7,5\\nVolkswagen,2018,678000,17000,Petrol,Individual,Manual,First Owner,18.78,999,75,5\\nMaruti,2015,800000,15000,Diesel,Individual,Manual,First Owner,23.65,1248,88.5,5\\nToyota,2014,400000,120000,Diesel,Individual,Manual,Second Owner,23.59,1364,67.04,5\\nHyundai,2010,300000,49000,Petrol,Individual,Manual,First Owner,18.5,1197,80,5\\nHyundai,2016,520000,29000,Petrol,Individual,Manual,First Owner,18.6,1197,81.83,5\\nNissan,2017,850000,55000,Diesel,Individual,Automatic,First Owner,19.61,1461,108.5,5\\nMaruti,2015,300000,40000,Petrol,Individual,Manual,First Owner,23.95,998,67.05,5\\nHonda,2010,350000,120000,Petrol,Individual,Manual,Second Owner,17,1497,118,5\\nMaruti,1999,70000,100000,LPG,Individual,Manual,Fourth & Above Owner,,,,\\nMaruti,2019,892000,10000,Diesel,Individual,Manual,First Owner,24.3,1248,88.5,5\\nFiat,2012,285000,70000,Diesel,Individual,Manual,Second Owner,20.3,1248,92,5\\nHyundai,2012,300000,60000,LPG,Individual,Manual,First Owner,19.2,1086,68.05,5\\nMaruti,2016,620000,90000,Diesel,Individual,Manual,First Owner,28.09,1248,88.5,5\\nMaruti,2017,750000,90000,Diesel,Individual,Manual,First Owner,24.3,1248,88.5,5\\nMaruti,2016,270000,35000,Petrol,Individual,Manual,First Owner,22.74,796,47.3,5\\nMaruti,2014,560000,90000,Diesel,Individual,Manual,First Owner,20.77,1248,88.8,7\\nHyundai,2012,300000,40000,Petrol,Individual,Manual,Second Owner,17.92,1086,62.1,5\\nHyundai,2012,300000,40000,Petrol,Individual,Manual,Second Owner,17.92,1086,62.1,5\\nHyundai,2018,570000,20000,Petrol,Individual,Manual,First Owner,18.9,1197,81.86,5\\nTata,2011,220000,80000,Diesel,Individual,Manual,First Owner,23.03,1396,69,5\\nMaruti,2012,260000,99000,Petrol,Individual,Manual,Second Owner,15.5,1586,103.3,5\\nMaruti,2019,600000,7500,Petrol,Individual,Automatic,First Owner,21.21,1197,81.8,5\\nTata,2015,80000,60000,Petrol,Individual,Manual,First Owner,23.9,624,37.48,4\\nHyundai,2016,300000,40800,Petrol,Individual,Manual,First Owner,21.1,814,55.2,5\\nTata,2015,300000,70000,Petrol,Individual,Manual,First Owner,17.57,1193,88.7,5\\nMahindra,2016,400000,100000,Petrol,Individual,Manual,First Owner,18.15,1198,82,5\\nMaruti,2016,550000,8588,Petrol,Individual,Manual,First Owner,22,1197,81.8,5\\nHonda,2019,1200000,40000,Diesel,Individual,Manual,First Owner,25.6,1498,97.9,5\\nFord,2015,500000,60000,Diesel,Individual,Manual,First Owner,25.83,1498,99,5\\nMaruti,2005,93000,80000,Petrol,Individual,Manual,Third Owner,15.9,1298,85,5\\nHonda,2014,500000,110000,Diesel,Individual,Manual,First Owner,26,1498,98.6,5\\nToyota,2018,670000,150000,Diesel,Individual,Manual,First Owner,23.59,1364,67.05,5\\nToyota,2012,750000,120000,Diesel,Individual,Manual,Second Owner,12.8,2494,102,7\\nMaruti,2017,370000,30000,Petrol,Individual,Manual,First Owner,23.95,998,67.05,5\\nMaruti,2012,100000,70000,Petrol,Individual,Manual,Second Owner,16.1,796,37,4\\nHyundai,2016,425000,50000,Petrol,Individual,Manual,First Owner,19.81,1086,68.05,5\\nToyota,2006,370000,305000,Diesel,Individual,Manual,Fourth & Above Owner,12.8,2494,102,8\\nToyota,2012,400000,158500,Diesel,Individual,Manual,Third Owner,,,,\\nTata,2009,229999,212000,Diesel,Individual,Manual,Third Owner,11.57,2179,138.1,7\\nMaruti,2016,850000,35000,Diesel,Individual,Manual,First Owner,24.52,1248,88.5,7\\nMahindra,2018,750000,22000,Diesel,Individual,Manual,First Owner,21.03,1461,65,5\\nTata,2010,235000,50000,Diesel,Individual,Manual,First Owner,10.71,1948,90,14\\nHonda,2017,700000,70000,Diesel,Individual,Manual,First Owner,25.5,1498,98.6,5\\nHyundai,2016,480000,56000,Diesel,Individual,Manual,First Owner,24,1120,70,5\\nTata,2016,475000,50000,Diesel,Individual,Manual,First Owner,22.95,1248,74,5\\nSkoda,2015,610000,120000,Diesel,Individual,Manual,First Owner,21.14,1498,103.52,5\\nToyota,2011,650000,120000,Diesel,Individual,Manual,Second Owner,12.8,2494,102,8\\nHonda,2017,800000,70000,Diesel,Individual,Manual,First Owner,25.5,1498,98.6,5\\nTata,2015,520000,120000,Diesel,Individual,Manual,First Owner,11.57,2179,138.1,7\\nTata,2014,160000,90000,Diesel,Individual,Manual,First Owner,25,1396,69,5\\nMaruti,2018,1000000,70000,Diesel,Individual,Manual,First Owner,25.1,1248,88.5,5\\nMaruti,2015,700000,120000,Diesel,Individual,Manual,Second Owner,20.77,1248,88.76,7\\nHonda,2017,590000,70000,Diesel,Individual,Manual,Second Owner,25.8,1498,98.6,5\\nMaruti,2002,140000,80000,Petrol,Individual,Manual,Second Owner,18.9,998,67.1,5\\nMahindra,2017,725000,100000,Diesel,Individual,Manual,Second Owner,18.49,1493,100,7\\nToyota,2017,1680000,157000,Diesel,Individual,Manual,First Owner,13.68,2393,147.8,7\\nMaruti,2015,550000,50000,Diesel,Individual,Manual,First Owner,26.59,1248,74,5\\nMaruti,2012,240000,90000,Diesel,Individual,Manual,Second Owner,23.2,1248,73.94,5\\nChevrolet,2013,667000,65000,Diesel,Individual,Manual,First Owner,14.6,2231,184,7\\nHonda,2017,670000,50000,Diesel,Individual,Manual,First Owner,27.3,1498,98.6,5\\nMaruti,2015,550000,110000,Diesel,Individual,Manual,First Owner,26.59,1248,74,5\\nMaruti,2015,400000,30000,Petrol,Individual,Manual,First Owner,23.1,998,67.04,5\\nHyundai,2014,545000,80000,Diesel,Individual,Manual,Second Owner,22.32,1582,126.32,5\\nMaruti,2015,599000,70000,Petrol,Individual,Manual,First Owner,16.02,1373,93.7,7\\nHyundai,2016,725000,100000,Diesel,Individual,Manual,First Owner,21.38,1396,88.7,5\\nHonda,2015,525000,120000,Petrol,Individual,Manual,Second Owner,17.4,1497,117.3,5\\nMaruti,2011,204999,85000,Diesel,Individual,Manual,Second Owner,21.1,1248,73.9,5\\nSkoda,2012,190000,110000,Diesel,Individual,Manual,First Owner,21,1199,75,5\\nHyundai,2015,310000,60000,Diesel,Individual,Manual,Fourth & Above Owner,24,1120,70,5\\nHyundai,2016,380000,90000,Diesel,Individual,Manual,Second Owner,24,1120,70,5\\nMaruti,2012,204000,110000,Petrol,Individual,Manual,Third Owner,20.92,998,67.1,5\\nHyundai,2018,350000,25000,Petrol,Individual,Manual,First Owner,20.3,998,68.05,5\\nVolkswagen,2013,350000,100000,Diesel,Individual,Manual,First Owner,20.54,1598,103.6,5\\nFord,2012,175000,120000,Diesel,Individual,Manual,Second Owner,20,1399,68,5\\nVolkswagen,2011,340000,90000,Diesel,Individual,Manual,First Owner,20.54,1598,103.6,5\\nHonda,2017,950000,35000,Petrol,Individual,Manual,First Owner,17.4,1497,117.6,5\\nHonda,2017,894999,35000,Petrol,Individual,Manual,First Owner,17.8,1497,117.3,5\\nTata,2014,350000,101200,Diesel,Individual,Manual,Second Owner,15.3,2956,83.83,7\\nTata,2005,100000,90000,Petrol,Individual,Manual,Second Owner,12.8,1396,85,5\\nMaruti,2016,550000,76000,Diesel,Individual,Manual,First Owner,26.59,1248,74,5\\nTata,2004,100000,60000,Diesel,Individual,Manual,Third Owner,16.1,1405,70,5\\nMahindra,2016,800000,90000,Diesel,Individual,Manual,First Owner,16,2179,140,7\\nMahindra,2013,525000,80000,Diesel,Individual,Manual,Second Owner,15.96,2523,62.1,7\\nTata,2008,500000,179150,Diesel,Individual,Manual,Second Owner,11.57,2179,138.1,7\\nMaruti,2003,42000,62000,Petrol,Individual,Manual,First Owner,16.1,796,37,4\\nMaruti,2009,190000,160000,Petrol,Individual,Manual,Third Owner,17.5,1197,85.8,5\\nMaruti,2019,694000,35000,Diesel,Individual,Manual,First Owner,28.4,1248,74.02,5\\nMahindra,2016,861999,120000,Diesel,Individual,Automatic,First Owner,16,2179,140,7\\nHonda,2017,650000,50000,Diesel,Individual,Manual,First Owner,25.8,1498,98.6,5\\nMaruti,2011,310000,70000,Diesel,Individual,Manual,Second Owner,19.3,1248,73.9,5\\nMaruti,2013,360000,97000,Diesel,Individual,Manual,First Owner,22.9,1248,74,5\\nMaruti,2011,240000,90000,Diesel,Individual,Manual,Second Owner,19.3,1248,73.9,5\\nMahindra,2012,500000,84487,Diesel,Individual,Manual,Fourth & Above Owner,15.1,2179,140,7\\nToyota,2010,475000,100000,Diesel,Individual,Manual,Second Owner,12.8,2494,102,7\\nMaruti,2007,100000,60000,Petrol,Individual,Manual,Third Owner,19.7,796,46.3,5\\nMaruti,2009,200000,110000,Petrol,Individual,Manual,Third Owner,15,1586,104.68,5\\nToyota,2006,430000,264000,Diesel,Individual,Manual,First Owner,12.8,2494,102,8\\nMahindra,2010,245000,146000,Diesel,Individual,Manual,Fourth & Above Owner,14,2498,112,7\\nMaruti,2014,450000,70000,Diesel,Individual,Manual,First Owner,23.4,1248,74,5\\nMaruti,2017,800000,51146,Diesel,Individual,Manual,First Owner,24.3,1248,88.5,5\\nMaruti,2011,215000,40000,Petrol,Individual,Manual,First Owner,21.1,1197,85.8,5\\nMaruti,2017,760000,50000,Diesel,Individual,Manual,First Owner,24.3,1248,88.5,5\\nVolkswagen,2015,416000,80000,Diesel,Individual,Manual,First Owner,20.14,1498,88.8,5\\nMaruti,2011,195000,120000,Petrol,Individual,Manual,First Owner,18.9,998,67.1,5\\nMaruti,2017,325000,23000,Petrol,Individual,Manual,First Owner,24.7,796,47.3,5\\nMaruti,2010,145000,70000,Petrol,Individual,Manual,Second Owner,20.92,998,67.1,5\\nMaruti,2018,675000,23000,Diesel,Individual,Manual,First Owner,28.4,1248,74,5\\nMaruti,2016,340000,30000,Petrol,Individual,Manual,Second Owner,20.51,998,67.04,5\\nTata,2011,340000,50000,Diesel,Individual,Manual,First Owner,19,1248,90,5\\nMaruti,2014,260000,40000,Petrol,Individual,Manual,First Owner,16.8,796,34.2,5\\nMaruti,2015,300000,50000,Petrol,Individual,Manual,First Owner,22.74,796,47.3,5\\nMaruti,2007,75000,60000,Petrol,Individual,Manual,Second Owner,16.1,796,37,4\\nTata,2011,350000,80000,Diesel,Individual,Manual,First Owner,19.4,1405,70,5\\nMaruti,2019,1000000,15000,Petrol,Individual,Manual,First Owner,19.01,1462,103.2,6\\nTata,2010,170000,150000,Diesel,Individual,Manual,Third Owner,21.12,1248,88.8,5\\nMaruti,2018,600000,40000,Petrol,Individual,Manual,First Owner,19,1197,85.8,5\\nHonda,2010,800000,25000,Petrol,Individual,Automatic,First Owner,16.8,1497,118,5\\nForce,2018,850000,120000,Diesel,Individual,Manual,Second Owner,17,2650,80.84,7\\nMahindra,2014,980000,120000,Diesel,Individual,Manual,Second Owner,15.1,2179,140,7\\nFord,2011,850000,298000,Diesel,Individual,Manual,Second Owner,13.1,2499,141,7\\nTata,2012,340000,270000,Diesel,Individual,Manual,Third Owner,14.07,2956,68.4,7\\nMaruti,2018,900000,50000,Diesel,Individual,Automatic,Second Owner,24.3,1248,88.5,5\\nMaruti,2010,310000,120000,Diesel,Individual,Manual,Second Owner,19.3,1248,73.9,5\\nMaruti,2013,600000,60000,Diesel,Individual,Manual,Third Owner,20.77,1248,88.8,7\\nMaruti,2008,270000,149000,Diesel,Individual,Manual,Second Owner,19.3,1248,73.9,5\\nHyundai,2019,509999,5000,Petrol,Individual,Manual,First Owner,20.3,1086,68,5\\nTata,2013,225000,70000,Diesel,Individual,Manual,Second Owner,19.4,1405,70,5\\nHyundai,2015,280000,55000,Petrol,Individual,Manual,First Owner,20.36,1197,78.9,5\\nTata,2016,490000,100000,Diesel,Individual,Manual,First Owner,27.28,1047,69,5\\nMahindra,2013,440000,120000,Diesel,Individual,Manual,First Owner,15.96,2523,62.1,9\\nTata,2014,500000,291977,Diesel,Individual,Manual,First Owner,14,2179,138.1,7\\nHonda,2005,476999,85000,Petrol,Individual,Manual,Third Owner,11.1,2354,158.8,5\\nHyundai,2015,590000,70000,Petrol,Individual,Manual,Third Owner,17.19,1197,81.86,5\\nFord,2010,500000,120000,Diesel,Individual,Manual,First Owner,13.1,2499,141,7\\nFord,2015,600000,40000,Diesel,Individual,Manual,First Owner,22.77,1498,98.59,5\\nMahindra,2016,750000,70000,Diesel,Individual,Manual,First Owner,15.4,1997,120,7\\nBMW,2017,2950000,39000,Diesel,Dealer,Automatic,First Owner,19.59,1995,187.74,5\\nBMW,2019,5200000,10000,Diesel,Dealer,Automatic,First Owner,18.12,1995,190,5\\nVolkswagen,2019,695000,36800,Diesel,Dealer,Manual,First Owner,20.14,1498,88,5\\nMaruti,2018,690000,52200,Diesel,Dealer,Manual,First Owner,26.59,1248,74,5\\nHyundai,2016,409999,78000,Diesel,Dealer,Manual,First Owner,24,1186,73.97,5\\nTata,2020,1650000,16000,Diesel,Dealer,Manual,First Owner,17,1956,167.67,5\\nAudi,2016,2375000,30000,Diesel,Dealer,Automatic,First Owner,15.73,1968,174.33,5\\nHyundai,2017,525000,29000,Diesel,Dealer,Manual,Second Owner,24,1186,73.97,5\\nJeep,2019,2150000,25000,Diesel,Dealer,Manual,First Owner,16.3,1956,170.63,5\\nMahindra,2013,540000,60000,Diesel,Individual,Manual,Second Owner,15.1,2179,140,7\\nToyota,2017,2750000,60000,Diesel,Dealer,Automatic,Second Owner,12.55,2982,168.5,7\\nMahindra,2016,1000000,112000,Diesel,Dealer,Manual,Second Owner,15.4,1997,120,7\\nAudi,2018,2900000,15000,Diesel,Dealer,Automatic,First Owner,18.25,1968,187.74,5\\nMahindra,2017,725000,40000,Diesel,Dealer,Manual,First Owner,18.49,1493,100,7\\nMaruti,2018,975000,36000,Diesel,Dealer,Manual,First Owner,28.09,1248,88.5,5\\nMaruti,2016,355000,60000,Petrol,Dealer,Manual,First Owner,21.79,998,67.05,5\\nHonda,2008,400000,120000,Petrol,Individual,Manual,First Owner,11.1,2354,158.8,5\\nMaruti,2015,265000,48000,Petrol,Dealer,Manual,First Owner,24.7,796,47.3,5\\nVolkswagen,2018,650000,40000,Diesel,Dealer,Manual,First Owner,20.14,1498,88,5\\nMaruti,2017,720000,60000,Diesel,Individual,Manual,First Owner,28.09,1248,88.5,5\\nHyundai,2016,850000,25000,Petrol,Individual,Manual,First Owner,17.01,1591,121.3,5\\nMaruti,2015,290000,42000,Petrol,Individual,Manual,First Owner,23.95,998,67.05,5\\nMercedes-Benz,2010,1200000,35000,Petrol,Individual,Automatic,Second Owner,10.93,2497,204,5\\nMahindra,2016,600000,90000,Diesel,Individual,Automatic,Second Owner,18.49,1493,100,7\\nMaruti,2011,300000,90000,Diesel,Individual,Manual,Second Owner,21.1,1248,73.9,5\\nRenault,2012,225000,110000,Diesel,Individual,Manual,Second Owner,23.08,1461,63.12,5\\nMaruti,2009,240000,70000,Diesel,Individual,Manual,Second Owner,19.3,1248,73.9,5\\nHyundai,2014,700000,80000,Diesel,Individual,Manual,First Owner,22.32,1582,126.32,5\\nMaruti,2014,470000,70000,Diesel,Individual,Manual,Second Owner,25.2,1248,74,5\\nHyundai,2016,800000,80000,Diesel,Individual,Manual,First Owner,21.19,1396,88.73,5\\nRenault,2012,450000,90000,Diesel,Individual,Manual,First Owner,19.01,1461,108.45,5\\nTata,2007,90000,90000,Diesel,Individual,Manual,Third Owner,17.2,1396,53.5,5\\nToyota,2010,450000,120000,Diesel,Individual,Manual,Second Owner,21.43,1364,87.2,5\\nToyota,2012,400000,107500,Diesel,Individual,Manual,Second Owner,,,,\\nToyota,2017,1465000,62000,Diesel,Dealer,Automatic,First Owner,11.36,2755,171.5,7\\nHyundai,2016,925000,79000,Diesel,Dealer,Manual,First Owner,19.67,1582,126.2,5\\nToyota,2016,1385000,60000,Diesel,Dealer,Manual,Second Owner,13.68,2393,147.8,7\\nToyota,2015,2000000,20000,Diesel,Individual,Manual,First Owner,12.55,2982,168.5,7\\nTata,2004,80000,248200,Diesel,Individual,Manual,Second Owner,16.1,1405,70,5\\nMahindra,2007,300000,110000,Diesel,Individual,Manual,Second Owner,10.5,2179,120,7\\nMaruti,2009,360000,100000,Diesel,Individual,Manual,First Owner,19.3,1248,73.9,5\\nHyundai,2010,320000,70000,Diesel,Individual,Manual,Second Owner,16.2,1493,110,5\\nAmbassador,1994,99000,100000,Diesel,Individual,Manual,Second Owner,12.8,1995,52,5\\nMaruti,2016,780000,50000,Diesel,Individual,Manual,Second Owner,24.52,1248,88.5,7\\nMaruti,2013,620000,139000,Diesel,Individual,Manual,First Owner,20.77,1248,88.76,7\\nSkoda,2006,100000,120000,Petrol,Individual,Manual,Third Owner,13.1,1781,149.5,5\\nTata,2014,210000,35000,Petrol,Individual,Manual,Second Owner,16.7,1172,64.1,5\\nMahindra,2015,375000,80000,Diesel,Individual,Manual,First Owner,15.96,2523,62.1,7\\nRenault,2019,786000,7720,Petrol,Individual,Manual,First Owner,20,999,71,7\\nMahindra,2014,1000000,50000,Diesel,Individual,Manual,First Owner,15.1,2179,140,7\\nMaruti,2002,120000,60000,Diesel,Individual,Manual,Second Owner,20.8,1527,58,5\\nMahindra,2016,750000,100000,Diesel,Individual,Manual,First Owner,20.8,1461,64.1,5\\nHyundai,2016,550000,57882,Petrol,Individual,Manual,First Owner,18.6,1197,81.83,5\\nTata,2018,875000,142000,Diesel,Individual,Manual,First Owner,14.1,2179,147.94,5\\nTata,2018,890000,140000,Diesel,Individual,Manual,Third Owner,14.1,2179,147.94,5\\nMaruti,2015,700000,35000,Petrol,Individual,Manual,First Owner,16.02,1373,93.7,7\\nMahindra,2015,550000,30000,Diesel,Individual,Manual,First Owner,15.96,2523,62.1,7\\nDatsun,2018,400000,10000,Petrol,Individual,Manual,First Owner,19.83,1198,67,5\\nMaruti,2015,290000,30000,Petrol,Individual,Manual,Second Owner,23.1,998,67.04,5\\nTata,2012,150000,90000,Diesel,Individual,Manual,First Owner,19.09,1396,69,5\\nMaruti,2015,300000,35000,Petrol,Individual,Manual,Second Owner,15.37,1196,73,7\\nMaruti,2009,220000,25000,Petrol,Individual,Manual,First Owner,,,,\\nMaruti,2008,221000,35008,Petrol,Dealer,Manual,First Owner,21.79,998,67.05,5\\nDatsun,2017,270000,31100,Petrol,Dealer,Manual,First Owner,22.7,799,53.64,5\\nHyundai,2014,455000,42312,Diesel,Dealer,Manual,First Owner,24.4,1120,71,5\\nToyota,2011,300000,72000,Petrol,Dealer,Manual,First Owner,17.6,1496,88.7,5\\nToyota,2014,480000,54891,Diesel,Dealer,Manual,First Owner,23.59,1364,67.04,5\\nHyundai,2018,1000000,30000,Diesel,Individual,Automatic,First Owner,22,1582,126.2,5\\nBMW,2017,2600000,44000,Diesel,Dealer,Automatic,First Owner,22.69,1995,190,5\\nToyota,2017,1850000,18890,Diesel,Dealer,Automatic,First Owner,11.36,2755,171.5,7\\nHyundai,2019,500000,5000,Petrol,Individual,Manual,First Owner,20.3,1086,68,5\\nMahindra,2013,800000,117000,Diesel,Dealer,Automatic,First Owner,11.18,2696,184,7\\nRenault,2013,1000000,75010,Diesel,Dealer,Automatic,First Owner,13.73,1995,148,5\\nTata,2013,250000,50000,Diesel,Individual,Manual,First Owner,21.02,1248,88.8,5\\nRenault,2012,245000,100000,Diesel,Dealer,Manual,First Owner,23.08,1461,63.1,5\\nHyundai,2019,625000,4337,Petrol,Dealer,Automatic,First Owner,18.9,1197,82,5\\nVolkswagen,2018,560000,14495,Petrol,Dealer,Manual,First Owner,18.78,999,75,5\\nHonda,2018,680000,8576,Petrol,Dealer,Manual,First Owner,18.7,1199,88.7,5\\nMaruti,2019,700000,30000,Diesel,Individual,Manual,First Owner,28.4,1248,74.02,5\\nTata,2013,220000,80000,Diesel,Individual,Manual,First Owner,23.03,1396,69,5\\nTata,2017,450000,70000,Diesel,Individual,Manual,First Owner,19.09,1405,69.01,5\\nTata,2017,525000,19723,Petrol,Dealer,Automatic,First Owner,20.3,1199,84,5\\nToyota,2009,650000,242000,Diesel,Individual,Manual,Fourth & Above Owner,12.8,2494,102,7\\nBMW,2018,5500000,22000,Diesel,Individual,Automatic,First Owner,17.09,2993,261.4,4\\nMaruti,2017,875000,30000,Diesel,Dealer,Automatic,First Owner,28.4,1248,74.02,5\\nHyundai,2019,785000,9000,Petrol,Dealer,Manual,First Owner,18.6,1197,81.83,5\\nHonda,2017,819999,30000,Petrol,Dealer,Manual,First Owner,17.5,1199,88.7,5\\nBMW,2016,2950000,60000,Diesel,Dealer,Automatic,First Owner,21.76,1995,188,5\\nToyota,2016,1925000,27000,Diesel,Dealer,Manual,First Owner,13.68,2393,147.51,7\\nHonda,2017,885000,39000,Diesel,Dealer,Manual,First Owner,25.5,1498,98.6,5\\nFord,2015,680000,64000,Petrol,Dealer,Automatic,First Owner,16.05,1499,110.4,5\\nFord,2017,960000,42000,Diesel,Dealer,Manual,First Owner,23,1498,98.96,5\\nHonda,2012,385000,45000,Petrol,Dealer,Manual,First Owner,18.5,1198,86.8,5\\nTata,2019,1650000,15000,Diesel,Dealer,Manual,First Owner,17,1956,167.67,5\\nMahindra,2018,890000,55000,Diesel,Dealer,Manual,First Owner,18.49,1493,100,7\\nFord,2015,1275000,64000,Diesel,Dealer,Automatic,First Owner,11.4,2953,153.86,7\\nBMW,2018,6000000,27000,Diesel,Dealer,Automatic,First Owner,17.09,2993,261.4,4\\nMaruti,2019,1025000,15000,Petrol,Dealer,Automatic,First Owner,20.28,1462,103.25,5\\nVolkswagen,2016,675000,69000,Petrol,Dealer,Automatic,First Owner,17.2,1197,103.6,5\\nMaruti,2017,700000,80000,Petrol,Dealer,Manual,First Owner,22,1197,81.8,5\\nFord,2016,780000,60000,Diesel,Dealer,Manual,First Owner,22.77,1498,98.59,5\\nHyundai,2017,1050000,70000,Diesel,Dealer,Manual,First Owner,22.32,1582,126.32,5\\nAudi,2015,2700000,105000,Diesel,Dealer,Automatic,Second Owner,13.22,2967,241.4,5\\nTata,2016,400000,100000,Diesel,Individual,Manual,First Owner,22.95,1248,74,5\\nMahindra,2011,400000,100000,Diesel,Individual,Manual,First Owner,15.96,2523,62.1,9\\nMaruti,2009,85000,90000,Petrol,Individual,Manual,Second Owner,19.7,796,46.3,5\\nTata,2018,1300000,35000,Diesel,Individual,Manual,First Owner,17.6,2179,153.86,7\\nMahindra,2018,819999,11500,Diesel,Individual,Manual,First Owner,18.49,1493,100,7\\nMahindra,2015,620000,40000,Diesel,Individual,Automatic,First Owner,18.49,1493,100,7\\nRenault,2018,260000,50000,Petrol,Individual,Manual,First Owner,23.01,999,67,5\\nHyundai,2016,805000,49900,Petrol,Dealer,Manual,First Owner,16.3,1797,147.5,5\\nHyundai,2015,484999,55380,Petrol,Dealer,Manual,First Owner,18.9,1197,82,5\\nJaguar,2017,2711000,9000,Diesel,Dealer,Automatic,First Owner,13.6,1999,177,5\\nTata,2018,811000,11000,Petrol,Dealer,Manual,First Owner,17,1198,108.5,5\\nHonda,2015,575000,50000,Petrol,Individual,Automatic,First Owner,19,1199,88.7,5\\nJeep,2018,1675000,80000,Diesel,Individual,Manual,First Owner,17.1,1956,170,5\\nSkoda,2016,645000,11000,Petrol,Dealer,Automatic,First Owner,14.3,1598,103.5,5\\nJaguar,2015,2500000,13500,Diesel,Dealer,Automatic,First Owner,14.74,2993,270.9,5\\nMercedes-Benz,2018,2550000,18000,Petrol,Dealer,Automatic,First Owner,15.04,1991,183,5\\nMercedes-Benz,2017,2700000,16000,Petrol,Dealer,Automatic,First Owner,14.74,1991,181.04,5\\nVolkswagen,2017,650000,18816,Petrol,Dealer,Manual,First Owner,17,1198,73.75,5\\nToyota,2017,1748999,33019,Diesel,Dealer,Manual,First Owner,13.68,2393,147.8,7\\nHonda,2017,925000,18000,Petrol,Dealer,Automatic,First Owner,15.6,1497,116.3,5\\nToyota,2019,894999,9654,Petrol,Dealer,Automatic,First Owner,19.56,1197,81.8,5\\nMaruti,2011,175000,11000,Petrol,Dealer,Manual,First Owner,23.95,998,67.05,5\\nMaruti,2012,340000,24300,Petrol,Dealer,Manual,First Owner,21.21,1197,81.8,5\\nToyota,2016,1525000,42163,Diesel,Dealer,Automatic,Second Owner,11.36,2755,171.5,7\\nMaruti,2017,810000,47747,Diesel,Dealer,Manual,First Owner,28.09,1248,88.5,5\\nTata,2018,1025000,8000,Diesel,Dealer,Automatic,First Owner,21.5,1497,108.5,5\\nBMW,2016,2150000,30000,Diesel,Dealer,Automatic,First Owner,22.69,1995,190,5\\nToyota,2013,910000,70000,Diesel,Individual,Manual,Second Owner,12.99,2494,100,8\\nTata,2016,300000,60000,Diesel,Individual,Manual,Second Owner,17.88,1405,48.21,5\\nMaruti,2004,120000,80000,Petrol,Individual,Manual,Second Owner,17.3,993,60,5\\nHyundai,2015,490000,45900,Petrol,Individual,Manual,Second Owner,18.6,1197,81.83,5\\nHonda,2013,425000,70000,Diesel,Individual,Manual,First Owner,25.8,1498,98.6,5\\nMaruti,2011,155000,40000,Petrol,Individual,Manual,First Owner,19.7,796,46.3,5\\nMahindra,2013,490000,90000,Diesel,Individual,Manual,Second Owner,12.05,2179,120,8\\nMaruti,2010,132000,105000,Petrol,Individual,Manual,First Owner,19.7,796,46.3,5\\nHyundai,2018,750000,30000,Diesel,Individual,Manual,First Owner,22.54,1396,88.76,5\\nMaruti,2011,225000,20000,Petrol,Individual,Manual,First Owner,18.9,998,67.1,5\\nHyundai,2011,240000,80000,Petrol,Individual,Manual,First Owner,20.36,1197,78.9,5\\nMaruti,2004,33351,90000,Petrol,Individual,Manual,Third Owner,18.9,998,67.1,5\\nChevrolet,2010,80000,80000,Petrol,Individual,Manual,Second Owner,18,995,62,5\\nMaruti,2004,40000,120000,Petrol,Individual,Manual,First Owner,16.1,796,37,4\\nHonda,2019,1100000,50000,Diesel,Individual,Manual,Second Owner,21.9,1498,98.6,7\\nJaguar,2017,2711000,9000,Diesel,Dealer,Automatic,First Owner,13.6,1999,177,5\\nLexus,2019,5150000,20000,Petrol,Dealer,Automatic,First Owner,22.37,2487,214.56,5\\nJaguar,2017,3200000,45000,Diesel,Dealer,Automatic,First Owner,19.33,1999,177,5\\nTata,2015,503000,110000,Diesel,Individual,Manual,First Owner,14.1,2179,147.94,7\\nVolvo,2019,3800000,20000,Diesel,Individual,Automatic,First Owner,18,1969,190,5\\nToyota,2016,2000000,68089,Petrol,Trustmark Dealer,Automatic,First Owner,19.16,2494,157.7,5\\nMaruti,2013,225000,58343,Petrol,Trustmark Dealer,Manual,First Owner,21.79,998,67.05,5\\nMaruti,2018,740000,38817,Diesel,Dealer,Manual,First Owner,27.39,1248,74,5\\nHonda,2016,550000,56494,Petrol,Trustmark Dealer,Manual,First Owner,18.2,1199,88.7,5\\nToyota,2013,750000,79328,Diesel,Trustmark Dealer,Manual,Second Owner,12.99,2494,100.6,7\\nMaruti,2019,650000,5621,Petrol,Trustmark Dealer,Automatic,First Owner,22,1197,81.8,5\\nToyota,2017,625000,25538,Petrol,Trustmark Dealer,Manual,First Owner,16.78,1496,88.73,5\\nMaruti,2018,600000,69779,Petrol,Dealer,Automatic,First Owner,22,1197,81.8,5\\nHyundai,2017,450000,56290,Diesel,Dealer,Manual,First Owner,24,1186,73.97,5\\nBMW,2019,5400000,7500,Diesel,Dealer,Automatic,First Owner,16.78,1995,190,5\\nBMW,2019,5500000,8500,Diesel,Dealer,Automatic,First Owner,16.78,1995,190,5\\nHonda,2019,779000,7032,Petrol,Trustmark Dealer,Automatic,First Owner,19,1199,88.76,5\\nSkoda,2016,645000,11000,Petrol,Dealer,Automatic,First Owner,14.3,1598,103.5,5\\nVolvo,2018,2475000,2000,Diesel,Dealer,Automatic,First Owner,16.8,1984,150,5\\nHyundai,2016,380000,80000,Diesel,Individual,Manual,Second Owner,24.4,1120,71,5\\nTata,2011,300000,120000,Diesel,Individual,Manual,Second Owner,11.57,2179,138.1,7\\nMaruti,2014,240000,50000,Petrol,Individual,Manual,First Owner,22.74,796,47.3,5\\nMaruti,2011,325000,70000,Diesel,Individual,Manual,First Owner,22.9,1248,74,5\\nMahindra,2016,400000,130000,Diesel,Individual,Manual,First Owner,25.32,1198,77,6\\nRenault,2017,800000,50000,Diesel,Individual,Manual,First Owner,21.04,1461,83.8,8\\nFord,2018,950000,80000,Diesel,Individual,Manual,First Owner,23,1498,98.96,5\\nMaruti,2013,300000,120000,Diesel,Individual,Manual,Fourth & Above Owner,22.9,1248,74,5\\nMaruti,2020,350000,5000,Petrol,Individual,Manual,First Owner,22.05,796,47.3,5\\nMahindra,2017,530000,59000,Petrol,Individual,Manual,First Owner,18.15,1198,82,5\\nChevrolet,2013,350000,100000,Diesel,Individual,Manual,Third Owner,18.2,1248,73.8,7\\nHyundai,2008,168000,50000,Petrol,Individual,Automatic,First Owner,11,2359,165,5\\nRenault,2016,240000,45000,Petrol,Individual,Manual,Second Owner,25.17,799,53.3,5\\nMaruti,2010,220000,80000,Diesel,Individual,Manual,Fourth & Above Owner,19.3,1248,73.9,5\\nMaruti,2008,110000,80000,Petrol,Individual,Manual,Fourth & Above Owner,18.9,1061,67,5\\nMaruti,2016,850000,100000,Diesel,Individual,Manual,First Owner,24.3,1248,88.5,5\\nMaruti,2014,545000,110000,Diesel,Individual,Manual,First Owner,20.77,1248,88.76,7\\nToyota,2018,2064000,24000,Diesel,Individual,Manual,First Owner,13.68,2393,147.8,8\\nMaruti,2018,950000,25000,Diesel,Individual,Manual,First Owner,25.1,1248,88.5,5\\nHyundai,2013,200000,68697,Petrol,Individual,Manual,Third Owner,21.1,814,55.2,5\\nMaruti,2017,660000,30000,Diesel,Individual,Manual,First Owner,25.2,1248,74,5\\nHonda,2013,420000,40000,Diesel,Individual,Manual,Second Owner,25.8,1498,98.6,5\\nTata,2010,150000,29000,Petrol,Individual,Manual,First Owner,16.5,1172,65,5\\nChevrolet,2013,175000,68000,Diesel,Individual,Manual,Second Owner,25.44,936,57.6,5\\nHonda,2018,750000,15000,Petrol,Individual,Automatic,First Owner,18.1,1199,88.7,5\\nMaruti,2014,425000,70000,Diesel,Individual,Manual,First Owner,23.2,1248,73.94,5\\nToyota,2015,790000,126000,Diesel,Individual,Manual,Third Owner,21.43,1364,87.2,5\\nToyota,2011,830000,300000,Diesel,Individual,Manual,Third Owner,12.8,2494,102,7\\nHonda,2015,650000,94000,Diesel,Individual,Manual,Second Owner,24.5,1498,98.6,7\\nToyota,2015,780000,129000,Diesel,Individual,Manual,Third Owner,21.43,1364,87.2,5\\nHyundai,2010,180000,55000,Petrol,Individual,Manual,Second Owner,19.81,1086,68.05,5\\nFord,2019,869999,40000,Diesel,Individual,Manual,First Owner,23,1498,98.96,5\\nTata,2011,275000,50000,Diesel,Individual,Manual,First Owner,21.12,1248,88.8,5\\nHyundai,2017,630000,25000,Petrol,Individual,Manual,Second Owner,18.6,1197,81.83,5\\nToyota,2008,150000,60000,Petrol,Individual,Manual,Second Owner,13.4,1794,125,5\\nMaruti,2016,315000,25000,Petrol,Individual,Manual,First Owner,22.74,796,47.3,5\\nTata,2011,189000,70000,Diesel,Individual,Manual,Second Owner,23.57,1396,70,5\\nMaruti,2014,580000,120000,Diesel,Individual,Manual,First Owner,23.4,1248,74,5\\nFiat,2009,150000,153000,Diesel,Individual,Manual,Second Owner,,,,\\nMaruti,2018,825000,35000,Diesel,Individual,Manual,First Owner,24.3,1248,88.5,5\\nTata,2016,650000,60000,Diesel,Individual,Manual,Second Owner,14.1,2179,148,7\\nHonda,2004,50000,62000,Petrol,Individual,Manual,Second Owner,13,1343,90,5\\nSkoda,2011,200000,120000,Petrol,Individual,Manual,Second Owner,16.25,1198,73.9,5\\nTata,2013,135000,120000,Diesel,Individual,Manual,Third Owner,15.42,1405,70,7\\nHyundai,2017,680000,80000,Diesel,Individual,Manual,First Owner,22.54,1396,88.73,5\\nHyundai,2017,670000,80000,Diesel,Individual,Manual,First Owner,22.54,1396,88.73,5\\nBMW,2010,1000000,60000,Diesel,Individual,Automatic,First Owner,16.73,1995,218,5\\nMaruti,2010,240000,80000,Petrol,Individual,Manual,Second Owner,20.92,998,67.1,5\\nForce,2014,555000,147279,Diesel,Individual,Manual,Second Owner,17,2200,139.01,7\\nSkoda,2013,455000,98000,Diesel,Individual,Manual,First Owner,20.5,1598,103.5,5\\nMaruti,2018,750000,25000,Diesel,Individual,Manual,First Owner,28.4,1248,74.02,5\\nMaruti,2016,700000,90000,Diesel,Individual,Automatic,First Owner,26.59,1248,74,5\\nTata,2016,220000,22000,Petrol,Individual,Automatic,First Owner,21.9,624,37.48,4\\nTata,2014,160000,120000,Diesel,Individual,Manual,First Owner,25,1396,69,5\\nChevrolet,2013,225000,100000,Diesel,Individual,Manual,Second Owner,22.1,1248,76.9,5\\nTata,2008,140000,120000,Diesel,Individual,Manual,Second Owner,19.09,1396,69,5\\nMaruti,2014,600000,70000,Diesel,Individual,Manual,Second Owner,23.4,1248,74,5\\nMahindra,2015,1000000,24700,Diesel,Individual,Manual,First Owner,16,2179,140,7\\nChevrolet,2008,65000,100000,Petrol,Individual,Manual,Third Owner,18,995,62,5\\nMaruti,2019,500000,10000,Petrol,Individual,Manual,First Owner,20.89,1197,81.8,5\\nMahindra,2017,1100000,88754,Diesel,Dealer,Manual,First Owner,16,2179,140,7\\nFord,2011,325000,53287,Petrol,Dealer,Manual,First Owner,,,,\\nMahindra,2017,1150000,43526,Diesel,Dealer,Manual,First Owner,16,2179,140,7\\nSkoda,2012,320000,55885,Petrol,Dealer,Manual,First Owner,16.25,1198,75,5\\nFord,2019,950000,16034,Diesel,Dealer,Manual,First Owner,21.7,1498,98.96,5\\nFord,2012,250000,156040,Diesel,Dealer,Manual,First Owner,20,1399,68,5\\nFord,2004,400000,93415,Diesel,Dealer,Manual,First Owner,13.1,2499,141,7\\nBMW,2008,1100000,122000,Diesel,Individual,Automatic,Second Owner,18.48,1995,177,5\\nMaruti,2017,600000,20000,Diesel,Individual,Manual,First Owner,27.39,1248,74,5\\nMaruti,2017,509999,46000,Petrol,Individual,Manual,First Owner,22,1197,81.8,5\\nSkoda,2016,395000,50000,Petrol,Individual,Manual,Third Owner,15.41,1598,103.2,5\\nMaruti,2018,469000,5000,Petrol,Individual,Manual,First Owner,21.79,998,67.05,5\\nMaruti,2017,250000,42000,Petrol,Individual,Manual,First Owner,24.7,796,47.3,5\\nChevrolet,2011,130000,68519,Petrol,Dealer,Manual,First Owner,16.2,995,62.1,5\\nFord,2019,906000,30000,Diesel,Individual,Manual,First Owner,23,1498,98.96,5\\nFord,2011,160000,85000,Diesel,Individual,Manual,First Owner,20,1399,68,5\\nMaruti,2012,300000,88000,Petrol,Individual,Manual,First Owner,17.5,1298,85.8,5\\nMaruti,2010,60000,100000,Petrol,Individual,Manual,Fourth & Above Owner,14,796,37.5,5\\nMaruti,2014,400000,100000,Petrol,Individual,Manual,Second Owner,19.1,1197,85.8,5\\nTata,2018,450000,22966,Petrol,Dealer,Manual,First Owner,23.84,1199,84.48,5\\nMahindra,2014,465000,80000,Diesel,Individual,Manual,Second Owner,15.96,2523,62.1,7\\nMaruti,2012,325000,80000,Diesel,Individual,Manual,Second Owner,22.9,1248,74,5\\nMaruti,2008,150000,70000,Petrol,Individual,Manual,Second Owner,19.7,796,46.3,5\\nHyundai,2014,250000,2350,Petrol,Individual,Manual,First Owner,21.1,814,55.2,5\\nMaruti,2011,175000,50000,Petrol,Individual,Manual,First Owner,19.7,796,46.3,5\\nMaruti,2010,175000,58000,Petrol,Individual,Manual,First Owner,19.7,796,46.3,5\\nHonda,2006,150000,80000,Petrol,Individual,Manual,Second Owner,16.9,1497,100,5\\nMahindra,2018,797000,60000,Diesel,Individual,Manual,First Owner,16.5,1493,70,7\\nHyundai,2019,800000,35000,Petrol,Individual,Manual,First Owner,18.6,1197,81.86,5\\nMahindra,2019,750000,59872,Diesel,Individual,Manual,First Owner,15.96,2523,62.1,7\\nMahindra,2011,400000,140000,Diesel,Individual,Manual,Second Owner,13.5,2179,115,5\\nMaruti,2012,160000,110000,Petrol,Individual,Manual,First Owner,19.7,796,46.3,5\\nMahindra,2016,700000,91182,Diesel,Individual,Manual,First Owner,15.96,2523,62.1,7\\nMaruti,2010,160000,60000,Petrol,Individual,Manual,Third Owner,19.7,796,46.3,5\\nHyundai,2012,400000,100000,Diesel,Individual,Manual,First Owner,21.27,1396,88.76,5\\nToyota,2013,451000,120000,Diesel,Individual,Manual,First Owner,23.59,1364,67.06,5\\nMaruti,2002,40000,80000,Petrol,Individual,Manual,First Owner,16.1,796,37,4\\nTata,2012,300000,70000,Diesel,Individual,Manual,Third Owner,21.12,1248,88.8,5\\nMaruti,2017,421000,59500,Petrol,Individual,Manual,Second Owner,23.1,998,67.04,5\\nMaruti,2000,80000,100000,CNG,Individual,Manual,Second Owner,10.9,796,,8\\nMaruti,2016,950000,45000,Diesel,Individual,Manual,First Owner,24.3,1248,88.5,5\\nHyundai,2011,395000,75500,Diesel,Individual,Manual,Second Owner,23,1396,90,5\\nMaruti,2016,950000,46000,Diesel,Individual,Manual,Second Owner,24.3,1248,88.5,5\\nMaruti,2013,270000,60000,Petrol,Individual,Manual,First Owner,22.74,796,47.3,5\\nHyundai,2009,360000,60000,Petrol,Individual,Automatic,Second Owner,15,1396,100,5\\nMaruti,2008,235000,152500,Diesel,Individual,Manual,First Owner,17.8,1248,75,5\\nMercedes-Benz,2014,1850000,60000,Diesel,Individual,Automatic,Second Owner,13,2143,201.1,5\\nToyota,2015,1900000,130000,Diesel,Individual,Automatic,First Owner,12.55,2982,168.5,7\\nHyundai,2017,550000,23456,Petrol,Dealer,Manual,First Owner,18.9,1197,82,5\\nMahindra,2015,1225000,39000,Diesel,Dealer,Manual,First Owner,16,2179,140,7\\nHonda,2017,700000,15000,Petrol,Individual,Manual,First Owner,17.5,1199,88.7,5\\nJeep,2017,1650000,69123,Diesel,Dealer,Manual,First Owner,17.1,1956,170,5\\nHonda,2012,376000,26000,Petrol,Individual,Manual,First Owner,19.4,1198,86.8,5\\nFord,2017,875000,77524,Diesel,Dealer,Manual,First Owner,22.7,1498,89.84,5\\nHyundai,2014,459999,40523,Petrol,Dealer,Manual,Second Owner,18.5,1197,82.85,5\\nMaruti,2018,755000,39000,Diesel,Dealer,Manual,First Owner,28.4,1248,74,5\\nAudi,2019,6223000,7800,Petrol,Dealer,Automatic,Test Drive Car,15.26,1798,187.74,5\\nAudi,2019,5923000,11500,Petrol,Dealer,Automatic,Test Drive Car,15.26,1798,187.74,5\\nAudi,2019,6523000,23600,Petrol,Dealer,Automatic,Test Drive Car,15.26,1798,187.74,5\\nToyota,2010,1050000,220000,Diesel,Individual,Manual,Second Owner,11.5,2982,171,7\\nToyota,2004,215000,218000,Diesel,Individual,Manual,Second Owner,,,,\\nMahindra,2015,1050000,120000,Diesel,Individual,Manual,Second Owner,15.1,2179,140,7\\nMaruti,2018,800000,25000,Petrol,Individual,Automatic,First Owner,21.4,1197,83.1,5\\nMaruti,2015,600000,31000,Diesel,Individual,Manual,Second Owner,25.2,1248,74,5\\nMaruti,2017,530000,42000,Petrol,Individual,Manual,First Owner,21.4,1197,83.1,5\\nMaruti,2015,450000,80000,Petrol,Individual,Manual,First Owner,20.85,1197,83.14,5\\nMaruti,2011,235000,60000,Petrol,Individual,Manual,First Owner,20.92,998,67.1,5\\nMaruti,2013,550000,240000,Diesel,Individual,Manual,First Owner,23.4,1248,74,5\\nSkoda,2013,395000,35000,Petrol,Individual,Automatic,Second Owner,14.3,1598,103.5,5\\nTata,2018,450000,35000,Petrol,Individual,Manual,First Owner,20.3,1199,84,5\\nRenault,2019,600000,5000,Petrol,Individual,Manual,First Owner,20,999,72,7\\nMaruti,2016,610000,110000,Diesel,Individual,Manual,First Owner,24.3,1248,88.5,5\\nHyundai,2017,690000,20000,Petrol,Individual,Manual,First Owner,18.6,1197,81.83,5\\nTata,2018,790000,15000,Petrol,Individual,Manual,First Owner,17,1198,108.5,5\\nMaruti,2014,254999,40000,Petrol,Individual,Manual,Second Owner,20.92,998,67.1,5\\nHonda,2016,500000,41000,Petrol,Individual,Manual,First Owner,18.7,1199,88.7,5\\nMahindra,2011,340000,100000,Diesel,Individual,Manual,Second Owner,13.6,2523,63,7\\nTata,2008,150000,120000,Diesel,Individual,Manual,First Owner,12.2,1948,68,9\\nMahindra,2007,245000,110000,Diesel,Individual,Manual,Third Owner,13.6,2523,63,7\\nVolkswagen,2015,515000,120000,Diesel,Individual,Manual,Second Owner,20.34,1498,103.2,5\\nAmbassador,2008,122000,60000,Diesel,Individual,Manual,Second Owner,12.8,1995,52,5\\nHyundai,2009,160000,35000,Petrol,Individual,Manual,Third Owner,19.81,1086,68.05,5\\nMaruti,2007,110000,120000,Petrol,Individual,Manual,Second Owner,19.7,796,46.3,5\\nMaruti,2014,360000,70000,Diesel,Individual,Manual,First Owner,25.2,1248,74,5\\nMaruti,2009,210000,110000,Diesel,Individual,Manual,First Owner,,,,\\nHyundai,2011,260000,90000,Diesel,Individual,Manual,Third Owner,16.2,1493,110,5\\nMaruti,2007,128000,60000,Petrol,Individual,Manual,Second Owner,19.7,796,46.3,5\\nHyundai,2015,600000,80000,Diesel,Individual,Manual,Second Owner,23.9,1582,126.2,5\\nToyota,2010,800000,151000,Diesel,Individual,Manual,Second Owner,11.5,2982,171,7\\nMaruti,2019,675000,25000,Diesel,Individual,Manual,First Owner,28.4,1248,74.02,5\\nMahindra,2015,1000000,24700,Diesel,Individual,Manual,First Owner,16,2179,140,7\\nChevrolet,2008,65000,100000,Petrol,Individual,Manual,Third Owner,18,995,62,5\\nMaruti,2019,500000,10000,Petrol,Individual,Manual,First Owner,20.89,1197,81.8,5\\nMaruti,2010,300000,50000,Petrol,Individual,Manual,First Owner,15,1586,104.68,5\\nMaruti,2009,125000,80000,Petrol,Individual,Manual,First Owner,16.1,796,37,4\\nHyundai,2017,550000,25000,Petrol,Individual,Manual,First Owner,18.9,1197,82,5\\nMaruti,2007,150000,80000,Petrol,Individual,Manual,Third Owner,19.7,796,46.3,5\\nMahindra,2017,891000,80000,Diesel,Individual,Manual,First Owner,15.4,2179,120,7\\nToyota,2015,1050000,70000,Diesel,Individual,Manual,First Owner,12.99,2494,100.6,7\\nMaruti,2018,750000,15000,Petrol,Individual,Manual,First Owner,21.1,998,100.5,5\\nHyundai,2012,380000,27500,Petrol,Individual,Manual,First Owner,18.5,1197,82.9,5\\nToyota,2013,800000,110000,Diesel,Individual,Manual,Second Owner,12.99,2494,100.6,8\\nMahindra,2010,200000,120000,Petrol,Individual,Manual,First Owner,15.7,1390,75,5\\nMaruti,2016,700000,70000,Diesel,Individual,Manual,First Owner,28.09,1248,88.5,5\\nToyota,2002,229999,290000,Diesel,Individual,Manual,First Owner,13.1,2446,75,10\\nHonda,2010,300000,74000,Petrol,Individual,Manual,Second Owner,12.8,2354,177.6,5\\nHonda,2015,670000,120000,Diesel,Individual,Manual,First Owner,24.2,1498,98.6,7\\nHonda,2007,210000,140000,Petrol,Individual,Manual,First Owner,17.7,1497,78,5\\nMaruti,2017,370000,40000,Petrol,Individual,Manual,First Owner,20.89,1197,81.8,5\\nMaruti,2019,600000,20000,Petrol,Individual,Automatic,First Owner,21.4,1197,83.1,5\\nMaruti,2020,810000,15000,Diesel,Individual,Manual,First Owner,24.3,1248,88.5,5\\nFiat,2006,80000,35000,Petrol,Individual,Manual,First Owner,,,,\\nTata,2019,346000,16000,Petrol,Individual,Manual,First Owner,23.84,1199,84,5\\nHonda,2005,55000,130000,Petrol,Individual,Manual,First Owner,13,1343,90,5\\nTata,2012,250000,118000,Diesel,Individual,Manual,Second Owner,13.93,2179,138.03,7\\nMaruti,2006,120000,44000,Petrol,Individual,Manual,Second Owner,16.1,1298,88.2,5\\nMaruti,2013,600000,50000,Diesel,Individual,Manual,Second Owner,20.77,1248,88.8,7\\nMaruti,2016,330000,60000,Petrol,Individual,Manual,First Owner,15.37,1196,73,5\\nHyundai,2014,400000,147000,Petrol,Individual,Manual,Second Owner,18.6,1197,81.83,5\\nTata,2004,100000,40000,Diesel,Individual,Manual,Second Owner,16.8,1405,62,5\\nMaruti,2014,450000,100000,Petrol,Individual,Manual,Third Owner,19.1,1197,85.8,5\\nMaruti,2017,800000,55000,Diesel,Individual,Manual,First Owner,24.52,1248,88.5,7\\nMaruti,2015,340000,40000,Diesel,Individual,Manual,Second Owner,27.62,793,47,5\\nMaruti,2010,225000,64000,Diesel,Individual,Manual,Third Owner,21.1,1248,73.9,5\\nMaruti,2002,55000,100000,Petrol,Individual,Manual,Second Owner,17.3,993,60,5\\nMaruti,2016,900000,50000,Diesel,Individual,Manual,First Owner,24.52,1248,88.5,7\\nVolvo,2014,2500000,30000,Diesel,Individual,Automatic,First Owner,9,1984,181,5\\nMaruti,2018,465000,30000,Petrol,Individual,Manual,First Owner,20.51,998,67.04,5\\nMaruti,2004,70000,150000,Petrol,Individual,Manual,First Owner,17.3,993,60,5\\nTata,2016,400000,24177,Petrol,Individual,Manual,First Owner,17.57,1193,88.7,5\\nTata,2012,185000,80000,Diesel,Individual,Manual,First Owner,16.1,1405,70,5\\nMaruti,2006,140000,150000,Petrol,Individual,Manual,Second Owner,18.9,998,67.1,5\\nRenault,2015,415000,120000,Diesel,Individual,Manual,Second Owner,21.04,1461,83.8,7\\nMahindra,2012,532000,121779,Diesel,Individual,Manual,First Owner,12.05,2179,120,8\\nMaruti,2017,600000,56000,Diesel,Individual,Manual,First Owner,27.39,1248,74,5\\nMaruti,2008,150000,100000,Petrol,Individual,Manual,Fourth & Above Owner,15,1586,104.68,5\\nMaruti,2018,459999,12000,Petrol,Individual,Manual,First Owner,20.4,1197,81.8,5\\nMaruti,2017,800000,15381,Diesel,Individual,Manual,First Owner,24.3,1248,88.5,5\\nMahindra,2011,310000,5000,Diesel,Individual,Manual,First Owner,13.6,2523,63,7\\nNissan,2014,475000,40000,Diesel,Individual,Manual,First Owner,19.01,1461,108.5,5\\nMaruti,2016,310000,35000,CNG,Individual,Manual,Second Owner,26.6,998,58.16,5\\nMaruti,2018,350000,10000,Petrol,Individual,Manual,First Owner,23.95,998,67.05,5\\nMahindra,2019,1800000,10000,Diesel,Individual,Manual,First Owner,16,2179,140,7\\nMaruti,2018,640000,25000,Petrol,Individual,Automatic,First Owner,22,1197,81.8,5\\nMaruti,2017,350000,50000,Petrol,Individual,Automatic,First Owner,20.51,998,67,5\\nTata,2018,600000,30000,Petrol,Individual,Manual,First Owner,17,1198,108.5,5\\nHyundai,2015,575000,23000,Diesel,Individual,Manual,First Owner,23.9,1582,126.2,5\\nMahindra,2019,974000,15000,Diesel,Individual,Manual,First Owner,16.55,2498,105,6\\nMaruti,2018,445000,5000,Petrol,Individual,Automatic,Second Owner,20.51,998,67,5\\nMaruti,2015,580000,15000,Diesel,Individual,Manual,Second Owner,20.77,1248,88.76,7\\nHyundai,2020,1050000,20000,Diesel,Individual,Manual,First Owner,22.1,1396,88.7,5\\nFord,2015,600000,50000,Diesel,Individual,Manual,First Owner,22.77,1498,98.59,5\\nFord,2017,370000,40000,Petrol,Individual,Manual,Second Owner,18.16,1196,86.8,5\\nMaruti,2007,150000,70000,Petrol,Individual,Manual,Third Owner,18.2,1061,64,5\\nMaruti,2017,483000,15000,Petrol,Individual,Manual,First Owner,23.1,998,67.04,5\\nHyundai,2016,470000,10000,Petrol,Individual,Manual,First Owner,18.9,1197,82,5\\nMaruti,2018,950000,25000,Diesel,Individual,Manual,First Owner,24.3,1248,88.5,5\\nHyundai,2013,450000,50000,Petrol,Individual,Manual,Third Owner,17.01,1591,121.3,5\\nToyota,2011,345000,70000,Petrol,Individual,Manual,First Owner,17.6,1496,88.7,5\\nMaruti,2020,600000,5000,Petrol,Individual,Automatic,First Owner,20.89,1197,81.8,5\\nMaruti,2009,300000,60000,Petrol,Individual,Manual,First Owner,19,998,66.1,5\\nMaruti,2007,160000,74800,Petrol,Individual,Manual,Second Owner,18.2,998,67.1,5\\nMaruti,2004,120000,80000,Petrol,Individual,Manual,Second Owner,16.1,796,37,4\\nMaruti,2012,220000,270000,CNG,Individual,Manual,First Owner,21.94,1196,61.7,5\\nHyundai,2018,340000,120000,Petrol,Individual,Manual,First Owner,20.3,998,68.05,5\\nHonda,2007,138000,120000,Petrol,Individual,Manual,Second Owner,17.7,1497,78,5\\nToyota,2000,100000,250000,Diesel,Individual,Manual,Fourth & Above Owner,,,,\\nMaruti,2010,231000,80000,Petrol,Individual,Manual,Third Owner,17.5,1298,85.8,5\\nMahindra,2013,800000,120000,Diesel,Individual,Manual,Second Owner,15.1,2179,140,7\\nMahindra,2019,960000,20000,Petrol,Individual,Manual,First Owner,17,1197,108.6,5\\nMaruti,2009,120000,70000,Petrol,Individual,Manual,Second Owner,18.9,1061,67,5\\nMaruti,2012,270000,40000,Petrol,Individual,Manual,First Owner,18.9,998,67.1,5\\nMaruti,2011,200000,100000,Petrol,Individual,Manual,Second Owner,21.1,1197,85.8,5\\nMaruti,2012,328000,123000,Petrol,Individual,Manual,First Owner,18.6,1197,85.8,5\\nHyundai,2012,432000,77000,Diesel,Individual,Manual,First Owner,22.32,1582,126.32,5\\nVolkswagen,2019,565000,7000,Petrol,Individual,Manual,First Owner,18.78,999,75,5\\nMaruti,2017,390000,70000,Petrol,Individual,Manual,First Owner,15.37,1196,73,5\\nFord,2017,600000,30000,Diesel,Individual,Manual,First Owner,25.83,1498,99,5\\nHyundai,2011,250000,120000,Diesel,Individual,Manual,Third Owner,23,1396,90,5\\nChevrolet,2011,165000,70000,Petrol,Individual,Manual,First Owner,18,995,62,5\\nHonda,2011,421000,105000,Petrol,Individual,Manual,First Owner,17,1497,118,5\\nHyundai,2012,225000,109322,Petrol,Individual,Manual,Second Owner,16.36,1495,93.7,5\\nNissan,2013,350000,120000,Diesel,Individual,Manual,First Owner,21.64,1461,84.8,5\\nJeep,2018,1757000,24000,Diesel,Individual,Manual,First Owner,17.1,1956,170,5\\nMaruti,2015,600000,70000,Diesel,Individual,Manual,Second Owner,27.39,1248,74,5\\nTata,2018,515000,35000,Petrol,Individual,Manual,First Owner,24,1199,83.81,5\\nMaruti,1999,80000,80000,Petrol,Individual,Manual,Third Owner,16.1,796,37,4\\nMaruti,2017,800000,70000,Diesel,Individual,Manual,Second Owner,23.65,1248,88.5,5\\nMahindra,2004,120000,100000,Diesel,Individual,Manual,Fourth & Above Owner,10.5,2179,120,7\\nJaguar,2017,2711000,9000,Diesel,Dealer,Automatic,First Owner,13.6,1999,177,5\\nLexus,2019,5150000,20000,Petrol,Dealer,Automatic,First Owner,22.37,2487,214.56,5\\nJaguar,2017,3200000,45000,Diesel,Dealer,Automatic,First Owner,19.33,1999,177,5\\nTata,2015,503000,110000,Diesel,Individual,Manual,First Owner,14.1,2179,147.94,7\\nVolvo,2019,3800000,20000,Diesel,Individual,Automatic,First Owner,18,1969,190,5\\nToyota,2016,2000000,68089,Petrol,Trustmark Dealer,Automatic,First Owner,19.16,2494,157.7,5\\nMaruti,2013,225000,58343,Petrol,Trustmark Dealer,Manual,First Owner,21.79,998,67.05,5\\nMaruti,2018,740000,38817,Diesel,Dealer,Manual,First Owner,27.39,1248,74,5\\nHonda,2016,550000,56494,Petrol,Trustmark Dealer,Manual,First Owner,18.2,1199,88.7,5\\nToyota,2013,750000,79328,Diesel,Trustmark Dealer,Manual,Second Owner,12.99,2494,100.6,7\\nMaruti,2019,650000,5621,Petrol,Trustmark Dealer,Automatic,First Owner,22,1197,81.8,5\\nToyota,2017,625000,25538,Petrol,Trustmark Dealer,Manual,First Owner,16.78,1496,88.73,5\\nMaruti,2018,600000,69779,Petrol,Dealer,Automatic,First Owner,22,1197,81.8,5\\nHyundai,2017,450000,56290,Diesel,Dealer,Manual,First Owner,24,1186,73.97,5\\nBMW,2019,5400000,7500,Diesel,Dealer,Automatic,First Owner,16.78,1995,190,5\\nBMW,2019,5500000,8500,Diesel,Dealer,Automatic,First Owner,16.78,1995,190,5\\nHonda,2019,779000,7032,Petrol,Trustmark Dealer,Automatic,First Owner,19,1199,88.76,5\\nSkoda,2016,645000,11000,Petrol,Dealer,Automatic,First Owner,14.3,1598,103.5,5\\nVolvo,2018,2475000,2000,Diesel,Dealer,Automatic,First Owner,16.8,1984,150,5\\nMaruti,2017,475000,40000,Petrol,Individual,Manual,First Owner,20.51,998,67.04,5\\nMaruti,2015,400000,20000,Petrol,Individual,Automatic,First Owner,20.51,998,67,5\\nHyundai,2004,80000,90000,Petrol,Individual,Automatic,Second Owner,,,,\\nFiat,2011,300000,60000,Diesel,Individual,Manual,First Owner,20.3,1248,75,5\\nMahindra,2011,400000,475000,Diesel,Individual,Manual,Third Owner,13.5,2179,115,5\\nMaruti,2009,235000,70000,Petrol,Individual,Manual,Second Owner,17.3,1061,64,5\\nMaruti,2015,350000,40000,Petrol,Individual,Manual,Second Owner,20.51,998,67.04,5\\nMaruti,2017,625000,34000,Diesel,Individual,Manual,Second Owner,28.4,1248,74.02,5\\nMahindra,2014,525000,120000,Diesel,Individual,Manual,First Owner,15.1,2179,140,7\\nTata,2018,550000,10000,Petrol,Individual,Manual,First Owner,20.3,1199,84,5\\nMahindra,2015,550000,80000,Diesel,Individual,Manual,Second Owner,15.96,2523,62.1,7\\nHonda,2006,200000,100000,Petrol,Individual,Manual,Second Owner,17.7,1497,78,5\\nMahindra,2011,350000,120000,Diesel,Individual,Manual,First Owner,13,2489,95,8\\nHonda,2006,220000,100000,Petrol,Individual,Manual,Second Owner,17.7,1497,78,5\\nHyundai,2016,412000,25000,Petrol,Individual,Manual,First Owner,18.9,1197,82,5\\nMaruti,2009,126000,52000,Petrol,Individual,Manual,Second Owner,18.9,1061,67,5\\nMaruti,2013,430000,63000,Diesel,Individual,Manual,First Owner,23.4,1248,74,5\\nMaruti,2009,130000,90000,Petrol,Individual,Manual,Second Owner,19,998,66.1,5\\nTata,2017,350000,60000,Petrol,Individual,Manual,First Owner,23.84,1199,84,5\\nMaruti,2011,220000,35000,Petrol,Individual,Manual,First Owner,19.7,796,46.3,5\\nMahindra,2011,380000,80000,Diesel,Individual,Manual,First Owner,13.6,2523,63,7\\nFord,2010,200000,110000,Diesel,Individual,Manual,Second Owner,20,1399,68,5\\nToyota,2015,2000000,20000,Diesel,Individual,Manual,First Owner,12.55,2982,168.5,7\\nFord,2015,610000,90000,Diesel,Individual,Manual,First Owner,22.77,1498,98.59,5\\nBMW,2016,2500000,30000,Petrol,Individual,Automatic,Second Owner,15.71,1998,189,5\\nMaruti,2017,620000,61000,Diesel,Individual,Manual,First Owner,26.59,1248,74,5\\nMaruti,2013,150000,66000,Petrol,Individual,Manual,First Owner,14.7,796,37,8\\nDatsun,2018,450000,80000,Petrol,Individual,Manual,First Owner,20.62,1198,67,7\\nHyundai,2017,1150000,27000,Diesel,Individual,Manual,Second Owner,19.67,1582,126.2,5\\nMahindra,2018,500000,60000,Petrol,Individual,Manual,First Owner,18.15,1198,82,6\\nMaruti,2011,246000,139000,Petrol,Individual,Manual,First Owner,18.9,998,67.1,5\\nMaruti,2017,400000,60000,CNG,Individual,Manual,First Owner,21.94,1196,61.7,5\\nMaruti,2008,65000,10000,Petrol,Individual,Manual,Second Owner,16.1,796,37,4\\nFord,2016,725000,30000,Diesel,Individual,Manual,First Owner,21.7,1498,98.96,5\\nHyundai,2014,736000,125000,Diesel,Individual,Automatic,First Owner,22.32,1582,126.32,5\\nMaruti,2018,700000,45000,Diesel,Individual,Manual,First Owner,28.4,1248,74.02,5\\nChevrolet,2011,150000,30000,Petrol,Individual,Manual,First Owner,18,995,62,5\\nMaruti,2010,180000,80500,Petrol,Individual,Manual,Second Owner,19.7,796,46.3,5\\nToyota,2014,409999,200000,Diesel,Individual,Manual,First Owner,23.59,1364,67.04,5\\nMahindra,2013,550000,60000,Diesel,Individual,Manual,First Owner,15.96,2523,62.1,7\\nMaruti,2004,50000,18000,Petrol,Individual,Manual,Second Owner,16.1,796,37,4\\nMaruti,2006,80000,110000,Diesel,Individual,Manual,Second Owner,20.8,1527,58,5\\nMaruti,2005,110000,90000,Petrol,Individual,Manual,Second Owner,19.7,796,46.3,5\\nHonda,2006,180000,120000,Petrol,Individual,Manual,Second Owner,17.7,1497,78,5\\nMaruti,2017,605000,127000,Diesel,Individual,Manual,First Owner,28.4,1248,74.02,5\\nMaruti,2017,800000,70000,Diesel,Individual,Manual,First Owner,24.52,1248,88.5,7\\nHyundai,2011,350000,116500,Diesel,Individual,Manual,First Owner,23,1396,90,5\\nHyundai,2012,300000,120000,Petrol,Individual,Manual,First Owner,18.5,1197,82.85,5\\nHyundai,2008,160000,100000,Petrol,Individual,Manual,Fourth & Above Owner,13.9,1599,103.2,5\\nFord,2011,225000,90000,Diesel,Individual,Manual,Second Owner,20,1399,68,5\\nAudi,2009,1025000,120000,Diesel,Individual,Automatic,Third Owner,12.07,2967,241.4,7\\nTata,2017,1300000,40000,Diesel,Individual,Automatic,First Owner,17.6,2179,153.86,7\\nVolkswagen,2018,560000,18000,Diesel,Individual,Manual,First Owner,21.66,1498,108.62,5\\nMaruti,2017,650000,70000,Diesel,Individual,Manual,First Owner,24.3,1248,88.5,5\\nMahindra,2018,1150000,29000,Diesel,Individual,Manual,First Owner,15.1,2179,152.87,7\\nMaruti,2016,480000,65755,Petrol,Individual,Manual,First Owner,21.4,1197,83.1,5\\nFord,2019,960000,2600,Diesel,Individual,Manual,First Owner,23,1498,98.96,5\\nMahindra,2017,1050000,46000,Diesel,Individual,Automatic,First Owner,16,2179,140,7\\nHyundai,2017,310000,15000,Petrol,Individual,Manual,Second Owner,21.1,814,55.2,5\\nMaruti,2014,500000,60000,Diesel,Individual,Manual,First Owner,23.4,1248,74,5\\nMaruti,2017,350000,15500,Petrol,Individual,Automatic,First Owner,23.95,998,67.1,5\\nHonda,2015,365000,120000,Diesel,Individual,Manual,First Owner,25.8,1498,98.6,5\\nMitsubishi,2008,165000,120000,Diesel,Individual,Manual,Third Owner,14.8,1998,68,5\\nTata,2007,100000,120000,Diesel,Individual,Manual,Third Owner,14.6,2956,63,10\\nMahindra,2007,240000,80000,Diesel,Individual,Manual,Second Owner,13.6,2523,63,7\\nMahindra,2019,925000,40000,Diesel,Individual,Manual,First Owner,17.3,1497,121,7\\nFord,2018,590000,15000,Petrol,Individual,Manual,First Owner,18.16,1196,86.8,5\\nTata,2013,525000,110000,Diesel,Individual,Manual,Second Owner,13.7,2179,138.1,7\\nToyota,2014,720000,80000,Diesel,Individual,Manual,Second Owner,12.99,2494,100.6,8\\nRenault,2017,850000,50000,Diesel,Individual,Automatic,First Owner,19.6,1461,108.45,5\\nMahindra,2010,490000,110000,Diesel,Individual,Automatic,First Owner,11.79,2179,120,8\\nHonda,2013,325000,100000,Diesel,Individual,Manual,First Owner,25.8,1498,98.6,5\\nHyundai,2019,1200000,20000,Diesel,Individual,Automatic,First Owner,22,1582,126.2,5\\nMahindra,2012,450000,135000,Diesel,Individual,Manual,First Owner,15.96,2523,62.1,7\\nTata,2014,300000,50700,Diesel,Individual,Manual,First Owner,19.09,1405,69.01,5\\nVolkswagen,2013,365000,70000,Diesel,Individual,Manual,Second Owner,22.07,1199,73.9,5\\nMercedes-Benz,2007,500000,120000,Petrol,Individual,Automatic,First Owner,11.7,1796,178,5\\nToyota,2014,900000,112000,Diesel,Individual,Manual,Second Owner,12.99,2494,100.6,8\\nHyundai,2018,700000,35000,Diesel,Individual,Manual,First Owner,24,1186,73.97,5\\nRenault,2017,880000,50000,Diesel,Individual,Manual,First Owner,19.6,1461,108.45,5\\nToyota,2014,700000,121000,Diesel,Individual,Manual,Third Owner,12.99,2494,100.6,7\\nMahindra,2009,380000,120000,Diesel,Individual,Manual,Second Owner,12.05,2179,120,7\\nToyota,2006,150000,90000,Petrol,Individual,Manual,Third Owner,13.4,1794,125,5\\nMaruti,2014,235000,70000,CNG,Individual,Manual,Second Owner,26.3,998,67.1,5\\nRenault,2018,320000,20000,Petrol,Individual,Manual,First Owner,23.01,999,67,5\\nRenault,2015,550000,60000,Diesel,Individual,Manual,First Owner,20.45,1461,83.8,5\\nBMW,2016,3200000,40000,Diesel,Individual,Automatic,First Owner,18.12,1995,190,5\\nToyota,2013,750000,440000,Diesel,Individual,Manual,Second Owner,12.99,2494,100.6,7\\nMahindra,2017,645000,60000,Diesel,Individual,Manual,First Owner,18.49,1493,100,7\\nMaruti,2015,300000,110000,Petrol,Individual,Manual,First Owner,20.51,998,67.04,5\\nHyundai,2016,580000,152000,Diesel,Individual,Manual,First Owner,21.19,1396,88.73,5\\nHyundai,2011,220000,220000,Petrol,Individual,Manual,Fourth & Above Owner,17,1197,80,5\\nMahindra,2013,451000,70000,Diesel,Individual,Manual,First Owner,15.96,2523,62.1,7\\nTata,2018,850000,50000,Petrol,Individual,Manual,First Owner,17,1198,108.5,5\\nMaruti,2011,300000,125000,Diesel,Individual,Manual,First Owner,19.3,1248,73.9,5\\nFord,2016,350000,60000,Petrol,Individual,Manual,First Owner,18.16,1196,86.8,5\\nMaruti,2014,300000,90000,CNG,Individual,Manual,First Owner,21.94,1196,63,5\\nMaruti,2017,390000,30000,CNG,Individual,Manual,First Owner,21.94,1196,63,5\\nToyota,2016,1200000,90000,Diesel,Individual,Manual,First Owner,12.99,2494,100.6,8\\nVolkswagen,2017,550000,20000,Petrol,Individual,Manual,First Owner,17,1198,73.75,5\\nMaruti,2012,300000,110000,Diesel,Individual,Manual,Third Owner,22.9,1248,74,5\\nVolkswagen,2012,300000,150000,Diesel,Individual,Manual,Second Owner,20.54,1598,103.6,5\\nHyundai,2012,350000,110000,Diesel,Individual,Manual,First Owner,23,1396,90,5\\nHyundai,2015,880000,120000,Diesel,Individual,Manual,Second Owner,19.67,1582,126.2,5\\nHyundai,2010,160000,120000,CNG,Individual,Manual,Second Owner,13.2,1495,93.7,5\\nTata,2012,250000,80000,Diesel,Individual,Manual,Fourth & Above Owner,15.3,2956,83.8,7\\nHyundai,2016,660000,110000,Diesel,Individual,Manual,First Owner,21.19,1396,88.73,5\\nTata,2015,450000,40000,Petrol,Individual,Manual,First Owner,17.57,1193,88.7,5\\nVolkswagen,2012,400000,110000,Diesel,Individual,Manual,Second Owner,19.7,1598,103.6,5\\nMahindra,2019,1300000,20000,Diesel,Individual,Manual,First Owner,16.36,2179,120,7\\nFord,2013,229999,230000,Diesel,Individual,Manual,First Owner,20,1399,68.1,5\\nChevrolet,2010,140000,60000,Petrol,Individual,Manual,First Owner,18.6,1199,79.4,5\\nMaruti,2012,195000,35000,Petrol,Individual,Manual,Second Owner,19,998,67.1,5\\nHyundai,2015,500000,45000,Petrol,Individual,Manual,First Owner,17.19,1197,81.86,5\\nTata,2012,60000,45000,Petrol,Individual,Manual,First Owner,25.4,624,38,4\\nTata,2016,400000,25000,Petrol,Individual,Manual,First Owner,17.57,1193,88.7,5\\nHyundai,2014,400000,10000,Petrol,Individual,Manual,First Owner,18.6,1197,81.83,5\\nMaruti,2018,380000,19000,Petrol,Individual,Manual,First Owner,20.51,998,67.04,5\\nMaruti,2019,579000,10000,Petrol,Individual,Manual,First Owner,21.4,1197,83.1,5\\nMahindra,2019,400000,25000,Petrol,Individual,Manual,First Owner,18.15,1198,82,6\\nHyundai,2012,270000,30000,Petrol,Individual,Manual,First Owner,20.36,1197,78.9,5\\nMahindra,2014,500000,90000,Diesel,Individual,Manual,First Owner,15.96,2523,62.1,7\\nTata,2017,475000,20000,Petrol,Individual,Manual,First Owner,23.84,1199,84,5\\nNissan,2018,850000,48000,Diesel,Individual,Manual,First Owner,19.87,1461,83.14,5\\nMahindra,2009,475000,120000,Diesel,Individual,Manual,First Owner,12.05,2179,120,7\\nMaruti,2012,370000,210000,Diesel,Individual,Manual,Second Owner,19.3,1248,73.9,5\\nHyundai,2010,187000,200400,Petrol,Individual,Manual,Second Owner,19.81,1086,68.05,5\\nHyundai,2008,195000,110000,Petrol,Individual,Manual,Second Owner,20.36,1197,78.9,5\\nTata,2014,459999,38000,Diesel,Individual,Manual,First Owner,13.93,2179,138.03,7\\nToyota,2004,135000,90000,Petrol,Individual,Manual,Second Owner,13.4,1794,125,5\\nMaruti,2017,850000,43000,Diesel,Individual,Manual,First Owner,24.52,1248,88.5,7\\nHyundai,2018,500000,25000,Petrol,Individual,Manual,First Owner,20.3,1086,68,5\\nMaruti,2016,385000,26000,Petrol,Individual,Manual,Second Owner,20.51,998,67.04,5\\nHyundai,2006,135000,120000,Diesel,Individual,Manual,Second Owner,16.8,1493,110,5\\nMaruti,2008,120000,70000,Petrol,Individual,Manual,Third Owner,19.7,796,46.3,5\\nHonda,2006,200000,60000,Petrol,Individual,Manual,Third Owner,11.9,2354,144,5\\nTata,2007,200000,120000,Diesel,Individual,Manual,Second Owner,13.93,2956,138.1,7\\nMaruti,2016,700000,20000,Petrol,Individual,Manual,First Owner,20.73,1373,91.1,5\\nTata,2013,290000,25000,Diesel,Individual,Manual,First Owner,23.57,1396,70,5\\nMaruti,2017,725000,60000,Diesel,Individual,Manual,First Owner,28.4,1248,74.02,5\\nTata,2008,200000,80000,Diesel,Individual,Manual,First Owner,12.2,1948,68,10\\nMaruti,2014,155000,80000,Petrol,Individual,Manual,First Owner,16.8,796,34.2,8\\nHonda,2019,690000,1303,Petrol,Dealer,Manual,First Owner,17.8,1198,86.7,5\\nAudi,2018,3975000,31800,Diesel,Dealer,Automatic,First Owner,17.01,1968,188,5\\nLexus,2019,5150000,20000,Petrol,Dealer,Automatic,First Owner,22.37,2487,214.56,5\\nJaguar,2017,3200000,45000,Diesel,Dealer,Automatic,First Owner,19.33,1999,177,5\\nJeep,2017,4100000,17000,Petrol,Individual,Automatic,First Owner,9.5,3604,280,5\\nToyota,2016,2000000,68089,Petrol,Trustmark Dealer,Automatic,First Owner,19.16,2494,157.7,5\\nHonda,2016,550000,56494,Petrol,Trustmark Dealer,Manual,First Owner,18.2,1199,88.7,5\\nToyota,2013,750000,79328,Diesel,Trustmark Dealer,Manual,Second Owner,12.99,2494,100.6,7\\nBMW,2019,5400000,7500,Diesel,Dealer,Automatic,First Owner,16.78,1995,190,5\\nBMW,2019,5500000,8500,Diesel,Dealer,Automatic,First Owner,16.78,1995,190,5\\nHonda,2019,779000,7032,Petrol,Trustmark Dealer,Automatic,First Owner,19,1199,88.76,5\\nVolvo,2018,2475000,2000,Diesel,Dealer,Automatic,First Owner,16.8,1984,150,5\\nMercedes-Benz,2019,5200000,17000,Petrol,Dealer,Automatic,First Owner,15,1991,194.4,5\\nLand,2019,4500000,21000,Diesel,Dealer,Automatic,First Owner,12.83,1999,148.31,7\\nMercedes-Benz,2017,6000000,37000,Diesel,Dealer,Automatic,First Owner,13.5,2987,254.79,5\\nBMW,2018,4000000,10000,Diesel,Dealer,Automatic,First Owner,22.48,1995,187.74,5\\nHyundai,2019,1125000,3500,Petrol,Dealer,Automatic,First Owner,18.15,998,118.35,5\\nAudi,2016,1898999,46000,Diesel,Dealer,Automatic,First Owner,18.25,1968,187.74,5\\nHonda,2017,1650000,52000,Petrol,Dealer,Automatic,First Owner,12,2354,187.4,5\\nMaruti,2011,280000,20000,Petrol,Individual,Manual,Second Owner,18.6,1197,85.8,5\\nTata,2019,450000,25000,Petrol,Individual,Manual,First Owner,20.3,1199,84,5\\nMaruti,2006,135000,70000,Petrol,Individual,Manual,Second Owner,15.9,1298,85,5\\nMahindra,2014,650000,40000,Diesel,Individual,Manual,First Owner,15.1,2179,140,7\\nMaruti,2020,650000,7300,Petrol,Individual,Manual,First Owner,21.01,1197,81.8,5\\nMaruti,2018,750000,25000,Diesel,Individual,Manual,First Owner,28.09,1248,88.5,5\\nMaruti,2010,150000,100000,Petrol,Individual,Manual,First Owner,19.7,796,46.3,5\\nMahindra,2017,500000,35000,Diesel,Individual,Manual,First Owner,25.32,1198,77,6\\nToyota,2012,311000,100000,Diesel,Individual,Manual,First Owner,,,,\\nHyundai,2013,425000,80000,Diesel,Individual,Manual,Second Owner,22.32,1582,126.32,5\\nHyundai,2010,260000,60000,Petrol,Individual,Manual,First Owner,20.36,1197,78.9,5\\nVolkswagen,2014,400000,110000,Diesel,Individual,Manual,Second Owner,20.14,1498,88.8,5\\nHyundai,2017,575000,70000,Diesel,Individual,Manual,Second Owner,22.54,1396,88.73,5\\nHyundai,2008,175000,40000,Petrol,Individual,Manual,First Owner,0,1086,62,5\\nMaruti,2010,250000,90000,CNG,Individual,Manual,Second Owner,21.4,1586,103.3,5\\nVolkswagen,2012,400000,95000,Diesel,Individual,Manual,First Owner,19.7,1598,103.6,5\\nMahindra,2011,350000,200000,Diesel,Individual,Manual,Second Owner,13.6,2523,63,7\\nMaruti,2015,484999,30000,Diesel,Individual,Manual,First Owner,25.2,1248,74,5\\nMaruti,2015,484999,30000,Diesel,Individual,Manual,First Owner,25.2,1248,74,5\\nVolkswagen,2013,350000,70000,Diesel,Individual,Manual,Second Owner,20.14,1498,88.5,5\\nToyota,2014,1400000,80000,Diesel,Individual,Automatic,Second Owner,12.55,2982,168.7,7\\nMaruti,2012,250000,100000,Diesel,Individual,Manual,Third Owner,19.3,1248,73.9,5\\nMaruti,2017,655000,70000,Diesel,Individual,Manual,First Owner,28.4,1248,74.02,5\\nHonda,2016,500000,30000,Diesel,Individual,Manual,First Owner,27.3,1498,98.6,5\\nChevrolet,2016,300000,15000,Petrol,Individual,Manual,First Owner,18.6,1199,76.8,5\\nFord,2018,650000,21000,Diesel,Individual,Manual,First Owner,25.83,1498,99,5\\nMaruti,2014,300000,35000,Petrol,Individual,Manual,First Owner,20.52,1197,81.8,5\\nHonda,2016,475000,25000,Petrol,Individual,Manual,First Owner,18.7,1199,88.7,5\\nTata,2017,450000,30000,Petrol,Individual,Manual,First Owner,23.84,1199,84,5\\nMaruti,2019,754000,10000,Diesel,Individual,Manual,First Owner,28.4,1248,74.02,5\\nHyundai,2013,300000,40000,Petrol,Individual,Manual,First Owner,20.36,1197,78.9,5\\nHyundai,2014,250000,25000,Petrol,Individual,Manual,First Owner,21.1,814,55.2,5\\nMaruti,2018,725000,15000,Diesel,Individual,Manual,First Owner,28.4,1248,74.02,5\\nMaruti,2008,95000,70000,Petrol,Individual,Manual,First Owner,19.7,796,46.3,5\\nHyundai,2018,475000,7800,Petrol,Individual,Manual,First Owner,20.3,1086,68,5\\nTata,2014,575000,55000,Diesel,Individual,Manual,First Owner,14,2179,138.1,7\\nTata,2016,350000,30000,Petrol,Individual,Manual,First Owner,23.84,1199,84,5\\nMahindra,2013,330000,125000,Diesel,Individual,Manual,Second Owner,15.96,2523,62.1,7\\nMaruti,2016,482000,50000,Petrol,Individual,Manual,First Owner,20.4,1197,81.8,5\\nFord,2017,625000,40000,Diesel,Individual,Manual,Fourth & Above Owner,22.77,1498,98.59,5\\nTata,2017,380000,30000,Petrol,Individual,Manual,First Owner,23.84,1199,84,5\\nChevrolet,2016,310000,30000,Petrol,Individual,Manual,First Owner,18.6,1199,76.8,5\\nMaruti,2009,280000,35000,Petrol,Individual,Manual,First Owner,17.5,1298,85.8,5\\nRenault,2018,900000,30000,Petrol,Individual,Automatic,First Owner,14.99,1498,104.5,5\\nMaruti,2010,250000,60000,Petrol,Individual,Manual,First Owner,18.9,1061,67,5\\nHyundai,2017,750000,39000,Petrol,Individual,Manual,First Owner,17.01,1591,121.3,5\\nRenault,2019,420000,15000,Petrol,Individual,Manual,First Owner,23.01,999,67,5\\nHonda,2019,670000,5000,Petrol,Individual,Manual,First Owner,19.5,1199,88.76,5\\nHyundai,2016,420000,9750,Petrol,Individual,Manual,Second Owner,19.81,1086,68.05,5\\nToyota,2016,1800000,110000,Diesel,Individual,Manual,First Owner,13.68,2393,147.8,7\\nHonda,2018,900000,35000,Petrol,Individual,Manual,First Owner,17.5,1199,88.7,5\\nMahindra,2015,1200000,10000,Diesel,Individual,Manual,First Owner,15.1,2179,140,7\\nMahindra,2003,195000,157138,Diesel,Individual,Manual,Third Owner,10.5,2179,120,7\\nHyundai,2007,185000,120000,Diesel,Individual,Manual,Fourth & Above Owner,16.8,1493,110,5\\nHyundai,2008,185000,110000,Petrol,Individual,Manual,Fourth & Above Owner,19.81,1086,68.05,5\\nMahindra,2018,1525000,46000,Diesel,Individual,Manual,First Owner,15.1,2179,152.87,7\\nMaruti,2006,215000,102000,Petrol,Individual,Manual,Third Owner,16.1,1298,88.2,5\\nMaruti,2015,210000,50000,Petrol,Individual,Manual,Second Owner,22.74,796,47.3,5\\nToyota,2016,1700000,110000,Diesel,Individual,Manual,Second Owner,13.68,2393,147.8,7\\nMaruti,1991,55000,120000,LPG,Individual,Manual,Second Owner,,,,\\nToyota,2009,530000,285000,Diesel,Individual,Manual,Third Owner,12.8,2494,102,8\\nHonda,2015,800000,50000,Petrol,Individual,Manual,First Owner,17.4,1497,117.3,5\\nMaruti,2014,570000,70000,Diesel,Individual,Manual,Second Owner,25.2,1248,74,5\\nMaruti,2012,350000,120000,Diesel,Individual,Manual,Second Owner,21.5,1248,88.8,5\\nHyundai,2011,350000,93000,Diesel,Individual,Manual,Second Owner,21.9,1396,90,5\\nMahindra,2018,750000,50000,Diesel,Individual,Manual,First Owner,16.5,1493,70,7\\nMaruti,2011,160000,100000,Petrol,Individual,Manual,Second Owner,15.37,1196,73,7\\nTata,2010,150000,70000,Diesel,Individual,Manual,Third Owner,15.7,1405,70,5\\nMaruti,2008,250000,90000,Diesel,Individual,Manual,Third Owner,,,,\\nHyundai,2019,562000,5000,Petrol,Individual,Manual,First Owner,18.9,1197,81.86,5\\nHyundai,2012,290000,27000,Petrol,Individual,Manual,First Owner,20.36,1197,78.9,5\\nMahindra,2014,600000,122000,Diesel,Individual,Manual,Second Owner,15.1,2179,140,7\\nHyundai,2015,401000,74000,Diesel,Individual,Manual,Second Owner,24.4,1120,71,5\\nMaruti,2019,750000,6500,Petrol,Individual,Automatic,First Owner,21.21,1197,81.8,5\\nMahindra,2007,240000,80000,Diesel,Individual,Manual,Second Owner,13.6,2523,63,7\\nMaruti,2012,229999,50000,Petrol,Individual,Manual,First Owner,20.92,998,67.1,5\\nMahindra,2013,500000,50000,Diesel,Individual,Manual,First Owner,15.96,2523,62.1,7\\nMaruti,2010,350000,80000,Petrol,Individual,Manual,First Owner,11.96,1298,80,8\\nDatsun,2018,217000,25000,Petrol,Individual,Manual,First Owner,22.7,799,53.64,5\\nNissan,2018,670000,35000,Diesel,Individual,Manual,First Owner,22.71,1461,84.8,5\\nMaruti,2011,225000,30000,Petrol,Individual,Manual,First Owner,20.92,998,67.1,5\\nMaruti,2020,737000,10000,Petrol,Individual,Automatic,First Owner,18.76,1462,103.26,5\\nMaruti,2014,300000,80000,Petrol,Individual,Manual,First Owner,23.1,998,67.04,5\\nTata,2008,85000,120000,Diesel,Individual,Manual,First Owner,17,1405,70,5\\nHyundai,2010,195000,120000,Diesel,Individual,Manual,Second Owner,16.2,1493,110,5\\nHonda,2017,675000,127991,Diesel,Dealer,Manual,First Owner,25.5,1498,98.6,5\\nMitsubishi,1999,150000,198000,Diesel,Individual,Manual,Second Owner,14.8,1998,68,5\\nTata,2010,290000,65000,Petrol,Individual,Manual,First Owner,15.64,1193,64.1,5\\nMaruti,2002,95000,90000,Petrol,Individual,Manual,Third Owner,,,,\\nMaruti,2018,889000,20000,Diesel,Individual,Manual,First Owner,28.09,1248,88.5,5\\nVolkswagen,2016,400000,60000,Petrol,Individual,Manual,First Owner,17,1198,73.75,5\\nRenault,2018,390000,13120,Petrol,Individual,Manual,First Owner,25.17,799,53.3,5\\nJeep,2017,1550000,87500,Diesel,Individual,Manual,First Owner,17.1,1956,170,5\\nHyundai,2014,600000,125000,Diesel,Individual,Manual,First Owner,22.32,1582,126.32,5\\nHyundai,2018,800000,25000,Petrol,Individual,Automatic,First Owner,17.4,1197,81.86,5\\nMaruti,2013,600000,120000,Diesel,Individual,Manual,Third Owner,20.77,1248,88.8,7\\nHyundai,2015,795000,35000,Petrol,Individual,Manual,First Owner,17.01,1591,121.3,5\\nHyundai,2016,735000,25000,Diesel,Individual,Manual,First Owner,22.54,1396,88.73,5\\nSkoda,2005,250000,120000,Diesel,Individual,Manual,Third Owner,16.4,1896,90,5\\nRenault,2018,400000,25000,Petrol,Individual,Automatic,First Owner,24.04,999,67,5\\nMahindra,2014,395000,140000,Diesel,Individual,Manual,First Owner,14,2489,95,8\\nHyundai,2005,130000,79000,Diesel,Individual,Manual,Second Owner,13.1,1493,82,5\\nRenault,2015,600000,125000,Diesel,Individual,Manual,First Owner,21.04,1461,83.8,8\\nHyundai,2016,720000,80000,Diesel,Individual,Manual,First Owner,21.19,1396,88.73,5\\nHonda,2011,450000,110000,Petrol,Individual,Manual,Third Owner,16.8,1497,116.4,5\\nHyundai,2010,220000,80000,Diesel,Individual,Manual,Second Owner,16.2,1493,110,5\\nHyundai,2014,545000,100000,Diesel,Individual,Manual,Second Owner,22.32,1582,126.32,5\\nVolkswagen,2011,370000,100000,Diesel,Individual,Manual,Second Owner,20.54,1598,103.6,5\\nMahindra,2010,450000,78000,Diesel,Individual,Manual,First Owner,13.6,2523,63,7\\nHyundai,2018,750000,15000,Petrol,Individual,Automatic,First Owner,17.4,1197,81.86,5\\nMahindra,2015,1100000,70000,Diesel,Individual,Manual,First Owner,15.4,2179,120,7\\nMaruti,2019,711000,5000,Petrol,Individual,Manual,First Owner,21.4,1197,83.1,5\\nMaruti,2016,285000,75000,Petrol,Individual,Manual,First Owner,23.95,998,67.05,5\\nMaruti,2020,749000,5500,Petrol,Individual,Manual,First Owner,21.01,1197,81.8,5\\nRenault,2016,550000,80000,Diesel,Individual,Manual,Second Owner,19.64,1461,108.45,5\\nMaruti,2010,300000,120000,Diesel,Individual,Manual,Second Owner,19.3,1248,73.9,5\\nMaruti,2017,625000,70000,Diesel,Individual,Manual,First Owner,27.39,1248,74,5\\nHyundai,2017,650000,80000,Petrol,Individual,Manual,Second Owner,17.19,1197,81.86,5\\nHyundai,2014,575000,120000,Diesel,Individual,Manual,Third Owner,22.32,1582,126.32,5\\nMaruti,2016,631000,75000,Diesel,Individual,Manual,Second Owner,26.59,1248,74,5\\nHyundai,2010,220000,80000,Diesel,Individual,Manual,Second Owner,16.2,1493,110,5\\nTata,2017,600000,40000,Petrol,Individual,Manual,Second Owner,20.3,1199,84,5\\nMahindra,1997,160000,100000,Diesel,Individual,Manual,Fourth & Above Owner,,,,\\nFord,2012,390000,120000,Diesel,Individual,Manual,First Owner,23.5,1498,88.7,5\\nMahindra,2007,375000,110000,Diesel,Individual,Manual,Fourth & Above Owner,12.7,2609,116.6,8\\nHyundai,2010,340000,110000,Diesel,Individual,Manual,First Owner,23,1396,90,5\\nTata,2019,670000,2000,Diesel,Individual,Manual,First Owner,27.28,1047,69,5\\nMaruti,2014,530000,80000,Diesel,Individual,Manual,Second Owner,23.4,1248,74,5\\nMaruti,2015,350000,38000,Petrol,Individual,Automatic,Second Owner,23.95,998,67.05,5\\nMaruti,2014,415000,46000,Petrol,Dealer,Manual,First Owner,21.63,998,67.04,5\\nMaruti,2014,700000,102000,Diesel,Dealer,Manual,First Owner,24.2,1498,93.87,7\\nBMW,2012,925000,96000,Diesel,Dealer,Automatic,Second Owner,19.62,1998,190,5\\nRenault,2017,375000,20000,Petrol,Dealer,Automatic,First Owner,22,999,67,5\\nMaruti,2015,575000,16000,Petrol,Dealer,Manual,First Owner,19.1,1197,85.8,5\\nHyundai,2013,425000,23000,Petrol,Dealer,Manual,First Owner,17,1197,80,5\\nFord,2011,245000,25000,Petrol,Dealer,Manual,First Owner,18.16,1196,86.8,5\\nHyundai,2015,540000,35000,Petrol,Dealer,Manual,Second Owner,17.7,1497,113.42,5\\nMercedes-Benz,2011,1000000,90000,Diesel,Dealer,Automatic,First Owner,14.94,2143,204,5\\nHyundai,2013,291000,37000,Petrol,Dealer,Manual,First Owner,20.36,1197,78.9,5\\nMaruti,2017,600000,34000,Petrol,Dealer,Manual,Second Owner,21.4,1197,83.1,5\\nHyundai,2012,355000,60000,Petrol,Dealer,Manual,First Owner,17.7,1497,113.42,5\\nHyundai,2010,225000,50000,Petrol,Dealer,Manual,First Owner,20.36,1197,78.9,5\\nChevrolet,2013,350000,37000,Petrol,Dealer,Manual,First Owner,13.7,1399,98.79,7\\nMaruti,2012,200000,38000,Petrol,Dealer,Manual,Second Owner,24.7,796,47.3,5\\nFord,2017,600000,40000,Diesel,Individual,Manual,First Owner,,,,\\nHyundai,2012,434999,57000,Petrol,Dealer,Manual,First Owner,17.7,1497,113.42,5\\nHyundai,2014,440000,62200,Petrol,Dealer,Manual,First Owner,17,1197,80,5\\nMaruti,2013,390000,77000,Diesel,Dealer,Manual,First Owner,21.1,1248,73.9,5\\nMaruti,1997,50000,110000,Petrol,Individual,Manual,Second Owner,16.1,796,37,4\\nMaruti,2012,450000,30000,Petrol,Individual,Manual,First Owner,17.5,1197,85.8,5\\nMaruti,2009,125000,60000,Petrol,Individual,Manual,Third Owner,19.7,796,46.3,5\\nMahindra,2014,999000,25000,Diesel,Individual,Manual,First Owner,15.4,2179,120,9\\nTata,2005,225000,188000,Diesel,Individual,Manual,First Owner,12.3,1948,90,7\\nMaruti,2010,85000,150000,Petrol,Individual,Manual,Third Owner,19.7,796,46.3,5\\nHyundai,2012,150000,40000,Petrol,Individual,Manual,First Owner,21.1,814,55.2,5\\nRenault,2014,500000,120000,Diesel,Individual,Manual,First Owner,19.01,1461,108.45,5\\nHyundai,2011,220000,70000,Petrol,Individual,Manual,Third Owner,20.36,1197,78.9,5\\nMahindra,2014,999000,25000,Diesel,Individual,Manual,First Owner,15.4,2179,120,9\\nHyundai,2017,957000,60000,Diesel,Individual,Manual,First Owner,21.38,1396,88.7,5\\nToyota,2006,1050000,250000,Diesel,Individual,Manual,First Owner,12.8,2494,102,7\\nDatsun,2018,320000,35000,Petrol,Individual,Manual,First Owner,22.5,999,67,5\\nMaruti,2016,300000,15000,Petrol,Individual,Manual,First Owner,23.95,998,67.05,5\\nMaruti,2010,270000,98000,Diesel,Individual,Manual,First Owner,17.8,1248,75,5\\nHyundai,2011,170000,62000,Petrol,Individual,Manual,Third Owner,16.36,1495,93.7,5\\nChevrolet,2010,270000,90000,Diesel,Individual,Manual,Second Owner,18.3,1991,147.9,5\\nChevrolet,2013,140000,110000,Petrol,Individual,Manual,Second Owner,18.6,1199,79.4,5\\nHyundai,2010,170000,90000,Petrol,Individual,Manual,Third Owner,20.36,1197,78.9,5\\nMahindra,2019,1450000,10000,Diesel,Individual,Manual,First Owner,17.3,1497,121,7\\nMahindra,2019,1200000,25000,Diesel,Individual,Manual,First Owner,20,1497,115,5\\nHyundai,2019,834000,13000,Diesel,Individual,Manual,First Owner,22.54,1396,88.76,5\\nTata,2017,450000,80000,Diesel,Individual,Manual,First Owner,27.28,1047,69,5\\nVolkswagen,2014,575000,40000,Diesel,Individual,Manual,Third Owner,20.14,1498,88.8,5\\nMaruti,2019,900000,20000,Diesel,Individual,Manual,First Owner,28.4,1248,74.02,5\\nMaruti,2008,149000,87540,LPG,Individual,Manual,Third Owner,16.6,796,35.5,5\\nChevrolet,2007,100000,84000,LPG,Individual,Manual,Third Owner,16,995,60,5\\nSkoda,2011,325000,160000,Diesel,Individual,Manual,Third Owner,20.86,1199,75,5\\nVolkswagen,2012,400000,100000,Diesel,Individual,Manual,Second Owner,20.54,1598,103.6,5\\nHyundai,2017,250000,35000,Petrol,Individual,Manual,Second Owner,20.3,998,68.05,5\\nChevrolet,2010,225000,60000,Petrol,Individual,Manual,Second Owner,12.9,1598,102.5,5\\nFord,2012,300000,70000,Diesel,Individual,Manual,First Owner,18.6,1388,67,5\\nFiat,2015,459999,60000,Diesel,Individual,Manual,Second Owner,20.5,1248,91.72,5\\nFord,2016,825000,35000,Diesel,Individual,Manual,Second Owner,22.77,1498,98.59,5\\nTata,2012,150000,231438,Diesel,Individual,Manual,Second Owner,18.4,1248,75,5\\nMaruti,2016,710000,71000,Diesel,Individual,Manual,First Owner,27.39,1248,74,5\\nMaruti,2008,200000,90000,Petrol,Individual,Manual,First Owner,,,,\\nMaruti,2016,425000,70000,Diesel,Individual,Manual,First Owner,23.2,1248,73.94,5\\nMaruti,2007,45000,80000,Petrol,Individual,Manual,First Owner,16.1,796,37,4\\nMahindra,2011,380000,239451,Diesel,Individual,Manual,Second Owner,13.6,2523,63,7\\nMahindra,2000,150000,50000,Diesel,Individual,Manual,First Owner,,,,\\nMaruti,2009,240000,90000,Diesel,Individual,Manual,First Owner,21.1,1248,73.9,5\\nHyundai,2016,1150000,154000,Diesel,Individual,Manual,First Owner,19.67,1582,126.2,5\\nRenault,2013,520000,109000,Diesel,Individual,Manual,Second Owner,19.64,1461,108.45,5\\nMaruti,2016,675000,120000,Diesel,Individual,Manual,Second Owner,26.59,1248,74,5\\nTata,2006,170000,77000,Diesel,Individual,Manual,First Owner,,,,\\nMaruti,2012,297000,100000,CNG,Individual,Manual,Third Owner,26.2,998,58.2,5\\nTata,2009,250000,110000,Diesel,Individual,Manual,First Owner,11.57,2179,138.1,7\\nHyundai,2005,200000,200000,Diesel,Individual,Manual,Second Owner,13.1,1493,82,5\\nMaruti,2008,225000,120000,Diesel,Individual,Manual,Fourth & Above Owner,,,,\\nMaruti,2016,380000,39000,Petrol,Individual,Manual,Third Owner,20.51,998,67.04,5\\nMaruti,2005,40000,96000,Petrol,Individual,Manual,Fourth & Above Owner,16.1,796,37,4\\nVolkswagen,2014,575000,90000,Diesel,Individual,Manual,First Owner,20.54,1598,103.6,5\\nMaruti,2010,300000,135000,Diesel,Individual,Manual,Second Owner,17.8,1248,75,5\\nTata,2018,450000,90000,Diesel,Individual,Manual,First Owner,27.28,1047,69,5\\nMaruti,2003,45000,90000,Petrol,Individual,Manual,Fourth & Above Owner,16.1,796,37,4\\nToyota,2010,950000,426000,Diesel,Individual,Manual,First Owner,12.8,2494,102,7\\nMaruti,2017,745000,35000,Diesel,Individual,Manual,First Owner,28.4,1248,74.02,5\\nHyundai,2016,509999,120000,Diesel,Individual,Manual,First Owner,24.4,1120,71,5\\nHyundai,2009,142000,110000,Petrol,Individual,Manual,First Owner,20.36,1197,78.9,5\\nMaruti,2009,185000,50000,Petrol,Individual,Manual,First Owner,19,998,66.1,5\\nFiat,2012,300000,77000,Diesel,Individual,Manual,First Owner,20.4,1248,91.7,5\\nHonda,2007,210000,120000,Petrol,Individual,Manual,Second Owner,17.7,1497,78,5\\nHyundai,2008,260000,120000,Petrol,Individual,Manual,Second Owner,13.9,1599,103.2,5\\nMaruti,2013,430000,190000,Diesel,Individual,Manual,Second Owner,23.4,1248,74,5\\nMahindra,2013,600000,110000,Diesel,Individual,Manual,Second Owner,12.05,2179,120,8\\nFord,2010,400000,30000,Petrol,Individual,Manual,First Owner,15.6,1196,70,5\\nHyundai,2012,400000,182000,Diesel,Individual,Manual,Second Owner,24.8,1396,88.7,5\\nMaruti,2017,669000,60000,Diesel,Individual,Manual,First Owner,28.4,1248,74.02,5\\nHyundai,2019,509999,40000,Petrol,Individual,Manual,First Owner,20.14,1197,81.86,5\\nHyundai,2016,616000,112000,Diesel,Individual,Manual,First Owner,22.54,1396,88.73,5\\nMahindra,2013,530000,80000,Diesel,Individual,Manual,Second Owner,12.05,2179,120,8\\nHyundai,2010,190000,90000,Diesel,Individual,Manual,Second Owner,16.8,1493,110,5\\nHonda,2015,700000,140000,Diesel,Individual,Manual,Second Owner,25.1,1498,98.6,5\\nTata,2012,250000,188000,Diesel,Individual,Manual,Second Owner,14,2179,120,8\\nHyundai,2014,225000,60000,Petrol,Individual,Manual,Second Owner,20.36,1197,78.9,5\\nHyundai,2017,470000,30000,Petrol,Individual,Manual,First Owner,18.9,1197,81.86,5\\nMaruti,2019,900000,40000,Diesel,Individual,Manual,First Owner,24.3,1248,88.5,5\\nChevrolet,2013,170000,70000,Diesel,Individual,Manual,First Owner,25.44,936,57.6,5\\nTata,2013,140000,100000,Diesel,Individual,Manual,First Owner,19.09,1396,69,5\\nChevrolet,2011,95000,44000,Petrol,Individual,Manual,Second Owner,16,995,63,5\\nMaruti,2016,280000,110000,Petrol,Individual,Manual,Second Owner,18.5,1197,85.8,5\\nMahindra,2012,470000,215000,Diesel,Individual,Manual,First Owner,12.05,2179,120,7\\nHyundai,2011,129000,80000,Petrol,Individual,Manual,Second Owner,21.1,814,55.2,5\\nChevrolet,2012,165000,70000,Diesel,Individual,Manual,Second Owner,25.44,936,57.6,5\\nHyundai,2016,600000,25000,Petrol,Individual,Manual,First Owner,17.19,1197,81.86,5\\nMaruti,2012,260000,31000,Petrol,Individual,Manual,First Owner,18.9,998,67.1,5\\nMaruti,2005,70000,50000,Petrol,Individual,Manual,Third Owner,18.9,998,67.1,5\\nHyundai,2015,515000,120000,Petrol,Individual,Manual,Second Owner,18.6,1197,81.83,5\\nFord,2012,225000,60000,Diesel,Individual,Manual,First Owner,20,1399,68,5\\nMaruti,2011,270000,60000,Diesel,Individual,Manual,Second Owner,19.3,1248,73.9,5\\nTata,2011,225000,110000,Diesel,Individual,Manual,Third Owner,13.93,2179,138.03,7\\nHyundai,2012,459999,70000,Diesel,Individual,Manual,First Owner,22.32,1582,126.32,5\\nMaruti,2009,115999,110000,Petrol,Individual,Manual,Second Owner,19.7,796,46.3,5\\nSkoda,2013,475000,77300,Diesel,Dealer,Manual,First Owner,21.14,1498,103.52,5\\nMercedes-Benz,2013,1925000,91500,Diesel,Dealer,Automatic,First Owner,10,2148,170,5\\nTata,2011,165000,75000,Diesel,Dealer,Manual,Second Owner,25,1396,69,5\\nMaruti,2015,550000,45000,Diesel,Dealer,Manual,First Owner,28.4,1248,74,5\\nMaruti,2017,861000,61260,Diesel,Dealer,Manual,First Owner,24.3,1248,88.5,5\\nFord,2019,1050000,26000,Diesel,Dealer,Manual,First Owner,23,1498,98.96,5\\nSkoda,2018,3251000,17601,Diesel,Dealer,Automatic,First Owner,16.25,1968,148,7\\nHyundai,2017,750000,43000,Diesel,Dealer,Manual,First Owner,22.54,1396,88.73,5\\nMaruti,2018,730000,4773,Petrol,Dealer,Manual,First Owner,22,1197,81.8,5\\nSkoda,2017,860000,31000,Diesel,Dealer,Automatic,First Owner,21.66,1498,103.52,5\\nHonda,2017,940000,57900,Diesel,Dealer,Manual,First Owner,21.9,1498,98.6,7\\nMahindra,2019,1075000,8600,Diesel,Dealer,Manual,First Owner,17.3,1497,121,7\\nMaruti,2016,775000,52000,Diesel,Dealer,Manual,First Owner,23.65,1248,88.5,5\\nMaruti,2013,411000,62000,Petrol,Dealer,Manual,First Owner,22,1197,81.8,5\\nToyota,2012,911000,155000,Diesel,Dealer,Manual,First Owner,12.8,2494,102,8\\nVolkswagen,2016,540000,66000,Diesel,Dealer,Manual,First Owner,20.14,1498,88.8,5\\nSkoda,2016,660000,78010,Diesel,Dealer,Automatic,First Owner,21.66,1498,103.52,5\\nMaruti,2018,875000,83844,Diesel,Dealer,Manual,First Owner,24.52,1248,88.5,7\\nMaruti,2015,411000,23999,Petrol,Dealer,Automatic,First Owner,23.1,998,67.04,5\\nMaruti,2016,635000,52000,Diesel,Dealer,Manual,First Owner,27.39,1248,74,5\\nMaruti,2012,350000,145000,Diesel,Individual,Manual,Third Owner,22.9,1248,74,5\\nMahindra,2018,800000,70000,Diesel,Individual,Manual,Second Owner,18.49,1493,100,7\\nMaruti,2015,180000,25000,Petrol,Individual,Manual,Second Owner,16.8,796,34.2,5\\nJaguar,2014,2000000,51000,Diesel,Individual,Automatic,First Owner,14.74,2993,270.9,5\\nHonda,2014,490000,120000,Diesel,Individual,Manual,First Owner,24.2,1498,98.6,7\\nMaruti,2010,180000,55000,Petrol,Individual,Manual,First Owner,19,998,67.1,5\\nNissan,2013,310000,91400,Petrol,Individual,Automatic,Second Owner,19.34,1198,76,5\\nHyundai,2012,275000,48000,CNG,Individual,Manual,First Owner,13.2,1495,93.7,5\\nChevrolet,2014,450000,80000,Diesel,Individual,Manual,Second Owner,18.2,1248,73.8,7\\nMahindra,2017,500000,50000,Diesel,Individual,Manual,First Owner,25.32,1198,77,6\\nHyundai,2010,245000,185000,Diesel,Individual,Automatic,Fourth & Above Owner,16.2,1493,110,5\\nVolkswagen,2011,275000,125000,Diesel,Individual,Manual,Fourth & Above Owner,20.54,1598,103.6,5\\nHonda,2006,200000,178500,Petrol,Individual,Manual,Third Owner,17.7,1497,78,5\\nMahindra,2017,1500000,66953,Diesel,Individual,Manual,First Owner,16,2179,140,7\\nNissan,2012,229999,166000,Diesel,Individual,Manual,Second Owner,23.08,1461,63.1,5\\nVolkswagen,2011,280000,131000,Diesel,Individual,Manual,Fourth & Above Owner,20.54,1598,103.6,5\\nMaruti,2009,125000,50000,Petrol,Individual,Manual,Second Owner,18.9,1061,67,5\\nMaruti,2015,600000,25000,Diesel,Individual,Manual,First Owner,25.2,1248,74,5\\nHonda,2018,600000,20000,Petrol,Individual,Manual,First Owner,18.2,1199,88.7,5\\nHonda,2016,411000,60000,Petrol,Individual,Manual,Second Owner,18.5,1198,86.8,5\\nMaruti,2010,150000,170000,Petrol,Individual,Manual,Third Owner,15.37,1196,73,5\\nMaruti,2015,630000,70000,Diesel,Individual,Manual,First Owner,26.21,1248,88.5,5\\nAudi,2013,1200000,110000,Diesel,Individual,Automatic,First Owner,17.11,1968,174.33,5\\nMaruti,2019,700000,45000,Petrol,Individual,Automatic,First Owner,22,1197,81.8,5\\nMahindra,2010,250000,60000,Diesel,Individual,Manual,Second Owner,14,2498,112,7\\nChevrolet,2016,535000,32000,Diesel,Individual,Manual,First Owner,18.2,1248,73.74,8\\nMahindra,2016,600000,60000,Diesel,Individual,Manual,First Owner,18.49,1493,100,7\\nHyundai,2003,145000,120000,Diesel,Individual,Manual,Fourth & Above Owner,13.1,1493,82,5\\nFord,2015,400000,143000,Diesel,Individual,Manual,First Owner,25.83,1498,99,5\\nMaruti,2015,600000,100000,Diesel,Individual,Manual,First Owner,26.59,1248,74,5\\nMaruti,2018,459999,50000,Petrol,Individual,Manual,First Owner,21.63,998,67,5\\nHyundai,2018,800000,30000,Diesel,Individual,Manual,First Owner,22.54,1396,88.73,5\\nMaruti,2017,370000,25000,CNG,Individual,Manual,First Owner,21.94,1196,61.7,5\\nToyota,2012,800000,102000,Diesel,Individual,Manual,Second Owner,12.8,2494,102,8\\nRenault,2013,290000,90000,Diesel,Individual,Manual,First Owner,23.08,1461,63.12,5\\nMaruti,2018,671000,62000,Diesel,Individual,Manual,First Owner,28.4,1248,74,5\\nTata,2012,140000,80000,Diesel,Individual,Manual,Fourth & Above Owner,19.09,1396,69,5\\nMaruti,2011,141000,15000,Petrol,Individual,Manual,Third Owner,19.7,796,46.3,5\\nMaruti,2009,125000,70000,Petrol,Individual,Manual,Second Owner,19.7,796,46.3,5\\nTata,2013,150000,90000,Diesel,Individual,Manual,Second Owner,19.4,1405,70,5\\nMaruti,2007,125000,100000,Petrol,Individual,Manual,Third Owner,18.9,1061,67,5\\nHyundai,2018,600000,25000,Petrol,Individual,Manual,Second Owner,18.9,1197,81.86,5\\nHyundai,2017,700000,40000,Diesel,Individual,Manual,First Owner,22.54,1396,88.73,5\\nHyundai,2017,700000,70000,Diesel,Individual,Manual,First Owner,22.54,1396,88.73,5\\nMaruti,2017,740000,40000,Diesel,Individual,Manual,First Owner,28.4,1248,74.02,5\\nTata,2011,140000,200000,Diesel,Individual,Manual,Second Owner,17,1405,71,5\\nHyundai,2018,1150000,35000,Diesel,Individual,Manual,First Owner,22,1582,126.2,5\\nSkoda,2007,300000,155000,Diesel,Individual,Manual,First Owner,18.7,1896,66,5\\nToyota,2011,300000,110000,Petrol,Individual,Manual,First Owner,17.6,1496,88.73,5\\nRenault,2015,530000,110000,Diesel,Individual,Manual,First Owner,21.64,1461,84.8,5\\nHyundai,2017,530000,80000,Diesel,Individual,Manual,Second Owner,24,1186,73.97,5\\nHyundai,2011,210000,50000,Petrol,Individual,Manual,Second Owner,17.92,1086,62.1,5\\nMaruti,2007,130000,90000,Petrol,Individual,Manual,Second Owner,19.7,796,46.3,5\\nMaruti,2008,148000,80000,LPG,Individual,Manual,Second Owner,17.3,1061,57.5,5\\nVolkswagen,2008,585000,120000,Diesel,Individual,Automatic,First Owner,14.3,1968,140,5\\nHyundai,2011,270000,105000,Diesel,Individual,Manual,Second Owner,21.9,1396,90,5\\nHyundai,2013,375000,40000,Petrol,Individual,Manual,First Owner,20.36,1197,78.9,5\\nMahindra,2014,725000,141000,Diesel,Individual,Manual,Second Owner,15.1,2179,140,7\\nMahindra,2005,350000,15000,Diesel,Individual,Manual,Second Owner,,,,\\nHyundai,2007,180000,150000,Diesel,Individual,Manual,Second Owner,18.1,1493,110,5\\nMaruti,2014,425000,80000,Diesel,Individual,Manual,Second Owner,23.2,1248,73.94,5\\nFord,2018,900000,25000,Diesel,Individual,Manual,First Owner,23,1498,98.96,5\\nTata,2017,570000,51000,Diesel,Individual,Manual,First Owner,14.07,2956,69.01,7\\nTata,2017,290000,40000,Diesel,Individual,Manual,First Owner,25,1396,69,5\\nFord,2011,229999,40000,Diesel,Individual,Manual,Second Owner,20,1399,68,5\\nFord,2012,300000,70000,Diesel,Individual,Manual,First Owner,20,1399,68,5\\nMaruti,2010,220000,110000,Diesel,Individual,Manual,Third Owner,21.1,1248,73.9,5\\nChevrolet,2011,409999,80000,Diesel,Individual,Manual,Second Owner,18.3,1991,147.9,5\\nChevrolet,2013,355000,136000,Diesel,Individual,Manual,Second Owner,18.2,1248,73.8,7\\nRenault,2013,695000,120000,Diesel,Individual,Manual,First Owner,19.01,1461,108.45,5\\nMaruti,2010,320000,120000,Diesel,Individual,Manual,Second Owner,19.3,1248,73.9,5\\nMahindra,2017,710000,120000,Diesel,Individual,Manual,First Owner,18.49,1493,100,7\\nTata,2004,85000,120000,Diesel,Individual,Manual,Second Owner,16.8,1405,62,5\\nChevrolet,2010,409999,210000,Diesel,Individual,Manual,Fourth & Above Owner,12.2,1994,105.3,9\\nVolkswagen,2015,550000,90000,Diesel,Individual,Manual,First Owner,20.14,1498,88.8,5\\nMaruti,2007,215000,100750,Petrol,Individual,Manual,Second Owner,16.1,1298,88.2,5\\nHyundai,2006,110000,140000,Petrol,Individual,Manual,Second Owner,14.4,1599,94,5\\nHonda,2007,170000,110000,Petrol,Individual,Manual,Third Owner,17.7,1497,78,5\\nTata,2018,850000,40000,Petrol,Individual,Manual,Second Owner,17,1198,108.5,5\\nHyundai,2010,350000,148000,Diesel,Individual,Manual,Second Owner,23,1396,90,5\\nHyundai,2005,120000,190000,Petrol,Individual,Automatic,Second Owner,,,,\\nTata,2015,250000,155000,Diesel,Individual,Manual,Second Owner,22.3,1248,74,5\\nFord,2015,433000,70000,Diesel,Individual,Manual,First Owner,25.83,1498,99,5\\nToyota,2010,1200000,100000,Diesel,Individual,Manual,First Owner,11.5,2982,171,7\\nHyundai,2015,300000,45000,Petrol,Individual,Manual,First Owner,21.1,814,55.2,5\\nMaruti,1998,70000,40000,Petrol,Individual,Manual,Second Owner,17.3,993,60,5\\nMahindra,2017,760000,90000,Diesel,Individual,Manual,Second Owner,15.96,2523,62.1,7\\nHyundai,2014,250000,20000,Petrol,Individual,Manual,First Owner,21.1,814,55.2,5\\nHyundai,2013,187000,120000,Petrol,Individual,Manual,Second Owner,17.92,1086,62.1,5\\nJaguar,2017,2711000,9000,Diesel,Dealer,Automatic,First Owner,13.6,1999,177,5\\nLexus,2019,5150000,20000,Petrol,Dealer,Automatic,First Owner,22.37,2487,214.56,5\\nJaguar,2017,3200000,45000,Diesel,Dealer,Automatic,First Owner,19.33,1999,177,5\\nTata,2015,503000,110000,Diesel,Individual,Manual,First Owner,14.1,2179,147.94,7\\nVolvo,2019,3800000,20000,Diesel,Individual,Automatic,First Owner,18,1969,190,5\\nToyota,2016,2000000,68089,Petrol,Trustmark Dealer,Automatic,First Owner,19.16,2494,157.7,5\\nMaruti,2013,225000,58343,Petrol,Trustmark Dealer,Manual,First Owner,21.79,998,67.05,5\\nMaruti,2018,740000,38817,Diesel,Dealer,Manual,First Owner,27.39,1248,74,5\\nHonda,2016,550000,56494,Petrol,Trustmark Dealer,Manual,First Owner,18.2,1199,88.7,5\\nToyota,2013,750000,79328,Diesel,Trustmark Dealer,Manual,Second Owner,12.99,2494,100.6,7\\nMaruti,2019,650000,5621,Petrol,Trustmark Dealer,Automatic,First Owner,22,1197,81.8,5\\nToyota,2017,625000,25538,Petrol,Trustmark Dealer,Manual,First Owner,16.78,1496,88.73,5\\nMaruti,2018,600000,69779,Petrol,Dealer,Automatic,First Owner,22,1197,81.8,5\\nHyundai,2017,450000,56290,Diesel,Dealer,Manual,First Owner,24,1186,73.97,5\\nBMW,2019,5400000,7500,Diesel,Dealer,Automatic,First Owner,16.78,1995,190,5\\nBMW,2019,5500000,8500,Diesel,Dealer,Automatic,First Owner,16.78,1995,190,5\\nHonda,2019,779000,7032,Petrol,Trustmark Dealer,Automatic,First Owner,19,1199,88.76,5\\nSkoda,2016,645000,11000,Petrol,Dealer,Automatic,First Owner,14.3,1598,103.5,5\\nVolvo,2018,2475000,2000,Diesel,Dealer,Automatic,First Owner,16.8,1984,150,5\\nMaruti,2013,335000,90000,Diesel,Individual,Manual,Second Owner,22.9,1248,74,5\\nMaruti,2016,488000,80000,Petrol,Individual,Manual,Second Owner,20.85,1197,83.14,5\\nMaruti,2008,111000,110000,Petrol,Individual,Manual,Third Owner,15.6,1586,104.68,5\\nMaruti,2015,600000,70000,Diesel,Individual,Manual,First Owner,26.21,1248,88.5,5\\nMaruti,2020,570000,5000,Petrol,Individual,Manual,First Owner,21.21,1197,81.8,5\\nHyundai,2007,110000,75000,Petrol,Individual,Manual,Second Owner,17.8,1086,63,5\\nMaruti,2014,434999,50000,Petrol,Individual,Manual,First Owner,18.6,1197,85.8,5\\nHyundai,2014,229999,70000,Petrol,Individual,Manual,First Owner,21.1,814,55.2,5\\nNissan,2014,490000,90000,Diesel,Individual,Manual,Second Owner,20.45,1461,83.8,5\\nMaruti,2011,300000,100000,Petrol,Individual,Manual,Second Owner,17.5,1298,85.8,5\\nChevrolet,2017,350000,90000,Petrol,Individual,Manual,First Owner,17.8,1199,76.8,5\\nHonda,2019,580000,35000,Petrol,Individual,Manual,First Owner,17.5,1199,88.7,5\\nTata,2017,385000,155000,Diesel,Individual,Manual,First Owner,25,1396,69.01,5\\nHyundai,2019,434999,19500,Petrol,Dealer,Manual,First Owner,20.3,1086,68.07,5\\nToyota,2018,3200000,50000,Diesel,Individual,Manual,First Owner,14.24,2755,174.5,7\\nHyundai,2015,495000,30000,Petrol,Dealer,Manual,First Owner,18.6,1197,81.83,5\\nHyundai,2016,575000,53000,Diesel,Dealer,Manual,First Owner,22.54,1396,88.73,5\\nTata,2013,200000,120000,Diesel,Individual,Manual,Second Owner,19.09,1405,69.01,5\\nMahindra,2012,140000,120000,Diesel,Individual,Manual,Second Owner,21.03,1461,65,5\\nFord,2012,300000,64000,Diesel,Individual,Manual,Second Owner,17.8,1399,67,5\\nChevrolet,2015,350000,50000,Petrol,Individual,Manual,First Owner,18.2,1199,82.4,5\\nTata,2015,250000,80000,Diesel,Individual,Manual,Second Owner,19.09,1405,69.01,5\\nTata,2013,280000,80000,Diesel,Individual,Manual,First Owner,21.02,1248,88.76,5\\nHyundai,2017,600000,5000,Petrol,Individual,Manual,First Owner,20.14,1197,81.86,5\\nHyundai,2015,700000,25000,Petrol,Individual,Manual,First Owner,17.01,1591,121.4,5\\nHonda,2014,560000,72000,Diesel,Dealer,Manual,First Owner,26,1498,98.6,5\\nMaruti,2016,565000,72000,Diesel,Dealer,Manual,First Owner,,,,\\nRenault,2017,880000,65000,Diesel,Individual,Manual,First Owner,19.98,1461,108.5,8\\nMahindra,2005,250000,80000,Diesel,Individual,Manual,First Owner,13.6,2523,63,7\\nMahindra,2016,550000,120000,Diesel,Individual,Manual,First Owner,15.96,2523,62.1,9\\nHyundai,2018,530000,60000,Diesel,Individual,Manual,First Owner,25.4,1186,73.97,5\\nMahindra,2013,750000,110000,Diesel,Individual,Manual,Second Owner,15.1,2179,140,7\\nMaruti,2017,310000,35000,Petrol,Individual,Manual,First Owner,24.7,796,47.3,5\\nMaruti,2014,620000,130000,Diesel,Individual,Manual,First Owner,20.77,1248,88.8,7\\nMaruti,2013,400000,188000,Diesel,Individual,Manual,Second Owner,22.9,1248,74,5\\nTata,2008,67000,80000,Diesel,Individual,Manual,Second Owner,17.2,1396,53.5,5\\nFord,2015,480000,80000,Diesel,Individual,Manual,First Owner,25.83,1498,99,5\\nMaruti,2008,110000,48676,Petrol,Individual,Manual,First Owner,19.7,796,35,8\\nHyundai,2006,105000,60000,Petrol,Individual,Manual,Third Owner,,,,\\nDatsun,2018,475000,40000,Petrol,Individual,Manual,First Owner,20.62,1198,67,7\\nToyota,2012,275000,120000,Diesel,Individual,Manual,Second Owner,,,,\\nTata,2003,40000,70000,Diesel,Individual,Manual,First Owner,,,,\\nMaruti,2018,300000,15000,Petrol,Individual,Manual,Second Owner,24.7,796,47.3,5\\nMaruti,2007,100000,70000,Petrol,Individual,Manual,First Owner,19.7,796,46.3,5\\nTata,2011,70000,80000,Diesel,Individual,Manual,Second Owner,17,1405,71,5\\nFord,2017,900000,60000,Diesel,Individual,Manual,First Owner,22.77,1498,98.59,5\\nToyota,2017,650000,120000,Diesel,Individual,Manual,Second Owner,23.59,1364,67.04,5\\nHyundai,2003,55000,120000,Petrol,Individual,Manual,Third Owner,,,,\\nMaruti,2000,50000,180000,Petrol,Individual,Manual,Fourth & Above Owner,17.3,993,60,5\\nHyundai,2016,550000,70000,Petrol,Individual,Manual,First Owner,18.9,1197,82,5\\nRenault,2013,475000,250000,Diesel,Individual,Manual,First Owner,20.46,1461,83.8,5\\nHyundai,2019,425000,15000,Petrol,Individual,Manual,First Owner,20.3,1086,68,5\\nMaruti,2017,900000,65000,Diesel,Individual,Manual,First Owner,28.09,1248,88.5,5\\nHyundai,2015,516000,90000,Petrol,Individual,Manual,First Owner,18.6,1197,81.83,5\\nTata,2011,150000,70000,Petrol,Individual,Manual,Second Owner,16.5,1172,65,5\\nMaruti,2016,400000,30000,Petrol,Individual,Manual,First Owner,20.51,998,67.04,5\\nMahindra,2016,800000,79500,Diesel,Individual,Manual,First Owner,15.4,2179,120,7\\nHyundai,2007,165000,90000,Petrol,Individual,Manual,Third Owner,17.8,1086,63,5\\nNissan,2015,1000000,110000,Diesel,Individual,Manual,First Owner,20.45,1461,83.8,5\\nMaruti,2015,440000,110000,Diesel,Individual,Manual,First Owner,26.59,1248,74,5\\nHyundai,2011,390000,153000,Diesel,Individual,Manual,First Owner,22.32,1582,126.32,5\\nFord,2008,136000,200185,Petrol,Individual,Manual,First Owner,16.6,1388,68,5\\nMaruti,2013,475000,149000,Diesel,Individual,Manual,First Owner,23.4,1248,74,5\\nFord,2016,515000,100000,Diesel,Individual,Manual,First Owner,25.83,1498,99,5\\nTata,2012,175000,90000,Diesel,Individual,Manual,Second Owner,15.42,1405,70,7\\nMaruti,2012,380000,80000,Diesel,Individual,Manual,Fourth & Above Owner,21.5,1248,88.8,5\\nToyota,2012,405000,150000,Diesel,Individual,Manual,First Owner,,,,\\nMaruti,2018,535000,12000,Petrol,Individual,Manual,First Owner,20.89,1197,81.8,5\\nHyundai,2011,215000,40000,Petrol,Individual,Manual,Second Owner,20.36,1197,78.9,5\\nMaruti,1997,70000,100000,Petrol,Individual,Manual,Second Owner,17.3,993,60,5\\nHyundai,2017,445000,27000,Petrol,Individual,Manual,First Owner,18.9,1197,81.86,5\\nMaruti,2015,335000,120000,Petrol,Individual,Manual,First Owner,20.51,998,67.04,5\\nMahindra,2015,600000,80000,Diesel,Individual,Manual,First Owner,15.96,2523,62.1,7\\nMaruti,2014,300000,49025,Petrol,Individual,Manual,First Owner,15.37,1196,73,5\\nTata,2015,110000,15000,Petrol,Individual,Manual,First Owner,25.4,624,37.5,4\\nMaruti,2014,240000,90000,Petrol,Individual,Manual,Second Owner,23.95,998,67.05,5\\nTata,2016,300000,90000,Petrol,Individual,Manual,First Owner,23.84,1199,84,5\\nBMW,2010,2000000,90000,Diesel,Individual,Automatic,Second Owner,14.49,2993,258,5\\nTata,2007,50000,80000,Diesel,Individual,Manual,Third Owner,17.2,1396,53.5,5\\nChevrolet,2009,295000,195000,Diesel,Individual,Manual,Second Owner,14.8,2499,80,10\\nMahindra,2006,310000,90000,Diesel,Individual,Manual,Third Owner,10.5,2179,120,8\\nMaruti,1997,29999,80000,Petrol,Individual,Manual,Third Owner,16.1,796,37,4\\nHonda,2016,925000,22000,Petrol,Individual,Manual,First Owner,17.8,1497,117.3,5\\nMaruti,2016,640000,70000,Diesel,Individual,Manual,First Owner,24.3,1248,88.5,5\\nMaruti,2012,350000,35000,Petrol,Individual,Manual,First Owner,17.5,1197,85.8,5\\nMaruti,2013,385000,120000,Petrol,Individual,Manual,First Owner,19.1,1197,85.8,5\\nMaruti,2013,409999,100000,Diesel,Individual,Manual,Second Owner,23.4,1248,74,5\\nMahindra,2016,1300000,40000,Diesel,Individual,Automatic,First Owner,16,2179,140,7\\nFord,2009,210000,60000,Petrol,Individual,Manual,Third Owner,15.3,1596,101,5\\nMahindra,2007,300000,110000,Diesel,Individual,Manual,First Owner,10.5,2179,120,7\\nMahindra,2008,450000,112000,Diesel,Individual,Manual,First Owner,10.5,2609,120,9\\nFord,2011,170000,70000,Diesel,Individual,Manual,Second Owner,20,1399,68,5\\nHonda,2014,650000,140000,Diesel,Individual,Manual,First Owner,25.1,1498,98.6,5\\nMaruti,1997,125000,94000,Petrol,Individual,Automatic,Fourth & Above Owner,15.9,1298,85,5\\nMaruti,2012,145000,70000,Petrol,Individual,Manual,First Owner,19.7,796,46.3,5\\nVolkswagen,2018,681000,27000,Diesel,Individual,Manual,First Owner,20.14,1498,88,5\\nHonda,2015,635000,173000,Diesel,Individual,Manual,First Owner,25.1,1498,98.6,5\\nMaruti,2010,140000,80000,Petrol,Individual,Manual,Second Owner,19.7,796,46.3,5\\nHonda,2016,750000,86000,Diesel,Individual,Manual,Third Owner,26,1498,98.6,5\\nHonda,2015,611000,80000,Diesel,Individual,Manual,Second Owner,26,1498,98.6,5\\nMaruti,2007,110000,120000,Petrol,Individual,Manual,Third Owner,19.7,796,46.3,5\\nMaruti,2006,100000,100000,Petrol,Individual,Automatic,Second Owner,16,1061,64,5\\nTata,2014,225000,120000,Diesel,Individual,Manual,First Owner,22.3,1248,74,5\\nHyundai,2010,250000,190000,Diesel,Individual,Manual,Third Owner,16.2,1493,110,5\\nMahindra,2011,385000,120000,Diesel,Individual,Manual,Second Owner,14,2523,75,8\\nMaruti,2012,135000,70000,Petrol,Individual,Manual,First Owner,19.7,796,46.3,5\\nMaruti,2006,65000,100000,Petrol,Individual,Manual,Second Owner,19.7,796,46.3,5\\nMaruti,2016,260000,120000,Petrol,Individual,Manual,First Owner,23.95,998,67.05,5\\nMaruti,2014,465000,120000,Diesel,Individual,Manual,Second Owner,23.4,1248,74,5\\nMaruti,2007,150000,80000,Petrol,Individual,Manual,Fourth & Above Owner,,,,\\nMahindra,2017,430000,20000,Petrol,Individual,Manual,Second Owner,18.15,1198,82,6\\nHyundai,2009,200000,81000,Petrol,Individual,Manual,Fourth & Above Owner,17,1197,80,5\\nChevrolet,2011,125000,90000,Petrol,Individual,Manual,Second Owner,18.6,1199,79.4,5\\nMaruti,2001,45000,60000,Petrol,Individual,Manual,Second Owner,16.1,796,37,4\\nChevrolet,2012,124000,40000,Petrol,Individual,Manual,Second Owner,18.6,1199,79.4,5\\nTata,2007,80000,80000,Petrol,Individual,Manual,Third Owner,15.3,1193,65.3,5\\nMaruti,2014,545000,35000,CNG,Individual,Manual,First Owner,22.8,1373,80.9,7\\nMaruti,2019,1050000,20000,Diesel,Individual,Manual,First Owner,25.47,1248,88.5,7\\nChevrolet,2015,200000,50000,Petrol,Individual,Manual,First Owner,18.2,1199,82.4,5\\nMahindra,2015,1100000,77000,Diesel,Individual,Automatic,Second Owner,16,2179,140,7\\nMahindra,2014,750000,50000,Diesel,Individual,Manual,First Owner,15.1,2179,140,7\\nTata,2016,425000,13500,Petrol,Individual,Manual,First Owner,23.84,1199,84,5\\nMaruti,2016,300000,38000,Petrol,Individual,Manual,First Owner,24.7,796,47.3,5\\nMaruti,2019,1200000,14000,Diesel,Individual,Manual,First Owner,25.47,1248,88.5,7\\nHonda,2009,240000,70000,Petrol,Individual,Manual,First Owner,13.5,1799,130,5\\nMahindra,2016,450000,55000,Diesel,Individual,Manual,Second Owner,25.32,1198,77,6\\nMaruti,2006,80000,150000,Petrol,Individual,Manual,Fourth & Above Owner,18.9,998,67.1,5\\nMahindra,2013,500000,160000,Diesel,Individual,Manual,First Owner,15.96,2523,62.1,7\\nChevrolet,2013,295000,50000,Diesel,Individual,Manual,First Owner,22.1,1248,76.9,5\\nTata,2008,100000,120000,Diesel,Individual,Manual,Third Owner,19.09,1396,69,5\\nHyundai,2013,700000,76460,Diesel,Individual,Manual,First Owner,22.32,1582,126.32,5\\nFord,2011,180000,125000,Diesel,Individual,Manual,Second Owner,20,1399,68,5\\nMahindra,2012,225000,110000,Diesel,Individual,Manual,Second Owner,20.8,1461,65,5\\nHyundai,2017,310000,25000,Petrol,Individual,Manual,First Owner,21.1,814,55.2,5\\nHonda,2015,625000,30000,Diesel,Individual,Manual,First Owner,26,1498,98.6,5\\nHyundai,2013,275000,70000,LPG,Individual,Manual,Second Owner,19.2,1086,68.05,5\\nHyundai,2013,245000,110000,Petrol,Individual,Manual,Second Owner,19.81,1086,68.05,5\\nMaruti,2010,160000,200000,Petrol,Individual,Manual,First Owner,19,998,67.1,5\\nHyundai,2014,250000,80000,Petrol,Individual,Manual,First Owner,21.1,814,55.2,5\\nHonda,2014,450000,76000,Diesel,Individual,Manual,First Owner,25.8,1498,98.6,5\\nTata,2007,85000,150000,Diesel,Individual,Manual,Second Owner,17.2,1396,53.5,5\\nToyota,2018,1938000,35000,Diesel,Individual,Manual,First Owner,13.68,2393,147.8,7\\nHyundai,2016,550000,40000,Petrol,Individual,Manual,First Owner,18.6,1197,81.83,5\\nFord,2015,551000,110000,Diesel,Individual,Manual,First Owner,22.77,1498,98.59,5\\nHyundai,2019,500000,60000,Petrol,Individual,Manual,First Owner,20.14,1197,81.86,5\\nHonda,2018,585000,15000,Petrol,Individual,Manual,First Owner,17.8,1198,86.7,5\\nHyundai,2013,172000,120000,Petrol,Individual,Manual,First Owner,16.36,1495,93.7,5\\nHyundai,2012,360000,100000,Diesel,Individual,Manual,Second Owner,22.32,1582,126.32,5\\nTata,2017,350000,24000,Diesel,Individual,Manual,Second Owner,27.28,1047,69,5\\nFord,2018,700000,53000,Diesel,Individual,Manual,First Owner,23,1498,98.96,5\\nMaruti,2011,148000,40000,Petrol,Individual,Manual,Third Owner,19.7,796,46.3,5\\nMaruti,2016,330000,47370,CNG,Individual,Manual,First Owner,21.94,1196,63,5\\nSkoda,2007,110000,120000,Diesel,Individual,Manual,Second Owner,18.7,1896,66,5\\nMaruti,2015,450000,100000,Diesel,Individual,Manual,First Owner,25.2,1248,73.94,5\\nChevrolet,2009,260000,80000,Diesel,Individual,Manual,Second Owner,11.5,1991,147.9,7\\nHyundai,2011,200000,91000,Petrol,Individual,Manual,Second Owner,20.36,1197,78.9,5\\nMaruti,2019,430000,20000,CNG,Individual,Manual,First Owner,32.26,998,58.3,4\\nMahindra,2013,550000,80000,Diesel,Individual,Manual,Second Owner,12.05,2179,120,8\\nMaruti,2013,245000,80000,Diesel,Individual,Manual,First Owner,23.2,1248,73.94,5\\nMaruti,2016,320000,80000,CNG,Individual,Manual,First Owner,21.94,1196,61.7,5\\nHyundai,2008,120000,110000,CNG,Individual,Manual,Third Owner,13.2,1495,94,5\\nHyundai,2013,615000,120000,Diesel,Individual,Manual,First Owner,22.7,1582,126.24,5\\nSkoda,2013,600000,90000,Diesel,Individual,Automatic,First Owner,17.2,1968,138.1,5\\nVolkswagen,2010,300000,120000,Petrol,Individual,Manual,Second Owner,14.3,1798,160,5\\nFord,2016,400000,45217,Diesel,Dealer,Manual,First Owner,25.83,1498,99,5\\nHyundai,2017,1000000,60000,Diesel,Individual,Automatic,Second Owner,17.01,1582,126.2,5\\nHyundai,2012,525000,70000,Petrol,Individual,Manual,Second Owner,13.44,2359,198.25,5\\nFiat,2013,300000,133000,Diesel,Individual,Manual,First Owner,20.3,1248,75,5\\nFiat,2011,220000,117000,Diesel,Individual,Manual,Second Owner,20.3,1248,75,5\\nMahindra,2015,850000,173000,Diesel,Individual,Manual,First Owner,16,2179,140,7\\nHonda,2011,500000,35000,Petrol,Individual,Manual,First Owner,17,1497,118,5\\nHyundai,2003,59000,70000,Petrol,Individual,Manual,Second Owner,13.2,1495,94,5\\nMaruti,2011,130000,60000,Petrol,Individual,Manual,Third Owner,19.7,796,46.3,5\\nVolkswagen,2016,375000,120000,Petrol,Individual,Manual,Second Owner,16.2,1199,74,5\\nFord,2009,180000,163000,Diesel,Dealer,Manual,First Owner,,,,\\nVolkswagen,2011,220000,222300,Diesel,Individual,Manual,First Owner,22.07,1199,73.9,5\\nToyota,2013,625000,100000,Diesel,Individual,Manual,Second Owner,12.99,2494,100.57,7\\nMaruti,2013,295000,120000,Diesel,Individual,Manual,First Owner,23.2,1248,73.94,5\\nMaruti,2011,350000,160000,Diesel,Individual,Manual,First Owner,,,,\\nTata,2010,235000,90000,Diesel,Individual,Manual,First Owner,14,1948,90,9\\nHyundai,2012,500000,330000,Petrol,Individual,Manual,Second Owner,13.44,2359,198.25,5\\nMaruti,2017,509999,20000,Petrol,Individual,Manual,First Owner,22,1197,81.8,5\\nMaruti,2020,370000,16000,CNG,Individual,Manual,First Owner,33,796,47.3,5\\nHyundai,2016,370000,30000,Petrol,Individual,Manual,Second Owner,18.9,1197,82,5\\nMaruti,2009,180000,50000,Petrol,Individual,Manual,First Owner,,,,\\nMahindra,2012,300000,210000,Diesel,Individual,Manual,First Owner,17.21,1493,100,7\\nHyundai,2015,350000,20000,Petrol,Individual,Manual,First Owner,19.81,1086,68.05,5\\nRenault,2018,395000,20000,Petrol,Individual,Manual,First Owner,23.01,999,67,5\\nToyota,2015,850000,100000,Diesel,Individual,Manual,First Owner,12.99,2494,100.6,8\\nToyota,2015,1150000,40000,Diesel,Individual,Manual,First Owner,12.99,2494,100.6,7\\nJaguar,2016,3500000,35000,Diesel,Individual,Automatic,First Owner,14.74,2993,270.9,5\\nVolkswagen,2012,280000,120000,Diesel,Individual,Manual,Second Owner,20.54,1598,103.6,5\\nMahindra,2018,775000,50000,Diesel,Individual,Manual,Second Owner,18.49,1493,100,7\\nHyundai,2012,420000,100000,Diesel,Individual,Manual,Second Owner,22.32,1582,126.32,5\\nHonda,2010,310000,91000,Petrol,Individual,Manual,Second Owner,17,1497,118,5\\nJeep,2017,1550000,50000,Diesel,Individual,Manual,First Owner,17.1,1956,170,5\\nFiat,2015,375000,67000,Diesel,Individual,Manual,First Owner,20.4,1248,91.7,5\\nHyundai,2015,500000,40000,Petrol,Individual,Manual,First Owner,18.9,1197,82,5\\nMaruti,2013,300000,100000,Diesel,Individual,Manual,Second Owner,23.2,1248,73.94,5\\nHonda,2008,155000,120000,Petrol,Individual,Manual,Second Owner,17.7,1497,78,5\\nMaruti,2013,350000,185000,Diesel,Individual,Manual,First Owner,23.4,1248,74,5\\nMahindra,2016,950000,75000,Diesel,Individual,Automatic,Third Owner,16,2179,140,7\\nHyundai,2015,350000,80000,Diesel,Individual,Manual,Third Owner,24,1120,70,5\\nIsuzu,2019,1900000,30000,Diesel,Individual,Automatic,First Owner,12.4,1999,147.9,5\\nTata,2020,537000,5000,Petrol,Individual,Manual,First Owner,17,1198,108.5,5\\nVolkswagen,2019,585000,10000,Petrol,Individual,Manual,First Owner,18.78,999,75,5\\nHyundai,2002,56000,60000,Petrol,Individual,Manual,First Owner,,,,\\nMaruti,2012,350000,140000,Diesel,Individual,Manual,First Owner,20.77,1248,88.76,7\\nHyundai,2019,700000,19000,Petrol,Individual,Manual,First Owner,18.6,1197,81.86,5\\nMaruti,2017,849000,44600,Diesel,Dealer,Manual,First Owner,24.52,1248,88.5,7\\nVolkswagen,2014,574000,28080,Petrol,Dealer,Automatic,First Owner,0,1197,103.25,5\\nHyundai,2014,484999,28800,Petrol,Dealer,Manual,First Owner,18.6,1197,81.83,5\\nRenault,2018,360000,21900,Petrol,Dealer,Manual,First Owner,20.71,799,53.26,5\\nVolkswagen,2014,575000,28100,Petrol,Dealer,Automatic,First Owner,0,1197,103.25,5\\nHonda,2014,550000,110000,Diesel,Individual,Manual,Second Owner,26,1498,98.6,5\\nHyundai,2016,700000,100000,Diesel,Individual,Manual,First Owner,22.54,1396,88.73,5\\nMaruti,2019,825000,7673,Diesel,Individual,Automatic,First Owner,28.4,1248,74.02,5\\nMaruti,2008,114999,100000,Petrol,Individual,Manual,Second Owner,18.9,1061,67,5\\nTata,2009,150000,75000,Petrol,Individual,Manual,Second Owner,15,1368,90,5\\nMaruti,2018,851000,50000,Diesel,Individual,Automatic,First Owner,28.4,1248,74.02,5\\nHyundai,2014,550000,40000,Petrol,Individual,Manual,First Owner,17.43,1396,105.5,5\\nMaruti,2016,890000,40000,Diesel,Individual,Manual,First Owner,24.52,1248,88.5,7\\nHyundai,2012,265000,100000,Petrol,Individual,Manual,Second Owner,18.5,1197,80,5\\nMahindra,2014,900000,110000,Diesel,Individual,Manual,First Owner,15.4,1997,120,7\\nChevrolet,2013,210000,96272,Diesel,Individual,Manual,First Owner,25.44,936,57.6,5\\nBMW,2015,1650000,74000,Diesel,Individual,Automatic,First Owner,18.88,1995,184,5\\nToyota,2011,750000,168000,Diesel,Individual,Manual,Second Owner,12.8,2494,102,7\\nFord,2019,675000,7000,Petrol,Individual,Manual,First Owner,19.4,1194,94.93,5\\nHyundai,2017,715000,60000,Diesel,Individual,Manual,First Owner,21.19,1396,88.73,5\\nTata,2013,227999,60000,Diesel,Individual,Manual,Second Owner,25,1396,69.01,5\\nMaruti,2015,400000,22500,Petrol,Individual,Manual,First Owner,20.51,998,67.04,5\\nMaruti,2020,925000,7400,Diesel,Individual,Automatic,First Owner,24.3,1248,88.5,5\\nMaruti,2011,275000,70000,Petrol,Individual,Manual,Third Owner,17.5,1298,85.8,5\\nMaruti,2009,175000,67000,Petrol,Individual,Manual,First Owner,18.9,1061,67,5\\nFord,2009,155000,110000,Diesel,Individual,Manual,Third Owner,17.7,1399,68,5\\nMaruti,2012,325000,175000,Diesel,Individual,Manual,Second Owner,21.5,1248,88.8,5\\nMahindra,2014,700000,120000,Diesel,Individual,Manual,First Owner,12.05,2179,120,9\\nTata,2008,50000,120000,Diesel,Individual,Manual,Third Owner,17.5,1396,70,5\\nMahindra,2012,450000,370000,Diesel,Individual,Manual,First Owner,12.05,2179,120,9\\nHyundai,2014,645000,150360,Diesel,Individual,Manual,First Owner,22.32,1582,126.32,5\\nTata,2017,597000,15000,Diesel,Individual,Manual,First Owner,24.7,1047,69,5\\nRenault,2018,400000,30000,Petrol,Individual,Automatic,Second Owner,24.04,999,67,5\\nMaruti,2009,300000,150000,Diesel,Individual,Manual,First Owner,17.8,1248,75,5\\nMaruti,2015,573000,100000,Diesel,Individual,Manual,Second Owner,25.2,1248,74,5\\nMaruti,2011,180000,70000,Petrol,Individual,Manual,First Owner,20.92,998,67.1,5\\nTata,2011,70000,40000,Petrol,Individual,Manual,First Owner,26,624,35,4\\nToyota,2008,500000,154000,Diesel,Individual,Manual,Third Owner,12.8,2494,102,8\\nHyundai,2004,110000,110000,Petrol,Individual,Manual,Second Owner,14.4,1599,94,5\\nMaruti,2013,450000,120000,Diesel,Individual,Manual,Second Owner,20.77,1248,88.76,7\\nTata,2013,310000,145000,Diesel,Individual,Manual,First Owner,15.3,2956,83.83,7\\nMahindra,2017,400000,30000,Diesel,Individual,Manual,First Owner,25.32,1198,77,6\\nMaruti,2014,390000,90000,Diesel,Individual,Manual,Second Owner,22.9,1248,74,5\\nMaruti,2011,122000,110000,Petrol,Individual,Manual,Fourth & Above Owner,19.7,796,46.3,5\\nMahindra,2016,741000,70000,Diesel,Individual,Manual,First Owner,15.4,1997,120,7\\nHyundai,2012,330000,40000,Diesel,Individual,Manual,Second Owner,23,1396,90,5\\nMahindra,2010,300000,166000,Diesel,Individual,Manual,Third Owner,12.05,2179,120,8\\nHyundai,2011,215000,100000,Petrol,Individual,Manual,Third Owner,20.36,1197,78.9,5\\nMaruti,2009,150000,75000,Petrol,Individual,Manual,Third Owner,18.9,1061,67,5\\nHyundai,2013,250000,42130,Petrol,Individual,Manual,First Owner,21.1,814,55.2,5\\nMaruti,2010,180000,53000,Petrol,Individual,Manual,Second Owner,21.1,1197,85.8,5\\nMaruti,2006,150000,106000,Petrol,Individual,Manual,Second Owner,17.3,993,60,5\\nToyota,2005,275000,96000,Petrol,Individual,Manual,Second Owner,13.4,1794,125,5\\nMaruti,2019,556000,10000,Petrol,Individual,Manual,First Owner,21.01,1197,81.8,5\\nMaruti,2016,550000,37000,Petrol,Individual,Manual,First Owner,20.85,1197,83.14,5\\nMahindra,2018,1500000,20000,Diesel,Individual,Automatic,First Owner,16,2179,138,7\\nToyota,2017,549000,35000,Petrol,Individual,Manual,First Owner,17.71,1197,78.9,5\\nHyundai,2016,630000,50000,Petrol,Individual,Manual,First Owner,18.6,1197,81.83,5\\nMahindra,2020,679000,5000,Diesel,Individual,Manual,First Owner,0,2523,70,2\\nMaruti,2011,320000,85000,Petrol,Individual,Manual,First Owner,,,,\\nHyundai,2017,1125000,47000,Diesel,Individual,Manual,Second Owner,19.67,1582,126.2,5\\nMaruti,2017,680000,71000,Diesel,Individual,Manual,First Owner,27.39,1248,74,5\\nHonda,2017,1050000,50000,Diesel,Individual,Manual,First Owner,25.6,1498,97.9,5\\nTata,2015,450000,57000,Diesel,Individual,Manual,First Owner,23,1248,88.7,5\\nMaruti,2010,210000,43000,Petrol,Individual,Manual,First Owner,18.9,998,67.1,5\\nMaruti,2014,470000,60000,Diesel,Individual,Manual,First Owner,23.4,1248,74,5\\nMaruti,2014,470000,60000,Petrol,Individual,Manual,First Owner,19.1,1197,85.8,5\\nHyundai,2015,550000,40000,Diesel,Individual,Manual,First Owner,22.54,1396,88.73,5\\nMaruti,2011,204999,60000,Petrol,Individual,Manual,First Owner,19,998,66.1,5\\nHonda,2015,950000,30000,Petrol,Individual,Automatic,First Owner,18,1497,117.3,5\\nHyundai,2015,550000,160000,Diesel,Individual,Manual,Second Owner,22.54,1396,88.73,5\\nToyota,2007,270000,147500,Diesel,Individual,Manual,Second Owner,12.8,2494,102,7\\nVolkswagen,2013,280000,90000,Diesel,Individual,Manual,Third Owner,22.07,1199,73.9,5\\nMaruti,2015,630000,70000,Diesel,Individual,Manual,Second Owner,28.09,1248,88.5,5\\nHonda,2007,220000,70000,Petrol,Individual,Manual,First Owner,17.7,1497,78,5\\nMahindra,2014,320000,120000,Diesel,Individual,Manual,First Owner,14.95,2489,93.7,7\\nHyundai,2013,225000,75000,Petrol,Individual,Manual,Second Owner,21.1,814,55.2,5\\nHonda,2010,380000,85000,Petrol,Individual,Manual,Second Owner,17,1497,118,5\\nMaruti,2012,380000,70000,Diesel,Individual,Manual,Third Owner,19.3,1248,73.9,5\\nVolkswagen,2017,600000,29000,Diesel,Individual,Manual,First Owner,22,1498,108.495,5\\nFord,2014,620000,40000,Diesel,Individual,Manual,Second Owner,13.1,2499,141,7\\nHyundai,2012,500000,90000,Diesel,Individual,Automatic,First Owner,19.08,1582,126.32,5\\nMahindra,2015,700000,40000,Diesel,Individual,Automatic,First Owner,18.49,1493,100,7\\nFord,2015,550000,138000,Diesel,Individual,Manual,First Owner,22.77,1498,98.59,5\\nMaruti,2016,600000,70000,Diesel,Individual,Manual,First Owner,25.2,1248,74,5\\nVolkswagen,2019,550000,30000,Petrol,Individual,Manual,Second Owner,19.44,999,75,5\\nHyundai,2013,475000,125000,Diesel,Individual,Manual,Third Owner,22.32,1582,126.3,5\\nHonda,2015,615000,120000,Diesel,Individual,Manual,Second Owner,26,1498,98.6,5\\nMaruti,2013,385000,180000,Diesel,Individual,Manual,Second Owner,23.4,1248,74,5\\nTata,2015,500000,20000,Petrol,Individual,Manual,First Owner,17.57,1193,88.7,5\\nRenault,2012,450000,80000,Diesel,Individual,Manual,First Owner,19.87,1461,83.8,5\\nToyota,2014,969999,110000,Diesel,Individual,Manual,Second Owner,12.99,2494,100.6,7\\nHyundai,2013,580000,80000,Diesel,Individual,Manual,Second Owner,22.32,1582,126.32,5\\nToyota,2017,550000,40000,Diesel,Individual,Manual,First Owner,23.59,1364,67.05,5\\nHonda,2018,780000,30000,Petrol,Individual,Manual,First Owner,17.5,1199,88.7,5\\nFord,2014,500000,80000,Diesel,Individual,Manual,First Owner,25.01,1498,89.75,5\\nSkoda,2011,270000,140000,Diesel,Individual,Manual,Second Owner,20,1968,108.5,5\\nMaruti,2017,335000,25000,Petrol,Individual,Manual,First Owner,23.95,998,67.05,5\\nMaruti,2017,755000,20000,Diesel,Individual,Manual,First Owner,28.4,1248,74.02,5\\nHyundai,2016,651000,42323,Diesel,Dealer,Manual,First Owner,21.19,1396,88.76,5\\nBMW,2011,1075000,42545,Diesel,Dealer,Automatic,First Owner,19.62,1998,190,5\\nMaruti,2016,690000,32000,Diesel,Dealer,Manual,First Owner,25.1,1248,88.5,5\\nMaruti,2017,589000,41232,Diesel,Dealer,Manual,First Owner,26.59,1248,74,5\\nMahindra,2015,445000,40200,Diesel,Dealer,Manual,First Owner,21,1498,74.96,7\\nFord,2013,475000,48000,Diesel,Dealer,Manual,Second Owner,21.7,1498,98.96,5\\nHonda,2014,465000,27233,Diesel,Dealer,Manual,First Owner,27.4,1498,98.63,5\\nTata,2011,225000,35000,Petrol,Individual,Manual,First Owner,15,1368,90,5\\nToyota,2005,310000,200000,Diesel,Individual,Manual,Second Owner,12.8,2494,102,8\\nTata,2016,445000,63000,Diesel,Dealer,Manual,First Owner,15.3,2956,83.8,9\\nMahindra,2015,445000,62000,Diesel,Dealer,Manual,First Owner,21,1498,74.96,7\\nTata,2012,450000,68240,Diesel,Dealer,Manual,First Owner,13.93,2956,138.1,7\\nMahindra,2008,450000,78000,Diesel,Dealer,Manual,First Owner,15.4,1997,120,7\\nMaruti,2017,525000,38000,Diesel,Dealer,Manual,Second Owner,,,,\\nMaruti,2010,200000,35000,Petrol,Dealer,Manual,First Owner,18.9,998,67.1,5\\nMaruti,2018,611000,9000,Petrol,Dealer,Manual,First Owner,19.1,1197,85.8,5\\nHyundai,2016,819999,39000,Diesel,Dealer,Manual,First Owner,19.67,1582,126.2,5\\nHyundai,2016,825000,39000,Diesel,Dealer,Manual,First Owner,21.38,1396,88.7,5\\nFord,2015,599000,92651,Diesel,Dealer,Manual,First Owner,21.7,1498,98.96,5\\nMaruti,2018,490000,28000,Petrol,Dealer,Manual,First Owner,16.1,1197,85,5\\nHyundai,2017,340000,30000,Petrol,Individual,Manual,First Owner,21.1,814,55.2,5\\nMercedes-Benz,2009,1000000,80000,Petrol,Individual,Automatic,Third Owner,10.93,3498,272,5\\nHyundai,2018,1237000,46000,Diesel,Individual,Manual,First Owner,19.67,1582,126.2,5\\nVolkswagen,2013,350000,70000,Diesel,Individual,Manual,Second Owner,22.07,1199,73.9,5\\nMaruti,2000,31000,56194,Petrol,Individual,Manual,Fourth & Above Owner,16.1,796,37,4\\nMaruti,2018,695000,40000,Petrol,Individual,Manual,First Owner,22,1197,81.8,5\\nMaruti,2015,270000,40000,Petrol,Individual,Manual,First Owner,22.74,796,47.3,5\\nMaruti,2016,790000,120000,Diesel,Individual,Manual,First Owner,24.52,1248,88.5,7\\nMaruti,2016,590000,120000,Diesel,Individual,Manual,First Owner,25.2,1248,74,5\\nMaruti,2017,635000,120000,Petrol,Individual,Automatic,First Owner,21.21,1197,81.8,5\\nMahindra,2015,540000,110000,Diesel,Individual,Manual,Second Owner,15.96,2523,62.1,7\\nRenault,2012,265000,67000,Diesel,Individual,Manual,Second Owner,23.08,1461,63.12,5\\nMaruti,2014,600000,50000,Diesel,Individual,Manual,First Owner,23.4,1248,74,5\\nHyundai,2012,409999,100000,Diesel,Individual,Manual,Second Owner,22.32,1582,126.3,5\\nToyota,2015,525000,80000,Diesel,Individual,Manual,Second Owner,23.59,1364,67.05,5\\nFord,2011,150000,50000,Diesel,Individual,Manual,First Owner,18.5,1399,68,5\\nMaruti,2007,55000,70000,Petrol,Individual,Manual,Third Owner,15.9,1298,85,5\\nMaruti,2011,130000,70000,Petrol,Individual,Manual,Second Owner,14,796,35,5\\nMaruti,2017,925000,50000,Diesel,Individual,Manual,First Owner,24.3,1248,88.5,5\\nRenault,2017,690000,65000,Diesel,Individual,Manual,Second Owner,21.04,1461,83.8,7\\nMaruti,2012,560000,200000,Diesel,Individual,Manual,Second Owner,20.77,1248,88.76,7\\nMaruti,2018,950000,7500,Diesel,Individual,Manual,First Owner,28.09,1248,88.5,5\\nRenault,2017,695000,65000,Diesel,Individual,Manual,Second Owner,21.04,1461,83.8,7\\nMaruti,2013,450000,35000,Petrol,Individual,Manual,Second Owner,18.6,1197,85.8,5\\nBMW,2013,2000000,60000,Diesel,Individual,Automatic,First Owner,16.2,2993,235,5\\nMaruti,2009,229999,71000,Petrol,Individual,Manual,First Owner,16.1,1197,85,5\\nMaruti,2017,300000,30000,Petrol,Individual,Manual,First Owner,23.95,998,67.05,5\\nMaruti,2012,200000,50000,Petrol,Individual,Manual,Second Owner,19.7,796,46.3,5\\nMercedes-Benz,2008,725000,80000,Diesel,Individual,Automatic,Second Owner,14.84,2143,170,5\\nNissan,2011,235000,90000,Petrol,Individual,Manual,Second Owner,18.06,1198,75,5\\nHyundai,2017,666000,13000,Petrol,Individual,Manual,First Owner,18.6,1197,81.83,5\\nMaruti,2000,65000,100000,Petrol,Individual,Manual,Third Owner,16.1,796,37,4\\nHyundai,2004,85000,80000,Petrol,Individual,Manual,Third Owner,,,,\\nHonda,2018,834000,30000,Diesel,Individual,Manual,First Owner,25.5,1498,98.6,5\\nMahindra,2012,430000,120000,Diesel,Individual,Manual,First Owner,15.96,2523,62.1,7\\nMaruti,2010,360000,120000,Diesel,Individual,Manual,Second Owner,17.8,1248,75,5\\nHyundai,2014,240000,70000,Petrol,Individual,Manual,First Owner,21.1,814,55.2,5\\nMaruti,2016,210000,210000,Diesel,Individual,Manual,First Owner,25.2,1248,74,5\\nTata,2010,135000,148000,Diesel,Individual,Manual,Second Owner,19.09,1396,69,5\\n',\n",
              " 'v4.csv': b'name,year,selling_price,km_driven,fuel,seller_type,transmission,owner,mileage,engine,max_power,seats\\nMahindra,2017,700000,54188,Diesel,Individual,Manual,First Owner,18.49,1493,100,7\\nMahindra,2017,750000,60000,Diesel,Individual,Manual,First Owner,18.49,1493,100,7\\nSkoda,2012,425000,90000,Diesel,Individual,Manual,First Owner,20.5,1598,103.5,5\\nChevrolet,2011,150000,100000,Petrol,Individual,Manual,Third Owner,18.6,1199,79.4,5\\nHyundai,2014,215000,40000,Petrol,Individual,Manual,First Owner,21.1,814,55.2,5\\nDatsun,2014,225000,35000,Petrol,Individual,Manual,First Owner,20.63,1198,67,5\\nRenault,2017,330000,20000,Petrol,Individual,Manual,First Owner,23.01,999,67,5\\nMaruti,2007,54000,144000,LPG,Individual,Manual,Second Owner,10.9,796,32.8,5\\nHyundai,2014,374000,54043,Petrol,Dealer,Automatic,First Owner,18.9,1197,81.86,5\\nHyundai,2012,549000,66657,Diesel,Dealer,Automatic,First Owner,22.32,1582,126.32,5\\nTata,2016,390000,42000,Diesel,Individual,Manual,Second Owner,19.09,1405,69.01,5\\nHyundai,2013,455999,35582,Petrol,Dealer,Manual,First Owner,18.5,1197,82.85,5\\nVolkswagen,2013,453000,54327,Petrol,Dealer,Automatic,Second Owner,17.2,1197,103.6,5\\nVolkswagen,2016,579000,7949,Petrol,Dealer,Manual,First Owner,17,1198,73.75,5\\nHyundai,2010,258000,59734,Petrol,Dealer,Automatic,First Owner,16.95,1197,78.9,5\\nHonda,2012,428000,49185,Petrol,Dealer,Manual,First Owner,16.8,1497,116.4,5\\nHyundai,2011,262000,56389,Petrol,Dealer,Manual,First Owner,20.36,1197,78.9,5\\nVolkswagen,2013,389000,58245,Petrol,Dealer,Manual,First Owner,16.47,1198,73.9,5\\nNissan,2015,346000,36422,Petrol,Dealer,Manual,First Owner,18.44,1198,75,5\\nHonda,2011,339000,42535,Petrol,Dealer,Manual,First Owner,16.7,1198,88.8,5\\nHyundai,2011,272000,40736,Petrol,Dealer,Automatic,First Owner,16.95,1197,78.9,5\\nMaruti,2012,369000,56246,Petrol,Dealer,Manual,First Owner,18.6,1197,85.8,5\\nMaruti,2011,277000,55403,Petrol,Dealer,Manual,First Owner,18.6,1197,85.8,5\\nTata,2018,535000,30000,Petrol,Individual,Manual,First Owner,20.3,1199,84,5\\nMaruti,2015,265000,67000,Petrol,Individual,Manual,First Owner,23.95,998,67.05,5\\nHyundai,2013,400000,70000,Petrol,Individual,Manual,First Owner,17.01,1591,121.3,5\\nHyundai,2014,459999,90000,Diesel,Individual,Manual,Second Owner,24,1120,70,5\\nHyundai,2019,667000,7500,Petrol,Individual,Manual,First Owner,18.6,1197,81.86,5\\nTata,2011,300000,80000,Diesel,Individual,Manual,Second Owner,11.57,2179,138.1,7\\nTata,2012,229999,186000,Diesel,Individual,Manual,First Owner,23.57,1396,70,5\\nTata,2016,200000,110000,Diesel,Individual,Manual,Second Owner,25,1396,69,5\\nFord,2005,150000,120000,Diesel,Individual,Manual,Third Owner,17.8,1399,68,5\\nFord,2012,280000,105358,Diesel,Individual,Manual,Third Owner,17.8,1399,67,5\\nHyundai,2014,590000,70000,Petrol,Individual,Manual,Second Owner,18.6,1197,81.83,5\\nHyundai,2010,142000,49200,Petrol,Individual,Manual,Second Owner,19.81,1086,68.05,5\\nHonda,2017,850000,40000,Petrol,Individual,Manual,First Owner,17.4,1497,117.6,5\\nHonda,2014,600000,40000,Diesel,Individual,Manual,Second Owner,24.2,1498,98.6,7\\nMahindra,2017,700000,40000,Diesel,Individual,Manual,First Owner,18.49,1493,100,7\\nChevrolet,2013,200000,70000,Petrol,Individual,Manual,First Owner,18.6,1199,79.4,5\\nHyundai,2016,900000,110000,Diesel,Individual,Manual,First Owner,19.67,1582,126.2,5\\nMaruti,2014,220000,100000,Petrol,Individual,Manual,First Owner,23.95,998,67.05,5\\nHyundai,2018,650000,10000,Petrol,Individual,Automatic,Second Owner,18.9,1197,81.86,5\\nToyota,2017,3100000,70000,Diesel,Individual,Automatic,First Owner,15.04,2755,174.5,7\\nToyota,2016,1500000,100600,Diesel,Individual,Manual,Second Owner,13.68,2393,147.8,8\\nBMW,2012,1800000,50000,Diesel,Individual,Automatic,First Owner,16.09,1995,184,5\\nMahindra,2014,800000,136000,Diesel,Individual,Manual,First Owner,15.1,2179,140,7\\nMercedes-Benz,2017,2100000,48000,Diesel,Individual,Automatic,Second Owner,17.9,2143,136,5\\nFord,2010,250000,110000,Diesel,Individual,Manual,Third Owner,17.8,1399,68,5\\nRenault,2012,550000,86000,Diesel,Individual,Manual,First Owner,19.01,1461,108.45,5\\nMaruti,2009,125000,141000,Petrol,Individual,Manual,Second Owner,19.7,796,46.3,5\\nHonda,2011,450000,80000,Petrol,Individual,Manual,Third Owner,17,1497,118,5\\nMahindra,2015,850000,140000,Diesel,Individual,Manual,First Owner,16,2179,140,7\\nMaruti,2014,459999,65000,Diesel,Individual,Manual,Second Owner,23.4,1248,74,5\\nMaruti,2014,434999,110000,Diesel,Individual,Manual,Second Owner,23.4,1248,74,5\\nTata,2008,120000,100000,Diesel,Individual,Manual,Second Owner,17,1405,70,5\\nMaruti,2015,600000,80000,Diesel,Individual,Manual,First Owner,25.2,1248,74,5\\nMaruti,2008,135000,90000,Petrol,Individual,Manual,Second Owner,18.9,998,67.1,5\\nFord,2016,550000,44000,Petrol,Individual,Manual,First Owner,18.16,1196,86.8,5\\nMaruti,2014,385000,25000,Petrol,Individual,Manual,First Owner,23.1,998,67.04,5\\nHyundai,2016,800000,25000,Petrol,Individual,Manual,First Owner,15.29,1591,121.3,5\\nHyundai,2016,780000,35000,Diesel,Individual,Manual,First Owner,22.54,1396,88.73,5\\nMaruti,2008,100000,195000,Petrol,Individual,Manual,Second Owner,19.7,796,46.3,5\\nHyundai,2017,650000,60000,Diesel,Individual,Manual,First Owner,22.54,1396,88.73,5\\nMaruti,2004,50000,50000,Petrol,Individual,Manual,First Owner,16.1,796,37,4\\nHyundai,2012,425000,100000,Diesel,Individual,Manual,Second Owner,22.32,1582,126.32,5\\nFiat,2015,500000,70000,Diesel,Individual,Manual,First Owner,20.4,1248,91.7,5\\nMaruti,2017,590000,30000,Diesel,Individual,Manual,First Owner,25.2,1248,74,5\\nMaruti,2016,459999,27000,Petrol,Individual,Manual,First Owner,23.1,998,67.04,5\\nMaruti,2020,578000,5000,Petrol,Individual,Manual,First Owner,21.21,1197,81.8,5\\nMaruti,2012,550000,110000,Diesel,Individual,Manual,Second Owner,20.77,1248,88.76,7\\nHonda,2013,465000,80000,Petrol,Individual,Manual,Second Owner,16.8,1497,116.3,5\\nMahindra,2018,890000,80000,Diesel,Individual,Manual,First Owner,16.5,1493,70,7\\nMahindra,2014,250000,110000,Diesel,Individual,Manual,First Owner,20.8,1461,65,5\\nMaruti,2018,420000,35000,Petrol,Individual,Automatic,First Owner,20.51,998,67,5\\nMaruti,2017,550000,20000,Petrol,Individual,Manual,First Owner,21.21,1197,81.8,5\\nMaruti,2018,270000,20000,Petrol,Individual,Manual,First Owner,24.7,796,47.3,5\\nMaruti,2018,700000,7800,Petrol,Individual,Automatic,First Owner,22,1197,81.8,5\\nMaruti,2017,500000,20000,Petrol,Individual,Manual,First Owner,20.4,1197,81.8,5\\nTata,2019,1250000,15000,Diesel,Individual,Manual,First Owner,17.6,2179,147.94,7\\nHyundai,2013,320000,31377,Petrol,Individual,Manual,Second Owner,18.5,1197,82.85,5\\nMaruti,2018,700000,50000,Diesel,Individual,Manual,First Owner,28.4,1248,74.02,5\\nMaruti,2015,290000,60000,Petrol,Individual,Manual,First Owner,20.51,998,67.04,5\\nToyota,2012,550000,100000,Petrol,Individual,Automatic,First Owner,14.53,1794,138.1,5\\nHonda,2012,265000,60000,Petrol,Individual,Manual,First Owner,19.4,1198,86.8,5\\nMaruti,2018,830000,5000,Petrol,Individual,Automatic,First Owner,21.4,1197,83.1,5\\nTata,2017,800000,60000,Diesel,Individual,Manual,First Owner,14.1,2179,147.94,7\\nMaruti,2011,160000,25000,Petrol,Individual,Manual,Second Owner,19.7,796,46.3,5\\nRenault,2018,335000,30000,Petrol,Individual,Manual,First Owner,25.17,799,53.3,5\\nDatsun,2017,329000,80000,Petrol,Individual,Manual,Second Owner,20.63,1198,67,5\\nMaruti,2017,775000,75000,Diesel,Individual,Manual,First Owner,24.3,1248,88.5,5\\nHyundai,2020,524000,32000,Petrol,Individual,Manual,First Owner,20.14,1197,81.86,5\\nMaruti,2015,245000,40000,Petrol,Individual,Manual,First Owner,22.74,796,47.3,5\\nHyundai,2012,275000,93000,Petrol,Individual,Manual,Second Owner,17,1197,80,5\\nHyundai,2015,610000,50000,Diesel,Individual,Manual,Second Owner,21.19,1396,88.73,5\\nMaruti,2015,615000,60000,Diesel,Individual,Manual,First Owner,26.59,1248,74,5\\nMaruti,2014,684000,60000,Diesel,Individual,Manual,Second Owner,20.77,1248,88.8,7\\nMaruti,2014,680000,64000,Diesel,Individual,Manual,Second Owner,20.77,1248,88.8,7\\nRenault,2014,500000,120000,Diesel,Individual,Manual,First Owner,20.45,1461,83.8,5\\nRenault,2014,520000,120000,Diesel,Individual,Manual,First Owner,20.45,1461,83.8,5\\nToyota,2012,390000,140000,Diesel,Individual,Manual,Second Owner,,,,\\nToyota,2012,434999,135000,Diesel,Individual,Manual,Third Owner,,,,\\nMaruti,2010,350000,166000,Diesel,Individual,Manual,Second Owner,,,,\\nFord,2018,675000,60000,Diesel,Individual,Manual,First Owner,24.4,1498,98.63,5\\nMercedes-Benz,2011,1350000,81500,Diesel,Individual,Automatic,Second Owner,14.84,2143,167.62,5\\nMercedes-Benz,2011,1350000,80000,Diesel,Individual,Automatic,First Owner,15.8,2148,170,5\\nMaruti,2019,675000,5000,Petrol,Individual,Manual,First Owner,21.21,1197,81.8,5\\nFord,2016,725000,30000,Diesel,Individual,Manual,First Owner,21.7,1498,98.96,5\\nMahindra,2019,1200000,15000,Diesel,Individual,Manual,First Owner,20,1497,115,5\\nVolkswagen,2018,650000,40000,Diesel,Dealer,Manual,First Owner,20.14,1498,88,5\\nMahindra,2019,1090000,16500,Petrol,Dealer,Manual,First Owner,17,1197,110,5\\nHyundai,2017,1100000,67000,Diesel,Individual,Automatic,First Owner,17.01,1582,126.2,5\\nHyundai,2017,670000,48000,Diesel,Individual,Manual,First Owner,22.54,1396,88.73,5\\nHyundai,2018,780000,35000,Diesel,Individual,Manual,First Owner,22.54,1396,88.73,5\\nMaruti,2017,720000,60000,Diesel,Individual,Manual,First Owner,28.09,1248,88.5,5\\nMaruti,2018,610000,52000,Petrol,Dealer,Manual,First Owner,22,1197,81.8,5\\nVolkswagen,2017,600000,29000,Diesel,Individual,Manual,First Owner,22,1498,108.495,5\\nRenault,2016,535000,50000,Diesel,Individual,Manual,First Owner,19.87,1461,83.8,5\\nHyundai,2009,142000,110000,Petrol,Individual,Manual,First Owner,20.36,1197,78.9,5\\nMaruti,2017,515000,23000,Petrol,Individual,Manual,First Owner,21.4,1197,83.1,5\\nDatsun,2016,335000,40000,Petrol,Dealer,Manual,First Owner,20.63,1198,67,5\\nHyundai,2017,957000,60000,Diesel,Individual,Manual,First Owner,21.38,1396,88.7,5\\nMaruti,2017,605000,127000,Diesel,Individual,Manual,First Owner,28.4,1248,74.02,5\\nTata,2013,316000,140000,Diesel,Individual,Manual,First Owner,21.02,1248,88.76,5\\nRenault,2019,675000,5000,Petrol,Individual,Manual,First Owner,20,999,72,7\\nMaruti,2015,520000,70000,Diesel,Individual,Manual,First Owner,26.59,1248,74,5\\nMaruti,2011,265000,60000,Diesel,Individual,Manual,First Owner,19.3,1248,73.9,5\\nVolkswagen,2016,395000,40000,Petrol,Individual,Manual,Second Owner,16.2,1199,74,5\\nVolkswagen,2016,385000,40000,Petrol,Individual,Manual,Second Owner,16.2,1199,74,5\\nMaruti,2009,142000,70000,Petrol,Individual,Manual,Second Owner,18.9,1061,67,5\\nHyundai,2009,160000,35000,Petrol,Individual,Manual,First Owner,19.81,1086,68.05,5\\nTata,2012,180000,50000,Diesel,Individual,Manual,Third Owner,19.09,1396,69,5\\nHonda,2013,480000,42462,Petrol,Dealer,Manual,First Owner,16.8,1497,116.3,5\\nMaruti,2015,470000,54723,Diesel,Dealer,Manual,First Owner,25.2,1248,74,5\\nMaruti,2018,480000,20375,Petrol,Dealer,Manual,First Owner,20.89,1197,81.8,5\\nMaruti,2013,450000,43978,Diesel,Dealer,Manual,Second Owner,28.4,1248,74,5\\nMaruti,2017,520000,28832,Diesel,Dealer,Manual,First Owner,23.4,1248,74,5\\nFord,2019,700000,3177,Petrol,Dealer,Manual,First Owner,18.5,1194,94.93,5\\nHyundai,2015,400000,39414,Petrol,Dealer,Manual,First Owner,18.9,1197,81.86,5\\nTata,2012,200000,30078,Petrol,Dealer,Manual,First Owner,15.3,1396,70,5\\nHyundai,2012,250000,44588,Petrol,Dealer,Manual,First Owner,21.1,814,55.2,5\\nMaruti,2015,400000,49907,Petrol,Dealer,Manual,First Owner,21.63,998,67.04,5\\nMaruti,2013,371000,67082,Petrol,Dealer,Manual,Second Owner,21.21,1197,81.8,5\\nHyundai,2016,450000,40000,Petrol,Individual,Manual,First Owner,18.9,1197,82,5\\nFord,2016,570000,112879,Diesel,Dealer,Manual,Second Owner,23,1498,98.96,5\\nHonda,2013,300000,80000,Petrol,Individual,Manual,Second Owner,19.4,1198,86.8,5\\nHyundai,2017,620000,25000,Petrol,Individual,Manual,First Owner,18.6,1197,81.83,5\\nHonda,2018,949000,10200,Petrol,Individual,Manual,First Owner,17.4,1497,117.6,5\\nMahindra,2018,750000,60000,Diesel,Individual,Manual,First Owner,16.5,1493,70,7\\nMaruti,2017,350000,20000,Petrol,Individual,Manual,Second Owner,23.1,998,67.04,5\\nMahindra,2017,1250000,60000,Diesel,Individual,Manual,First Owner,16,2179,140,7\\nRenault,2016,270000,30000,Petrol,Individual,Manual,Third Owner,23.01,999,67,5\\nHyundai,2013,235000,40000,Petrol,Individual,Manual,Second Owner,21.1,814,55.2,5\\nMaruti,2016,500000,60000,Petrol,Individual,Manual,First Owner,20.4,1197,81.8,5\\nMaruti,2012,220000,111000,Petrol,Individual,Manual,First Owner,19.7,796,46.3,5\\nMaruti,2014,380000,70000,Diesel,Individual,Manual,Second Owner,23.4,1248,74,5\\nMaruti,2010,160000,100000,Petrol,Individual,Manual,Third Owner,20.92,998,67.1,5\\nMaruti,2010,160000,100000,Petrol,Individual,Manual,Third Owner,20.92,998,67.1,5\\nHyundai,2017,339000,25000,Petrol,Individual,Manual,First Owner,20.3,998,68.05,5\\nFord,2011,229999,100000,Petrol,Individual,Manual,First Owner,15.3,1596,99.6,5\\nMahindra,2016,400000,35000,Diesel,Individual,Manual,First Owner,25.32,1198,77,6\\nHyundai,2018,470000,25000,Diesel,Individual,Manual,First Owner,25.4,1186,73.97,5\\nMaruti,2003,45000,58000,Petrol,Individual,Manual,First Owner,16.1,796,37,4\\nFord,2019,575000,20000,Petrol,Individual,Manual,First Owner,19.4,1194,94.93,5\\nDatsun,2019,325000,1300,Petrol,Individual,Manual,First Owner,22.5,999,67,5\\nMaruti,1997,50000,120000,Petrol,Individual,Manual,Second Owner,16.1,796,37,4\\nMaruti,2014,350000,15000,Petrol,Individual,Manual,First Owner,20.51,998,67.04,5\\nJaguar,2017,2711000,9000,Diesel,Dealer,Automatic,First Owner,13.6,1999,177,5\\nLexus,2019,5150000,20000,Petrol,Dealer,Automatic,First Owner,22.37,2487,214.56,5\\nJaguar,2017,3200000,45000,Diesel,Dealer,Automatic,First Owner,19.33,1999,177,5\\nTata,2015,503000,110000,Diesel,Individual,Manual,First Owner,14.1,2179,147.94,7\\nVolvo,2019,3800000,20000,Diesel,Individual,Automatic,First Owner,18,1969,190,5\\nToyota,2016,2000000,68089,Petrol,Trustmark Dealer,Automatic,First Owner,19.16,2494,157.7,5\\nMaruti,2013,225000,58343,Petrol,Trustmark Dealer,Manual,First Owner,21.79,998,67.05,5\\nMaruti,2018,740000,38817,Diesel,Dealer,Manual,First Owner,27.39,1248,74,5\\nHonda,2016,550000,56494,Petrol,Trustmark Dealer,Manual,First Owner,18.2,1199,88.7,5\\nToyota,2013,750000,79328,Diesel,Trustmark Dealer,Manual,Second Owner,12.99,2494,100.6,7\\nMaruti,2019,650000,5621,Petrol,Trustmark Dealer,Automatic,First Owner,22,1197,81.8,5\\nToyota,2017,625000,25538,Petrol,Trustmark Dealer,Manual,First Owner,16.78,1496,88.73,5\\nMaruti,2018,600000,69779,Petrol,Dealer,Automatic,First Owner,22,1197,81.8,5\\nHyundai,2017,450000,56290,Diesel,Dealer,Manual,First Owner,24,1186,73.97,5\\nBMW,2019,5400000,7500,Diesel,Dealer,Automatic,First Owner,16.78,1995,190,5\\nBMW,2019,5500000,8500,Diesel,Dealer,Automatic,First Owner,16.78,1995,190,5\\nHonda,2019,779000,7032,Petrol,Trustmark Dealer,Automatic,First Owner,19,1199,88.76,5\\nSkoda,2016,645000,11000,Petrol,Dealer,Automatic,First Owner,14.3,1598,103.5,5\\nVolvo,2018,2475000,2000,Diesel,Dealer,Automatic,First Owner,16.8,1984,150,5\\nRenault,2016,300000,25000,Petrol,Individual,Manual,First Owner,25.17,799,53.3,5\\nNissan,2014,540000,150000,Diesel,Individual,Manual,First Owner,19.01,1461,108.5,5\\nMaruti,2018,580000,10000,Petrol,Individual,Manual,First Owner,23.1,998,67.04,5\\nHyundai,2015,1000000,70000,Diesel,Individual,Manual,First Owner,19.67,1582,126.2,5\\nTata,2017,459999,80000,Diesel,Individual,Manual,First Owner,22.95,1248,74,5\\nMaruti,2015,635000,50000,Diesel,Individual,Manual,First Owner,25.2,1248,74,5\\nHyundai,2014,650000,83000,Diesel,Individual,Manual,Third Owner,22.32,1582,126.32,5\\nMaruti,2013,525000,116000,Diesel,Individual,Manual,Second Owner,23.4,1248,74,5\\nFiat,2015,350000,60000,Petrol,Individual,Manual,Third Owner,15.8,1172,67.1,5\\nMaruti,2008,320000,175802,Diesel,Individual,Manual,Third Owner,19.3,1248,73.9,5\\nToyota,2006,450000,192000,Diesel,Individual,Manual,Fourth & Above Owner,12.8,2494,102,8\\nVolkswagen,2011,227000,73840,Petrol,Individual,Manual,First Owner,15.04,1598,103.6,5\\nMahindra,2011,325000,162000,Diesel,Individual,Manual,Second Owner,13.6,2523,63,8\\nDatsun,2018,275000,20000,Petrol,Individual,Automatic,First Owner,23,999,67,5\\nHyundai,2013,300000,75000,Petrol,Individual,Manual,Third Owner,18.9,1197,82,5\\nMahindra,2011,400000,320000,Diesel,Individual,Manual,Third Owner,12.05,2179,120,8\\nVolkswagen,2015,550000,120000,Diesel,Individual,Manual,Second Owner,20.34,1498,103.2,5\\nMaruti,2016,550000,20000,Petrol,Individual,Manual,First Owner,20.4,1197,81.8,5\\nSkoda,2017,900000,40000,Diesel,Individual,Automatic,First Owner,21.66,1498,108.6,5\\nMaruti,2010,165000,20000,Petrol,Individual,Manual,First Owner,19.7,796,46.3,5\\nHyundai,2014,210000,70000,Petrol,Individual,Manual,First Owner,21.1,814,55.2,5\\nRenault,2016,650000,30000,Diesel,Individual,Manual,First Owner,19.64,1461,108.45,5\\nMahindra,2014,680000,120000,Diesel,Individual,Manual,First Owner,15.1,2179,140,7\\nRenault,2019,390000,25000,Petrol,Individual,Manual,First Owner,23.01,999,67,5\\nRenault,2016,260000,80000,Petrol,Individual,Manual,First Owner,25.17,799,53.3,5\\nMaruti,2013,450000,67000,Petrol,Individual,Manual,First Owner,19.1,1197,85.8,5\\nHyundai,2008,130000,120000,Petrol,Individual,Manual,Second Owner,19.81,1086,68.05,5\\nMaruti,2019,890000,9000,Diesel,Individual,Manual,First Owner,24.3,1248,88.5,5\\nVolvo,2019,3800000,20000,Diesel,Individual,Automatic,First Owner,18,1969,190,5\\nVolkswagen,2010,225000,80000,Petrol,Individual,Manual,Second Owner,14,1595,102,5\\nToyota,2018,3200000,60000,Diesel,Individual,Automatic,First Owner,15.04,2755,174.5,7\\nTata,2010,210000,120000,Diesel,Individual,Manual,First Owner,21.12,1248,88.8,5\\nToyota,2014,3500000,60000,Diesel,Individual,Automatic,First Owner,11,2982,170.3,7\\nHonda,2014,750000,80000,Diesel,Individual,Manual,Second Owner,25.1,1498,98.6,5\\nChevrolet,2011,350000,120000,Diesel,Individual,Manual,Second Owner,12.2,2499,80,10\\nHonda,2019,2000000,24857,Petrol,Dealer,Automatic,Test Drive Car,16.5,1799,139.46,5\\nHyundai,2017,270000,26442,Petrol,Individual,Manual,First Owner,20.3,998,68.05,5\\nMaruti,2017,700000,35000,Petrol,Individual,Manual,First Owner,17.5,1373,91.1,7\\nMaruti,2010,130000,28000,Petrol,Individual,Manual,Second Owner,19.7,796,46.3,5\\nMaruti,2015,650000,80000,Diesel,Individual,Manual,First Owner,20.77,1248,88.8,7\\nMaruti,2005,55000,39000,Petrol,Individual,Manual,First Owner,19.7,796,46.3,5\\nMaruti,2017,475000,20000,Petrol,Individual,Automatic,First Owner,20.51,998,67,5\\nNissan,2013,325000,50000,Diesel,Individual,Manual,First Owner,21.64,1461,84.8,5\\nHonda,2017,615000,40000,Petrol,Individual,Automatic,First Owner,19,1199,88.7,5\\nHyundai,2015,390000,15000,Petrol,Individual,Manual,First Owner,18.9,1197,82,5\\nMaruti,2019,650000,15000,Petrol,Individual,Automatic,First Owner,22,1197,81.8,5\\nMaruti,2015,440000,30000,Petrol,Individual,Manual,First Owner,20.4,1197,81.8,5\\nHonda,2014,600000,70000,Diesel,Individual,Manual,First Owner,26,1498,98.6,5\\nChevrolet,2012,170000,80000,Petrol,Individual,Manual,First Owner,16.2,995,62.1,5\\nMahindra,2013,499000,80000,Diesel,Individual,Manual,First Owner,15.96,2523,63,9\\nHyundai,2012,525000,120000,Diesel,Individual,Manual,First Owner,22.54,1396,88.73,5\\nNissan,2015,580000,90000,Diesel,Individual,Manual,First Owner,20.45,1461,83.8,5\\nChevrolet,2016,420000,110000,Diesel,Individual,Manual,Second Owner,18.2,1248,73.74,7\\nToyota,2015,1300000,120000,Diesel,Individual,Manual,First Owner,12.99,2494,100.6,7\\nHyundai,2016,800000,80000,Diesel,Individual,Manual,First Owner,23.9,1582,126.2,5\\nMaruti,2020,600000,5000,Petrol,Individual,Manual,First Owner,21.21,1197,81.8,5\\nHonda,2017,400000,50000,Petrol,Individual,Manual,First Owner,18.5,1198,86.8,5\\nMaruti,2017,700000,65000,Diesel,Individual,Manual,First Owner,26.59,1248,74,5\\nMaruti,2017,800000,35000,Diesel,Individual,Manual,First Owner,27.39,1248,74,5\\nHonda,2015,600000,90000,Diesel,Individual,Manual,First Owner,27.3,1498,98.6,5\\nMaruti,2016,580000,100000,Diesel,Individual,Manual,First Owner,25.2,1248,74,5\\nRenault,2016,350000,15000,Petrol,Individual,Manual,First Owner,25.17,799,53.3,5\\nFord,2011,204999,147000,Diesel,Individual,Manual,First Owner,20,1399,68,5\\nMahindra,2017,1350000,20000,Diesel,Individual,Manual,First Owner,16,2179,140,7\\nHyundai,2009,310000,120000,Diesel,Individual,Manual,Second Owner,23,1396,90,5\\nToyota,2011,700000,250000,Diesel,Individual,Manual,Second Owner,12.8,2494,102,7\\nFord,2016,459999,69000,Diesel,Individual,Manual,Second Owner,25.83,1498,99,5\\nMaruti,2017,860000,80000,Diesel,Individual,Manual,First Owner,28.09,1248,88.5,5\\nHyundai,2012,275000,97000,LPG,Individual,Manual,Third Owner,19,1086,68.1,5\\nRenault,2016,390000,15000,Petrol,Individual,Manual,First Owner,25.17,799,53.3,5\\nTata,2018,1525000,50000,Diesel,Individual,Manual,First Owner,17.6,2179,153.86,7\\nMaruti,2005,110000,50800,Petrol,Dealer,Manual,Second Owner,19.7,796,46.3,5\\nMaruti,2017,484999,10000,Petrol,Dealer,Manual,First Owner,23.1,998,67.04,5\\nBMW,2018,5830000,30000,Diesel,Individual,Automatic,First Owner,17.09,2993,261.4,4\\nMaruti,2012,185000,60000,Petrol,Individual,Manual,Second Owner,19.7,796,46.3,5\\nHyundai,2018,665000,40142,Diesel,Dealer,Manual,First Owner,24.4,1120,71,5\\nHyundai,2019,721000,9400,Petrol,Dealer,Manual,First Owner,18.6,1197,81.83,5\\nMahindra,2016,390000,62000,Diesel,Dealer,Manual,First Owner,25.32,1198,77,5\\nTata,2011,190000,90000,Diesel,Dealer,Manual,First Owner,18.8,1248,90,5\\nMahindra,2019,975000,12584,Diesel,Dealer,Manual,First Owner,16.55,2498,105,6\\nDatsun,2016,275000,49000,Petrol,Dealer,Manual,First Owner,19.02,1198,67.05,5\\nMaruti,2016,315000,32000,Petrol,Dealer,Manual,First Owner,24.7,796,47.3,5\\nHyundai,2019,685000,4300,Petrol,Dealer,Manual,First Owner,18.6,1197,81.86,5\\nMaruti,2019,595000,14548,Petrol,Dealer,Manual,First Owner,21.21,1197,81.8,5\\nFord,2018,900000,44772,Diesel,Dealer,Manual,Second Owner,23,1498,98.96,5\\nMaruti,2018,950000,48500,Diesel,Dealer,Manual,First Owner,25.47,1248,88.5,7\\nMaruti,2016,275000,38000,Petrol,Dealer,Manual,First Owner,24.7,796,47.3,5\\nHyundai,2017,570000,28782,Petrol,Dealer,Manual,First Owner,18.6,1197,81.83,5\\nHyundai,2018,700000,28451,Petrol,Dealer,Manual,First Owner,18.6,1197,81.83,5\\nMaruti,2018,910000,36500,Diesel,Dealer,Manual,First Owner,24.3,1248,88.5,5\\nMaruti,2018,751000,44885,Diesel,Dealer,Manual,First Owner,26.59,1248,74,5\\nHyundai,2014,225000,35000,Petrol,Individual,Manual,First Owner,21.1,814,55.2,5\\nTata,2009,135000,110000,Diesel,Individual,Manual,Second Owner,17,1405,71,5\\nMaruti,2017,825000,79000,Diesel,Dealer,Manual,First Owner,25.47,1248,88.5,7\\nToyota,2015,1650000,91000,Diesel,Dealer,Automatic,Second Owner,12.55,2982,168.5,7\\nMaruti,2018,875000,50000,Diesel,Dealer,Manual,First Owner,24.3,1248,88.5,5\\nMaruti,2016,650000,81000,Diesel,Dealer,Manual,Second Owner,28.09,1248,88.5,5\\nJeep,2019,1450000,22000,Petrol,Dealer,Automatic,First Owner,16,1368,160,5\\nHyundai,2017,975000,41000,Diesel,Dealer,Manual,First Owner,20.5,1582,126.2,5\\nMaruti,2019,925000,50000,Diesel,Dealer,Manual,First Owner,24.52,1248,88.5,7\\nMaruti,2016,725000,66000,Diesel,Dealer,Manual,First Owner,20.77,1248,88.8,7\\nMaruti,2013,550000,65000,Diesel,Dealer,Manual,First Owner,20.77,1248,88.76,7\\nHyundai,2014,550000,76000,Diesel,Dealer,Manual,First Owner,22.54,1396,88.73,5\\nToyota,2013,750000,95000,Diesel,Dealer,Manual,First Owner,12.8,2494,102,7\\nHonda,2013,475000,55000,Petrol,Dealer,Manual,Second Owner,17,1497,118,5\\nDatsun,2017,325000,65000,Petrol,Dealer,Manual,First Owner,19.02,1198,67.05,7\\nMaruti,2017,725000,76000,Diesel,Dealer,Manual,First Owner,25.47,1248,88.5,7\\nMaruti,2018,775000,47000,Petrol,Dealer,Manual,Second Owner,16.02,1373,93.7,7\\nMaruti,2017,625000,70000,Diesel,Dealer,Manual,First Owner,23.4,1248,74,5\\nHyundai,2009,195000,56000,Petrol,Dealer,Manual,Second Owner,,,,\\nMaruti,2014,470000,89000,Diesel,Dealer,Manual,First Owner,22.9,1248,74,5\\nToyota,2017,1750000,98000,Diesel,Dealer,Manual,First Owner,13.68,2393,147.51,7\\nToyota,2016,1650000,90000,Diesel,Dealer,Manual,First Owner,13.68,2393,147.51,7\\nHyundai,2018,1050000,70000,Diesel,Individual,Manual,First Owner,21.38,1396,88.7,5\\nMaruti,2013,380000,57000,Diesel,Individual,Manual,First Owner,22.9,1248,74,5\\nMaruti,2017,650000,70000,Diesel,Individual,Manual,First Owner,26.59,1248,74,5\\nHyundai,2016,275000,49200,Petrol,Individual,Manual,First Owner,21.1,814,55.2,5\\nHonda,2009,220000,125000,Petrol,Individual,Manual,Second Owner,13.5,1799,130,5\\nHyundai,2008,200000,60000,Petrol,Individual,Manual,Second Owner,19.81,1086,68.05,5\\nMaruti,2015,315000,120000,Petrol,Individual,Manual,Second Owner,15.37,1196,73,5\\nMaruti,2004,90000,110000,Petrol,Individual,Manual,Third Owner,19.7,796,46.3,5\\nMaruti,2007,120000,70000,Petrol,Individual,Manual,Second Owner,18.9,1061,67,5\\nMaruti,2006,90000,168000,Petrol,Individual,Manual,Second Owner,18.9,998,67.1,5\\nMahindra,2018,1500000,30000,Diesel,Individual,Manual,First Owner,16,2179,140,7\\nHyundai,2015,370000,60000,Diesel,Individual,Manual,First Owner,24,1120,70,5\\nMaruti,2016,595000,131111,Diesel,Individual,Manual,First Owner,25.2,1248,74,5\\nMahindra,2007,150000,120000,Diesel,Individual,Manual,Second Owner,19.2,1461,65,5\\nMaruti,2012,400000,58400,Diesel,Individual,Manual,Second Owner,19.3,1248,73.9,5\\nMaruti,2016,310000,23400,Petrol,Individual,Manual,Second Owner,23.95,998,67.1,5\\nMaruti,2018,385000,50000,Petrol,Individual,Manual,First Owner,23.1,998,67.04,5\\nMaruti,2005,105000,158107,Petrol,Individual,Manual,Second Owner,,,,\\nMahindra,2014,750000,90000,Diesel,Individual,Manual,First Owner,15.1,2179,140,7\\nHyundai,2019,521000,3010,Petrol,Individual,Automatic,First Owner,20.3,1086,68,5\\nTata,2010,180000,80000,Diesel,Individual,Manual,First Owner,21.12,1248,88.8,5\\nFord,2011,220000,155000,Diesel,Individual,Manual,Second Owner,17.8,1399,68,5\\nMaruti,1998,40000,70000,Petrol,Individual,Manual,Second Owner,16.1,796,37,4\\nHyundai,2018,540000,4000,Petrol,Individual,Manual,First Owner,18.9,1197,81.86,5\\nMaruti,2007,140000,35000,Petrol,Individual,Manual,Second Owner,19.7,796,46.3,5\\nMaruti,2003,200000,121000,Petrol,Individual,Manual,First Owner,17.3,993,60,5\\nFord,2015,650000,110000,Diesel,Individual,Manual,Second Owner,22.77,1498,98.59,5\\nFord,2010,229999,170000,Diesel,Individual,Manual,Second Owner,17.8,1399,68,5\\nMaruti,2010,305000,175000,Diesel,Individual,Manual,Third Owner,17.8,1248,75,5\\nMahindra,2018,1400000,30000,Diesel,Individual,Manual,First Owner,16,1997,140,7\\nFord,2008,200000,163000,Diesel,Individual,Manual,First Owner,17.8,1399,68,5\\nFord,2008,200000,163000,Diesel,Individual,Manual,First Owner,17.8,1399,68,5\\nMahindra,2010,465000,77088,Diesel,Individual,Manual,First Owner,14,2489,95,8\\nNissan,2011,210000,110000,Diesel,Individual,Manual,Third Owner,23.08,1461,63.1,5\\nMahindra,2016,570000,136511,Diesel,Individual,Manual,First Owner,15.96,2523,62.1,7\\nMaruti,2015,570000,80000,Petrol,Individual,Manual,First Owner,16.02,1373,93.7,7\\nMaruti,2015,650000,60000,Petrol,Individual,Manual,First Owner,16.02,1373,93.7,7\\nMaruti,2016,620000,36000,Petrol,Individual,Manual,First Owner,20.85,1197,83.14,5\\nMaruti,2012,250000,65000,Petrol,Individual,Manual,Second Owner,18.9,998,67.1,5\\nBMW,2011,1000000,50000,Diesel,Individual,Automatic,First Owner,17.05,1995,184,5\\nMaruti,2012,300000,60000,LPG,Individual,Manual,First Owner,26.2,998,58.2,5\\nFiat,2013,300000,82500,Diesel,Individual,Manual,First Owner,20.3,1248,75,5\\nFord,2018,810000,30000,Diesel,Individual,Manual,Second Owner,23,1498,98.96,5\\nChevrolet,2011,270000,100000,Diesel,Individual,Manual,Third Owner,18.3,1991,147.9,5\\nMaruti,2015,470000,70000,Diesel,Individual,Manual,Second Owner,26.59,1248,74,5\\nTata,2017,400000,85000,Diesel,Individual,Manual,First Owner,20.65,1248,88.7,5\\nMaruti,2014,300000,60000,Petrol,Individual,Manual,Second Owner,20.51,998,67.04,5\\nMaruti,2015,170000,20000,Petrol,Individual,Manual,Third Owner,22.74,796,47.3,5\\nRenault,2014,455999,80000,Diesel,Individual,Manual,First Owner,19.01,1461,108.45,5\\nMahindra,2009,121000,100000,Diesel,Individual,Manual,Second Owner,13,2489,95,8\\nHyundai,2002,35000,75000,Petrol,Individual,Manual,Second Owner,,,,\\nMaruti,2005,85000,100000,Petrol,Individual,Manual,First Owner,,,,\\nMaruti,2016,650000,80000,Diesel,Individual,Manual,Second Owner,24.3,1248,88.5,5\\nTata,2017,350000,35000,Petrol,Individual,Manual,First Owner,17.57,1193,88.7,5\\nChevrolet,2013,125000,139000,Diesel,Individual,Manual,First Owner,25.44,936,57.6,5\\nMaruti,2005,80000,90000,Petrol,Individual,Automatic,Second Owner,19.7,796,46.3,5\\nMaruti,2009,120000,120000,Petrol,Individual,Manual,First Owner,,,,\\nHonda,2008,250000,100000,Petrol,Individual,Manual,First Owner,17.7,1497,78,5\\nVolkswagen,2011,225000,90000,Diesel,Individual,Manual,First Owner,20.54,1598,103.6,5\\nMahindra,2007,215000,105000,Diesel,Individual,Manual,Second Owner,13.6,2523,63,7\\nHyundai,2017,450000,40000,Diesel,Individual,Manual,Second Owner,25.4,1186,73.97,5\\nHyundai,2017,509999,90000,Petrol,Individual,Manual,First Owner,20.14,1197,81.86,5\\nMaruti,2015,245000,36710,Petrol,Individual,Manual,Second Owner,22.74,796,47.3,5\\nMahindra,2018,400000,50000,Diesel,Individual,Manual,First Owner,23.5,909,45,8\\nMaruti,2016,620000,28180,Diesel,Dealer,Manual,First Owner,23.65,1248,88.5,5\\nMaruti,2017,650000,44000,Diesel,Dealer,Manual,First Owner,23.65,1248,88.5,5\\nTata,2019,1700000,15000,Diesel,Individual,Manual,First Owner,17,1956,138.1,5\\nDatsun,2019,590000,4000,Petrol,Individual,Manual,First Owner,19.72,1198,67,7\\nMaruti,2014,370000,30000,Diesel,Individual,Manual,First Owner,23.2,1248,73.94,5\\nMaruti,2013,350000,15000,Petrol,Individual,Manual,First Owner,18.6,1197,85.8,5\\nMaruti,2017,580000,20000,Petrol,Individual,Manual,First Owner,21.4,1197,83.1,5\\nHyundai,2018,450000,56000,Petrol,Individual,Manual,First Owner,18.9,1197,81.86,5\\nHyundai,2017,600000,19000,Petrol,Individual,Manual,First Owner,17.19,1197,81.86,5\\nFord,2016,2400000,30000,Diesel,Individual,Automatic,First Owner,12.62,2198,158,7\\nHyundai,2017,450000,70000,Petrol,Individual,Manual,First Owner,18.6,1197,81.83,5\\nTata,2009,150000,30000,Diesel,Individual,Manual,First Owner,19.09,1396,69,5\\nMaruti,2019,400000,15000,Petrol,Individual,Manual,First Owner,15.37,1196,73,5\\nMaruti,2013,185000,85000,Petrol,Individual,Manual,First Owner,22.74,796,47.3,5\\nMaruti,2018,625000,50000,Petrol,Individual,Automatic,First Owner,22,1197,81.8,5\\nHyundai,2019,700000,20000,Petrol,Individual,Manual,First Owner,17.19,1197,81.86,5\\nMaruti,2017,390000,25000,Petrol,Individual,Manual,First Owner,20.51,998,67.04,5\\nTata,2018,625000,25000,Petrol,Individual,Manual,First Owner,17,1198,108.5,5\\nMaruti,2014,400000,50000,Petrol,Individual,Manual,First Owner,19.1,1197,85.8,5\\nHyundai,2011,380000,150000,Diesel,Individual,Manual,Fourth & Above Owner,23,1396,90,5\\nToyota,2009,400000,90000,Petrol,Individual,Automatic,First Owner,14.53,1794,138.1,5\\nTata,2019,620000,100000,Petrol,Individual,Manual,First Owner,17.57,1193,88.7,5\\nFord,2008,190000,180000,Diesel,Individual,Manual,Second Owner,17.8,1399,67,5\\nMaruti,2013,210000,50000,Petrol,Individual,Manual,Second Owner,22.74,796,47.3,5\\nMaruti,2012,270000,80000,Diesel,Individual,Manual,Third Owner,23.2,1248,73.94,5\\nMaruti,1999,45000,100000,Petrol,Individual,Manual,Third Owner,17.3,993,60,5\\nHyundai,2014,220000,93000,Petrol,Individual,Manual,Second Owner,21.1,814,55.2,5\\nMahindra,2014,550000,11500,Diesel,Individual,Manual,First Owner,15.96,2523,63,9\\nHyundai,2013,370000,120000,Petrol,Individual,Manual,First Owner,18.5,1197,82.85,5\\nHyundai,2006,95000,100000,Petrol,Individual,Automatic,Second Owner,,,,\\nMahindra,2015,650000,50000,Diesel,Individual,Manual,First Owner,14.95,2489,93.7,9\\nHonda,2012,550000,120000,Petrol,Individual,Manual,First Owner,16.8,1497,116.3,5\\nFord,2010,225000,100000,Diesel,Individual,Manual,Second Owner,17.8,1399,68,5\\nMaruti,2004,40000,57000,Petrol,Individual,Manual,Second Owner,16.1,796,37,4\\nHyundai,2016,280000,60000,Petrol,Individual,Manual,First Owner,21.1,814,55.2,5\\nFord,2017,570000,44077,Petrol,Dealer,Automatic,First Owner,17.01,1499,110.5,5\\nMaruti,2017,290000,90000,Petrol,Individual,Manual,Second Owner,24.7,796,47.3,5\\nHyundai,2018,720000,50000,Diesel,Individual,Manual,Second Owner,21.19,1396,88.73,5\\nFord,2017,800000,60000,Diesel,Individual,Manual,First Owner,22.77,1498,98.59,5\\nHyundai,2012,265000,20000,Petrol,Individual,Manual,Third Owner,19.81,1086,68.05,5\\nMaruti,2010,135000,90000,Petrol,Individual,Manual,Third Owner,19.7,796,46.3,5\\nFord,2016,350000,70000,Diesel,Individual,Manual,Second Owner,25.83,1498,99,5\\nMaruti,2008,200000,80000,Petrol,Individual,Manual,Second Owner,,,,\\nChevrolet,2016,490000,80000,Diesel,Individual,Manual,First Owner,18.2,1248,73.74,8\\nHyundai,2012,450000,72000,Diesel,Individual,Manual,Second Owner,22.32,1582,126.32,5\\nMahindra,2016,950000,50000,Diesel,Individual,Manual,First Owner,15.4,1997,120,7\\nMaruti,2012,355000,90000,Petrol,Individual,Manual,Second Owner,17.5,1298,85.8,5\\nHyundai,2019,700000,17000,Petrol,Individual,Manual,First Owner,18.6,1197,81.86,5\\nMahindra,2012,459999,70000,Diesel,Individual,Manual,First Owner,12.05,2179,120,8\\nVolkswagen,2012,350000,74000,Diesel,Individual,Manual,Second Owner,22.07,1199,73.9,5\\nMaruti,2006,85000,60000,Petrol,Individual,Manual,Second Owner,19.7,796,46.3,5\\nMaruti,2016,290000,15000,Petrol,Individual,Manual,First Owner,22.74,796,47.3,5\\nHonda,2019,1000000,72000,Diesel,Individual,Manual,First Owner,25.5,1498,98.6,5\\nTata,2008,85000,25000,Petrol,Individual,Manual,Second Owner,16.84,1193,64.4,5\\nMaruti,2003,65000,114000,Petrol,Individual,Manual,First Owner,19.7,796,46.3,5\\nHonda,2005,75000,120000,Petrol,Individual,Manual,First Owner,13,1493,100,5\\nSkoda,2003,100000,250000,Diesel,Individual,Manual,Second Owner,18.7,1896,66,5\\nTata,2009,170000,55768,Diesel,Individual,Manual,First Owner,17,1405,71,5\\nHyundai,2017,525000,40000,Petrol,Individual,Automatic,First Owner,18.9,1197,81.86,5\\nMaruti,2020,265000,70000,Petrol,Individual,Manual,Second Owner,21.79,998,67.05,5\\nTata,2018,459999,50000,Petrol,Individual,Manual,First Owner,20.3,1199,84,5\\nMaruti,2017,250000,20000,Petrol,Individual,Manual,First Owner,23.95,998,67.05,5\\nMaruti,2013,395000,70000,Diesel,Individual,Manual,Second Owner,23.4,1248,74,5\\nHyundai,2014,375000,60000,Petrol,Individual,Manual,First Owner,18.9,1197,82,5\\nTata,2009,120000,120000,Diesel,Individual,Manual,First Owner,17,1405,71,5\\nMaruti,2011,290000,110000,Diesel,Individual,Manual,Second Owner,21.1,1248,73.9,5\\nTata,2017,409999,60000,Petrol,Individual,Manual,First Owner,23.84,1199,84,5\\nChevrolet,2009,200000,30000,Petrol,Individual,Manual,First Owner,16.5,995,63,5\\nSkoda,2018,900000,35000,Diesel,Individual,Manual,First Owner,21.13,1498,108.6,5\\nMaruti,2003,50000,50000,Petrol,Individual,Manual,Third Owner,16.1,796,37,4\\nRenault,2012,450000,100000,Diesel,Individual,Manual,First Owner,19.01,1461,108.45,5\\nMahindra,2012,650000,80000,Diesel,Individual,Manual,Third Owner,15.1,2179,140,7\\nVolkswagen,2014,300000,84000,Diesel,Individual,Manual,Second Owner,20.14,1498,88.5,5\\nFord,2014,425000,60000,Diesel,Individual,Manual,First Owner,25.01,1498,89.75,5\\nMaruti,1998,55000,50000,Petrol,Individual,Manual,Second Owner,17.3,993,60,5\\nHyundai,2011,200000,60000,Petrol,Individual,Manual,Second Owner,20.36,1197,78.9,5\\nMahindra,2015,975000,100000,Diesel,Individual,Manual,First Owner,16,2179,140,7\\nMahindra,2013,450000,70000,Diesel,Individual,Manual,First Owner,15.96,2523,62.1,7\\nMahindra,2014,600000,82500,Diesel,Individual,Manual,Second Owner,15.96,2523,62.1,7\\nMahindra,2014,550000,76000,Diesel,Individual,Manual,First Owner,15.96,2523,62.1,9\\nTata,2011,180000,87000,Diesel,Individual,Manual,First Owner,18,1248,75,5\\nMahindra,2010,300000,120000,Diesel,Individual,Manual,First Owner,14,2498,112,7\\nTata,2016,350000,70000,Petrol,Individual,Manual,Second Owner,17.57,1193,88.7,5\\nMaruti,2014,465000,90000,Diesel,Individual,Manual,First Owner,23.4,1248,74,5\\nTata,2010,200000,188000,Diesel,Individual,Manual,Second Owner,21.12,1248,88.8,5\\nChevrolet,2014,350000,120000,Diesel,Individual,Manual,Second Owner,18.2,1248,73.8,8\\nHonda,2015,650000,80000,Petrol,Individual,Manual,First Owner,17.4,1497,117.3,5\\nHyundai,2010,150000,123278,Petrol,Individual,Manual,Second Owner,20.36,1197,78.9,5\\nHonda,2014,560000,100000,Diesel,Individual,Manual,Second Owner,26,1498,98.6,5\\nHyundai,2015,625000,90000,Diesel,Individual,Manual,First Owner,21.19,1396,88.73,5\\nFord,2012,220000,110000,Diesel,Individual,Manual,First Owner,20,1399,68,5\\nFord,2013,250000,110000,Diesel,Individual,Manual,First Owner,20,1399,68.1,5\\nTata,2018,575000,70000,Diesel,Individual,Manual,First Owner,20.65,1248,88.7,5\\nMahindra,2015,1050000,65000,Diesel,Individual,Manual,First Owner,15.1,2179,140,7\\nJaguar,2015,3000000,70000,Diesel,Individual,Automatic,Second Owner,16.36,2179,187.7,5\\nTata,2012,200000,90000,Diesel,Individual,Manual,Third Owner,11.57,2179,138.1,7\\nMaruti,2016,262000,50000,Petrol,Individual,Manual,First Owner,22.74,796,47.3,5\\nHyundai,2018,299000,33000,Petrol,Individual,Manual,First Owner,21.1,814,55.2,5\\nMaruti,2015,250000,26500,Petrol,Individual,Manual,First Owner,22.74,796,47.3,5\\nHyundai,2011,140000,60000,Petrol,Individual,Manual,Fourth & Above Owner,17.92,1086,62.1,5\\nMaruti,2013,360000,70000,Diesel,Individual,Manual,Third Owner,23.4,1248,74,5\\nDatsun,2015,210000,80000,Petrol,Individual,Manual,First Owner,20.63,1198,67.06,5\\nHyundai,2017,600000,60000,Diesel,Individual,Manual,First Owner,22.54,1396,88.73,5\\nSkoda,2011,210000,100000,Diesel,Individual,Manual,First Owner,19.5,1199,75,5\\nVolkswagen,2011,300000,80000,Diesel,Individual,Manual,Second Owner,20.54,1598,103.6,5\\nHyundai,2016,450000,35000,Petrol,Individual,Manual,First Owner,18.9,1197,82,5\\nFord,2018,3200000,35000,Diesel,Individual,Automatic,First Owner,10.91,3198,197,7\\nHyundai,2019,550000,10000,Petrol,Individual,Manual,First Owner,18.9,1197,81.86,5\\nTata,2011,100000,80000,Diesel,Individual,Manual,First Owner,18,1248,75,5\\nHyundai,2012,185000,50000,Petrol,Individual,Manual,Second Owner,21.1,814,55.2,5\\nMaruti,2006,80000,90000,Petrol,Individual,Manual,Second Owner,17.3,1061,64,5\\nMaruti,2017,295000,80000,Petrol,Individual,Manual,First Owner,24.7,796,47.3,5\\nRenault,2017,360000,25000,Petrol,Individual,Manual,First Owner,23.01,999,67,5\\nMaruti,2014,210000,70000,Petrol,Individual,Manual,First Owner,20.92,998,67.1,5\\nHyundai,2019,585000,80000,Petrol,Individual,Automatic,First Owner,17.4,1197,81.86,5\\nVolkswagen,2016,560000,50000,Diesel,Individual,Manual,First Owner,20.14,1498,88.7,5\\nHonda,2015,600000,70000,Diesel,Individual,Manual,First Owner,26,1498,98.6,5\\nDatsun,2017,330000,60000,Petrol,Individual,Manual,First Owner,20.63,1198,67,5\\nHyundai,2019,990000,15000,Petrol,Individual,Manual,First Owner,17,1591,121.3,5\\nToyota,2012,300000,90000,Diesel,Individual,Manual,First Owner,23.59,1364,67.1,5\\nTata,2018,650000,28000,Petrol,Individual,Manual,First Owner,17,1198,108.5,5\\nHyundai,2019,695000,20000,Petrol,Individual,Automatic,First Owner,17.4,1197,81.86,5\\nHyundai,2014,300000,60000,Diesel,Individual,Manual,First Owner,24,1120,70,5\\nMaruti,2015,270000,22000,Petrol,Individual,Manual,First Owner,22.74,796,47.3,5\\nTata,2010,185000,70000,Diesel,Individual,Manual,Second Owner,11.57,2179,138.1,7\\nChevrolet,2013,200000,80000,Diesel,Individual,Manual,First Owner,22.1,1248,76.9,5\\nMaruti,2019,459999,35000,CNG,Individual,Manual,First Owner,26.6,998,58.16,5\\nTata,2018,860000,60000,Diesel,Individual,Manual,First Owner,21.5,1497,108.5,5\\nTata,2018,400000,20000,Petrol,Individual,Manual,First Owner,23.84,1199,84,5\\nMaruti,2013,240000,142000,Diesel,Individual,Manual,Second Owner,23.2,1248,73.94,5\\nMaruti,2015,570000,72000,Diesel,Individual,Manual,First Owner,26.59,1248,74,5\\nFord,2018,850000,90000,Diesel,Individual,Manual,First Owner,23,1498,98.96,5\\nFord,2011,155000,80000,Diesel,Individual,Manual,Third Owner,20,1399,68,5\\nHyundai,2011,270000,125000,Diesel,Individual,Manual,First Owner,23,1396,90,5\\nMaruti,2015,610000,33000,Petrol,Individual,Manual,First Owner,20.73,1373,91.1,5\\nHyundai,2015,1000000,50000,Diesel,Individual,Manual,First Owner,19.67,1582,126.2,5\\nMahindra,2012,450000,120000,Diesel,Individual,Manual,Second Owner,12.05,2179,120,9\\nHyundai,2018,500000,35000,Diesel,Individual,Manual,First Owner,25.4,1186,73.97,5\\nHonda,2018,700000,43000,Diesel,Individual,Manual,First Owner,27.4,1498,98.63,5\\nMaruti,2007,135000,60000,Petrol,Individual,Manual,First Owner,19.7,796,46.3,5\\nMahindra,2012,430000,148000,Diesel,Individual,Manual,Second Owner,12.05,2179,120,9\\nHyundai,2014,625000,70000,Diesel,Individual,Manual,Second Owner,22.32,1582,126.32,5\\nNissan,2011,280000,96000,Petrol,Individual,Manual,First Owner,16.95,1498,97.7,5\\nMahindra,2015,800000,70000,Diesel,Individual,Manual,First Owner,15.4,1997,120,7\\nMaruti,2012,220000,70000,Diesel,Individual,Manual,Second Owner,23.2,1248,73.94,5\\nMaruti,2017,620000,18484,Petrol,Individual,Manual,First Owner,20.89,1197,81.8,5\\nTata,2011,300000,70000,Diesel,Individual,Manual,First Owner,13.93,2179,138.03,7\\nMaruti,2010,180000,25000,Petrol,Individual,Manual,Second Owner,19.7,796,46.3,5\\nVolkswagen,2013,250000,120000,Diesel,Individual,Manual,Third Owner,22.07,1199,73.9,5\\nMaruti,2017,480000,55000,Petrol,Individual,Manual,First Owner,20.85,1197,83.14,5\\nFord,2019,885000,10000,Petrol,Individual,Manual,Second Owner,17,1497,121.31,5\\nMahindra,2020,550000,60000,Diesel,Individual,Manual,First Owner,25.32,1198,77,6\\nMaruti,2018,800000,30000,Diesel,Individual,Manual,First Owner,28.4,1248,74.02,5\\nHyundai,2013,180000,65000,Petrol,Individual,Manual,First Owner,17.92,1086,62.1,5\\nMaruti,2010,200000,27000,Petrol,Individual,Manual,First Owner,,,,\\nHyundai,2012,380000,50000,Diesel,Individual,Manual,Second Owner,21.9,1396,88.76,5\\nTata,2019,520000,2560,Petrol,Individual,Automatic,First Owner,24,1199,83.81,5\\nMaruti,2004,90000,60000,Petrol,Individual,Manual,First Owner,19.7,796,46.3,5\\nMaruti,2016,330000,80000,Petrol,Individual,Manual,Second Owner,20.51,998,67.04,5\\nMaruti,1999,40000,50000,Petrol,Individual,Manual,Second Owner,16.1,796,37,4\\nChevrolet,2015,370000,120000,Diesel,Individual,Manual,First Owner,18.2,1248,73.8,8\\nHonda,2009,290000,120000,Petrol,Individual,Manual,Second Owner,16.8,1497,116.3,5\\nHyundai,2013,215000,47000,Petrol,Individual,Manual,Second Owner,21.1,814,55.2,5\\nTata,2017,1282000,45000,Diesel,Individual,Manual,First Owner,17.6,2179,153.86,7\\nToyota,2012,610000,90000,Diesel,Individual,Manual,First Owner,12.8,2494,102,8\\nHyundai,2013,380000,110000,Diesel,Individual,Manual,Second Owner,21.27,1396,88.76,5\\nMahindra,2017,1250000,95000,Diesel,Individual,Manual,First Owner,15.4,1997,120,7\\nHyundai,2012,400000,103655,Diesel,Individual,Manual,Second Owner,22.32,1582,126.3,5\\nHyundai,2018,700000,25000,Petrol,Individual,Automatic,Second Owner,17.4,1197,81.86,5\\nRenault,2014,650000,80000,Diesel,Individual,Manual,First Owner,19.01,1461,108.45,5\\nTata,2014,95000,50000,Petrol,Individual,Manual,Second Owner,25.4,624,37.5,4\\nMahindra,2015,1147000,56975,Diesel,Individual,Manual,First Owner,16,2179,140,7\\nHyundai,2010,150000,110000,Petrol,Individual,Manual,First Owner,0,1086,62,5\\nMaruti,2008,120000,80000,Petrol,Individual,Manual,Third Owner,19.7,796,46.3,5\\nHyundai,2003,130000,74770,CNG,Individual,Manual,Third Owner,,,,\\nFord,2010,180000,187000,Diesel,Dealer,Manual,Second Owner,17.8,1399,68,5\\nFord,2013,325000,69000,Diesel,Dealer,Manual,First Owner,18.6,1388,67,5\\nFord,2015,550000,206000,Diesel,Dealer,Manual,First Owner,22.77,1498,98.59,5\\nFord,2018,950000,27000,Diesel,Dealer,Manual,First Owner,22.77,1498,98.59,5\\nFord,2014,500000,132000,Diesel,Dealer,Manual,Second Owner,22.7,1498,89.84,5\\nFord,2017,725000,75000,Diesel,Dealer,Manual,First Owner,26.1,1498,99.23,5\\nFord,2015,500000,18000,Petrol,Dealer,Manual,Second Owner,18.5,1194,94.93,5\\nMahindra,2011,180000,218000,Diesel,Individual,Manual,First Owner,21,1461,64.1,5\\nHyundai,2016,650000,10000,Diesel,Individual,Manual,First Owner,22.54,1396,88.73,5\\nMaruti,2010,285000,80000,Diesel,Individual,Manual,First Owner,17.8,1248,75,5\\nMahindra,2011,210000,215000,Diesel,Individual,Manual,First Owner,21,1461,64.1,5\\nFord,2012,200000,137000,Diesel,Individual,Manual,First Owner,17.8,1399,67,5\\nVolkswagen,2011,295000,65000,Diesel,Individual,Manual,Second Owner,20.54,1598,103.6,5\\nHonda,2007,160000,120000,Petrol,Individual,Manual,Third Owner,17.7,1497,78,5\\nMaruti,2017,450000,10000,Petrol,Individual,Automatic,First Owner,23.1,998,67.04,5\\nDatsun,2016,385000,20000,Petrol,Individual,Manual,First Owner,20.62,1198,67,7\\nFord,2011,350000,93500,Diesel,Individual,Manual,Second Owner,18.6,1388,67,5\\nJaguar,2017,2711000,9000,Diesel,Dealer,Automatic,First Owner,13.6,1999,177,5\\nLexus,2019,5150000,20000,Petrol,Dealer,Automatic,First Owner,22.37,2487,214.56,5\\nJaguar,2017,3200000,45000,Diesel,Dealer,Automatic,First Owner,19.33,1999,177,5\\nTata,2015,503000,110000,Diesel,Individual,Manual,First Owner,14.1,2179,147.94,7\\nVolvo,2019,3800000,20000,Diesel,Individual,Automatic,First Owner,18,1969,190,5\\nToyota,2016,2000000,68089,Petrol,Trustmark Dealer,Automatic,First Owner,19.16,2494,157.7,5\\nMaruti,2013,225000,58343,Petrol,Trustmark Dealer,Manual,First Owner,21.79,998,67.05,5\\nMaruti,2018,740000,38817,Diesel,Dealer,Manual,First Owner,27.39,1248,74,5\\nHonda,2016,550000,56494,Petrol,Trustmark Dealer,Manual,First Owner,18.2,1199,88.7,5\\nToyota,2013,750000,79328,Diesel,Trustmark Dealer,Manual,Second Owner,12.99,2494,100.6,7\\nMaruti,2019,650000,5621,Petrol,Trustmark Dealer,Automatic,First Owner,22,1197,81.8,5\\nToyota,2017,625000,25538,Petrol,Trustmark Dealer,Manual,First Owner,16.78,1496,88.73,5\\nMaruti,2018,600000,69779,Petrol,Dealer,Automatic,First Owner,22,1197,81.8,5\\nHyundai,2017,450000,56290,Diesel,Dealer,Manual,First Owner,24,1186,73.97,5\\nBMW,2019,5400000,7500,Diesel,Dealer,Automatic,First Owner,16.78,1995,190,5\\nBMW,2019,5500000,8500,Diesel,Dealer,Automatic,First Owner,16.78,1995,190,5\\nHonda,2019,779000,7032,Petrol,Trustmark Dealer,Automatic,First Owner,19,1199,88.76,5\\nSkoda,2016,645000,11000,Petrol,Dealer,Automatic,First Owner,14.3,1598,103.5,5\\nVolvo,2018,2475000,2000,Diesel,Dealer,Automatic,First Owner,16.8,1984,150,5\\nJaguar,2017,2711000,9000,Diesel,Dealer,Automatic,First Owner,13.6,1999,177,5\\nLexus,2019,5150000,20000,Petrol,Dealer,Automatic,First Owner,22.37,2487,214.56,5\\nJaguar,2017,3200000,45000,Diesel,Dealer,Automatic,First Owner,19.33,1999,177,5\\nTata,2015,503000,110000,Diesel,Individual,Manual,First Owner,14.1,2179,147.94,7\\nVolvo,2019,3800000,20000,Diesel,Individual,Automatic,First Owner,18,1969,190,5\\nToyota,2016,2000000,68089,Petrol,Trustmark Dealer,Automatic,First Owner,19.16,2494,157.7,5\\nMaruti,2013,225000,58343,Petrol,Trustmark Dealer,Manual,First Owner,21.79,998,67.05,5\\nMaruti,2018,740000,38817,Diesel,Dealer,Manual,First Owner,27.39,1248,74,5\\nHonda,2016,550000,56494,Petrol,Trustmark Dealer,Manual,First Owner,18.2,1199,88.7,5\\nToyota,2013,750000,79328,Diesel,Trustmark Dealer,Manual,Second Owner,12.99,2494,100.6,7\\nMaruti,2019,650000,5621,Petrol,Trustmark Dealer,Automatic,First Owner,22,1197,81.8,5\\nToyota,2017,625000,25538,Petrol,Trustmark Dealer,Manual,First Owner,16.78,1496,88.73,5\\nMaruti,2018,600000,69779,Petrol,Dealer,Automatic,First Owner,22,1197,81.8,5\\nHyundai,2017,450000,56290,Diesel,Dealer,Manual,First Owner,24,1186,73.97,5\\nBMW,2019,5400000,7500,Diesel,Dealer,Automatic,First Owner,16.78,1995,190,5\\nBMW,2019,5500000,8500,Diesel,Dealer,Automatic,First Owner,16.78,1995,190,5\\nHonda,2019,779000,7032,Petrol,Trustmark Dealer,Automatic,First Owner,19,1199,88.76,5\\nSkoda,2016,645000,11000,Petrol,Dealer,Automatic,First Owner,14.3,1598,103.5,5\\nVolvo,2018,2475000,2000,Diesel,Dealer,Automatic,First Owner,16.8,1984,150,5\\nMaruti,2019,558000,70000,Diesel,Individual,Manual,First Owner,28.4,1248,74.02,5\\nHyundai,2010,165000,56000,Petrol,Individual,Manual,Third Owner,17.92,1086,62.1,5\\nHyundai,2012,300000,80000,Diesel,Individual,Manual,Second Owner,21.9,1396,88.76,5\\nHyundai,2019,500000,5000,Petrol,Individual,Manual,First Owner,20.3,1086,68,5\\nMahindra,2012,900000,100000,Diesel,Individual,Manual,First Owner,15.1,2179,140,7\\nBMW,2008,830000,60000,Diesel,Individual,Automatic,Third Owner,11,2993,235,5\\nBMW,2008,890000,70000,Diesel,Individual,Automatic,Third Owner,,,,\\nSkoda,2014,640000,65000,Diesel,Individual,Manual,Second Owner,21.14,1498,103.52,5\\nMahindra,2015,900000,70000,Diesel,Individual,Manual,Third Owner,15.4,2179,120,7\\nChevrolet,2013,450000,60000,Diesel,Individual,Manual,First Owner,18.2,1248,73.8,7\\nMaruti,2018,825000,82000,Diesel,Individual,Manual,First Owner,28.09,1248,88.5,5\\nTata,2013,500000,80000,Diesel,Individual,Manual,Second Owner,13.7,2179,138.1,7\\nMahindra,2017,325000,5000,Petrol,Individual,Manual,Second Owner,18.15,1198,82,6\\nRenault,2014,450000,133000,Diesel,Individual,Manual,First Owner,19.01,1461,108.45,5\\nHonda,2017,675000,25000,Petrol,Individual,Manual,Second Owner,17.5,1199,88.7,5\\nTata,2017,415000,15000,Petrol,Individual,Manual,First Owner,17.57,1193,88.7,5\\nHyundai,2017,1100000,40000,Diesel,Individual,Manual,First Owner,21.38,1396,88.7,5\\nVolkswagen,2016,500000,35000,Petrol,Individual,Manual,First Owner,17,1198,73.75,5\\nMahindra,2014,509999,70000,Diesel,Individual,Manual,Second Owner,15.96,2523,62.1,7\\nMahindra,2007,200000,152000,Diesel,Individual,Manual,Fourth & Above Owner,10.5,2609,120,9\\nMaruti,2007,60000,100000,Petrol,Individual,Manual,Second Owner,16.1,796,37,4\\nHyundai,2013,500000,80000,Diesel,Individual,Manual,Second Owner,22.32,1582,126.3,5\\nTata,2009,45000,100000,Diesel,Individual,Manual,Second Owner,17.2,1396,53.5,5\\nRenault,2017,270000,50000,Petrol,Individual,Manual,First Owner,25.17,799,53.3,5\\nHyundai,2017,550000,40000,Petrol,Individual,Manual,First Owner,17.19,1197,81.86,5\\nRenault,2016,235000,60000,Petrol,Individual,Manual,First Owner,23.01,999,67,5\\nHyundai,2018,600000,40000,Petrol,Individual,Manual,First Owner,18.6,1197,81.83,5\\nHonda,2015,525000,60000,Diesel,Individual,Manual,First Owner,27.3,1498,98.6,5\\nMaruti,2012,325000,90000,Diesel,Individual,Manual,First Owner,22.9,1248,74,5\\nMaruti,2014,420000,90000,Diesel,Individual,Manual,First Owner,23.4,1248,74,5\\nMaruti,2014,229999,60000,Petrol,Individual,Manual,Second Owner,20.92,998,67.1,5\\nMaruti,2013,375000,80000,Diesel,Individual,Manual,Fourth & Above Owner,23.4,1248,74,5\\nMahindra,2012,750000,120000,Diesel,Individual,Manual,First Owner,12.05,2179,120,8\\nTata,2018,400000,40000,Petrol,Individual,Manual,First Owner,23.84,1199,84,5\\nMahindra,2013,600000,91000,Diesel,Individual,Manual,First Owner,15.1,2179,140,7\\nHyundai,2008,110000,80000,Petrol,Individual,Manual,Third Owner,17.8,1086,63,5\\nMaruti,2007,45000,73257,Petrol,Individual,Manual,First Owner,16.1,796,37,4\\nMahindra,2019,722000,80000,Diesel,Individual,Manual,First Owner,0,2523,70,2\\nTata,2020,500000,15000,Petrol,Individual,Manual,First Owner,23.84,1199,83.83,5\\nHyundai,2007,250000,110000,Diesel,Individual,Manual,Second Owner,18.1,1493,110,5\\nSkoda,2018,950000,40000,Diesel,Individual,Manual,First Owner,21.13,1498,108.6,5\\nNissan,2013,375000,212000,Diesel,Individual,Manual,First Owner,21.64,1461,84.8,5\\nMaruti,2018,780000,30000,Diesel,Individual,Manual,First Owner,28.4,1248,74.02,5\\nHyundai,2018,575000,30000,Petrol,Individual,Manual,First Owner,20.3,1086,68,5\\nHyundai,2017,563000,30000,Petrol,Individual,Manual,Second Owner,18.6,1197,81.83,5\\nTata,2017,450000,15000,Petrol,Individual,Manual,First Owner,23.84,1199,84,5\\nToyota,2020,2300000,1000,Diesel,Individual,Automatic,First Owner,13.68,2393,147.51,7\\nMaruti,1999,80000,26320,Petrol,Individual,Manual,First Owner,16.1,796,37,4\\nHyundai,2010,320000,135000,Diesel,Individual,Manual,Second Owner,23,1396,90,5\\nHonda,2008,375000,100000,Petrol,Individual,Manual,Third Owner,13.5,1799,130,5\\nMaruti,2017,400000,120000,Petrol,Individual,Manual,First Owner,15.37,1196,73,5\\nMahindra,2011,600000,230000,Diesel,Individual,Manual,First Owner,14,2498,112,7\\nRenault,2016,315000,60000,Petrol,Individual,Manual,Second Owner,23.01,999,67,5\\nBMW,2012,1100000,80000,Diesel,Individual,Automatic,Second Owner,16.07,1995,181,5\\nMaruti,2010,350000,190000,Diesel,Individual,Manual,Second Owner,19.3,1248,73.9,5\\nMaruti,2016,375000,120000,Petrol,Individual,Manual,First Owner,15.37,1196,73,5\\nToyota,2013,1050000,217000,Diesel,Individual,Manual,Second Owner,12.99,2494,100.6,8\\nFord,2005,130000,90000,Diesel,Individual,Manual,Third Owner,,,,\\nMaruti,2015,350000,29000,Petrol,Individual,Manual,First Owner,23.1,998,67.04,5\\nHyundai,2011,170000,120000,CNG,Individual,Manual,Fourth & Above Owner,,,,\\nMaruti,2010,120000,120000,Petrol,Individual,Manual,Third Owner,18.9,1061,67,5\\nMahindra,2015,819999,90000,Diesel,Individual,Manual,First Owner,16,2179,140,7\\nHyundai,2018,700000,30000,Petrol,Individual,Manual,First Owner,18.6,1197,81.83,5\\nMaruti,2018,451999,30000,Petrol,Individual,Automatic,Second Owner,23.1,998,67.04,5\\nHyundai,2016,500000,56000,Petrol,Individual,Manual,Third Owner,18.9,1197,82,5\\nToyota,2015,1250000,90000,Diesel,Individual,Manual,First Owner,12.99,2494,100.6,8\\nMahindra,2015,500000,120000,Diesel,Individual,Manual,First Owner,18.49,1493,100,7\\nMaruti,2015,490000,60000,Diesel,Individual,Manual,First Owner,25.2,1248,74,5\\nMaruti,2008,200000,147000,Diesel,Individual,Manual,Second Owner,19.3,1248,73.9,5\\nMaruti,2012,240000,35000,Petrol,Individual,Manual,First Owner,18.9,998,67.1,5\\nHyundai,2018,655000,19500,Petrol,Individual,Manual,First Owner,18.6,1197,81.83,5\\nHyundai,2018,620000,38426,Petrol,Individual,Manual,First Owner,17.19,1197,81.86,5\\nMaruti,2015,450000,35000,Petrol,Individual,Manual,Second Owner,20.4,1197,83.11,5\\nMaruti,2014,310000,35000,Petrol,Individual,Manual,Second Owner,20.51,998,67.04,5\\nMaruti,2007,150000,50000,Petrol,Individual,Manual,Third Owner,19.7,796,46.3,5\\nChevrolet,2012,180000,120000,Diesel,Individual,Manual,First Owner,25.44,936,57.6,5\\nTata,2011,150000,120000,Diesel,Individual,Manual,First Owner,19.4,1405,70,5\\nFord,2011,160000,112000,Diesel,Individual,Manual,Second Owner,20,1399,68,5\\nMahindra,2013,600000,70000,Diesel,Individual,Manual,Third Owner,14,2523,75,8\\nSkoda,2012,380000,145000,Diesel,Individual,Manual,First Owner,20.5,1598,103.5,5\\nTata,2007,120000,135000,Diesel,Individual,Manual,First Owner,17,1405,70,5\\nToyota,2011,350000,500000,Diesel,Individual,Manual,Second Owner,12.99,2494,100.57,7\\nTata,2012,135000,146000,Diesel,Individual,Manual,First Owner,19.61,1405,70,5\\nHyundai,2018,610000,10000,Petrol,Individual,Manual,First Owner,18.9,1197,81.86,5\\nVolkswagen,2020,260000,50000,Diesel,Individual,Manual,First Owner,20.14,1498,88.5,5\\nHyundai,2017,500000,25000,Petrol,Individual,Manual,First Owner,20.14,1197,81.86,5\\nRenault,2016,220000,20000,Petrol,Individual,Manual,First Owner,23.01,999,67,5\\nHonda,2006,121000,70000,Petrol,Individual,Manual,Second Owner,13.5,1799,130,5\\nTata,2017,350000,50000,Diesel,Individual,Manual,First Owner,25,1396,69.01,5\\nAudi,2018,2200000,25000,Diesel,Individual,Automatic,Second Owner,15.17,1968,181,5\\nHyundai,2011,280000,100000,Diesel,Individual,Manual,Second Owner,23,1396,90,5\\nTata,2020,919999,20000,Petrol,Individual,Manual,First Owner,17,1198,108.5,5\\nHyundai,2011,320000,155000,Diesel,Individual,Manual,First Owner,23,1396,90,5\\nFord,2012,140000,70000,Diesel,Individual,Manual,Fourth & Above Owner,20,1399,68,5\\nMaruti,2012,310000,25000,Diesel,Individual,Manual,Second Owner,21.5,1248,88.8,5\\nMaruti,2006,65000,120000,Petrol,Individual,Manual,Second Owner,16.1,796,37,4\\nChevrolet,2013,300000,90000,Diesel,Individual,Manual,First Owner,18.2,1248,73.8,7\\nJaguar,2017,2711000,9000,Diesel,Dealer,Automatic,First Owner,13.6,1999,177,5\\nLexus,2019,5150000,20000,Petrol,Dealer,Automatic,First Owner,22.37,2487,214.56,5\\nJaguar,2017,3200000,45000,Diesel,Dealer,Automatic,First Owner,19.33,1999,177,5\\nTata,2015,503000,110000,Diesel,Individual,Manual,First Owner,14.1,2179,147.94,7\\nVolvo,2019,3800000,20000,Diesel,Individual,Automatic,First Owner,18,1969,190,5\\nToyota,2016,2000000,68089,Petrol,Trustmark Dealer,Automatic,First Owner,19.16,2494,157.7,5\\nMaruti,2013,225000,58343,Petrol,Trustmark Dealer,Manual,First Owner,21.79,998,67.05,5\\nMaruti,2018,740000,38817,Diesel,Dealer,Manual,First Owner,27.39,1248,74,5\\nHonda,2016,550000,56494,Petrol,Trustmark Dealer,Manual,First Owner,18.2,1199,88.7,5\\nToyota,2013,750000,79328,Diesel,Trustmark Dealer,Manual,Second Owner,12.99,2494,100.6,7\\nMaruti,2019,650000,5621,Petrol,Trustmark Dealer,Automatic,First Owner,22,1197,81.8,5\\nToyota,2017,625000,25538,Petrol,Trustmark Dealer,Manual,First Owner,16.78,1496,88.73,5\\nMaruti,2018,600000,69779,Petrol,Dealer,Automatic,First Owner,22,1197,81.8,5\\nHyundai,2017,450000,56290,Diesel,Dealer,Manual,First Owner,24,1186,73.97,5\\nBMW,2019,5400000,7500,Diesel,Dealer,Automatic,First Owner,16.78,1995,190,5\\nBMW,2019,5500000,8500,Diesel,Dealer,Automatic,First Owner,16.78,1995,190,5\\nHonda,2019,779000,7032,Petrol,Trustmark Dealer,Automatic,First Owner,19,1199,88.76,5\\nSkoda,2016,645000,11000,Petrol,Dealer,Automatic,First Owner,14.3,1598,103.5,5\\nVolvo,2018,2475000,2000,Diesel,Dealer,Automatic,First Owner,16.8,1984,150,5\\nMahindra,2011,575000,110000,Diesel,Individual,Manual,Second Owner,15.1,2179,140,7\\nTata,2014,440000,110000,Diesel,Individual,Manual,Second Owner,13.49,2179,138.03,5\\nMaruti,2012,380000,100000,Diesel,Individual,Manual,Second Owner,22.9,1248,74,5\\nTata,2010,140000,116700,Petrol,Individual,Manual,Fourth & Above Owner,15,1368,90,5\\nTata,2015,475000,25000,Diesel,Individual,Manual,First Owner,22.95,1248,74,5\\nMahindra,2011,200000,200000,Diesel,Individual,Manual,Third Owner,13,2489,95,8\\nMaruti,2010,400000,176062,Diesel,Individual,Manual,First Owner,17.8,1248,75,5\\nToyota,2008,425000,250000,Diesel,Individual,Manual,Third Owner,12.8,2494,102,8\\nHyundai,2003,68000,70000,Petrol,Individual,Manual,Second Owner,,,,\\nHonda,2015,509999,82000,Diesel,Individual,Manual,First Owner,25.8,1498,98.6,5\\nHyundai,2010,275000,80000,Petrol,Individual,Manual,First Owner,19.81,1086,68.05,5\\nChevrolet,2017,650000,40000,Diesel,Individual,Manual,Second Owner,18.2,1248,73.74,7\\nJeep,2019,1850000,14000,Diesel,Individual,Manual,First Owner,17.1,1956,170,5\\nRenault,2014,650000,129000,Diesel,Individual,Manual,First Owner,19.72,1461,108.45,5\\nFiat,2016,360000,60000,Diesel,Individual,Manual,Second Owner,20.5,1248,91.7,5\\nVolkswagen,2018,650000,82000,Diesel,Individual,Automatic,First Owner,21.73,1498,108.62,5\\nLand,2013,2000000,77500,Diesel,Individual,Automatic,Third Owner,12.7,2179,187.7,5\\nChevrolet,2017,675000,50000,Diesel,Individual,Manual,Second Owner,18.2,1248,73.74,7\\nMaruti,2006,50000,40000,Petrol,Individual,Manual,Third Owner,16.1,796,37,4\\nMaruti,2017,445000,39500,Petrol,Individual,Manual,First Owner,20.52,1197,81.8,5\\nHyundai,2018,750000,40000,Diesel,Individual,Manual,First Owner,22.54,1396,88.76,5\\nMaruti,2012,425000,56000,Diesel,Individual,Manual,Second Owner,22.9,1248,74,5\\nPeugeot,1997,57000,110000,Diesel,Individual,Manual,Third Owner,,,,\\nHyundai,2017,850000,54000,Diesel,Individual,Manual,First Owner,22.54,1396,88.73,5\\nMaruti,2016,400000,20000,Petrol,Individual,Manual,Second Owner,20.51,998,67.04,5\\nTata,2014,200000,55896,Diesel,Individual,Manual,Second Owner,25,1396,69,5\\nHonda,2016,550000,35000,Diesel,Individual,Manual,First Owner,25.8,1498,98.6,5\\nHonda,2012,250000,97000,Petrol,Individual,Manual,Second Owner,19.4,1198,86.8,5\\nMaruti,2014,206000,120000,Petrol,Individual,Manual,Second Owner,22.74,796,47.3,5\\nHyundai,2014,290000,50000,Petrol,Individual,Manual,First Owner,21.1,814,55.2,5\\nTata,2010,45000,30400,Petrol,Individual,Manual,Fourth & Above Owner,26,624,35,4\\nMahindra,2019,1200000,15000,Diesel,Individual,Manual,First Owner,20,1497,115,5\\nNissan,2012,220000,110000,Diesel,Individual,Manual,Third Owner,21.64,1461,84.8,5\\nMercedes-Benz,2008,515000,120000,Diesel,Individual,Automatic,Second Owner,14.84,2143,170,5\\nMaruti,2010,170000,100000,Petrol,Individual,Manual,First Owner,19.7,796,46.3,5\\nMaruti,2010,260000,120000,Diesel,Individual,Manual,Second Owner,17.8,1248,75,5\\nVolkswagen,2012,315000,130000,Diesel,Individual,Manual,Second Owner,20.54,1598,103.6,5\\nMaruti,2011,225000,76000,Petrol,Individual,Manual,Second Owner,20.92,998,67.1,5\\nVolkswagen,2012,420000,110000,Diesel,Individual,Manual,Third Owner,19.33,1968,138.1,5\\nMahindra,2011,525000,96000,Diesel,Individual,Manual,First Owner,12.05,2179,120,8\\nMaruti,2018,670000,90000,Diesel,Individual,Automatic,First Owner,28.4,1248,74,5\\nNissan,2012,220000,110000,Diesel,Individual,Manual,Third Owner,21.64,1461,84.8,5\\nFord,2013,250000,25000,Diesel,Individual,Manual,First Owner,20,1399,68.1,5\\nMaruti,2009,229999,90000,Diesel,Individual,Manual,Second Owner,19.3,1248,73.9,5\\nMaruti,2009,229999,164000,Diesel,Individual,Manual,Second Owner,19.3,1248,73.9,5\\nHonda,2013,300000,120000,Petrol,Individual,Manual,Second Owner,18,1198,86.7,5\\nMaruti,2010,165000,66000,Petrol,Individual,Manual,Second Owner,19,998,66.1,5\\nTata,2010,295000,250000,Diesel,Individual,Manual,First Owner,13.93,2179,138,7\\nHyundai,2011,360000,157000,Diesel,Individual,Manual,Second Owner,22.32,1582,126.3,5\\nHyundai,2011,380000,157000,Diesel,Individual,Manual,Second Owner,22.32,1582,126.3,5\\nRenault,2017,300000,35000,Petrol,Individual,Manual,First Owner,23.01,999,67,5\\nMahindra,2008,320000,100000,Diesel,Individual,Manual,Second Owner,12.7,2609,116.6,9\\nDatsun,2016,325000,70000,Petrol,Individual,Manual,Second Owner,19.44,1198,67,7\\nTata,2010,160000,30000,Diesel,Individual,Manual,Second Owner,21.12,1248,88.8,5\\nMahindra,2018,630000,40000,Diesel,Individual,Manual,First Owner,16.5,1493,70,7\\nMaruti,2020,600000,5000,Petrol,Individual,Manual,First Owner,21.21,1197,81.8,5\\nMaruti,2014,229999,30000,Petrol,Individual,Manual,Second Owner,22.74,796,47.3,5\\nMaruti,2014,440000,70000,Diesel,Individual,Manual,Second Owner,22.9,1248,74,5\\nChevrolet,2007,90000,60000,Petrol,Individual,Manual,Second Owner,18,995,62,5\\nMaruti,2017,750000,60000,Diesel,Individual,Manual,First Owner,28.09,1248,88.5,5\\nHonda,2012,330000,80000,Petrol,Individual,Manual,Second Owner,16.8,1497,116.3,5\\nMaruti,2016,715000,70000,Diesel,Individual,Manual,Second Owner,28.09,1248,88.5,5\\nSkoda,2013,250000,150000,Diesel,Individual,Manual,Second Owner,20.86,1199,75,5\\nMaruti,2007,120000,150000,Petrol,Individual,Manual,Second Owner,18.2,1061,64,5\\nFord,2004,100000,25000,Petrol,Individual,Manual,Third Owner,14.2,1597,92,5\\nSkoda,2017,850000,35000,Diesel,Individual,Automatic,Second Owner,21.72,1498,108.6,5\\nHyundai,2018,450000,48000,Diesel,Individual,Manual,First Owner,25.4,1186,73.97,5\\nVolkswagen,2012,240000,200000,Diesel,Individual,Manual,First Owner,22.07,1199,73.9,5\\nHyundai,2000,30000,90000,Petrol,Individual,Manual,Third Owner,,,,\\nMaruti,2015,600000,135000,Diesel,Individual,Manual,First Owner,26.59,1248,74,5\\nChevrolet,2016,280000,110000,Diesel,Individual,Manual,Second Owner,18.2,1248,73.74,7\\nHyundai,2012,465000,146000,Diesel,Individual,Manual,Second Owner,22.32,1582,126.32,5\\nMaruti,2018,350000,44000,Petrol,Individual,Manual,First Owner,24.7,796,47.3,5\\nHyundai,2013,325000,70000,Petrol,Individual,Manual,First Owner,20.36,1197,78.9,5\\nTata,2004,50000,271000,Diesel,Individual,Manual,First Owner,16.8,1405,62,5\\nMaruti,2006,110000,120000,Petrol,Individual,Manual,Third Owner,19.7,796,46.3,5\\nTata,2013,220000,80000,Diesel,Individual,Manual,First Owner,23.03,1396,69,5\\nMahindra,2015,515000,60000,Diesel,Individual,Manual,First Owner,15.96,2523,62.1,7\\nMaruti,2018,750000,40000,Petrol,Individual,Manual,First Owner,20.73,1373,91.1,5\\nHyundai,2018,350000,25000,Petrol,Individual,Manual,First Owner,21.1,814,55.2,5\\nHyundai,2019,488999,15000,Petrol,Individual,Manual,First Owner,18.9,1197,81.86,5\\nMaruti,2017,300000,27000,Petrol,Individual,Manual,First Owner,24.7,796,47.3,5\\nMaruti,2017,650000,35000,Diesel,Individual,Manual,Second Owner,27.39,1248,74,5\\nMaruti,2014,250000,40000,Petrol,Individual,Manual,First Owner,19,998,66.1,5\\nMaruti,2014,200000,40000,Petrol,Individual,Manual,Third Owner,22.74,796,47.3,5\\nMahindra,2015,950000,75262,Diesel,Individual,Manual,First Owner,15.4,2179,120,7\\nTata,2012,200000,120000,Diesel,Individual,Manual,First Owner,23.03,1396,69,5\\nHyundai,2016,276000,60000,Petrol,Individual,Manual,First Owner,20.3,998,68.05,5\\nHyundai,2014,250000,40000,Petrol,Individual,Manual,First Owner,21.1,814,55.2,5\\nMaruti,2008,95000,80000,Petrol,Individual,Manual,Second Owner,19.7,796,46.3,5\\nTata,2011,200000,70000,Diesel,Individual,Manual,Second Owner,23.57,1396,70,5\\nHyundai,2012,450000,100000,Diesel,Individual,Manual,Second Owner,22.32,1582,126.32,5\\nMahindra,2013,900000,18000,Diesel,Individual,Manual,First Owner,15.1,2179,140,7\\nTata,2010,200000,175000,Diesel,Individual,Manual,First Owner,19.09,1396,69,5\\nHyundai,2010,200000,70000,Petrol,Individual,Manual,Second Owner,20.36,1197,78.9,5\\nMahindra,2011,370000,91863,Diesel,Individual,Manual,Second Owner,15.96,2523,62.1,7\\nTata,2008,250000,100000,Petrol,Individual,Manual,First Owner,15.2,1193,65,5\\nRenault,2016,290000,10000,Petrol,Individual,Manual,First Owner,25.17,799,53.3,5\\nMaruti,2018,900000,35000,Diesel,Individual,Manual,First Owner,24.52,1248,88.5,7\\nFord,2013,325000,120000,Diesel,Individual,Manual,Second Owner,20,1399,68.1,5\\nHyundai,2016,425000,30000,Petrol,Individual,Manual,First Owner,18.9,1197,82,5\\nRenault,2016,315000,60000,Petrol,Individual,Manual,First Owner,25.17,799,53.3,5\\nMaruti,2014,300000,70000,Petrol,Individual,Manual,First Owner,23.95,998,67.05,5\\nHyundai,2013,325000,70000,Petrol,Individual,Manual,Second Owner,20.36,1197,78.9,5\\nHyundai,2016,900000,130000,Diesel,Individual,Manual,First Owner,21.38,1396,88.7,5\\nHyundai,2016,950000,133000,Diesel,Individual,Manual,First Owner,21.38,1396,88.7,5\\nVolkswagen,2010,320000,120000,Diesel,Individual,Manual,Third Owner,20.54,1598,103.6,5\\nVolkswagen,2019,500000,20000,Petrol,Individual,Manual,First Owner,19.44,999,75,5\\nFord,2012,290000,25000,Petrol,Individual,Manual,First Owner,15.6,1196,70,5\\nTata,2012,60000,90000,Petrol,Individual,Manual,First Owner,25.4,624,37.48,4\\nMaruti,2009,120000,140000,Petrol,Individual,Manual,Third Owner,19,998,66.1,5\\nHonda,2017,850000,103000,Diesel,Dealer,Manual,First Owner,25.6,1498,97.9,5\\nToyota,2017,1750000,23000,Diesel,Dealer,Manual,First Owner,13.68,2393,147.8,7\\nHonda,2015,600000,128000,Diesel,Dealer,Manual,First Owner,26,1498,98.6,5\\nVolkswagen,2015,620000,33000,Diesel,Individual,Manual,First Owner,20.14,1498,88.8,5\\nMaruti,2009,150000,70000,Petrol,Individual,Manual,Second Owner,19.7,796,46.3,5\\nHyundai,2011,150000,40000,Petrol,Individual,Manual,Fourth & Above Owner,0,1086,62,5\\nTata,2008,135000,40000,Petrol,Individual,Manual,Fourth & Above Owner,12.85,1396,99.6,5\\nTata,2011,200000,80000,Diesel,Individual,Manual,First Owner,17,1405,71,5\\nMaruti,2015,730000,70000,Diesel,Individual,Manual,First Owner,26.21,1248,88.5,5\\nToyota,2013,800000,100000,Diesel,Individual,Manual,First Owner,12.99,2494,100.6,8\\nMahindra,2009,300000,90000,Diesel,Individual,Manual,Second Owner,14,2498,112,8\\nFord,2012,190000,112000,Diesel,Individual,Manual,Second Owner,20,1399,68,5\\nHonda,2011,350000,50000,Petrol,Individual,Manual,First Owner,15.5,1799,132,5\\nHyundai,2015,509999,62000,Diesel,Individual,Manual,Second Owner,24.4,1120,71,5\\nMaruti,2012,400000,90000,Diesel,Individual,Manual,First Owner,20.77,1248,88.76,7\\nToyota,2013,800000,80000,Diesel,Individual,Manual,First Owner,12.99,2494,100,7\\nTata,2013,250000,50000,Diesel,Individual,Manual,First Owner,21.02,1248,88.8,5\\nHyundai,2016,930000,47552,Diesel,Individual,Manual,Second Owner,19.67,1582,126.2,5\\nMaruti,2016,720000,40000,Diesel,Individual,Manual,Second Owner,24.3,1248,88.5,5\\nFord,2011,225000,15000,Petrol,Individual,Manual,First Owner,15.6,1196,70,5\\nFord,2019,950000,20000,Diesel,Individual,Manual,First Owner,23,1498,98.96,5\\nHyundai,2018,530000,52000,Petrol,Individual,Manual,First Owner,17.19,1197,81.86,5\\nHyundai,2016,470000,70000,Petrol,Individual,Manual,First Owner,18.6,1197,81.83,5\\nMahindra,2017,650000,110000,Diesel,Individual,Manual,First Owner,15.96,2523,63,9\\nTata,2014,540000,77500,Diesel,Individual,Manual,Second Owner,14,2179,138.1,7\\nMaruti,2015,459999,100000,Diesel,Individual,Manual,Second Owner,25.2,1248,74,5\\nRenault,2019,325000,14700,Petrol,Individual,Manual,First Owner,25.17,799,53.3,5\\nMaruti,2016,240000,40000,Petrol,Individual,Manual,First Owner,16.8,796,34.2,5\\nMahindra,2017,400000,32000,Petrol,Individual,Manual,Second Owner,18.15,1198,82,6\\nMaruti,2004,70000,70000,Petrol,Individual,Manual,Second Owner,19.7,796,46.3,5\\nMaruti,2009,250000,80000,Petrol,Individual,Manual,First Owner,17.5,1298,85.8,5\\nToyota,2014,910000,80000,Diesel,Individual,Manual,Second Owner,12.99,2494,100.6,8\\nMaruti,2018,720000,25000,Diesel,Individual,Manual,First Owner,28.4,1248,74.02,5\\nMaruti,2015,590000,50000,Diesel,Individual,Manual,First Owner,26.59,1248,74,5\\nChevrolet,2015,434000,120000,Diesel,Individual,Manual,First Owner,13.58,2499,72.4,10\\nMahindra,2006,145000,170000,Diesel,Individual,Manual,First Owner,13.6,2523,63,7\\nMahindra,2018,445000,19700,Petrol,Individual,Manual,First Owner,18.15,1198,82,5\\nHyundai,2011,191000,70000,LPG,Individual,Manual,First Owner,13.45,1086,62.1,5\\nFord,2018,372000,50000,Diesel,Individual,Manual,Fourth & Above Owner,25.83,1498,99,5\\nMaruti,2005,65000,90000,Petrol,Individual,Manual,Second Owner,18.9,998,67.1,5\\nHyundai,2007,150000,60000,Petrol,Individual,Manual,Third Owner,,,,\\nFord,2015,300000,140000,Diesel,Individual,Manual,First Owner,20,1399,68.05,5\\nMahindra,2003,125000,120000,Diesel,Individual,Manual,Third Owner,12.7,2609,116.6,8\\nTata,2017,520000,40000,Petrol,Individual,Manual,First Owner,20.3,1199,84,5\\nMaruti,2014,190000,70000,Petrol,Individual,Manual,Third Owner,22.74,796,47.3,5\\nDatsun,2018,310000,7000,Petrol,Individual,Manual,First Owner,22.5,999,67,5\\nToyota,2012,750000,90000,Diesel,Individual,Manual,First Owner,12.8,2494,102,8\\nMahindra,2016,750000,110000,Diesel,Individual,Automatic,First Owner,18.49,1493,100,7\\nMaruti,2019,350000,15000,Petrol,Individual,Manual,First Owner,23.95,998,67.05,5\\nMaruti,2020,360000,5000,Petrol,Individual,Manual,First Owner,22.05,796,47.3,5\\nRenault,2017,285000,5000,Petrol,Individual,Manual,First Owner,25.17,799,53.3,5\\nMaruti,2013,160000,70000,Petrol,Individual,Manual,Second Owner,22.74,796,47.3,5\\nDatsun,2015,229999,60000,Petrol,Individual,Manual,Second Owner,19.44,1198,67,7\\nMaruti,2007,85000,120000,Petrol,Individual,Manual,Third Owner,19.7,796,46.3,5\\nDatsun,2018,300000,7000,Petrol,Individual,Manual,First Owner,22.5,999,67,5\\nMahindra,2014,675000,120000,Diesel,Individual,Manual,First Owner,12.05,2179,120,7\\nMahindra,2014,700000,145241,Diesel,Individual,Manual,First Owner,12.05,2179,120,7\\nMahindra,2008,400000,110000,Diesel,Individual,Manual,First Owner,12.7,2609,116.6,8\\nRenault,2016,254999,30000,Petrol,Individual,Manual,Third Owner,25.17,799,53.3,5\\nMahindra,2015,1050000,80000,Diesel,Individual,Manual,Second Owner,15.4,2179,120,7\\nMaruti,2013,390000,100000,Diesel,Individual,Manual,First Owner,23.4,1248,74,5\\nToyota,2015,450000,80000,Diesel,Individual,Manual,First Owner,23.59,1364,67.04,5\\nToyota,2016,1630000,40000,Diesel,Individual,Automatic,Second Owner,11.36,2755,171.5,7\\nMaruti,2017,725000,50000,Diesel,Individual,Manual,First Owner,24.3,1248,88.5,5\\nTata,2013,466000,95500,Diesel,Individual,Manual,Second Owner,14,2179,138.1,7\\nFord,2017,370000,40000,Petrol,Individual,Manual,Second Owner,18.16,1196,86.8,5\\nMaruti,2007,150000,70000,Petrol,Individual,Manual,Third Owner,18.2,1061,64,5\\nMaruti,2017,483000,15000,Petrol,Individual,Manual,First Owner,23.1,998,67.04,5\\nHyundai,2016,470000,10000,Petrol,Individual,Manual,First Owner,18.9,1197,82,5\\nMaruti,2018,950000,25000,Diesel,Individual,Manual,First Owner,24.3,1248,88.5,5\\nHyundai,2013,450000,50000,Petrol,Individual,Manual,Third Owner,17.01,1591,121.3,5\\nToyota,2011,345000,70000,Petrol,Individual,Manual,First Owner,17.6,1496,88.7,5\\nMaruti,2009,300000,60000,Petrol,Individual,Manual,First Owner,19,998,66.1,5\\nMaruti,2007,160000,74800,Petrol,Individual,Manual,Second Owner,18.2,998,67.1,5\\nMaruti,2004,120000,80000,Petrol,Individual,Manual,Second Owner,16.1,796,37,4\\nTata,2020,500000,40000,Petrol,Individual,Manual,First Owner,17.57,1193,88.7,5\\nMahindra,2018,1350000,40000,Diesel,Individual,Manual,First Owner,16,2179,138,7\\nHyundai,2017,455000,50000,Diesel,Individual,Manual,First Owner,24,1186,73.97,5\\nHyundai,2013,165000,45000,Petrol,Individual,Manual,Second Owner,21.1,814,55.2,5\\nMaruti,2016,470000,23700,Petrol,Individual,Manual,First Owner,20.4,1197,81.8,5\\nMaruti,2016,470000,23700,Petrol,Individual,Manual,First Owner,20.4,1197,81.8,5\\nJeep,2019,1520000,10000,Petrol,Individual,Manual,First Owner,16,1368,160,5\\nMaruti,2014,229999,53473,Petrol,Individual,Manual,First Owner,23.95,998,67.05,5\\nMahindra,2011,250000,100000,Diesel,Individual,Manual,Second Owner,15.96,2523,63,9\\nMahindra,2016,1350000,25000,Diesel,Individual,Manual,First Owner,16,2179,140,7\\nHyundai,2013,220000,80000,Petrol,Individual,Manual,First Owner,17.92,1086,62.1,5\\nHyundai,2015,360000,120000,Diesel,Individual,Manual,First Owner,24.4,1120,71,5\\nMaruti,2018,350000,40000,Petrol,Individual,Manual,First Owner,23.95,998,67.05,5\\nHyundai,2012,500000,70000,Diesel,Individual,Manual,First Owner,22.32,1582,126.32,5\\nChevrolet,2013,145000,90000,Diesel,Individual,Manual,Third Owner,25.44,936,57.6,5\\nChevrolet,2014,300000,51000,Petrol,Individual,Manual,First Owner,18.2,1199,82.5,5\\nTata,2010,180000,87000,Diesel,Individual,Manual,First Owner,,,,\\nHyundai,2009,180000,87000,Petrol,Individual,Manual,Second Owner,13.2,1495,94,5\\nMahindra,2006,200000,120000,Diesel,Individual,Manual,Second Owner,,,,\\nMaruti,2013,530000,40000,Diesel,Individual,Manual,First Owner,23.4,1248,74,5\\nRenault,2014,620000,90000,Diesel,Individual,Manual,Second Owner,19.01,1461,108.45,5\\nToyota,2015,360000,110000,Petrol,Individual,Manual,Third Owner,16.78,1496,88.73,5\\nHyundai,2010,245000,86000,Petrol,Individual,Manual,Second Owner,17.92,1086,62.1,5\\nMaruti,2009,370000,120000,Diesel,Individual,Manual,First Owner,,,,\\nFord,2003,130000,80000,Petrol,Individual,Manual,Third Owner,14.2,1597,92,5\\nMaruti,1999,70000,65000,Petrol,Individual,Manual,Fourth & Above Owner,15.9,1298,85,5\\nMaruti,1999,70000,70000,Petrol,Individual,Manual,Fourth & Above Owner,15.9,1298,85,5\\nFord,2014,650000,140000,Diesel,Individual,Manual,Second Owner,25.01,1498,89.75,5\\nMaruti,2019,610000,18000,Petrol,Individual,Manual,First Owner,21.21,1197,81.8,5\\nMaruti,2015,300000,24000,Petrol,Individual,Manual,First Owner,23.95,998,67.05,5\\nHyundai,2014,425000,60000,Diesel,Individual,Manual,First Owner,24,1120,70,5\\nHyundai,2012,450000,150000,Diesel,Individual,Manual,Third Owner,22.32,1582,126.32,5\\nHyundai,2011,450000,108000,Diesel,Individual,Manual,First Owner,22.32,1582,126.3,5\\nHyundai,2011,340000,60000,Petrol,Individual,Automatic,Third Owner,16.95,1197,78.9,5\\nMaruti,2013,650000,90000,Diesel,Individual,Manual,First Owner,20.77,1248,88.76,7\\nTata,2009,160000,70000,Diesel,Individual,Manual,First Owner,19.09,1396,69,5\\nTata,2014,250000,120000,Diesel,Individual,Manual,First Owner,19.1,1405,70,5\\nChevrolet,2012,225000,100000,Diesel,Individual,Manual,Third Owner,25.44,936,57.6,5\\nTata,2007,55000,75958,Diesel,Individual,Manual,Second Owner,17.88,1396,52.8,5\\nMaruti,1996,42000,70000,Petrol,Individual,Manual,Third Owner,16.1,796,37,4\\nTata,2012,250000,100000,Diesel,Individual,Manual,Second Owner,,,,\\nHyundai,2006,282000,128000,Diesel,Individual,Manual,Fourth & Above Owner,12.6,1991,112,7\\nTata,2007,80000,110000,Diesel,Individual,Manual,Third Owner,16.8,1405,62,5\\nMaruti,2016,500000,40000,Petrol,Individual,Manual,First Owner,20.85,1197,83.14,5\\nFord,2016,500000,70000,Diesel,Individual,Manual,First Owner,25.83,1498,99,5\\nMaruti,2011,400000,60000,Diesel,Individual,Manual,First Owner,22.9,1248,74,5\\nMahindra,2013,550000,90000,Diesel,Individual,Manual,First Owner,15.96,2523,62.1,7\\nTata,2007,200000,70000,Diesel,Individual,Manual,Second Owner,13.93,2179,138.1,7\\nHyundai,2012,280000,65000,Petrol,Individual,Manual,First Owner,20.36,1197,78.9,5\\nMaruti,2014,580000,88000,Diesel,Individual,Manual,First Owner,23.4,1248,74,5\\nTata,2009,100000,80000,Diesel,Individual,Manual,Third Owner,18.8,1248,90,5\\nMahindra,2014,550000,60000,Diesel,Individual,Manual,First Owner,14,2523,75,8\\nMahindra,2017,700000,38000,Diesel,Individual,Manual,First Owner,18.49,1493,100,7\\nTata,2010,150000,80000,Petrol,Individual,Manual,Third Owner,15,1368,90,5\\nHyundai,2014,190000,60000,Petrol,Individual,Manual,Second Owner,21.1,814,55.2,5\\nMahindra,2013,500000,110000,Diesel,Individual,Manual,First Owner,15.96,2523,62.1,7\\nMaruti,2017,640000,110000,Diesel,Individual,Manual,First Owner,25.2,1248,74,5\\nSkoda,2011,340000,145000,Diesel,Individual,Manual,First Owner,20.86,1199,75,5\\nHyundai,2019,811000,43000,Diesel,Individual,Manual,First Owner,22.54,1396,88.76,5\\nMaruti,2016,409999,120000,Diesel,Individual,Manual,First Owner,23.2,1248,73.94,5\\nMaruti,2007,220000,136000,Petrol,Individual,Manual,Second Owner,16.1,1298,88.2,5\\nTata,2013,170000,120000,Diesel,Individual,Manual,Second Owner,17.88,1405,48.21,5\\nHyundai,2018,700000,25000,Petrol,Individual,Manual,First Owner,18.6,1197,81.86,5\\nMahindra,2015,950000,80000,Diesel,Individual,Manual,Second Owner,15.4,2179,120,7\\nHyundai,2003,80000,40000,Petrol,Individual,Manual,Second Owner,14.4,1599,94,5\\nJaguar,2017,2711000,9000,Diesel,Dealer,Automatic,First Owner,13.6,1999,177,5\\nLexus,2019,5150000,20000,Petrol,Dealer,Automatic,First Owner,22.37,2487,214.56,5\\nJaguar,2017,3200000,45000,Diesel,Dealer,Automatic,First Owner,19.33,1999,177,5\\nTata,2015,503000,110000,Diesel,Individual,Manual,First Owner,14.1,2179,147.94,7\\nVolvo,2019,3800000,20000,Diesel,Individual,Automatic,First Owner,18,1969,190,5\\nToyota,2016,2000000,68089,Petrol,Trustmark Dealer,Automatic,First Owner,19.16,2494,157.7,5\\nMaruti,2013,225000,58343,Petrol,Trustmark Dealer,Manual,First Owner,21.79,998,67.05,5\\nMaruti,2018,740000,38817,Diesel,Dealer,Manual,First Owner,27.39,1248,74,5\\nHonda,2016,550000,56494,Petrol,Trustmark Dealer,Manual,First Owner,18.2,1199,88.7,5\\nToyota,2013,750000,79328,Diesel,Trustmark Dealer,Manual,Second Owner,12.99,2494,100.6,7\\nMaruti,2019,650000,5621,Petrol,Trustmark Dealer,Automatic,First Owner,22,1197,81.8,5\\nToyota,2017,625000,25538,Petrol,Trustmark Dealer,Manual,First Owner,16.78,1496,88.73,5\\nMaruti,2018,600000,69779,Petrol,Dealer,Automatic,First Owner,22,1197,81.8,5\\nHyundai,2017,450000,56290,Diesel,Dealer,Manual,First Owner,24,1186,73.97,5\\nBMW,2019,5400000,7500,Diesel,Dealer,Automatic,First Owner,16.78,1995,190,5\\nBMW,2019,5500000,8500,Diesel,Dealer,Automatic,First Owner,16.78,1995,190,5\\nHonda,2019,779000,7032,Petrol,Trustmark Dealer,Automatic,First Owner,19,1199,88.76,5\\nSkoda,2016,645000,11000,Petrol,Dealer,Automatic,First Owner,14.3,1598,103.5,5\\nVolvo,2018,2475000,2000,Diesel,Dealer,Automatic,First Owner,16.8,1984,150,5\\nMaruti,2014,420000,120000,Diesel,Individual,Manual,Second Owner,23.4,1248,74,5\\nMaruti,2018,899000,35000,Diesel,Individual,Manual,First Owner,25.1,1248,88.5,5\\nDatsun,2019,459999,35000,Petrol,Individual,Manual,First Owner,19.83,1198,67,5\\nHyundai,2008,150000,120000,Diesel,Individual,Manual,Second Owner,18.1,1493,110,5\\nRenault,2017,350000,25000,Petrol,Individual,Manual,First Owner,23.01,999,67,5\\nToyota,2015,509999,100000,Diesel,Individual,Manual,Second Owner,23.59,1364,67.05,5\\nMahindra,2013,500000,120000,Diesel,Individual,Manual,Third Owner,15.96,2523,62.1,9\\nTata,2017,370000,35000,Petrol,Individual,Manual,First Owner,17.57,1193,88.7,5\\nMaruti,2013,240000,44000,Petrol,Individual,Manual,Second Owner,20.92,998,67.1,5\\nHyundai,2015,530000,100000,Diesel,Individual,Manual,Second Owner,22.54,1396,88.73,5\\nMahindra,2015,1000000,133000,Diesel,Individual,Manual,Second Owner,15.4,2179,120,7\\nToyota,2018,1600000,35000,Diesel,Individual,Manual,Second Owner,13.68,2393,147.8,7\\nHyundai,2014,350000,64000,Petrol,Individual,Manual,First Owner,20.36,1197,78.9,5\\nMahindra,2015,1100000,70000,Diesel,Individual,Automatic,First Owner,16,2179,140,7\\nHyundai,2011,220000,70000,Petrol,Individual,Manual,First Owner,18.5,1197,80,5\\nHyundai,2015,350000,100000,Petrol,Individual,Manual,First Owner,18.9,1197,82,5\\nMaruti,2013,370000,90000,Diesel,Individual,Manual,Second Owner,22.9,1248,74,5\\nMaruti,2014,220000,50000,Petrol,Individual,Manual,First Owner,17.5,1298,85.8,5\\nChevrolet,2013,200000,80000,Diesel,Individual,Manual,First Owner,22.1,1248,76.9,5\\nMahindra,2017,400000,50000,Diesel,Individual,Manual,First Owner,25.32,1198,77,6\\nFiat,2009,150000,55000,Petrol,Individual,Manual,First Owner,14.6,1368,88.7,5\\nToyota,2020,1500000,40000,Petrol,Individual,Automatic,First Owner,10.75,2694,163.7,8\\nMaruti,2011,130000,70000,Petrol,Individual,Manual,Second Owner,14,796,35,5\\nMaruti,2013,185000,80000,Petrol,Individual,Manual,Second Owner,22.74,796,47.3,5\\nHyundai,2010,110000,80000,Petrol,Individual,Manual,Second Owner,0,1086,62.1,5\\nMahindra,2012,450000,120000,Diesel,Individual,Manual,First Owner,15.96,2523,62.1,7\\nHyundai,2018,500000,20000,Petrol,Individual,Manual,Second Owner,18.9,1197,81.86,5\\nFord,2017,570000,31596,Petrol,Dealer,Manual,First Owner,17,1497,121.36,5\\nMahindra,2013,650000,85710,Diesel,Dealer,Manual,First Owner,15.1,2179,140,7\\nToyota,2012,1680000,129627,Diesel,Dealer,Manual,First Owner,11.5,2982,171,7\\nDatsun,2018,250000,10000,Petrol,Individual,Manual,First Owner,22.7,799,53.64,5\\nHyundai,2014,320000,15000,Petrol,Individual,Manual,First Owner,20.36,1197,78.9,5\\nMaruti,2017,440000,35000,Petrol,Individual,Automatic,First Owner,20.51,998,67,5\\nHyundai,2013,315000,49000,Petrol,Individual,Manual,Second Owner,18.5,1197,82.85,5\\nHyundai,2007,100000,70000,Petrol,Individual,Manual,Third Owner,,,,\\nTata,2010,202999,158000,Diesel,Individual,Manual,First Owner,18.8,1248,90,5\\nHyundai,2012,179000,30000,Petrol,Individual,Manual,Second Owner,21.1,814,55.2,5\\nHyundai,2008,140000,60000,Petrol,Individual,Manual,Second Owner,20.36,1197,78.9,5\\nMaruti,2008,150000,40000,Petrol,Individual,Manual,Second Owner,18.2,1061,64,5\\nMahindra,2011,440000,60000,Diesel,Individual,Manual,Second Owner,13.6,2523,63,7\\nFord,2011,250000,55130,Diesel,Dealer,Manual,Second Owner,20,1399,68,5\\nMaruti,2014,330000,22000,Petrol,Individual,Manual,First Owner,20.51,998,67.04,5\\nFord,2010,250000,48000,Petrol,Individual,Manual,First Owner,15.6,1196,70,5\\nHyundai,2012,335000,45000,Petrol,Individual,Manual,First Owner,18.5,1197,82.85,5\\nMahindra,2016,1025000,22522,Diesel,Dealer,Manual,First Owner,16,2179,140,7\\nHyundai,2012,320000,51856,Petrol,Dealer,Manual,Third Owner,18.5,1197,80,5\\nMaruti,2015,550000,29434,Petrol,Individual,Manual,First Owner,20.73,1373,91.1,5\\nHonda,2018,800000,25000,Diesel,Individual,Manual,First Owner,25.5,1498,98.6,5\\nTata,2017,380000,28000,Petrol,Individual,Manual,Second Owner,23.84,1199,84,5\\nRenault,2013,400000,44500,Diesel,Individual,Manual,Second Owner,20.46,1461,83.8,5\\nMaruti,2016,375000,34500,Petrol,Individual,Manual,First Owner,20.51,998,67.04,5\\nHonda,2017,1100000,20000,Petrol,Individual,Automatic,First Owner,18,1497,117.6,5\\nHyundai,2018,650000,15000,Petrol,Individual,Manual,First Owner,18.6,1197,81.83,5\\nNissan,2014,361000,26000,Petrol,Individual,Automatic,First Owner,19.34,1198,76,5\\nHyundai,2012,140000,20000,Petrol,Individual,Manual,First Owner,21.1,814,55.2,5\\nHyundai,2019,550000,3000,Petrol,Individual,Manual,First Owner,20.14,1197,81.86,5\\nHonda,2019,670000,20000,Petrol,Individual,Manual,First Owner,19.5,1199,88.76,5\\nMaruti,2017,880000,25000,Diesel,Individual,Manual,First Owner,24.3,1248,88.5,5\\nFord,2018,950000,35000,Diesel,Individual,Manual,First Owner,23,1498,98.96,5\\nChevrolet,2010,300000,60000,Diesel,Individual,Manual,First Owner,18.3,1991,147.9,5\\nHonda,2017,1150000,6825,Petrol,Individual,Automatic,First Owner,18,1497,117.6,5\\nChevrolet,2015,450000,155000,Diesel,Individual,Automatic,First Owner,14.81,1998,163.7,5\\nMaruti,2018,375000,50000,CNG,Individual,Manual,First Owner,21.94,1196,61.7,5\\nMaruti,2016,600000,13500,Petrol,Individual,Manual,First Owner,17.5,1373,91.1,7\\nToyota,2008,700000,260000,Diesel,Individual,Manual,First Owner,12.8,2494,102,8\\nHyundai,2018,600000,65000,Diesel,Individual,Manual,First Owner,25.4,1186,73.97,5\\nMahindra,2014,630000,95000,Diesel,Individual,Manual,Second Owner,14.02,2179,118.3,8\\nMaruti,2016,590000,40000,Petrol,Individual,Manual,Second Owner,20.73,1373,91.1,5\\nHyundai,2019,420000,30000,Petrol,Individual,Manual,First Owner,20.3,1086,68,5\\nMitsubishi,2016,1950000,120000,Diesel,Individual,Manual,First Owner,13.5,2477,175.56,7\\nTata,2013,541000,112011,Diesel,Individual,Manual,First Owner,13.93,2179,138.1,7\\nToyota,2015,900000,125000,Diesel,Individual,Manual,First Owner,12.99,2494,100.6,7\\nToyota,2015,900000,125000,Diesel,Individual,Manual,First Owner,12.99,2494,100.6,7\\nTata,2009,250000,43000,Diesel,Individual,Manual,First Owner,18.8,1248,90,5\\nMahindra,2019,670000,53534,Diesel,Individual,Manual,First Owner,15.96,2523,62.1,7\\nTata,2019,530000,20000,Petrol,Individual,Manual,First Owner,20.3,1199,83.81,5\\nChevrolet,2012,150000,70000,Diesel,Individual,Manual,Second Owner,25.44,936,57.6,5\\nMahindra,2013,550000,70000,Diesel,Individual,Manual,Third Owner,15.1,2179,140,7\\nMahindra,2015,650000,150000,Diesel,Individual,Manual,First Owner,15.4,1997,120,7\\nTata,2012,180000,100000,Diesel,Individual,Manual,Second Owner,19.4,1405,70,5\\nMahindra,2015,585000,50000,Diesel,Individual,Manual,First Owner,16.55,2498,105,7\\nHyundai,2013,345000,120000,Petrol,Individual,Manual,Second Owner,18.5,1197,82.85,5\\nMaruti,2013,350000,110000,Diesel,Individual,Manual,Third Owner,22.9,1248,74,5\\nHonda,2016,725000,140000,Petrol,Individual,Manual,First Owner,15.4,1497,117.3,7\\nTata,2012,250000,120000,Diesel,Individual,Manual,First Owner,15.42,1405,70,7\\nMaruti,2002,45000,70000,Petrol,Individual,Manual,Second Owner,16.1,796,37,4\\nToyota,2007,409999,248119,Diesel,Individual,Manual,Fourth & Above Owner,12.8,2494,102,8\\nRenault,2017,325000,16500,Petrol,Individual,Manual,Second Owner,23.01,999,67,5\\nMaruti,2016,350000,9900,Petrol,Individual,Manual,First Owner,23.95,998,67.05,5\\nMaruti,2012,180000,80000,Petrol,Individual,Manual,Third Owner,19.7,796,46.3,5\\nFiat,2010,150000,100000,Petrol,Individual,Manual,Second Owner,16,1368,90,5\\nMaruti,2020,700000,20000,Petrol,Individual,Manual,First Owner,23.26,1197,88.5,5\\nMaruti,2016,795000,90000,Diesel,Individual,Manual,First Owner,28.09,1248,88.5,5\\nMahindra,2019,950000,15000,Diesel,Individual,Manual,First Owner,16.55,2498,105,6\\nVolkswagen,2018,885000,75000,Diesel,Individual,Automatic,First Owner,21.5,1498,108.5,5\\nMaruti,2011,160000,140000,Diesel,Individual,Manual,First Owner,21.1,1248,73.9,5\\nHyundai,2012,300000,120000,Diesel,Individual,Manual,Second Owner,23,1396,90,5\\nVolkswagen,2018,950000,75000,Diesel,Individual,Automatic,First Owner,21.5,1498,108.5,5\\nMaruti,2015,549000,90000,Diesel,Individual,Manual,First Owner,20.77,1248,88.76,7\\nAudi,2018,3000000,20000,Diesel,Individual,Automatic,First Owner,20.38,1968,143,5\\nToyota,2015,1200000,61000,Diesel,Individual,Manual,First Owner,12.99,2494,100.6,7\\nRenault,2012,570000,100000,Diesel,Individual,Manual,Second Owner,21.8,1461,78,5\\nMahindra,2017,800000,60000,Diesel,Individual,Manual,Second Owner,16.55,2498,105,6\\nHyundai,2009,375000,100000,Diesel,Individual,Manual,First Owner,18.1,1493,110,5\\nMahindra,2009,300000,170000,Diesel,Individual,Manual,Third Owner,13.6,2523,63,7\\nToyota,2013,350000,100000,Petrol,Individual,Manual,Second Owner,16.78,1496,88.73,5\\nMahindra,2011,400000,120000,Diesel,Individual,Manual,Second Owner,13.6,2523,63,7\\nVolkswagen,2015,434999,50000,Diesel,Individual,Manual,First Owner,20.14,1498,88.8,5\\nToyota,2012,200000,120000,Petrol,Individual,Manual,Second Owner,,,,\\nMaruti,2015,260000,25000,Petrol,Individual,Manual,First Owner,22.74,796,47.3,5\\nMaruti,2013,450000,24019,Diesel,Individual,Manual,First Owner,22.9,1248,74,5\\nHyundai,2013,459999,80000,Diesel,Individual,Manual,Second Owner,22.32,1582,126.32,5\\nMaruti,2011,210000,100000,Diesel,Individual,Manual,Second Owner,21.1,1248,73.9,5\\nMaruti,2015,540000,93000,Petrol,Individual,Manual,Second Owner,20.85,1197,83.14,5\\nMaruti,2017,710000,50000,Diesel,Individual,Manual,First Owner,24.52,1248,88.5,7\\nMaruti,2018,285000,22000,Petrol,Individual,Manual,First Owner,24.7,796,47.3,5\\nHyundai,2019,990000,19600,Diesel,Individual,Manual,First Owner,22.1,1396,88.7,5\\nTata,2017,362000,104000,Petrol,Individual,Manual,First Owner,15.64,1193,64.1,5\\nFord,2017,880000,33000,Diesel,Individual,Manual,First Owner,23,1498,98.96,5\\nMahindra,2017,700000,60000,Diesel,Individual,Manual,First Owner,18.49,1493,100,7\\nMahindra,2016,600000,60000,Diesel,Individual,Manual,First Owner,15.96,2523,63,9\\nNissan,2015,700000,40000,Petrol,Individual,Manual,First Owner,13.24,1598,102.5,5\\nTata,2016,400000,60000,Diesel,Individual,Manual,First Owner,27.28,1047,69,5\\nHyundai,2010,165000,80000,LPG,Individual,Manual,First Owner,13.2,1495,93.7,5\\nToyota,2007,350000,376412,Diesel,Individual,Manual,Second Owner,12.8,2494,102,8\\nMaruti,2014,425000,80000,Petrol,Individual,Manual,Third Owner,16.02,1373,93.7,7\\nHyundai,2012,180000,70000,Petrol,Individual,Manual,First Owner,17.92,1086,62.1,5\\nMaruti,2012,170000,90000,Petrol,Individual,Manual,Third Owner,20.92,998,67.1,5\\nMahindra,2014,370000,183000,Diesel,Individual,Manual,First Owner,15.96,2523,63,9\\nMaruti,2018,800000,27000,Diesel,Individual,Manual,First Owner,24.3,1248,88.5,5\\nFord,2017,900000,35000,Diesel,Individual,Manual,First Owner,23,1498,98.96,5\\nMaruti,2013,390000,120000,Diesel,Individual,Manual,First Owner,22.9,1248,74,5\\nMaruti,2014,445000,80000,Diesel,Individual,Manual,Second Owner,23.4,1248,74,5\\nMaruti,2014,459999,70000,Diesel,Individual,Manual,Fourth & Above Owner,23.4,1248,74,5\\nMaruti,2013,275000,55000,LPG,Individual,Manual,First Owner,14.4,998,61.7,5\\nMaruti,2009,200000,120000,Diesel,Individual,Manual,Second Owner,21.1,1248,73.9,5\\nMaruti,2012,350000,72000,Petrol,Individual,Manual,Second Owner,17.5,1197,85.8,5\\nTata,2007,95000,120000,Diesel,Individual,Manual,Second Owner,12,2092,127,7\\nToyota,2014,550000,250000,Diesel,Individual,Manual,First Owner,23.59,1364,67.04,5\\nChevrolet,2016,900000,100000,Diesel,Individual,Manual,First Owner,13.58,2499,72.4,9\\nTata,2013,350000,120000,Diesel,Individual,Manual,Second Owner,15.3,2956,83.83,7\\nNissan,2015,325000,50000,Petrol,Individual,Automatic,First Owner,19.34,1198,76,5\\nHyundai,2014,455999,32000,Petrol,Individual,Manual,First Owner,18.9,1197,82,5\\nMaruti,2008,129000,60000,Petrol,Individual,Manual,First Owner,19.7,796,46.3,5\\nMaruti,2017,254000,40000,Petrol,Individual,Manual,First Owner,24.7,796,47.3,5\\nFord,2014,570000,48000,Diesel,Individual,Manual,First Owner,21.7,1498,98.96,5\\nNissan,2018,840000,30000,Diesel,Individual,Manual,First Owner,19.87,1461,83.14,5\\nTata,2010,235000,100000,Diesel,Individual,Manual,Second Owner,13.93,2179,138.1,7\\nMahindra,2016,700000,50000,Diesel,Individual,Manual,First Owner,18.49,1493,100,7\\nHyundai,2010,140000,40000,Petrol,Individual,Manual,Second Owner,,,,\\nHyundai,2018,528000,5000,Petrol,Individual,Manual,First Owner,18.9,1197,81.86,5\\nJeep,2017,1500000,12000,Diesel,Individual,Manual,First Owner,17.1,1956,170,5\\nMahindra,2016,560000,72000,Diesel,Individual,Manual,First Owner,15.96,2523,63,9\\nMahindra,2016,600000,70000,Diesel,Individual,Manual,First Owner,15.96,2523,63,9\\nChevrolet,2007,102000,50000,Petrol,Individual,Manual,Second Owner,15.26,1150,74.9,5\\nMahindra,2014,750000,70000,Diesel,Individual,Manual,Second Owner,15.1,2179,140,7\\nChevrolet,2010,148000,70000,Petrol,Individual,Manual,Third Owner,14.7,1150,76,5\\nMaruti,2015,650000,50000,Petrol,Individual,Manual,First Owner,21.4,1197,83.1,5\\nVolkswagen,2012,310000,40000,Petrol,Individual,Manual,First Owner,16.47,1198,73.9,5\\nHyundai,2014,480000,30000,Petrol,Individual,Manual,First Owner,19.1,1197,82,5\\nMaruti,2018,320000,15000,Petrol,Individual,Manual,First Owner,24.7,796,47.3,5\\nHonda,2015,750000,40000,Petrol,Individual,Manual,First Owner,17.4,1497,117.3,5\\nNissan,2017,370000,40000,Petrol,Individual,Manual,First Owner,19.49,1198,67.04,5\\nMaruti,2013,320000,60000,Petrol,Individual,Manual,Fourth & Above Owner,18.6,1197,85.8,5\\nMaruti,2013,420000,67000,Petrol,Individual,Manual,First Owner,18.6,1197,85.8,5\\nMaruti,2010,240000,60000,Petrol,Individual,Manual,Second Owner,17.5,1298,85.8,5\\nDatsun,2017,220000,60000,Petrol,Individual,Manual,First Owner,22.5,999,67,5\\nTata,2016,350000,30000,Petrol,Individual,Manual,First Owner,23.84,1199,84,5\\nHonda,2018,675000,40000,Diesel,Individual,Manual,First Owner,25.8,1498,98.6,5\\nToyota,2016,434999,50000,Petrol,Individual,Manual,Second Owner,18.16,1197,78.8,5\\nHonda,2006,125000,200000,Petrol,Individual,Automatic,Third Owner,13.1,1997,141.1,5\\nMahindra,2016,400000,14000,Petrol,Individual,Manual,Second Owner,18.15,1198,82,6\\nChevrolet,2015,425000,70000,Diesel,Individual,Manual,First Owner,13.58,2499,72.4,9\\nMaruti,2010,311000,94000,Diesel,Individual,Manual,Second Owner,21.1,1248,75,5\\nChevrolet,2015,509999,197000,Diesel,Individual,Manual,First Owner,13.58,2499,72.4,10\\nFord,2015,530000,79000,Diesel,Individual,Manual,Second Owner,25.83,1498,99,5\\nSkoda,2008,210000,120000,Diesel,Individual,Manual,Second Owner,18.7,1896,66,5\\nMahindra,2019,977000,30000,Diesel,Individual,Manual,First Owner,17.3,1497,121,8\\nMaruti,2018,440000,20000,Petrol,Individual,Manual,First Owner,20.51,998,67.04,5\\nMaruti,2018,440000,17000,Petrol,Individual,Manual,First Owner,20.51,998,67.04,5\\nHyundai,2018,655000,20000,Petrol,Individual,Manual,First Owner,18.6,1197,81.83,5\\nRenault,2016,295000,60000,Petrol,Individual,Manual,First Owner,25.17,799,53.3,5\\nHyundai,2018,655000,20000,Petrol,Individual,Manual,First Owner,18.6,1197,81.83,5\\nHyundai,2007,65000,70000,Petrol,Individual,Manual,Third Owner,15,1086,66.6,5\\nTata,2017,1200000,150000,Diesel,Individual,Manual,First Owner,17.6,2179,153.86,7\\nTata,2017,1251000,35000,Diesel,Individual,Manual,First Owner,17.6,2179,153.86,7\\nTata,2010,200000,60000,Diesel,Individual,Manual,First Owner,23.03,1396,69,5\\nHyundai,2016,750000,40000,Diesel,Individual,Manual,First Owner,21.19,1396,88.73,5\\nMaruti,2018,400000,60000,CNG,Individual,Manual,First Owner,26.6,998,58.16,5\\nHonda,2017,475000,57000,Petrol,Individual,Manual,First Owner,17.8,1198,86.7,5\\nTata,2012,110000,120000,Diesel,Individual,Manual,Second Owner,17.8,1405,70,5\\nRenault,2017,350000,30000,Petrol,Individual,Manual,First Owner,23.01,999,67,5\\nMaruti,2016,450000,175000,Diesel,Individual,Manual,First Owner,23.4,1248,74,5\\nTata,2010,150000,90000,Diesel,Individual,Manual,First Owner,17,1405,70,5\\nTata,2009,80000,110000,Diesel,Individual,Manual,Second Owner,17.2,1396,53.5,5\\nHyundai,2015,430000,35000,Petrol,Individual,Manual,Second Owner,18.6,1197,81.83,5\\nToyota,2017,1450000,81000,Diesel,Individual,Manual,First Owner,13.68,2393,147.8,7\\nChevrolet,2011,360000,100000,Diesel,Individual,Manual,First Owner,18.3,1991,147.9,5\\nTata,2017,1445000,60000,Diesel,Individual,Automatic,First Owner,17.6,2179,153.86,7\\nHonda,2016,670000,60000,Diesel,Individual,Manual,First Owner,26,1498,98.6,5\\nMercedes-Benz,2016,2000000,70000,Petrol,Individual,Automatic,First Owner,13.7,1991,183,5\\nMaruti,2010,175000,83000,Petrol,Individual,Manual,Second Owner,,,,\\nHonda,2015,440000,50000,Diesel,Individual,Manual,First Owner,25.8,1498,98.6,5\\nHyundai,2012,254999,90000,Diesel,Individual,Manual,First Owner,23,1396,90,5\\nDatsun,2018,530000,65000,Petrol,Individual,Manual,First Owner,19.02,1198,67.05,7\\nMahindra,2016,890000,40000,Diesel,Individual,Manual,Second Owner,16,1997,140,7\\nVolkswagen,2013,280000,80000,Diesel,Individual,Manual,Second Owner,22.07,1199,73.9,5\\nMaruti,2017,725000,35000,Petrol,Individual,Automatic,First Owner,21.21,1197,81.8,5\\nMahindra,2016,700000,30000,Diesel,Individual,Manual,First Owner,18.49,1493,100,7\\nMaruti,2007,90000,70000,Petrol,Individual,Manual,First Owner,18.2,998,67.1,5\\nHyundai,2015,287000,100000,Petrol,Individual,Manual,Second Owner,19.81,1086,68.05,5\\nHyundai,2018,1380000,55000,Petrol,Individual,Automatic,First Owner,14.8,1591,121.3,5\\nToyota,2013,750000,80000,Diesel,Individual,Manual,Second Owner,12.99,2494,100.6,7\\nHyundai,2016,650000,40000,Petrol,Individual,Manual,First Owner,17.43,1396,105.5,5\\nMaruti,2013,240000,108916,Petrol,Individual,Manual,Second Owner,20.51,998,67.04,5\\nHyundai,2013,290000,40000,Petrol,Individual,Manual,Second Owner,21.1,814,55.2,5\\nHyundai,2014,229999,80000,Petrol,Individual,Manual,First Owner,21.1,814,55.2,5\\nHonda,2016,1000000,50000,Diesel,Individual,Manual,Second Owner,26,1498,98.6,5\\nHyundai,2012,200000,90000,Petrol,Individual,Manual,Second Owner,17.92,1086,62.1,5\\nMaruti,2004,90000,70000,Petrol,Individual,Manual,Fourth & Above Owner,19.7,796,46.3,5\\nHyundai,2012,330000,90000,Diesel,Individual,Manual,First Owner,23,1396,90,5\\nMaruti,2009,200000,70000,Diesel,Individual,Manual,First Owner,21.1,1248,73.9,5\\nMahindra,2018,420000,31000,Diesel,Individual,Manual,First Owner,25.32,1198,77,6\\nMaruti,2009,260000,120000,Diesel,Individual,Manual,Second Owner,19.3,1248,73.9,5\\nHyundai,2016,590000,40000,Petrol,Individual,Manual,First Owner,18.6,1197,81.83,5\\nMaruti,2015,545000,180000,Diesel,Individual,Manual,First Owner,25.2,1248,74,5\\nMaruti,2011,210000,90000,Petrol,Individual,Manual,Second Owner,18.9,998,67.1,5\\nHonda,2008,185000,110000,Petrol,Individual,Manual,Second Owner,17.7,1497,78,5\\nMaruti,2006,125000,59000,Petrol,Individual,Manual,Second Owner,18.9,998,67.1,5\\nHyundai,2014,280000,60000,Petrol,Individual,Manual,Second Owner,21.1,814,55.2,5\\nHyundai,2005,99000,89500,Petrol,Individual,Manual,First Owner,,,,\\nMaruti,2005,98000,70000,Petrol,Individual,Manual,Second Owner,18.9,998,67.1,5\\nTata,2009,100000,190000,Diesel,Individual,Manual,First Owner,17,1405,71,5\\nMahindra,2013,250000,180000,Diesel,Individual,Manual,First Owner,20.8,1461,64.1,5\\nToyota,2010,750000,150000,Diesel,Individual,Manual,Second Owner,11.5,2982,171,7\\nChevrolet,2007,160000,130000,Diesel,Individual,Manual,Second Owner,16.52,1991,123.7,5\\nHyundai,2013,509999,120000,Diesel,Individual,Automatic,Second Owner,22.32,1582,126.3,5\\nTata,2009,95000,80000,Diesel,Individual,Manual,Second Owner,17.88,1396,52.8,5\\nHyundai,2014,525000,80000,Diesel,Individual,Manual,Second Owner,22.32,1582,126.32,5\\nDatsun,2017,278000,20000,Petrol,Individual,Manual,First Owner,22.5,999,67,5\\nMaruti,1997,50000,60000,Petrol,Individual,Manual,Second Owner,16.1,796,37,4\\nVolkswagen,2011,254999,120000,Diesel,Individual,Manual,Third Owner,22.07,1199,73.9,5\\nMaruti,2019,675000,10000,Petrol,Individual,Manual,First Owner,21.21,1197,81.8,5\\nMaruti,2016,600000,147000,Diesel,Individual,Manual,Second Owner,26.59,1248,74,5\\nMaruti,2018,950000,51000,Diesel,Individual,Manual,First Owner,25.1,1248,88.5,5\\nHonda,2007,229999,60000,Petrol,Individual,Manual,Third Owner,17.7,1497,78,5\\nToyota,2009,600000,220000,Diesel,Individual,Manual,First Owner,12.8,2494,102,8\\nMaruti,2017,330000,20000,Petrol,Individual,Manual,First Owner,24.7,796,47.3,5\\nMaruti,2017,350000,40000,Petrol,Individual,Manual,First Owner,23.95,998,67.05,5\\nVolkswagen,2016,560000,35000,Petrol,Individual,Manual,First Owner,16.2,1199,74,5\\nMaruti,2017,440000,30000,Petrol,Individual,Manual,First Owner,20.51,998,67.04,5\\nMaruti,2011,220000,90000,Petrol,Individual,Manual,Second Owner,19,998,66.1,5\\nMaruti,2017,750000,110000,Diesel,Individual,Manual,Second Owner,28.4,1248,74.02,5\\nMahindra,2015,800000,140000,Diesel,Individual,Manual,First Owner,15.1,2179,140,7\\nTata,2007,59259,104000,Diesel,Individual,Manual,Second Owner,17.2,1396,53.5,5\\nMaruti,2018,740000,9000,Petrol,Individual,Automatic,First Owner,21.4,1197,83.1,5\\nMaruti,2019,570000,19000,Petrol,Individual,Automatic,Second Owner,20.89,1197,81.8,5\\nMaruti,2017,430000,20000,Petrol,Individual,Automatic,First Owner,20.51,998,67,5\\nMaruti,2016,800000,70000,Diesel,Individual,Manual,First Owner,24.3,1248,88.5,5\\nHyundai,2015,450000,53000,Diesel,Individual,Manual,First Owner,24,1120,70,5\\nMaruti,2013,420000,105000,Diesel,Individual,Manual,Second Owner,23.4,1248,74,5\\nMahindra,2015,750000,16000,Diesel,Individual,Manual,First Owner,18.06,2523,63,7\\nMaruti,2019,780000,7200,Petrol,Individual,Manual,First Owner,21.1,998,100.5,5\\nVolkswagen,2011,320000,77000,Diesel,Individual,Manual,Second Owner,22.07,1199,73.9,5\\nMahindra,2017,690000,40000,Diesel,Individual,Manual,First Owner,25.32,1198,77,6\\nMaruti,2012,375000,70000,Diesel,Individual,Manual,Second Owner,19.3,1248,73.9,5\\nFord,2017,620000,50000,Petrol,Individual,Manual,First Owner,18.12,1196,86.8,5\\nHyundai,2015,300000,85000,LPG,Individual,Manual,First Owner,13.45,1086,62.1,5\\nMaruti,2016,370000,58000,Petrol,Individual,Manual,Second Owner,15.37,1196,73,7\\nMahindra,2013,770000,85000,Diesel,Individual,Manual,First Owner,16.55,2498,105,7\\nHyundai,2014,500000,65000,Petrol,Individual,Manual,First Owner,19.1,1197,81.86,5\\nMahindra,2017,450000,120000,Diesel,Individual,Manual,First Owner,25.32,1198,77,6\\nHyundai,2013,195000,50000,Petrol,Individual,Manual,Second Owner,17.92,1086,62.1,5\\nMaruti,2018,472000,30000,Petrol,Individual,Automatic,First Owner,20.51,998,67,5\\nMaruti,2014,250000,58000,Petrol,Individual,Manual,Second Owner,23.95,998,67.05,5\\nChevrolet,2011,165000,70000,Diesel,Individual,Manual,Second Owner,25.44,936,57.6,5\\nTata,2018,525000,110000,Diesel,Individual,Manual,Second Owner,20.65,1248,88.7,5\\nMaruti,2003,145000,65000,Petrol,Individual,Manual,Third Owner,18.9,998,67.1,5\\nTata,2013,325000,100000,Diesel,Individual,Manual,First Owner,22.3,1248,88.8,5\\nMahindra,2017,660000,60000,Diesel,Individual,Manual,Second Owner,16.5,1493,70,7\\nFord,2014,310000,90000,Diesel,Individual,Manual,Second Owner,19.68,1399,67,5\\nMahindra,2008,250000,200000,Diesel,Individual,Manual,First Owner,13.6,2523,63,7\\nFord,2014,330000,100000,Diesel,Individual,Manual,Second Owner,19.68,1399,67,5\\nFord,2012,250000,80000,Diesel,Individual,Manual,Second Owner,20,1399,68,5\\nMahindra,2017,650000,60000,Diesel,Individual,Automatic,First Owner,17.45,1493,100,7\\nMaruti,2016,305000,40000,Petrol,Individual,Manual,First Owner,23.95,998,67.05,5\\nMaruti,2015,600000,50000,Diesel,Individual,Manual,First Owner,26.21,1248,88.5,5\\nMaruti,2015,280000,110000,Petrol,Individual,Manual,First Owner,20.51,998,67.04,5\\nTata,2011,153000,50000,Diesel,Individual,Manual,Second Owner,23.57,1396,70,5\\nMahindra,2018,700000,30000,Diesel,Individual,Manual,First Owner,18.49,1493,100,7\\nRenault,2017,325000,40000,Petrol,Individual,Manual,First Owner,25.17,799,53.3,5\\nMaruti,2016,305000,40000,Petrol,Individual,Manual,First Owner,23.95,998,67.05,5\\nMaruti,2006,155000,70000,Petrol,Individual,Manual,Second Owner,16.1,796,37,4\\nMaruti,2012,235000,80000,Petrol,Individual,Manual,Third Owner,20.92,998,67.1,5\\nTata,2005,60000,100000,Diesel,Individual,Manual,Fourth & Above Owner,,,,\\nMaruti,2016,500000,15000,Petrol,Individual,Manual,First Owner,20.4,1197,81.8,5\\nMahindra,2004,120000,150000,Diesel,Individual,Manual,Second Owner,13.6,2523,63,7\\nMaruti,2009,155000,63000,Petrol,Individual,Manual,Third Owner,,,,\\nSkoda,2016,675000,88000,Diesel,Dealer,Automatic,First Owner,21.66,1498,103.52,5\\nToyota,2014,950000,80000,Diesel,Dealer,Manual,First Owner,12.99,2494,100.6,7\\nMahindra,2018,1051000,59865,Diesel,Dealer,Manual,First Owner,15.1,2179,152.87,7\\nVolkswagen,2016,591000,60000,Diesel,Dealer,Manual,First Owner,21.49,1498,108.5,5\\nHyundai,2015,585000,72000,Diesel,Dealer,Manual,First Owner,22.54,1396,88.73,5\\nHonda,2017,1025000,68140,Petrol,Dealer,Automatic,First Owner,18,1497,117.6,5\\nMaruti,2014,450000,53190,Diesel,Dealer,Manual,First Owner,28.4,1248,74,5\\nHyundai,2014,484999,70100,Diesel,Dealer,Manual,First Owner,22.54,1396,88.73,5\\nHonda,2018,650000,47725,Diesel,Dealer,Manual,First Owner,27.3,1498,98.6,5\\nMaruti,2014,434999,70195,Diesel,Dealer,Manual,Second Owner,28.4,1248,74.02,5\\nFord,2011,195000,77395,Diesel,Dealer,Manual,Second Owner,20,1399,68,5\\nMahindra,2019,1000000,17000,Diesel,Dealer,Manual,First Owner,17.3,1497,121,8\\nHyundai,2013,650000,64000,Diesel,Dealer,Automatic,First Owner,14.62,1498,113.42,5\\nChevrolet,2014,190000,74321,Diesel,Dealer,Manual,First Owner,25.44,936,56.3,5\\nMaruti,2013,409999,80235,Diesel,Dealer,Manual,Second Owner,28.4,1248,74.02,5\\nHyundai,2016,1050000,77150,Diesel,Dealer,Automatic,First Owner,17.01,1582,126.2,5\\nVolkswagen,2015,651000,69000,Diesel,Dealer,Automatic,First Owner,22.15,1498,108.6,5\\nMaruti,2015,650000,57000,Diesel,Dealer,Manual,First Owner,23.65,1248,88.5,5\\nSkoda,2017,750000,89000,Diesel,Dealer,Manual,First Owner,21.14,1498,103.6,5\\nVolkswagen,2012,799000,61100,Diesel,Dealer,Automatic,First Owner,14.3,1968,140,5\\nSkoda,2010,355000,116000,Diesel,Individual,Manual,First Owner,18.7,1896,66,5\\nHyundai,2015,600000,80000,Diesel,Individual,Manual,First Owner,23.9,1582,126.32,5\\nMaruti,2018,685000,26000,Diesel,Individual,Manual,First Owner,28.4,1248,74,5\\nMaruti,2018,509999,100000,Diesel,Individual,Manual,First Owner,28.4,1248,74,5\\nMaruti,2012,150000,82300,CNG,Individual,Manual,Second Owner,26.83,796,38.4,5\\nMaruti,2017,650000,82050,Diesel,Individual,Manual,First Owner,19.3,1248,73.9,5\\nToyota,2012,400000,74500,Diesel,Individual,Manual,First Owner,,,,\\nMahindra,2012,675000,120000,Diesel,Individual,Manual,Second Owner,15.1,2179,140,7\\nRenault,2018,319000,30000,Petrol,Individual,Automatic,First Owner,24.04,999,67,5\\nHonda,2019,640000,6000,Petrol,Individual,Manual,First Owner,19.5,1199,88.76,5\\nHyundai,2017,650000,30000,Petrol,Individual,Manual,First Owner,18.6,1197,81.83,5\\nMaruti,2015,650000,70000,Diesel,Individual,Manual,First Owner,20.77,1248,88.76,7\\nMaruti,2010,155000,70000,CNG,Individual,Manual,Second Owner,26.83,796,38.4,5\\nMaruti,2015,650000,70000,Diesel,Individual,Manual,First Owner,20.77,1248,88.76,7\\nMaruti,2008,175000,120000,Diesel,Individual,Manual,First Owner,17.8,1248,75,5\\nHyundai,2014,375000,76000,Diesel,Individual,Manual,Third Owner,24,1120,70,5\\nHyundai,2014,430000,80000,Diesel,Individual,Manual,Second Owner,24,1120,70,5\\nTata,2008,65000,110000,Diesel,Individual,Manual,Second Owner,17.2,1396,53.5,5\\nHyundai,2009,150000,70000,Petrol,Individual,Manual,Third Owner,13.2,1495,94,5\\nHyundai,2019,620000,13000,Petrol,Individual,Manual,First Owner,17.19,1197,81.86,5\\nFord,2013,250000,60000,Petrol,Individual,Manual,Second Owner,14.09,1596,99.6,5\\nMaruti,2011,275000,165000,Diesel,Individual,Manual,First Owner,21.1,1248,73.9,5\\nChevrolet,2013,454000,120000,Diesel,Individual,Manual,Second Owner,13.58,2499,72.4,10\\nMahindra,2017,600000,30000,Diesel,Individual,Manual,Second Owner,18.49,1493,100,7\\nVolkswagen,2011,400000,100000,Diesel,Individual,Manual,Second Owner,20.54,1598,103.6,5\\nMahindra,2007,180000,187000,Diesel,Individual,Manual,Second Owner,19.2,1461,65,5\\nMaruti,2016,750000,70000,Diesel,Individual,Manual,First Owner,24.3,1248,88.5,5\\nMaruti,2016,500000,40000,Petrol,Individual,Manual,First Owner,20.4,1197,81.8,5\\nAudi,2017,2825000,22000,Diesel,Dealer,Automatic,First Owner,15.73,1968,174.33,5\\nHonda,2020,2125000,5500,Diesel,Dealer,Manual,First Owner,26.8,1597,118,5\\nBMW,2018,3350000,18000,Diesel,Dealer,Automatic,First Owner,19.62,1998,190,5\\nHonda,2019,840000,1500,Petrol,Individual,Automatic,First Owner,18.2,1199,88.7,5\\nHonda,2015,1000000,46000,Diesel,Individual,Manual,First Owner,24.5,1498,98.6,7\\nMaruti,2017,740000,24400,Diesel,Individual,Manual,First Owner,27.39,1248,74,5\\nVolkswagen,2018,1290000,29899,Diesel,Dealer,Automatic,First Owner,22.15,1498,108.6,5\\nToyota,2018,1800000,20000,Diesel,Dealer,Automatic,First Owner,11.36,2755,171.5,8\\nHyundai,2020,775000,2000,Petrol,Dealer,Manual,First Owner,20.7,1197,81.86,5\\nRenault,2017,695000,34000,Diesel,Dealer,Manual,First Owner,21.04,1461,83.8,8\\nHyundai,2018,730000,31000,Petrol,Dealer,Automatic,First Owner,17.4,1197,81.86,5\\nChevrolet,2016,1295000,46000,Diesel,Dealer,Automatic,Second Owner,11.45,2776,197.2,7\\nIsuzu,2016,1160000,121000,Diesel,Dealer,Automatic,First Owner,12.08,2999,161,7\\nMercedes-Benz,2017,3300000,60000,Diesel,Dealer,Automatic,First Owner,0,1950,194,5\\nHyundai,2018,540000,7000,Petrol,Dealer,Manual,First Owner,20.3,1086,68,5\\nMaruti,2016,434999,10000,Petrol,Dealer,Automatic,First Owner,23.1,998,67.04,5\\nMercedes-Benz,2018,4600000,6000,Diesel,Dealer,Automatic,First Owner,17.9,2143,170,5\\nForce,2018,910000,20000,Diesel,Dealer,Manual,First Owner,17,2596,80.8,5\\nHyundai,2015,850000,59235,Diesel,Dealer,Manual,First Owner,19.67,1582,126.2,5\\nBMW,2019,5800000,21000,Diesel,Dealer,Automatic,First Owner,16.78,1995,190,5\\nHonda,2014,520000,48000,Diesel,Individual,Manual,First Owner,25.8,1498,98.6,5\\nMahindra,2018,650000,114000,Diesel,Individual,Manual,First Owner,14.95,2489,93.7,7\\nMaruti,2011,430000,120000,Diesel,Individual,Manual,Second Owner,19.3,1248,73.9,5\\nHyundai,2013,360000,144000,Diesel,Individual,Manual,First Owner,21.9,1396,88.8,5\\nHyundai,2013,350000,144000,Diesel,Individual,Manual,First Owner,21.9,1396,88.8,5\\nMaruti,2016,791000,190000,Diesel,Individual,Manual,First Owner,24.3,1248,88.5,5\\nToyota,2015,950000,190000,Diesel,Individual,Manual,Second Owner,12.99,2494,100.6,7\\nMaruti,2019,690000,20000,Diesel,Individual,Manual,First Owner,28.4,1248,74,5\\nHyundai,2017,860000,40000,Diesel,Individual,Manual,Second Owner,22,1582,126.2,5\\nMaruti,2012,371000,100000,Diesel,Individual,Manual,First Owner,19.3,1248,73.9,5\\nTata,2008,45000,60000,Diesel,Individual,Manual,Second Owner,16.8,1405,68,5\\nFord,2006,55000,201000,Diesel,Individual,Manual,First Owner,17.8,1399,68,5\\nVolkswagen,2011,240000,110000,Diesel,Individual,Manual,First Owner,20.54,1598,103.6,5\\nMaruti,2014,495000,77215,Diesel,Individual,Manual,Second Owner,25.2,1248,74,5\\nMaruti,2005,170000,50000,Petrol,Individual,Manual,First Owner,,,,\\nHonda,2015,671000,48228,Petrol,Dealer,Manual,First Owner,18.7,1199,88.7,5\\nMaruti,2017,693000,58559,Diesel,Dealer,Manual,First Owner,25.2,1248,74,5\\nMaruti,2010,352000,72179,Diesel,Dealer,Manual,First Owner,,,,\\nHonda,2016,802999,50856,Diesel,Dealer,Manual,First Owner,26,1498,98.6,5\\nHonda,2017,890000,18300,Petrol,Individual,Manual,First Owner,17.8,1497,117.3,5\\nMaruti,2015,495000,59292,Diesel,Dealer,Manual,First Owner,28.4,1248,74,5\\nMaruti,2018,545000,10000,Petrol,Dealer,Automatic,First Owner,23.1,998,67.04,5\\nMaruti,2018,775000,21147,Petrol,Dealer,Automatic,First Owner,21.4,1197,83.1,5\\nHonda,2017,925000,69000,Diesel,Dealer,Manual,First Owner,25.6,1498,97.9,5\\nMahindra,2019,1450000,10000,Diesel,Individual,Manual,First Owner,17.3,1497,121,7\\nMaruti,2018,790000,16000,Diesel,Dealer,Automatic,First Owner,28.4,1248,74,5\\nToyota,2017,1789999,36000,Diesel,Dealer,Manual,First Owner,13.68,2393,147.8,8\\nMaruti,2017,620000,37000,Petrol,Dealer,Manual,First Owner,21.01,1197,81.8,5\\nMaruti,2016,375000,61173,Diesel,Dealer,Manual,First Owner,27.62,793,47,5\\nMaruti,2016,595000,77321,Diesel,Dealer,Manual,First Owner,,,,\\nAudi,2016,2450000,30000,Diesel,Dealer,Automatic,First Owner,18.25,1968,187.74,5\\nMahindra,2014,850000,75000,Diesel,Dealer,Manual,First Owner,15.1,2179,140,7\\nMaruti,2017,750000,51000,Petrol,Dealer,Automatic,First Owner,19.56,1197,81.8,5\\nMaruti,2018,775000,17000,Petrol,Dealer,Manual,First Owner,21.01,1197,81.8,5\\nMaruti,2008,260000,100000,Diesel,Individual,Manual,Second Owner,17.8,1248,75,5\\nAudi,2013,2000000,35000,Diesel,Individual,Automatic,Second Owner,17.68,1968,174.33,5\\nHyundai,2017,300000,10000,Petrol,Individual,Manual,First Owner,21.1,814,55.2,5\\nMahindra,2016,1300000,91567,Diesel,Individual,Automatic,Third Owner,16,2179,140,7\\nMaruti,2017,380000,50000,Petrol,Individual,Manual,First Owner,23.1,998,67.04,5\\nHyundai,2017,480000,60000,Petrol,Individual,Manual,First Owner,18.9,1197,81.86,5\\nMaruti,2016,240000,35000,Petrol,Individual,Manual,Second Owner,22.74,796,47.3,5\\nHyundai,2014,500000,33400,Petrol,Individual,Manual,First Owner,17.43,1396,105.5,5\\nMaruti,2015,420000,36000,Petrol,Individual,Manual,First Owner,20.4,1197,83.11,5\\nFord,2011,130000,180000,Diesel,Individual,Manual,Second Owner,20,1399,68,5\\nMaruti,2012,110000,80000,Petrol,Individual,Manual,First Owner,20.92,998,67.1,5\\nMaruti,2007,120000,120000,Petrol,Individual,Manual,Second Owner,19.7,796,46.3,5\\nMaruti,2017,700000,80000,Diesel,Individual,Automatic,First Owner,28.4,1248,74.02,5\\nMaruti,2018,550000,120000,Diesel,Individual,Manual,First Owner,28.4,1248,74.02,5\\nTata,2014,190000,110000,Diesel,Individual,Manual,Second Owner,19.09,1405,69.01,5\\nToyota,2018,665000,70000,Diesel,Individual,Manual,First Owner,23.59,1364,67.04,5\\nMahindra,2014,445000,120000,Diesel,Individual,Manual,Second Owner,14.95,2489,93.7,7\\nHyundai,2012,340000,92686,Diesel,Dealer,Manual,Second Owner,21.9,1396,88.76,5\\nHyundai,2009,330000,180000,Diesel,Individual,Manual,First Owner,13.6,1991,142,5\\nTata,2012,270000,80000,Diesel,Individual,Manual,First Owner,21.02,1248,88.76,5\\nMahindra,2015,1044999,70000,Diesel,Individual,Automatic,First Owner,16,2179,140,7\\nMaruti,2009,279000,117000,Diesel,Individual,Manual,First Owner,17.8,1248,75,5\\nFord,2018,620000,15000,Petrol,Individual,Manual,First Owner,20.4,1194,94.93,5\\nSkoda,2007,250000,100000,Diesel,Individual,Manual,Second Owner,16.6,1896,122.4,5\\nHyundai,2012,475000,83000,Petrol,Individual,Automatic,First Owner,15.74,1591,121.3,5\\nChevrolet,2016,750000,67600,Diesel,Individual,Automatic,First Owner,14.81,1998,163.7,5\\nMitsubishi,2015,1250000,160000,Diesel,Individual,Manual,Second Owner,13.5,2477,178,7\\nHyundai,2014,250000,80000,Petrol,Individual,Manual,Second Owner,21.1,814,55.2,5\\nHonda,2013,445000,100000,Diesel,Individual,Manual,First Owner,25.8,1498,98.6,5\\nVolkswagen,2010,400000,100000,Diesel,Individual,Manual,First Owner,15,1896,105,5\\nHyundai,2010,350000,90000,Diesel,Individual,Manual,Second Owner,23,1396,90,5\\nSkoda,2012,295000,140000,Diesel,Individual,Manual,First Owner,20.5,1598,103.5,5\\nMaruti,2018,600000,25000,Petrol,Individual,Manual,First Owner,21.21,1197,81.8,5\\nToyota,2018,1650000,20000,Diesel,Individual,Manual,First Owner,13.68,2393,147.8,8\\nMaruti,2012,100000,30000,Petrol,Individual,Manual,First Owner,16.1,796,37,4\\nFord,2018,690000,13000,Petrol,Individual,Manual,First Owner,20.4,1194,94.93,5\\nHyundai,2018,710000,42000,Petrol,Individual,Manual,First Owner,18.6,1197,81.83,5\\nHyundai,2018,350000,10000,Petrol,Individual,Manual,Second Owner,20.3,998,68.05,5\\nMaruti,2012,220000,13000,Petrol,Individual,Manual,First Owner,20.92,998,67.1,5\\nRenault,2019,700000,6500,Petrol,Individual,Manual,First Owner,20,999,72,7\\nHyundai,2013,198000,49500,Petrol,Individual,Manual,Second Owner,21.1,814,55.2,5\\nHyundai,2011,350000,50000,Diesel,Individual,Manual,First Owner,23,1396,90,5\\nTata,2011,210000,175000,Diesel,Individual,Manual,Second Owner,23.57,1396,70,5\\nTata,2011,210000,175000,Diesel,Individual,Manual,Second Owner,23.03,1396,69,5\\nHyundai,2003,70000,120000,Petrol,Individual,Manual,Third Owner,,,,\\nMaruti,2014,375000,110000,Diesel,Individual,Manual,Third Owner,23.2,1248,73.94,5\\nMaruti,2012,380000,112048,Petrol,Individual,Manual,Second Owner,17.5,1298,85.8,5\\nHonda,2010,360000,98000,Petrol,Individual,Manual,Third Owner,17,1497,118,5\\nMahindra,2015,944999,41000,Diesel,Individual,Manual,First Owner,15.1,2179,140,7\\nChevrolet,2016,620000,120000,Diesel,Individual,Manual,First Owner,13.58,2499,72.4,10\\nToyota,2018,780000,116000,Diesel,Individual,Manual,First Owner,23.59,1364,67.05,5\\nMaruti,2020,445000,1000,Petrol,Individual,Manual,First Owner,21.21,1197,81.8,5\\nHyundai,2018,575000,15000,Petrol,Individual,Automatic,First Owner,17.36,1197,81.86,5\\nMaruti,2018,975000,5000,Diesel,Individual,Manual,First Owner,25.1,1248,88.5,5\\nTata,2019,450000,3500,Petrol,Individual,Manual,First Owner,23.84,1199,83.83,5\\nMaruti,2009,198000,91000,Petrol,Individual,Manual,Second Owner,,,,\\nFord,2017,495000,56000,Diesel,Individual,Manual,First Owner,25.83,1498,99,5\\nToyota,2013,830000,215000,Diesel,Individual,Manual,First Owner,12.99,2494,100,7\\nMahindra,2012,800000,40000,Diesel,Individual,Manual,First Owner,15.1,2179,140,7\\nMaruti,2010,300000,70000,Diesel,Individual,Manual,Third Owner,,,,\\nMaruti,2013,300000,120000,Diesel,Individual,Manual,Second Owner,23.2,1248,73.94,5\\nMahindra,2003,200000,120000,Diesel,Individual,Manual,Second Owner,10.5,2179,120,7\\nHonda,2017,480000,30400,Petrol,Dealer,Manual,First Owner,18.5,1198,86.8,5\\nHonda,2017,950000,24000,Diesel,Dealer,Manual,First Owner,21.9,1498,98.6,7\\nHonda,2017,840000,30646,Petrol,Dealer,Manual,First Owner,15.4,1497,117.3,7\\nHyundai,2017,800000,15000,Diesel,Individual,Manual,First Owner,23.9,1582,126.2,5\\nVolkswagen,2017,750000,50000,Diesel,Individual,Manual,First Owner,22.27,1498,108.6,5\\nHyundai,2017,254999,34000,Petrol,Individual,Manual,First Owner,21.1,814,55.2,5\\nMaruti,2016,725000,54000,Diesel,Individual,Manual,Second Owner,24.52,1248,88.5,7\\nMercedes-Benz,2016,1859000,40000,Diesel,Individual,Automatic,Second Owner,19.7,2143,134.1,5\\nChevrolet,2012,145000,120000,Petrol,Individual,Manual,First Owner,18.6,1199,79.4,5\\nTata,2018,750000,15000,Petrol,Individual,Manual,First Owner,17,1198,108.5,5\\nVolkswagen,2017,655000,50000,Diesel,Individual,Automatic,First Owner,22,1498,108.495,5\\nFord,2011,210000,84000,Diesel,Individual,Manual,Second Owner,20,1399,68,5\\nHonda,2011,450000,50000,Petrol,Individual,Manual,First Owner,17,1497,118,5\\nHyundai,2019,466000,25000,Petrol,Individual,Automatic,Fourth & Above Owner,20.3,1086,68,5\\nFord,2018,624000,14681,Diesel,Dealer,Manual,First Owner,,,,\\nFord,2015,580000,52000,Diesel,Individual,Manual,First Owner,25.83,1498,99,5\\nHyundai,2019,430000,18500,Petrol,Individual,Manual,First Owner,20.3,1086,68,5\\nTata,2012,155000,50000,Diesel,Individual,Manual,First Owner,23.03,1396,69,5\\nDatsun,2017,240000,35000,Petrol,Individual,Manual,First Owner,22.5,999,67,5\\nToyota,2016,540000,15500,Petrol,Individual,Manual,First Owner,16.78,1496,88.73,5\\nTata,2013,250000,120000,Diesel,Individual,Manual,First Owner,19.09,1396,69,5\\nTata,2012,260000,60000,Diesel,Individual,Manual,First Owner,25,1396,69,5\\nMahindra,2011,550000,80000,Diesel,Individual,Manual,Second Owner,12.05,2179,120,9\\nFord,2014,550000,43011,Petrol,Dealer,Manual,First Owner,18.88,999,123.37,5\\nRenault,2015,600000,136000,Diesel,Individual,Manual,First Owner,19.01,1461,108.45,5\\nFord,2017,550000,15000,Diesel,Individual,Manual,First Owner,25.83,1498,99,5\\nMahindra,2011,370000,110000,Diesel,Individual,Manual,Second Owner,13.6,2523,63,7\\nHyundai,2008,250000,100000,Petrol,Individual,Manual,Second Owner,19.81,1086,68.05,5\\nMaruti,2005,125000,70000,Petrol,Individual,Manual,Fourth & Above Owner,19.7,796,46.3,5\\nTata,2010,200000,110000,Diesel,Individual,Manual,First Owner,17,1405,71,5\\nHonda,2017,675000,127991,Diesel,Dealer,Manual,First Owner,25.5,1498,98.6,5\\nMitsubishi,1999,150000,198000,Diesel,Individual,Manual,Second Owner,14.8,1998,68,5\\nTata,2010,290000,65000,Petrol,Individual,Manual,First Owner,15.64,1193,64.1,5\\nMaruti,2002,95000,90000,Petrol,Individual,Manual,Third Owner,,,,\\nMaruti,2018,889000,20000,Diesel,Individual,Manual,First Owner,28.09,1248,88.5,5\\nVolkswagen,2016,400000,60000,Petrol,Individual,Manual,First Owner,17,1198,73.75,5\\nRenault,2018,390000,13120,Petrol,Individual,Manual,First Owner,25.17,799,53.3,5\\nJeep,2017,1550000,87500,Diesel,Individual,Manual,First Owner,17.1,1956,170,5\\nHyundai,2014,600000,125000,Diesel,Individual,Manual,First Owner,22.32,1582,126.32,5\\nHyundai,2018,800000,25000,Petrol,Individual,Automatic,First Owner,17.4,1197,81.86,5\\nMaruti,2013,600000,120000,Diesel,Individual,Manual,Third Owner,20.77,1248,88.8,7\\nHyundai,2015,795000,35000,Petrol,Individual,Manual,First Owner,17.01,1591,121.3,5\\nHyundai,2016,735000,25000,Diesel,Individual,Manual,First Owner,22.54,1396,88.73,5\\nSkoda,2005,250000,120000,Diesel,Individual,Manual,Third Owner,16.4,1896,90,5\\nRenault,2018,400000,25000,Petrol,Individual,Automatic,First Owner,24.04,999,67,5\\nHyundai,2005,130000,79000,Diesel,Individual,Manual,Second Owner,13.1,1493,82,5\\nRenault,2015,600000,125000,Diesel,Individual,Manual,First Owner,21.04,1461,83.8,8\\nMahindra,2014,395000,140000,Diesel,Individual,Manual,First Owner,14,2489,95,8\\nHyundai,2016,720000,80000,Diesel,Individual,Manual,First Owner,21.19,1396,88.73,5\\nHonda,2011,450000,110000,Petrol,Individual,Manual,Third Owner,16.8,1497,116.4,5\\nFord,2018,700000,25000,Petrol,Individual,Manual,First Owner,18.16,1196,86.8,5\\nHonda,2015,1000000,46000,Diesel,Individual,Manual,First Owner,24.5,1498,98.6,7\\nHyundai,2020,500000,1000,Petrol,Individual,Manual,First Owner,20.3,1086,68.07,5\\nMaruti,2007,125000,60000,Petrol,Individual,Manual,Second Owner,16.1,796,37,4\\nRenault,2015,690000,80000,Diesel,Individual,Manual,First Owner,21.04,1461,83.8,8\\nJeep,2017,1550000,120000,Diesel,Individual,Manual,First Owner,17.1,1956,170,5\\nTata,2013,170000,110000,Petrol,Individual,Manual,Second Owner,15.3,1193,65.3,5\\nFiat,2010,275000,110000,Diesel,Individual,Manual,Third Owner,20.4,1248,91.7,5\\nToyota,2007,500000,200000,Diesel,Individual,Manual,Third Owner,12.8,2494,102,8\\nVolkswagen,2013,950000,80000,Diesel,Individual,Manual,Second Owner,19.33,1968,138.1,5\\nMaruti,2019,802999,24000,Diesel,Individual,Manual,First Owner,28.4,1248,74.02,5\\nMaruti,2013,470000,150000,Diesel,Individual,Manual,First Owner,23.4,1248,74,5\\nRenault,2015,300000,60000,Petrol,Individual,Manual,First Owner,25.17,799,53.3,5\\nRenault,2014,600000,116000,Diesel,Individual,Manual,First Owner,19.01,1461,108.45,5\\nFord,2013,275000,104300,Diesel,Individual,Manual,First Owner,20,1399,68.1,5\\nMahindra,2018,700000,30000,Diesel,Individual,Manual,First Owner,25.32,1198,77,6\\nMercedes-Benz,2014,3250000,33000,Diesel,Individual,Automatic,First Owner,11.3,2987,254.8,7\\nVolkswagen,2020,800000,25000,Diesel,Individual,Manual,First Owner,21.66,1498,108.62,5\\nAudi,2014,2200000,60000,Diesel,Individual,Automatic,First Owner,17.68,1968,174.33,5\\nHyundai,2007,245000,121000,Diesel,Individual,Manual,Second Owner,18.1,1493,110,5\\nHyundai,2010,310000,120000,Diesel,Individual,Manual,Second Owner,16.8,1493,110,5\\nHyundai,2007,245000,120000,Diesel,Individual,Manual,Second Owner,18.1,1493,110,5\\nVolkswagen,2011,450000,110000,Petrol,Individual,Manual,First Owner,16.47,1198,73.9,5\\nVolkswagen,2013,850000,84000,Diesel,Individual,Automatic,Second Owner,16.96,1968,138.03,5\\nHonda,2004,325000,120000,Petrol,Individual,Automatic,Third Owner,10.1,2354,152,5\\nMaruti,2013,409999,100000,Diesel,Individual,Manual,Third Owner,22.9,1248,74,5\\nVolvo,2018,5500000,50000,Diesel,Individual,Automatic,First Owner,11.2,1969,235,5\\nHyundai,2015,1000000,73500,Diesel,Individual,Manual,First Owner,19.67,1582,126.2,5\\nHyundai,2016,590000,34000,Diesel,Individual,Manual,Second Owner,24.4,1120,71,5\\nNissan,2019,1200000,23000,Diesel,Individual,Manual,First Owner,20.45,1461,108.5,5\\nFord,2008,175000,163000,Diesel,Individual,Manual,Third Owner,17.8,1399,68,5\\nChevrolet,2011,300000,119000,Diesel,Individual,Manual,Second Owner,16.52,1991,123.7,5\\nToyota,2017,2175000,50000,Diesel,Individual,Automatic,First Owner,11.36,2755,171.5,7\\nHonda,2019,1110000,10500,Diesel,Individual,Manual,First Owner,25.6,1498,97.9,5\\nMitsubishi,2000,150000,280000,Diesel,Individual,Manual,Second Owner,14.8,1998,68,5\\nVolkswagen,2013,325000,155000,Diesel,Individual,Manual,Second Owner,20.54,1598,103.6,5\\nFord,2010,325000,163000,Diesel,Individual,Manual,First Owner,17.8,1399,68,5\\nHonda,2008,280000,75000,Petrol,Individual,Manual,First Owner,17.7,1497,78,5\\nMaruti,2008,160000,56000,Petrol,Individual,Manual,Third Owner,,,,\\nHonda,2016,765000,80000,Diesel,Individual,Manual,First Owner,26,1498,98.6,5\\nHonda,2014,640000,120000,Diesel,Individual,Manual,Second Owner,26,1498,98.6,5\\nTata,2007,65000,120000,Diesel,Individual,Manual,Third Owner,17.88,1396,52.8,5\\nSkoda,2007,195000,175000,Diesel,Individual,Manual,Second Owner,18.7,1896,66,5\\nMaruti,2017,295000,15000,Petrol,Individual,Manual,First Owner,24.7,796,47.3,5\\nMaruti,2012,625000,100000,Diesel,Individual,Manual,Second Owner,23.4,1248,74,5\\nMaruti,2009,160000,80000,Petrol,Individual,Manual,Second Owner,18.9,998,67.1,5\\nMaruti,2015,330000,84000,Petrol,Individual,Manual,Second Owner,23.1,998,67.04,5\\nFord,2010,180000,50000,Petrol,Individual,Manual,Second Owner,15.6,1196,70,5\\nFiat,2003,70000,50000,Petrol,Individual,Manual,Second Owner,,,,\\nMaruti,2012,150000,35000,Petrol,Individual,Manual,Second Owner,14,796,35,5\\nHyundai,2011,300000,30000,Petrol,Individual,Manual,First Owner,19.81,1086,68.05,5\\nHyundai,2018,730000,2388,Petrol,Individual,Manual,First Owner,18.6,1197,81.83,5\\nMaruti,2017,650000,16200,Diesel,Individual,Manual,First Owner,24.3,1248,88.5,5\\nMaruti,2019,330000,10000,CNG,Individual,Manual,Second Owner,33.44,796,40.3,4\\nMaruti,2019,366000,15000,Petrol,Individual,Manual,First Owner,23.95,998,67.1,5\\nHyundai,2019,1149000,5000,Petrol,Individual,Manual,First Owner,17,1591,121.3,5\\nDatsun,2016,150000,42000,Petrol,Individual,Manual,First Owner,20.63,1198,67,5\\nHyundai,2013,187000,120000,Petrol,Individual,Manual,Second Owner,17.92,1086,62.1,5\\nTata,2011,425000,60000,Diesel,Individual,Manual,Second Owner,13.93,2179,138.03,7\\nMaruti,2012,150000,76000,Petrol,Individual,Manual,First Owner,16.1,796,37,4\\nFord,2018,620000,15000,Petrol,Individual,Manual,First Owner,20.4,1194,94.93,5\\nSkoda,2007,250000,100000,Diesel,Individual,Manual,Second Owner,16.6,1896,122.4,5\\nHyundai,2012,475000,83000,Petrol,Individual,Automatic,First Owner,15.74,1591,121.3,5\\nChevrolet,2016,750000,67600,Diesel,Individual,Automatic,First Owner,14.81,1998,163.7,5\\nMitsubishi,2015,1250000,160000,Diesel,Individual,Manual,Second Owner,13.5,2477,178,7\\nHyundai,2014,250000,80000,Petrol,Individual,Manual,Second Owner,21.1,814,55.2,5\\nHonda,2013,445000,100000,Diesel,Individual,Manual,First Owner,25.8,1498,98.6,5\\nVolkswagen,2010,400000,100000,Diesel,Individual,Manual,First Owner,15,1896,105,5\\nHyundai,2010,350000,90000,Diesel,Individual,Manual,Second Owner,23,1396,90,5\\nSkoda,2012,295000,140000,Diesel,Individual,Manual,First Owner,20.5,1598,103.5,5\\nMaruti,2018,600000,25000,Petrol,Individual,Manual,First Owner,21.21,1197,81.8,5\\nToyota,2018,1650000,20000,Diesel,Individual,Manual,First Owner,13.68,2393,147.8,8\\nMaruti,2012,100000,30000,Petrol,Individual,Manual,First Owner,16.1,796,37,4\\nFord,2018,690000,13000,Petrol,Individual,Manual,First Owner,20.4,1194,94.93,5\\nHyundai,2018,710000,42000,Petrol,Individual,Manual,First Owner,18.6,1197,81.83,5\\nHyundai,2018,350000,10000,Petrol,Individual,Manual,Second Owner,20.3,998,68.05,5\\nMaruti,2012,220000,13000,Petrol,Individual,Manual,First Owner,20.92,998,67.1,5\\nRenault,2019,700000,6500,Petrol,Individual,Manual,First Owner,20,999,72,7\\nHyundai,2013,198000,49500,Petrol,Individual,Manual,Second Owner,21.1,814,55.2,5\\nHyundai,2011,350000,50000,Diesel,Individual,Manual,First Owner,23,1396,90,5\\nMaruti,2016,650000,35000,Petrol,Individual,Manual,Second Owner,21.4,1197,83.1,5\\nMahindra,2015,380000,120000,Diesel,Individual,Manual,Second Owner,21.03,1461,65,5\\nTata,2014,360000,50000,Petrol,Individual,Manual,Second Owner,17.57,1193,88.7,5\\nSkoda,2012,385000,116000,Petrol,Individual,Manual,First Owner,15,1598,103.5,5\\nHyundai,2012,590000,110000,Diesel,Individual,Manual,Second Owner,22.32,1582,126.32,5\\nMahindra,2013,750000,70000,Diesel,Individual,Manual,Second Owner,15.1,2179,140,7\\nFiat,2011,254999,100000,Diesel,Individual,Manual,Third Owner,20.3,1248,75,5\\nHyundai,2015,499000,20000,Petrol,Individual,Manual,First Owner,18.9,1197,81.86,5\\nMaruti,2018,730000,60000,Diesel,Individual,Automatic,First Owner,28.4,1248,74.02,5\\nHonda,2016,650000,30000,Diesel,Individual,Manual,Second Owner,27.3,1498,98.6,5\\nRenault,2012,220000,75000,Diesel,Individual,Manual,First Owner,23.08,1461,63.12,5\\nMaruti,2006,229999,110000,Petrol,Individual,Manual,Third Owner,,,,\\nMaruti,2006,215000,90000,Petrol,Individual,Manual,Fourth & Above Owner,,,,\\nTata,2006,100000,110000,Diesel,Individual,Manual,Third Owner,16.8,1405,62,5\\nHyundai,2004,110000,120000,Petrol,Individual,Manual,Fourth & Above Owner,14.4,1599,94,5\\nTata,2009,152000,48000,Diesel,Individual,Manual,Second Owner,17,1405,71,5\\nMaruti,2020,600000,5000,Petrol,Individual,Automatic,First Owner,20.89,1197,81.8,5\\nChevrolet,2016,620000,120000,Diesel,Individual,Manual,First Owner,13.58,2499,72.4,10\\nToyota,2018,780000,116000,Diesel,Individual,Manual,First Owner,23.59,1364,67.05,5\\nMaruti,2020,445000,1000,Petrol,Individual,Manual,First Owner,21.21,1197,81.8,5\\nHyundai,2018,575000,15000,Petrol,Individual,Automatic,First Owner,17.36,1197,81.86,5\\nMaruti,2018,975000,5000,Diesel,Individual,Manual,First Owner,25.1,1248,88.5,5\\nTata,2019,450000,3500,Petrol,Individual,Manual,First Owner,23.84,1199,83.83,5\\nFord,2015,480000,80000,Diesel,Individual,Manual,First Owner,25.83,1498,99,5\\nMaruti,2008,110000,48676,Petrol,Individual,Manual,First Owner,19.7,796,35,8\\nHyundai,2006,105000,60000,Petrol,Individual,Manual,Third Owner,,,,\\nBMW,2018,5830000,30000,Diesel,Individual,Automatic,First Owner,17.09,2993,261.4,4\\nHyundai,2014,415000,72000,Petrol,Dealer,Manual,First Owner,18.6,1197,81.83,5\\nMaruti,2015,475000,51000,Petrol,Dealer,Manual,First Owner,22,1197,81.8,5\\nMaruti,2017,525000,29000,Petrol,Dealer,Manual,First Owner,20.89,1197,81.8,5\\nMaruti,2015,365000,28000,Petrol,Dealer,Manual,First Owner,20.52,1197,81.8,5\\nMaruti,2011,375000,97000,Diesel,Dealer,Manual,First Owner,25.2,1248,74,5\\nMaruti,2018,765000,59000,Diesel,Dealer,Manual,First Owner,28.4,1248,74.02,5\\nMaruti,2019,770000,27000,Diesel,Individual,Manual,First Owner,28.4,1248,74.02,5\\nRenault,2018,350000,30000,Petrol,Individual,Manual,First Owner,25.17,799,53.3,5\\nMahindra,2015,875000,70000,Diesel,Individual,Manual,First Owner,15.4,1997,120,7\\nMahindra,2014,780000,69000,Diesel,Dealer,Manual,First Owner,15.1,2179,140,7\\nMaruti,2018,990000,15000,Diesel,Individual,Manual,First Owner,25.1,1248,88.5,5\\nMaruti,2019,800000,35700,Diesel,Dealer,Manual,First Owner,28.4,1248,74.02,5\\nHyundai,2012,350000,120000,Diesel,Individual,Manual,Third Owner,22.32,1582,126.32,5\\nVolkswagen,2013,325000,120000,Diesel,Individual,Manual,First Owner,22.07,1199,73.9,5\\nVolkswagen,2013,360000,80000,Diesel,Individual,Manual,First Owner,22.07,1199,73.9,5\\nMaruti,2010,148000,120000,Petrol,Individual,Manual,First Owner,20.92,998,67.1,5\\nMaruti,2017,670000,36000,Diesel,Individual,Manual,First Owner,27.39,1248,74,5\\nToyota,2014,430999,120000,Diesel,Individual,Manual,First Owner,23.59,1364,67.04,5\\nMaruti,2017,260000,9000,Petrol,Individual,Manual,First Owner,16.8,796,34.2,8\\nTata,2012,70000,50000,Petrol,Individual,Manual,Second Owner,25.4,624,37.48,4\\nRenault,2019,300000,35000,Petrol,Individual,Manual,First Owner,23.01,999,67,5\\nMahindra,2011,150000,130000,Diesel,Individual,Manual,Second Owner,14,2498,112,7\\nFord,2010,260000,70000,Diesel,Individual,Manual,First Owner,20,1399,68,5\\nMaruti,2012,320000,90000,Diesel,Individual,Manual,Third Owner,19.3,1248,73.9,5\\nTata,2018,700000,35000,Petrol,Individual,Manual,First Owner,17,1198,108.5,5\\nVolkswagen,2012,415000,80000,Petrol,Individual,Manual,First Owner,16.47,1198,73.9,5\\nMaruti,2008,260000,120000,Diesel,Individual,Manual,Second Owner,17.8,1248,75,5\\nTata,2011,70000,80000,Petrol,Individual,Manual,First Owner,26,624,35,4\\nToyota,2015,515000,30000,Petrol,Individual,Manual,First Owner,17.71,1197,78.9,5\\nHyundai,2016,803999,60000,Diesel,Individual,Manual,First Owner,23.9,1582,126.2,5\\nSkoda,2007,275000,200000,Diesel,Individual,Manual,Second Owner,16.6,1896,122.4,5\\nFord,2017,934000,101000,Diesel,Individual,Manual,First Owner,22.77,1498,98.59,5\\nFord,2007,210000,110000,Diesel,Individual,Manual,First Owner,17.8,1399,68,5\\nToyota,2014,1050000,136000,Diesel,Individual,Manual,Third Owner,12.99,2494,100.6,8\\nChevrolet,2011,650000,250000,Diesel,Individual,Manual,Second Owner,14.8,2499,80,7\\nChevrolet,2012,550000,74000,Diesel,Individual,Manual,Fourth & Above Owner,17.3,1998,163.7,5\\nChevrolet,2010,285000,265000,Diesel,Individual,Manual,Fourth & Above Owner,14.8,2499,80,9\\nHonda,2015,700000,22700,Petrol,Individual,Manual,First Owner,18.7,1199,88.7,5\\nHyundai,2016,525000,45000,Petrol,Individual,Manual,First Owner,18.9,1197,82,5\\nMaruti,2011,250000,36000,Petrol,Individual,Manual,Second Owner,15.37,1196,73,5\\nMaruti,2015,575000,57000,Diesel,Individual,Manual,Second Owner,26.59,1248,74,5\\nTata,2018,540000,33000,Diesel,Individual,Manual,First Owner,27.28,1047,69,5\\nMaruti,2012,560000,59000,Petrol,Individual,Manual,First Owner,16.02,1373,93.7,7\\nVolkswagen,2012,380000,200000,Diesel,Individual,Manual,First Owner,20.54,1598,103.6,5\\nFord,2011,240000,80000,Petrol,Individual,Manual,Second Owner,15.6,1196,70,5\\nChevrolet,2012,300000,70000,LPG,Individual,Manual,First Owner,13.2,995,60.2,5\\nDatsun,2018,280000,50000,Petrol,Individual,Manual,First Owner,22.7,799,53.64,5\\nMaruti,2011,350000,118000,Diesel,Individual,Manual,Second Owner,21.1,1248,73.9,5\\nTata,2014,110000,250000,Diesel,Individual,Manual,Second Owner,19.1,1405,70,5\\nTata,2018,980000,20000,Diesel,Individual,Manual,First Owner,21.5,1497,108.5,5\\nTata,2018,969999,21871,Diesel,Individual,Manual,First Owner,21.5,1497,108.5,5\\nMahindra,2016,357000,120000,Diesel,Individual,Manual,First Owner,25.32,1198,77,6\\nTata,2014,280000,100000,Diesel,Individual,Manual,First Owner,19.1,1405,70,5\\nMahindra,2012,430000,50000,Diesel,Individual,Manual,First Owner,15.96,2523,62.1,7\\nMaruti,2014,217000,50000,Diesel,Individual,Manual,First Owner,,,,\\nMaruti,2015,250000,70000,Petrol,Individual,Manual,First Owner,22.74,796,47.3,5\\nChevrolet,2016,525000,80000,Diesel,Individual,Manual,First Owner,18.2,1248,73.74,8\\nTata,2018,500000,25000,Petrol,Individual,Manual,First Owner,23.84,1199,84,5\\nMahindra,2019,1000000,60000,Diesel,Individual,Manual,First Owner,16.36,2179,120,7\\nMaruti,2017,316000,25000,Petrol,Individual,Manual,First Owner,24.7,796,47.3,5\\nMaruti,2018,350000,50000,Petrol,Individual,Manual,First Owner,24.7,796,47.3,5\\nTata,2018,950000,14000,Diesel,Individual,Manual,First Owner,21.5,1497,108.5,5\\nMaruti,2005,45000,55425,Petrol,Individual,Manual,Second Owner,16.1,796,37,4\\nMahindra,2013,475000,76000,Diesel,Individual,Manual,First Owner,15.96,2523,62.1,7\\nToyota,2020,3200000,3000,Diesel,Individual,Automatic,First Owner,15.04,2755,174.5,7\\nMahindra,2016,600000,139000,Diesel,Individual,Manual,First Owner,18.49,1493,100,7\\nVolkswagen,2014,430000,100000,Petrol,Individual,Manual,First Owner,15.04,1598,103.2,5\\nHyundai,2015,965000,60000,Diesel,Individual,Manual,First Owner,19.67,1582,126.2,5\\nSkoda,2013,395000,35000,Petrol,Individual,Automatic,Second Owner,14.3,1598,103.5,5\\nTata,2008,150000,120000,Diesel,Individual,Manual,First Owner,12.2,1948,68,9\\nMaruti,2013,700000,37659,Diesel,Individual,Manual,First Owner,20.77,1248,88.8,7\\nMaruti,2012,250000,89000,Diesel,Individual,Manual,Second Owner,23.2,1248,73.94,5\\nMaruti,2013,680000,37500,Diesel,Individual,Manual,Second Owner,20.77,1248,88.8,7\\nTata,2018,500000,5000,Petrol,Individual,Automatic,First Owner,23.84,1199,84,5\\nHyundai,2013,420000,21000,Petrol,Individual,Manual,First Owner,18.9,1197,81.86,5\\nMaruti,2017,290000,10000,Petrol,Individual,Manual,Second Owner,23.95,998,67.05,5\\nMaruti,2017,750000,30000,Diesel,Individual,Manual,First Owner,28.4,1248,74.02,5\\nMaruti,2015,300000,19800,Petrol,Individual,Manual,First Owner,15.37,1196,73,7\\nMaruti,2011,250000,90000,Diesel,Individual,Manual,Third Owner,21.1,1248,73.9,5\\nHonda,2014,335000,33033,Petrol,Dealer,Manual,First Owner,19.4,1198,86.8,5\\nHyundai,2015,465000,63063,Petrol,Dealer,Automatic,First Owner,18.9,1197,82,5\\nMaruti,2007,100000,70000,Petrol,Individual,Manual,Second Owner,18.9,1061,67,5\\nMaruti,2007,100000,80000,Petrol,Individual,Manual,Second Owner,17.3,1061,64,5\\nMaruti,2013,550000,120000,Diesel,Individual,Manual,Third Owner,20.77,1248,88.76,7\\nMaruti,2012,341000,120000,Diesel,Individual,Manual,First Owner,19.3,1248,73.9,5\\nHyundai,2017,600000,50000,Diesel,Individual,Manual,First Owner,24,1186,73.97,5\\nHonda,2014,650000,167000,Diesel,Individual,Manual,First Owner,25.1,1498,98.6,5\\nChevrolet,2008,75527,80000,Petrol,Individual,Manual,First Owner,16,995,63,5\\nTata,2014,215000,100000,Diesel,Individual,Manual,Second Owner,25,1396,69.01,5\\nMaruti,2017,650000,60000,Diesel,Individual,Manual,First Owner,28.09,1248,88.5,5\\nRenault,2017,900000,50000,Diesel,Individual,Manual,First Owner,20.37,1461,108.45,5\\nHyundai,2014,500000,17000,Petrol,Individual,Manual,First Owner,18.6,1197,81.83,5\\nMaruti,2017,550000,46000,Petrol,Individual,Manual,First Owner,21.4,1197,83.1,5\\nMaruti,2015,475000,60000,Diesel,Individual,Manual,First Owner,25.2,1248,74,5\\nMaruti,2006,65000,198000,Petrol,Individual,Manual,Second Owner,18.9,998,67.1,5\\nHyundai,2015,425000,60000,Diesel,Individual,Manual,First Owner,24.4,1120,71,5\\nToyota,2012,476999,90000,Diesel,Individual,Manual,Fourth & Above Owner,21.43,1364,87.2,5\\nChevrolet,2011,150000,40000,Petrol,Individual,Manual,Second Owner,18,995,62,5\\nMaruti,2011,225000,90000,Petrol,Individual,Manual,First Owner,19.7,796,46.3,5\\nMaruti,2010,190000,80000,Petrol,Individual,Manual,First Owner,19.7,796,46.3,5\\nMaruti,2003,100000,164000,Petrol,Individual,Manual,Third Owner,19.7,796,46.3,5\\nMahindra,2011,400000,70000,Diesel,Individual,Manual,Second Owner,13.6,2523,63,7\\nAudi,2018,3975000,31800,Diesel,Dealer,Automatic,First Owner,17.01,1968,188,5\\nHonda,2016,1350000,74000,Petrol,Dealer,Automatic,First Owner,13.7,1997,153.86,5\\nLexus,2019,5150000,20000,Petrol,Dealer,Automatic,First Owner,22.37,2487,214.56,5\\nJaguar,2017,3200000,45000,Diesel,Dealer,Automatic,First Owner,19.33,1999,177,5\\nJeep,2017,4100000,17000,Petrol,Individual,Automatic,First Owner,9.5,3604,280,5\\nMahindra,2018,900000,12000,Diesel,Dealer,Manual,First Owner,16.55,2498,105,6\\nToyota,2016,2000000,68089,Petrol,Trustmark Dealer,Automatic,First Owner,19.16,2494,157.7,5\\nHonda,2016,550000,56494,Petrol,Trustmark Dealer,Manual,First Owner,18.2,1199,88.7,5\\nToyota,2013,750000,79328,Diesel,Trustmark Dealer,Manual,Second Owner,12.99,2494,100.6,7\\nHonda,2019,779000,7032,Petrol,Trustmark Dealer,Automatic,First Owner,19,1199,88.76,5\\nBMW,2018,4000000,10000,Diesel,Dealer,Automatic,First Owner,22.48,1995,187.74,5\\nMercedes-Benz,2019,5200000,17000,Petrol,Dealer,Automatic,First Owner,15,1991,194.4,5\\nLand,2019,4500000,21000,Diesel,Dealer,Automatic,First Owner,12.83,1999,148.31,7\\nTata,2017,969999,26500,Diesel,Dealer,Manual,First Owner,17.6,2179,147.94,7\\nMercedes-Benz,2017,6000000,37000,Diesel,Dealer,Automatic,First Owner,13.5,2987,254.79,5\\nHyundai,2016,475000,45629,Petrol,Trustmark Dealer,Automatic,First Owner,18.9,1197,81.86,5\\nHyundai,2019,1125000,3500,Petrol,Dealer,Automatic,First Owner,18.15,998,118.35,5\\nHonda,2017,1650000,52000,Petrol,Dealer,Automatic,First Owner,12,2354,187.4,5\\nMahindra,2019,740000,35000,Diesel,Individual,Manual,First Owner,16.5,1493,70,7\\nMahindra,2018,400000,15000,Petrol,Individual,Manual,First Owner,18.15,1198,82,6\\nMaruti,2018,430000,14000,Petrol,Individual,Manual,First Owner,20.51,998,67.04,5\\nMahindra,2019,1132000,20000,Petrol,Individual,Manual,First Owner,17,1197,110,5\\nMaruti,2017,352000,68850,Petrol,Dealer,Manual,First Owner,18.9,998,67.1,5\\nTata,2016,252999,45775,Petrol,Dealer,Manual,First Owner,23.84,1199,84,5\\nChevrolet,2012,80000,70000,Petrol,Individual,Manual,Second Owner,16.2,995,62.1,5\\nMaruti,2015,313000,68203,Petrol,Dealer,Manual,First Owner,21.79,998,67.05,5\\nHyundai,2014,380000,30000,Petrol,Individual,Manual,Second Owner,18.9,1197,81.86,5\\nRenault,2018,350000,25000,Petrol,Individual,Manual,First Owner,25.17,799,53.3,5\\nRenault,2016,600000,90000,Diesel,Individual,Manual,Second Owner,19.87,1461,83.8,5\\nTata,2011,88000,97343,Diesel,Dealer,Manual,First Owner,18.8,1248,90,5\\nMaruti,2008,160000,70000,Petrol,Individual,Manual,Fourth & Above Owner,19.7,796,35,8\\nMaruti,2008,125000,70000,Petrol,Individual,Manual,Fourth & Above Owner,,,,\\nHyundai,2014,290000,31000,Petrol,Individual,Manual,First Owner,20.36,1197,78.9,5\\nMahindra,2014,650000,70000,Diesel,Individual,Manual,First Owner,15.4,2179,120,7\\nMaruti,2015,380000,20000,CNG,Individual,Manual,First Owner,21.94,1196,61.7,5\\nHyundai,2014,180000,62000,Petrol,Individual,Manual,First Owner,21.1,814,55.2,5\\nMaruti,2008,75000,29000,Petrol,Individual,Manual,First Owner,16.1,796,37,4\\nTata,2012,132000,82507,Diesel,Dealer,Manual,First Owner,13.93,2179,138.03,7\\nChevrolet,2010,110000,60000,Petrol,Individual,Manual,Second Owner,18.6,1199,79.4,5\\nMaruti,2018,390000,10000,Petrol,Individual,Manual,First Owner,23.95,998,67.05,5\\nHyundai,2015,550000,70000,Petrol,Individual,Manual,First Owner,18.6,1197,81.83,5\\nHyundai,2004,70000,70000,Petrol,Individual,Manual,Second Owner,,,,\\nMaruti,2008,70000,59400,Petrol,Individual,Manual,Fourth & Above Owner,16.1,796,37,4\\nHyundai,2013,275000,20000,Petrol,Individual,Manual,First Owner,21.1,814,55.2,5\\nMaruti,2009,250000,125876,Petrol,Individual,Manual,Second Owner,15,1586,104.68,5\\nJeep,2019,2100000,5000,Petrol,Individual,Automatic,First Owner,16,1368,160.77,5\\nTata,2011,250000,90000,Diesel,Individual,Manual,Second Owner,13.55,2179,118.35,7\\nIsuzu,2017,1250000,56800,Diesel,Individual,Manual,First Owner,12.4,2499,134,5\\nAudi,2014,1500000,60000,Diesel,Individual,Automatic,First Owner,16.55,1968,147.51,5\\nToyota,2011,800000,60000,Diesel,Individual,Manual,First Owner,12.8,2494,102,7\\nToyota,2014,1380000,150000,Diesel,Individual,Manual,First Owner,13,2982,168.5,7\\nMaruti,2014,325000,65204,Petrol,Trustmark Dealer,Automatic,First Owner,23.1,998,67.04,5\\nHyundai,2019,1150000,2286,Petrol,Trustmark Dealer,Automatic,First Owner,18.15,998,118.35,5\\nMaruti,2018,655000,15732,Petrol,Dealer,Automatic,First Owner,22,1197,81.8,5\\nMahindra,2019,890000,13000,Diesel,Dealer,Manual,First Owner,18.06,2523,63,7\\nMaruti,2018,525000,33000,Petrol,Dealer,Manual,First Owner,20.89,1197,81.8,5\\nHyundai,2014,300000,100000,Petrol,Individual,Manual,First Owner,19.81,1086,68.05,5\\nBMW,2017,2950000,39000,Diesel,Dealer,Automatic,First Owner,19.59,1995,187.74,5\\nBMW,2019,5200000,10000,Diesel,Dealer,Automatic,First Owner,18.12,1995,190,5\\nHonda,2018,925000,28900,Petrol,Dealer,Manual,First Owner,17.8,1497,117.3,5\\nHonda,2017,675000,49523,Petrol,Dealer,Manual,First Owner,17,1497,118,5\\nMaruti,2018,745000,48000,Diesel,Dealer,Manual,First Owner,24.3,1248,88.5,5\\nMaruti,2018,835000,17000,Diesel,Dealer,Manual,First Owner,24.3,1248,88.5,5\\nVolkswagen,2019,695000,36800,Diesel,Dealer,Manual,First Owner,20.14,1498,88,5\\nMaruti,2018,725000,36521,Diesel,Dealer,Manual,First Owner,24.3,1248,88.5,5\\nMaruti,2017,620000,90000,Petrol,Individual,Manual,First Owner,22,1197,81.8,5\\nMaruti,1998,58000,80000,Petrol,Individual,Manual,Third Owner,17.3,993,60,5\\nNissan,2014,335000,71000,Diesel,Dealer,Manual,First Owner,21.64,1461,84.8,5\\nMahindra,2011,475000,108000,Diesel,Dealer,Manual,First Owner,16,2179,140,7\\nRenault,2015,484999,75000,Diesel,Dealer,Manual,First Owner,19.87,1461,83.8,5\\nMaruti,2015,610000,33000,Petrol,Individual,Manual,First Owner,20.73,1373,91.1,5\\nHyundai,2015,1000000,50000,Diesel,Individual,Manual,First Owner,19.67,1582,126.2,5\\nRenault,2019,300000,35000,Petrol,Individual,Manual,First Owner,23.01,999,67,5\\nHyundai,2018,1405000,15000,Petrol,Individual,Manual,First Owner,15.8,1591,121.3,5\\nMaruti,2018,650000,22000,Petrol,Individual,Manual,Second Owner,21.56,1462,103.25,5\\nHyundai,2015,850000,108000,Diesel,Individual,Manual,First Owner,19.67,1582,126.2,5\\nAudi,2014,1850000,76131,Diesel,Individual,Automatic,First Owner,13.22,2967,241.4,5\\nHyundai,2012,267000,40000,Petrol,Individual,Manual,First Owner,20.36,1197,78.9,5\\nHyundai,2013,215000,47000,Petrol,Individual,Manual,Second Owner,21.1,814,55.2,5\\nTata,2017,1282000,45000,Diesel,Individual,Manual,First Owner,17.6,2179,153.86,7\\nMaruti,2017,282000,15000,Petrol,Individual,Manual,First Owner,24.7,796,47.3,5\\nToyota,2012,610000,90000,Diesel,Individual,Manual,First Owner,12.8,2494,102,8\\nMahindra,2018,900000,35000,Diesel,Individual,Manual,First Owner,16.55,2498,105,6\\nMahindra,2015,800000,70000,Diesel,Individual,Manual,First Owner,15.4,1997,120,7\\nHyundai,2013,380000,110000,Diesel,Individual,Manual,Second Owner,21.27,1396,88.76,5\\nMahindra,2012,450000,120000,Diesel,Individual,Manual,Second Owner,12.05,2179,120,9\\nMaruti,2011,242000,120000,Diesel,Individual,Manual,First Owner,21.5,1248,88.8,5\\nRenault,2017,350000,35000,Petrol,Individual,Manual,Second Owner,25.17,799,53.3,5\\nTata,2018,400000,22000,Petrol,Individual,Manual,First Owner,20.3,1199,84,5\\nMaruti,2017,400000,70000,Petrol,Individual,Manual,First Owner,20.51,998,67.04,5\\nChevrolet,2013,246000,56000,Diesel,Dealer,Manual,First Owner,22.1,1248,74,5\\nTata,2014,221000,65000,Diesel,Dealer,Manual,First Owner,19.09,1405,69.01,5\\nFord,2013,700000,62000,Diesel,Dealer,Manual,First Owner,13.1,2499,141,7\\nToyota,2016,1750000,52000,Diesel,Dealer,Automatic,First Owner,12.55,2982,168.5,7\\nHyundai,2017,550000,49000,Diesel,Dealer,Manual,First Owner,25.4,1186,73.97,5\\nMaruti,2015,550000,50000,Diesel,Dealer,Manual,Second Owner,28.09,1248,88.5,5\\nMaruti,2013,375000,65000,Diesel,Dealer,Manual,First Owner,28.4,1248,74,5\\nHyundai,2015,391000,55000,Diesel,Dealer,Manual,First Owner,24.4,1120,71,5\\nMercedes-Benz,2015,2051000,35000,Diesel,Dealer,Automatic,Second Owner,19.7,2143,134.1,5\\nTata,2014,525000,78000,Diesel,Dealer,Manual,Second Owner,15.05,2179,147.9,7\\nHyundai,2007,212000,58000,Diesel,Dealer,Manual,Second Owner,16.8,1493,110,5\\nChevrolet,2011,221000,56000,Diesel,Dealer,Manual,Second Owner,25.44,936,57.6,5\\nFiat,2010,265000,61000,Diesel,Dealer,Manual,Second Owner,20.4,1248,91.7,5\\nRenault,2013,399000,61000,Diesel,Dealer,Manual,Second Owner,21.64,1461,84.8,5\\nHyundai,2008,175000,61000,Diesel,Dealer,Manual,Second Owner,17.1,1493,110,5\\nSkoda,2011,411000,64481,Diesel,Dealer,Manual,Second Owner,20.5,1598,103.5,5\\nVolkswagen,2011,365000,65000,Diesel,Dealer,Manual,Second Owner,20.54,1598,103.6,5\\nBMW,2009,975000,80000,Diesel,Dealer,Automatic,Second Owner,22.48,1995,187.74,5\\nNissan,2015,499000,61000,Diesel,Dealer,Manual,Second Owner,22.71,1461,84.8,5\\nMercedes-Benz,2014,2575000,70000,Diesel,Individual,Automatic,First Owner,11.74,2987,254.8,5\\nChevrolet,2009,145000,30000,Petrol,Individual,Manual,First Owner,18,995,62,5\\nTata,2011,200000,200000,Diesel,Individual,Manual,Second Owner,17,1405,71,5\\nAudi,2014,1200000,230000,Diesel,Individual,Automatic,First Owner,15.73,1968,174.33,5\\nHyundai,2016,280000,100000,Petrol,Individual,Manual,First Owner,20.3,998,68.05,5\\nMahindra,2011,450000,95000,Diesel,Individual,Automatic,Second Owner,11.79,2179,120,8\\nHonda,2006,150000,140000,Petrol,Individual,Manual,Third Owner,17.7,1497,78,5\\nHonda,2017,600000,70000,Petrol,Individual,Manual,First Owner,17.3,1497,117.3,7\\nRenault,2016,275000,60000,Petrol,Individual,Manual,First Owner,25.17,799,53.3,5\\nTata,2010,110000,88000,Diesel,Individual,Manual,First Owner,18.8,1248,90,5\\nMahindra,2012,500000,200000,Diesel,Individual,Manual,Fourth & Above Owner,15.1,2179,140,7\\nMahindra,2012,700000,60000,Diesel,Individual,Manual,Second Owner,15.1,2179,140,7\\nBMW,2012,900000,155000,Diesel,Individual,Automatic,Second Owner,16.07,1995,181,4\\nMaruti,2005,150000,80000,Petrol,Individual,Manual,Second Owner,18.9,998,67.1,5\\nNissan,2013,275000,80000,Petrol,Individual,Manual,Third Owner,16.95,1498,97.7,5\\nMaruti,2014,455000,40000,Diesel,Individual,Manual,First Owner,28.4,1248,74,5\\nHyundai,2015,900000,50000,Diesel,Individual,Manual,First Owner,19.67,1582,126.2,5\\nMaruti,2014,455000,40000,Diesel,Individual,Manual,First Owner,25.2,1248,74,5\\nHonda,2017,650000,47000,Diesel,Individual,Manual,Second Owner,26,1498,98.6,5\\nHyundai,2018,551000,20000,Petrol,Individual,Manual,Second Owner,18.9,1197,81.86,5\\nVolkswagen,2017,650000,49060,Diesel,Individual,Manual,First Owner,22,1498,108.495,5\\nHyundai,2015,600000,60000,Petrol,Individual,Manual,First Owner,18.6,1197,81.83,5\\nMaruti,2013,235000,18000,Petrol,Individual,Manual,First Owner,22.74,796,47.3,5\\nFord,2018,800000,37161,Diesel,Dealer,Manual,First Owner,22.7,1498,89.84,5\\nHyundai,2016,1050000,80000,Diesel,Individual,Manual,First Owner,19.67,1582,126.2,5\\nTata,2012,45000,28000,Petrol,Individual,Manual,Second Owner,25.4,624,37.5,4\\nHyundai,2013,450000,100000,Petrol,Individual,Automatic,Second Owner,15.74,1591,121.3,5\\nVolkswagen,2014,391000,120000,Diesel,Individual,Manual,Second Owner,20.14,1498,88.8,5\\nChevrolet,2013,380000,70000,Diesel,Individual,Manual,Second Owner,18.2,1248,73.8,7\\nMaruti,2010,170000,90000,Petrol,Individual,Manual,Second Owner,18.9,1061,67,5\\nTata,2011,250000,90000,Diesel,Individual,Manual,Second Owner,13.55,2179,118.35,7\\nToyota,2011,800000,60000,Diesel,Individual,Manual,First Owner,12.8,2494,102,7\\nToyota,2014,1380000,150000,Diesel,Individual,Manual,First Owner,13,2982,168.5,7\\nMahindra,2014,700000,24000,Diesel,Individual,Manual,First Owner,16.55,2498,105,6\\nHonda,2016,450000,100000,Diesel,Individual,Manual,Second Owner,24.2,1498,98.6,7\\nMahindra,2018,650000,6000,Petrol,Individual,Manual,First Owner,18.15,1198,82,6\\nMahindra,2013,950000,49700,Diesel,Individual,Manual,First Owner,15.1,2179,140,7\\nToyota,2007,626000,80000,Diesel,Individual,Manual,Second Owner,12.8,2494,102,7\\nToyota,2000,200000,100000,Diesel,Individual,Manual,First Owner,,,,\\nMaruti,2019,600000,10000,Petrol,Individual,Automatic,First Owner,21.21,1197,81.8,5\\nRenault,2019,290000,21000,Petrol,Individual,Manual,First Owner,25.17,799,53.3,5\\nMaruti,2013,215000,25000,Petrol,Individual,Manual,First Owner,20.92,998,67.1,5\\nRenault,2016,250000,22000,Petrol,Individual,Manual,First Owner,25.17,799,53.3,5\\nMaruti,2017,750000,50000,Diesel,Individual,Manual,First Owner,24.52,1248,88.5,7\\nMaruti,2016,250000,20000,Petrol,Individual,Manual,Second Owner,23.95,998,67.05,5\\nHonda,2017,950000,15000,Petrol,Individual,Automatic,First Owner,15.4,1497,117.3,7\\nFord,2018,793000,30000,Diesel,Individual,Manual,First Owner,25.83,1498,99,5\\nHyundai,2015,750000,74000,Diesel,Individual,Manual,First Owner,19.67,1582,126.2,5\\nHonda,2017,725000,6550,Petrol,Individual,Automatic,First Owner,18.2,1199,88.7,5\\nHyundai,2016,480000,30000,Diesel,Individual,Manual,First Owner,24,1120,70,5\\nJaguar,2017,2711000,9000,Diesel,Dealer,Automatic,First Owner,13.6,1999,177,5\\nLexus,2019,5150000,20000,Petrol,Dealer,Automatic,First Owner,22.37,2487,214.56,5\\nJaguar,2017,3200000,45000,Diesel,Dealer,Automatic,First Owner,19.33,1999,177,5\\nTata,2015,503000,110000,Diesel,Individual,Manual,First Owner,14.1,2179,147.94,7\\nVolvo,2019,3800000,20000,Diesel,Individual,Automatic,First Owner,18,1969,190,5\\nToyota,2016,2000000,68089,Petrol,Trustmark Dealer,Automatic,First Owner,19.16,2494,157.7,5\\nMaruti,2013,225000,58343,Petrol,Trustmark Dealer,Manual,First Owner,21.79,998,67.05,5\\nMaruti,2018,740000,38817,Diesel,Dealer,Manual,First Owner,27.39,1248,74,5\\nHonda,2016,550000,56494,Petrol,Trustmark Dealer,Manual,First Owner,18.2,1199,88.7,5\\nToyota,2013,750000,79328,Diesel,Trustmark Dealer,Manual,Second Owner,12.99,2494,100.6,7\\nMaruti,2019,650000,5621,Petrol,Trustmark Dealer,Automatic,First Owner,22,1197,81.8,5\\nToyota,2017,625000,25538,Petrol,Trustmark Dealer,Manual,First Owner,16.78,1496,88.73,5\\nMaruti,2018,600000,69779,Petrol,Dealer,Automatic,First Owner,22,1197,81.8,5\\nHyundai,2017,450000,56290,Diesel,Dealer,Manual,First Owner,24,1186,73.97,5\\nBMW,2019,5400000,7500,Diesel,Dealer,Automatic,First Owner,16.78,1995,190,5\\nBMW,2019,5500000,8500,Diesel,Dealer,Automatic,First Owner,16.78,1995,190,5\\nHonda,2019,779000,7032,Petrol,Trustmark Dealer,Automatic,First Owner,19,1199,88.76,5\\nSkoda,2016,645000,11000,Petrol,Dealer,Automatic,First Owner,14.3,1598,103.5,5\\nVolvo,2018,2475000,2000,Diesel,Dealer,Automatic,First Owner,16.8,1984,150,5\\nHyundai,2017,990000,20000,Petrol,Individual,Automatic,First Owner,17,1591,121.3,5\\nMaruti,2012,370000,68000,Diesel,Individual,Manual,First Owner,23.4,1248,74,5\\nChevrolet,2014,300000,60175,Petrol,Individual,Manual,First Owner,18.2,1199,82.5,5\\nHyundai,2012,250000,25000,Petrol,Individual,Manual,First Owner,21.1,814,55.2,5\\nFord,2017,700000,49957,Diesel,Dealer,Manual,First Owner,25.83,1498,99,5\\nFord,2017,600000,43235,Diesel,Dealer,Manual,First Owner,24.29,1498,99,5\\nFord,2018,925000,50699,Diesel,Dealer,Manual,First Owner,22.77,1498,98.59,5\\nHyundai,2016,700000,111000,Diesel,Individual,Manual,Second Owner,21.19,1396,88.73,5\\nMaruti,2018,700000,48000,Petrol,Individual,Manual,Second Owner,21.1,998,100.5,5\\nMaruti,2007,185000,90000,Diesel,Individual,Manual,Fourth & Above Owner,17.8,1248,75,5\\nTata,2015,434999,80000,Diesel,Individual,Manual,First Owner,15.3,2956,83.83,7\\nFord,2017,400000,100000,Petrol,Individual,Manual,First Owner,18.16,1196,86.8,5\\nFord,2011,180000,90000,Diesel,Individual,Manual,Third Owner,20,1399,68,5\\nMaruti,2015,600000,50000,Diesel,Individual,Manual,First Owner,26.59,1248,74,5\\nToyota,2014,320000,90000,Diesel,Individual,Manual,Third Owner,23.59,1364,67.06,5\\nToyota,2016,1689999,120000,Diesel,Individual,Manual,First Owner,13.68,2393,147.8,8\\nVolkswagen,2011,250000,140000,Petrol,Individual,Automatic,Second Owner,14.4,1598,103.6,5\\nTata,2019,650000,20000,Petrol,Individual,Manual,First Owner,20.3,1199,83.81,5\\nToyota,2009,340000,82000,Petrol,Individual,Manual,Second Owner,14.53,1798,138,5\\nAmbassador,2008,200000,80000,Diesel,Individual,Manual,Third Owner,13.5,1995,52,5\\nMaruti,2017,869999,40000,Diesel,Individual,Manual,First Owner,24.3,1248,88.5,5\\nMaruti,2017,795000,120000,Diesel,Individual,Manual,First Owner,24.52,1248,88.5,7\\nMaruti,2017,869999,60000,Diesel,Individual,Manual,First Owner,24.3,1248,88.5,5\\nMaruti,2010,200000,70000,Diesel,Individual,Manual,Second Owner,21.1,1248,73.9,5\\nHyundai,2017,800000,45500,Diesel,Individual,Manual,Second Owner,23.9,1582,126.2,5\\nToyota,2014,1100000,120000,Diesel,Individual,Manual,First Owner,12.99,2494,100.6,8\\nMaruti,2008,114999,100000,Petrol,Individual,Manual,Second Owner,19.7,796,46.3,5\\nMaruti,2013,500000,92000,Diesel,Individual,Manual,Third Owner,20.77,1248,88.76,7\\nMaruti,2014,700000,141000,Diesel,Individual,Manual,Fourth & Above Owner,25.2,1248,74,5\\nToyota,2016,1516000,120000,Diesel,Individual,Automatic,First Owner,11.36,2755,171.5,7\\nDatsun,2016,200000,35000,Petrol,Individual,Manual,First Owner,22.7,799,53.64,5\\nHonda,2015,450000,50000,Petrol,Individual,Manual,First Owner,17.8,1198,86.7,5\\nTata,2018,850000,9500,Diesel,Individual,Manual,First Owner,21.5,1497,108.5,5\\nMaruti,2019,359000,5500,Petrol,Individual,Manual,First Owner,15.37,1196,73,7\\nRenault,2017,320000,28000,Petrol,Individual,Manual,First Owner,25.17,799,53.3,5\\nTata,2009,110000,113000,Petrol,Individual,Manual,First Owner,15.3,1193,65.3,5\\nMaruti,2011,209000,1,CNG,Individual,Manual,Fourth & Above Owner,15.1,1196,73,5\\nTata,2010,169000,100000,Petrol,Individual,Manual,Second Owner,15,1368,90,5\\nHyundai,2014,400000,50074,Diesel,Individual,Manual,First Owner,24,1120,70,5\\nHyundai,2014,600000,100000,Diesel,Individual,Manual,Fourth & Above Owner,22.54,1396,88.73,5\\nMaruti,2017,350000,35000,Petrol,Individual,Manual,First Owner,15.37,1196,73,7\\nFord,2018,990000,60000,Diesel,Individual,Manual,First Owner,23,1498,98.96,5\\nMercedes-Benz,2011,1600000,70000,Diesel,Individual,Automatic,First Owner,14.21,2143,203,5\\nTata,2017,1400000,70000,Diesel,Individual,Manual,First Owner,17.6,2179,153.86,7\\nMaruti,2017,745000,10000,Petrol,Individual,Automatic,First Owner,21.4,1197,83.1,5\\nSkoda,2018,2800000,40000,Diesel,Individual,Automatic,First Owner,16.25,1968,148,7\\nMaruti,2015,500000,35000,Diesel,Individual,Manual,First Owner,25.2,1248,74,5\\nMaruti,2019,540000,5000,Petrol,Individual,Automatic,First Owner,20.52,1197,81.8,5\\nToyota,2016,1850000,33000,Diesel,Individual,Manual,First Owner,13.68,2393,147.8,7\\nTata,2017,600000,27000,Diesel,Individual,Manual,First Owner,22.95,1248,74,5\\nFord,2018,690000,25000,Petrol,Individual,Manual,First Owner,19,1194,94.68,5\\nMaruti,2016,630000,30154,Diesel,Individual,Manual,First Owner,25.2,1248,74,5\\nHyundai,2018,640000,20000,Petrol,Individual,Manual,First Owner,20.14,1197,81.86,5\\nVolvo,2019,5500000,17000,Diesel,Individual,Automatic,First Owner,18,1969,190,5\\nFord,2016,2100000,85000,Diesel,Individual,Automatic,Second Owner,12.62,2198,158,7\\nMaruti,2016,500000,100000,Petrol,Individual,Manual,First Owner,20.4,1197,81.8,5\\nMaruti,2017,310000,54000,Petrol,Individual,Manual,First Owner,24.7,796,47.3,5\\nMahindra,2015,600000,80000,Diesel,Individual,Manual,First Owner,18.49,1493,100,7\\nMaruti,1999,40000,100000,Petrol,Individual,Manual,Third Owner,16.1,796,37,4\\nHyundai,2018,620000,70000,Diesel,Individual,Manual,First Owner,25.4,1186,73.97,5\\nMaruti,2018,760000,50000,Diesel,Individual,Manual,First Owner,27.39,1248,74,5\\nHyundai,2018,1200000,40000,Diesel,Individual,Manual,First Owner,22,1582,126.2,5\\nMaruti,2018,760000,50000,Diesel,Individual,Manual,First Owner,27.39,1248,74,5\\nHyundai,2012,300000,45000,Petrol,Individual,Manual,First Owner,20.36,1197,78.9,5\\nTata,2019,500000,5000,Petrol,Individual,Manual,First Owner,23.84,1199,84,5\\nChevrolet,2012,120000,70000,Petrol,Individual,Manual,Third Owner,18.6,1199,79.4,5\\nHyundai,2017,350000,26263,Petrol,Individual,Manual,First Owner,21.1,814,55.2,5\\nMahindra,2016,350000,100000,Petrol,Individual,Manual,Second Owner,18.15,1198,82,5\\nToyota,2012,730000,250000,Diesel,Individual,Manual,First Owner,12.99,2494,100,7\\nRenault,2018,1050000,18000,Diesel,Dealer,Manual,First Owner,19.6,1461,108.45,5\\nHyundai,2013,550000,80000,Diesel,Dealer,Manual,First Owner,25,1493,113.42,5\\nMaruti,2016,675000,108000,Diesel,Dealer,Manual,First Owner,23.65,1248,88.5,5\\nToyota,2015,1400000,170000,Diesel,Individual,Manual,First Owner,12.99,2494,100.6,7\\nMaruti,2017,625000,25000,Petrol,Individual,Manual,First Owner,22,1197,81.8,5\\nHyundai,2018,1220000,11000,Petrol,Individual,Manual,First Owner,15.8,1591,121.3,5\\nMaruti,2019,475000,5000,Petrol,Individual,Automatic,First Owner,21.7,998,67,5\\nFord,2014,550000,105000,Diesel,Dealer,Manual,First Owner,21.7,1498,98.96,5\\nMaruti,2012,320000,40000,Petrol,Individual,Manual,First Owner,18.5,1197,85.8,5\\nMaruti,2014,530000,90000,Diesel,Individual,Manual,First Owner,22.9,1248,74,5\\nMaruti,2018,300000,30000,Petrol,Individual,Manual,First Owner,24.7,796,47.3,5\\nHonda,2018,1180000,5500,Petrol,Individual,Manual,First Owner,17.4,1497,117.6,5\\nMaruti,2000,45957,90000,Petrol,Individual,Manual,Second Owner,19.7,796,46.3,5\\nHyundai,2012,190000,65000,Petrol,Individual,Manual,First Owner,21.1,814,55.2,5\\nHyundai,2014,730000,60000,Diesel,Individual,Manual,First Owner,22.32,1582,126.32,5\\nMaruti,2015,530000,120000,Diesel,Individual,Manual,First Owner,25.2,1248,74,5\\nFord,2019,530000,9500,Petrol,Individual,Manual,First Owner,18.16,1196,86.8,5\\nRenault,2018,1265000,12000,Diesel,Individual,Manual,First Owner,20.37,1461,108.45,5\\nMaruti,2019,1025000,32000,Diesel,Individual,Manual,First Owner,28.09,1248,88.5,5\\nMaruti,2009,130000,60000,Petrol,Individual,Manual,First Owner,19.7,796,46.3,5\\nMahindra,2017,735000,70000,Diesel,Individual,Manual,First Owner,18.49,1493,100,7\\nBMW,2011,1500000,84925,Diesel,Individual,Automatic,First Owner,16.07,1995,181,5\\nHyundai,2007,120000,120000,Petrol,Individual,Manual,Second Owner,17.8,1086,63,5\\nToyota,2012,730000,250000,Diesel,Individual,Manual,First Owner,12.99,2494,100,7\\nRenault,2018,1050000,18000,Diesel,Dealer,Manual,First Owner,19.6,1461,108.45,5\\nHyundai,2013,550000,80000,Diesel,Dealer,Manual,First Owner,25,1493,113.42,5\\nMaruti,2016,675000,108000,Diesel,Dealer,Manual,First Owner,23.65,1248,88.5,5\\nToyota,2015,1400000,170000,Diesel,Individual,Manual,First Owner,12.99,2494,100.6,7\\nMaruti,2017,625000,25000,Petrol,Individual,Manual,First Owner,22,1197,81.8,5\\nHyundai,2018,1220000,11000,Petrol,Individual,Manual,First Owner,15.8,1591,121.3,5\\nMaruti,2019,475000,5000,Petrol,Individual,Automatic,First Owner,21.7,998,67,5\\nFord,2014,550000,105000,Diesel,Dealer,Manual,First Owner,21.7,1498,98.96,5\\nMaruti,2012,320000,40000,Petrol,Individual,Manual,First Owner,18.5,1197,85.8,5\\nMaruti,2014,530000,90000,Diesel,Individual,Manual,First Owner,22.9,1248,74,5\\nMaruti,2018,300000,30000,Petrol,Individual,Manual,First Owner,24.7,796,47.3,5\\nHonda,2018,1180000,5500,Petrol,Individual,Manual,First Owner,17.4,1497,117.6,5\\nMaruti,2000,45957,90000,Petrol,Individual,Manual,Second Owner,19.7,796,46.3,5\\nHyundai,2012,190000,65000,Petrol,Individual,Manual,First Owner,21.1,814,55.2,5\\nHyundai,2014,730000,60000,Diesel,Individual,Manual,First Owner,22.32,1582,126.32,5\\nMaruti,2015,530000,120000,Diesel,Individual,Manual,First Owner,25.2,1248,74,5\\nFord,2019,530000,9500,Petrol,Individual,Manual,First Owner,18.16,1196,86.8,5\\nRenault,2018,1265000,12000,Diesel,Individual,Manual,First Owner,20.37,1461,108.45,5\\nMaruti,2019,1025000,32000,Diesel,Individual,Manual,First Owner,28.09,1248,88.5,5\\nHyundai,2017,470000,50000,Petrol,Individual,Manual,First Owner,18.9,1197,82,5\\nTata,2014,250000,50000,Diesel,Individual,Manual,Second Owner,25,1396,69.01,5\\nMaruti,2013,430000,90000,Petrol,Individual,Manual,First Owner,16.02,1373,93.7,7\\nMaruti,2012,550000,93000,Diesel,Individual,Manual,First Owner,20.77,1248,88.76,7\\nMaruti,2015,500000,117000,Petrol,Individual,Manual,First Owner,20.85,1197,83.14,5\\nHonda,2008,240000,90000,Petrol,Individual,Manual,Second Owner,17.7,1497,78,5\\nMaruti,2008,170000,80000,Petrol,Individual,Manual,Third Owner,16.1,1298,88.2,5\\nHyundai,2000,140000,50000,Petrol,Individual,Manual,Second Owner,,,,\\nMaruti,2016,252000,30000,Petrol,Individual,Manual,First Owner,22.74,796,47.3,5\\nMaruti,2017,270000,35000,Petrol,Individual,Manual,First Owner,24.7,796,47.3,5\\nMaruti,2004,100000,40000,Petrol,Individual,Manual,First Owner,19.7,796,46.3,5\\n'}"
            ]
          },
          "execution_count": 2,
          "metadata": {},
          "output_type": "execute_result"
        }
      ],
      "source": [
        "from google.colab import files\n",
        "files.upload() "
      ]
    },
    {
      "cell_type": "code",
      "execution_count": null,
      "metadata": {
        "id": "gUeLlQmz830l"
      },
      "outputs": [],
      "source": [
        "data = pd.read_csv('v1.csv')\n",
        "# data = pd.read_csv('v2.csv')\n",
        "# data = pd.read_csv('v3.csv')\n",
        "#data = pd.read_csv('v4.csv')"
      ]
    },
    {
      "cell_type": "markdown",
      "metadata": {
        "id": "jtkzFM-G9nR2"
      },
      "source": [
        "# Q2 [2 marks] How many samples are there in the dataset?\n",
        "\n",
        "Type: NAT\n",
        "\n",
        "**Ans: 2000 (for all versions)**"
      ]
    },
    {
      "cell_type": "markdown",
      "metadata": {
        "id": "lP8hFlMpfH-X"
      },
      "source": [
        "# Q3 [2 marks] How many features are there in the dataset?\n",
        "\n",
        "Type: NAT\n",
        "\n",
        "**Ans: 12 (for all versions)**"
      ]
    },
    {
      "cell_type": "code",
      "execution_count": null,
      "metadata": {
        "colab": {
          "base_uri": "https://localhost:8080/"
        },
        "id": "DrroZ3iK9yoE",
        "outputId": "b8fd7f31-7776-440e-e114-dceb8f9dd2d4"
      },
      "outputs": [
        {
          "data": {
            "text/plain": [
              "pandas.core.frame.DataFrame"
            ]
          },
          "execution_count": 4,
          "metadata": {},
          "output_type": "execute_result"
        }
      ],
      "source": [
        "type(data)"
      ]
    },
    {
      "cell_type": "code",
      "execution_count": null,
      "metadata": {
        "colab": {
          "base_uri": "https://localhost:8080/",
          "height": 285
        },
        "id": "ihLhDHtWAJzL",
        "outputId": "21688c41-071d-40b1-932b-6f2b6bf39d86"
      },
      "outputs": [
        {
          "data": {
            "text/html": [
              "\n",
              "  <div id=\"df-0d2c71b1-038c-4911-b52a-bb783213dce7\">\n",
              "    <div class=\"colab-df-container\">\n",
              "      <div>\n",
              "<style scoped>\n",
              "    .dataframe tbody tr th:only-of-type {\n",
              "        vertical-align: middle;\n",
              "    }\n",
              "\n",
              "    .dataframe tbody tr th {\n",
              "        vertical-align: top;\n",
              "    }\n",
              "\n",
              "    .dataframe thead th {\n",
              "        text-align: right;\n",
              "    }\n",
              "</style>\n",
              "<table border=\"1\" class=\"dataframe\">\n",
              "  <thead>\n",
              "    <tr style=\"text-align: right;\">\n",
              "      <th></th>\n",
              "      <th>name</th>\n",
              "      <th>year</th>\n",
              "      <th>selling_price</th>\n",
              "      <th>km_driven</th>\n",
              "      <th>fuel</th>\n",
              "      <th>seller_type</th>\n",
              "      <th>transmission</th>\n",
              "      <th>owner</th>\n",
              "      <th>mileage</th>\n",
              "      <th>engine</th>\n",
              "      <th>max_power</th>\n",
              "      <th>seats</th>\n",
              "    </tr>\n",
              "  </thead>\n",
              "  <tbody>\n",
              "    <tr>\n",
              "      <th>0</th>\n",
              "      <td>Maruti</td>\n",
              "      <td>2014</td>\n",
              "      <td>450000</td>\n",
              "      <td>145500</td>\n",
              "      <td>Diesel</td>\n",
              "      <td>Individual</td>\n",
              "      <td>Manual</td>\n",
              "      <td>First Owner</td>\n",
              "      <td>23.40</td>\n",
              "      <td>1248.0</td>\n",
              "      <td>74.00</td>\n",
              "      <td>5.0</td>\n",
              "    </tr>\n",
              "    <tr>\n",
              "      <th>1</th>\n",
              "      <td>Skoda</td>\n",
              "      <td>2014</td>\n",
              "      <td>370000</td>\n",
              "      <td>120000</td>\n",
              "      <td>Diesel</td>\n",
              "      <td>Individual</td>\n",
              "      <td>Manual</td>\n",
              "      <td>Second Owner</td>\n",
              "      <td>21.14</td>\n",
              "      <td>1498.0</td>\n",
              "      <td>103.52</td>\n",
              "      <td>5.0</td>\n",
              "    </tr>\n",
              "    <tr>\n",
              "      <th>2</th>\n",
              "      <td>Honda</td>\n",
              "      <td>2006</td>\n",
              "      <td>158000</td>\n",
              "      <td>140000</td>\n",
              "      <td>Petrol</td>\n",
              "      <td>Individual</td>\n",
              "      <td>Manual</td>\n",
              "      <td>Third Owner</td>\n",
              "      <td>17.70</td>\n",
              "      <td>1497.0</td>\n",
              "      <td>78.00</td>\n",
              "      <td>5.0</td>\n",
              "    </tr>\n",
              "    <tr>\n",
              "      <th>3</th>\n",
              "      <td>Hyundai</td>\n",
              "      <td>2010</td>\n",
              "      <td>225000</td>\n",
              "      <td>127000</td>\n",
              "      <td>Diesel</td>\n",
              "      <td>Individual</td>\n",
              "      <td>Manual</td>\n",
              "      <td>First Owner</td>\n",
              "      <td>23.00</td>\n",
              "      <td>1396.0</td>\n",
              "      <td>90.00</td>\n",
              "      <td>5.0</td>\n",
              "    </tr>\n",
              "    <tr>\n",
              "      <th>4</th>\n",
              "      <td>Maruti</td>\n",
              "      <td>2007</td>\n",
              "      <td>130000</td>\n",
              "      <td>120000</td>\n",
              "      <td>Petrol</td>\n",
              "      <td>Individual</td>\n",
              "      <td>Manual</td>\n",
              "      <td>First Owner</td>\n",
              "      <td>16.10</td>\n",
              "      <td>1298.0</td>\n",
              "      <td>88.20</td>\n",
              "      <td>5.0</td>\n",
              "    </tr>\n",
              "  </tbody>\n",
              "</table>\n",
              "</div>\n",
              "      <button class=\"colab-df-convert\" onclick=\"convertToInteractive('df-0d2c71b1-038c-4911-b52a-bb783213dce7')\"\n",
              "              title=\"Convert this dataframe to an interactive table.\"\n",
              "              style=\"display:none;\">\n",
              "        \n",
              "  <svg xmlns=\"http://www.w3.org/2000/svg\" height=\"24px\"viewBox=\"0 0 24 24\"\n",
              "       width=\"24px\">\n",
              "    <path d=\"M0 0h24v24H0V0z\" fill=\"none\"/>\n",
              "    <path d=\"M18.56 5.44l.94 2.06.94-2.06 2.06-.94-2.06-.94-.94-2.06-.94 2.06-2.06.94zm-11 1L8.5 8.5l.94-2.06 2.06-.94-2.06-.94L8.5 2.5l-.94 2.06-2.06.94zm10 10l.94 2.06.94-2.06 2.06-.94-2.06-.94-.94-2.06-.94 2.06-2.06.94z\"/><path d=\"M17.41 7.96l-1.37-1.37c-.4-.4-.92-.59-1.43-.59-.52 0-1.04.2-1.43.59L10.3 9.45l-7.72 7.72c-.78.78-.78 2.05 0 2.83L4 21.41c.39.39.9.59 1.41.59.51 0 1.02-.2 1.41-.59l7.78-7.78 2.81-2.81c.8-.78.8-2.07 0-2.86zM5.41 20L4 18.59l7.72-7.72 1.47 1.35L5.41 20z\"/>\n",
              "  </svg>\n",
              "      </button>\n",
              "      \n",
              "  <style>\n",
              "    .colab-df-container {\n",
              "      display:flex;\n",
              "      flex-wrap:wrap;\n",
              "      gap: 12px;\n",
              "    }\n",
              "\n",
              "    .colab-df-convert {\n",
              "      background-color: #E8F0FE;\n",
              "      border: none;\n",
              "      border-radius: 50%;\n",
              "      cursor: pointer;\n",
              "      display: none;\n",
              "      fill: #1967D2;\n",
              "      height: 32px;\n",
              "      padding: 0 0 0 0;\n",
              "      width: 32px;\n",
              "    }\n",
              "\n",
              "    .colab-df-convert:hover {\n",
              "      background-color: #E2EBFA;\n",
              "      box-shadow: 0px 1px 2px rgba(60, 64, 67, 0.3), 0px 1px 3px 1px rgba(60, 64, 67, 0.15);\n",
              "      fill: #174EA6;\n",
              "    }\n",
              "\n",
              "    [theme=dark] .colab-df-convert {\n",
              "      background-color: #3B4455;\n",
              "      fill: #D2E3FC;\n",
              "    }\n",
              "\n",
              "    [theme=dark] .colab-df-convert:hover {\n",
              "      background-color: #434B5C;\n",
              "      box-shadow: 0px 1px 3px 1px rgba(0, 0, 0, 0.15);\n",
              "      filter: drop-shadow(0px 1px 2px rgba(0, 0, 0, 0.3));\n",
              "      fill: #FFFFFF;\n",
              "    }\n",
              "  </style>\n",
              "\n",
              "      <script>\n",
              "        const buttonEl =\n",
              "          document.querySelector('#df-0d2c71b1-038c-4911-b52a-bb783213dce7 button.colab-df-convert');\n",
              "        buttonEl.style.display =\n",
              "          google.colab.kernel.accessAllowed ? 'block' : 'none';\n",
              "\n",
              "        async function convertToInteractive(key) {\n",
              "          const element = document.querySelector('#df-0d2c71b1-038c-4911-b52a-bb783213dce7');\n",
              "          const dataTable =\n",
              "            await google.colab.kernel.invokeFunction('convertToInteractive',\n",
              "                                                     [key], {});\n",
              "          if (!dataTable) return;\n",
              "\n",
              "          const docLinkHtml = 'Like what you see? Visit the ' +\n",
              "            '<a target=\"_blank\" href=https://colab.research.google.com/notebooks/data_table.ipynb>data table notebook</a>'\n",
              "            + ' to learn more about interactive tables.';\n",
              "          element.innerHTML = '';\n",
              "          dataTable['output_type'] = 'display_data';\n",
              "          await google.colab.output.renderOutput(dataTable, element);\n",
              "          const docLink = document.createElement('div');\n",
              "          docLink.innerHTML = docLinkHtml;\n",
              "          element.appendChild(docLink);\n",
              "        }\n",
              "      </script>\n",
              "    </div>\n",
              "  </div>\n",
              "  "
            ],
            "text/plain": [
              "      name  year  selling_price  km_driven    fuel seller_type transmission  \\\n",
              "0   Maruti  2014         450000     145500  Diesel  Individual       Manual   \n",
              "1    Skoda  2014         370000     120000  Diesel  Individual       Manual   \n",
              "2    Honda  2006         158000     140000  Petrol  Individual       Manual   \n",
              "3  Hyundai  2010         225000     127000  Diesel  Individual       Manual   \n",
              "4   Maruti  2007         130000     120000  Petrol  Individual       Manual   \n",
              "\n",
              "          owner  mileage  engine  max_power  seats  \n",
              "0   First Owner    23.40  1248.0      74.00    5.0  \n",
              "1  Second Owner    21.14  1498.0     103.52    5.0  \n",
              "2   Third Owner    17.70  1497.0      78.00    5.0  \n",
              "3   First Owner    23.00  1396.0      90.00    5.0  \n",
              "4   First Owner    16.10  1298.0      88.20    5.0  "
            ]
          },
          "execution_count": 5,
          "metadata": {},
          "output_type": "execute_result"
        }
      ],
      "source": [
        "data.head()"
      ]
    },
    {
      "cell_type": "code",
      "execution_count": null,
      "metadata": {
        "colab": {
          "base_uri": "https://localhost:8080/"
        },
        "id": "zcnSGnpa91RJ",
        "outputId": "d4ec1ef5-05ea-48d0-cab1-d2d1abc74fc9"
      },
      "outputs": [
        {
          "data": {
            "text/plain": [
              "(2000, 12)"
            ]
          },
          "execution_count": 6,
          "metadata": {},
          "output_type": "execute_result"
        }
      ],
      "source": [
        "data.shape"
      ]
    },
    {
      "cell_type": "markdown",
      "metadata": {
        "id": "2v-t4VMDCBbi"
      },
      "source": [
        "# Q4 [3 marks] Which of the following are categorical features?\n",
        "\n",
        "(a) selling_price\\\n",
        "(b) km_driven \\\n",
        "(c) fuel\\\n",
        "(d) transmission\\\n",
        "(e) mileage\n",
        "\n",
        "Type: Multiple SELECT\n",
        "\n",
        "**Ans: (c) fuel, (d) transmission** (for all versions)\n"
      ]
    },
    {
      "cell_type": "code",
      "execution_count": null,
      "metadata": {
        "colab": {
          "base_uri": "https://localhost:8080/"
        },
        "id": "wQYVmoGeCEtW",
        "outputId": "03b62a30-4a44-43b9-e50d-5f5c6c97642d"
      },
      "outputs": [
        {
          "data": {
            "text/plain": [
              "Index(['name', 'year', 'selling_price', 'km_driven', 'fuel', 'seller_type',\n",
              "       'transmission', 'owner', 'mileage', 'engine', 'max_power', 'seats'],\n",
              "      dtype='object')"
            ]
          },
          "execution_count": 7,
          "metadata": {},
          "output_type": "execute_result"
        }
      ],
      "source": [
        "data.columns"
      ]
    },
    {
      "cell_type": "code",
      "execution_count": null,
      "metadata": {
        "colab": {
          "base_uri": "https://localhost:8080/",
          "height": 206
        },
        "id": "Vd_AOjTCAeF1",
        "outputId": "08a0f5d3-4be5-4f41-f9bd-d308a9d6bb7c"
      },
      "outputs": [
        {
          "data": {
            "text/html": [
              "\n",
              "  <div id=\"df-020dd9fa-3155-4fea-b1d4-294cf86c4b50\">\n",
              "    <div class=\"colab-df-container\">\n",
              "      <div>\n",
              "<style scoped>\n",
              "    .dataframe tbody tr th:only-of-type {\n",
              "        vertical-align: middle;\n",
              "    }\n",
              "\n",
              "    .dataframe tbody tr th {\n",
              "        vertical-align: top;\n",
              "    }\n",
              "\n",
              "    .dataframe thead th {\n",
              "        text-align: right;\n",
              "    }\n",
              "</style>\n",
              "<table border=\"1\" class=\"dataframe\">\n",
              "  <thead>\n",
              "    <tr style=\"text-align: right;\">\n",
              "      <th></th>\n",
              "      <th>name</th>\n",
              "      <th>year</th>\n",
              "      <th>selling_price</th>\n",
              "      <th>km_driven</th>\n",
              "      <th>fuel</th>\n",
              "      <th>seller_type</th>\n",
              "      <th>transmission</th>\n",
              "      <th>owner</th>\n",
              "      <th>mileage</th>\n",
              "      <th>engine</th>\n",
              "      <th>max_power</th>\n",
              "      <th>seats</th>\n",
              "    </tr>\n",
              "  </thead>\n",
              "  <tbody>\n",
              "    <tr>\n",
              "      <th>0</th>\n",
              "      <td>Maruti</td>\n",
              "      <td>2014</td>\n",
              "      <td>450000</td>\n",
              "      <td>145500</td>\n",
              "      <td>Diesel</td>\n",
              "      <td>Individual</td>\n",
              "      <td>Manual</td>\n",
              "      <td>First Owner</td>\n",
              "      <td>23.40</td>\n",
              "      <td>1248.0</td>\n",
              "      <td>74.00</td>\n",
              "      <td>5.0</td>\n",
              "    </tr>\n",
              "    <tr>\n",
              "      <th>1</th>\n",
              "      <td>Skoda</td>\n",
              "      <td>2014</td>\n",
              "      <td>370000</td>\n",
              "      <td>120000</td>\n",
              "      <td>Diesel</td>\n",
              "      <td>Individual</td>\n",
              "      <td>Manual</td>\n",
              "      <td>Second Owner</td>\n",
              "      <td>21.14</td>\n",
              "      <td>1498.0</td>\n",
              "      <td>103.52</td>\n",
              "      <td>5.0</td>\n",
              "    </tr>\n",
              "    <tr>\n",
              "      <th>2</th>\n",
              "      <td>Honda</td>\n",
              "      <td>2006</td>\n",
              "      <td>158000</td>\n",
              "      <td>140000</td>\n",
              "      <td>Petrol</td>\n",
              "      <td>Individual</td>\n",
              "      <td>Manual</td>\n",
              "      <td>Third Owner</td>\n",
              "      <td>17.70</td>\n",
              "      <td>1497.0</td>\n",
              "      <td>78.00</td>\n",
              "      <td>5.0</td>\n",
              "    </tr>\n",
              "    <tr>\n",
              "      <th>3</th>\n",
              "      <td>Hyundai</td>\n",
              "      <td>2010</td>\n",
              "      <td>225000</td>\n",
              "      <td>127000</td>\n",
              "      <td>Diesel</td>\n",
              "      <td>Individual</td>\n",
              "      <td>Manual</td>\n",
              "      <td>First Owner</td>\n",
              "      <td>23.00</td>\n",
              "      <td>1396.0</td>\n",
              "      <td>90.00</td>\n",
              "      <td>5.0</td>\n",
              "    </tr>\n",
              "    <tr>\n",
              "      <th>4</th>\n",
              "      <td>Maruti</td>\n",
              "      <td>2007</td>\n",
              "      <td>130000</td>\n",
              "      <td>120000</td>\n",
              "      <td>Petrol</td>\n",
              "      <td>Individual</td>\n",
              "      <td>Manual</td>\n",
              "      <td>First Owner</td>\n",
              "      <td>16.10</td>\n",
              "      <td>1298.0</td>\n",
              "      <td>88.20</td>\n",
              "      <td>5.0</td>\n",
              "    </tr>\n",
              "  </tbody>\n",
              "</table>\n",
              "</div>\n",
              "      <button class=\"colab-df-convert\" onclick=\"convertToInteractive('df-020dd9fa-3155-4fea-b1d4-294cf86c4b50')\"\n",
              "              title=\"Convert this dataframe to an interactive table.\"\n",
              "              style=\"display:none;\">\n",
              "        \n",
              "  <svg xmlns=\"http://www.w3.org/2000/svg\" height=\"24px\"viewBox=\"0 0 24 24\"\n",
              "       width=\"24px\">\n",
              "    <path d=\"M0 0h24v24H0V0z\" fill=\"none\"/>\n",
              "    <path d=\"M18.56 5.44l.94 2.06.94-2.06 2.06-.94-2.06-.94-.94-2.06-.94 2.06-2.06.94zm-11 1L8.5 8.5l.94-2.06 2.06-.94-2.06-.94L8.5 2.5l-.94 2.06-2.06.94zm10 10l.94 2.06.94-2.06 2.06-.94-2.06-.94-.94-2.06-.94 2.06-2.06.94z\"/><path d=\"M17.41 7.96l-1.37-1.37c-.4-.4-.92-.59-1.43-.59-.52 0-1.04.2-1.43.59L10.3 9.45l-7.72 7.72c-.78.78-.78 2.05 0 2.83L4 21.41c.39.39.9.59 1.41.59.51 0 1.02-.2 1.41-.59l7.78-7.78 2.81-2.81c.8-.78.8-2.07 0-2.86zM5.41 20L4 18.59l7.72-7.72 1.47 1.35L5.41 20z\"/>\n",
              "  </svg>\n",
              "      </button>\n",
              "      \n",
              "  <style>\n",
              "    .colab-df-container {\n",
              "      display:flex;\n",
              "      flex-wrap:wrap;\n",
              "      gap: 12px;\n",
              "    }\n",
              "\n",
              "    .colab-df-convert {\n",
              "      background-color: #E8F0FE;\n",
              "      border: none;\n",
              "      border-radius: 50%;\n",
              "      cursor: pointer;\n",
              "      display: none;\n",
              "      fill: #1967D2;\n",
              "      height: 32px;\n",
              "      padding: 0 0 0 0;\n",
              "      width: 32px;\n",
              "    }\n",
              "\n",
              "    .colab-df-convert:hover {\n",
              "      background-color: #E2EBFA;\n",
              "      box-shadow: 0px 1px 2px rgba(60, 64, 67, 0.3), 0px 1px 3px 1px rgba(60, 64, 67, 0.15);\n",
              "      fill: #174EA6;\n",
              "    }\n",
              "\n",
              "    [theme=dark] .colab-df-convert {\n",
              "      background-color: #3B4455;\n",
              "      fill: #D2E3FC;\n",
              "    }\n",
              "\n",
              "    [theme=dark] .colab-df-convert:hover {\n",
              "      background-color: #434B5C;\n",
              "      box-shadow: 0px 1px 3px 1px rgba(0, 0, 0, 0.15);\n",
              "      filter: drop-shadow(0px 1px 2px rgba(0, 0, 0, 0.3));\n",
              "      fill: #FFFFFF;\n",
              "    }\n",
              "  </style>\n",
              "\n",
              "      <script>\n",
              "        const buttonEl =\n",
              "          document.querySelector('#df-020dd9fa-3155-4fea-b1d4-294cf86c4b50 button.colab-df-convert');\n",
              "        buttonEl.style.display =\n",
              "          google.colab.kernel.accessAllowed ? 'block' : 'none';\n",
              "\n",
              "        async function convertToInteractive(key) {\n",
              "          const element = document.querySelector('#df-020dd9fa-3155-4fea-b1d4-294cf86c4b50');\n",
              "          const dataTable =\n",
              "            await google.colab.kernel.invokeFunction('convertToInteractive',\n",
              "                                                     [key], {});\n",
              "          if (!dataTable) return;\n",
              "\n",
              "          const docLinkHtml = 'Like what you see? Visit the ' +\n",
              "            '<a target=\"_blank\" href=https://colab.research.google.com/notebooks/data_table.ipynb>data table notebook</a>'\n",
              "            + ' to learn more about interactive tables.';\n",
              "          element.innerHTML = '';\n",
              "          dataTable['output_type'] = 'display_data';\n",
              "          await google.colab.output.renderOutput(dataTable, element);\n",
              "          const docLink = document.createElement('div');\n",
              "          docLink.innerHTML = docLinkHtml;\n",
              "          element.appendChild(docLink);\n",
              "        }\n",
              "      </script>\n",
              "    </div>\n",
              "  </div>\n",
              "  "
            ],
            "text/plain": [
              "      name  year  selling_price  km_driven  ... mileage  engine max_power seats\n",
              "0   Maruti  2014         450000     145500  ...   23.40  1248.0     74.00   5.0\n",
              "1    Skoda  2014         370000     120000  ...   21.14  1498.0    103.52   5.0\n",
              "2    Honda  2006         158000     140000  ...   17.70  1497.0     78.00   5.0\n",
              "3  Hyundai  2010         225000     127000  ...   23.00  1396.0     90.00   5.0\n",
              "4   Maruti  2007         130000     120000  ...   16.10  1298.0     88.20   5.0\n",
              "\n",
              "[5 rows x 12 columns]"
            ]
          },
          "execution_count": 9,
          "metadata": {},
          "output_type": "execute_result"
        }
      ],
      "source": [
        "data.head()"
      ]
    },
    {
      "cell_type": "code",
      "execution_count": null,
      "metadata": {
        "colab": {
          "base_uri": "https://localhost:8080/"
        },
        "id": "lqYr9AzhAMUd",
        "outputId": "6af79df9-7e15-4868-bf9a-c76f3740527a"
      },
      "outputs": [
        {
          "data": {
            "text/plain": [
              "(2000, 12)"
            ]
          },
          "execution_count": 10,
          "metadata": {},
          "output_type": "execute_result"
        }
      ],
      "source": [
        "data.shape"
      ]
    },
    {
      "cell_type": "markdown",
      "metadata": {
        "id": "aNhid4ce-FP2"
      },
      "source": [
        "# Q5 [3 marks] The task is to predict the selling price of a car based on its features. So, we will have `selling_price` as the target variable. Out of the remaining, how many numerical features are there? \n",
        "\n",
        "Type: NAT\n",
        "\n",
        "**Ans: 6** (for all versions)"
      ]
    },
    {
      "cell_type": "code",
      "execution_count": null,
      "metadata": {
        "colab": {
          "base_uri": "https://localhost:8080/",
          "height": 206
        },
        "id": "0kg82VJp9abT",
        "outputId": "e71d39e4-0580-4dba-e0de-cdd4de129b43"
      },
      "outputs": [
        {
          "data": {
            "text/html": [
              "\n",
              "  <div id=\"df-82bb8b45-4aed-4dc5-80df-40b1620ef933\">\n",
              "    <div class=\"colab-df-container\">\n",
              "      <div>\n",
              "<style scoped>\n",
              "    .dataframe tbody tr th:only-of-type {\n",
              "        vertical-align: middle;\n",
              "    }\n",
              "\n",
              "    .dataframe tbody tr th {\n",
              "        vertical-align: top;\n",
              "    }\n",
              "\n",
              "    .dataframe thead th {\n",
              "        text-align: right;\n",
              "    }\n",
              "</style>\n",
              "<table border=\"1\" class=\"dataframe\">\n",
              "  <thead>\n",
              "    <tr style=\"text-align: right;\">\n",
              "      <th></th>\n",
              "      <th>name</th>\n",
              "      <th>year</th>\n",
              "      <th>selling_price</th>\n",
              "      <th>km_driven</th>\n",
              "      <th>fuel</th>\n",
              "      <th>seller_type</th>\n",
              "      <th>transmission</th>\n",
              "      <th>owner</th>\n",
              "      <th>mileage</th>\n",
              "      <th>engine</th>\n",
              "      <th>max_power</th>\n",
              "      <th>seats</th>\n",
              "    </tr>\n",
              "  </thead>\n",
              "  <tbody>\n",
              "    <tr>\n",
              "      <th>0</th>\n",
              "      <td>Maruti</td>\n",
              "      <td>2014</td>\n",
              "      <td>450000</td>\n",
              "      <td>145500</td>\n",
              "      <td>Diesel</td>\n",
              "      <td>Individual</td>\n",
              "      <td>Manual</td>\n",
              "      <td>First Owner</td>\n",
              "      <td>23.40</td>\n",
              "      <td>1248.0</td>\n",
              "      <td>74.00</td>\n",
              "      <td>5.0</td>\n",
              "    </tr>\n",
              "    <tr>\n",
              "      <th>1</th>\n",
              "      <td>Skoda</td>\n",
              "      <td>2014</td>\n",
              "      <td>370000</td>\n",
              "      <td>120000</td>\n",
              "      <td>Diesel</td>\n",
              "      <td>Individual</td>\n",
              "      <td>Manual</td>\n",
              "      <td>Second Owner</td>\n",
              "      <td>21.14</td>\n",
              "      <td>1498.0</td>\n",
              "      <td>103.52</td>\n",
              "      <td>5.0</td>\n",
              "    </tr>\n",
              "    <tr>\n",
              "      <th>2</th>\n",
              "      <td>Honda</td>\n",
              "      <td>2006</td>\n",
              "      <td>158000</td>\n",
              "      <td>140000</td>\n",
              "      <td>Petrol</td>\n",
              "      <td>Individual</td>\n",
              "      <td>Manual</td>\n",
              "      <td>Third Owner</td>\n",
              "      <td>17.70</td>\n",
              "      <td>1497.0</td>\n",
              "      <td>78.00</td>\n",
              "      <td>5.0</td>\n",
              "    </tr>\n",
              "    <tr>\n",
              "      <th>3</th>\n",
              "      <td>Hyundai</td>\n",
              "      <td>2010</td>\n",
              "      <td>225000</td>\n",
              "      <td>127000</td>\n",
              "      <td>Diesel</td>\n",
              "      <td>Individual</td>\n",
              "      <td>Manual</td>\n",
              "      <td>First Owner</td>\n",
              "      <td>23.00</td>\n",
              "      <td>1396.0</td>\n",
              "      <td>90.00</td>\n",
              "      <td>5.0</td>\n",
              "    </tr>\n",
              "    <tr>\n",
              "      <th>4</th>\n",
              "      <td>Maruti</td>\n",
              "      <td>2007</td>\n",
              "      <td>130000</td>\n",
              "      <td>120000</td>\n",
              "      <td>Petrol</td>\n",
              "      <td>Individual</td>\n",
              "      <td>Manual</td>\n",
              "      <td>First Owner</td>\n",
              "      <td>16.10</td>\n",
              "      <td>1298.0</td>\n",
              "      <td>88.20</td>\n",
              "      <td>5.0</td>\n",
              "    </tr>\n",
              "  </tbody>\n",
              "</table>\n",
              "</div>\n",
              "      <button class=\"colab-df-convert\" onclick=\"convertToInteractive('df-82bb8b45-4aed-4dc5-80df-40b1620ef933')\"\n",
              "              title=\"Convert this dataframe to an interactive table.\"\n",
              "              style=\"display:none;\">\n",
              "        \n",
              "  <svg xmlns=\"http://www.w3.org/2000/svg\" height=\"24px\"viewBox=\"0 0 24 24\"\n",
              "       width=\"24px\">\n",
              "    <path d=\"M0 0h24v24H0V0z\" fill=\"none\"/>\n",
              "    <path d=\"M18.56 5.44l.94 2.06.94-2.06 2.06-.94-2.06-.94-.94-2.06-.94 2.06-2.06.94zm-11 1L8.5 8.5l.94-2.06 2.06-.94-2.06-.94L8.5 2.5l-.94 2.06-2.06.94zm10 10l.94 2.06.94-2.06 2.06-.94-2.06-.94-.94-2.06-.94 2.06-2.06.94z\"/><path d=\"M17.41 7.96l-1.37-1.37c-.4-.4-.92-.59-1.43-.59-.52 0-1.04.2-1.43.59L10.3 9.45l-7.72 7.72c-.78.78-.78 2.05 0 2.83L4 21.41c.39.39.9.59 1.41.59.51 0 1.02-.2 1.41-.59l7.78-7.78 2.81-2.81c.8-.78.8-2.07 0-2.86zM5.41 20L4 18.59l7.72-7.72 1.47 1.35L5.41 20z\"/>\n",
              "  </svg>\n",
              "      </button>\n",
              "      \n",
              "  <style>\n",
              "    .colab-df-container {\n",
              "      display:flex;\n",
              "      flex-wrap:wrap;\n",
              "      gap: 12px;\n",
              "    }\n",
              "\n",
              "    .colab-df-convert {\n",
              "      background-color: #E8F0FE;\n",
              "      border: none;\n",
              "      border-radius: 50%;\n",
              "      cursor: pointer;\n",
              "      display: none;\n",
              "      fill: #1967D2;\n",
              "      height: 32px;\n",
              "      padding: 0 0 0 0;\n",
              "      width: 32px;\n",
              "    }\n",
              "\n",
              "    .colab-df-convert:hover {\n",
              "      background-color: #E2EBFA;\n",
              "      box-shadow: 0px 1px 2px rgba(60, 64, 67, 0.3), 0px 1px 3px 1px rgba(60, 64, 67, 0.15);\n",
              "      fill: #174EA6;\n",
              "    }\n",
              "\n",
              "    [theme=dark] .colab-df-convert {\n",
              "      background-color: #3B4455;\n",
              "      fill: #D2E3FC;\n",
              "    }\n",
              "\n",
              "    [theme=dark] .colab-df-convert:hover {\n",
              "      background-color: #434B5C;\n",
              "      box-shadow: 0px 1px 3px 1px rgba(0, 0, 0, 0.15);\n",
              "      filter: drop-shadow(0px 1px 2px rgba(0, 0, 0, 0.3));\n",
              "      fill: #FFFFFF;\n",
              "    }\n",
              "  </style>\n",
              "\n",
              "      <script>\n",
              "        const buttonEl =\n",
              "          document.querySelector('#df-82bb8b45-4aed-4dc5-80df-40b1620ef933 button.colab-df-convert');\n",
              "        buttonEl.style.display =\n",
              "          google.colab.kernel.accessAllowed ? 'block' : 'none';\n",
              "\n",
              "        async function convertToInteractive(key) {\n",
              "          const element = document.querySelector('#df-82bb8b45-4aed-4dc5-80df-40b1620ef933');\n",
              "          const dataTable =\n",
              "            await google.colab.kernel.invokeFunction('convertToInteractive',\n",
              "                                                     [key], {});\n",
              "          if (!dataTable) return;\n",
              "\n",
              "          const docLinkHtml = 'Like what you see? Visit the ' +\n",
              "            '<a target=\"_blank\" href=https://colab.research.google.com/notebooks/data_table.ipynb>data table notebook</a>'\n",
              "            + ' to learn more about interactive tables.';\n",
              "          element.innerHTML = '';\n",
              "          dataTable['output_type'] = 'display_data';\n",
              "          await google.colab.output.renderOutput(dataTable, element);\n",
              "          const docLink = document.createElement('div');\n",
              "          docLink.innerHTML = docLinkHtml;\n",
              "          element.appendChild(docLink);\n",
              "        }\n",
              "      </script>\n",
              "    </div>\n",
              "  </div>\n",
              "  "
            ],
            "text/plain": [
              "      name  year  selling_price  km_driven  ... mileage  engine max_power seats\n",
              "0   Maruti  2014         450000     145500  ...   23.40  1248.0     74.00   5.0\n",
              "1    Skoda  2014         370000     120000  ...   21.14  1498.0    103.52   5.0\n",
              "2    Honda  2006         158000     140000  ...   17.70  1497.0     78.00   5.0\n",
              "3  Hyundai  2010         225000     127000  ...   23.00  1396.0     90.00   5.0\n",
              "4   Maruti  2007         130000     120000  ...   16.10  1298.0     88.20   5.0\n",
              "\n",
              "[5 rows x 12 columns]"
            ]
          },
          "execution_count": 11,
          "metadata": {},
          "output_type": "execute_result"
        }
      ],
      "source": [
        "data.head()"
      ]
    },
    {
      "cell_type": "code",
      "execution_count": null,
      "metadata": {
        "colab": {
          "base_uri": "https://localhost:8080/",
          "height": 206
        },
        "id": "BEvtezEU_D5W",
        "outputId": "8d5edf21-c308-4529-9b05-8f34086a6e86"
      },
      "outputs": [
        {
          "data": {
            "text/html": [
              "\n",
              "  <div id=\"df-2f4b1e16-345f-490e-aa66-86678f8aea8b\">\n",
              "    <div class=\"colab-df-container\">\n",
              "      <div>\n",
              "<style scoped>\n",
              "    .dataframe tbody tr th:only-of-type {\n",
              "        vertical-align: middle;\n",
              "    }\n",
              "\n",
              "    .dataframe tbody tr th {\n",
              "        vertical-align: top;\n",
              "    }\n",
              "\n",
              "    .dataframe thead th {\n",
              "        text-align: right;\n",
              "    }\n",
              "</style>\n",
              "<table border=\"1\" class=\"dataframe\">\n",
              "  <thead>\n",
              "    <tr style=\"text-align: right;\">\n",
              "      <th></th>\n",
              "      <th>name</th>\n",
              "      <th>year</th>\n",
              "      <th>selling_price</th>\n",
              "      <th>km_driven</th>\n",
              "      <th>fuel</th>\n",
              "      <th>seller_type</th>\n",
              "      <th>transmission</th>\n",
              "      <th>owner</th>\n",
              "      <th>mileage</th>\n",
              "      <th>engine</th>\n",
              "      <th>max_power</th>\n",
              "      <th>seats</th>\n",
              "    </tr>\n",
              "  </thead>\n",
              "  <tbody>\n",
              "    <tr>\n",
              "      <th>1995</th>\n",
              "      <td>Maruti</td>\n",
              "      <td>2016</td>\n",
              "      <td>839000</td>\n",
              "      <td>63000</td>\n",
              "      <td>Diesel</td>\n",
              "      <td>Dealer</td>\n",
              "      <td>Manual</td>\n",
              "      <td>First Owner</td>\n",
              "      <td>24.30</td>\n",
              "      <td>1248.0</td>\n",
              "      <td>88.5</td>\n",
              "      <td>5.0</td>\n",
              "    </tr>\n",
              "    <tr>\n",
              "      <th>1996</th>\n",
              "      <td>Volkswagen</td>\n",
              "      <td>2019</td>\n",
              "      <td>635000</td>\n",
              "      <td>2000</td>\n",
              "      <td>Petrol</td>\n",
              "      <td>Dealer</td>\n",
              "      <td>Manual</td>\n",
              "      <td>First Owner</td>\n",
              "      <td>16.20</td>\n",
              "      <td>1199.0</td>\n",
              "      <td>74.0</td>\n",
              "      <td>5.0</td>\n",
              "    </tr>\n",
              "    <tr>\n",
              "      <th>1997</th>\n",
              "      <td>Mahindra</td>\n",
              "      <td>2014</td>\n",
              "      <td>550000</td>\n",
              "      <td>300000</td>\n",
              "      <td>Diesel</td>\n",
              "      <td>Individual</td>\n",
              "      <td>Manual</td>\n",
              "      <td>Third Owner</td>\n",
              "      <td>12.05</td>\n",
              "      <td>2179.0</td>\n",
              "      <td>120.0</td>\n",
              "      <td>8.0</td>\n",
              "    </tr>\n",
              "    <tr>\n",
              "      <th>1998</th>\n",
              "      <td>Mahindra</td>\n",
              "      <td>2011</td>\n",
              "      <td>180000</td>\n",
              "      <td>190000</td>\n",
              "      <td>Diesel</td>\n",
              "      <td>Individual</td>\n",
              "      <td>Manual</td>\n",
              "      <td>Third Owner</td>\n",
              "      <td>19.20</td>\n",
              "      <td>1461.0</td>\n",
              "      <td>65.0</td>\n",
              "      <td>5.0</td>\n",
              "    </tr>\n",
              "    <tr>\n",
              "      <th>1999</th>\n",
              "      <td>Honda</td>\n",
              "      <td>2015</td>\n",
              "      <td>650000</td>\n",
              "      <td>80000</td>\n",
              "      <td>Diesel</td>\n",
              "      <td>Individual</td>\n",
              "      <td>Manual</td>\n",
              "      <td>First Owner</td>\n",
              "      <td>26.00</td>\n",
              "      <td>1498.0</td>\n",
              "      <td>98.6</td>\n",
              "      <td>5.0</td>\n",
              "    </tr>\n",
              "  </tbody>\n",
              "</table>\n",
              "</div>\n",
              "      <button class=\"colab-df-convert\" onclick=\"convertToInteractive('df-2f4b1e16-345f-490e-aa66-86678f8aea8b')\"\n",
              "              title=\"Convert this dataframe to an interactive table.\"\n",
              "              style=\"display:none;\">\n",
              "        \n",
              "  <svg xmlns=\"http://www.w3.org/2000/svg\" height=\"24px\"viewBox=\"0 0 24 24\"\n",
              "       width=\"24px\">\n",
              "    <path d=\"M0 0h24v24H0V0z\" fill=\"none\"/>\n",
              "    <path d=\"M18.56 5.44l.94 2.06.94-2.06 2.06-.94-2.06-.94-.94-2.06-.94 2.06-2.06.94zm-11 1L8.5 8.5l.94-2.06 2.06-.94-2.06-.94L8.5 2.5l-.94 2.06-2.06.94zm10 10l.94 2.06.94-2.06 2.06-.94-2.06-.94-.94-2.06-.94 2.06-2.06.94z\"/><path d=\"M17.41 7.96l-1.37-1.37c-.4-.4-.92-.59-1.43-.59-.52 0-1.04.2-1.43.59L10.3 9.45l-7.72 7.72c-.78.78-.78 2.05 0 2.83L4 21.41c.39.39.9.59 1.41.59.51 0 1.02-.2 1.41-.59l7.78-7.78 2.81-2.81c.8-.78.8-2.07 0-2.86zM5.41 20L4 18.59l7.72-7.72 1.47 1.35L5.41 20z\"/>\n",
              "  </svg>\n",
              "      </button>\n",
              "      \n",
              "  <style>\n",
              "    .colab-df-container {\n",
              "      display:flex;\n",
              "      flex-wrap:wrap;\n",
              "      gap: 12px;\n",
              "    }\n",
              "\n",
              "    .colab-df-convert {\n",
              "      background-color: #E8F0FE;\n",
              "      border: none;\n",
              "      border-radius: 50%;\n",
              "      cursor: pointer;\n",
              "      display: none;\n",
              "      fill: #1967D2;\n",
              "      height: 32px;\n",
              "      padding: 0 0 0 0;\n",
              "      width: 32px;\n",
              "    }\n",
              "\n",
              "    .colab-df-convert:hover {\n",
              "      background-color: #E2EBFA;\n",
              "      box-shadow: 0px 1px 2px rgba(60, 64, 67, 0.3), 0px 1px 3px 1px rgba(60, 64, 67, 0.15);\n",
              "      fill: #174EA6;\n",
              "    }\n",
              "\n",
              "    [theme=dark] .colab-df-convert {\n",
              "      background-color: #3B4455;\n",
              "      fill: #D2E3FC;\n",
              "    }\n",
              "\n",
              "    [theme=dark] .colab-df-convert:hover {\n",
              "      background-color: #434B5C;\n",
              "      box-shadow: 0px 1px 3px 1px rgba(0, 0, 0, 0.15);\n",
              "      filter: drop-shadow(0px 1px 2px rgba(0, 0, 0, 0.3));\n",
              "      fill: #FFFFFF;\n",
              "    }\n",
              "  </style>\n",
              "\n",
              "      <script>\n",
              "        const buttonEl =\n",
              "          document.querySelector('#df-2f4b1e16-345f-490e-aa66-86678f8aea8b button.colab-df-convert');\n",
              "        buttonEl.style.display =\n",
              "          google.colab.kernel.accessAllowed ? 'block' : 'none';\n",
              "\n",
              "        async function convertToInteractive(key) {\n",
              "          const element = document.querySelector('#df-2f4b1e16-345f-490e-aa66-86678f8aea8b');\n",
              "          const dataTable =\n",
              "            await google.colab.kernel.invokeFunction('convertToInteractive',\n",
              "                                                     [key], {});\n",
              "          if (!dataTable) return;\n",
              "\n",
              "          const docLinkHtml = 'Like what you see? Visit the ' +\n",
              "            '<a target=\"_blank\" href=https://colab.research.google.com/notebooks/data_table.ipynb>data table notebook</a>'\n",
              "            + ' to learn more about interactive tables.';\n",
              "          element.innerHTML = '';\n",
              "          dataTable['output_type'] = 'display_data';\n",
              "          await google.colab.output.renderOutput(dataTable, element);\n",
              "          const docLink = document.createElement('div');\n",
              "          docLink.innerHTML = docLinkHtml;\n",
              "          element.appendChild(docLink);\n",
              "        }\n",
              "      </script>\n",
              "    </div>\n",
              "  </div>\n",
              "  "
            ],
            "text/plain": [
              "            name  year  selling_price  ...  engine max_power seats\n",
              "1995      Maruti  2016         839000  ...  1248.0      88.5   5.0\n",
              "1996  Volkswagen  2019         635000  ...  1199.0      74.0   5.0\n",
              "1997    Mahindra  2014         550000  ...  2179.0     120.0   8.0\n",
              "1998    Mahindra  2011         180000  ...  1461.0      65.0   5.0\n",
              "1999       Honda  2015         650000  ...  1498.0      98.6   5.0\n",
              "\n",
              "[5 rows x 12 columns]"
            ]
          },
          "execution_count": 12,
          "metadata": {},
          "output_type": "execute_result"
        }
      ],
      "source": [
        "data.tail()"
      ]
    },
    {
      "cell_type": "markdown",
      "metadata": {
        "id": "-_xQpkNA-TzI"
      },
      "source": [
        "Other than selling_price, there are 11 features, out of which, there are 5 categorical columns, viz., name, fuel, seller_type, transmission and owner and 6 numerical columns, viz., year, km_driven, mileage, engine, max_power and seats."
      ]
    },
    {
      "cell_type": "markdown",
      "metadata": {
        "id": "syqQR_nxEPWj"
      },
      "source": [
        "#Q6 [2 marks] Are there any missing values?\n",
        "\n",
        "Type: MCQ\n",
        "\n",
        "(a) Yes\\\n",
        "(b) No\n",
        "\n",
        "**Ans: (a) yes** (for all versions)"
      ]
    },
    {
      "cell_type": "code",
      "execution_count": null,
      "metadata": {
        "colab": {
          "base_uri": "https://localhost:8080/"
        },
        "id": "f6UDCWGOEXR3",
        "outputId": "2ac23d54-060e-4802-8cdb-48fffedb1de0"
      },
      "outputs": [
        {
          "name": "stdout",
          "output_type": "stream",
          "text": [
            "<class 'pandas.core.frame.DataFrame'>\n",
            "RangeIndex: 2000 entries, 0 to 1999\n",
            "Data columns (total 12 columns):\n",
            " #   Column         Non-Null Count  Dtype  \n",
            "---  ------         --------------  -----  \n",
            " 0   name           2000 non-null   object \n",
            " 1   year           2000 non-null   int64  \n",
            " 2   selling_price  2000 non-null   int64  \n",
            " 3   km_driven      2000 non-null   int64  \n",
            " 4   fuel           2000 non-null   object \n",
            " 5   seller_type    2000 non-null   object \n",
            " 6   transmission   2000 non-null   object \n",
            " 7   owner          2000 non-null   object \n",
            " 8   mileage        1941 non-null   float64\n",
            " 9   engine         1941 non-null   float64\n",
            " 10  max_power      1945 non-null   float64\n",
            " 11  seats          1941 non-null   float64\n",
            "dtypes: float64(4), int64(3), object(5)\n",
            "memory usage: 187.6+ KB\n"
          ]
        }
      ],
      "source": [
        "data.info()"
      ]
    },
    {
      "cell_type": "code",
      "execution_count": null,
      "metadata": {
        "colab": {
          "base_uri": "https://localhost:8080/"
        },
        "id": "kdqtDx8YEaE6",
        "outputId": "e39b4918-5b5d-482b-cb7b-1b3b1128bcbf"
      },
      "outputs": [
        {
          "data": {
            "text/plain": [
              "name              0\n",
              "year              0\n",
              "selling_price     0\n",
              "km_driven         0\n",
              "fuel              0\n",
              "seller_type       0\n",
              "transmission      0\n",
              "owner             0\n",
              "mileage          59\n",
              "engine           59\n",
              "max_power        55\n",
              "seats            59\n",
              "dtype: int64"
            ]
          },
          "execution_count": 8,
          "metadata": {},
          "output_type": "execute_result"
        }
      ],
      "source": [
        "data.isnull().sum()"
      ]
    },
    {
      "cell_type": "markdown",
      "metadata": {
        "id": "pXVBv2gAEfaz"
      },
      "source": [
        "#Q7 [3 marks] For the features `name` and `owner` respectively, what are the number of different possible values that they have?\n",
        "\n",
        "Type: MCQ\n",
        "\n",
        "(a) 27, 5\\\n",
        "(b) 26, 4\\\n",
        "(c) 27, 4\\\n",
        "(d) 31, 5\n",
        "\n",
        "**Ans:\n",
        "\n",
        "V1: (c) 27, 4 \n",
        "\n",
        "V2: (b) 26, 4\n",
        "\n",
        "V3: (d) 31, 5\n",
        "\n",
        "V4: (a) 27, 5\n",
        "**\n",
        "\n"
      ]
    },
    {
      "cell_type": "code",
      "execution_count": null,
      "metadata": {
        "colab": {
          "base_uri": "https://localhost:8080/"
        },
        "id": "e_q5AM1pEqXt",
        "outputId": "de623601-66f9-4f00-ac96-cca99635c06c"
      },
      "outputs": [
        {
          "data": {
            "text/plain": [
              "name              27\n",
              "year              26\n",
              "selling_price    367\n",
              "km_driven        381\n",
              "fuel               4\n",
              "seller_type        3\n",
              "transmission       2\n",
              "owner              4\n",
              "mileage          280\n",
              "engine           100\n",
              "max_power        237\n",
              "seats              7\n",
              "dtype: int64"
            ]
          },
          "execution_count": 9,
          "metadata": {},
          "output_type": "execute_result"
        }
      ],
      "source": [
        "data.nunique()"
      ]
    },
    {
      "cell_type": "markdown",
      "metadata": {
        "id": "LuQYgod0FCm8"
      },
      "source": [
        "#Q8 [4 marks] Add a new feature `age_of_car` to the data storing how many years old the car is (i.e., age of car). After this, drop the 'year' feature. What is the average of the age_of_car feature?\n",
        "\n",
        "Hint: Subtract from 2022 \n",
        "\n",
        "**\n",
        "Ans:\n",
        "\n",
        "V1: 8.175 (Range: 8.1 to 8.2)\n",
        "\n",
        "V2: 8.2175 (Range: 8.2 to 8.3)\n",
        "\n",
        "V3: 8.319 (Range: 8.3 to 8.4)\n",
        "\n",
        "V4: 7.9895 (Range: 7.9 to 8.0)\n",
        "\n",
        "**"
      ]
    },
    {
      "cell_type": "code",
      "execution_count": null,
      "metadata": {
        "id": "pX4ho0xxFg7-"
      },
      "outputs": [],
      "source": [
        "data['age_of_car'] = 2022 - data['year']"
      ]
    },
    {
      "cell_type": "code",
      "execution_count": null,
      "metadata": {
        "id": "jhQ9q4cSFuRJ"
      },
      "outputs": [],
      "source": [
        "data = data.drop(['year'], axis = 1)"
      ]
    },
    {
      "cell_type": "code",
      "execution_count": null,
      "metadata": {
        "colab": {
          "base_uri": "https://localhost:8080/"
        },
        "id": "2ACNA4dPFzOh",
        "outputId": "bf7ef751-a183-4a83-c5fd-ee188c70e783"
      },
      "outputs": [
        {
          "name": "stdout",
          "output_type": "stream",
          "text": [
            "<class 'pandas.core.frame.DataFrame'>\n",
            "RangeIndex: 2000 entries, 0 to 1999\n",
            "Data columns (total 12 columns):\n",
            " #   Column         Non-Null Count  Dtype  \n",
            "---  ------         --------------  -----  \n",
            " 0   name           2000 non-null   object \n",
            " 1   selling_price  2000 non-null   int64  \n",
            " 2   km_driven      2000 non-null   int64  \n",
            " 3   fuel           2000 non-null   object \n",
            " 4   seller_type    2000 non-null   object \n",
            " 5   transmission   2000 non-null   object \n",
            " 6   owner          2000 non-null   object \n",
            " 7   mileage        1941 non-null   float64\n",
            " 8   engine         1941 non-null   float64\n",
            " 9   max_power      1945 non-null   float64\n",
            " 10  seats          1941 non-null   float64\n",
            " 11  age_of_car     2000 non-null   int64  \n",
            "dtypes: float64(4), int64(3), object(5)\n",
            "memory usage: 187.6+ KB\n"
          ]
        }
      ],
      "source": [
        "data.info()"
      ]
    },
    {
      "cell_type": "code",
      "execution_count": null,
      "metadata": {
        "colab": {
          "base_uri": "https://localhost:8080/",
          "height": 300
        },
        "id": "8nhgjgWFCvcw",
        "outputId": "45fb2261-b707-4921-f9ec-c895ec6b9e85"
      },
      "outputs": [
        {
          "data": {
            "text/html": [
              "\n",
              "  <div id=\"df-513ec09f-03ff-40e3-b28f-b97e289ba9e9\">\n",
              "    <div class=\"colab-df-container\">\n",
              "      <div>\n",
              "<style scoped>\n",
              "    .dataframe tbody tr th:only-of-type {\n",
              "        vertical-align: middle;\n",
              "    }\n",
              "\n",
              "    .dataframe tbody tr th {\n",
              "        vertical-align: top;\n",
              "    }\n",
              "\n",
              "    .dataframe thead th {\n",
              "        text-align: right;\n",
              "    }\n",
              "</style>\n",
              "<table border=\"1\" class=\"dataframe\">\n",
              "  <thead>\n",
              "    <tr style=\"text-align: right;\">\n",
              "      <th></th>\n",
              "      <th>selling_price</th>\n",
              "      <th>km_driven</th>\n",
              "      <th>mileage</th>\n",
              "      <th>engine</th>\n",
              "      <th>max_power</th>\n",
              "      <th>seats</th>\n",
              "      <th>age_of_car</th>\n",
              "    </tr>\n",
              "  </thead>\n",
              "  <tbody>\n",
              "    <tr>\n",
              "      <th>count</th>\n",
              "      <td>2.000000e+03</td>\n",
              "      <td>2.000000e+03</td>\n",
              "      <td>1941.000000</td>\n",
              "      <td>1941.000000</td>\n",
              "      <td>1945.000000</td>\n",
              "      <td>1941.000000</td>\n",
              "      <td>2000.0000</td>\n",
              "    </tr>\n",
              "    <tr>\n",
              "      <th>mean</th>\n",
              "      <td>6.700315e+05</td>\n",
              "      <td>6.859809e+04</td>\n",
              "      <td>19.219562</td>\n",
              "      <td>1470.683153</td>\n",
              "      <td>92.244817</td>\n",
              "      <td>5.423493</td>\n",
              "      <td>8.1750</td>\n",
              "    </tr>\n",
              "    <tr>\n",
              "      <th>std</th>\n",
              "      <td>8.876566e+05</td>\n",
              "      <td>5.530516e+04</td>\n",
              "      <td>4.015958</td>\n",
              "      <td>520.690952</td>\n",
              "      <td>37.465690</td>\n",
              "      <td>0.954611</td>\n",
              "      <td>4.0261</td>\n",
              "    </tr>\n",
              "    <tr>\n",
              "      <th>min</th>\n",
              "      <td>3.150400e+04</td>\n",
              "      <td>1.000000e+03</td>\n",
              "      <td>0.000000</td>\n",
              "      <td>624.000000</td>\n",
              "      <td>0.000000</td>\n",
              "      <td>4.000000</td>\n",
              "      <td>2.0000</td>\n",
              "    </tr>\n",
              "    <tr>\n",
              "      <th>25%</th>\n",
              "      <td>2.600000e+05</td>\n",
              "      <td>3.500000e+04</td>\n",
              "      <td>16.780000</td>\n",
              "      <td>1197.000000</td>\n",
              "      <td>68.000000</td>\n",
              "      <td>5.000000</td>\n",
              "      <td>5.0000</td>\n",
              "    </tr>\n",
              "    <tr>\n",
              "      <th>50%</th>\n",
              "      <td>4.500000e+05</td>\n",
              "      <td>6.000000e+04</td>\n",
              "      <td>19.090000</td>\n",
              "      <td>1248.000000</td>\n",
              "      <td>82.400000</td>\n",
              "      <td>5.000000</td>\n",
              "      <td>7.0000</td>\n",
              "    </tr>\n",
              "    <tr>\n",
              "      <th>75%</th>\n",
              "      <td>6.750000e+05</td>\n",
              "      <td>9.400000e+04</td>\n",
              "      <td>22.000000</td>\n",
              "      <td>1586.000000</td>\n",
              "      <td>103.300000</td>\n",
              "      <td>5.000000</td>\n",
              "      <td>11.0000</td>\n",
              "    </tr>\n",
              "    <tr>\n",
              "      <th>max</th>\n",
              "      <td>1.000000e+07</td>\n",
              "      <td>1.500000e+06</td>\n",
              "      <td>42.000000</td>\n",
              "      <td>3604.000000</td>\n",
              "      <td>400.000000</td>\n",
              "      <td>10.000000</td>\n",
              "      <td>39.0000</td>\n",
              "    </tr>\n",
              "  </tbody>\n",
              "</table>\n",
              "</div>\n",
              "      <button class=\"colab-df-convert\" onclick=\"convertToInteractive('df-513ec09f-03ff-40e3-b28f-b97e289ba9e9')\"\n",
              "              title=\"Convert this dataframe to an interactive table.\"\n",
              "              style=\"display:none;\">\n",
              "        \n",
              "  <svg xmlns=\"http://www.w3.org/2000/svg\" height=\"24px\"viewBox=\"0 0 24 24\"\n",
              "       width=\"24px\">\n",
              "    <path d=\"M0 0h24v24H0V0z\" fill=\"none\"/>\n",
              "    <path d=\"M18.56 5.44l.94 2.06.94-2.06 2.06-.94-2.06-.94-.94-2.06-.94 2.06-2.06.94zm-11 1L8.5 8.5l.94-2.06 2.06-.94-2.06-.94L8.5 2.5l-.94 2.06-2.06.94zm10 10l.94 2.06.94-2.06 2.06-.94-2.06-.94-.94-2.06-.94 2.06-2.06.94z\"/><path d=\"M17.41 7.96l-1.37-1.37c-.4-.4-.92-.59-1.43-.59-.52 0-1.04.2-1.43.59L10.3 9.45l-7.72 7.72c-.78.78-.78 2.05 0 2.83L4 21.41c.39.39.9.59 1.41.59.51 0 1.02-.2 1.41-.59l7.78-7.78 2.81-2.81c.8-.78.8-2.07 0-2.86zM5.41 20L4 18.59l7.72-7.72 1.47 1.35L5.41 20z\"/>\n",
              "  </svg>\n",
              "      </button>\n",
              "      \n",
              "  <style>\n",
              "    .colab-df-container {\n",
              "      display:flex;\n",
              "      flex-wrap:wrap;\n",
              "      gap: 12px;\n",
              "    }\n",
              "\n",
              "    .colab-df-convert {\n",
              "      background-color: #E8F0FE;\n",
              "      border: none;\n",
              "      border-radius: 50%;\n",
              "      cursor: pointer;\n",
              "      display: none;\n",
              "      fill: #1967D2;\n",
              "      height: 32px;\n",
              "      padding: 0 0 0 0;\n",
              "      width: 32px;\n",
              "    }\n",
              "\n",
              "    .colab-df-convert:hover {\n",
              "      background-color: #E2EBFA;\n",
              "      box-shadow: 0px 1px 2px rgba(60, 64, 67, 0.3), 0px 1px 3px 1px rgba(60, 64, 67, 0.15);\n",
              "      fill: #174EA6;\n",
              "    }\n",
              "\n",
              "    [theme=dark] .colab-df-convert {\n",
              "      background-color: #3B4455;\n",
              "      fill: #D2E3FC;\n",
              "    }\n",
              "\n",
              "    [theme=dark] .colab-df-convert:hover {\n",
              "      background-color: #434B5C;\n",
              "      box-shadow: 0px 1px 3px 1px rgba(0, 0, 0, 0.15);\n",
              "      filter: drop-shadow(0px 1px 2px rgba(0, 0, 0, 0.3));\n",
              "      fill: #FFFFFF;\n",
              "    }\n",
              "  </style>\n",
              "\n",
              "      <script>\n",
              "        const buttonEl =\n",
              "          document.querySelector('#df-513ec09f-03ff-40e3-b28f-b97e289ba9e9 button.colab-df-convert');\n",
              "        buttonEl.style.display =\n",
              "          google.colab.kernel.accessAllowed ? 'block' : 'none';\n",
              "\n",
              "        async function convertToInteractive(key) {\n",
              "          const element = document.querySelector('#df-513ec09f-03ff-40e3-b28f-b97e289ba9e9');\n",
              "          const dataTable =\n",
              "            await google.colab.kernel.invokeFunction('convertToInteractive',\n",
              "                                                     [key], {});\n",
              "          if (!dataTable) return;\n",
              "\n",
              "          const docLinkHtml = 'Like what you see? Visit the ' +\n",
              "            '<a target=\"_blank\" href=https://colab.research.google.com/notebooks/data_table.ipynb>data table notebook</a>'\n",
              "            + ' to learn more about interactive tables.';\n",
              "          element.innerHTML = '';\n",
              "          dataTable['output_type'] = 'display_data';\n",
              "          await google.colab.output.renderOutput(dataTable, element);\n",
              "          const docLink = document.createElement('div');\n",
              "          docLink.innerHTML = docLinkHtml;\n",
              "          element.appendChild(docLink);\n",
              "        }\n",
              "      </script>\n",
              "    </div>\n",
              "  </div>\n",
              "  "
            ],
            "text/plain": [
              "       selling_price     km_driven      mileage       engine    max_power  \\\n",
              "count   2.000000e+03  2.000000e+03  1941.000000  1941.000000  1945.000000   \n",
              "mean    6.700315e+05  6.859809e+04    19.219562  1470.683153    92.244817   \n",
              "std     8.876566e+05  5.530516e+04     4.015958   520.690952    37.465690   \n",
              "min     3.150400e+04  1.000000e+03     0.000000   624.000000     0.000000   \n",
              "25%     2.600000e+05  3.500000e+04    16.780000  1197.000000    68.000000   \n",
              "50%     4.500000e+05  6.000000e+04    19.090000  1248.000000    82.400000   \n",
              "75%     6.750000e+05  9.400000e+04    22.000000  1586.000000   103.300000   \n",
              "max     1.000000e+07  1.500000e+06    42.000000  3604.000000   400.000000   \n",
              "\n",
              "             seats  age_of_car  \n",
              "count  1941.000000   2000.0000  \n",
              "mean      5.423493      8.1750  \n",
              "std       0.954611      4.0261  \n",
              "min       4.000000      2.0000  \n",
              "25%       5.000000      5.0000  \n",
              "50%       5.000000      7.0000  \n",
              "75%       5.000000     11.0000  \n",
              "max      10.000000     39.0000  "
            ]
          },
          "execution_count": 13,
          "metadata": {},
          "output_type": "execute_result"
        }
      ],
      "source": [
        "data.describe()"
      ]
    },
    {
      "cell_type": "code",
      "execution_count": null,
      "metadata": {
        "colab": {
          "base_uri": "https://localhost:8080/"
        },
        "id": "4ogz1LecCqLL",
        "outputId": "7605f983-b9c1-4000-ddad-2ba34062c3ad"
      },
      "outputs": [
        {
          "data": {
            "text/plain": [
              "8.175"
            ]
          },
          "execution_count": 12,
          "metadata": {},
          "output_type": "execute_result"
        }
      ],
      "source": [
        "data.age_of_car.mean()"
      ]
    },
    {
      "cell_type": "markdown",
      "metadata": {
        "id": "FcYv8GLcVcht"
      },
      "source": [
        "\n",
        "\n",
        "---\n",
        "\n",
        "\n",
        "Week 2"
      ]
    },
    {
      "cell_type": "markdown",
      "metadata": {
        "id": "eUxvJzUWOfxt"
      },
      "source": [
        "#Q9 [2 marks] What is the maximum reported `km_driven` in the dataset?\n",
        "\n",
        "(a) 1500000\n",
        "\n",
        "(b) 2360457\n",
        "\n",
        "(c) 475000.00\n",
        "\n",
        "(d) 500000.00\n",
        "\n",
        "**(Answer : Set v1:Option a, Set v2: Option b, Set v3: Option c, Set v4: Option d)**\n",
        "\n",
        "\n"
      ]
    },
    {
      "cell_type": "markdown",
      "metadata": {
        "id": "tXR4deNIFGwr"
      },
      "source": [
        "#Q10 [2 marks] Calculate the value of $mean(log_e(1+$ `Selling_Price`)).\n",
        "\n",
        "\n",
        "(a) 13.011974\n",
        "\n",
        "(b) 12.922962\n",
        "\n",
        "(c) 12.990868\n",
        "\n",
        "(d) 12.984778\n",
        "\n",
        "**(Answer : Set v1: Option c, Set v2: Option b, Set v3: Option a, Set v4: Option d)**\n",
        "\n",
        "\n",
        "[Marks : 2]"
      ]
    },
    {
      "cell_type": "code",
      "execution_count": null,
      "metadata": {
        "colab": {
          "base_uri": "https://localhost:8080/",
          "height": 300
        },
        "id": "JduIseFJivZS",
        "outputId": "24d89f69-409a-46d7-a395-9f64029f929f"
      },
      "outputs": [
        {
          "data": {
            "text/html": [
              "\n",
              "  <div id=\"df-33490e59-7bac-4f71-9de1-dac84f4f381a\">\n",
              "    <div class=\"colab-df-container\">\n",
              "      <div>\n",
              "<style scoped>\n",
              "    .dataframe tbody tr th:only-of-type {\n",
              "        vertical-align: middle;\n",
              "    }\n",
              "\n",
              "    .dataframe tbody tr th {\n",
              "        vertical-align: top;\n",
              "    }\n",
              "\n",
              "    .dataframe thead th {\n",
              "        text-align: right;\n",
              "    }\n",
              "</style>\n",
              "<table border=\"1\" class=\"dataframe\">\n",
              "  <thead>\n",
              "    <tr style=\"text-align: right;\">\n",
              "      <th></th>\n",
              "      <th>selling_price</th>\n",
              "    </tr>\n",
              "  </thead>\n",
              "  <tbody>\n",
              "    <tr>\n",
              "      <th>count</th>\n",
              "      <td>2.000000e+03</td>\n",
              "    </tr>\n",
              "    <tr>\n",
              "      <th>mean</th>\n",
              "      <td>5.806038e+05</td>\n",
              "    </tr>\n",
              "    <tr>\n",
              "      <th>std</th>\n",
              "      <td>6.999837e+05</td>\n",
              "    </tr>\n",
              "    <tr>\n",
              "      <th>min</th>\n",
              "      <td>3.000000e+04</td>\n",
              "    </tr>\n",
              "    <tr>\n",
              "      <th>25%</th>\n",
              "      <td>2.500000e+05</td>\n",
              "    </tr>\n",
              "    <tr>\n",
              "      <th>50%</th>\n",
              "      <td>4.264995e+05</td>\n",
              "    </tr>\n",
              "    <tr>\n",
              "      <th>75%</th>\n",
              "      <td>6.500000e+05</td>\n",
              "    </tr>\n",
              "    <tr>\n",
              "      <th>max</th>\n",
              "      <td>7.200000e+06</td>\n",
              "    </tr>\n",
              "  </tbody>\n",
              "</table>\n",
              "</div>\n",
              "      <button class=\"colab-df-convert\" onclick=\"convertToInteractive('df-33490e59-7bac-4f71-9de1-dac84f4f381a')\"\n",
              "              title=\"Convert this dataframe to an interactive table.\"\n",
              "              style=\"display:none;\">\n",
              "        \n",
              "  <svg xmlns=\"http://www.w3.org/2000/svg\" height=\"24px\"viewBox=\"0 0 24 24\"\n",
              "       width=\"24px\">\n",
              "    <path d=\"M0 0h24v24H0V0z\" fill=\"none\"/>\n",
              "    <path d=\"M18.56 5.44l.94 2.06.94-2.06 2.06-.94-2.06-.94-.94-2.06-.94 2.06-2.06.94zm-11 1L8.5 8.5l.94-2.06 2.06-.94-2.06-.94L8.5 2.5l-.94 2.06-2.06.94zm10 10l.94 2.06.94-2.06 2.06-.94-2.06-.94-.94-2.06-.94 2.06-2.06.94z\"/><path d=\"M17.41 7.96l-1.37-1.37c-.4-.4-.92-.59-1.43-.59-.52 0-1.04.2-1.43.59L10.3 9.45l-7.72 7.72c-.78.78-.78 2.05 0 2.83L4 21.41c.39.39.9.59 1.41.59.51 0 1.02-.2 1.41-.59l7.78-7.78 2.81-2.81c.8-.78.8-2.07 0-2.86zM5.41 20L4 18.59l7.72-7.72 1.47 1.35L5.41 20z\"/>\n",
              "  </svg>\n",
              "      </button>\n",
              "      \n",
              "  <style>\n",
              "    .colab-df-container {\n",
              "      display:flex;\n",
              "      flex-wrap:wrap;\n",
              "      gap: 12px;\n",
              "    }\n",
              "\n",
              "    .colab-df-convert {\n",
              "      background-color: #E8F0FE;\n",
              "      border: none;\n",
              "      border-radius: 50%;\n",
              "      cursor: pointer;\n",
              "      display: none;\n",
              "      fill: #1967D2;\n",
              "      height: 32px;\n",
              "      padding: 0 0 0 0;\n",
              "      width: 32px;\n",
              "    }\n",
              "\n",
              "    .colab-df-convert:hover {\n",
              "      background-color: #E2EBFA;\n",
              "      box-shadow: 0px 1px 2px rgba(60, 64, 67, 0.3), 0px 1px 3px 1px rgba(60, 64, 67, 0.15);\n",
              "      fill: #174EA6;\n",
              "    }\n",
              "\n",
              "    [theme=dark] .colab-df-convert {\n",
              "      background-color: #3B4455;\n",
              "      fill: #D2E3FC;\n",
              "    }\n",
              "\n",
              "    [theme=dark] .colab-df-convert:hover {\n",
              "      background-color: #434B5C;\n",
              "      box-shadow: 0px 1px 3px 1px rgba(0, 0, 0, 0.15);\n",
              "      filter: drop-shadow(0px 1px 2px rgba(0, 0, 0, 0.3));\n",
              "      fill: #FFFFFF;\n",
              "    }\n",
              "  </style>\n",
              "\n",
              "      <script>\n",
              "        const buttonEl =\n",
              "          document.querySelector('#df-33490e59-7bac-4f71-9de1-dac84f4f381a button.colab-df-convert');\n",
              "        buttonEl.style.display =\n",
              "          google.colab.kernel.accessAllowed ? 'block' : 'none';\n",
              "\n",
              "        async function convertToInteractive(key) {\n",
              "          const element = document.querySelector('#df-33490e59-7bac-4f71-9de1-dac84f4f381a');\n",
              "          const dataTable =\n",
              "            await google.colab.kernel.invokeFunction('convertToInteractive',\n",
              "                                                     [key], {});\n",
              "          if (!dataTable) return;\n",
              "\n",
              "          const docLinkHtml = 'Like what you see? Visit the ' +\n",
              "            '<a target=\"_blank\" href=https://colab.research.google.com/notebooks/data_table.ipynb>data table notebook</a>'\n",
              "            + ' to learn more about interactive tables.';\n",
              "          element.innerHTML = '';\n",
              "          dataTable['output_type'] = 'display_data';\n",
              "          await google.colab.output.renderOutput(dataTable, element);\n",
              "          const docLink = document.createElement('div');\n",
              "          docLink.innerHTML = docLinkHtml;\n",
              "          element.appendChild(docLink);\n",
              "        }\n",
              "      </script>\n",
              "    </div>\n",
              "  </div>\n",
              "  "
            ],
            "text/plain": [
              "       selling_price\n",
              "count   2.000000e+03\n",
              "mean    5.806038e+05\n",
              "std     6.999837e+05\n",
              "min     3.000000e+04\n",
              "25%     2.500000e+05\n",
              "50%     4.264995e+05\n",
              "75%     6.500000e+05\n",
              "max     7.200000e+06"
            ]
          },
          "execution_count": 15,
          "metadata": {},
          "output_type": "execute_result"
        }
      ],
      "source": [
        "#data = pd.read_csv('v2.csv')\n",
        "data.describe()"
      ]
    },
    {
      "cell_type": "code",
      "execution_count": null,
      "metadata": {
        "colab": {
          "base_uri": "https://localhost:8080/",
          "height": 206
        },
        "id": "EXOZTxiVY0n2",
        "outputId": "a1766c95-f708-487e-8276-d5141c3a4abf"
      },
      "outputs": [
        {
          "data": {
            "text/html": [
              "\n",
              "  <div id=\"df-66aef0d3-295c-424a-9bb5-98909ab1598c\">\n",
              "    <div class=\"colab-df-container\">\n",
              "      <div>\n",
              "<style scoped>\n",
              "    .dataframe tbody tr th:only-of-type {\n",
              "        vertical-align: middle;\n",
              "    }\n",
              "\n",
              "    .dataframe tbody tr th {\n",
              "        vertical-align: top;\n",
              "    }\n",
              "\n",
              "    .dataframe thead th {\n",
              "        text-align: right;\n",
              "    }\n",
              "</style>\n",
              "<table border=\"1\" class=\"dataframe\">\n",
              "  <thead>\n",
              "    <tr style=\"text-align: right;\">\n",
              "      <th></th>\n",
              "      <th>name</th>\n",
              "      <th>selling_price</th>\n",
              "      <th>km_driven</th>\n",
              "      <th>fuel</th>\n",
              "      <th>seller_type</th>\n",
              "      <th>transmission</th>\n",
              "      <th>owner</th>\n",
              "      <th>mileage</th>\n",
              "      <th>engine</th>\n",
              "      <th>max_power</th>\n",
              "      <th>seats</th>\n",
              "      <th>age_of_car</th>\n",
              "    </tr>\n",
              "  </thead>\n",
              "  <tbody>\n",
              "    <tr>\n",
              "      <th>0</th>\n",
              "      <td>Maruti</td>\n",
              "      <td>450000</td>\n",
              "      <td>145500</td>\n",
              "      <td>Diesel</td>\n",
              "      <td>Individual</td>\n",
              "      <td>Manual</td>\n",
              "      <td>First Owner</td>\n",
              "      <td>23.40</td>\n",
              "      <td>1248.0</td>\n",
              "      <td>74.00</td>\n",
              "      <td>5.0</td>\n",
              "      <td>8</td>\n",
              "    </tr>\n",
              "    <tr>\n",
              "      <th>1</th>\n",
              "      <td>Skoda</td>\n",
              "      <td>370000</td>\n",
              "      <td>120000</td>\n",
              "      <td>Diesel</td>\n",
              "      <td>Individual</td>\n",
              "      <td>Manual</td>\n",
              "      <td>Second Owner</td>\n",
              "      <td>21.14</td>\n",
              "      <td>1498.0</td>\n",
              "      <td>103.52</td>\n",
              "      <td>5.0</td>\n",
              "      <td>8</td>\n",
              "    </tr>\n",
              "    <tr>\n",
              "      <th>2</th>\n",
              "      <td>Honda</td>\n",
              "      <td>158000</td>\n",
              "      <td>140000</td>\n",
              "      <td>Petrol</td>\n",
              "      <td>Individual</td>\n",
              "      <td>Manual</td>\n",
              "      <td>Third Owner</td>\n",
              "      <td>17.70</td>\n",
              "      <td>1497.0</td>\n",
              "      <td>78.00</td>\n",
              "      <td>5.0</td>\n",
              "      <td>16</td>\n",
              "    </tr>\n",
              "    <tr>\n",
              "      <th>3</th>\n",
              "      <td>Hyundai</td>\n",
              "      <td>225000</td>\n",
              "      <td>127000</td>\n",
              "      <td>Diesel</td>\n",
              "      <td>Individual</td>\n",
              "      <td>Manual</td>\n",
              "      <td>First Owner</td>\n",
              "      <td>23.00</td>\n",
              "      <td>1396.0</td>\n",
              "      <td>90.00</td>\n",
              "      <td>5.0</td>\n",
              "      <td>12</td>\n",
              "    </tr>\n",
              "    <tr>\n",
              "      <th>4</th>\n",
              "      <td>Maruti</td>\n",
              "      <td>130000</td>\n",
              "      <td>120000</td>\n",
              "      <td>Petrol</td>\n",
              "      <td>Individual</td>\n",
              "      <td>Manual</td>\n",
              "      <td>First Owner</td>\n",
              "      <td>16.10</td>\n",
              "      <td>1298.0</td>\n",
              "      <td>88.20</td>\n",
              "      <td>5.0</td>\n",
              "      <td>15</td>\n",
              "    </tr>\n",
              "  </tbody>\n",
              "</table>\n",
              "</div>\n",
              "      <button class=\"colab-df-convert\" onclick=\"convertToInteractive('df-66aef0d3-295c-424a-9bb5-98909ab1598c')\"\n",
              "              title=\"Convert this dataframe to an interactive table.\"\n",
              "              style=\"display:none;\">\n",
              "        \n",
              "  <svg xmlns=\"http://www.w3.org/2000/svg\" height=\"24px\"viewBox=\"0 0 24 24\"\n",
              "       width=\"24px\">\n",
              "    <path d=\"M0 0h24v24H0V0z\" fill=\"none\"/>\n",
              "    <path d=\"M18.56 5.44l.94 2.06.94-2.06 2.06-.94-2.06-.94-.94-2.06-.94 2.06-2.06.94zm-11 1L8.5 8.5l.94-2.06 2.06-.94-2.06-.94L8.5 2.5l-.94 2.06-2.06.94zm10 10l.94 2.06.94-2.06 2.06-.94-2.06-.94-.94-2.06-.94 2.06-2.06.94z\"/><path d=\"M17.41 7.96l-1.37-1.37c-.4-.4-.92-.59-1.43-.59-.52 0-1.04.2-1.43.59L10.3 9.45l-7.72 7.72c-.78.78-.78 2.05 0 2.83L4 21.41c.39.39.9.59 1.41.59.51 0 1.02-.2 1.41-.59l7.78-7.78 2.81-2.81c.8-.78.8-2.07 0-2.86zM5.41 20L4 18.59l7.72-7.72 1.47 1.35L5.41 20z\"/>\n",
              "  </svg>\n",
              "      </button>\n",
              "      \n",
              "  <style>\n",
              "    .colab-df-container {\n",
              "      display:flex;\n",
              "      flex-wrap:wrap;\n",
              "      gap: 12px;\n",
              "    }\n",
              "\n",
              "    .colab-df-convert {\n",
              "      background-color: #E8F0FE;\n",
              "      border: none;\n",
              "      border-radius: 50%;\n",
              "      cursor: pointer;\n",
              "      display: none;\n",
              "      fill: #1967D2;\n",
              "      height: 32px;\n",
              "      padding: 0 0 0 0;\n",
              "      width: 32px;\n",
              "    }\n",
              "\n",
              "    .colab-df-convert:hover {\n",
              "      background-color: #E2EBFA;\n",
              "      box-shadow: 0px 1px 2px rgba(60, 64, 67, 0.3), 0px 1px 3px 1px rgba(60, 64, 67, 0.15);\n",
              "      fill: #174EA6;\n",
              "    }\n",
              "\n",
              "    [theme=dark] .colab-df-convert {\n",
              "      background-color: #3B4455;\n",
              "      fill: #D2E3FC;\n",
              "    }\n",
              "\n",
              "    [theme=dark] .colab-df-convert:hover {\n",
              "      background-color: #434B5C;\n",
              "      box-shadow: 0px 1px 3px 1px rgba(0, 0, 0, 0.15);\n",
              "      filter: drop-shadow(0px 1px 2px rgba(0, 0, 0, 0.3));\n",
              "      fill: #FFFFFF;\n",
              "    }\n",
              "  </style>\n",
              "\n",
              "      <script>\n",
              "        const buttonEl =\n",
              "          document.querySelector('#df-66aef0d3-295c-424a-9bb5-98909ab1598c button.colab-df-convert');\n",
              "        buttonEl.style.display =\n",
              "          google.colab.kernel.accessAllowed ? 'block' : 'none';\n",
              "\n",
              "        async function convertToInteractive(key) {\n",
              "          const element = document.querySelector('#df-66aef0d3-295c-424a-9bb5-98909ab1598c');\n",
              "          const dataTable =\n",
              "            await google.colab.kernel.invokeFunction('convertToInteractive',\n",
              "                                                     [key], {});\n",
              "          if (!dataTable) return;\n",
              "\n",
              "          const docLinkHtml = 'Like what you see? Visit the ' +\n",
              "            '<a target=\"_blank\" href=https://colab.research.google.com/notebooks/data_table.ipynb>data table notebook</a>'\n",
              "            + ' to learn more about interactive tables.';\n",
              "          element.innerHTML = '';\n",
              "          dataTable['output_type'] = 'display_data';\n",
              "          await google.colab.output.renderOutput(dataTable, element);\n",
              "          const docLink = document.createElement('div');\n",
              "          docLink.innerHTML = docLinkHtml;\n",
              "          element.appendChild(docLink);\n",
              "        }\n",
              "      </script>\n",
              "    </div>\n",
              "  </div>\n",
              "  "
            ],
            "text/plain": [
              "      name  selling_price  km_driven  ... max_power seats age_of_car\n",
              "0   Maruti         450000     145500  ...     74.00   5.0          8\n",
              "1    Skoda         370000     120000  ...    103.52   5.0          8\n",
              "2    Honda         158000     140000  ...     78.00   5.0         16\n",
              "3  Hyundai         225000     127000  ...     90.00   5.0         12\n",
              "4   Maruti         130000     120000  ...     88.20   5.0         15\n",
              "\n",
              "[5 rows x 12 columns]"
            ]
          },
          "execution_count": 22,
          "metadata": {},
          "output_type": "execute_result"
        }
      ],
      "source": [
        "data.head()"
      ]
    },
    {
      "cell_type": "code",
      "execution_count": null,
      "metadata": {
        "colab": {
          "background_save": true,
          "base_uri": "https://localhost:8080/",
          "height": 81
        },
        "id": "mv59OSK-SWOl",
        "outputId": "631483d1-e98d-4cfb-f789-cd9a17835865"
      },
      "outputs": [
        {
          "data": {
            "text/html": [
              "\n",
              "  <div id=\"df-0f64d8f4-914d-4c17-a1cf-25c7389172b8\">\n",
              "    <div class=\"colab-df-container\">\n",
              "      <div>\n",
              "<style scoped>\n",
              "    .dataframe tbody tr th:only-of-type {\n",
              "        vertical-align: middle;\n",
              "    }\n",
              "\n",
              "    .dataframe tbody tr th {\n",
              "        vertical-align: top;\n",
              "    }\n",
              "\n",
              "    .dataframe thead th {\n",
              "        text-align: right;\n",
              "    }\n",
              "</style>\n",
              "<table border=\"1\" class=\"dataframe\">\n",
              "  <thead>\n",
              "    <tr style=\"text-align: right;\">\n",
              "      <th></th>\n",
              "      <th>count</th>\n",
              "      <th>mean</th>\n",
              "      <th>std</th>\n",
              "      <th>min</th>\n",
              "      <th>25%</th>\n",
              "      <th>50%</th>\n",
              "      <th>75%</th>\n",
              "      <th>max</th>\n",
              "    </tr>\n",
              "  </thead>\n",
              "  <tbody>\n",
              "    <tr>\n",
              "      <th>selling_price</th>\n",
              "      <td>2000.0</td>\n",
              "      <td>12.990868</td>\n",
              "      <td>0.856333</td>\n",
              "      <td>10.357902</td>\n",
              "      <td>12.468441</td>\n",
              "      <td>13.017005</td>\n",
              "      <td>13.422469</td>\n",
              "      <td>16.118096</td>\n",
              "    </tr>\n",
              "  </tbody>\n",
              "</table>\n",
              "</div>\n",
              "      <button class=\"colab-df-convert\" onclick=\"convertToInteractive('df-0f64d8f4-914d-4c17-a1cf-25c7389172b8')\"\n",
              "              title=\"Convert this dataframe to an interactive table.\"\n",
              "              style=\"display:none;\">\n",
              "        \n",
              "  <svg xmlns=\"http://www.w3.org/2000/svg\" height=\"24px\"viewBox=\"0 0 24 24\"\n",
              "       width=\"24px\">\n",
              "    <path d=\"M0 0h24v24H0V0z\" fill=\"none\"/>\n",
              "    <path d=\"M18.56 5.44l.94 2.06.94-2.06 2.06-.94-2.06-.94-.94-2.06-.94 2.06-2.06.94zm-11 1L8.5 8.5l.94-2.06 2.06-.94-2.06-.94L8.5 2.5l-.94 2.06-2.06.94zm10 10l.94 2.06.94-2.06 2.06-.94-2.06-.94-.94-2.06-.94 2.06-2.06.94z\"/><path d=\"M17.41 7.96l-1.37-1.37c-.4-.4-.92-.59-1.43-.59-.52 0-1.04.2-1.43.59L10.3 9.45l-7.72 7.72c-.78.78-.78 2.05 0 2.83L4 21.41c.39.39.9.59 1.41.59.51 0 1.02-.2 1.41-.59l7.78-7.78 2.81-2.81c.8-.78.8-2.07 0-2.86zM5.41 20L4 18.59l7.72-7.72 1.47 1.35L5.41 20z\"/>\n",
              "  </svg>\n",
              "      </button>\n",
              "      \n",
              "  <style>\n",
              "    .colab-df-container {\n",
              "      display:flex;\n",
              "      flex-wrap:wrap;\n",
              "      gap: 12px;\n",
              "    }\n",
              "\n",
              "    .colab-df-convert {\n",
              "      background-color: #E8F0FE;\n",
              "      border: none;\n",
              "      border-radius: 50%;\n",
              "      cursor: pointer;\n",
              "      display: none;\n",
              "      fill: #1967D2;\n",
              "      height: 32px;\n",
              "      padding: 0 0 0 0;\n",
              "      width: 32px;\n",
              "    }\n",
              "\n",
              "    .colab-df-convert:hover {\n",
              "      background-color: #E2EBFA;\n",
              "      box-shadow: 0px 1px 2px rgba(60, 64, 67, 0.3), 0px 1px 3px 1px rgba(60, 64, 67, 0.15);\n",
              "      fill: #174EA6;\n",
              "    }\n",
              "\n",
              "    [theme=dark] .colab-df-convert {\n",
              "      background-color: #3B4455;\n",
              "      fill: #D2E3FC;\n",
              "    }\n",
              "\n",
              "    [theme=dark] .colab-df-convert:hover {\n",
              "      background-color: #434B5C;\n",
              "      box-shadow: 0px 1px 3px 1px rgba(0, 0, 0, 0.15);\n",
              "      filter: drop-shadow(0px 1px 2px rgba(0, 0, 0, 0.3));\n",
              "      fill: #FFFFFF;\n",
              "    }\n",
              "  </style>\n",
              "\n",
              "      <script>\n",
              "        const buttonEl =\n",
              "          document.querySelector('#df-0f64d8f4-914d-4c17-a1cf-25c7389172b8 button.colab-df-convert');\n",
              "        buttonEl.style.display =\n",
              "          google.colab.kernel.accessAllowed ? 'block' : 'none';\n",
              "\n",
              "        async function convertToInteractive(key) {\n",
              "          const element = document.querySelector('#df-0f64d8f4-914d-4c17-a1cf-25c7389172b8');\n",
              "          const dataTable =\n",
              "            await google.colab.kernel.invokeFunction('convertToInteractive',\n",
              "                                                     [key], {});\n",
              "          if (!dataTable) return;\n",
              "\n",
              "          const docLinkHtml = 'Like what you see? Visit the ' +\n",
              "            '<a target=\"_blank\" href=https://colab.research.google.com/notebooks/data_table.ipynb>data table notebook</a>'\n",
              "            + ' to learn more about interactive tables.';\n",
              "          element.innerHTML = '';\n",
              "          dataTable['output_type'] = 'display_data';\n",
              "          await google.colab.output.renderOutput(dataTable, element);\n",
              "          const docLink = document.createElement('div');\n",
              "          docLink.innerHTML = docLinkHtml;\n",
              "          element.appendChild(docLink);\n",
              "        }\n",
              "      </script>\n",
              "    </div>\n",
              "  </div>\n",
              "  "
            ],
            "text/plain": [
              "                count       mean       std        min        25%        50%  \\\n",
              "selling_price  2000.0  12.990868  0.856333  10.357902  12.468441  13.017005   \n",
              "\n",
              "                     75%        max  \n",
              "selling_price  13.422469  16.118096  "
            ]
          },
          "execution_count": null,
          "metadata": {},
          "output_type": "execute_result"
        }
      ],
      "source": [
        "from sklearn.preprocessing import FunctionTransformer\n",
        "data = pd.read_csv('v1.csv')\n",
        "data = data.drop(['name','year','km_driven','fuel','seller_type','transmission','mileage','owner','engine','max_power','seats'], axis = 1)\n",
        "transformer = FunctionTransformer(np.log1p, validate=True)\n",
        "data_transformed = transformer.transform(np.array(data))\n",
        "pd.DataFrame(data_transformed, columns=data.columns).describe().T"
      ]
    },
    {
      "cell_type": "code",
      "execution_count": null,
      "metadata": {
        "colab": {
          "base_uri": "https://localhost:8080/"
        },
        "id": "XVQ-B-A8ZlQR",
        "outputId": "55c5afb9-fc7e-45ee-9e3c-d9b6f0733147"
      },
      "outputs": [
        {
          "data": {
            "text/plain": [
              "array(['Diesel', 'Petrol', 'LPG', 'CNG'], dtype=object)"
            ]
          },
          "execution_count": 25,
          "metadata": {},
          "output_type": "execute_result"
        }
      ],
      "source": [
        "data = pd.read_csv('v4.csv')\n",
        "data.fuel.unique()"
      ]
    },
    {
      "cell_type": "markdown",
      "metadata": {
        "id": "LWulZ6Whcg-A"
      },
      "source": [
        "#Q11 [4 marks] Reload the dataset. Apply `OneHotEncoder` on the `fuel` column of the dataset and print first 3 labels of `Fuel_Type` after one-hot-encoding?\n",
        "\n",
        "(a) [[0. 0. 0. 1.]\n",
        " [0. 0. 0. 1.]\n",
        " [0. 0. 0. 1.]]\n",
        "\n",
        "(b) [[0. 1. 0. 0.]\n",
        " [0. 1. 0. 0.]\n",
        " [0. 0. 0. 1.]]\n",
        "\n",
        "(c) [[0. 0. 0. 1.]\n",
        " [0. 1. 0. 0.]\n",
        " [0. 0. 0. 1.]]\n",
        "\n",
        "(d) [[0. 1. 0. 0.]\n",
        " [0. 1. 0. 0.]\n",
        " [0. 1. 0. 0.]]\n",
        "\n",
        "**Answer: Set v1: option (b), Set v2: Option (a), Set v3: Option (c), Set v4: Option (d)**\n"
      ]
    },
    {
      "cell_type": "code",
      "execution_count": null,
      "metadata": {
        "colab": {
          "base_uri": "https://localhost:8080/"
        },
        "id": "5wlwnidjZ63f",
        "outputId": "15f2b2ac-60ba-40bc-8ddc-9ba62e20c476"
      },
      "outputs": [
        {
          "name": "stdout",
          "output_type": "stream",
          "text": [
            "Shape of Fuel_Type before encoding (2000,)\n",
            "Shape of Fuel_Type after encoding (2000, 4)\n",
            "First 3 labels:\n",
            "[[0. 0. 0. 1.]\n",
            " [0. 0. 0. 1.]\n",
            " [0. 0. 0. 1.]]\n"
          ]
        }
      ],
      "source": [
        "from sklearn.preprocessing import OneHotEncoder\n",
        "data = pd.read_csv('v2.csv')\n",
        "onehotencoder = OneHotEncoder(categories='auto')\n",
        "print('Shape of Fuel_Type before encoding', data.fuel.shape)\n",
        "labels = onehotencoder.fit_transform(data.fuel.values.reshape(-1,1))\n",
        "print('Shape of Fuel_Type after encoding', labels.shape)\n",
        "print (\"First 3 labels:\")\n",
        "print(labels.toarray()[:3])"
      ]
    },
    {
      "cell_type": "markdown",
      "metadata": {
        "id": "Od3QS2cZWezs"
      },
      "source": [
        "#Q12 [4 marks] \n",
        "[Reload the dataset and drop the features- 'name','fuel','seller_type','transmission','owner','mileage',\t'engine',\t'max_power','seats'.]\n",
        "\n",
        "Generate a new feature matrix consisting of all polynomial combinations of the dataset features with degree = 2. How many features are there in the new feature matrix?\n",
        "\n",
        "(a)10\n",
        "\n",
        "(b)12\n",
        "\n",
        "(c)15\n",
        "\n",
        "(d)21\n",
        "\n",
        "**Answer: Set v1:(a), Set v2:(a), Set v3:(a), Set v4:(a)**\n"
      ]
    },
    {
      "cell_type": "code",
      "execution_count": null,
      "metadata": {
        "colab": {
          "base_uri": "https://localhost:8080/",
          "height": 206
        },
        "id": "Mrq0OyppVgll",
        "outputId": "5fd02a8d-d09e-42d7-9d04-339fb7e5ecce"
      },
      "outputs": [
        {
          "data": {
            "text/html": [
              "\n",
              "  <div id=\"df-a53f9a68-263d-410b-901a-81b31450c8e9\">\n",
              "    <div class=\"colab-df-container\">\n",
              "      <div>\n",
              "<style scoped>\n",
              "    .dataframe tbody tr th:only-of-type {\n",
              "        vertical-align: middle;\n",
              "    }\n",
              "\n",
              "    .dataframe tbody tr th {\n",
              "        vertical-align: top;\n",
              "    }\n",
              "\n",
              "    .dataframe thead th {\n",
              "        text-align: right;\n",
              "    }\n",
              "</style>\n",
              "<table border=\"1\" class=\"dataframe\">\n",
              "  <thead>\n",
              "    <tr style=\"text-align: right;\">\n",
              "      <th></th>\n",
              "      <th>name</th>\n",
              "      <th>year</th>\n",
              "      <th>selling_price</th>\n",
              "      <th>km_driven</th>\n",
              "      <th>fuel</th>\n",
              "      <th>seller_type</th>\n",
              "      <th>transmission</th>\n",
              "      <th>owner</th>\n",
              "      <th>mileage</th>\n",
              "      <th>engine</th>\n",
              "      <th>max_power</th>\n",
              "      <th>seats</th>\n",
              "    </tr>\n",
              "  </thead>\n",
              "  <tbody>\n",
              "    <tr>\n",
              "      <th>0</th>\n",
              "      <td>Honda</td>\n",
              "      <td>2011</td>\n",
              "      <td>350000</td>\n",
              "      <td>80000</td>\n",
              "      <td>Petrol</td>\n",
              "      <td>Individual</td>\n",
              "      <td>Manual</td>\n",
              "      <td>Second Owner</td>\n",
              "      <td>16.00</td>\n",
              "      <td>1198.0</td>\n",
              "      <td>90.00</td>\n",
              "      <td>5.0</td>\n",
              "    </tr>\n",
              "    <tr>\n",
              "      <th>1</th>\n",
              "      <td>Maruti</td>\n",
              "      <td>2015</td>\n",
              "      <td>265000</td>\n",
              "      <td>54000</td>\n",
              "      <td>Petrol</td>\n",
              "      <td>Individual</td>\n",
              "      <td>Manual</td>\n",
              "      <td>First Owner</td>\n",
              "      <td>23.95</td>\n",
              "      <td>998.0</td>\n",
              "      <td>67.05</td>\n",
              "      <td>5.0</td>\n",
              "    </tr>\n",
              "    <tr>\n",
              "      <th>2</th>\n",
              "      <td>Renault</td>\n",
              "      <td>2018</td>\n",
              "      <td>330000</td>\n",
              "      <td>30000</td>\n",
              "      <td>Petrol</td>\n",
              "      <td>Individual</td>\n",
              "      <td>Manual</td>\n",
              "      <td>First Owner</td>\n",
              "      <td>23.01</td>\n",
              "      <td>999.0</td>\n",
              "      <td>67.00</td>\n",
              "      <td>5.0</td>\n",
              "    </tr>\n",
              "    <tr>\n",
              "      <th>3</th>\n",
              "      <td>Maruti</td>\n",
              "      <td>2019</td>\n",
              "      <td>395000</td>\n",
              "      <td>5000</td>\n",
              "      <td>Petrol</td>\n",
              "      <td>Individual</td>\n",
              "      <td>Manual</td>\n",
              "      <td>First Owner</td>\n",
              "      <td>15.37</td>\n",
              "      <td>1196.0</td>\n",
              "      <td>73.00</td>\n",
              "      <td>7.0</td>\n",
              "    </tr>\n",
              "    <tr>\n",
              "      <th>4</th>\n",
              "      <td>Mahindra</td>\n",
              "      <td>2015</td>\n",
              "      <td>700000</td>\n",
              "      <td>58945</td>\n",
              "      <td>Diesel</td>\n",
              "      <td>Individual</td>\n",
              "      <td>Manual</td>\n",
              "      <td>First Owner</td>\n",
              "      <td>18.49</td>\n",
              "      <td>1493.0</td>\n",
              "      <td>100.00</td>\n",
              "      <td>7.0</td>\n",
              "    </tr>\n",
              "  </tbody>\n",
              "</table>\n",
              "</div>\n",
              "      <button class=\"colab-df-convert\" onclick=\"convertToInteractive('df-a53f9a68-263d-410b-901a-81b31450c8e9')\"\n",
              "              title=\"Convert this dataframe to an interactive table.\"\n",
              "              style=\"display:none;\">\n",
              "        \n",
              "  <svg xmlns=\"http://www.w3.org/2000/svg\" height=\"24px\"viewBox=\"0 0 24 24\"\n",
              "       width=\"24px\">\n",
              "    <path d=\"M0 0h24v24H0V0z\" fill=\"none\"/>\n",
              "    <path d=\"M18.56 5.44l.94 2.06.94-2.06 2.06-.94-2.06-.94-.94-2.06-.94 2.06-2.06.94zm-11 1L8.5 8.5l.94-2.06 2.06-.94-2.06-.94L8.5 2.5l-.94 2.06-2.06.94zm10 10l.94 2.06.94-2.06 2.06-.94-2.06-.94-.94-2.06-.94 2.06-2.06.94z\"/><path d=\"M17.41 7.96l-1.37-1.37c-.4-.4-.92-.59-1.43-.59-.52 0-1.04.2-1.43.59L10.3 9.45l-7.72 7.72c-.78.78-.78 2.05 0 2.83L4 21.41c.39.39.9.59 1.41.59.51 0 1.02-.2 1.41-.59l7.78-7.78 2.81-2.81c.8-.78.8-2.07 0-2.86zM5.41 20L4 18.59l7.72-7.72 1.47 1.35L5.41 20z\"/>\n",
              "  </svg>\n",
              "      </button>\n",
              "      \n",
              "  <style>\n",
              "    .colab-df-container {\n",
              "      display:flex;\n",
              "      flex-wrap:wrap;\n",
              "      gap: 12px;\n",
              "    }\n",
              "\n",
              "    .colab-df-convert {\n",
              "      background-color: #E8F0FE;\n",
              "      border: none;\n",
              "      border-radius: 50%;\n",
              "      cursor: pointer;\n",
              "      display: none;\n",
              "      fill: #1967D2;\n",
              "      height: 32px;\n",
              "      padding: 0 0 0 0;\n",
              "      width: 32px;\n",
              "    }\n",
              "\n",
              "    .colab-df-convert:hover {\n",
              "      background-color: #E2EBFA;\n",
              "      box-shadow: 0px 1px 2px rgba(60, 64, 67, 0.3), 0px 1px 3px 1px rgba(60, 64, 67, 0.15);\n",
              "      fill: #174EA6;\n",
              "    }\n",
              "\n",
              "    [theme=dark] .colab-df-convert {\n",
              "      background-color: #3B4455;\n",
              "      fill: #D2E3FC;\n",
              "    }\n",
              "\n",
              "    [theme=dark] .colab-df-convert:hover {\n",
              "      background-color: #434B5C;\n",
              "      box-shadow: 0px 1px 3px 1px rgba(0, 0, 0, 0.15);\n",
              "      filter: drop-shadow(0px 1px 2px rgba(0, 0, 0, 0.3));\n",
              "      fill: #FFFFFF;\n",
              "    }\n",
              "  </style>\n",
              "\n",
              "      <script>\n",
              "        const buttonEl =\n",
              "          document.querySelector('#df-a53f9a68-263d-410b-901a-81b31450c8e9 button.colab-df-convert');\n",
              "        buttonEl.style.display =\n",
              "          google.colab.kernel.accessAllowed ? 'block' : 'none';\n",
              "\n",
              "        async function convertToInteractive(key) {\n",
              "          const element = document.querySelector('#df-a53f9a68-263d-410b-901a-81b31450c8e9');\n",
              "          const dataTable =\n",
              "            await google.colab.kernel.invokeFunction('convertToInteractive',\n",
              "                                                     [key], {});\n",
              "          if (!dataTable) return;\n",
              "\n",
              "          const docLinkHtml = 'Like what you see? Visit the ' +\n",
              "            '<a target=\"_blank\" href=https://colab.research.google.com/notebooks/data_table.ipynb>data table notebook</a>'\n",
              "            + ' to learn more about interactive tables.';\n",
              "          element.innerHTML = '';\n",
              "          dataTable['output_type'] = 'display_data';\n",
              "          await google.colab.output.renderOutput(dataTable, element);\n",
              "          const docLink = document.createElement('div');\n",
              "          docLink.innerHTML = docLinkHtml;\n",
              "          element.appendChild(docLink);\n",
              "        }\n",
              "      </script>\n",
              "    </div>\n",
              "  </div>\n",
              "  "
            ],
            "text/plain": [
              "       name  year  selling_price  km_driven  ... mileage  engine max_power seats\n",
              "0     Honda  2011         350000      80000  ...   16.00  1198.0     90.00   5.0\n",
              "1    Maruti  2015         265000      54000  ...   23.95   998.0     67.05   5.0\n",
              "2   Renault  2018         330000      30000  ...   23.01   999.0     67.00   5.0\n",
              "3    Maruti  2019         395000       5000  ...   15.37  1196.0     73.00   7.0\n",
              "4  Mahindra  2015         700000      58945  ...   18.49  1493.0    100.00   7.0\n",
              "\n",
              "[5 rows x 12 columns]"
            ]
          },
          "execution_count": 27,
          "metadata": {},
          "output_type": "execute_result"
        }
      ],
      "source": [
        "data = pd.read_csv('v2.csv')\n",
        "data.head()"
      ]
    },
    {
      "cell_type": "code",
      "execution_count": null,
      "metadata": {
        "colab": {
          "base_uri": "https://localhost:8080/"
        },
        "id": "X4jpByVtV1xu",
        "outputId": "c0636961-12d7-4a2e-e23e-1c36b81a30b2"
      },
      "outputs": [
        {
          "name": "stdout",
          "output_type": "stream",
          "text": [
            "(2000, 3)\n"
          ]
        }
      ],
      "source": [
        "from sklearn.preprocessing import PolynomialFeatures\n",
        "data = data.drop(['name','fuel','seller_type','transmission','owner','mileage',\t'engine',\t'max_power','seats'], axis = 1)\n",
        "data.head()\n",
        "print(data.shape)"
      ]
    },
    {
      "cell_type": "code",
      "execution_count": null,
      "metadata": {
        "colab": {
          "base_uri": "https://localhost:8080/"
        },
        "id": "OcZzABq7gHGg",
        "outputId": "a1e50361-47bb-4912-acb1-2f6d47f88674"
      },
      "outputs": [
        {
          "name": "stdout",
          "output_type": "stream",
          "text": [
            "Number of features after transformation =  (2000, 10)\n"
          ]
        }
      ],
      "source": [
        "poly = PolynomialFeatures(degree=2)\n",
        "poly_car_data = poly.fit_transform(data)\n",
        "print('Number of features after transformation = ', poly_car_data.shape)"
      ]
    },
    {
      "cell_type": "markdown",
      "metadata": {
        "id": "qeaTBilpk32y"
      },
      "source": [
        "#Q13 [4 marks] Reload the dataset and drop the features- 'name','fuel','seller_type','transmission','owner','mileage', 'engine', 'max_power','seats'. Fit a `PCA` transformer on this data and compute its first two principal components. What is the 'explained variance score' corresponding to each principal axes?\n",
        "\n",
        "(a) [7.88109916e+11 2.88303124e+09]\n",
        "\n",
        "(b)[4.90110877e+11 4.85198659e+09]\n",
        "\n",
        "(c)[7.46007996e+11 2.36127044e+09]\n",
        "\n",
        "(d) [6.04987740e+11 2.05405572e+09]\n",
        "\n",
        "**Answer: Set v1: Option (a), Set v2: Option (b), Set v3: Option (c), Set v4: Option (d)**\n",
        "\n",
        "\n"
      ]
    },
    {
      "cell_type": "code",
      "execution_count": null,
      "metadata": {
        "colab": {
          "base_uri": "https://localhost:8080/"
        },
        "id": "yD3_hDdTSuWv",
        "outputId": "b2f2a6b9-69ec-49be-9d2a-82c512fbb034"
      },
      "outputs": [
        {
          "name": "stdout",
          "output_type": "stream",
          "text": [
            "The 2 principal axes are\n",
            " [[ 2.29933558e-06  9.99862197e-01 -1.66008088e-02]\n",
            " [-1.52825015e-05  1.66008088e-02  9.99862197e-01]]\n",
            "Explained variance score by each component [4.90110877e+11 4.85198659e+09]\n"
          ]
        }
      ],
      "source": [
        "from sklearn.decomposition import PCA\n",
        "#data = pd.read_csv('v1.csv')\n",
        "pca = PCA(n_components=2)\n",
        "pca.fit(data)\n",
        "print(f'The {pca.n_components_} principal axes are\\n', pca.components_)\n",
        "print('Explained variance score by each component', pca.explained_variance_)"
      ]
    },
    {
      "cell_type": "code",
      "execution_count": null,
      "metadata": {
        "colab": {
          "base_uri": "https://localhost:8080/",
          "height": 206
        },
        "id": "BeKWOMSseTMg",
        "outputId": "5a66ac0b-9ff8-4fa8-aaf2-6ff9cb834229"
      },
      "outputs": [
        {
          "data": {
            "text/html": [
              "\n",
              "  <div id=\"df-733d4b62-d47f-4664-a8ca-db3edb001667\">\n",
              "    <div class=\"colab-df-container\">\n",
              "      <div>\n",
              "<style scoped>\n",
              "    .dataframe tbody tr th:only-of-type {\n",
              "        vertical-align: middle;\n",
              "    }\n",
              "\n",
              "    .dataframe tbody tr th {\n",
              "        vertical-align: top;\n",
              "    }\n",
              "\n",
              "    .dataframe thead th {\n",
              "        text-align: right;\n",
              "    }\n",
              "</style>\n",
              "<table border=\"1\" class=\"dataframe\">\n",
              "  <thead>\n",
              "    <tr style=\"text-align: right;\">\n",
              "      <th></th>\n",
              "      <th>name</th>\n",
              "      <th>year</th>\n",
              "      <th>selling_price</th>\n",
              "      <th>km_driven</th>\n",
              "      <th>fuel</th>\n",
              "      <th>seller_type</th>\n",
              "      <th>transmission</th>\n",
              "      <th>owner</th>\n",
              "      <th>mileage</th>\n",
              "      <th>engine</th>\n",
              "      <th>max_power</th>\n",
              "      <th>seats</th>\n",
              "    </tr>\n",
              "  </thead>\n",
              "  <tbody>\n",
              "    <tr>\n",
              "      <th>0</th>\n",
              "      <td>Honda</td>\n",
              "      <td>2011</td>\n",
              "      <td>350000</td>\n",
              "      <td>80000</td>\n",
              "      <td>Petrol</td>\n",
              "      <td>Individual</td>\n",
              "      <td>Manual</td>\n",
              "      <td>Second Owner</td>\n",
              "      <td>16.00</td>\n",
              "      <td>1198.0</td>\n",
              "      <td>90.00</td>\n",
              "      <td>5.0</td>\n",
              "    </tr>\n",
              "    <tr>\n",
              "      <th>1</th>\n",
              "      <td>Maruti</td>\n",
              "      <td>2015</td>\n",
              "      <td>265000</td>\n",
              "      <td>54000</td>\n",
              "      <td>Petrol</td>\n",
              "      <td>Individual</td>\n",
              "      <td>Manual</td>\n",
              "      <td>First Owner</td>\n",
              "      <td>23.95</td>\n",
              "      <td>998.0</td>\n",
              "      <td>67.05</td>\n",
              "      <td>5.0</td>\n",
              "    </tr>\n",
              "    <tr>\n",
              "      <th>2</th>\n",
              "      <td>Renault</td>\n",
              "      <td>2018</td>\n",
              "      <td>330000</td>\n",
              "      <td>30000</td>\n",
              "      <td>Petrol</td>\n",
              "      <td>Individual</td>\n",
              "      <td>Manual</td>\n",
              "      <td>First Owner</td>\n",
              "      <td>23.01</td>\n",
              "      <td>999.0</td>\n",
              "      <td>67.00</td>\n",
              "      <td>5.0</td>\n",
              "    </tr>\n",
              "    <tr>\n",
              "      <th>3</th>\n",
              "      <td>Maruti</td>\n",
              "      <td>2019</td>\n",
              "      <td>395000</td>\n",
              "      <td>5000</td>\n",
              "      <td>Petrol</td>\n",
              "      <td>Individual</td>\n",
              "      <td>Manual</td>\n",
              "      <td>First Owner</td>\n",
              "      <td>15.37</td>\n",
              "      <td>1196.0</td>\n",
              "      <td>73.00</td>\n",
              "      <td>7.0</td>\n",
              "    </tr>\n",
              "    <tr>\n",
              "      <th>4</th>\n",
              "      <td>Mahindra</td>\n",
              "      <td>2015</td>\n",
              "      <td>700000</td>\n",
              "      <td>58945</td>\n",
              "      <td>Diesel</td>\n",
              "      <td>Individual</td>\n",
              "      <td>Manual</td>\n",
              "      <td>First Owner</td>\n",
              "      <td>18.49</td>\n",
              "      <td>1493.0</td>\n",
              "      <td>100.00</td>\n",
              "      <td>7.0</td>\n",
              "    </tr>\n",
              "  </tbody>\n",
              "</table>\n",
              "</div>\n",
              "      <button class=\"colab-df-convert\" onclick=\"convertToInteractive('df-733d4b62-d47f-4664-a8ca-db3edb001667')\"\n",
              "              title=\"Convert this dataframe to an interactive table.\"\n",
              "              style=\"display:none;\">\n",
              "        \n",
              "  <svg xmlns=\"http://www.w3.org/2000/svg\" height=\"24px\"viewBox=\"0 0 24 24\"\n",
              "       width=\"24px\">\n",
              "    <path d=\"M0 0h24v24H0V0z\" fill=\"none\"/>\n",
              "    <path d=\"M18.56 5.44l.94 2.06.94-2.06 2.06-.94-2.06-.94-.94-2.06-.94 2.06-2.06.94zm-11 1L8.5 8.5l.94-2.06 2.06-.94-2.06-.94L8.5 2.5l-.94 2.06-2.06.94zm10 10l.94 2.06.94-2.06 2.06-.94-2.06-.94-.94-2.06-.94 2.06-2.06.94z\"/><path d=\"M17.41 7.96l-1.37-1.37c-.4-.4-.92-.59-1.43-.59-.52 0-1.04.2-1.43.59L10.3 9.45l-7.72 7.72c-.78.78-.78 2.05 0 2.83L4 21.41c.39.39.9.59 1.41.59.51 0 1.02-.2 1.41-.59l7.78-7.78 2.81-2.81c.8-.78.8-2.07 0-2.86zM5.41 20L4 18.59l7.72-7.72 1.47 1.35L5.41 20z\"/>\n",
              "  </svg>\n",
              "      </button>\n",
              "      \n",
              "  <style>\n",
              "    .colab-df-container {\n",
              "      display:flex;\n",
              "      flex-wrap:wrap;\n",
              "      gap: 12px;\n",
              "    }\n",
              "\n",
              "    .colab-df-convert {\n",
              "      background-color: #E8F0FE;\n",
              "      border: none;\n",
              "      border-radius: 50%;\n",
              "      cursor: pointer;\n",
              "      display: none;\n",
              "      fill: #1967D2;\n",
              "      height: 32px;\n",
              "      padding: 0 0 0 0;\n",
              "      width: 32px;\n",
              "    }\n",
              "\n",
              "    .colab-df-convert:hover {\n",
              "      background-color: #E2EBFA;\n",
              "      box-shadow: 0px 1px 2px rgba(60, 64, 67, 0.3), 0px 1px 3px 1px rgba(60, 64, 67, 0.15);\n",
              "      fill: #174EA6;\n",
              "    }\n",
              "\n",
              "    [theme=dark] .colab-df-convert {\n",
              "      background-color: #3B4455;\n",
              "      fill: #D2E3FC;\n",
              "    }\n",
              "\n",
              "    [theme=dark] .colab-df-convert:hover {\n",
              "      background-color: #434B5C;\n",
              "      box-shadow: 0px 1px 3px 1px rgba(0, 0, 0, 0.15);\n",
              "      filter: drop-shadow(0px 1px 2px rgba(0, 0, 0, 0.3));\n",
              "      fill: #FFFFFF;\n",
              "    }\n",
              "  </style>\n",
              "\n",
              "      <script>\n",
              "        const buttonEl =\n",
              "          document.querySelector('#df-733d4b62-d47f-4664-a8ca-db3edb001667 button.colab-df-convert');\n",
              "        buttonEl.style.display =\n",
              "          google.colab.kernel.accessAllowed ? 'block' : 'none';\n",
              "\n",
              "        async function convertToInteractive(key) {\n",
              "          const element = document.querySelector('#df-733d4b62-d47f-4664-a8ca-db3edb001667');\n",
              "          const dataTable =\n",
              "            await google.colab.kernel.invokeFunction('convertToInteractive',\n",
              "                                                     [key], {});\n",
              "          if (!dataTable) return;\n",
              "\n",
              "          const docLinkHtml = 'Like what you see? Visit the ' +\n",
              "            '<a target=\"_blank\" href=https://colab.research.google.com/notebooks/data_table.ipynb>data table notebook</a>'\n",
              "            + ' to learn more about interactive tables.';\n",
              "          element.innerHTML = '';\n",
              "          dataTable['output_type'] = 'display_data';\n",
              "          await google.colab.output.renderOutput(dataTable, element);\n",
              "          const docLink = document.createElement('div');\n",
              "          docLink.innerHTML = docLinkHtml;\n",
              "          element.appendChild(docLink);\n",
              "        }\n",
              "      </script>\n",
              "    </div>\n",
              "  </div>\n",
              "  "
            ],
            "text/plain": [
              "       name  year  selling_price  km_driven  ... mileage  engine max_power seats\n",
              "0     Honda  2011         350000      80000  ...   16.00  1198.0     90.00   5.0\n",
              "1    Maruti  2015         265000      54000  ...   23.95   998.0     67.05   5.0\n",
              "2   Renault  2018         330000      30000  ...   23.01   999.0     67.00   5.0\n",
              "3    Maruti  2019         395000       5000  ...   15.37  1196.0     73.00   7.0\n",
              "4  Mahindra  2015         700000      58945  ...   18.49  1493.0    100.00   7.0\n",
              "\n",
              "[5 rows x 12 columns]"
            ]
          },
          "execution_count": 31,
          "metadata": {},
          "output_type": "execute_result"
        }
      ],
      "source": [
        "import pandas as pd\n",
        "\n",
        "data = pd.read_csv('v2.csv')\n",
        "data.head()"
      ]
    },
    {
      "cell_type": "code",
      "execution_count": null,
      "metadata": {
        "colab": {
          "base_uri": "https://localhost:8080/",
          "height": 206
        },
        "id": "kDYxQ9AFoM4e",
        "outputId": "eadb60d5-4b6d-481e-c960-b22ba8818d0c"
      },
      "outputs": [
        {
          "data": {
            "text/html": [
              "\n",
              "  <div id=\"df-1138c64a-90c2-426f-804d-9137d81cf8d8\">\n",
              "    <div class=\"colab-df-container\">\n",
              "      <div>\n",
              "<style scoped>\n",
              "    .dataframe tbody tr th:only-of-type {\n",
              "        vertical-align: middle;\n",
              "    }\n",
              "\n",
              "    .dataframe tbody tr th {\n",
              "        vertical-align: top;\n",
              "    }\n",
              "\n",
              "    .dataframe thead th {\n",
              "        text-align: right;\n",
              "    }\n",
              "</style>\n",
              "<table border=\"1\" class=\"dataframe\">\n",
              "  <thead>\n",
              "    <tr style=\"text-align: right;\">\n",
              "      <th></th>\n",
              "      <th>name</th>\n",
              "      <th>selling_price</th>\n",
              "      <th>km_driven</th>\n",
              "      <th>fuel</th>\n",
              "      <th>seller_type</th>\n",
              "      <th>transmission</th>\n",
              "      <th>owner</th>\n",
              "      <th>mileage</th>\n",
              "      <th>engine</th>\n",
              "      <th>max_power</th>\n",
              "      <th>seats</th>\n",
              "      <th>age_of_car</th>\n",
              "    </tr>\n",
              "  </thead>\n",
              "  <tbody>\n",
              "    <tr>\n",
              "      <th>0</th>\n",
              "      <td>Honda</td>\n",
              "      <td>350000</td>\n",
              "      <td>80000</td>\n",
              "      <td>Petrol</td>\n",
              "      <td>Individual</td>\n",
              "      <td>Manual</td>\n",
              "      <td>Second Owner</td>\n",
              "      <td>16.00</td>\n",
              "      <td>1198.0</td>\n",
              "      <td>90.00</td>\n",
              "      <td>5.0</td>\n",
              "      <td>11</td>\n",
              "    </tr>\n",
              "    <tr>\n",
              "      <th>1</th>\n",
              "      <td>Maruti</td>\n",
              "      <td>265000</td>\n",
              "      <td>54000</td>\n",
              "      <td>Petrol</td>\n",
              "      <td>Individual</td>\n",
              "      <td>Manual</td>\n",
              "      <td>First Owner</td>\n",
              "      <td>23.95</td>\n",
              "      <td>998.0</td>\n",
              "      <td>67.05</td>\n",
              "      <td>5.0</td>\n",
              "      <td>7</td>\n",
              "    </tr>\n",
              "    <tr>\n",
              "      <th>2</th>\n",
              "      <td>Renault</td>\n",
              "      <td>330000</td>\n",
              "      <td>30000</td>\n",
              "      <td>Petrol</td>\n",
              "      <td>Individual</td>\n",
              "      <td>Manual</td>\n",
              "      <td>First Owner</td>\n",
              "      <td>23.01</td>\n",
              "      <td>999.0</td>\n",
              "      <td>67.00</td>\n",
              "      <td>5.0</td>\n",
              "      <td>4</td>\n",
              "    </tr>\n",
              "    <tr>\n",
              "      <th>3</th>\n",
              "      <td>Maruti</td>\n",
              "      <td>395000</td>\n",
              "      <td>5000</td>\n",
              "      <td>Petrol</td>\n",
              "      <td>Individual</td>\n",
              "      <td>Manual</td>\n",
              "      <td>First Owner</td>\n",
              "      <td>15.37</td>\n",
              "      <td>1196.0</td>\n",
              "      <td>73.00</td>\n",
              "      <td>7.0</td>\n",
              "      <td>3</td>\n",
              "    </tr>\n",
              "    <tr>\n",
              "      <th>4</th>\n",
              "      <td>Mahindra</td>\n",
              "      <td>700000</td>\n",
              "      <td>58945</td>\n",
              "      <td>Diesel</td>\n",
              "      <td>Individual</td>\n",
              "      <td>Manual</td>\n",
              "      <td>First Owner</td>\n",
              "      <td>18.49</td>\n",
              "      <td>1493.0</td>\n",
              "      <td>100.00</td>\n",
              "      <td>7.0</td>\n",
              "      <td>7</td>\n",
              "    </tr>\n",
              "  </tbody>\n",
              "</table>\n",
              "</div>\n",
              "      <button class=\"colab-df-convert\" onclick=\"convertToInteractive('df-1138c64a-90c2-426f-804d-9137d81cf8d8')\"\n",
              "              title=\"Convert this dataframe to an interactive table.\"\n",
              "              style=\"display:none;\">\n",
              "        \n",
              "  <svg xmlns=\"http://www.w3.org/2000/svg\" height=\"24px\"viewBox=\"0 0 24 24\"\n",
              "       width=\"24px\">\n",
              "    <path d=\"M0 0h24v24H0V0z\" fill=\"none\"/>\n",
              "    <path d=\"M18.56 5.44l.94 2.06.94-2.06 2.06-.94-2.06-.94-.94-2.06-.94 2.06-2.06.94zm-11 1L8.5 8.5l.94-2.06 2.06-.94-2.06-.94L8.5 2.5l-.94 2.06-2.06.94zm10 10l.94 2.06.94-2.06 2.06-.94-2.06-.94-.94-2.06-.94 2.06-2.06.94z\"/><path d=\"M17.41 7.96l-1.37-1.37c-.4-.4-.92-.59-1.43-.59-.52 0-1.04.2-1.43.59L10.3 9.45l-7.72 7.72c-.78.78-.78 2.05 0 2.83L4 21.41c.39.39.9.59 1.41.59.51 0 1.02-.2 1.41-.59l7.78-7.78 2.81-2.81c.8-.78.8-2.07 0-2.86zM5.41 20L4 18.59l7.72-7.72 1.47 1.35L5.41 20z\"/>\n",
              "  </svg>\n",
              "      </button>\n",
              "      \n",
              "  <style>\n",
              "    .colab-df-container {\n",
              "      display:flex;\n",
              "      flex-wrap:wrap;\n",
              "      gap: 12px;\n",
              "    }\n",
              "\n",
              "    .colab-df-convert {\n",
              "      background-color: #E8F0FE;\n",
              "      border: none;\n",
              "      border-radius: 50%;\n",
              "      cursor: pointer;\n",
              "      display: none;\n",
              "      fill: #1967D2;\n",
              "      height: 32px;\n",
              "      padding: 0 0 0 0;\n",
              "      width: 32px;\n",
              "    }\n",
              "\n",
              "    .colab-df-convert:hover {\n",
              "      background-color: #E2EBFA;\n",
              "      box-shadow: 0px 1px 2px rgba(60, 64, 67, 0.3), 0px 1px 3px 1px rgba(60, 64, 67, 0.15);\n",
              "      fill: #174EA6;\n",
              "    }\n",
              "\n",
              "    [theme=dark] .colab-df-convert {\n",
              "      background-color: #3B4455;\n",
              "      fill: #D2E3FC;\n",
              "    }\n",
              "\n",
              "    [theme=dark] .colab-df-convert:hover {\n",
              "      background-color: #434B5C;\n",
              "      box-shadow: 0px 1px 3px 1px rgba(0, 0, 0, 0.15);\n",
              "      filter: drop-shadow(0px 1px 2px rgba(0, 0, 0, 0.3));\n",
              "      fill: #FFFFFF;\n",
              "    }\n",
              "  </style>\n",
              "\n",
              "      <script>\n",
              "        const buttonEl =\n",
              "          document.querySelector('#df-1138c64a-90c2-426f-804d-9137d81cf8d8 button.colab-df-convert');\n",
              "        buttonEl.style.display =\n",
              "          google.colab.kernel.accessAllowed ? 'block' : 'none';\n",
              "\n",
              "        async function convertToInteractive(key) {\n",
              "          const element = document.querySelector('#df-1138c64a-90c2-426f-804d-9137d81cf8d8');\n",
              "          const dataTable =\n",
              "            await google.colab.kernel.invokeFunction('convertToInteractive',\n",
              "                                                     [key], {});\n",
              "          if (!dataTable) return;\n",
              "\n",
              "          const docLinkHtml = 'Like what you see? Visit the ' +\n",
              "            '<a target=\"_blank\" href=https://colab.research.google.com/notebooks/data_table.ipynb>data table notebook</a>'\n",
              "            + ' to learn more about interactive tables.';\n",
              "          element.innerHTML = '';\n",
              "          dataTable['output_type'] = 'display_data';\n",
              "          await google.colab.output.renderOutput(dataTable, element);\n",
              "          const docLink = document.createElement('div');\n",
              "          docLink.innerHTML = docLinkHtml;\n",
              "          element.appendChild(docLink);\n",
              "        }\n",
              "      </script>\n",
              "    </div>\n",
              "  </div>\n",
              "  "
            ],
            "text/plain": [
              "       name  selling_price  km_driven  ... max_power seats age_of_car\n",
              "0     Honda         350000      80000  ...     90.00   5.0         11\n",
              "1    Maruti         265000      54000  ...     67.05   5.0          7\n",
              "2   Renault         330000      30000  ...     67.00   5.0          4\n",
              "3    Maruti         395000       5000  ...     73.00   7.0          3\n",
              "4  Mahindra         700000      58945  ...    100.00   7.0          7\n",
              "\n",
              "[5 rows x 12 columns]"
            ]
          },
          "execution_count": 32,
          "metadata": {},
          "output_type": "execute_result"
        }
      ],
      "source": [
        "data['age_of_car'] = 2022 - data['year'] \n",
        "data = data.drop(['year'], axis = 1)\n",
        "data.head()"
      ]
    },
    {
      "cell_type": "code",
      "execution_count": null,
      "metadata": {
        "id": "ekREK5wtqI40"
      },
      "outputs": [],
      "source": [
        "from sklearn.feature_selection import VarianceThreshold\n",
        "from sklearn.pipeline import Pipeline, FeatureUnion\n",
        "from sklearn.compose import ColumnTransformer\n",
        "from sklearn.preprocessing import StandardScaler, OrdinalEncoder\n",
        "from sklearn.impute import SimpleImputer\n"
      ]
    },
    {
      "cell_type": "code",
      "execution_count": null,
      "metadata": {
        "colab": {
          "base_uri": "https://localhost:8080/",
          "height": 206
        },
        "id": "8p0yUttUfwCZ",
        "outputId": "6693084b-2d15-4b61-88ed-d9e009f27d4f"
      },
      "outputs": [
        {
          "data": {
            "text/html": [
              "\n",
              "  <div id=\"df-c0a938cb-0687-4ba8-8977-87d9014bd96d\">\n",
              "    <div class=\"colab-df-container\">\n",
              "      <div>\n",
              "<style scoped>\n",
              "    .dataframe tbody tr th:only-of-type {\n",
              "        vertical-align: middle;\n",
              "    }\n",
              "\n",
              "    .dataframe tbody tr th {\n",
              "        vertical-align: top;\n",
              "    }\n",
              "\n",
              "    .dataframe thead th {\n",
              "        text-align: right;\n",
              "    }\n",
              "</style>\n",
              "<table border=\"1\" class=\"dataframe\">\n",
              "  <thead>\n",
              "    <tr style=\"text-align: right;\">\n",
              "      <th></th>\n",
              "      <th>selling_price</th>\n",
              "      <th>km_driven</th>\n",
              "      <th>mileage</th>\n",
              "      <th>engine</th>\n",
              "      <th>max_power</th>\n",
              "      <th>seats</th>\n",
              "      <th>age_of_car</th>\n",
              "    </tr>\n",
              "  </thead>\n",
              "  <tbody>\n",
              "    <tr>\n",
              "      <th>0</th>\n",
              "      <td>350000</td>\n",
              "      <td>80000</td>\n",
              "      <td>16.00</td>\n",
              "      <td>1198.0</td>\n",
              "      <td>90.00</td>\n",
              "      <td>5.0</td>\n",
              "      <td>11</td>\n",
              "    </tr>\n",
              "    <tr>\n",
              "      <th>1</th>\n",
              "      <td>265000</td>\n",
              "      <td>54000</td>\n",
              "      <td>23.95</td>\n",
              "      <td>998.0</td>\n",
              "      <td>67.05</td>\n",
              "      <td>5.0</td>\n",
              "      <td>7</td>\n",
              "    </tr>\n",
              "    <tr>\n",
              "      <th>2</th>\n",
              "      <td>330000</td>\n",
              "      <td>30000</td>\n",
              "      <td>23.01</td>\n",
              "      <td>999.0</td>\n",
              "      <td>67.00</td>\n",
              "      <td>5.0</td>\n",
              "      <td>4</td>\n",
              "    </tr>\n",
              "    <tr>\n",
              "      <th>3</th>\n",
              "      <td>395000</td>\n",
              "      <td>5000</td>\n",
              "      <td>15.37</td>\n",
              "      <td>1196.0</td>\n",
              "      <td>73.00</td>\n",
              "      <td>7.0</td>\n",
              "      <td>3</td>\n",
              "    </tr>\n",
              "    <tr>\n",
              "      <th>4</th>\n",
              "      <td>700000</td>\n",
              "      <td>58945</td>\n",
              "      <td>18.49</td>\n",
              "      <td>1493.0</td>\n",
              "      <td>100.00</td>\n",
              "      <td>7.0</td>\n",
              "      <td>7</td>\n",
              "    </tr>\n",
              "  </tbody>\n",
              "</table>\n",
              "</div>\n",
              "      <button class=\"colab-df-convert\" onclick=\"convertToInteractive('df-c0a938cb-0687-4ba8-8977-87d9014bd96d')\"\n",
              "              title=\"Convert this dataframe to an interactive table.\"\n",
              "              style=\"display:none;\">\n",
              "        \n",
              "  <svg xmlns=\"http://www.w3.org/2000/svg\" height=\"24px\"viewBox=\"0 0 24 24\"\n",
              "       width=\"24px\">\n",
              "    <path d=\"M0 0h24v24H0V0z\" fill=\"none\"/>\n",
              "    <path d=\"M18.56 5.44l.94 2.06.94-2.06 2.06-.94-2.06-.94-.94-2.06-.94 2.06-2.06.94zm-11 1L8.5 8.5l.94-2.06 2.06-.94-2.06-.94L8.5 2.5l-.94 2.06-2.06.94zm10 10l.94 2.06.94-2.06 2.06-.94-2.06-.94-.94-2.06-.94 2.06-2.06.94z\"/><path d=\"M17.41 7.96l-1.37-1.37c-.4-.4-.92-.59-1.43-.59-.52 0-1.04.2-1.43.59L10.3 9.45l-7.72 7.72c-.78.78-.78 2.05 0 2.83L4 21.41c.39.39.9.59 1.41.59.51 0 1.02-.2 1.41-.59l7.78-7.78 2.81-2.81c.8-.78.8-2.07 0-2.86zM5.41 20L4 18.59l7.72-7.72 1.47 1.35L5.41 20z\"/>\n",
              "  </svg>\n",
              "      </button>\n",
              "      \n",
              "  <style>\n",
              "    .colab-df-container {\n",
              "      display:flex;\n",
              "      flex-wrap:wrap;\n",
              "      gap: 12px;\n",
              "    }\n",
              "\n",
              "    .colab-df-convert {\n",
              "      background-color: #E8F0FE;\n",
              "      border: none;\n",
              "      border-radius: 50%;\n",
              "      cursor: pointer;\n",
              "      display: none;\n",
              "      fill: #1967D2;\n",
              "      height: 32px;\n",
              "      padding: 0 0 0 0;\n",
              "      width: 32px;\n",
              "    }\n",
              "\n",
              "    .colab-df-convert:hover {\n",
              "      background-color: #E2EBFA;\n",
              "      box-shadow: 0px 1px 2px rgba(60, 64, 67, 0.3), 0px 1px 3px 1px rgba(60, 64, 67, 0.15);\n",
              "      fill: #174EA6;\n",
              "    }\n",
              "\n",
              "    [theme=dark] .colab-df-convert {\n",
              "      background-color: #3B4455;\n",
              "      fill: #D2E3FC;\n",
              "    }\n",
              "\n",
              "    [theme=dark] .colab-df-convert:hover {\n",
              "      background-color: #434B5C;\n",
              "      box-shadow: 0px 1px 3px 1px rgba(0, 0, 0, 0.15);\n",
              "      filter: drop-shadow(0px 1px 2px rgba(0, 0, 0, 0.3));\n",
              "      fill: #FFFFFF;\n",
              "    }\n",
              "  </style>\n",
              "\n",
              "      <script>\n",
              "        const buttonEl =\n",
              "          document.querySelector('#df-c0a938cb-0687-4ba8-8977-87d9014bd96d button.colab-df-convert');\n",
              "        buttonEl.style.display =\n",
              "          google.colab.kernel.accessAllowed ? 'block' : 'none';\n",
              "\n",
              "        async function convertToInteractive(key) {\n",
              "          const element = document.querySelector('#df-c0a938cb-0687-4ba8-8977-87d9014bd96d');\n",
              "          const dataTable =\n",
              "            await google.colab.kernel.invokeFunction('convertToInteractive',\n",
              "                                                     [key], {});\n",
              "          if (!dataTable) return;\n",
              "\n",
              "          const docLinkHtml = 'Like what you see? Visit the ' +\n",
              "            '<a target=\"_blank\" href=https://colab.research.google.com/notebooks/data_table.ipynb>data table notebook</a>'\n",
              "            + ' to learn more about interactive tables.';\n",
              "          element.innerHTML = '';\n",
              "          dataTable['output_type'] = 'display_data';\n",
              "          await google.colab.output.renderOutput(dataTable, element);\n",
              "          const docLink = document.createElement('div');\n",
              "          docLink.innerHTML = docLinkHtml;\n",
              "          element.appendChild(docLink);\n",
              "        }\n",
              "      </script>\n",
              "    </div>\n",
              "  </div>\n",
              "  "
            ],
            "text/plain": [
              "   selling_price  km_driven  mileage  engine  max_power  seats  age_of_car\n",
              "0         350000      80000    16.00  1198.0      90.00    5.0          11\n",
              "1         265000      54000    23.95   998.0      67.05    5.0           7\n",
              "2         330000      30000    23.01   999.0      67.00    5.0           4\n",
              "3         395000       5000    15.37  1196.0      73.00    7.0           3\n",
              "4         700000      58945    18.49  1493.0     100.00    7.0           7"
            ]
          },
          "execution_count": 34,
          "metadata": {},
          "output_type": "execute_result"
        }
      ],
      "source": [
        "data = data.drop(['name','fuel','seller_type','transmission','owner'], axis = 1)\n",
        "data.head()"
      ]
    },
    {
      "cell_type": "markdown",
      "metadata": {
        "id": "WrvyTL_5yo_p"
      },
      "source": [
        "#Q14 [4 marks] Reload the dataset. Replace the `Year` column as `age_of_car` where  `age_of_car`=2022-`Year`.\n",
        "Select the feature `Selling_Price` as target matrix. Select and mark 3 features from  the rest of the features ,i.e. `km_driven`,\t`mileage`,\t`engine`,\t`max_power`,\t`seats`,\t`age_of_car` by applying RFE. Mark the selected features from the options below.\n",
        "\n",
        "(a) max_power\n",
        "\n",
        "(b) seats\n",
        "\n",
        "(c) age_of_car\n",
        "\n",
        "(d) Selling_Price\n",
        "\n",
        "**Answer: Set v1: Option (a), (b), (c), Set v2: Option (a), (b), (c), , Set v3: Option (a), (b), (c), Set v4: Option (a), (b), (c)**\n"
      ]
    },
    {
      "cell_type": "code",
      "execution_count": null,
      "metadata": {
        "colab": {
          "base_uri": "https://localhost:8080/",
          "height": 206
        },
        "id": "fjMVumsEsa8c",
        "outputId": "feac4187-e59c-4c3b-a844-24f0b6079db3"
      },
      "outputs": [
        {
          "data": {
            "text/html": [
              "\n",
              "  <div id=\"df-4eb46da6-74cd-4f4a-91a5-6bf945c23e9f\">\n",
              "    <div class=\"colab-df-container\">\n",
              "      <div>\n",
              "<style scoped>\n",
              "    .dataframe tbody tr th:only-of-type {\n",
              "        vertical-align: middle;\n",
              "    }\n",
              "\n",
              "    .dataframe tbody tr th {\n",
              "        vertical-align: top;\n",
              "    }\n",
              "\n",
              "    .dataframe thead th {\n",
              "        text-align: right;\n",
              "    }\n",
              "</style>\n",
              "<table border=\"1\" class=\"dataframe\">\n",
              "  <thead>\n",
              "    <tr style=\"text-align: right;\">\n",
              "      <th></th>\n",
              "      <th>km_driven</th>\n",
              "      <th>mileage</th>\n",
              "      <th>engine</th>\n",
              "      <th>max_power</th>\n",
              "      <th>seats</th>\n",
              "      <th>age_of_car</th>\n",
              "    </tr>\n",
              "  </thead>\n",
              "  <tbody>\n",
              "    <tr>\n",
              "      <th>0</th>\n",
              "      <td>80000</td>\n",
              "      <td>16.00</td>\n",
              "      <td>1198.0</td>\n",
              "      <td>90.00</td>\n",
              "      <td>5.0</td>\n",
              "      <td>11</td>\n",
              "    </tr>\n",
              "    <tr>\n",
              "      <th>1</th>\n",
              "      <td>54000</td>\n",
              "      <td>23.95</td>\n",
              "      <td>998.0</td>\n",
              "      <td>67.05</td>\n",
              "      <td>5.0</td>\n",
              "      <td>7</td>\n",
              "    </tr>\n",
              "    <tr>\n",
              "      <th>2</th>\n",
              "      <td>30000</td>\n",
              "      <td>23.01</td>\n",
              "      <td>999.0</td>\n",
              "      <td>67.00</td>\n",
              "      <td>5.0</td>\n",
              "      <td>4</td>\n",
              "    </tr>\n",
              "    <tr>\n",
              "      <th>3</th>\n",
              "      <td>5000</td>\n",
              "      <td>15.37</td>\n",
              "      <td>1196.0</td>\n",
              "      <td>73.00</td>\n",
              "      <td>7.0</td>\n",
              "      <td>3</td>\n",
              "    </tr>\n",
              "    <tr>\n",
              "      <th>4</th>\n",
              "      <td>58945</td>\n",
              "      <td>18.49</td>\n",
              "      <td>1493.0</td>\n",
              "      <td>100.00</td>\n",
              "      <td>7.0</td>\n",
              "      <td>7</td>\n",
              "    </tr>\n",
              "  </tbody>\n",
              "</table>\n",
              "</div>\n",
              "      <button class=\"colab-df-convert\" onclick=\"convertToInteractive('df-4eb46da6-74cd-4f4a-91a5-6bf945c23e9f')\"\n",
              "              title=\"Convert this dataframe to an interactive table.\"\n",
              "              style=\"display:none;\">\n",
              "        \n",
              "  <svg xmlns=\"http://www.w3.org/2000/svg\" height=\"24px\"viewBox=\"0 0 24 24\"\n",
              "       width=\"24px\">\n",
              "    <path d=\"M0 0h24v24H0V0z\" fill=\"none\"/>\n",
              "    <path d=\"M18.56 5.44l.94 2.06.94-2.06 2.06-.94-2.06-.94-.94-2.06-.94 2.06-2.06.94zm-11 1L8.5 8.5l.94-2.06 2.06-.94-2.06-.94L8.5 2.5l-.94 2.06-2.06.94zm10 10l.94 2.06.94-2.06 2.06-.94-2.06-.94-.94-2.06-.94 2.06-2.06.94z\"/><path d=\"M17.41 7.96l-1.37-1.37c-.4-.4-.92-.59-1.43-.59-.52 0-1.04.2-1.43.59L10.3 9.45l-7.72 7.72c-.78.78-.78 2.05 0 2.83L4 21.41c.39.39.9.59 1.41.59.51 0 1.02-.2 1.41-.59l7.78-7.78 2.81-2.81c.8-.78.8-2.07 0-2.86zM5.41 20L4 18.59l7.72-7.72 1.47 1.35L5.41 20z\"/>\n",
              "  </svg>\n",
              "      </button>\n",
              "      \n",
              "  <style>\n",
              "    .colab-df-container {\n",
              "      display:flex;\n",
              "      flex-wrap:wrap;\n",
              "      gap: 12px;\n",
              "    }\n",
              "\n",
              "    .colab-df-convert {\n",
              "      background-color: #E8F0FE;\n",
              "      border: none;\n",
              "      border-radius: 50%;\n",
              "      cursor: pointer;\n",
              "      display: none;\n",
              "      fill: #1967D2;\n",
              "      height: 32px;\n",
              "      padding: 0 0 0 0;\n",
              "      width: 32px;\n",
              "    }\n",
              "\n",
              "    .colab-df-convert:hover {\n",
              "      background-color: #E2EBFA;\n",
              "      box-shadow: 0px 1px 2px rgba(60, 64, 67, 0.3), 0px 1px 3px 1px rgba(60, 64, 67, 0.15);\n",
              "      fill: #174EA6;\n",
              "    }\n",
              "\n",
              "    [theme=dark] .colab-df-convert {\n",
              "      background-color: #3B4455;\n",
              "      fill: #D2E3FC;\n",
              "    }\n",
              "\n",
              "    [theme=dark] .colab-df-convert:hover {\n",
              "      background-color: #434B5C;\n",
              "      box-shadow: 0px 1px 3px 1px rgba(0, 0, 0, 0.15);\n",
              "      filter: drop-shadow(0px 1px 2px rgba(0, 0, 0, 0.3));\n",
              "      fill: #FFFFFF;\n",
              "    }\n",
              "  </style>\n",
              "\n",
              "      <script>\n",
              "        const buttonEl =\n",
              "          document.querySelector('#df-4eb46da6-74cd-4f4a-91a5-6bf945c23e9f button.colab-df-convert');\n",
              "        buttonEl.style.display =\n",
              "          google.colab.kernel.accessAllowed ? 'block' : 'none';\n",
              "\n",
              "        async function convertToInteractive(key) {\n",
              "          const element = document.querySelector('#df-4eb46da6-74cd-4f4a-91a5-6bf945c23e9f');\n",
              "          const dataTable =\n",
              "            await google.colab.kernel.invokeFunction('convertToInteractive',\n",
              "                                                     [key], {});\n",
              "          if (!dataTable) return;\n",
              "\n",
              "          const docLinkHtml = 'Like what you see? Visit the ' +\n",
              "            '<a target=\"_blank\" href=https://colab.research.google.com/notebooks/data_table.ipynb>data table notebook</a>'\n",
              "            + ' to learn more about interactive tables.';\n",
              "          element.innerHTML = '';\n",
              "          dataTable['output_type'] = 'display_data';\n",
              "          await google.colab.output.renderOutput(dataTable, element);\n",
              "          const docLink = document.createElement('div');\n",
              "          docLink.innerHTML = docLinkHtml;\n",
              "          element.appendChild(docLink);\n",
              "        }\n",
              "      </script>\n",
              "    </div>\n",
              "  </div>\n",
              "  "
            ],
            "text/plain": [
              "   km_driven  mileage  engine  max_power  seats  age_of_car\n",
              "0      80000    16.00  1198.0      90.00    5.0          11\n",
              "1      54000    23.95   998.0      67.05    5.0           7\n",
              "2      30000    23.01   999.0      67.00    5.0           4\n",
              "3       5000    15.37  1196.0      73.00    7.0           3\n",
              "4      58945    18.49  1493.0     100.00    7.0           7"
            ]
          },
          "execution_count": 35,
          "metadata": {},
          "output_type": "execute_result"
        }
      ],
      "source": [
        "X=data[data.columns[1:7]]\n",
        "y= data[data.columns[0:1]]\n",
        "X.head()"
      ]
    },
    {
      "cell_type": "code",
      "execution_count": null,
      "metadata": {
        "colab": {
          "base_uri": "https://localhost:8080/",
          "height": 206
        },
        "id": "dDmVOzkhs78V",
        "outputId": "99b91b48-52cb-4940-d2b4-f9cfadf0bbc6"
      },
      "outputs": [
        {
          "data": {
            "text/html": [
              "\n",
              "  <div id=\"df-f344fff5-2b84-4d76-81b2-1c8fb5430e5a\">\n",
              "    <div class=\"colab-df-container\">\n",
              "      <div>\n",
              "<style scoped>\n",
              "    .dataframe tbody tr th:only-of-type {\n",
              "        vertical-align: middle;\n",
              "    }\n",
              "\n",
              "    .dataframe tbody tr th {\n",
              "        vertical-align: top;\n",
              "    }\n",
              "\n",
              "    .dataframe thead th {\n",
              "        text-align: right;\n",
              "    }\n",
              "</style>\n",
              "<table border=\"1\" class=\"dataframe\">\n",
              "  <thead>\n",
              "    <tr style=\"text-align: right;\">\n",
              "      <th></th>\n",
              "      <th>selling_price</th>\n",
              "    </tr>\n",
              "  </thead>\n",
              "  <tbody>\n",
              "    <tr>\n",
              "      <th>0</th>\n",
              "      <td>350000</td>\n",
              "    </tr>\n",
              "    <tr>\n",
              "      <th>1</th>\n",
              "      <td>265000</td>\n",
              "    </tr>\n",
              "    <tr>\n",
              "      <th>2</th>\n",
              "      <td>330000</td>\n",
              "    </tr>\n",
              "    <tr>\n",
              "      <th>3</th>\n",
              "      <td>395000</td>\n",
              "    </tr>\n",
              "    <tr>\n",
              "      <th>4</th>\n",
              "      <td>700000</td>\n",
              "    </tr>\n",
              "  </tbody>\n",
              "</table>\n",
              "</div>\n",
              "      <button class=\"colab-df-convert\" onclick=\"convertToInteractive('df-f344fff5-2b84-4d76-81b2-1c8fb5430e5a')\"\n",
              "              title=\"Convert this dataframe to an interactive table.\"\n",
              "              style=\"display:none;\">\n",
              "        \n",
              "  <svg xmlns=\"http://www.w3.org/2000/svg\" height=\"24px\"viewBox=\"0 0 24 24\"\n",
              "       width=\"24px\">\n",
              "    <path d=\"M0 0h24v24H0V0z\" fill=\"none\"/>\n",
              "    <path d=\"M18.56 5.44l.94 2.06.94-2.06 2.06-.94-2.06-.94-.94-2.06-.94 2.06-2.06.94zm-11 1L8.5 8.5l.94-2.06 2.06-.94-2.06-.94L8.5 2.5l-.94 2.06-2.06.94zm10 10l.94 2.06.94-2.06 2.06-.94-2.06-.94-.94-2.06-.94 2.06-2.06.94z\"/><path d=\"M17.41 7.96l-1.37-1.37c-.4-.4-.92-.59-1.43-.59-.52 0-1.04.2-1.43.59L10.3 9.45l-7.72 7.72c-.78.78-.78 2.05 0 2.83L4 21.41c.39.39.9.59 1.41.59.51 0 1.02-.2 1.41-.59l7.78-7.78 2.81-2.81c.8-.78.8-2.07 0-2.86zM5.41 20L4 18.59l7.72-7.72 1.47 1.35L5.41 20z\"/>\n",
              "  </svg>\n",
              "      </button>\n",
              "      \n",
              "  <style>\n",
              "    .colab-df-container {\n",
              "      display:flex;\n",
              "      flex-wrap:wrap;\n",
              "      gap: 12px;\n",
              "    }\n",
              "\n",
              "    .colab-df-convert {\n",
              "      background-color: #E8F0FE;\n",
              "      border: none;\n",
              "      border-radius: 50%;\n",
              "      cursor: pointer;\n",
              "      display: none;\n",
              "      fill: #1967D2;\n",
              "      height: 32px;\n",
              "      padding: 0 0 0 0;\n",
              "      width: 32px;\n",
              "    }\n",
              "\n",
              "    .colab-df-convert:hover {\n",
              "      background-color: #E2EBFA;\n",
              "      box-shadow: 0px 1px 2px rgba(60, 64, 67, 0.3), 0px 1px 3px 1px rgba(60, 64, 67, 0.15);\n",
              "      fill: #174EA6;\n",
              "    }\n",
              "\n",
              "    [theme=dark] .colab-df-convert {\n",
              "      background-color: #3B4455;\n",
              "      fill: #D2E3FC;\n",
              "    }\n",
              "\n",
              "    [theme=dark] .colab-df-convert:hover {\n",
              "      background-color: #434B5C;\n",
              "      box-shadow: 0px 1px 3px 1px rgba(0, 0, 0, 0.15);\n",
              "      filter: drop-shadow(0px 1px 2px rgba(0, 0, 0, 0.3));\n",
              "      fill: #FFFFFF;\n",
              "    }\n",
              "  </style>\n",
              "\n",
              "      <script>\n",
              "        const buttonEl =\n",
              "          document.querySelector('#df-f344fff5-2b84-4d76-81b2-1c8fb5430e5a button.colab-df-convert');\n",
              "        buttonEl.style.display =\n",
              "          google.colab.kernel.accessAllowed ? 'block' : 'none';\n",
              "\n",
              "        async function convertToInteractive(key) {\n",
              "          const element = document.querySelector('#df-f344fff5-2b84-4d76-81b2-1c8fb5430e5a');\n",
              "          const dataTable =\n",
              "            await google.colab.kernel.invokeFunction('convertToInteractive',\n",
              "                                                     [key], {});\n",
              "          if (!dataTable) return;\n",
              "\n",
              "          const docLinkHtml = 'Like what you see? Visit the ' +\n",
              "            '<a target=\"_blank\" href=https://colab.research.google.com/notebooks/data_table.ipynb>data table notebook</a>'\n",
              "            + ' to learn more about interactive tables.';\n",
              "          element.innerHTML = '';\n",
              "          dataTable['output_type'] = 'display_data';\n",
              "          await google.colab.output.renderOutput(dataTable, element);\n",
              "          const docLink = document.createElement('div');\n",
              "          docLink.innerHTML = docLinkHtml;\n",
              "          element.appendChild(docLink);\n",
              "        }\n",
              "      </script>\n",
              "    </div>\n",
              "  </div>\n",
              "  "
            ],
            "text/plain": [
              "   selling_price\n",
              "0         350000\n",
              "1         265000\n",
              "2         330000\n",
              "3         395000\n",
              "4         700000"
            ]
          },
          "execution_count": 36,
          "metadata": {},
          "output_type": "execute_result"
        }
      ],
      "source": [
        "y.head()"
      ]
    },
    {
      "cell_type": "code",
      "execution_count": null,
      "metadata": {
        "colab": {
          "base_uri": "https://localhost:8080/"
        },
        "id": "XRDsMSoggtwp",
        "outputId": "4d249340-e9a4-4b47-de77-c841a0f28f39"
      },
      "outputs": [
        {
          "data": {
            "text/plain": [
              "km_driven      0\n",
              "mileage       61\n",
              "engine        61\n",
              "max_power     59\n",
              "seats         61\n",
              "age_of_car     0\n",
              "dtype: int64"
            ]
          },
          "execution_count": 37,
          "metadata": {},
          "output_type": "execute_result"
        }
      ],
      "source": [
        "X.isnull().sum()"
      ]
    },
    {
      "cell_type": "code",
      "execution_count": null,
      "metadata": {
        "colab": {
          "base_uri": "https://localhost:8080/"
        },
        "id": "wj7W68N_hjJh",
        "outputId": "d8806002-ff08-4a00-81c8-3a589814de8c"
      },
      "outputs": [
        {
          "name": "stderr",
          "output_type": "stream",
          "text": [
            "/usr/local/lib/python3.7/dist-packages/pandas/core/frame.py:5244: SettingWithCopyWarning: \n",
            "A value is trying to be set on a copy of a slice from a DataFrame\n",
            "\n",
            "See the caveats in the documentation: https://pandas.pydata.org/pandas-docs/stable/user_guide/indexing.html#returning-a-view-versus-a-copy\n",
            "  method=method,\n"
          ]
        }
      ],
      "source": [
        "#print(data.mileage.unique())\n",
        "#print(data.engine.unique())\n",
        "#print(data.max_power.unique())\n",
        "#print(data.seats.unique())\n",
        "import numpy as np\n",
        "X.replace('nan', np.nan, inplace=True)\n",
        "imputer = SimpleImputer(missing_values = np.nan, strategy ='mean')\n",
        "imputer = imputer.fit(X)\n",
        "X= imputer.transform(X)\n"
      ]
    },
    {
      "cell_type": "code",
      "execution_count": null,
      "metadata": {
        "colab": {
          "base_uri": "https://localhost:8080/"
        },
        "id": "l7WwG9_zvUyd",
        "outputId": "ff938a08-4d5d-4bbb-e45d-2abc42297aa9"
      },
      "outputs": [
        {
          "name": "stdout",
          "output_type": "stream",
          "text": [
            "[False False False  True  True  True]\n",
            "Rank of each feature is : [4 2 3 1 1 1]\n"
          ]
        }
      ],
      "source": [
        "from sklearn.feature_selection import RFE\n",
        "from sklearn.linear_model import LinearRegression\n",
        "\n",
        "estimator = LinearRegression()\n",
        "selector = RFE(estimator, n_features_to_select = 3, step=1)\n",
        "selector = selector.fit(X, y)\n",
        "\n",
        "# support_ attribute is a boolean array\n",
        "# marking which features are selected\n",
        "print(selector.support_)\n",
        "\n",
        "# rank of each feature\n",
        "# if it's value is '1', then it is selected\n",
        "# features with rank 2 and onwards are ranked least.\n",
        "print(f'Rank of each feature is : {selector.ranking_}')"
      ]
    },
    {
      "cell_type": "code",
      "execution_count": null,
      "metadata": {
        "colab": {
          "base_uri": "https://localhost:8080/",
          "height": 300
        },
        "id": "skI_JUqenC3c",
        "outputId": "ec1c9dcc-6934-47e8-f560-dfa3a2829fdc"
      },
      "outputs": [
        {
          "data": {
            "text/html": [
              "\n",
              "  <div id=\"df-82ec558d-22b1-4c1a-a14c-3ed0d6c684a9\">\n",
              "    <div class=\"colab-df-container\">\n",
              "      <div>\n",
              "<style scoped>\n",
              "    .dataframe tbody tr th:only-of-type {\n",
              "        vertical-align: middle;\n",
              "    }\n",
              "\n",
              "    .dataframe tbody tr th {\n",
              "        vertical-align: top;\n",
              "    }\n",
              "\n",
              "    .dataframe thead th {\n",
              "        text-align: right;\n",
              "    }\n",
              "</style>\n",
              "<table border=\"1\" class=\"dataframe\">\n",
              "  <thead>\n",
              "    <tr style=\"text-align: right;\">\n",
              "      <th></th>\n",
              "      <th>0</th>\n",
              "      <th>1</th>\n",
              "      <th>2</th>\n",
              "      <th>3</th>\n",
              "      <th>4</th>\n",
              "      <th>5</th>\n",
              "    </tr>\n",
              "  </thead>\n",
              "  <tbody>\n",
              "    <tr>\n",
              "      <th>count</th>\n",
              "      <td>2.000000e+03</td>\n",
              "      <td>2000.000000</td>\n",
              "      <td>2000.000000</td>\n",
              "      <td>2000.000000</td>\n",
              "      <td>2000.000000</td>\n",
              "      <td>2000.000000</td>\n",
              "    </tr>\n",
              "    <tr>\n",
              "      <th>mean</th>\n",
              "      <td>7.087863e+04</td>\n",
              "      <td>19.528613</td>\n",
              "      <td>1442.257865</td>\n",
              "      <td>89.152772</td>\n",
              "      <td>5.444043</td>\n",
              "      <td>8.217500</td>\n",
              "    </tr>\n",
              "    <tr>\n",
              "      <th>std</th>\n",
              "      <td>7.060961e+04</td>\n",
              "      <td>3.929488</td>\n",
              "      <td>496.329660</td>\n",
              "      <td>33.671270</td>\n",
              "      <td>0.959583</td>\n",
              "      <td>3.901257</td>\n",
              "    </tr>\n",
              "    <tr>\n",
              "      <th>min</th>\n",
              "      <td>1.000000e+03</td>\n",
              "      <td>0.000000</td>\n",
              "      <td>624.000000</td>\n",
              "      <td>0.000000</td>\n",
              "      <td>4.000000</td>\n",
              "      <td>2.000000</td>\n",
              "    </tr>\n",
              "    <tr>\n",
              "      <th>25%</th>\n",
              "      <td>3.500000e+04</td>\n",
              "      <td>16.800000</td>\n",
              "      <td>1197.000000</td>\n",
              "      <td>68.000000</td>\n",
              "      <td>5.000000</td>\n",
              "      <td>5.000000</td>\n",
              "    </tr>\n",
              "    <tr>\n",
              "      <th>50%</th>\n",
              "      <td>6.000000e+04</td>\n",
              "      <td>19.528613</td>\n",
              "      <td>1248.000000</td>\n",
              "      <td>82.000000</td>\n",
              "      <td>5.000000</td>\n",
              "      <td>8.000000</td>\n",
              "    </tr>\n",
              "    <tr>\n",
              "      <th>75%</th>\n",
              "      <td>9.725000e+04</td>\n",
              "      <td>22.370000</td>\n",
              "      <td>1498.000000</td>\n",
              "      <td>99.000000</td>\n",
              "      <td>5.000000</td>\n",
              "      <td>11.000000</td>\n",
              "    </tr>\n",
              "    <tr>\n",
              "      <th>max</th>\n",
              "      <td>2.360457e+06</td>\n",
              "      <td>33.440000</td>\n",
              "      <td>3604.000000</td>\n",
              "      <td>280.000000</td>\n",
              "      <td>10.000000</td>\n",
              "      <td>27.000000</td>\n",
              "    </tr>\n",
              "  </tbody>\n",
              "</table>\n",
              "</div>\n",
              "      <button class=\"colab-df-convert\" onclick=\"convertToInteractive('df-82ec558d-22b1-4c1a-a14c-3ed0d6c684a9')\"\n",
              "              title=\"Convert this dataframe to an interactive table.\"\n",
              "              style=\"display:none;\">\n",
              "        \n",
              "  <svg xmlns=\"http://www.w3.org/2000/svg\" height=\"24px\"viewBox=\"0 0 24 24\"\n",
              "       width=\"24px\">\n",
              "    <path d=\"M0 0h24v24H0V0z\" fill=\"none\"/>\n",
              "    <path d=\"M18.56 5.44l.94 2.06.94-2.06 2.06-.94-2.06-.94-.94-2.06-.94 2.06-2.06.94zm-11 1L8.5 8.5l.94-2.06 2.06-.94-2.06-.94L8.5 2.5l-.94 2.06-2.06.94zm10 10l.94 2.06.94-2.06 2.06-.94-2.06-.94-.94-2.06-.94 2.06-2.06.94z\"/><path d=\"M17.41 7.96l-1.37-1.37c-.4-.4-.92-.59-1.43-.59-.52 0-1.04.2-1.43.59L10.3 9.45l-7.72 7.72c-.78.78-.78 2.05 0 2.83L4 21.41c.39.39.9.59 1.41.59.51 0 1.02-.2 1.41-.59l7.78-7.78 2.81-2.81c.8-.78.8-2.07 0-2.86zM5.41 20L4 18.59l7.72-7.72 1.47 1.35L5.41 20z\"/>\n",
              "  </svg>\n",
              "      </button>\n",
              "      \n",
              "  <style>\n",
              "    .colab-df-container {\n",
              "      display:flex;\n",
              "      flex-wrap:wrap;\n",
              "      gap: 12px;\n",
              "    }\n",
              "\n",
              "    .colab-df-convert {\n",
              "      background-color: #E8F0FE;\n",
              "      border: none;\n",
              "      border-radius: 50%;\n",
              "      cursor: pointer;\n",
              "      display: none;\n",
              "      fill: #1967D2;\n",
              "      height: 32px;\n",
              "      padding: 0 0 0 0;\n",
              "      width: 32px;\n",
              "    }\n",
              "\n",
              "    .colab-df-convert:hover {\n",
              "      background-color: #E2EBFA;\n",
              "      box-shadow: 0px 1px 2px rgba(60, 64, 67, 0.3), 0px 1px 3px 1px rgba(60, 64, 67, 0.15);\n",
              "      fill: #174EA6;\n",
              "    }\n",
              "\n",
              "    [theme=dark] .colab-df-convert {\n",
              "      background-color: #3B4455;\n",
              "      fill: #D2E3FC;\n",
              "    }\n",
              "\n",
              "    [theme=dark] .colab-df-convert:hover {\n",
              "      background-color: #434B5C;\n",
              "      box-shadow: 0px 1px 3px 1px rgba(0, 0, 0, 0.15);\n",
              "      filter: drop-shadow(0px 1px 2px rgba(0, 0, 0, 0.3));\n",
              "      fill: #FFFFFF;\n",
              "    }\n",
              "  </style>\n",
              "\n",
              "      <script>\n",
              "        const buttonEl =\n",
              "          document.querySelector('#df-82ec558d-22b1-4c1a-a14c-3ed0d6c684a9 button.colab-df-convert');\n",
              "        buttonEl.style.display =\n",
              "          google.colab.kernel.accessAllowed ? 'block' : 'none';\n",
              "\n",
              "        async function convertToInteractive(key) {\n",
              "          const element = document.querySelector('#df-82ec558d-22b1-4c1a-a14c-3ed0d6c684a9');\n",
              "          const dataTable =\n",
              "            await google.colab.kernel.invokeFunction('convertToInteractive',\n",
              "                                                     [key], {});\n",
              "          if (!dataTable) return;\n",
              "\n",
              "          const docLinkHtml = 'Like what you see? Visit the ' +\n",
              "            '<a target=\"_blank\" href=https://colab.research.google.com/notebooks/data_table.ipynb>data table notebook</a>'\n",
              "            + ' to learn more about interactive tables.';\n",
              "          element.innerHTML = '';\n",
              "          dataTable['output_type'] = 'display_data';\n",
              "          await google.colab.output.renderOutput(dataTable, element);\n",
              "          const docLink = document.createElement('div');\n",
              "          docLink.innerHTML = docLinkHtml;\n",
              "          element.appendChild(docLink);\n",
              "        }\n",
              "      </script>\n",
              "    </div>\n",
              "  </div>\n",
              "  "
            ],
            "text/plain": [
              "                  0            1  ...            4            5\n",
              "count  2.000000e+03  2000.000000  ...  2000.000000  2000.000000\n",
              "mean   7.087863e+04    19.528613  ...     5.444043     8.217500\n",
              "std    7.060961e+04     3.929488  ...     0.959583     3.901257\n",
              "min    1.000000e+03     0.000000  ...     4.000000     2.000000\n",
              "25%    3.500000e+04    16.800000  ...     5.000000     5.000000\n",
              "50%    6.000000e+04    19.528613  ...     5.000000     8.000000\n",
              "75%    9.725000e+04    22.370000  ...     5.000000    11.000000\n",
              "max    2.360457e+06    33.440000  ...    10.000000    27.000000\n",
              "\n",
              "[8 rows x 6 columns]"
            ]
          },
          "execution_count": 40,
          "metadata": {},
          "output_type": "execute_result"
        }
      ],
      "source": [
        "X=pd.DataFrame(X)\n",
        "X.describe()"
      ]
    },
    {
      "cell_type": "markdown",
      "metadata": {
        "id": "_u7R6g504_MZ"
      },
      "source": [
        "#Q15 [2 marks] Mention TRUE or FALSE: The histogram of the distribution of `age_of_car` is left-skewed.\n",
        "\n",
        "**Answer: Set v1, v2, v3, v4: TRUE**\n"
      ]
    },
    {
      "cell_type": "code",
      "execution_count": null,
      "metadata": {
        "colab": {
          "base_uri": "https://localhost:8080/",
          "height": 283
        },
        "id": "JvNOdzDq29Wh",
        "outputId": "89db7602-b08c-4a43-d9e4-e8a69c6090d6"
      },
      "outputs": [
        {
          "data": {
            "text/plain": [
              "<matplotlib.axes._subplots.AxesSubplot at 0x7f94373b86d0>"
            ]
          },
          "execution_count": 41,
          "metadata": {},
          "output_type": "execute_result"
        },
        {
          "data": {
            "image/png": "[encoded data removed]",
            "text/plain": [
              "<Figure size 432x288 with 1 Axes>"
            ]
          },
          "metadata": {},
          "output_type": "display_data"
        }
      ],
      "source": [
        "data['age_of_car'].hist(bins=50)"
      ]
    },
    {
      "cell_type": "markdown",
      "metadata": {
        "id": "SJCL3cP9dwYP"
      },
      "source": [
        "#Q16 [4 marks] Apply the features 'selling_price',\t'km_driven',\t'age_of_car' in the pipeline containing a `SimpleImputer(strategy=mean)` and after that a `StandardScaler`block. Calculate the shape of the resultant transformed array.\n",
        "\n",
        "\n",
        "(a) (2000,3)\n",
        "\n",
        "(b) (2004,1)\n",
        "\n",
        "(c) (2001,9)\n",
        "\n",
        "(d) (2002, 4)\n",
        "\n",
        "**Answer : Set v1: Option a, Set v2: Option a, Set v3: Option a, Set v4: Option a**\n"
      ]
    },
    {
      "cell_type": "code",
      "execution_count": null,
      "metadata": {
        "colab": {
          "base_uri": "https://localhost:8080/",
          "height": 206
        },
        "id": "fAwIvIQ7J-QD",
        "outputId": "758744bf-9ddd-4099-cc08-18e44415f12b"
      },
      "outputs": [
        {
          "data": {
            "text/html": [
              "\n",
              "  <div id=\"df-4f11992c-9ce7-473f-85d0-51497f4bfc20\">\n",
              "    <div class=\"colab-df-container\">\n",
              "      <div>\n",
              "<style scoped>\n",
              "    .dataframe tbody tr th:only-of-type {\n",
              "        vertical-align: middle;\n",
              "    }\n",
              "\n",
              "    .dataframe tbody tr th {\n",
              "        vertical-align: top;\n",
              "    }\n",
              "\n",
              "    .dataframe thead th {\n",
              "        text-align: right;\n",
              "    }\n",
              "</style>\n",
              "<table border=\"1\" class=\"dataframe\">\n",
              "  <thead>\n",
              "    <tr style=\"text-align: right;\">\n",
              "      <th></th>\n",
              "      <th>selling_price</th>\n",
              "      <th>km_driven</th>\n",
              "      <th>mileage</th>\n",
              "      <th>engine</th>\n",
              "      <th>max_power</th>\n",
              "      <th>seats</th>\n",
              "      <th>age_of_car</th>\n",
              "    </tr>\n",
              "  </thead>\n",
              "  <tbody>\n",
              "    <tr>\n",
              "      <th>0</th>\n",
              "      <td>350000</td>\n",
              "      <td>80000</td>\n",
              "      <td>16.00</td>\n",
              "      <td>1198.0</td>\n",
              "      <td>90.00</td>\n",
              "      <td>5.0</td>\n",
              "      <td>11</td>\n",
              "    </tr>\n",
              "    <tr>\n",
              "      <th>1</th>\n",
              "      <td>265000</td>\n",
              "      <td>54000</td>\n",
              "      <td>23.95</td>\n",
              "      <td>998.0</td>\n",
              "      <td>67.05</td>\n",
              "      <td>5.0</td>\n",
              "      <td>7</td>\n",
              "    </tr>\n",
              "    <tr>\n",
              "      <th>2</th>\n",
              "      <td>330000</td>\n",
              "      <td>30000</td>\n",
              "      <td>23.01</td>\n",
              "      <td>999.0</td>\n",
              "      <td>67.00</td>\n",
              "      <td>5.0</td>\n",
              "      <td>4</td>\n",
              "    </tr>\n",
              "    <tr>\n",
              "      <th>3</th>\n",
              "      <td>395000</td>\n",
              "      <td>5000</td>\n",
              "      <td>15.37</td>\n",
              "      <td>1196.0</td>\n",
              "      <td>73.00</td>\n",
              "      <td>7.0</td>\n",
              "      <td>3</td>\n",
              "    </tr>\n",
              "    <tr>\n",
              "      <th>4</th>\n",
              "      <td>700000</td>\n",
              "      <td>58945</td>\n",
              "      <td>18.49</td>\n",
              "      <td>1493.0</td>\n",
              "      <td>100.00</td>\n",
              "      <td>7.0</td>\n",
              "      <td>7</td>\n",
              "    </tr>\n",
              "  </tbody>\n",
              "</table>\n",
              "</div>\n",
              "      <button class=\"colab-df-convert\" onclick=\"convertToInteractive('df-4f11992c-9ce7-473f-85d0-51497f4bfc20')\"\n",
              "              title=\"Convert this dataframe to an interactive table.\"\n",
              "              style=\"display:none;\">\n",
              "        \n",
              "  <svg xmlns=\"http://www.w3.org/2000/svg\" height=\"24px\"viewBox=\"0 0 24 24\"\n",
              "       width=\"24px\">\n",
              "    <path d=\"M0 0h24v24H0V0z\" fill=\"none\"/>\n",
              "    <path d=\"M18.56 5.44l.94 2.06.94-2.06 2.06-.94-2.06-.94-.94-2.06-.94 2.06-2.06.94zm-11 1L8.5 8.5l.94-2.06 2.06-.94-2.06-.94L8.5 2.5l-.94 2.06-2.06.94zm10 10l.94 2.06.94-2.06 2.06-.94-2.06-.94-.94-2.06-.94 2.06-2.06.94z\"/><path d=\"M17.41 7.96l-1.37-1.37c-.4-.4-.92-.59-1.43-.59-.52 0-1.04.2-1.43.59L10.3 9.45l-7.72 7.72c-.78.78-.78 2.05 0 2.83L4 21.41c.39.39.9.59 1.41.59.51 0 1.02-.2 1.41-.59l7.78-7.78 2.81-2.81c.8-.78.8-2.07 0-2.86zM5.41 20L4 18.59l7.72-7.72 1.47 1.35L5.41 20z\"/>\n",
              "  </svg>\n",
              "      </button>\n",
              "      \n",
              "  <style>\n",
              "    .colab-df-container {\n",
              "      display:flex;\n",
              "      flex-wrap:wrap;\n",
              "      gap: 12px;\n",
              "    }\n",
              "\n",
              "    .colab-df-convert {\n",
              "      background-color: #E8F0FE;\n",
              "      border: none;\n",
              "      border-radius: 50%;\n",
              "      cursor: pointer;\n",
              "      display: none;\n",
              "      fill: #1967D2;\n",
              "      height: 32px;\n",
              "      padding: 0 0 0 0;\n",
              "      width: 32px;\n",
              "    }\n",
              "\n",
              "    .colab-df-convert:hover {\n",
              "      background-color: #E2EBFA;\n",
              "      box-shadow: 0px 1px 2px rgba(60, 64, 67, 0.3), 0px 1px 3px 1px rgba(60, 64, 67, 0.15);\n",
              "      fill: #174EA6;\n",
              "    }\n",
              "\n",
              "    [theme=dark] .colab-df-convert {\n",
              "      background-color: #3B4455;\n",
              "      fill: #D2E3FC;\n",
              "    }\n",
              "\n",
              "    [theme=dark] .colab-df-convert:hover {\n",
              "      background-color: #434B5C;\n",
              "      box-shadow: 0px 1px 3px 1px rgba(0, 0, 0, 0.15);\n",
              "      filter: drop-shadow(0px 1px 2px rgba(0, 0, 0, 0.3));\n",
              "      fill: #FFFFFF;\n",
              "    }\n",
              "  </style>\n",
              "\n",
              "      <script>\n",
              "        const buttonEl =\n",
              "          document.querySelector('#df-4f11992c-9ce7-473f-85d0-51497f4bfc20 button.colab-df-convert');\n",
              "        buttonEl.style.display =\n",
              "          google.colab.kernel.accessAllowed ? 'block' : 'none';\n",
              "\n",
              "        async function convertToInteractive(key) {\n",
              "          const element = document.querySelector('#df-4f11992c-9ce7-473f-85d0-51497f4bfc20');\n",
              "          const dataTable =\n",
              "            await google.colab.kernel.invokeFunction('convertToInteractive',\n",
              "                                                     [key], {});\n",
              "          if (!dataTable) return;\n",
              "\n",
              "          const docLinkHtml = 'Like what you see? Visit the ' +\n",
              "            '<a target=\"_blank\" href=https://colab.research.google.com/notebooks/data_table.ipynb>data table notebook</a>'\n",
              "            + ' to learn more about interactive tables.';\n",
              "          element.innerHTML = '';\n",
              "          dataTable['output_type'] = 'display_data';\n",
              "          await google.colab.output.renderOutput(dataTable, element);\n",
              "          const docLink = document.createElement('div');\n",
              "          docLink.innerHTML = docLinkHtml;\n",
              "          element.appendChild(docLink);\n",
              "        }\n",
              "      </script>\n",
              "    </div>\n",
              "  </div>\n",
              "  "
            ],
            "text/plain": [
              "   selling_price  km_driven  mileage  engine  max_power  seats  age_of_car\n",
              "0         350000      80000    16.00  1198.0      90.00    5.0          11\n",
              "1         265000      54000    23.95   998.0      67.05    5.0           7\n",
              "2         330000      30000    23.01   999.0      67.00    5.0           4\n",
              "3         395000       5000    15.37  1196.0      73.00    7.0           3\n",
              "4         700000      58945    18.49  1493.0     100.00    7.0           7"
            ]
          },
          "execution_count": 42,
          "metadata": {},
          "output_type": "execute_result"
        }
      ],
      "source": [
        "#data = pd.read_csv('car_data.csv')\n",
        "data.head()"
      ]
    },
    {
      "cell_type": "code",
      "execution_count": null,
      "metadata": {
        "id": "H0viG06DKjzb"
      },
      "outputs": [],
      "source": [
        "#numerical steps part 1 of the pipeline : imputation\n",
        "num_vars=['selling_price',\t'km_driven',\t'age_of_car']\n",
        "from sklearn.impute import SimpleImputer\n",
        "imputer = SimpleImputer(strategy=\"mean\")\n",
        "car_num=data[num_vars]\n",
        "car_num = imputer.fit_transform(car_num)\n",
        "# Num_vars is the list of numerical variables"
      ]
    },
    {
      "cell_type": "code",
      "execution_count": null,
      "metadata": {
        "id": "918JMtzZQ-H1"
      },
      "outputs": [],
      "source": [
        "#numerical steps part 2 of the pipeline : \n",
        "from sklearn.preprocessing import StandardScaler\n",
        "car_num=StandardScaler().fit_transform(car_num)"
      ]
    },
    {
      "cell_type": "code",
      "execution_count": null,
      "metadata": {
        "colab": {
          "base_uri": "https://localhost:8080/",
          "height": 126
        },
        "id": "zzJhRUEjRnhF",
        "outputId": "ebec8c8d-4f14-4881-c325-229383f829ac"
      },
      "outputs": [
        {
          "data": {
            "text/html": [
              "<style>#sk-bd0238ed-f885-44f9-9027-c5925eaa8ca7 {color: black;background-color: white;}#sk-bd0238ed-f885-44f9-9027-c5925eaa8ca7 pre{padding: 0;}#sk-bd0238ed-f885-44f9-9027-c5925eaa8ca7 div.sk-toggleable {background-color: white;}#sk-bd0238ed-f885-44f9-9027-c5925eaa8ca7 label.sk-toggleable__label {cursor: pointer;display: block;width: 100%;margin-bottom: 0;padding: 0.3em;box-sizing: border-box;text-align: center;}#sk-bd0238ed-f885-44f9-9027-c5925eaa8ca7 label.sk-toggleable__label-arrow:before {content: \"▸\";float: left;margin-right: 0.25em;color: #696969;}#sk-bd0238ed-f885-44f9-9027-c5925eaa8ca7 label.sk-toggleable__label-arrow:hover:before {color: black;}#sk-bd0238ed-f885-44f9-9027-c5925eaa8ca7 div.sk-estimator:hover label.sk-toggleable__label-arrow:before {color: black;}#sk-bd0238ed-f885-44f9-9027-c5925eaa8ca7 div.sk-toggleable__content {max-height: 0;max-width: 0;overflow: hidden;text-align: left;background-color: #f0f8ff;}#sk-bd0238ed-f885-44f9-9027-c5925eaa8ca7 div.sk-toggleable__content pre {margin: 0.2em;color: black;border-radius: 0.25em;background-color: #f0f8ff;}#sk-bd0238ed-f885-44f9-9027-c5925eaa8ca7 input.sk-toggleable__control:checked~div.sk-toggleable__content {max-height: 200px;max-width: 100%;overflow: auto;}#sk-bd0238ed-f885-44f9-9027-c5925eaa8ca7 input.sk-toggleable__control:checked~label.sk-toggleable__label-arrow:before {content: \"▾\";}#sk-bd0238ed-f885-44f9-9027-c5925eaa8ca7 div.sk-estimator input.sk-toggleable__control:checked~label.sk-toggleable__label {background-color: #d4ebff;}#sk-bd0238ed-f885-44f9-9027-c5925eaa8ca7 div.sk-label input.sk-toggleable__control:checked~label.sk-toggleable__label {background-color: #d4ebff;}#sk-bd0238ed-f885-44f9-9027-c5925eaa8ca7 input.sk-hidden--visually {border: 0;clip: rect(1px 1px 1px 1px);clip: rect(1px, 1px, 1px, 1px);height: 1px;margin: -1px;overflow: hidden;padding: 0;position: absolute;width: 1px;}#sk-bd0238ed-f885-44f9-9027-c5925eaa8ca7 div.sk-estimator {font-family: monospace;background-color: #f0f8ff;border: 1px dotted black;border-radius: 0.25em;box-sizing: border-box;margin-bottom: 0.5em;}#sk-bd0238ed-f885-44f9-9027-c5925eaa8ca7 div.sk-estimator:hover {background-color: #d4ebff;}#sk-bd0238ed-f885-44f9-9027-c5925eaa8ca7 div.sk-parallel-item::after {content: \"\";width: 100%;border-bottom: 1px solid gray;flex-grow: 1;}#sk-bd0238ed-f885-44f9-9027-c5925eaa8ca7 div.sk-label:hover label.sk-toggleable__label {background-color: #d4ebff;}#sk-bd0238ed-f885-44f9-9027-c5925eaa8ca7 div.sk-serial::before {content: \"\";position: absolute;border-left: 1px solid gray;box-sizing: border-box;top: 2em;bottom: 0;left: 50%;}#sk-bd0238ed-f885-44f9-9027-c5925eaa8ca7 div.sk-serial {display: flex;flex-direction: column;align-items: center;background-color: white;padding-right: 0.2em;padding-left: 0.2em;}#sk-bd0238ed-f885-44f9-9027-c5925eaa8ca7 div.sk-item {z-index: 1;}#sk-bd0238ed-f885-44f9-9027-c5925eaa8ca7 div.sk-parallel {display: flex;align-items: stretch;justify-content: center;background-color: white;}#sk-bd0238ed-f885-44f9-9027-c5925eaa8ca7 div.sk-parallel::before {content: \"\";position: absolute;border-left: 1px solid gray;box-sizing: border-box;top: 2em;bottom: 0;left: 50%;}#sk-bd0238ed-f885-44f9-9027-c5925eaa8ca7 div.sk-parallel-item {display: flex;flex-direction: column;position: relative;background-color: white;}#sk-bd0238ed-f885-44f9-9027-c5925eaa8ca7 div.sk-parallel-item:first-child::after {align-self: flex-end;width: 50%;}#sk-bd0238ed-f885-44f9-9027-c5925eaa8ca7 div.sk-parallel-item:last-child::after {align-self: flex-start;width: 50%;}#sk-bd0238ed-f885-44f9-9027-c5925eaa8ca7 div.sk-parallel-item:only-child::after {width: 0;}#sk-bd0238ed-f885-44f9-9027-c5925eaa8ca7 div.sk-dashed-wrapped {border: 1px dashed gray;margin: 0 0.4em 0.5em 0.4em;box-sizing: border-box;padding-bottom: 0.4em;background-color: white;position: relative;}#sk-bd0238ed-f885-44f9-9027-c5925eaa8ca7 div.sk-label label {font-family: monospace;font-weight: bold;background-color: white;display: inline-block;line-height: 1.2em;}#sk-bd0238ed-f885-44f9-9027-c5925eaa8ca7 div.sk-label-container {position: relative;z-index: 2;text-align: center;}#sk-bd0238ed-f885-44f9-9027-c5925eaa8ca7 div.sk-container {/* jupyter's `normalize.less` sets `[hidden] { display: none; }` but bootstrap.min.css set `[hidden] { display: none !important; }` so we also need the `!important` here to be able to override the default hidden behavior on the sphinx rendered scikit-learn.org. See: https://github.com/scikit-learn/scikit-learn/issues/21755 */display: inline-block !important;position: relative;}#sk-bd0238ed-f885-44f9-9027-c5925eaa8ca7 div.sk-text-repr-fallback {display: none;}</style><div id=\"sk-bd0238ed-f885-44f9-9027-c5925eaa8ca7\" class=\"sk-top-container\"><div class=\"sk-text-repr-fallback\"><pre>Pipeline(steps=[(&#x27;imputer&#x27;, SimpleImputer()), (&#x27;std_scaler&#x27;, StandardScaler())])</pre><b>Please rerun this cell to show the HTML repr or trust the notebook.</b></div><div class=\"sk-container\" hidden><div class=\"sk-item sk-dashed-wrapped\"><div class=\"sk-label-container\"><div class=\"sk-label sk-toggleable\"><input class=\"sk-toggleable__control sk-hidden--visually\" id=\"1eea622b-a856-49e6-be39-7774a8631b8d\" type=\"checkbox\" ><label for=\"1eea622b-a856-49e6-be39-7774a8631b8d\" class=\"sk-toggleable__label sk-toggleable__label-arrow\">Pipeline</label><div class=\"sk-toggleable__content\"><pre>Pipeline(steps=[(&#x27;imputer&#x27;, SimpleImputer()), (&#x27;std_scaler&#x27;, StandardScaler())])</pre></div></div></div><div class=\"sk-serial\"><div class=\"sk-item\"><div class=\"sk-estimator sk-toggleable\"><input class=\"sk-toggleable__control sk-hidden--visually\" id=\"005b09db-714d-43c6-953b-976739813660\" type=\"checkbox\" ><label for=\"005b09db-714d-43c6-953b-976739813660\" class=\"sk-toggleable__label sk-toggleable__label-arrow\">SimpleImputer</label><div class=\"sk-toggleable__content\"><pre>SimpleImputer()</pre></div></div></div><div class=\"sk-item\"><div class=\"sk-estimator sk-toggleable\"><input class=\"sk-toggleable__control sk-hidden--visually\" id=\"2e7f2537-3af8-480a-98ab-e72049aca6fa\" type=\"checkbox\" ><label for=\"2e7f2537-3af8-480a-98ab-e72049aca6fa\" class=\"sk-toggleable__label sk-toggleable__label-arrow\">StandardScaler</label><div class=\"sk-toggleable__content\"><pre>StandardScaler()</pre></div></div></div></div></div></div></div>"
            ],
            "text/plain": [
              "Pipeline(steps=[('imputer', SimpleImputer()), ('std_scaler', StandardScaler())])"
            ]
          },
          "execution_count": 45,
          "metadata": {},
          "output_type": "execute_result"
        }
      ],
      "source": [
        "#numerical part of pipeline\n",
        "from sklearn.pipeline import Pipeline\n",
        "from sklearn.impute import SimpleImputer\n",
        "num_pipeline = Pipeline([\n",
        "    ('imputer', SimpleImputer(strategy=\"mean\")),\n",
        "    ('std_scaler', StandardScaler())\n",
        "])\n",
        "\n",
        "from sklearn import set_config\n",
        "set_config(display='diagram')   \n",
        "# displays HTML representation in a jupyter context\n",
        "num_pipeline"
      ]
    },
    {
      "cell_type": "code",
      "execution_count": null,
      "metadata": {
        "colab": {
          "base_uri": "https://localhost:8080/"
        },
        "id": "CN9g08gndfcw",
        "outputId": "1d523952-598f-4aec-9bc8-b1eb90fd0ef9"
      },
      "outputs": [
        {
          "name": "stdout",
          "output_type": "stream",
          "text": [
            "(2000, 3)\n",
            "<class 'numpy.ndarray'>\n"
          ]
        }
      ],
      "source": [
        "num_transformed = num_pipeline.fit_transform(car_num)\n",
        "print(num_transformed.shape)\n",
        "print(type(num_transformed))"
      ]
    },
    {
      "cell_type": "markdown",
      "metadata": {
        "id": "ZX_Wnm2n3tEw"
      },
      "source": [
        "\n",
        "\n",
        "---\n",
        "\n",
        "\n",
        "Week 3\n",
        "\n"
      ]
    },
    {
      "cell_type": "markdown",
      "metadata": {
        "id": "T_gOEQIY3wvy"
      },
      "source": [
        "#Instructions \n",
        "- Load the data from csv file afresh.\n",
        "- Drop all the categorical variables (including fuel).\n",
        "- Use the variable 'Selling_Price' as a target and all other variables (including age as defined in previous questions) as features. Separate features and labels.\n",
        "- Replace all the missing values using mean.\n",
        "add dummy features to feature matrix.\n",
        "- Split the data into training and test data in 4:1 proprtion.\n",
        "- Apply the `MinMaxScaler` to all features.\n"
      ]
    },
    {
      "cell_type": "code",
      "execution_count": null,
      "metadata": {
        "id": "NwxjtWIJ3wGk"
      },
      "outputs": [],
      "source": [
        "\n",
        "#data = pd.read_csv('v1.csv')\n",
        "#data = pd.read_csv('v2.csv')\n",
        "#data = pd.read_csv('v3.csv')\n",
        "data = pd.read_csv('v4.csv')\n",
        "data['age'] = 2022-data['year']\n",
        "data = data.drop(['fuel', 'seller_type', 'transmission', 'owner', 'year', 'name'], axis = 1)\n",
        "X1 = data.drop(['selling_price'], axis= 1)\n",
        "y1 = data['selling_price']"
      ]
    },
    {
      "cell_type": "code",
      "execution_count": null,
      "metadata": {
        "id": "6EZskl9OgIG9"
      },
      "outputs": [],
      "source": [
        "from sklearn.impute import SimpleImputer\n",
        "imp = SimpleImputer(missing_values=np.nan, strategy='mean')\n",
        "X2  = imp.fit_transform(X1)"
      ]
    },
    {
      "cell_type": "markdown",
      "metadata": {
        "id": "Og5qQ4RMSDVf"
      },
      "source": []
    },
    {
      "cell_type": "code",
      "execution_count": null,
      "metadata": {
        "id": "IhNkktk7jCPl"
      },
      "outputs": [],
      "source": [
        "from sklearn.preprocessing import add_dummy_feature\n",
        "X= add_dummy_feature(X2)"
      ]
    },
    {
      "cell_type": "code",
      "execution_count": null,
      "metadata": {
        "id": "Pi5fKyVDNOdY"
      },
      "outputs": [],
      "source": [
        "import sklearn\n",
        "from sklearn.model_selection import train_test_split\n",
        "\n",
        "X_train, X_test, y_train, y_test = train_test_split(X, y1, test_size=0.2, random_state=1)\n"
      ]
    },
    {
      "cell_type": "code",
      "execution_count": null,
      "metadata": {
        "id": "fC_JXReJ5ad_"
      },
      "outputs": [],
      "source": [
        "\n",
        "from sklearn.preprocessing import MinMaxScaler, MaxAbsScaler, StandardScaler, RobustScaler, PolynomialFeatures\n",
        "stscaler = MinMaxScaler()\n",
        "X_train_norm = stscaler.fit_transform(X_train)\n",
        "X_test_norm = stscaler.transform(X_test)"
      ]
    },
    {
      "cell_type": "markdown",
      "metadata": {
        "id": "JNGCNWB9JexA"
      },
      "source": [
        "#Q 17 [4 marks] How many samples will be there in the test dataset?\n",
        "\n",
        "Type: NAT\n",
        "\n",
        "**ANS:**\\\n",
        "**for all versions: 400**"
      ]
    },
    {
      "cell_type": "code",
      "execution_count": null,
      "metadata": {
        "colab": {
          "base_uri": "https://localhost:8080/"
        },
        "id": "ML-ugNuFKa4N",
        "outputId": "d802f23c-deb3-4c7d-945c-ce9751d89421"
      },
      "outputs": [
        {
          "data": {
            "text/plain": [
              "400"
            ]
          },
          "execution_count": 52,
          "metadata": {},
          "output_type": "execute_result"
        }
      ],
      "source": [
        "X_test.shape[0]"
      ]
    },
    {
      "cell_type": "markdown",
      "metadata": {
        "id": "rdmUBGKz9Gh6"
      },
      "source": [
        "#Instructions for questions 18, 19 and 20:\n",
        "Apply the linear regression model that uses the normal equation to learn the weights.\n"
      ]
    },
    {
      "cell_type": "markdown",
      "metadata": {
        "id": "SVdanytLAOVi"
      },
      "source": [
        "#Q 18 [4 marks] Calculate the r2 score for training data.\n",
        "\n",
        "Type: NAT\\\n",
        "**ANS:**\\\n",
        "**for v1: 0.6792524945519273 Range: [0.65, 0.70]**\\\n",
        "**for v2: 0.6070150515981556 Range: [0.58, 0.62]**\\\n",
        "**for v3: 0.6556388628374512 Range: [0.63, 0.68]**\\\n",
        "**for v4: 0.6392640482763133 Range: [0.60, 0.66]**\n",
        "\n",
        "\n"
      ]
    },
    {
      "cell_type": "markdown",
      "metadata": {
        "id": "gTq0wNOlSxAH"
      },
      "source": [
        "#**Q 19:** [4 marks] Calculate the r2 score for test data.\n",
        "\n",
        "Type: NAT\\\n",
        "**ANS:**\\\n",
        "**for v1: 0.6997268740682596 Range: [0.67, 0.72]**\\\n",
        "**for v2: 0.5266747346569769 Range: [0.50, 0.54]**\\\n",
        "**for v3: 0.6045487262633018 Range: [0.58, 0.63]**\\\n",
        "**for v4: 0.6612589112256939 Range: [0.64, 0.68]**\n"
      ]
    },
    {
      "cell_type": "markdown",
      "metadata": {
        "id": "_bnr1H7HS6km"
      },
      "source": [
        "#**Q 20:** [3 marks] What is the value of the bias (intercept) learnt by the normal equation?\n",
        "Type: NAT\n",
        "\n",
        "**Ans:**\\\n",
        "**for v1: -1102688.7038921975  Range: [-1102688.60, -1102688.80]**\\\n",
        "**for v2: -364209.86 Range: [-364209.76, -364209.96]**\\\n",
        "**for v3: 154873.84 Range: [154873.74, 154873.94]**\\\n",
        "**for v4: 143980.65 Range: [143980.60, 143980.70]**"
      ]
    },
    {
      "cell_type": "code",
      "execution_count": null,
      "metadata": {
        "id": "aaaifb0q9xLx"
      },
      "outputs": [],
      "source": [
        "from sklearn.linear_model import LinearRegression\n",
        "from sklearn.pipeline import Pipeline\n",
        "from sklearn.model_selection import cross_val_score\n",
        "from sklearn import metrics"
      ]
    },
    {
      "cell_type": "code",
      "execution_count": null,
      "metadata": {
        "colab": {
          "base_uri": "https://localhost:8080/"
        },
        "id": "21YTN3dyNwPL",
        "outputId": "6a5f0c77-4271-4b51-af44-d74b19a98ef3"
      },
      "outputs": [
        {
          "name": "stdout",
          "output_type": "stream",
          "text": [
            "r2_score_train =  0.6392640482763132\n",
            "r2_score_test =  0.6612589112256939\n"
          ]
        }
      ],
      "source": [
        "linear_regression = LinearRegression()\n",
        "linear_regression.fit(X_train_norm, y_train)\n",
        "y_pred_train = linear_regression.predict(X_train_norm)\n",
        "r2_train = metrics.r2_score(y_train,y_pred_train)\n",
        "print('r2_score_train = ', r2_train)\n",
        "\n",
        "y_pred_test = linear_regression.predict(X_test_norm)\n",
        "r2_test = metrics.r2_score(y_test, y_pred_test)\n",
        "print('r2_score_test = ', r2_test)"
      ]
    },
    {
      "cell_type": "code",
      "execution_count": null,
      "metadata": {
        "colab": {
          "base_uri": "https://localhost:8080/"
        },
        "id": "0zOcBVaiLyd5",
        "outputId": "4c83b3f1-b0a6-400c-ad63-40caf2cd6fcd"
      },
      "outputs": [
        {
          "name": "stdout",
          "output_type": "stream",
          "text": [
            "Bias learnt using normal equation: 143980.6563029217\n"
          ]
        }
      ],
      "source": [
        "print('Bias learnt using normal equation:', linear_regression.intercept_)"
      ]
    },
    {
      "cell_type": "markdown",
      "metadata": {
        "id": "huo_DnuM9xtv"
      },
      "source": [
        "#Instructions for Question 21, 22, 23 and 24\n",
        "Apply the linear regression model that ues the iterative optimization (SGD) to learn the weights. Set the learning rate to be adaptive and the initial learning rate at $10^{-2}$. Set the random state at 42."
      ]
    },
    {
      "cell_type": "markdown",
      "metadata": {
        "id": "GVrIUgX2AzNK"
      },
      "source": [
        "#**Q 21:** [4 marks] What is the R2 score you got on training data?\n",
        "\n",
        "Type: NAT\\\n",
        "**ANS:**\\\n",
        "**for v1: 0.677487909126594 Range: [0.65, 0.70]**\\\n",
        "**for v2: 0.6057680569122939 Range: [0.58, 0.63]**\\\n",
        "**for v3: 0.6553846037179263 Range: [0.62, 0.69]**\\\n",
        "**for v4: 0.6386233085544566 Range: [0.60, 0.66]**\n",
        "\n",
        "\n"
      ]
    },
    {
      "cell_type": "markdown",
      "metadata": {
        "id": "9KlTnqs7TUBb"
      },
      "source": [
        "#Q 22: [4 marks] What is the R2 score you got on test data?\n",
        "\n",
        "Type: NAT\\\n",
        "**ANS:**\\\n",
        "**for v1: 0.6948945300784857 Range: [0.67, 0.72]**\\\n",
        "**for v2: 0.5318705612563225 Range: [0.50, 0.56]**\\\n",
        "**for v3: 0.6033181470411662 Range: [0.58, 0.62]**\\\n",
        "**for v4: 0.6593980611066821 Range: [0.62, 0.68]**\n",
        "\n",
        "\n"
      ]
    },
    {
      "cell_type": "markdown",
      "metadata": {
        "id": "TW9oYZemTcM1"
      },
      "source": [
        "#Q 23: [3 marks] What is the value of the bias (intercept) learnt by the iterative optimization?\n",
        "\n",
        "Type: NAT\n",
        "\n",
        "**Ans:**\\\n",
        "**for v1: -909518.70 Range: [-909518.60, -909518.80]**\\\n",
        "**for v2: -233546.54 Range: [-233546.44, -233546.64]**\\\n",
        "**for v3: 191065.92 Range: [191065.82, 191066.02]**\\\n",
        "**for v4: 255724.47 Range: [255724.44, 255724.50]**"
      ]
    },
    {
      "cell_type": "code",
      "execution_count": null,
      "metadata": {
        "colab": {
          "background_save": true,
          "base_uri": "https://localhost:8080/"
        },
        "id": "Cad_jlit-f90",
        "outputId": "28e7f993-ffed-436e-b0fa-fd6ddd3fe84f"
      },
      "outputs": [
        {
          "name": "stdout",
          "output_type": "stream",
          "text": [
            "r2_score_train =  0.677487909126594\n",
            "r2_score_test =  0.6948945300784857\n"
          ]
        },
        {
          "name": "stderr",
          "output_type": "stream",
          "text": [
            "/usr/local/lib/python3.7/dist-packages/sklearn/linear_model/_stochastic_gradient.py:1507: ConvergenceWarning: Maximum number of iteration reached before convergence. Consider increasing max_iter to improve the fit.\n",
            "  ConvergenceWarning,\n"
          ]
        }
      ],
      "source": [
        "\n",
        "from sklearn.linear_model import SGDRegressor\n",
        "linear_regressor = SGDRegressor(learning_rate='adaptive', eta0=1e-2, random_state=42)\n",
        "\n",
        "linear_regressor.fit(X_train_norm, y_train)\n",
        "\n",
        "y_pred_Train = linear_regressor.predict(X_train_norm) \n",
        "r2SGD_train = metrics.r2_score(y_train, y_pred_Train)\n",
        "print('r2_score_train = ', r2SGD_train)\n",
        "\n",
        "y_pred_Test = linear_regressor.predict(X_test_norm) \n",
        "r2SGD_test = metrics.r2_score(y_test, y_pred_Test)\n",
        "print('r2_score_test = ', r2SGD_test)"
      ]
    },
    {
      "cell_type": "code",
      "execution_count": null,
      "metadata": {
        "colab": {
          "base_uri": "https://localhost:8080/"
        },
        "id": "Y3ftXjwwCyvq",
        "outputId": "b84a0047-8869-4098-8dc5-c4760af05f30"
      },
      "outputs": [
        {
          "name": "stdout",
          "output_type": "stream",
          "text": [
            "Weights learnt using iterative optimization: [255724.47579112]\n"
          ]
        }
      ],
      "source": [
        "print('Weights learnt using iterative optimization:', linear_regressor.intercept_)\n"
      ]
    },
    {
      "cell_type": "markdown",
      "metadata": {
        "id": "GGDc7GZnE3GW"
      },
      "source": [
        "#Q 24: [3 marks] How many actual number of SGD iterations it took before reaching the stopping criterion?\n",
        "\n",
        "Type: NAT\n",
        "\n",
        "**ANS: for all versions: 1000**"
      ]
    },
    {
      "cell_type": "code",
      "execution_count": null,
      "metadata": {
        "colab": {
          "base_uri": "https://localhost:8080/"
        },
        "id": "_rZEPfWBE2CG",
        "outputId": "2d613316-25a4-46c8-d52d-fd8761fb4af8"
      },
      "outputs": [
        {
          "data": {
            "text/plain": [
              "1000"
            ]
          },
          "execution_count": 58,
          "metadata": {},
          "output_type": "execute_result"
        }
      ],
      "source": [
        "linear_regressor.n_iter_"
      ]
    },
    {
      "cell_type": "markdown",
      "metadata": {
        "id": "Jk8JoWh9Fr9O"
      },
      "source": [
        "#Q 25: [4 marks] Print all 5 scores that are calculated using cross validation strategy on Linear regression using shuffle split with 5 number of splits and 0.2 test size on entire dataset\n",
        "\n",
        "Type: MCQ\n",
        "\n",
        "**Options**\n",
        "- array([0.60278362, 0.6059791 , 0.59591788, 0.58400906, 0.56099438])\n",
        "- array([0.66064999, 0.69779084, 0.66023895, 0.67707538, 0.59633634])\n",
        "- array([0.61223033, 0.73977714, 0.69338983, 0.63383731, 0.72622597])\n",
        "- array([0.63473224, 0.66049615, 0.68725318, 0.57554627, 0.66978105])\n",
        "\n",
        "**Ans:**\\\n",
        "**for v1: C**\\\n",
        "**for v2: A**\\\n",
        "**for v3: B**\\\n",
        "**for v4: D**"
      ]
    },
    {
      "cell_type": "code",
      "execution_count": null,
      "metadata": {
        "colab": {
          "base_uri": "https://localhost:8080/"
        },
        "id": "hBK6bWxvFw0Y",
        "outputId": "50736d75-05aa-40ad-89a7-fb49b9dadf48"
      },
      "outputs": [
        {
          "data": {
            "text/plain": [
              "array([0.63473224, 0.66049615, 0.68725318, 0.57554627, 0.66978105])"
            ]
          },
          "execution_count": 59,
          "metadata": {},
          "output_type": "execute_result"
        }
      ],
      "source": [
        "from sklearn.linear_model import LinearRegression\n",
        "from sklearn.model_selection import cross_val_score\n",
        "from sklearn.model_selection import ShuffleSplit\n",
        "\n",
        "shuffle_split = ShuffleSplit(n_splits=5, test_size=0.2, random_state=42)\n",
        "score = cross_val_score(linear_regression, X, y1, cv=shuffle_split)\n",
        "score"
      ]
    },
    {
      "cell_type": "markdown",
      "metadata": {
        "id": "I06-RCnfzL19"
      },
      "source": [
        "\n",
        "\n",
        "---\n",
        "\n",
        "\n",
        "Week-4"
      ]
    },
    {
      "cell_type": "markdown",
      "metadata": {
        "id": "syYDrqoySDW2"
      },
      "source": [
        "#Q26 [4 marks]  Which feature pair has the highest correlation cofficient?\n",
        "\n",
        "a. Age and selling_price\n",
        "\n",
        "b. Seats and Kms_driven\n",
        "\n",
        "c.Max power and Selling_Price\n",
        "\n",
        "d. Age and Kms_Driven\n",
        "\n",
        "\n",
        "**Ans:** Max power and Selling_Price(for all version)"
      ]
    },
    {
      "cell_type": "code",
      "execution_count": null,
      "metadata": {
        "colab": {
          "base_uri": "https://localhost:8080/",
          "height": 394
        },
        "id": "MUovv8UpFlni",
        "outputId": "65f5c395-34b9-4b3f-cce1-804c261ca157"
      },
      "outputs": [
        {
          "data": {
            "text/plain": [
              "<matplotlib.axes._subplots.AxesSubplot at 0x7f9436dccbd0>"
            ]
          },
          "execution_count": 60,
          "metadata": {},
          "output_type": "execute_result"
        },
        {
          "data": {
            "image/png": "[encoded data removed]",
            "text/plain": [
              "<Figure size 576x360 with 2 Axes>"
            ]
          },
          "metadata": {},
          "output_type": "display_data"
        }
      ],
      "source": [
        "import matplotlib.pyplot as plt\n",
        "import seaborn as sns\n",
        "plt.figure(figsize=(8,5))\n",
        "correlation = data.corr()\n",
        "sns.heatmap(abs(correlation), annot=True)"
      ]
    },
    {
      "cell_type": "markdown",
      "metadata": {
        "id": "wjXfFe89NO0x"
      },
      "source": [
        "#Q27 [4 marks] Train the model using Lasso estimator by keeping alpha=0.005.\n",
        "What is the R2 score you got on training data? [NAT]\n",
        "\n",
        "\n",
        "**Ans:** \n",
        "\n",
        "**for v1: 0.6792   Range 0.66-0.69** \n",
        "\n",
        "**for v2:  0.6070   Range  0.59-0.62**\n",
        "\n",
        "**for v3: 0.6556   Range   0.64-0.67**\n",
        "\n",
        "**for v4: 0.6392   Range  0.62-0.65**\n"
      ]
    },
    {
      "cell_type": "code",
      "execution_count": null,
      "metadata": {
        "colab": {
          "base_uri": "https://localhost:8080/"
        },
        "id": "18lr5E6i8QZa",
        "outputId": "f3dd3f67-324e-4ccd-d593-906512a6f8fa"
      },
      "outputs": [
        {
          "data": {
            "text/plain": [
              "0.6392640482762865"
            ]
          },
          "execution_count": 63,
          "metadata": {},
          "output_type": "execute_result"
        }
      ],
      "source": [
        "from sklearn import metrics\n",
        "from sklearn.linear_model import Lasso\n",
        "from sklearn.metrics import r2_score\n",
        "lasso  = Lasso(alpha=0.005 )\n",
        "lasso.fit(X_train_norm, y_train)\n",
        "y_pred_train = lasso.predict(X_train_norm)\n",
        "r2_score(y_train,y_pred_train)"
      ]
    },
    {
      "cell_type": "markdown",
      "metadata": {
        "id": "LAGsfNQNPNIr"
      },
      "source": [
        "#Q28 [4 marks] Train the model using Lasso estimator by keeping alpha=0.005.\n",
        "What is the R2 score you got on test data? [NAT]\n",
        "\n",
        "\n",
        "**Ans:**\n",
        "\n",
        "\n",
        "**for v1: 0.6997   Range 0.68-0.71**\n",
        "\n",
        "**for v2:  0.5266   Range  0.51-0.533**\n",
        "\n",
        "**for v3:  0.6045  Range0.59-0.62**\n",
        "\n",
        "**for v4: 0.6612    Range 0.65-0.68**"
      ]
    },
    {
      "cell_type": "code",
      "execution_count": null,
      "metadata": {
        "colab": {
          "base_uri": "https://localhost:8080/"
        },
        "id": "h_PbV3f08Vvv",
        "outputId": "2dfa82cf-96a2-4a85-c4f3-6c79987eb636"
      },
      "outputs": [
        {
          "data": {
            "text/plain": [
              "0.6612588886428845"
            ]
          },
          "execution_count": 64,
          "metadata": {},
          "output_type": "execute_result"
        }
      ],
      "source": [
        "from sklearn.metrics import r2_score\n",
        "y_pred = lasso.predict(X_test_norm)\n",
        "r2_score(y_test,y_pred)"
      ]
    },
    {
      "cell_type": "markdown",
      "metadata": {
        "id": "jV7M8F4QniMb"
      },
      "source": [
        "# Common Instructions for Q29, Q30\n",
        "\n",
        "Create a Pipeline using   PolynomialFeatures(degree=2) and StandardScaler as transforms   by keeping final estimator as RidgeCV.\n",
        "\n",
        "i) Select best alpha from alpha_list = [1e-4,1e-3, 1e-2, 1e-1, 1].\n",
        "\n",
        "ii) Use r2_score as scoring parameter.\n",
        "\n",
        "iii) Use Random permutation cross-validator  \"ShuffleSplit\" for cv and Keep number of re-shuffling & splitting iterations parameter n_split=10, test size =0.2 and random_state=10.\n"
      ]
    },
    {
      "cell_type": "code",
      "execution_count": null,
      "metadata": {
        "id": "EFWny7e7FrQt"
      },
      "outputs": [],
      "source": [
        "from sklearn.linear_model import RidgeCV\n",
        "from sklearn.model_selection import GridSearchCV\n",
        "from sklearn.preprocessing import PolynomialFeatures\n",
        "from sklearn.preprocessing import StandardScaler\n",
        "from sklearn.pipeline import Pipeline\n",
        "import numpy as np\n",
        "from sklearn.model_selection import ShuffleSplit\n",
        "cv = ShuffleSplit(n_splits=10, test_size=0.2, random_state=10)\n",
        "alpha_list = [1e-4,1e-3, 1e-2, 1e-1, 1]\n",
        "ridge_reg = Pipeline([(\"poly\", PolynomialFeatures(degree=2)),\n",
        "                              (\"feature_scaling\", StandardScaler()),\n",
        "                              (\"ridge_cv\", RidgeCV(alphas=alpha_list,\n",
        "                                                   cv=cv,scoring=\"r2\"\n",
        "                                                   ))])\n",
        "ridge_reg_cv_results = ridge_reg.fit(X_train, y_train)"
      ]
    },
    {
      "cell_type": "markdown",
      "metadata": {
        "id": "Me09P6vLDxVR"
      },
      "source": [
        "#Q29 [5 marks] Which of the following alpha  value gives  the best R2 score?\n",
        "\n",
        "Options:\n",
        "1.  1e-4\n",
        "2. 1e-3 \n",
        "3. 1e-2 <br>\n",
        "4. 1e-1 <br>\n",
        "5. 1 <br>\n",
        "\n",
        "**Ans:** \n",
        "\n",
        "**Option 5 for all version**"
      ]
    },
    {
      "cell_type": "code",
      "execution_count": null,
      "metadata": {
        "colab": {
          "base_uri": "https://localhost:8080/"
        },
        "id": "s9cYw1Z0Fv2S",
        "outputId": "4e400bdb-e33c-4822-9b92-ae10c83a2a91"
      },
      "outputs": [
        {
          "name": "stdout",
          "output_type": "stream",
          "text": [
            "The best value for alpha: 1.0\n"
          ]
        }
      ],
      "source": [
        "print (\"The best value for alpha:\", ridge_reg_cv_results[-1].alpha_)"
      ]
    },
    {
      "cell_type": "markdown",
      "metadata": {
        "id": "jV2SVXroLOAp"
      },
      "source": [
        "#Q30 [5 marks] What is the best r2_score you got with best alpha value?(Choose closest value) [MCQ]\n",
        "\n",
        "**Options:**\n",
        "\n",
        "- 0.75\n",
        "- 0.82\n",
        "-0.90\n",
        "-0.65\n",
        "\n",
        "\n",
        "**Ans:**\n",
        "\n",
        "\n",
        "- for v1: 0.75  \n",
        "\n",
        "- for v2:  0.82 \n",
        "\n",
        "- for v3: 0.82 \n",
        "\n",
        "- for v4: 0.82  "
      ]
    },
    {
      "cell_type": "code",
      "execution_count": null,
      "metadata": {
        "colab": {
          "base_uri": "https://localhost:8080/"
        },
        "id": "TCUwNrFPFtoe",
        "outputId": "327329c6-1f7e-49d9-c79e-819b229b80cd"
      },
      "outputs": [
        {
          "name": "stdout",
          "output_type": "stream",
          "text": [
            "The R2 score on train data with the best alpha is: 0.842\n"
          ]
        }
      ],
      "source": [
        "print (\"The R2 score on train data with the best alpha is:\", \n",
        "       f\"{ridge_reg_cv_results[-1].best_score_:.3f}\")"
      ]
    }
  ],
  "metadata": {
    "colab": {
      "collapsed_sections": [
        "jtkzFM-G9nR2",
        "aNhid4ce-FP2",
        "syqQR_nxEPWj",
        "pXVBv2gAEfaz",
        "eUxvJzUWOfxt",
        "rdmUBGKz9Gh6",
        "SVdanytLAOVi",
        "gTq0wNOlSxAH",
        "huo_DnuM9xtv",
        "GVrIUgX2AzNK",
        "9KlTnqs7TUBb"
      ],
      "name": "Viva Ques MLP OPE 1.ipynb",
      "provenance": [],
      "toc_visible": true
    },
    "kernelspec": {
      "display_name": "Python 3",
      "name": "python3"
    },
    "language_info": {
      "name": "python"
    }
  },
  "nbformat": 4,
  "nbformat_minor": 0
}